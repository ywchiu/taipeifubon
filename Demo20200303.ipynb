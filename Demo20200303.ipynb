{
 "cells": [
  {
   "cell_type": "markdown",
   "metadata": {},
   "source": [
    "## Pandas"
   ]
  },
  {
   "cell_type": "code",
   "execution_count": 1,
   "metadata": {},
   "outputs": [
    {
     "data": {
      "text/plain": [
       "list"
      ]
     },
     "execution_count": 1,
     "metadata": {},
     "output_type": "execute_result"
    }
   ],
   "source": [
    "a = [1,2,3]\n",
    "type(a)"
   ]
  },
  {
   "cell_type": "code",
   "execution_count": 2,
   "metadata": {},
   "outputs": [
    {
     "data": {
      "text/plain": [
       "array([1, 2, 3])"
      ]
     },
     "execution_count": 2,
     "metadata": {},
     "output_type": "execute_result"
    }
   ],
   "source": [
    "import numpy \n",
    "na = numpy.array(a)\n",
    "na"
   ]
  },
  {
   "cell_type": "code",
   "execution_count": 3,
   "metadata": {},
   "outputs": [
    {
     "data": {
      "text/plain": [
       "numpy.ndarray"
      ]
     },
     "execution_count": 3,
     "metadata": {},
     "output_type": "execute_result"
    }
   ],
   "source": [
    "type(na)"
   ]
  },
  {
   "cell_type": "code",
   "execution_count": 4,
   "metadata": {},
   "outputs": [
    {
     "data": {
      "text/plain": [
       "array([4, 5, 6])"
      ]
     },
     "execution_count": 4,
     "metadata": {},
     "output_type": "execute_result"
    }
   ],
   "source": [
    "na + 3"
   ]
  },
  {
   "cell_type": "code",
   "execution_count": 5,
   "metadata": {},
   "outputs": [
    {
     "data": {
      "text/plain": [
       "array([1, 4, 9])"
      ]
     },
     "execution_count": 5,
     "metadata": {},
     "output_type": "execute_result"
    }
   ],
   "source": [
    "na ** 2"
   ]
  },
  {
   "cell_type": "code",
   "execution_count": 6,
   "metadata": {},
   "outputs": [],
   "source": [
    "import pandas\n",
    "pa = pandas.Series(a)"
   ]
  },
  {
   "cell_type": "code",
   "execution_count": 7,
   "metadata": {},
   "outputs": [
    {
     "data": {
      "text/plain": [
       "0    1\n",
       "1    2\n",
       "2    3\n",
       "dtype: int64"
      ]
     },
     "execution_count": 7,
     "metadata": {},
     "output_type": "execute_result"
    }
   ],
   "source": [
    "pa"
   ]
  },
  {
   "cell_type": "code",
   "execution_count": 8,
   "metadata": {},
   "outputs": [],
   "source": [
    "customers = [\n",
    " {'name': 'John', 'gender': 'M', 'age':32},\n",
    " {'name': 'Mary', 'gender': 'F', 'age':18}\n",
    "]"
   ]
  },
  {
   "cell_type": "code",
   "execution_count": 10,
   "metadata": {},
   "outputs": [
    {
     "data": {
      "text/html": [
       "<div>\n",
       "<style scoped>\n",
       "    .dataframe tbody tr th:only-of-type {\n",
       "        vertical-align: middle;\n",
       "    }\n",
       "\n",
       "    .dataframe tbody tr th {\n",
       "        vertical-align: top;\n",
       "    }\n",
       "\n",
       "    .dataframe thead th {\n",
       "        text-align: right;\n",
       "    }\n",
       "</style>\n",
       "<table border=\"1\" class=\"dataframe\">\n",
       "  <thead>\n",
       "    <tr style=\"text-align: right;\">\n",
       "      <th></th>\n",
       "      <th>age</th>\n",
       "      <th>gender</th>\n",
       "      <th>name</th>\n",
       "    </tr>\n",
       "  </thead>\n",
       "  <tbody>\n",
       "    <tr>\n",
       "      <th>0</th>\n",
       "      <td>32</td>\n",
       "      <td>M</td>\n",
       "      <td>John</td>\n",
       "    </tr>\n",
       "    <tr>\n",
       "      <th>1</th>\n",
       "      <td>18</td>\n",
       "      <td>F</td>\n",
       "      <td>Mary</td>\n",
       "    </tr>\n",
       "  </tbody>\n",
       "</table>\n",
       "</div>"
      ],
      "text/plain": [
       "   age gender  name\n",
       "0   32      M  John\n",
       "1   18      F  Mary"
      ]
     },
     "execution_count": 10,
     "metadata": {},
     "output_type": "execute_result"
    }
   ],
   "source": [
    "import pandas\n",
    "df = pandas.DataFrame(customers)\n",
    "df"
   ]
  },
  {
   "cell_type": "code",
   "execution_count": 11,
   "metadata": {},
   "outputs": [
    {
     "name": "stdout",
     "output_type": "stream",
     "text": [
      "<class 'pandas.core.frame.DataFrame'>\n",
      "RangeIndex: 2 entries, 0 to 1\n",
      "Data columns (total 3 columns):\n",
      "age       2 non-null int64\n",
      "gender    2 non-null object\n",
      "name      2 non-null object\n",
      "dtypes: int64(1), object(2)\n",
      "memory usage: 128.0+ bytes\n"
     ]
    }
   ],
   "source": [
    "df.info()"
   ]
  },
  {
   "cell_type": "code",
   "execution_count": 12,
   "metadata": {},
   "outputs": [
    {
     "data": {
      "text/html": [
       "<div>\n",
       "<style scoped>\n",
       "    .dataframe tbody tr th:only-of-type {\n",
       "        vertical-align: middle;\n",
       "    }\n",
       "\n",
       "    .dataframe tbody tr th {\n",
       "        vertical-align: top;\n",
       "    }\n",
       "\n",
       "    .dataframe thead th {\n",
       "        text-align: right;\n",
       "    }\n",
       "</style>\n",
       "<table border=\"1\" class=\"dataframe\">\n",
       "  <thead>\n",
       "    <tr style=\"text-align: right;\">\n",
       "      <th></th>\n",
       "      <th>age</th>\n",
       "    </tr>\n",
       "  </thead>\n",
       "  <tbody>\n",
       "    <tr>\n",
       "      <th>count</th>\n",
       "      <td>2.000000</td>\n",
       "    </tr>\n",
       "    <tr>\n",
       "      <th>mean</th>\n",
       "      <td>25.000000</td>\n",
       "    </tr>\n",
       "    <tr>\n",
       "      <th>std</th>\n",
       "      <td>9.899495</td>\n",
       "    </tr>\n",
       "    <tr>\n",
       "      <th>min</th>\n",
       "      <td>18.000000</td>\n",
       "    </tr>\n",
       "    <tr>\n",
       "      <th>25%</th>\n",
       "      <td>21.500000</td>\n",
       "    </tr>\n",
       "    <tr>\n",
       "      <th>50%</th>\n",
       "      <td>25.000000</td>\n",
       "    </tr>\n",
       "    <tr>\n",
       "      <th>75%</th>\n",
       "      <td>28.500000</td>\n",
       "    </tr>\n",
       "    <tr>\n",
       "      <th>max</th>\n",
       "      <td>32.000000</td>\n",
       "    </tr>\n",
       "  </tbody>\n",
       "</table>\n",
       "</div>"
      ],
      "text/plain": [
       "             age\n",
       "count   2.000000\n",
       "mean   25.000000\n",
       "std     9.899495\n",
       "min    18.000000\n",
       "25%    21.500000\n",
       "50%    25.000000\n",
       "75%    28.500000\n",
       "max    32.000000"
      ]
     },
     "execution_count": 12,
     "metadata": {},
     "output_type": "execute_result"
    }
   ],
   "source": [
    "df.describe()"
   ]
  },
  {
   "cell_type": "code",
   "execution_count": 13,
   "metadata": {},
   "outputs": [
    {
     "data": {
      "text/html": [
       "<div>\n",
       "<style scoped>\n",
       "    .dataframe tbody tr th:only-of-type {\n",
       "        vertical-align: middle;\n",
       "    }\n",
       "\n",
       "    .dataframe tbody tr th {\n",
       "        vertical-align: top;\n",
       "    }\n",
       "\n",
       "    .dataframe thead th {\n",
       "        text-align: right;\n",
       "    }\n",
       "</style>\n",
       "<table border=\"1\" class=\"dataframe\">\n",
       "  <thead>\n",
       "    <tr style=\"text-align: right;\">\n",
       "      <th></th>\n",
       "      <th>age</th>\n",
       "      <th>gender</th>\n",
       "      <th>name</th>\n",
       "    </tr>\n",
       "  </thead>\n",
       "  <tbody>\n",
       "    <tr>\n",
       "      <th>0</th>\n",
       "      <td>32</td>\n",
       "      <td>M</td>\n",
       "      <td>John</td>\n",
       "    </tr>\n",
       "  </tbody>\n",
       "</table>\n",
       "</div>"
      ],
      "text/plain": [
       "   age gender  name\n",
       "0   32      M  John"
      ]
     },
     "execution_count": 13,
     "metadata": {},
     "output_type": "execute_result"
    }
   ],
   "source": [
    "df.head(1)"
   ]
  },
  {
   "cell_type": "code",
   "execution_count": 14,
   "metadata": {},
   "outputs": [
    {
     "data": {
      "text/html": [
       "<div>\n",
       "<style scoped>\n",
       "    .dataframe tbody tr th:only-of-type {\n",
       "        vertical-align: middle;\n",
       "    }\n",
       "\n",
       "    .dataframe tbody tr th {\n",
       "        vertical-align: top;\n",
       "    }\n",
       "\n",
       "    .dataframe thead th {\n",
       "        text-align: right;\n",
       "    }\n",
       "</style>\n",
       "<table border=\"1\" class=\"dataframe\">\n",
       "  <thead>\n",
       "    <tr style=\"text-align: right;\">\n",
       "      <th></th>\n",
       "      <th>age</th>\n",
       "      <th>gender</th>\n",
       "      <th>name</th>\n",
       "    </tr>\n",
       "  </thead>\n",
       "  <tbody>\n",
       "    <tr>\n",
       "      <th>0</th>\n",
       "      <td>32</td>\n",
       "      <td>M</td>\n",
       "      <td>John</td>\n",
       "    </tr>\n",
       "  </tbody>\n",
       "</table>\n",
       "</div>"
      ],
      "text/plain": [
       "   age gender  name\n",
       "0   32      M  John"
      ]
     },
     "execution_count": 14,
     "metadata": {},
     "output_type": "execute_result"
    }
   ],
   "source": [
    "df[df['gender'] == 'M']"
   ]
  },
  {
   "cell_type": "markdown",
   "metadata": {},
   "source": [
    "## Pandas 進階分析"
   ]
  },
  {
   "cell_type": "code",
   "execution_count": 15,
   "metadata": {},
   "outputs": [],
   "source": [
    "import pandas as pd\n",
    "namesall = []\n",
    "for year in range(1880, 2011):\n",
    "    path = 'names/yob' + str(year) + '.txt'\n",
    "    df = pd.read_csv(path, names=['name', 'sex', 'births'])\n",
    "    \n",
    "    df['year'] = year\n",
    "    namesall.append(df)\n"
   ]
  },
  {
   "cell_type": "code",
   "execution_count": 16,
   "metadata": {},
   "outputs": [
    {
     "data": {
      "text/plain": [
       "131"
      ]
     },
     "execution_count": 16,
     "metadata": {},
     "output_type": "execute_result"
    }
   ],
   "source": [
    "len(namesall)"
   ]
  },
  {
   "cell_type": "code",
   "execution_count": 18,
   "metadata": {},
   "outputs": [
    {
     "data": {
      "text/plain": [
       "pandas.core.frame.DataFrame"
      ]
     },
     "execution_count": 18,
     "metadata": {},
     "output_type": "execute_result"
    }
   ],
   "source": [
    "type(namesall[0])"
   ]
  },
  {
   "cell_type": "code",
   "execution_count": 19,
   "metadata": {},
   "outputs": [],
   "source": [
    "df_names =  pd.concat(namesall, ignore_index=True)\n"
   ]
  },
  {
   "cell_type": "code",
   "execution_count": 21,
   "metadata": {},
   "outputs": [
    {
     "name": "stdout",
     "output_type": "stream",
     "text": [
      "<class 'pandas.core.frame.DataFrame'>\n",
      "RangeIndex: 1690784 entries, 0 to 1690783\n",
      "Data columns (total 4 columns):\n",
      "name      1690784 non-null object\n",
      "sex       1690784 non-null object\n",
      "births    1690784 non-null int64\n",
      "year      1690784 non-null int64\n",
      "dtypes: int64(2), object(2)\n",
      "memory usage: 51.6+ MB\n"
     ]
    }
   ],
   "source": [
    "df_names.info()"
   ]
  },
  {
   "cell_type": "code",
   "execution_count": 24,
   "metadata": {},
   "outputs": [],
   "source": [
    "#df_names['sex'] == 'M'"
   ]
  },
  {
   "cell_type": "code",
   "execution_count": 25,
   "metadata": {},
   "outputs": [],
   "source": [
    "df_last_letter = df_names[df_names['sex'] == 'M']"
   ]
  },
  {
   "cell_type": "code",
   "execution_count": 30,
   "metadata": {},
   "outputs": [
    {
     "data": {
      "text/plain": [
       "'n'"
      ]
     },
     "execution_count": 30,
     "metadata": {},
     "output_type": "execute_result"
    }
   ],
   "source": [
    "n = 'John'\n",
    "n[-1]"
   ]
  },
  {
   "cell_type": "code",
   "execution_count": 32,
   "metadata": {},
   "outputs": [
    {
     "name": "stderr",
     "output_type": "stream",
     "text": [
      "/Users/davidchiu/.pyenv/versions/3.6.2/lib/python3.6/site-packages/ipykernel_launcher.py:1: SettingWithCopyWarning: \n",
      "A value is trying to be set on a copy of a slice from a DataFrame.\n",
      "Try using .loc[row_indexer,col_indexer] = value instead\n",
      "\n",
      "See the caveats in the documentation: http://pandas.pydata.org/pandas-docs/stable/indexing.html#indexing-view-versus-copy\n",
      "  \"\"\"Entry point for launching an IPython kernel.\n"
     ]
    }
   ],
   "source": [
    "df_last_letter['last_letter'] = df_last_letter['name'].str[-1]"
   ]
  },
  {
   "cell_type": "code",
   "execution_count": 33,
   "metadata": {},
   "outputs": [
    {
     "data": {
      "text/html": [
       "<div>\n",
       "<style scoped>\n",
       "    .dataframe tbody tr th:only-of-type {\n",
       "        vertical-align: middle;\n",
       "    }\n",
       "\n",
       "    .dataframe tbody tr th {\n",
       "        vertical-align: top;\n",
       "    }\n",
       "\n",
       "    .dataframe thead th {\n",
       "        text-align: right;\n",
       "    }\n",
       "</style>\n",
       "<table border=\"1\" class=\"dataframe\">\n",
       "  <thead>\n",
       "    <tr style=\"text-align: right;\">\n",
       "      <th></th>\n",
       "      <th>name</th>\n",
       "      <th>sex</th>\n",
       "      <th>births</th>\n",
       "      <th>year</th>\n",
       "      <th>last_letter</th>\n",
       "    </tr>\n",
       "  </thead>\n",
       "  <tbody>\n",
       "    <tr>\n",
       "      <th>942</th>\n",
       "      <td>John</td>\n",
       "      <td>M</td>\n",
       "      <td>9655</td>\n",
       "      <td>1880</td>\n",
       "      <td>n</td>\n",
       "    </tr>\n",
       "    <tr>\n",
       "      <th>943</th>\n",
       "      <td>William</td>\n",
       "      <td>M</td>\n",
       "      <td>9533</td>\n",
       "      <td>1880</td>\n",
       "      <td>m</td>\n",
       "    </tr>\n",
       "    <tr>\n",
       "      <th>944</th>\n",
       "      <td>James</td>\n",
       "      <td>M</td>\n",
       "      <td>5927</td>\n",
       "      <td>1880</td>\n",
       "      <td>s</td>\n",
       "    </tr>\n",
       "    <tr>\n",
       "      <th>945</th>\n",
       "      <td>Charles</td>\n",
       "      <td>M</td>\n",
       "      <td>5348</td>\n",
       "      <td>1880</td>\n",
       "      <td>s</td>\n",
       "    </tr>\n",
       "    <tr>\n",
       "      <th>946</th>\n",
       "      <td>George</td>\n",
       "      <td>M</td>\n",
       "      <td>5126</td>\n",
       "      <td>1880</td>\n",
       "      <td>e</td>\n",
       "    </tr>\n",
       "    <tr>\n",
       "      <th>947</th>\n",
       "      <td>Frank</td>\n",
       "      <td>M</td>\n",
       "      <td>3242</td>\n",
       "      <td>1880</td>\n",
       "      <td>k</td>\n",
       "    </tr>\n",
       "    <tr>\n",
       "      <th>948</th>\n",
       "      <td>Joseph</td>\n",
       "      <td>M</td>\n",
       "      <td>2632</td>\n",
       "      <td>1880</td>\n",
       "      <td>h</td>\n",
       "    </tr>\n",
       "    <tr>\n",
       "      <th>949</th>\n",
       "      <td>Thomas</td>\n",
       "      <td>M</td>\n",
       "      <td>2534</td>\n",
       "      <td>1880</td>\n",
       "      <td>s</td>\n",
       "    </tr>\n",
       "    <tr>\n",
       "      <th>950</th>\n",
       "      <td>Henry</td>\n",
       "      <td>M</td>\n",
       "      <td>2444</td>\n",
       "      <td>1880</td>\n",
       "      <td>y</td>\n",
       "    </tr>\n",
       "    <tr>\n",
       "      <th>951</th>\n",
       "      <td>Robert</td>\n",
       "      <td>M</td>\n",
       "      <td>2416</td>\n",
       "      <td>1880</td>\n",
       "      <td>t</td>\n",
       "    </tr>\n",
       "  </tbody>\n",
       "</table>\n",
       "</div>"
      ],
      "text/plain": [
       "        name sex  births  year last_letter\n",
       "942     John   M    9655  1880           n\n",
       "943  William   M    9533  1880           m\n",
       "944    James   M    5927  1880           s\n",
       "945  Charles   M    5348  1880           s\n",
       "946   George   M    5126  1880           e\n",
       "947    Frank   M    3242  1880           k\n",
       "948   Joseph   M    2632  1880           h\n",
       "949   Thomas   M    2534  1880           s\n",
       "950    Henry   M    2444  1880           y\n",
       "951   Robert   M    2416  1880           t"
      ]
     },
     "execution_count": 33,
     "metadata": {},
     "output_type": "execute_result"
    }
   ],
   "source": [
    "df_last_letter.head(10)"
   ]
  },
  {
   "cell_type": "code",
   "execution_count": 52,
   "metadata": {},
   "outputs": [],
   "source": [
    "table = df_last_letter.pivot_table('births', index = 'last_letter',columns = ['year'], aggfunc=sum)"
   ]
  },
  {
   "cell_type": "code",
   "execution_count": 36,
   "metadata": {},
   "outputs": [],
   "source": [
    "#table"
   ]
  },
  {
   "cell_type": "code",
   "execution_count": 37,
   "metadata": {},
   "outputs": [],
   "source": [
    "subtable = table[[1906, 1956, 2006]]"
   ]
  },
  {
   "cell_type": "code",
   "execution_count": 39,
   "metadata": {},
   "outputs": [],
   "source": [
    "?subtable.head()"
   ]
  },
  {
   "cell_type": "code",
   "execution_count": 38,
   "metadata": {},
   "outputs": [
    {
     "data": {
      "text/html": [
       "<div>\n",
       "<style scoped>\n",
       "    .dataframe tbody tr th:only-of-type {\n",
       "        vertical-align: middle;\n",
       "    }\n",
       "\n",
       "    .dataframe tbody tr th {\n",
       "        vertical-align: top;\n",
       "    }\n",
       "\n",
       "    .dataframe thead th {\n",
       "        text-align: right;\n",
       "    }\n",
       "</style>\n",
       "<table border=\"1\" class=\"dataframe\">\n",
       "  <thead>\n",
       "    <tr style=\"text-align: right;\">\n",
       "      <th>year</th>\n",
       "      <th>1906</th>\n",
       "      <th>1956</th>\n",
       "      <th>2006</th>\n",
       "    </tr>\n",
       "    <tr>\n",
       "      <th>last_letter</th>\n",
       "      <th></th>\n",
       "      <th></th>\n",
       "      <th></th>\n",
       "    </tr>\n",
       "  </thead>\n",
       "  <tbody>\n",
       "    <tr>\n",
       "      <th>a</th>\n",
       "      <td>654.0</td>\n",
       "      <td>4936.0</td>\n",
       "      <td>36156.0</td>\n",
       "    </tr>\n",
       "    <tr>\n",
       "      <th>b</th>\n",
       "      <td>276.0</td>\n",
       "      <td>1980.0</td>\n",
       "      <td>42600.0</td>\n",
       "    </tr>\n",
       "    <tr>\n",
       "      <th>c</th>\n",
       "      <td>315.0</td>\n",
       "      <td>9848.0</td>\n",
       "      <td>26635.0</td>\n",
       "    </tr>\n",
       "    <tr>\n",
       "      <th>d</th>\n",
       "      <td>14892.0</td>\n",
       "      <td>285524.0</td>\n",
       "      <td>51410.0</td>\n",
       "    </tr>\n",
       "    <tr>\n",
       "      <th>e</th>\n",
       "      <td>19721.0</td>\n",
       "      <td>175848.0</td>\n",
       "      <td>142999.0</td>\n",
       "    </tr>\n",
       "  </tbody>\n",
       "</table>\n",
       "</div>"
      ],
      "text/plain": [
       "year            1906      1956      2006\n",
       "last_letter                             \n",
       "a              654.0    4936.0   36156.0\n",
       "b              276.0    1980.0   42600.0\n",
       "c              315.0    9848.0   26635.0\n",
       "d            14892.0  285524.0   51410.0\n",
       "e            19721.0  175848.0  142999.0"
      ]
     },
     "execution_count": 38,
     "metadata": {},
     "output_type": "execute_result"
    }
   ],
   "source": [
    "subtable.head()"
   ]
  },
  {
   "cell_type": "code",
   "execution_count": 41,
   "metadata": {},
   "outputs": [
    {
     "name": "stdout",
     "output_type": "stream",
     "text": [
      "Populating the interactive namespace from numpy and matplotlib\n"
     ]
    },
    {
     "name": "stderr",
     "output_type": "stream",
     "text": [
      "/Users/davidchiu/.pyenv/versions/3.6.2/lib/python3.6/site-packages/IPython/core/magics/pylab.py:161: UserWarning: pylab import has clobbered these variables: ['axes', 'table']\n",
      "`%matplotlib` prevents importing * from pylab and numpy\n",
      "  \"\\n`%matplotlib` prevents importing * from pylab and numpy\"\n"
     ]
    },
    {
     "data": {
      "image/png": "[encoded data removed]",
      "text/plain": [
       "<Figure size 1080x360 with 3 Axes>"
      ]
     },
     "metadata": {},
     "output_type": "display_data"
    }
   ],
   "source": [
    "%pylab inline\n",
    "import matplotlib.pyplot as plt\n",
    "\n",
    "fig, axes = plt.subplots(3, 1, figsize=(15,5))\n",
    "fig.subplots_adjust(hspace=0.5)\n",
    "\n",
    "subtable[1906].plot(kind='bar', rot=0, ax=axes[0], title='1906')\n",
    "subtable[1956].plot(kind='bar', rot=0, ax=axes[1], title='1956')\n",
    "subtable[2006].plot(kind='bar', rot=0, ax=axes[2], title='2006')\n",
    "\n",
    "plt.show()\n"
   ]
  },
  {
   "cell_type": "code",
   "execution_count": 42,
   "metadata": {},
   "outputs": [
    {
     "data": {
      "text/plain": [
       "<matplotlib.axes._subplots.AxesSubplot at 0x11c02a438>"
      ]
     },
     "execution_count": 42,
     "metadata": {},
     "output_type": "execute_result"
    },
    {
     "data": {
      "image/png": "[encoded data removed]",
      "text/plain": [
       "<Figure size 1080x360 with 1 Axes>"
      ]
     },
     "metadata": {},
     "output_type": "display_data"
    }
   ],
   "source": [
    "subtable.plot(kind='bar', rot=0, figsize=(15, 5))\n"
   ]
  },
  {
   "cell_type": "code",
   "execution_count": 45,
   "metadata": {},
   "outputs": [
    {
     "data": {
      "text/plain": [
       "year\n",
       "1906     133159.0\n",
       "1956    2113067.0\n",
       "2006    2050234.0\n",
       "dtype: float64"
      ]
     },
     "execution_count": 45,
     "metadata": {},
     "output_type": "execute_result"
    }
   ],
   "source": [
    "subtable.sum(axis=0)"
   ]
  },
  {
   "cell_type": "code",
   "execution_count": 46,
   "metadata": {},
   "outputs": [
    {
     "data": {
      "text/plain": [
       "last_letter\n",
       "a      41746.0\n",
       "b      44856.0\n",
       "c      36798.0\n",
       "d     351826.0\n",
       "e     338568.0\n",
       "f       4879.0\n",
       "g      14059.0\n",
       "h     188857.0\n",
       "i      34824.0\n",
       "j       1241.0\n",
       "k     141384.0\n",
       "l     392811.0\n",
       "m     121569.0\n",
       "n    1054687.0\n",
       "o     122331.0\n",
       "p      15185.0\n",
       "q        430.0\n",
       "r     249869.0\n",
       "s     400640.0\n",
       "t     191114.0\n",
       "u       2305.0\n",
       "v       2077.0\n",
       "w      56122.0\n",
       "x      18212.0\n",
       "y     466588.0\n",
       "z       3482.0\n",
       "dtype: float64"
      ]
     },
     "execution_count": 46,
     "metadata": {},
     "output_type": "execute_result"
    }
   ],
   "source": [
    "subtable.sum(axis=1)"
   ]
  },
  {
   "cell_type": "code",
   "execution_count": 47,
   "metadata": {},
   "outputs": [],
   "source": [
    "ratio_subtable = subtable / subtable.sum(axis=0)\n"
   ]
  },
  {
   "cell_type": "code",
   "execution_count": 48,
   "metadata": {},
   "outputs": [
    {
     "data": {
      "text/html": [
       "<div>\n",
       "<style scoped>\n",
       "    .dataframe tbody tr th:only-of-type {\n",
       "        vertical-align: middle;\n",
       "    }\n",
       "\n",
       "    .dataframe tbody tr th {\n",
       "        vertical-align: top;\n",
       "    }\n",
       "\n",
       "    .dataframe thead th {\n",
       "        text-align: right;\n",
       "    }\n",
       "</style>\n",
       "<table border=\"1\" class=\"dataframe\">\n",
       "  <thead>\n",
       "    <tr style=\"text-align: right;\">\n",
       "      <th>year</th>\n",
       "      <th>1906</th>\n",
       "      <th>1956</th>\n",
       "      <th>2006</th>\n",
       "    </tr>\n",
       "    <tr>\n",
       "      <th>last_letter</th>\n",
       "      <th></th>\n",
       "      <th></th>\n",
       "      <th></th>\n",
       "    </tr>\n",
       "  </thead>\n",
       "  <tbody>\n",
       "    <tr>\n",
       "      <th>a</th>\n",
       "      <td>0.004911</td>\n",
       "      <td>0.002336</td>\n",
       "      <td>0.017635</td>\n",
       "    </tr>\n",
       "    <tr>\n",
       "      <th>b</th>\n",
       "      <td>0.002073</td>\n",
       "      <td>0.000937</td>\n",
       "      <td>0.020778</td>\n",
       "    </tr>\n",
       "    <tr>\n",
       "      <th>c</th>\n",
       "      <td>0.002366</td>\n",
       "      <td>0.004661</td>\n",
       "      <td>0.012991</td>\n",
       "    </tr>\n",
       "    <tr>\n",
       "      <th>d</th>\n",
       "      <td>0.111836</td>\n",
       "      <td>0.135123</td>\n",
       "      <td>0.025075</td>\n",
       "    </tr>\n",
       "    <tr>\n",
       "      <th>e</th>\n",
       "      <td>0.148101</td>\n",
       "      <td>0.083219</td>\n",
       "      <td>0.069748</td>\n",
       "    </tr>\n",
       "    <tr>\n",
       "      <th>f</th>\n",
       "      <td>0.001044</td>\n",
       "      <td>0.001312</td>\n",
       "      <td>0.000960</td>\n",
       "    </tr>\n",
       "    <tr>\n",
       "      <th>g</th>\n",
       "      <td>0.001998</td>\n",
       "      <td>0.005615</td>\n",
       "      <td>0.000941</td>\n",
       "    </tr>\n",
       "    <tr>\n",
       "      <th>h</th>\n",
       "      <td>0.045239</td>\n",
       "      <td>0.039921</td>\n",
       "      <td>0.048032</td>\n",
       "    </tr>\n",
       "    <tr>\n",
       "      <th>i</th>\n",
       "      <td>0.000804</td>\n",
       "      <td>0.000548</td>\n",
       "      <td>0.016368</td>\n",
       "    </tr>\n",
       "    <tr>\n",
       "      <th>j</th>\n",
       "      <td>NaN</td>\n",
       "      <td>NaN</td>\n",
       "      <td>0.000605</td>\n",
       "    </tr>\n",
       "    <tr>\n",
       "      <th>k</th>\n",
       "      <td>0.036573</td>\n",
       "      <td>0.044474</td>\n",
       "      <td>0.020747</td>\n",
       "    </tr>\n",
       "    <tr>\n",
       "      <th>l</th>\n",
       "      <td>0.066207</td>\n",
       "      <td>0.107787</td>\n",
       "      <td>0.076203</td>\n",
       "    </tr>\n",
       "    <tr>\n",
       "      <th>m</th>\n",
       "      <td>0.061438</td>\n",
       "      <td>0.033546</td>\n",
       "      <td>0.020731</td>\n",
       "    </tr>\n",
       "    <tr>\n",
       "      <th>n</th>\n",
       "      <td>0.141447</td>\n",
       "      <td>0.149003</td>\n",
       "      <td>0.351666</td>\n",
       "    </tr>\n",
       "    <tr>\n",
       "      <th>o</th>\n",
       "      <td>0.013720</td>\n",
       "      <td>0.011431</td>\n",
       "      <td>0.046995</td>\n",
       "    </tr>\n",
       "    <tr>\n",
       "      <th>p</th>\n",
       "      <td>0.003222</td>\n",
       "      <td>0.005696</td>\n",
       "      <td>0.001327</td>\n",
       "    </tr>\n",
       "    <tr>\n",
       "      <th>q</th>\n",
       "      <td>NaN</td>\n",
       "      <td>NaN</td>\n",
       "      <td>0.000210</td>\n",
       "    </tr>\n",
       "    <tr>\n",
       "      <th>r</th>\n",
       "      <td>0.067070</td>\n",
       "      <td>0.030500</td>\n",
       "      <td>0.086083</td>\n",
       "    </tr>\n",
       "    <tr>\n",
       "      <th>s</th>\n",
       "      <td>0.130581</td>\n",
       "      <td>0.113588</td>\n",
       "      <td>0.069861</td>\n",
       "    </tr>\n",
       "    <tr>\n",
       "      <th>t</th>\n",
       "      <td>0.072425</td>\n",
       "      <td>0.065269</td>\n",
       "      <td>0.021243</td>\n",
       "    </tr>\n",
       "    <tr>\n",
       "      <th>u</th>\n",
       "      <td>NaN</td>\n",
       "      <td>0.000049</td>\n",
       "      <td>0.001074</td>\n",
       "    </tr>\n",
       "    <tr>\n",
       "      <th>v</th>\n",
       "      <td>0.000105</td>\n",
       "      <td>0.000025</td>\n",
       "      <td>0.000980</td>\n",
       "    </tr>\n",
       "    <tr>\n",
       "      <th>w</th>\n",
       "      <td>0.006038</td>\n",
       "      <td>0.005727</td>\n",
       "      <td>0.021079</td>\n",
       "    </tr>\n",
       "    <tr>\n",
       "      <th>x</th>\n",
       "      <td>0.003838</td>\n",
       "      <td>0.001755</td>\n",
       "      <td>0.006825</td>\n",
       "    </tr>\n",
       "    <tr>\n",
       "      <th>y</th>\n",
       "      <td>0.078786</td>\n",
       "      <td>0.157302</td>\n",
       "      <td>0.060338</td>\n",
       "    </tr>\n",
       "    <tr>\n",
       "      <th>z</th>\n",
       "      <td>0.000180</td>\n",
       "      <td>0.000176</td>\n",
       "      <td>0.001505</td>\n",
       "    </tr>\n",
       "  </tbody>\n",
       "</table>\n",
       "</div>"
      ],
      "text/plain": [
       "year             1906      1956      2006\n",
       "last_letter                              \n",
       "a            0.004911  0.002336  0.017635\n",
       "b            0.002073  0.000937  0.020778\n",
       "c            0.002366  0.004661  0.012991\n",
       "d            0.111836  0.135123  0.025075\n",
       "e            0.148101  0.083219  0.069748\n",
       "f            0.001044  0.001312  0.000960\n",
       "g            0.001998  0.005615  0.000941\n",
       "h            0.045239  0.039921  0.048032\n",
       "i            0.000804  0.000548  0.016368\n",
       "j                 NaN       NaN  0.000605\n",
       "k            0.036573  0.044474  0.020747\n",
       "l            0.066207  0.107787  0.076203\n",
       "m            0.061438  0.033546  0.020731\n",
       "n            0.141447  0.149003  0.351666\n",
       "o            0.013720  0.011431  0.046995\n",
       "p            0.003222  0.005696  0.001327\n",
       "q                 NaN       NaN  0.000210\n",
       "r            0.067070  0.030500  0.086083\n",
       "s            0.130581  0.113588  0.069861\n",
       "t            0.072425  0.065269  0.021243\n",
       "u                 NaN  0.000049  0.001074\n",
       "v            0.000105  0.000025  0.000980\n",
       "w            0.006038  0.005727  0.021079\n",
       "x            0.003838  0.001755  0.006825\n",
       "y            0.078786  0.157302  0.060338\n",
       "z            0.000180  0.000176  0.001505"
      ]
     },
     "execution_count": 48,
     "metadata": {},
     "output_type": "execute_result"
    }
   ],
   "source": [
    "ratio_subtable"
   ]
  },
  {
   "cell_type": "code",
   "execution_count": 49,
   "metadata": {},
   "outputs": [
    {
     "data": {
      "text/plain": [
       "<matplotlib.axes._subplots.AxesSubplot at 0x120fbadd8>"
      ]
     },
     "execution_count": 49,
     "metadata": {},
     "output_type": "execute_result"
    },
    {
     "data": {
      "image/png": "[encoded data removed]",
      "text/plain": [
       "<Figure size 1080x360 with 1 Axes>"
      ]
     },
     "metadata": {},
     "output_type": "display_data"
    }
   ],
   "source": [
    "ratio_subtable.plot(kind='bar', rot=0, figsize=(15, 5))\n"
   ]
  },
  {
   "cell_type": "code",
   "execution_count": 53,
   "metadata": {},
   "outputs": [],
   "source": [
    "ratio_table = table / table.sum(axis=0)\n"
   ]
  },
  {
   "cell_type": "code",
   "execution_count": 54,
   "metadata": {},
   "outputs": [
    {
     "data": {
      "text/html": [
       "<div>\n",
       "<style scoped>\n",
       "    .dataframe tbody tr th:only-of-type {\n",
       "        vertical-align: middle;\n",
       "    }\n",
       "\n",
       "    .dataframe tbody tr th {\n",
       "        vertical-align: top;\n",
       "    }\n",
       "\n",
       "    .dataframe thead th {\n",
       "        text-align: right;\n",
       "    }\n",
       "</style>\n",
       "<table border=\"1\" class=\"dataframe\">\n",
       "  <thead>\n",
       "    <tr style=\"text-align: right;\">\n",
       "      <th>year</th>\n",
       "      <th>1880</th>\n",
       "      <th>1881</th>\n",
       "      <th>1882</th>\n",
       "      <th>1883</th>\n",
       "      <th>1884</th>\n",
       "      <th>1885</th>\n",
       "      <th>1886</th>\n",
       "      <th>1887</th>\n",
       "      <th>1888</th>\n",
       "      <th>1889</th>\n",
       "      <th>...</th>\n",
       "      <th>2001</th>\n",
       "      <th>2002</th>\n",
       "      <th>2003</th>\n",
       "      <th>2004</th>\n",
       "      <th>2005</th>\n",
       "      <th>2006</th>\n",
       "      <th>2007</th>\n",
       "      <th>2008</th>\n",
       "      <th>2009</th>\n",
       "      <th>2010</th>\n",
       "    </tr>\n",
       "    <tr>\n",
       "      <th>last_letter</th>\n",
       "      <th></th>\n",
       "      <th></th>\n",
       "      <th></th>\n",
       "      <th></th>\n",
       "      <th></th>\n",
       "      <th></th>\n",
       "      <th></th>\n",
       "      <th></th>\n",
       "      <th></th>\n",
       "      <th></th>\n",
       "      <th></th>\n",
       "      <th></th>\n",
       "      <th></th>\n",
       "      <th></th>\n",
       "      <th></th>\n",
       "      <th></th>\n",
       "      <th></th>\n",
       "      <th></th>\n",
       "      <th></th>\n",
       "      <th></th>\n",
       "      <th></th>\n",
       "    </tr>\n",
       "  </thead>\n",
       "  <tbody>\n",
       "    <tr>\n",
       "      <th>a</th>\n",
       "      <td>0.007023</td>\n",
       "      <td>0.007613</td>\n",
       "      <td>0.006799</td>\n",
       "      <td>0.007235</td>\n",
       "      <td>0.007139</td>\n",
       "      <td>0.006614</td>\n",
       "      <td>0.006996</td>\n",
       "      <td>0.006903</td>\n",
       "      <td>0.006777</td>\n",
       "      <td>0.006366</td>\n",
       "      <td>...</td>\n",
       "      <td>0.020162</td>\n",
       "      <td>0.020019</td>\n",
       "      <td>0.019177</td>\n",
       "      <td>0.019505</td>\n",
       "      <td>0.018481</td>\n",
       "      <td>0.017635</td>\n",
       "      <td>0.016747</td>\n",
       "      <td>0.016189</td>\n",
       "      <td>0.015927</td>\n",
       "      <td>0.014980</td>\n",
       "    </tr>\n",
       "    <tr>\n",
       "      <th>b</th>\n",
       "      <td>0.004607</td>\n",
       "      <td>0.004665</td>\n",
       "      <td>0.004451</td>\n",
       "      <td>0.004320</td>\n",
       "      <td>0.004334</td>\n",
       "      <td>0.004091</td>\n",
       "      <td>0.004080</td>\n",
       "      <td>0.004280</td>\n",
       "      <td>0.003872</td>\n",
       "      <td>0.003517</td>\n",
       "      <td>...</td>\n",
       "      <td>0.026256</td>\n",
       "      <td>0.025418</td>\n",
       "      <td>0.024368</td>\n",
       "      <td>0.023171</td>\n",
       "      <td>0.021645</td>\n",
       "      <td>0.020778</td>\n",
       "      <td>0.020357</td>\n",
       "      <td>0.019655</td>\n",
       "      <td>0.019693</td>\n",
       "      <td>0.020470</td>\n",
       "    </tr>\n",
       "    <tr>\n",
       "      <th>c</th>\n",
       "      <td>0.003159</td>\n",
       "      <td>0.003285</td>\n",
       "      <td>0.003070</td>\n",
       "      <td>0.002858</td>\n",
       "      <td>0.002787</td>\n",
       "      <td>0.002792</td>\n",
       "      <td>0.002554</td>\n",
       "      <td>0.002574</td>\n",
       "      <td>0.002524</td>\n",
       "      <td>0.002450</td>\n",
       "      <td>...</td>\n",
       "      <td>0.013972</td>\n",
       "      <td>0.014048</td>\n",
       "      <td>0.014042</td>\n",
       "      <td>0.013514</td>\n",
       "      <td>0.013083</td>\n",
       "      <td>0.012991</td>\n",
       "      <td>0.012983</td>\n",
       "      <td>0.012458</td>\n",
       "      <td>0.012186</td>\n",
       "      <td>0.012181</td>\n",
       "    </tr>\n",
       "    <tr>\n",
       "      <th>d</th>\n",
       "      <td>0.083055</td>\n",
       "      <td>0.083247</td>\n",
       "      <td>0.085340</td>\n",
       "      <td>0.084066</td>\n",
       "      <td>0.086120</td>\n",
       "      <td>0.085472</td>\n",
       "      <td>0.087647</td>\n",
       "      <td>0.089072</td>\n",
       "      <td>0.087707</td>\n",
       "      <td>0.091934</td>\n",
       "      <td>...</td>\n",
       "      <td>0.031352</td>\n",
       "      <td>0.028794</td>\n",
       "      <td>0.027069</td>\n",
       "      <td>0.026118</td>\n",
       "      <td>0.025420</td>\n",
       "      <td>0.025075</td>\n",
       "      <td>0.024451</td>\n",
       "      <td>0.023574</td>\n",
       "      <td>0.023398</td>\n",
       "      <td>0.023387</td>\n",
       "    </tr>\n",
       "    <tr>\n",
       "      <th>e</th>\n",
       "      <td>0.122116</td>\n",
       "      <td>0.123139</td>\n",
       "      <td>0.128537</td>\n",
       "      <td>0.126070</td>\n",
       "      <td>0.127895</td>\n",
       "      <td>0.130313</td>\n",
       "      <td>0.130658</td>\n",
       "      <td>0.130280</td>\n",
       "      <td>0.130270</td>\n",
       "      <td>0.130111</td>\n",
       "      <td>...</td>\n",
       "      <td>0.074927</td>\n",
       "      <td>0.074603</td>\n",
       "      <td>0.073396</td>\n",
       "      <td>0.071710</td>\n",
       "      <td>0.070799</td>\n",
       "      <td>0.069748</td>\n",
       "      <td>0.069445</td>\n",
       "      <td>0.069362</td>\n",
       "      <td>0.068663</td>\n",
       "      <td>0.067959</td>\n",
       "    </tr>\n",
       "    <tr>\n",
       "      <th>f</th>\n",
       "      <td>0.000977</td>\n",
       "      <td>0.000824</td>\n",
       "      <td>0.001187</td>\n",
       "      <td>0.001013</td>\n",
       "      <td>0.001145</td>\n",
       "      <td>0.001067</td>\n",
       "      <td>0.001011</td>\n",
       "      <td>0.001223</td>\n",
       "      <td>0.001158</td>\n",
       "      <td>0.001121</td>\n",
       "      <td>...</td>\n",
       "      <td>0.000906</td>\n",
       "      <td>0.000937</td>\n",
       "      <td>0.000922</td>\n",
       "      <td>0.000961</td>\n",
       "      <td>0.000996</td>\n",
       "      <td>0.000960</td>\n",
       "      <td>0.001010</td>\n",
       "      <td>0.001080</td>\n",
       "      <td>0.001121</td>\n",
       "      <td>0.001188</td>\n",
       "    </tr>\n",
       "    <tr>\n",
       "      <th>g</th>\n",
       "      <td>0.001330</td>\n",
       "      <td>0.001449</td>\n",
       "      <td>0.001284</td>\n",
       "      <td>0.001290</td>\n",
       "      <td>0.001398</td>\n",
       "      <td>0.001688</td>\n",
       "      <td>0.001273</td>\n",
       "      <td>0.001154</td>\n",
       "      <td>0.001572</td>\n",
       "      <td>0.001121</td>\n",
       "      <td>...</td>\n",
       "      <td>0.001108</td>\n",
       "      <td>0.001075</td>\n",
       "      <td>0.001019</td>\n",
       "      <td>0.000927</td>\n",
       "      <td>0.000944</td>\n",
       "      <td>0.000941</td>\n",
       "      <td>0.000986</td>\n",
       "      <td>0.001013</td>\n",
       "      <td>0.001214</td>\n",
       "      <td>0.001404</td>\n",
       "    </tr>\n",
       "    <tr>\n",
       "      <th>h</th>\n",
       "      <td>0.036645</td>\n",
       "      <td>0.037380</td>\n",
       "      <td>0.036732</td>\n",
       "      <td>0.037512</td>\n",
       "      <td>0.037066</td>\n",
       "      <td>0.037615</td>\n",
       "      <td>0.036891</td>\n",
       "      <td>0.038960</td>\n",
       "      <td>0.038376</td>\n",
       "      <td>0.038530</td>\n",
       "      <td>...</td>\n",
       "      <td>0.044297</td>\n",
       "      <td>0.045429</td>\n",
       "      <td>0.044729</td>\n",
       "      <td>0.045227</td>\n",
       "      <td>0.046404</td>\n",
       "      <td>0.048032</td>\n",
       "      <td>0.048044</td>\n",
       "      <td>0.049328</td>\n",
       "      <td>0.050664</td>\n",
       "      <td>0.051670</td>\n",
       "    </tr>\n",
       "    <tr>\n",
       "      <th>i</th>\n",
       "      <td>0.001810</td>\n",
       "      <td>0.002045</td>\n",
       "      <td>0.001821</td>\n",
       "      <td>0.001596</td>\n",
       "      <td>0.001381</td>\n",
       "      <td>0.001364</td>\n",
       "      <td>0.001544</td>\n",
       "      <td>0.001371</td>\n",
       "      <td>0.001498</td>\n",
       "      <td>0.001393</td>\n",
       "      <td>...</td>\n",
       "      <td>0.010812</td>\n",
       "      <td>0.012177</td>\n",
       "      <td>0.013187</td>\n",
       "      <td>0.014383</td>\n",
       "      <td>0.015711</td>\n",
       "      <td>0.016368</td>\n",
       "      <td>0.017026</td>\n",
       "      <td>0.018772</td>\n",
       "      <td>0.020732</td>\n",
       "      <td>0.022628</td>\n",
       "    </tr>\n",
       "    <tr>\n",
       "      <th>j</th>\n",
       "      <td>NaN</td>\n",
       "      <td>NaN</td>\n",
       "      <td>NaN</td>\n",
       "      <td>NaN</td>\n",
       "      <td>NaN</td>\n",
       "      <td>NaN</td>\n",
       "      <td>NaN</td>\n",
       "      <td>NaN</td>\n",
       "      <td>NaN</td>\n",
       "      <td>NaN</td>\n",
       "      <td>...</td>\n",
       "      <td>0.000551</td>\n",
       "      <td>0.000561</td>\n",
       "      <td>0.000610</td>\n",
       "      <td>0.000552</td>\n",
       "      <td>0.000648</td>\n",
       "      <td>0.000605</td>\n",
       "      <td>0.000606</td>\n",
       "      <td>0.000680</td>\n",
       "      <td>0.000718</td>\n",
       "      <td>0.000769</td>\n",
       "    </tr>\n",
       "    <tr>\n",
       "      <th>k</th>\n",
       "      <td>0.042718</td>\n",
       "      <td>0.041182</td>\n",
       "      <td>0.041544</td>\n",
       "      <td>0.041928</td>\n",
       "      <td>0.041679</td>\n",
       "      <td>0.042318</td>\n",
       "      <td>0.042262</td>\n",
       "      <td>0.042668</td>\n",
       "      <td>0.042182</td>\n",
       "      <td>0.040872</td>\n",
       "      <td>...</td>\n",
       "      <td>0.021890</td>\n",
       "      <td>0.021683</td>\n",
       "      <td>0.021444</td>\n",
       "      <td>0.020893</td>\n",
       "      <td>0.021146</td>\n",
       "      <td>0.020747</td>\n",
       "      <td>0.020363</td>\n",
       "      <td>0.019467</td>\n",
       "      <td>0.019007</td>\n",
       "      <td>0.018541</td>\n",
       "    </tr>\n",
       "    <tr>\n",
       "      <th>l</th>\n",
       "      <td>0.046066</td>\n",
       "      <td>0.045371</td>\n",
       "      <td>0.047736</td>\n",
       "      <td>0.048742</td>\n",
       "      <td>0.048967</td>\n",
       "      <td>0.049795</td>\n",
       "      <td>0.050720</td>\n",
       "      <td>0.052834</td>\n",
       "      <td>0.053179</td>\n",
       "      <td>0.054616</td>\n",
       "      <td>...</td>\n",
       "      <td>0.079180</td>\n",
       "      <td>0.079163</td>\n",
       "      <td>0.078006</td>\n",
       "      <td>0.077111</td>\n",
       "      <td>0.077918</td>\n",
       "      <td>0.076203</td>\n",
       "      <td>0.075005</td>\n",
       "      <td>0.074197</td>\n",
       "      <td>0.072846</td>\n",
       "      <td>0.070367</td>\n",
       "    </tr>\n",
       "    <tr>\n",
       "      <th>m</th>\n",
       "      <td>0.101907</td>\n",
       "      <td>0.101411</td>\n",
       "      <td>0.099000</td>\n",
       "      <td>0.096663</td>\n",
       "      <td>0.093774</td>\n",
       "      <td>0.091000</td>\n",
       "      <td>0.090617</td>\n",
       "      <td>0.089546</td>\n",
       "      <td>0.087914</td>\n",
       "      <td>0.085387</td>\n",
       "      <td>...</td>\n",
       "      <td>0.021627</td>\n",
       "      <td>0.022003</td>\n",
       "      <td>0.021694</td>\n",
       "      <td>0.021727</td>\n",
       "      <td>0.020870</td>\n",
       "      <td>0.020731</td>\n",
       "      <td>0.021196</td>\n",
       "      <td>0.021806</td>\n",
       "      <td>0.023451</td>\n",
       "      <td>0.024657</td>\n",
       "    </tr>\n",
       "    <tr>\n",
       "      <th>n</th>\n",
       "      <td>0.153213</td>\n",
       "      <td>0.153214</td>\n",
       "      <td>0.149560</td>\n",
       "      <td>0.151646</td>\n",
       "      <td>0.149915</td>\n",
       "      <td>0.146361</td>\n",
       "      <td>0.149659</td>\n",
       "      <td>0.148838</td>\n",
       "      <td>0.151286</td>\n",
       "      <td>0.151976</td>\n",
       "      <td>...</td>\n",
       "      <td>0.317495</td>\n",
       "      <td>0.325086</td>\n",
       "      <td>0.336344</td>\n",
       "      <td>0.341151</td>\n",
       "      <td>0.344319</td>\n",
       "      <td>0.351666</td>\n",
       "      <td>0.358274</td>\n",
       "      <td>0.361101</td>\n",
       "      <td>0.362523</td>\n",
       "      <td>0.362771</td>\n",
       "    </tr>\n",
       "    <tr>\n",
       "      <th>o</th>\n",
       "      <td>0.008444</td>\n",
       "      <td>0.007941</td>\n",
       "      <td>0.008145</td>\n",
       "      <td>0.007761</td>\n",
       "      <td>0.008205</td>\n",
       "      <td>0.008933</td>\n",
       "      <td>0.008720</td>\n",
       "      <td>0.009604</td>\n",
       "      <td>0.010227</td>\n",
       "      <td>0.010173</td>\n",
       "      <td>...</td>\n",
       "      <td>0.042332</td>\n",
       "      <td>0.042900</td>\n",
       "      <td>0.043308</td>\n",
       "      <td>0.044824</td>\n",
       "      <td>0.046155</td>\n",
       "      <td>0.046995</td>\n",
       "      <td>0.046826</td>\n",
       "      <td>0.045015</td>\n",
       "      <td>0.043795</td>\n",
       "      <td>0.042681</td>\n",
       "    </tr>\n",
       "    <tr>\n",
       "      <th>p</th>\n",
       "      <td>0.002552</td>\n",
       "      <td>0.002690</td>\n",
       "      <td>0.002709</td>\n",
       "      <td>0.002733</td>\n",
       "      <td>0.002403</td>\n",
       "      <td>0.002625</td>\n",
       "      <td>0.002744</td>\n",
       "      <td>0.002603</td>\n",
       "      <td>0.002780</td>\n",
       "      <td>0.002559</td>\n",
       "      <td>...</td>\n",
       "      <td>0.001762</td>\n",
       "      <td>0.001628</td>\n",
       "      <td>0.001512</td>\n",
       "      <td>0.001434</td>\n",
       "      <td>0.001389</td>\n",
       "      <td>0.001327</td>\n",
       "      <td>0.001324</td>\n",
       "      <td>0.001298</td>\n",
       "      <td>0.001315</td>\n",
       "      <td>0.001269</td>\n",
       "    </tr>\n",
       "    <tr>\n",
       "      <th>q</th>\n",
       "      <td>NaN</td>\n",
       "      <td>NaN</td>\n",
       "      <td>NaN</td>\n",
       "      <td>NaN</td>\n",
       "      <td>NaN</td>\n",
       "      <td>NaN</td>\n",
       "      <td>NaN</td>\n",
       "      <td>NaN</td>\n",
       "      <td>NaN</td>\n",
       "      <td>NaN</td>\n",
       "      <td>...</td>\n",
       "      <td>0.000310</td>\n",
       "      <td>0.000319</td>\n",
       "      <td>0.000297</td>\n",
       "      <td>0.000264</td>\n",
       "      <td>0.000224</td>\n",
       "      <td>0.000210</td>\n",
       "      <td>0.000208</td>\n",
       "      <td>0.000167</td>\n",
       "      <td>0.000191</td>\n",
       "      <td>0.000180</td>\n",
       "    </tr>\n",
       "    <tr>\n",
       "      <th>r</th>\n",
       "      <td>0.067461</td>\n",
       "      <td>0.072190</td>\n",
       "      <td>0.070263</td>\n",
       "      <td>0.071775</td>\n",
       "      <td>0.078492</td>\n",
       "      <td>0.079312</td>\n",
       "      <td>0.076157</td>\n",
       "      <td>0.075139</td>\n",
       "      <td>0.075072</td>\n",
       "      <td>0.075775</td>\n",
       "      <td>...</td>\n",
       "      <td>0.085224</td>\n",
       "      <td>0.085006</td>\n",
       "      <td>0.086126</td>\n",
       "      <td>0.085515</td>\n",
       "      <td>0.086324</td>\n",
       "      <td>0.086083</td>\n",
       "      <td>0.085639</td>\n",
       "      <td>0.085928</td>\n",
       "      <td>0.087769</td>\n",
       "      <td>0.087477</td>\n",
       "    </tr>\n",
       "    <tr>\n",
       "      <th>s</th>\n",
       "      <td>0.167006</td>\n",
       "      <td>0.162495</td>\n",
       "      <td>0.160441</td>\n",
       "      <td>0.158116</td>\n",
       "      <td>0.154764</td>\n",
       "      <td>0.152418</td>\n",
       "      <td>0.151131</td>\n",
       "      <td>0.147014</td>\n",
       "      <td>0.143244</td>\n",
       "      <td>0.142065</td>\n",
       "      <td>...</td>\n",
       "      <td>0.074100</td>\n",
       "      <td>0.071995</td>\n",
       "      <td>0.070285</td>\n",
       "      <td>0.070471</td>\n",
       "      <td>0.070192</td>\n",
       "      <td>0.069861</td>\n",
       "      <td>0.068699</td>\n",
       "      <td>0.067439</td>\n",
       "      <td>0.065807</td>\n",
       "      <td>0.065145</td>\n",
       "    </tr>\n",
       "    <tr>\n",
       "      <th>t</th>\n",
       "      <td>0.062891</td>\n",
       "      <td>0.061818</td>\n",
       "      <td>0.062285</td>\n",
       "      <td>0.064550</td>\n",
       "      <td>0.061235</td>\n",
       "      <td>0.063468</td>\n",
       "      <td>0.062725</td>\n",
       "      <td>0.062468</td>\n",
       "      <td>0.064506</td>\n",
       "      <td>0.063252</td>\n",
       "      <td>...</td>\n",
       "      <td>0.024575</td>\n",
       "      <td>0.023204</td>\n",
       "      <td>0.022188</td>\n",
       "      <td>0.022139</td>\n",
       "      <td>0.021758</td>\n",
       "      <td>0.021243</td>\n",
       "      <td>0.020992</td>\n",
       "      <td>0.021574</td>\n",
       "      <td>0.022132</td>\n",
       "      <td>0.022861</td>\n",
       "    </tr>\n",
       "    <tr>\n",
       "      <th>u</th>\n",
       "      <td>0.000226</td>\n",
       "      <td>0.000258</td>\n",
       "      <td>0.000088</td>\n",
       "      <td>0.000153</td>\n",
       "      <td>0.000131</td>\n",
       "      <td>0.000121</td>\n",
       "      <td>0.000081</td>\n",
       "      <td>0.000099</td>\n",
       "      <td>0.000124</td>\n",
       "      <td>0.000154</td>\n",
       "      <td>...</td>\n",
       "      <td>0.000945</td>\n",
       "      <td>0.000938</td>\n",
       "      <td>0.001040</td>\n",
       "      <td>0.001079</td>\n",
       "      <td>0.001068</td>\n",
       "      <td>0.001074</td>\n",
       "      <td>0.001117</td>\n",
       "      <td>0.001183</td>\n",
       "      <td>0.001225</td>\n",
       "      <td>0.001221</td>\n",
       "    </tr>\n",
       "    <tr>\n",
       "      <th>v</th>\n",
       "      <td>0.000299</td>\n",
       "      <td>0.000179</td>\n",
       "      <td>0.000378</td>\n",
       "      <td>0.000421</td>\n",
       "      <td>0.000315</td>\n",
       "      <td>0.000260</td>\n",
       "      <td>0.000289</td>\n",
       "      <td>0.000335</td>\n",
       "      <td>0.000248</td>\n",
       "      <td>0.000244</td>\n",
       "      <td>...</td>\n",
       "      <td>0.000623</td>\n",
       "      <td>0.000687</td>\n",
       "      <td>0.000838</td>\n",
       "      <td>0.000920</td>\n",
       "      <td>0.000900</td>\n",
       "      <td>0.000980</td>\n",
       "      <td>0.001109</td>\n",
       "      <td>0.001190</td>\n",
       "      <td>0.001312</td>\n",
       "      <td>0.001434</td>\n",
       "    </tr>\n",
       "    <tr>\n",
       "      <th>w</th>\n",
       "      <td>0.007720</td>\n",
       "      <td>0.007424</td>\n",
       "      <td>0.007697</td>\n",
       "      <td>0.007589</td>\n",
       "      <td>0.007217</td>\n",
       "      <td>0.007254</td>\n",
       "      <td>0.007266</td>\n",
       "      <td>0.006794</td>\n",
       "      <td>0.006810</td>\n",
       "      <td>0.006845</td>\n",
       "      <td>...</td>\n",
       "      <td>0.026934</td>\n",
       "      <td>0.025840</td>\n",
       "      <td>0.024882</td>\n",
       "      <td>0.023999</td>\n",
       "      <td>0.022809</td>\n",
       "      <td>0.021079</td>\n",
       "      <td>0.019452</td>\n",
       "      <td>0.018175</td>\n",
       "      <td>0.016814</td>\n",
       "      <td>0.016148</td>\n",
       "    </tr>\n",
       "    <tr>\n",
       "      <th>x</th>\n",
       "      <td>0.002751</td>\n",
       "      <td>0.002650</td>\n",
       "      <td>0.003123</td>\n",
       "      <td>0.002705</td>\n",
       "      <td>0.002997</td>\n",
       "      <td>0.003080</td>\n",
       "      <td>0.003177</td>\n",
       "      <td>0.003146</td>\n",
       "      <td>0.003566</td>\n",
       "      <td>0.002903</td>\n",
       "      <td>...</td>\n",
       "      <td>0.005509</td>\n",
       "      <td>0.005678</td>\n",
       "      <td>0.005941</td>\n",
       "      <td>0.006257</td>\n",
       "      <td>0.006534</td>\n",
       "      <td>0.006825</td>\n",
       "      <td>0.006914</td>\n",
       "      <td>0.007299</td>\n",
       "      <td>0.008432</td>\n",
       "      <td>0.008614</td>\n",
       "    </tr>\n",
       "    <tr>\n",
       "      <th>y</th>\n",
       "      <td>0.075760</td>\n",
       "      <td>0.077451</td>\n",
       "      <td>0.077537</td>\n",
       "      <td>0.079144</td>\n",
       "      <td>0.080405</td>\n",
       "      <td>0.081882</td>\n",
       "      <td>0.081681</td>\n",
       "      <td>0.082870</td>\n",
       "      <td>0.084919</td>\n",
       "      <td>0.086328</td>\n",
       "      <td>...</td>\n",
       "      <td>0.071687</td>\n",
       "      <td>0.069397</td>\n",
       "      <td>0.066197</td>\n",
       "      <td>0.064781</td>\n",
       "      <td>0.062806</td>\n",
       "      <td>0.060338</td>\n",
       "      <td>0.059634</td>\n",
       "      <td>0.060342</td>\n",
       "      <td>0.057223</td>\n",
       "      <td>0.058168</td>\n",
       "    </tr>\n",
       "    <tr>\n",
       "      <th>z</th>\n",
       "      <td>0.000262</td>\n",
       "      <td>0.000079</td>\n",
       "      <td>0.000273</td>\n",
       "      <td>0.000115</td>\n",
       "      <td>0.000236</td>\n",
       "      <td>0.000158</td>\n",
       "      <td>0.000117</td>\n",
       "      <td>0.000227</td>\n",
       "      <td>0.000190</td>\n",
       "      <td>0.000307</td>\n",
       "      <td>...</td>\n",
       "      <td>0.001464</td>\n",
       "      <td>0.001412</td>\n",
       "      <td>0.001380</td>\n",
       "      <td>0.001368</td>\n",
       "      <td>0.001456</td>\n",
       "      <td>0.001505</td>\n",
       "      <td>0.001595</td>\n",
       "      <td>0.001709</td>\n",
       "      <td>0.001841</td>\n",
       "      <td>0.001831</td>\n",
       "    </tr>\n",
       "  </tbody>\n",
       "</table>\n",
       "<p>26 rows × 131 columns</p>\n",
       "</div>"
      ],
      "text/plain": [
       "year             1880      1881      1882      1883      1884      1885  \\\n",
       "last_letter                                                               \n",
       "a            0.007023  0.007613  0.006799  0.007235  0.007139  0.006614   \n",
       "b            0.004607  0.004665  0.004451  0.004320  0.004334  0.004091   \n",
       "c            0.003159  0.003285  0.003070  0.002858  0.002787  0.002792   \n",
       "d            0.083055  0.083247  0.085340  0.084066  0.086120  0.085472   \n",
       "e            0.122116  0.123139  0.128537  0.126070  0.127895  0.130313   \n",
       "f            0.000977  0.000824  0.001187  0.001013  0.001145  0.001067   \n",
       "g            0.001330  0.001449  0.001284  0.001290  0.001398  0.001688   \n",
       "h            0.036645  0.037380  0.036732  0.037512  0.037066  0.037615   \n",
       "i            0.001810  0.002045  0.001821  0.001596  0.001381  0.001364   \n",
       "j                 NaN       NaN       NaN       NaN       NaN       NaN   \n",
       "k            0.042718  0.041182  0.041544  0.041928  0.041679  0.042318   \n",
       "l            0.046066  0.045371  0.047736  0.048742  0.048967  0.049795   \n",
       "m            0.101907  0.101411  0.099000  0.096663  0.093774  0.091000   \n",
       "n            0.153213  0.153214  0.149560  0.151646  0.149915  0.146361   \n",
       "o            0.008444  0.007941  0.008145  0.007761  0.008205  0.008933   \n",
       "p            0.002552  0.002690  0.002709  0.002733  0.002403  0.002625   \n",
       "q                 NaN       NaN       NaN       NaN       NaN       NaN   \n",
       "r            0.067461  0.072190  0.070263  0.071775  0.078492  0.079312   \n",
       "s            0.167006  0.162495  0.160441  0.158116  0.154764  0.152418   \n",
       "t            0.062891  0.061818  0.062285  0.064550  0.061235  0.063468   \n",
       "u            0.000226  0.000258  0.000088  0.000153  0.000131  0.000121   \n",
       "v            0.000299  0.000179  0.000378  0.000421  0.000315  0.000260   \n",
       "w            0.007720  0.007424  0.007697  0.007589  0.007217  0.007254   \n",
       "x            0.002751  0.002650  0.003123  0.002705  0.002997  0.003080   \n",
       "y            0.075760  0.077451  0.077537  0.079144  0.080405  0.081882   \n",
       "z            0.000262  0.000079  0.000273  0.000115  0.000236  0.000158   \n",
       "\n",
       "year             1886      1887      1888      1889  ...      2001      2002  \\\n",
       "last_letter                                          ...                       \n",
       "a            0.006996  0.006903  0.006777  0.006366  ...  0.020162  0.020019   \n",
       "b            0.004080  0.004280  0.003872  0.003517  ...  0.026256  0.025418   \n",
       "c            0.002554  0.002574  0.002524  0.002450  ...  0.013972  0.014048   \n",
       "d            0.087647  0.089072  0.087707  0.091934  ...  0.031352  0.028794   \n",
       "e            0.130658  0.130280  0.130270  0.130111  ...  0.074927  0.074603   \n",
       "f            0.001011  0.001223  0.001158  0.001121  ...  0.000906  0.000937   \n",
       "g            0.001273  0.001154  0.001572  0.001121  ...  0.001108  0.001075   \n",
       "h            0.036891  0.038960  0.038376  0.038530  ...  0.044297  0.045429   \n",
       "i            0.001544  0.001371  0.001498  0.001393  ...  0.010812  0.012177   \n",
       "j                 NaN       NaN       NaN       NaN  ...  0.000551  0.000561   \n",
       "k            0.042262  0.042668  0.042182  0.040872  ...  0.021890  0.021683   \n",
       "l            0.050720  0.052834  0.053179  0.054616  ...  0.079180  0.079163   \n",
       "m            0.090617  0.089546  0.087914  0.085387  ...  0.021627  0.022003   \n",
       "n            0.149659  0.148838  0.151286  0.151976  ...  0.317495  0.325086   \n",
       "o            0.008720  0.009604  0.010227  0.010173  ...  0.042332  0.042900   \n",
       "p            0.002744  0.002603  0.002780  0.002559  ...  0.001762  0.001628   \n",
       "q                 NaN       NaN       NaN       NaN  ...  0.000310  0.000319   \n",
       "r            0.076157  0.075139  0.075072  0.075775  ...  0.085224  0.085006   \n",
       "s            0.151131  0.147014  0.143244  0.142065  ...  0.074100  0.071995   \n",
       "t            0.062725  0.062468  0.064506  0.063252  ...  0.024575  0.023204   \n",
       "u            0.000081  0.000099  0.000124  0.000154  ...  0.000945  0.000938   \n",
       "v            0.000289  0.000335  0.000248  0.000244  ...  0.000623  0.000687   \n",
       "w            0.007266  0.006794  0.006810  0.006845  ...  0.026934  0.025840   \n",
       "x            0.003177  0.003146  0.003566  0.002903  ...  0.005509  0.005678   \n",
       "y            0.081681  0.082870  0.084919  0.086328  ...  0.071687  0.069397   \n",
       "z            0.000117  0.000227  0.000190  0.000307  ...  0.001464  0.001412   \n",
       "\n",
       "year             2003      2004      2005      2006      2007      2008  \\\n",
       "last_letter                                                               \n",
       "a            0.019177  0.019505  0.018481  0.017635  0.016747  0.016189   \n",
       "b            0.024368  0.023171  0.021645  0.020778  0.020357  0.019655   \n",
       "c            0.014042  0.013514  0.013083  0.012991  0.012983  0.012458   \n",
       "d            0.027069  0.026118  0.025420  0.025075  0.024451  0.023574   \n",
       "e            0.073396  0.071710  0.070799  0.069748  0.069445  0.069362   \n",
       "f            0.000922  0.000961  0.000996  0.000960  0.001010  0.001080   \n",
       "g            0.001019  0.000927  0.000944  0.000941  0.000986  0.001013   \n",
       "h            0.044729  0.045227  0.046404  0.048032  0.048044  0.049328   \n",
       "i            0.013187  0.014383  0.015711  0.016368  0.017026  0.018772   \n",
       "j            0.000610  0.000552  0.000648  0.000605  0.000606  0.000680   \n",
       "k            0.021444  0.020893  0.021146  0.020747  0.020363  0.019467   \n",
       "l            0.078006  0.077111  0.077918  0.076203  0.075005  0.074197   \n",
       "m            0.021694  0.021727  0.020870  0.020731  0.021196  0.021806   \n",
       "n            0.336344  0.341151  0.344319  0.351666  0.358274  0.361101   \n",
       "o            0.043308  0.044824  0.046155  0.046995  0.046826  0.045015   \n",
       "p            0.001512  0.001434  0.001389  0.001327  0.001324  0.001298   \n",
       "q            0.000297  0.000264  0.000224  0.000210  0.000208  0.000167   \n",
       "r            0.086126  0.085515  0.086324  0.086083  0.085639  0.085928   \n",
       "s            0.070285  0.070471  0.070192  0.069861  0.068699  0.067439   \n",
       "t            0.022188  0.022139  0.021758  0.021243  0.020992  0.021574   \n",
       "u            0.001040  0.001079  0.001068  0.001074  0.001117  0.001183   \n",
       "v            0.000838  0.000920  0.000900  0.000980  0.001109  0.001190   \n",
       "w            0.024882  0.023999  0.022809  0.021079  0.019452  0.018175   \n",
       "x            0.005941  0.006257  0.006534  0.006825  0.006914  0.007299   \n",
       "y            0.066197  0.064781  0.062806  0.060338  0.059634  0.060342   \n",
       "z            0.001380  0.001368  0.001456  0.001505  0.001595  0.001709   \n",
       "\n",
       "year             2009      2010  \n",
       "last_letter                      \n",
       "a            0.015927  0.014980  \n",
       "b            0.019693  0.020470  \n",
       "c            0.012186  0.012181  \n",
       "d            0.023398  0.023387  \n",
       "e            0.068663  0.067959  \n",
       "f            0.001121  0.001188  \n",
       "g            0.001214  0.001404  \n",
       "h            0.050664  0.051670  \n",
       "i            0.020732  0.022628  \n",
       "j            0.000718  0.000769  \n",
       "k            0.019007  0.018541  \n",
       "l            0.072846  0.070367  \n",
       "m            0.023451  0.024657  \n",
       "n            0.362523  0.362771  \n",
       "o            0.043795  0.042681  \n",
       "p            0.001315  0.001269  \n",
       "q            0.000191  0.000180  \n",
       "r            0.087769  0.087477  \n",
       "s            0.065807  0.065145  \n",
       "t            0.022132  0.022861  \n",
       "u            0.001225  0.001221  \n",
       "v            0.001312  0.001434  \n",
       "w            0.016814  0.016148  \n",
       "x            0.008432  0.008614  \n",
       "y            0.057223  0.058168  \n",
       "z            0.001841  0.001831  \n",
       "\n",
       "[26 rows x 131 columns]"
      ]
     },
     "execution_count": 54,
     "metadata": {},
     "output_type": "execute_result"
    }
   ],
   "source": [
    "ratio_table\n"
   ]
  },
  {
   "cell_type": "code",
   "execution_count": 56,
   "metadata": {},
   "outputs": [],
   "source": [
    "dny = ratio_table.loc[['d', 'n', 'y']]\n"
   ]
  },
  {
   "cell_type": "code",
   "execution_count": 59,
   "metadata": {},
   "outputs": [],
   "source": [
    "#dny.plot(kind='line', rot=0)\n"
   ]
  },
  {
   "cell_type": "code",
   "execution_count": 62,
   "metadata": {},
   "outputs": [
    {
     "data": {
      "text/html": [
       "<div>\n",
       "<style scoped>\n",
       "    .dataframe tbody tr th:only-of-type {\n",
       "        vertical-align: middle;\n",
       "    }\n",
       "\n",
       "    .dataframe tbody tr th {\n",
       "        vertical-align: top;\n",
       "    }\n",
       "\n",
       "    .dataframe thead th {\n",
       "        text-align: right;\n",
       "    }\n",
       "</style>\n",
       "<table border=\"1\" class=\"dataframe\">\n",
       "  <thead>\n",
       "    <tr style=\"text-align: right;\">\n",
       "      <th>last_letter</th>\n",
       "      <th>d</th>\n",
       "      <th>n</th>\n",
       "      <th>y</th>\n",
       "    </tr>\n",
       "    <tr>\n",
       "      <th>year</th>\n",
       "      <th></th>\n",
       "      <th></th>\n",
       "      <th></th>\n",
       "    </tr>\n",
       "  </thead>\n",
       "  <tbody>\n",
       "    <tr>\n",
       "      <th>1880</th>\n",
       "      <td>0.083055</td>\n",
       "      <td>0.153213</td>\n",
       "      <td>0.075760</td>\n",
       "    </tr>\n",
       "    <tr>\n",
       "      <th>1881</th>\n",
       "      <td>0.083247</td>\n",
       "      <td>0.153214</td>\n",
       "      <td>0.077451</td>\n",
       "    </tr>\n",
       "    <tr>\n",
       "      <th>1882</th>\n",
       "      <td>0.085340</td>\n",
       "      <td>0.149560</td>\n",
       "      <td>0.077537</td>\n",
       "    </tr>\n",
       "    <tr>\n",
       "      <th>1883</th>\n",
       "      <td>0.084066</td>\n",
       "      <td>0.151646</td>\n",
       "      <td>0.079144</td>\n",
       "    </tr>\n",
       "    <tr>\n",
       "      <th>1884</th>\n",
       "      <td>0.086120</td>\n",
       "      <td>0.149915</td>\n",
       "      <td>0.080405</td>\n",
       "    </tr>\n",
       "  </tbody>\n",
       "</table>\n",
       "</div>"
      ],
      "text/plain": [
       "last_letter         d         n         y\n",
       "year                                     \n",
       "1880         0.083055  0.153213  0.075760\n",
       "1881         0.083247  0.153214  0.077451\n",
       "1882         0.085340  0.149560  0.077537\n",
       "1883         0.084066  0.151646  0.079144\n",
       "1884         0.086120  0.149915  0.080405"
      ]
     },
     "execution_count": 62,
     "metadata": {},
     "output_type": "execute_result"
    }
   ],
   "source": [
    "dny.T.head()"
   ]
  },
  {
   "cell_type": "code",
   "execution_count": 63,
   "metadata": {},
   "outputs": [
    {
     "data": {
      "text/plain": [
       "<matplotlib.axes._subplots.AxesSubplot at 0x126d09780>"
      ]
     },
     "execution_count": 63,
     "metadata": {},
     "output_type": "execute_result"
    },
    {
     "data": {
      "image/png": "[encoded data removed]",
      "text/plain": [
       "<Figure size 1080x360 with 1 Axes>"
      ]
     },
     "metadata": {},
     "output_type": "display_data"
    }
   ],
   "source": [
    "dny.T.plot(rot=0, figsize=(15, 5))\n"
   ]
  },
  {
   "cell_type": "code",
   "execution_count": 66,
   "metadata": {},
   "outputs": [
    {
     "data": {
      "text/html": [
       "<div>\n",
       "<style scoped>\n",
       "    .dataframe tbody tr th:only-of-type {\n",
       "        vertical-align: middle;\n",
       "    }\n",
       "\n",
       "    .dataframe tbody tr th {\n",
       "        vertical-align: top;\n",
       "    }\n",
       "\n",
       "    .dataframe thead th {\n",
       "        text-align: right;\n",
       "    }\n",
       "</style>\n",
       "<table border=\"1\" class=\"dataframe\">\n",
       "  <thead>\n",
       "    <tr style=\"text-align: right;\">\n",
       "      <th></th>\n",
       "      <th>name</th>\n",
       "      <th>sex</th>\n",
       "      <th>births</th>\n",
       "      <th>year</th>\n",
       "    </tr>\n",
       "  </thead>\n",
       "  <tbody>\n",
       "    <tr>\n",
       "      <th>0</th>\n",
       "      <td>Mary</td>\n",
       "      <td>F</td>\n",
       "      <td>7065</td>\n",
       "      <td>1880</td>\n",
       "    </tr>\n",
       "    <tr>\n",
       "      <th>1</th>\n",
       "      <td>Anna</td>\n",
       "      <td>F</td>\n",
       "      <td>2604</td>\n",
       "      <td>1880</td>\n",
       "    </tr>\n",
       "    <tr>\n",
       "      <th>2</th>\n",
       "      <td>Emma</td>\n",
       "      <td>F</td>\n",
       "      <td>2003</td>\n",
       "      <td>1880</td>\n",
       "    </tr>\n",
       "    <tr>\n",
       "      <th>3</th>\n",
       "      <td>Elizabeth</td>\n",
       "      <td>F</td>\n",
       "      <td>1939</td>\n",
       "      <td>1880</td>\n",
       "    </tr>\n",
       "    <tr>\n",
       "      <th>4</th>\n",
       "      <td>Minnie</td>\n",
       "      <td>F</td>\n",
       "      <td>1746</td>\n",
       "      <td>1880</td>\n",
       "    </tr>\n",
       "  </tbody>\n",
       "</table>\n",
       "</div>"
      ],
      "text/plain": [
       "        name sex  births  year\n",
       "0       Mary   F    7065  1880\n",
       "1       Anna   F    2604  1880\n",
       "2       Emma   F    2003  1880\n",
       "3  Elizabeth   F    1939  1880\n",
       "4     Minnie   F    1746  1880"
      ]
     },
     "execution_count": 66,
     "metadata": {},
     "output_type": "execute_result"
    }
   ],
   "source": [
    "df_names.head()"
   ]
  },
  {
   "cell_type": "code",
   "execution_count": 68,
   "metadata": {},
   "outputs": [],
   "source": [
    "#df_names['name'].isin(['David', 'John'])"
   ]
  },
  {
   "cell_type": "markdown",
   "metadata": {},
   "source": [
    "## 小測驗"
   ]
  },
  {
   "cell_type": "markdown",
   "metadata": {},
   "source": [
    "- 請使用pandas 的聚合(Aggregation)功能，統計菜市場名排行前十名男性的名字\n",
    "- 請將前十菜市場男性名從1880年到2010 年的出生數量變化，用折線圖繪出 (x = 年, y= 出生數, 線: 前十菜市場名)\n"
   ]
  },
  {
   "cell_type": "code",
   "execution_count": 74,
   "metadata": {},
   "outputs": [],
   "source": [
    "# SELECT name, SUM(births) FROM df_names \n",
    "# WHERE sex = 'M' GROUP BY name \n",
    "# ORDER BY SUM(births) DESC LIMIT 10\n",
    "#df_names['sex'] == 'M'\n",
    "top_10_names = df_names[df_names['sex'] == 'M'].groupby('name')['births'].sum().sort_values(ascending = False).head(10)"
   ]
  },
  {
   "cell_type": "code",
   "execution_count": 76,
   "metadata": {},
   "outputs": [
    {
     "data": {
      "text/plain": [
       "Index(['James', 'John', 'Robert', 'Michael', 'William', 'David', 'Richard',\n",
       "       'Joseph', 'Charles', 'Thomas'],\n",
       "      dtype='object', name='name')"
      ]
     },
     "execution_count": 76,
     "metadata": {},
     "output_type": "execute_result"
    }
   ],
   "source": [
    "top_10_names.index"
   ]
  },
  {
   "cell_type": "code",
   "execution_count": 80,
   "metadata": {},
   "outputs": [],
   "source": [
    "table = df_names[(df_names['name'].isin(top_10_names.index)) & \n",
    "         (df_names['sex']=='M')]"
   ]
  },
  {
   "cell_type": "code",
   "execution_count": 83,
   "metadata": {},
   "outputs": [],
   "source": [
    "df = table.pivot_table('births', index='year', columns='name', aggfunc=sum)"
   ]
  },
  {
   "cell_type": "code",
   "execution_count": 85,
   "metadata": {},
   "outputs": [
    {
     "data": {
      "text/plain": [
       "<matplotlib.axes._subplots.AxesSubplot at 0x1266acba8>"
      ]
     },
     "execution_count": 85,
     "metadata": {},
     "output_type": "execute_result"
    },
    {
     "data": {
      "image/png": "[encoded data removed]",
      "text/plain": [
       "<Figure size 1080x360 with 1 Axes>"
      ]
     },
     "metadata": {},
     "output_type": "display_data"
    }
   ],
   "source": [
    "df.plot(rot=0, figsize=(15, 5))\n"
   ]
  },
  {
   "cell_type": "markdown",
   "metadata": {},
   "source": [
    "## 敘述性統計"
   ]
  },
  {
   "cell_type": "code",
   "execution_count": 86,
   "metadata": {},
   "outputs": [],
   "source": [
    "import pandas\n",
    "df = pandas.read_csv('https://raw.githubusercontent.com/ywchiu/taipeifubon/master/data/2330.csv')"
   ]
  },
  {
   "cell_type": "code",
   "execution_count": 89,
   "metadata": {},
   "outputs": [
    {
     "data": {
      "text/html": [
       "<div>\n",
       "<style scoped>\n",
       "    .dataframe tbody tr th:only-of-type {\n",
       "        vertical-align: middle;\n",
       "    }\n",
       "\n",
       "    .dataframe tbody tr th {\n",
       "        vertical-align: top;\n",
       "    }\n",
       "\n",
       "    .dataframe thead th {\n",
       "        text-align: right;\n",
       "    }\n",
       "</style>\n",
       "<table border=\"1\" class=\"dataframe\">\n",
       "  <thead>\n",
       "    <tr style=\"text-align: right;\">\n",
       "      <th></th>\n",
       "      <th>Date</th>\n",
       "      <th>Open</th>\n",
       "      <th>High</th>\n",
       "      <th>Low</th>\n",
       "      <th>Close</th>\n",
       "      <th>Adj Close</th>\n",
       "      <th>Volume</th>\n",
       "    </tr>\n",
       "  </thead>\n",
       "  <tbody>\n",
       "    <tr>\n",
       "      <th>0</th>\n",
       "      <td>2000-01-04</td>\n",
       "      <td>69.649002</td>\n",
       "      <td>69.649002</td>\n",
       "      <td>68.475197</td>\n",
       "      <td>69.649002</td>\n",
       "      <td>37.690960</td>\n",
       "      <td>2.006623e+11</td>\n",
       "    </tr>\n",
       "    <tr>\n",
       "      <th>1</th>\n",
       "      <td>2000-01-05</td>\n",
       "      <td>69.649002</td>\n",
       "      <td>71.214104</td>\n",
       "      <td>68.866302</td>\n",
       "      <td>71.214104</td>\n",
       "      <td>38.537937</td>\n",
       "      <td>4.024668e+11</td>\n",
       "    </tr>\n",
       "    <tr>\n",
       "      <th>2</th>\n",
       "      <td>2000-01-06</td>\n",
       "      <td>70.822899</td>\n",
       "      <td>71.214104</td>\n",
       "      <td>69.649002</td>\n",
       "      <td>69.649002</td>\n",
       "      <td>37.690960</td>\n",
       "      <td>1.975457e+11</td>\n",
       "    </tr>\n",
       "    <tr>\n",
       "      <th>3</th>\n",
       "      <td>2000-01-07</td>\n",
       "      <td>67.301300</td>\n",
       "      <td>68.475197</td>\n",
       "      <td>66.518600</td>\n",
       "      <td>67.692497</td>\n",
       "      <td>36.632195</td>\n",
       "      <td>2.352703e+11</td>\n",
       "    </tr>\n",
       "    <tr>\n",
       "      <th>4</th>\n",
       "      <td>2000-01-10</td>\n",
       "      <td>69.649002</td>\n",
       "      <td>70.431396</td>\n",
       "      <td>68.475197</td>\n",
       "      <td>70.040199</td>\n",
       "      <td>37.902672</td>\n",
       "      <td>2.761717e+11</td>\n",
       "    </tr>\n",
       "  </tbody>\n",
       "</table>\n",
       "</div>"
      ],
      "text/plain": [
       "         Date       Open       High        Low      Close  Adj Close  \\\n",
       "0  2000-01-04  69.649002  69.649002  68.475197  69.649002  37.690960   \n",
       "1  2000-01-05  69.649002  71.214104  68.866302  71.214104  38.537937   \n",
       "2  2000-01-06  70.822899  71.214104  69.649002  69.649002  37.690960   \n",
       "3  2000-01-07  67.301300  68.475197  66.518600  67.692497  36.632195   \n",
       "4  2000-01-10  69.649002  70.431396  68.475197  70.040199  37.902672   \n",
       "\n",
       "         Volume  \n",
       "0  2.006623e+11  \n",
       "1  4.024668e+11  \n",
       "2  1.975457e+11  \n",
       "3  2.352703e+11  \n",
       "4  2.761717e+11  "
      ]
     },
     "execution_count": 89,
     "metadata": {},
     "output_type": "execute_result"
    }
   ],
   "source": [
    "df.head()"
   ]
  },
  {
   "cell_type": "code",
   "execution_count": 90,
   "metadata": {},
   "outputs": [
    {
     "data": {
      "text/html": [
       "<div>\n",
       "<style scoped>\n",
       "    .dataframe tbody tr th:only-of-type {\n",
       "        vertical-align: middle;\n",
       "    }\n",
       "\n",
       "    .dataframe tbody tr th {\n",
       "        vertical-align: top;\n",
       "    }\n",
       "\n",
       "    .dataframe thead th {\n",
       "        text-align: right;\n",
       "    }\n",
       "</style>\n",
       "<table border=\"1\" class=\"dataframe\">\n",
       "  <thead>\n",
       "    <tr style=\"text-align: right;\">\n",
       "      <th></th>\n",
       "      <th>Date</th>\n",
       "      <th>Open</th>\n",
       "      <th>High</th>\n",
       "      <th>Low</th>\n",
       "      <th>Close</th>\n",
       "      <th>Adj Close</th>\n",
       "      <th>Volume</th>\n",
       "    </tr>\n",
       "  </thead>\n",
       "  <tbody>\n",
       "    <tr>\n",
       "      <th>5046</th>\n",
       "      <td>2020-02-21</td>\n",
       "      <td>325.5</td>\n",
       "      <td>326.5</td>\n",
       "      <td>323.0</td>\n",
       "      <td>325.0</td>\n",
       "      <td>325.0</td>\n",
       "      <td>22813534.0</td>\n",
       "    </tr>\n",
       "    <tr>\n",
       "      <th>5047</th>\n",
       "      <td>2020-02-24</td>\n",
       "      <td>319.5</td>\n",
       "      <td>321.5</td>\n",
       "      <td>319.5</td>\n",
       "      <td>320.0</td>\n",
       "      <td>320.0</td>\n",
       "      <td>41693680.0</td>\n",
       "    </tr>\n",
       "    <tr>\n",
       "      <th>5048</th>\n",
       "      <td>2020-02-25</td>\n",
       "      <td>320.0</td>\n",
       "      <td>323.5</td>\n",
       "      <td>317.5</td>\n",
       "      <td>322.0</td>\n",
       "      <td>322.0</td>\n",
       "      <td>36195011.0</td>\n",
       "    </tr>\n",
       "    <tr>\n",
       "      <th>5049</th>\n",
       "      <td>2020-02-26</td>\n",
       "      <td>317.0</td>\n",
       "      <td>320.5</td>\n",
       "      <td>316.5</td>\n",
       "      <td>318.5</td>\n",
       "      <td>318.5</td>\n",
       "      <td>60479362.0</td>\n",
       "    </tr>\n",
       "    <tr>\n",
       "      <th>5050</th>\n",
       "      <td>2020-02-27</td>\n",
       "      <td>319.0</td>\n",
       "      <td>320.0</td>\n",
       "      <td>315.0</td>\n",
       "      <td>316.0</td>\n",
       "      <td>316.0</td>\n",
       "      <td>61250927.0</td>\n",
       "    </tr>\n",
       "  </tbody>\n",
       "</table>\n",
       "</div>"
      ],
      "text/plain": [
       "            Date   Open   High    Low  Close  Adj Close      Volume\n",
       "5046  2020-02-21  325.5  326.5  323.0  325.0      325.0  22813534.0\n",
       "5047  2020-02-24  319.5  321.5  319.5  320.0      320.0  41693680.0\n",
       "5048  2020-02-25  320.0  323.5  317.5  322.0      322.0  36195011.0\n",
       "5049  2020-02-26  317.0  320.5  316.5  318.5      318.5  60479362.0\n",
       "5050  2020-02-27  319.0  320.0  315.0  316.0      316.0  61250927.0"
      ]
     },
     "execution_count": 90,
     "metadata": {},
     "output_type": "execute_result"
    }
   ],
   "source": [
    "df.tail()"
   ]
  },
  {
   "cell_type": "code",
   "execution_count": 91,
   "metadata": {},
   "outputs": [
    {
     "name": "stdout",
     "output_type": "stream",
     "text": [
      "<class 'pandas.core.frame.DataFrame'>\n",
      "RangeIndex: 5051 entries, 0 to 5050\n",
      "Data columns (total 7 columns):\n",
      "Date         5051 non-null object\n",
      "Open         4964 non-null float64\n",
      "High         4964 non-null float64\n",
      "Low          4964 non-null float64\n",
      "Close        4964 non-null float64\n",
      "Adj Close    4964 non-null float64\n",
      "Volume       4964 non-null float64\n",
      "dtypes: float64(6), object(1)\n",
      "memory usage: 276.3+ KB\n"
     ]
    }
   ],
   "source": [
    "df.info()"
   ]
  },
  {
   "cell_type": "code",
   "execution_count": 92,
   "metadata": {},
   "outputs": [
    {
     "data": {
      "text/html": [
       "<div>\n",
       "<style scoped>\n",
       "    .dataframe tbody tr th:only-of-type {\n",
       "        vertical-align: middle;\n",
       "    }\n",
       "\n",
       "    .dataframe tbody tr th {\n",
       "        vertical-align: top;\n",
       "    }\n",
       "\n",
       "    .dataframe thead th {\n",
       "        text-align: right;\n",
       "    }\n",
       "</style>\n",
       "<table border=\"1\" class=\"dataframe\">\n",
       "  <thead>\n",
       "    <tr style=\"text-align: right;\">\n",
       "      <th></th>\n",
       "      <th>Open</th>\n",
       "      <th>High</th>\n",
       "      <th>Low</th>\n",
       "      <th>Close</th>\n",
       "      <th>Adj Close</th>\n",
       "      <th>Volume</th>\n",
       "    </tr>\n",
       "  </thead>\n",
       "  <tbody>\n",
       "    <tr>\n",
       "      <th>count</th>\n",
       "      <td>4964.000000</td>\n",
       "      <td>4964.000000</td>\n",
       "      <td>4964.000000</td>\n",
       "      <td>4964.000000</td>\n",
       "      <td>4964.000000</td>\n",
       "      <td>4.964000e+03</td>\n",
       "    </tr>\n",
       "    <tr>\n",
       "      <th>mean</th>\n",
       "      <td>100.828940</td>\n",
       "      <td>101.691419</td>\n",
       "      <td>99.901904</td>\n",
       "      <td>100.846336</td>\n",
       "      <td>80.748219</td>\n",
       "      <td>2.288389e+10</td>\n",
       "    </tr>\n",
       "    <tr>\n",
       "      <th>std</th>\n",
       "      <td>69.618378</td>\n",
       "      <td>69.948784</td>\n",
       "      <td>69.221220</td>\n",
       "      <td>69.622729</td>\n",
       "      <td>72.606518</td>\n",
       "      <td>4.512527e+10</td>\n",
       "    </tr>\n",
       "    <tr>\n",
       "      <th>min</th>\n",
       "      <td>26.995701</td>\n",
       "      <td>27.612900</td>\n",
       "      <td>26.918800</td>\n",
       "      <td>27.458401</td>\n",
       "      <td>14.859277</td>\n",
       "      <td>0.000000e+00</td>\n",
       "    </tr>\n",
       "    <tr>\n",
       "      <th>25%</th>\n",
       "      <td>52.834400</td>\n",
       "      <td>53.605598</td>\n",
       "      <td>52.063099</td>\n",
       "      <td>52.834400</td>\n",
       "      <td>30.735598</td>\n",
       "      <td>3.085317e+07</td>\n",
       "    </tr>\n",
       "    <tr>\n",
       "      <th>50%</th>\n",
       "      <td>67.479897</td>\n",
       "      <td>67.972504</td>\n",
       "      <td>66.844452</td>\n",
       "      <td>67.479897</td>\n",
       "      <td>43.142086</td>\n",
       "      <td>4.834050e+07</td>\n",
       "    </tr>\n",
       "    <tr>\n",
       "      <th>75%</th>\n",
       "      <td>133.500000</td>\n",
       "      <td>135.000000</td>\n",
       "      <td>132.500000</td>\n",
       "      <td>133.500000</td>\n",
       "      <td>111.684639</td>\n",
       "      <td>3.842259e+10</td>\n",
       "    </tr>\n",
       "    <tr>\n",
       "      <th>max</th>\n",
       "      <td>345.500000</td>\n",
       "      <td>346.000000</td>\n",
       "      <td>344.500000</td>\n",
       "      <td>346.000000</td>\n",
       "      <td>346.000000</td>\n",
       "      <td>4.476381e+11</td>\n",
       "    </tr>\n",
       "  </tbody>\n",
       "</table>\n",
       "</div>"
      ],
      "text/plain": [
       "              Open         High          Low        Close    Adj Close  \\\n",
       "count  4964.000000  4964.000000  4964.000000  4964.000000  4964.000000   \n",
       "mean    100.828940   101.691419    99.901904   100.846336    80.748219   \n",
       "std      69.618378    69.948784    69.221220    69.622729    72.606518   \n",
       "min      26.995701    27.612900    26.918800    27.458401    14.859277   \n",
       "25%      52.834400    53.605598    52.063099    52.834400    30.735598   \n",
       "50%      67.479897    67.972504    66.844452    67.479897    43.142086   \n",
       "75%     133.500000   135.000000   132.500000   133.500000   111.684639   \n",
       "max     345.500000   346.000000   344.500000   346.000000   346.000000   \n",
       "\n",
       "             Volume  \n",
       "count  4.964000e+03  \n",
       "mean   2.288389e+10  \n",
       "std    4.512527e+10  \n",
       "min    0.000000e+00  \n",
       "25%    3.085317e+07  \n",
       "50%    4.834050e+07  \n",
       "75%    3.842259e+10  \n",
       "max    4.476381e+11  "
      ]
     },
     "execution_count": 92,
     "metadata": {},
     "output_type": "execute_result"
    }
   ],
   "source": [
    "df.describe()"
   ]
  },
  {
   "cell_type": "code",
   "execution_count": 93,
   "metadata": {},
   "outputs": [
    {
     "data": {
      "text/plain": [
       "Date          object\n",
       "Open         float64\n",
       "High         float64\n",
       "Low          float64\n",
       "Close        float64\n",
       "Adj Close    float64\n",
       "Volume       float64\n",
       "dtype: object"
      ]
     },
     "execution_count": 93,
     "metadata": {},
     "output_type": "execute_result"
    }
   ],
   "source": [
    "df.dtypes"
   ]
  },
  {
   "cell_type": "code",
   "execution_count": 95,
   "metadata": {},
   "outputs": [
    {
     "data": {
      "text/plain": [
       "27.458401000000002"
      ]
     },
     "execution_count": 95,
     "metadata": {},
     "output_type": "execute_result"
    }
   ],
   "source": [
    "df['Close'].min()"
   ]
  },
  {
   "cell_type": "code",
   "execution_count": 96,
   "metadata": {},
   "outputs": [
    {
     "data": {
      "text/plain": [
       "346.0"
      ]
     },
     "execution_count": 96,
     "metadata": {},
     "output_type": "execute_result"
    }
   ],
   "source": [
    "df['Close'].max()"
   ]
  },
  {
   "cell_type": "code",
   "execution_count": 97,
   "metadata": {},
   "outputs": [
    {
     "data": {
      "text/plain": [
       "5051"
      ]
     },
     "execution_count": 97,
     "metadata": {},
     "output_type": "execute_result"
    }
   ],
   "source": [
    "len(df['Close'])"
   ]
  },
  {
   "cell_type": "code",
   "execution_count": 98,
   "metadata": {},
   "outputs": [
    {
     "data": {
      "text/plain": [
       "4964"
      ]
     },
     "execution_count": 98,
     "metadata": {},
     "output_type": "execute_result"
    }
   ],
   "source": [
    "df['Close'].count()"
   ]
  },
  {
   "cell_type": "code",
   "execution_count": 100,
   "metadata": {},
   "outputs": [
    {
     "data": {
      "text/plain": [
       "0    69.649002\n",
       "1    71.214104\n",
       "2    69.649002\n",
       "3    67.692497\n",
       "4    70.040199\n",
       "Name: Close, dtype: float64"
      ]
     },
     "execution_count": 100,
     "metadata": {},
     "output_type": "execute_result"
    }
   ],
   "source": [
    "df['Close'].head()"
   ]
  },
  {
   "cell_type": "code",
   "execution_count": 101,
   "metadata": {},
   "outputs": [
    {
     "data": {
      "text/plain": [
       "5046    325.0\n",
       "5047    320.0\n",
       "5048    322.0\n",
       "5049    318.5\n",
       "5050    316.0\n",
       "Name: Close, dtype: float64"
      ]
     },
     "execution_count": 101,
     "metadata": {},
     "output_type": "execute_result"
    }
   ],
   "source": [
    "df['Close'].tail()"
   ]
  },
  {
   "cell_type": "code",
   "execution_count": 107,
   "metadata": {},
   "outputs": [],
   "source": [
    "salary = [80,90,100,110,120, 2000]"
   ]
  },
  {
   "cell_type": "code",
   "execution_count": 108,
   "metadata": {},
   "outputs": [],
   "source": [
    "import pandas\n",
    "s_series = pandas.Series(salary)"
   ]
  },
  {
   "cell_type": "code",
   "execution_count": 109,
   "metadata": {},
   "outputs": [
    {
     "data": {
      "text/plain": [
       "416.6666666666667"
      ]
     },
     "execution_count": 109,
     "metadata": {},
     "output_type": "execute_result"
    }
   ],
   "source": [
    "s_series.mean()"
   ]
  },
  {
   "cell_type": "code",
   "execution_count": 110,
   "metadata": {},
   "outputs": [
    {
     "data": {
      "text/plain": [
       "416.6666666666667"
      ]
     },
     "execution_count": 110,
     "metadata": {},
     "output_type": "execute_result"
    }
   ],
   "source": [
    "s_series.sum() / len(s_series)"
   ]
  },
  {
   "cell_type": "code",
   "execution_count": 111,
   "metadata": {},
   "outputs": [
    {
     "data": {
      "text/plain": [
       "105.0"
      ]
     },
     "execution_count": 111,
     "metadata": {},
     "output_type": "execute_result"
    }
   ],
   "source": [
    "s_series.median()"
   ]
  },
  {
   "cell_type": "code",
   "execution_count": 112,
   "metadata": {},
   "outputs": [],
   "source": [
    "salary2 = [80,90,100,100, 110,120, 2000]"
   ]
  },
  {
   "cell_type": "code",
   "execution_count": 113,
   "metadata": {},
   "outputs": [],
   "source": [
    "import pandas\n",
    "s_series2 = pandas.Series(salary2)"
   ]
  },
  {
   "cell_type": "code",
   "execution_count": 116,
   "metadata": {},
   "outputs": [
    {
     "data": {
      "text/plain": [
       "100     2\n",
       "120     1\n",
       "110     1\n",
       "2000    1\n",
       "90      1\n",
       "80      1\n",
       "dtype: int64"
      ]
     },
     "execution_count": 116,
     "metadata": {},
     "output_type": "execute_result"
    }
   ],
   "source": [
    "s_series2.value_counts()"
   ]
  },
  {
   "cell_type": "code",
   "execution_count": 117,
   "metadata": {},
   "outputs": [
    {
     "data": {
      "text/plain": [
       "100.84633644601128"
      ]
     },
     "execution_count": 117,
     "metadata": {},
     "output_type": "execute_result"
    }
   ],
   "source": [
    "df['Close'].mean()"
   ]
  },
  {
   "cell_type": "code",
   "execution_count": 118,
   "metadata": {},
   "outputs": [
    {
     "data": {
      "text/plain": [
       "67.479897"
      ]
     },
     "execution_count": 118,
     "metadata": {},
     "output_type": "execute_result"
    }
   ],
   "source": [
    "df['Close'].median()"
   ]
  },
  {
   "cell_type": "code",
   "execution_count": 119,
   "metadata": {},
   "outputs": [],
   "source": [
    "salary2 = [80,90,100, 100, 110,120,2000]"
   ]
  },
  {
   "cell_type": "code",
   "execution_count": 120,
   "metadata": {},
   "outputs": [],
   "source": [
    "s_series2 = pandas.Series(salary2)"
   ]
  },
  {
   "cell_type": "code",
   "execution_count": 121,
   "metadata": {},
   "outputs": [
    {
     "data": {
      "text/plain": [
       "115.0"
      ]
     },
     "execution_count": 121,
     "metadata": {},
     "output_type": "execute_result"
    }
   ],
   "source": [
    "s_series2.quantile(0.75)"
   ]
  },
  {
   "cell_type": "code",
   "execution_count": 122,
   "metadata": {},
   "outputs": [
    {
     "data": {
      "text/plain": [
       "95.0"
      ]
     },
     "execution_count": 122,
     "metadata": {},
     "output_type": "execute_result"
    }
   ],
   "source": [
    "s_series2.quantile(0.25)"
   ]
  },
  {
   "cell_type": "code",
   "execution_count": 123,
   "metadata": {},
   "outputs": [
    {
     "data": {
      "text/plain": [
       "100.0"
      ]
     },
     "execution_count": 123,
     "metadata": {},
     "output_type": "execute_result"
    }
   ],
   "source": [
    "s_series2.quantile(0.5)"
   ]
  },
  {
   "cell_type": "code",
   "execution_count": 124,
   "metadata": {},
   "outputs": [
    {
     "data": {
      "text/plain": [
       "20.0"
      ]
     },
     "execution_count": 124,
     "metadata": {},
     "output_type": "execute_result"
    }
   ],
   "source": [
    "s_series2.quantile(0.75) - s_series2.quantile(0.25)"
   ]
  },
  {
   "cell_type": "code",
   "execution_count": 126,
   "metadata": {},
   "outputs": [
    {
     "data": {
      "text/plain": [
       "<matplotlib.axes._subplots.AxesSubplot at 0x12613c3c8>"
      ]
     },
     "execution_count": 126,
     "metadata": {},
     "output_type": "execute_result"
    },
    {
     "data": {
      "image/png": "[encoded data removed]",
      "text/plain": [
       "<Figure size 432x288 with 1 Axes>"
      ]
     },
     "metadata": {},
     "output_type": "display_data"
    }
   ],
   "source": [
    "s_series2.plot(kind = 'box')"
   ]
  },
  {
   "cell_type": "code",
   "execution_count": 127,
   "metadata": {},
   "outputs": [],
   "source": [
    "salary1 = [80,90,100, 100, 110,120,200]\n",
    "salary2 = [92, 95, 110, 130, 150,135,170]"
   ]
  },
  {
   "cell_type": "code",
   "execution_count": 129,
   "metadata": {},
   "outputs": [],
   "source": [
    "s1 = pandas.Series(salary1)\n",
    "s2 = pandas.Series(salary2)"
   ]
  },
  {
   "cell_type": "code",
   "execution_count": 135,
   "metadata": {},
   "outputs": [
    {
     "data": {
      "text/plain": [
       "114.28571428571429"
      ]
     },
     "execution_count": 135,
     "metadata": {},
     "output_type": "execute_result"
    }
   ],
   "source": [
    "s1.mean()"
   ]
  },
  {
   "cell_type": "code",
   "execution_count": 136,
   "metadata": {},
   "outputs": [
    {
     "data": {
      "text/plain": [
       "126.0"
      ]
     },
     "execution_count": 136,
     "metadata": {},
     "output_type": "execute_result"
    }
   ],
   "source": [
    "s2.mean()"
   ]
  },
  {
   "cell_type": "code",
   "execution_count": 133,
   "metadata": {},
   "outputs": [],
   "source": [
    "s_merge = pandas.concat([s1, s2], axis = 1)"
   ]
  },
  {
   "cell_type": "code",
   "execution_count": 134,
   "metadata": {},
   "outputs": [
    {
     "data": {
      "text/plain": [
       "<matplotlib.axes._subplots.AxesSubplot at 0x1267df978>"
      ]
     },
     "execution_count": 134,
     "metadata": {},
     "output_type": "execute_result"
    },
    {
     "data": {
      "image/png": "[encoded data removed]",
      "text/plain": [
       "<Figure size 432x288 with 1 Axes>"
      ]
     },
     "metadata": {},
     "output_type": "display_data"
    }
   ],
   "source": [
    "s_merge.plot(kind = 'box')"
   ]
  },
  {
   "cell_type": "markdown",
   "metadata": {},
   "source": [
    "## 箱形圖\n",
    "- 揭露統計性質\n",
    "- 找出離群值\n",
    "- 比較不同數據之間的高低"
   ]
  },
  {
   "cell_type": "code",
   "execution_count": 138,
   "metadata": {},
   "outputs": [
    {
     "data": {
      "text/plain": [
       "<matplotlib.axes._subplots.AxesSubplot at 0x125d0f048>"
      ]
     },
     "execution_count": 138,
     "metadata": {},
     "output_type": "execute_result"
    },
    {
     "data": {
      "image/png": "[encoded data removed]",
      "text/plain": [
       "<Figure size 432x288 with 1 Axes>"
      ]
     },
     "metadata": {},
     "output_type": "display_data"
    }
   ],
   "source": [
    "df['Close'].plot(kind = 'box')"
   ]
  },
  {
   "cell_type": "code",
   "execution_count": 140,
   "metadata": {},
   "outputs": [
    {
     "data": {
      "text/plain": [
       "<matplotlib.axes._subplots.AxesSubplot at 0x1267d8da0>"
      ]
     },
     "execution_count": 140,
     "metadata": {},
     "output_type": "execute_result"
    },
    {
     "data": {
      "image/png": "[encoded data removed]",
      "text/plain": [
       "<Figure size 432x288 with 1 Axes>"
      ]
     },
     "metadata": {},
     "output_type": "display_data"
    }
   ],
   "source": [
    "df['Close'].plot(kind = 'hist')"
   ]
  },
  {
   "cell_type": "code",
   "execution_count": 142,
   "metadata": {},
   "outputs": [
    {
     "data": {
      "text/plain": [
       "0    69.649002\n",
       "1    71.214104\n",
       "2    69.649002\n",
       "3    67.692497\n",
       "4    70.040199\n",
       "Name: Close, dtype: float64"
      ]
     },
     "execution_count": 142,
     "metadata": {},
     "output_type": "execute_result"
    }
   ],
   "source": [
    "df['Close'].head()"
   ]
  },
  {
   "cell_type": "code",
   "execution_count": 143,
   "metadata": {},
   "outputs": [
    {
     "data": {
      "text/plain": [
       "0.02247127676000311"
      ]
     },
     "execution_count": 143,
     "metadata": {},
     "output_type": "execute_result"
    }
   ],
   "source": [
    "(71.214104 - 69.649002) / 69.649002"
   ]
  },
  {
   "cell_type": "code",
   "execution_count": 144,
   "metadata": {},
   "outputs": [],
   "source": [
    "df_ret = df['Close'].pct_change(1)"
   ]
  },
  {
   "cell_type": "code",
   "execution_count": 146,
   "metadata": {},
   "outputs": [
    {
     "data": {
      "text/plain": [
       "<matplotlib.axes._subplots.AxesSubplot at 0x129c416a0>"
      ]
     },
     "execution_count": 146,
     "metadata": {},
     "output_type": "execute_result"
    },
    {
     "data": {
      "image/png": "[encoded data removed]",
      "text/plain": [
       "<Figure size 432x288 with 1 Axes>"
      ]
     },
     "metadata": {},
     "output_type": "display_data"
    }
   ],
   "source": [
    "df_ret.plot(kind = 'hist')"
   ]
  },
  {
   "cell_type": "markdown",
   "metadata": {},
   "source": [
    "## 標準差"
   ]
  },
  {
   "cell_type": "code",
   "execution_count": 147,
   "metadata": {},
   "outputs": [
    {
     "data": {
      "text/plain": [
       "69.62272898676441"
      ]
     },
     "execution_count": 147,
     "metadata": {},
     "output_type": "execute_result"
    }
   ],
   "source": [
    "df['Close'].std()"
   ]
  },
  {
   "cell_type": "code",
   "execution_count": 148,
   "metadata": {},
   "outputs": [
    {
     "data": {
      "text/plain": [
       "4847.324391564446"
      ]
     },
     "execution_count": 148,
     "metadata": {},
     "output_type": "execute_result"
    }
   ],
   "source": [
    "df['Close'].var()"
   ]
  },
  {
   "cell_type": "code",
   "execution_count": 149,
   "metadata": {},
   "outputs": [
    {
     "data": {
      "text/plain": [
       "4847.324391564446"
      ]
     },
     "execution_count": 149,
     "metadata": {},
     "output_type": "execute_result"
    }
   ],
   "source": [
    "df['Close'].std() ** 2"
   ]
  },
  {
   "cell_type": "markdown",
   "metadata": {},
   "source": [
    "## 讀取股票數據"
   ]
  },
  {
   "cell_type": "code",
   "execution_count": 150,
   "metadata": {},
   "outputs": [
    {
     "name": "stdout",
     "output_type": "stream",
     "text": [
      "Requirement already satisfied: pandas_datareader in /Users/davidchiu/.pyenv/versions/3.6.2/lib/python3.6/site-packages\n",
      "Requirement already satisfied: requests>=2.3.0 in /Users/davidchiu/.pyenv/versions/3.6.2/lib/python3.6/site-packages (from pandas_datareader)\n",
      "Requirement already satisfied: lxml in /Users/davidchiu/.pyenv/versions/3.6.2/lib/python3.6/site-packages (from pandas_datareader)\n",
      "Requirement already satisfied: pandas>=0.19.2 in /Users/davidchiu/.pyenv/versions/3.6.2/lib/python3.6/site-packages (from pandas_datareader)\n",
      "Requirement already satisfied: wrapt in /Users/davidchiu/.pyenv/versions/3.6.2/lib/python3.6/site-packages (from pandas_datareader)\n",
      "Requirement already satisfied: chardet<3.1.0,>=3.0.2 in /Users/davidchiu/.pyenv/versions/3.6.2/lib/python3.6/site-packages (from requests>=2.3.0->pandas_datareader)\n",
      "Requirement already satisfied: idna<2.9,>=2.5 in /Users/davidchiu/.pyenv/versions/3.6.2/lib/python3.6/site-packages (from requests>=2.3.0->pandas_datareader)\n",
      "Requirement already satisfied: certifi>=2017.4.17 in /Users/davidchiu/.pyenv/versions/3.6.2/lib/python3.6/site-packages (from requests>=2.3.0->pandas_datareader)\n",
      "Requirement already satisfied: urllib3!=1.25.0,!=1.25.1,<1.26,>=1.21.1 in /Users/davidchiu/.pyenv/versions/3.6.2/lib/python3.6/site-packages (from requests>=2.3.0->pandas_datareader)\n",
      "Requirement already satisfied: numpy>=1.12.0 in /Users/davidchiu/.pyenv/versions/3.6.2/lib/python3.6/site-packages (from pandas>=0.19.2->pandas_datareader)\n",
      "Requirement already satisfied: pytz>=2011k in /Users/davidchiu/.pyenv/versions/3.6.2/lib/python3.6/site-packages (from pandas>=0.19.2->pandas_datareader)\n",
      "Requirement already satisfied: python-dateutil>=2.5.0 in /Users/davidchiu/.pyenv/versions/3.6.2/lib/python3.6/site-packages (from pandas>=0.19.2->pandas_datareader)\n",
      "Requirement already satisfied: six>=1.5 in /Users/davidchiu/.pyenv/versions/3.6.2/lib/python3.6/site-packages (from python-dateutil>=2.5.0->pandas>=0.19.2->pandas_datareader)\n",
      "\u001b[33mYou are using pip version 9.0.1, however version 20.0.2 is available.\n",
      "You should consider upgrading via the 'pip install --upgrade pip' command.\u001b[0m\n"
     ]
    }
   ],
   "source": [
    "! pip install pandas_datareader"
   ]
  },
  {
   "cell_type": "code",
   "execution_count": 152,
   "metadata": {},
   "outputs": [],
   "source": [
    "from pandas_datareader import DataReader\n",
    "df2 = DataReader(['2330.TW', '2498.TW'], data_source='yahoo')['Close']"
   ]
  },
  {
   "cell_type": "code",
   "execution_count": 154,
   "metadata": {},
   "outputs": [],
   "source": [
    "df_ret = df2.pct_change(1)"
   ]
  },
  {
   "cell_type": "code",
   "execution_count": 157,
   "metadata": {},
   "outputs": [
    {
     "data": {
      "text/plain": [
       "Symbols\n",
       "2330.TW    0.000743\n",
       "2498.TW   -0.000467\n",
       "dtype: float64"
      ]
     },
     "execution_count": 157,
     "metadata": {},
     "output_type": "execute_result"
    }
   ],
   "source": [
    "df_ret.mean()"
   ]
  },
  {
   "cell_type": "code",
   "execution_count": 156,
   "metadata": {},
   "outputs": [
    {
     "data": {
      "text/plain": [
       "Symbols\n",
       "2330.TW    0.014538\n",
       "2498.TW    0.028568\n",
       "dtype: float64"
      ]
     },
     "execution_count": 156,
     "metadata": {},
     "output_type": "execute_result"
    }
   ],
   "source": [
    "df_ret.std()"
   ]
  },
  {
   "cell_type": "code",
   "execution_count": null,
   "metadata": {},
   "outputs": [],
   "source": []
  }
 ],
 "metadata": {
  "kernelspec": {
   "display_name": "Python 3",
   "language": "python",
   "name": "python3"
  },
  "language_info": {
   "codemirror_mode": {
    "name": "ipython",
    "version": 3
   },
   "file_extension": ".py",
   "mimetype": "text/x-python",
   "name": "python",
   "nbconvert_exporter": "python",
   "pygments_lexer": "ipython3",
   "version": "3.6.2"
  }
 },
 "nbformat": 4,
 "nbformat_minor": 2
}
