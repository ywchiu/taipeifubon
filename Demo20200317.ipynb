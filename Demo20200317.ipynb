{
 "cells": [
  {
   "cell_type": "markdown",
   "metadata": {},
   "source": [
    "## 小任務\n",
    "請協助我取得自由時報即時新聞第一頁的所有標題, 內文, 連結, 時間 (https://news.ltn.com.tw/list/breakingnews)"
   ]
  },
  {
   "cell_type": "code",
   "execution_count": 2,
   "metadata": {},
   "outputs": [],
   "source": [
    "import requests\n",
    "res = requests.get('https://news.ltn.com.tw/list/breakingnews')\n",
    "#res.text"
   ]
  },
  {
   "cell_type": "code",
   "execution_count": 3,
   "metadata": {},
   "outputs": [],
   "source": [
    "from bs4 import BeautifulSoup\n",
    "soup = BeautifulSoup(res.text, 'lxml')"
   ]
  },
  {
   "cell_type": "code",
   "execution_count": 9,
   "metadata": {},
   "outputs": [],
   "source": [
    "def parsePage(url):\n",
    "    res = requests.get(url)\n",
    "    soup = BeautifulSoup(res.text, 'lxml')\n",
    "    return ''.join([p.text for p in soup.select('.text p')])"
   ]
  },
  {
   "cell_type": "code",
   "execution_count": 10,
   "metadata": {},
   "outputs": [],
   "source": [
    "newsary = []\n",
    "for li in soup.select('.list li'):\n",
    "    title = li.select_one('.title').text\n",
    "    url = li.select_one('.tit').get('href')\n",
    "    dt = li.select_one('.time').text\n",
    "    content = parsePage(url)\n",
    "    newsary.append({'title': title, 'url': url, 'dt': dt, 'content': content})"
   ]
  },
  {
   "cell_type": "code",
   "execution_count": 11,
   "metadata": {},
   "outputs": [
    {
     "data": {
      "text/plain": [
       "20"
      ]
     },
     "execution_count": 11,
     "metadata": {},
     "output_type": "execute_result"
    }
   ],
   "source": [
    "len(newsary)"
   ]
  },
  {
   "cell_type": "code",
   "execution_count": 12,
   "metadata": {},
   "outputs": [
    {
     "data": {
      "text/plain": [
       "{'title': '武漢肺炎衝擊 KPMG：國內生技醫療業將急起直追！',\n",
       " 'url': 'https://news.ltn.com.tw/news/business/breakingnews/3102534',\n",
       " 'dt': '13:50',\n",
       " 'content': 'KPMG認為，武漢肺炎影響，對於醫療系統、病患照顧及生醫產業將產生打擊，但我國生技醫療業者將可急起直追，提升研發動能 。 （法新社）〔記者巫其倫／台北報導〕武漢肺炎疫情衝擊，造成今年第1季經濟停滯，尤以商業貿易及消費者活動影響最劇，KPMG（安侯建業）認為，對於醫療系統、病患照顧及生醫產業將產生打擊，但預計我國生技醫療業者將可急起直追，提升研發動能。KPMG認為，疫情對中國GDP的影響，將會比SARS的影響更大，依據每日煤電消耗量統計，目前的產業經濟活動仍尚未恢復正常水準；另，根據清華大學經濟管理學院及KPMG分析報告顯示，疫情對商業貿易及消費者活動的負面影響最大，對教育訓練及健康照護的影響最小。報告也預估，第1季中國市場與產業將陷入停滯，第2季將會逐漸回復，直到第3、4季才有可能有反彈。KPMG健康照護與生技產業主持人蘇嘉瑞表示，我國已通過紓困振興特別條例，中國也將於6月實施「基本醫療衛生與健康促進法」，預計將使數位醫療服務系統、分級醫療及基層醫療的強化受惠最深，也將加強疫情的預防及治療、相關藥品及醫材的加速審核，及集中化藥品採購與管理。蘇嘉瑞預估，我國生技醫療業者將因應疫情急起直追提升研發動能，朝檢測試劑、疫苗及治療藥物方向聚焦；至於台灣生醫資通訊（BIO-ITC）則可利用此一機會與場域試行，來發展人工智慧與遠際照護（Tele-healthcare）。他也認為，疫情對醫療系統、病患照顧及生醫產業已產生衝擊，生醫產業的數位化，將有3大改變趨勢。第1，溝通方式改變，因大型聚會取消，轉為線上教育訓練及產品的發表；第2，醫療行為改變，居家隔離期間，如何運用遠距與數位化進行診斷、處方及藥品運送、費用支付，相關法規及體系制度建立，將是未來數位醫療發展重點；第3，醫療生態改變，可望建立醫療大數據與產業資訊的鏈結、線上與實體通路的擴張。\\n    不用抽 不用搶 現在用APP看新聞 保證天天中獎\\u3000\\n    點我下載APP\\u3000\\n    按我看活動辦法\\n'}"
      ]
     },
     "execution_count": 12,
     "metadata": {},
     "output_type": "execute_result"
    }
   ],
   "source": [
    "newsary[0]"
   ]
  },
  {
   "cell_type": "code",
   "execution_count": 13,
   "metadata": {},
   "outputs": [],
   "source": [
    "import pandas\n",
    "newsdf = pandas.DataFrame(newsary)"
   ]
  },
  {
   "cell_type": "code",
   "execution_count": 15,
   "metadata": {},
   "outputs": [
    {
     "data": {
      "text/html": [
       "<div>\n",
       "<style scoped>\n",
       "    .dataframe tbody tr th:only-of-type {\n",
       "        vertical-align: middle;\n",
       "    }\n",
       "\n",
       "    .dataframe tbody tr th {\n",
       "        vertical-align: top;\n",
       "    }\n",
       "\n",
       "    .dataframe thead th {\n",
       "        text-align: right;\n",
       "    }\n",
       "</style>\n",
       "<table border=\"1\" class=\"dataframe\">\n",
       "  <thead>\n",
       "    <tr style=\"text-align: right;\">\n",
       "      <th></th>\n",
       "      <th>content</th>\n",
       "      <th>dt</th>\n",
       "      <th>title</th>\n",
       "      <th>url</th>\n",
       "    </tr>\n",
       "  </thead>\n",
       "  <tbody>\n",
       "    <tr>\n",
       "      <th>0</th>\n",
       "      <td>KPMG認為，武漢肺炎影響，對於醫療系統、病患照顧及生醫產業將產生打擊，但我國生技醫療業者將...</td>\n",
       "      <td>13:50</td>\n",
       "      <td>武漢肺炎衝擊 KPMG：國內生技醫療業將急起直追！</td>\n",
       "      <td>https://news.ltn.com.tw/news/business/breaking...</td>\n",
       "    </tr>\n",
       "    <tr>\n",
       "      <th>1</th>\n",
       "      <td></td>\n",
       "      <td>13:49</td>\n",
       "      <td>後輩遲到找理由笑罵「死囝仔」 李明川上節目林美秀安慰：快樂就好</td>\n",
       "      <td>https://ent.ltn.com.tw/news/breakingnews/3102535</td>\n",
       "    </tr>\n",
       "    <tr>\n",
       "      <th>2</th>\n",
       "      <td></td>\n",
       "      <td>13:49</td>\n",
       "      <td>中職》來台春訓韓職選手發燒虛驚一場 會長：解除警報</td>\n",
       "      <td>https://sports.ltn.com.tw/news/breakingnews/31...</td>\n",
       "    </tr>\n",
       "  </tbody>\n",
       "</table>\n",
       "</div>"
      ],
      "text/plain": [
       "                                             content     dt  \\\n",
       "0  KPMG認為，武漢肺炎影響，對於醫療系統、病患照顧及生醫產業將產生打擊，但我國生技醫療業者將...  13:50   \n",
       "1                                                     13:49   \n",
       "2                                                     13:49   \n",
       "\n",
       "                             title  \\\n",
       "0        武漢肺炎衝擊 KPMG：國內生技醫療業將急起直追！   \n",
       "1  後輩遲到找理由笑罵「死囝仔」 李明川上節目林美秀安慰：快樂就好   \n",
       "2        中職》來台春訓韓職選手發燒虛驚一場 會長：解除警報   \n",
       "\n",
       "                                                 url  \n",
       "0  https://news.ltn.com.tw/news/business/breaking...  \n",
       "1   https://ent.ltn.com.tw/news/breakingnews/3102535  \n",
       "2  https://sports.ltn.com.tw/news/breakingnews/31...  "
      ]
     },
     "execution_count": 15,
     "metadata": {},
     "output_type": "execute_result"
    }
   ],
   "source": [
    "newsdf.head(3)"
   ]
  },
  {
   "cell_type": "code",
   "execution_count": 16,
   "metadata": {},
   "outputs": [
    {
     "name": "stdout",
     "output_type": "stream",
     "text": [
      "<class 'pandas.core.frame.DataFrame'>\n",
      "RangeIndex: 20 entries, 0 to 19\n",
      "Data columns (total 4 columns):\n",
      "content    20 non-null object\n",
      "dt         20 non-null object\n",
      "title      20 non-null object\n",
      "url        20 non-null object\n",
      "dtypes: object(4)\n",
      "memory usage: 720.0+ bytes\n"
     ]
    }
   ],
   "source": [
    "newsdf.info()"
   ]
  },
  {
   "cell_type": "code",
   "execution_count": 17,
   "metadata": {},
   "outputs": [],
   "source": [
    "newsdf.to_clipboard()"
   ]
  },
  {
   "cell_type": "code",
   "execution_count": 18,
   "metadata": {},
   "outputs": [],
   "source": [
    "newsdf.to_excel('ltn.xlsx')"
   ]
  },
  {
   "cell_type": "code",
   "execution_count": 19,
   "metadata": {},
   "outputs": [],
   "source": [
    "! open ltn.xlsx"
   ]
  },
  {
   "cell_type": "markdown",
   "metadata": {},
   "source": [
    "## 經濟日報抓取所有頁數"
   ]
  },
  {
   "cell_type": "code",
   "execution_count": 20,
   "metadata": {},
   "outputs": [],
   "source": [
    "import requests\n",
    "from bs4 import BeautifulSoup\n",
    "res = requests.get('https://money.udn.com/rank/newest/1001/0/1')\n",
    "soup = BeautifulSoup(res.text, 'lxml')"
   ]
  },
  {
   "cell_type": "code",
   "execution_count": 22,
   "metadata": {},
   "outputs": [
    {
     "data": {
      "text/plain": [
       "'共 65 頁'"
      ]
     },
     "execution_count": 22,
     "metadata": {},
     "output_type": "execute_result"
    }
   ],
   "source": [
    "soup.select_one('.total').text"
   ]
  },
  {
   "cell_type": "code",
   "execution_count": 23,
   "metadata": {},
   "outputs": [
    {
     "data": {
      "text/plain": [
       "['共', '65', '頁']"
      ]
     },
     "execution_count": 23,
     "metadata": {},
     "output_type": "execute_result"
    }
   ],
   "source": [
    "soup.select_one('.total').text.split()"
   ]
  },
  {
   "cell_type": "code",
   "execution_count": 25,
   "metadata": {},
   "outputs": [
    {
     "data": {
      "text/plain": [
       "65"
      ]
     },
     "execution_count": 25,
     "metadata": {},
     "output_type": "execute_result"
    }
   ],
   "source": [
    "int(soup.select_one('.total').text.split()[1])"
   ]
  },
  {
   "cell_type": "code",
   "execution_count": 29,
   "metadata": {},
   "outputs": [
    {
     "data": {
      "text/plain": [
       "'65'"
      ]
     },
     "execution_count": 29,
     "metadata": {},
     "output_type": "execute_result"
    }
   ],
   "source": [
    "soup.select_one('.total').text.strip('頁').strip('共').strip()"
   ]
  },
  {
   "cell_type": "code",
   "execution_count": 34,
   "metadata": {},
   "outputs": [
    {
     "name": "stdout",
     "output_type": "stream",
     "text": [
      "https://money.udn.com/rank/newest/1001/0/1\n",
      "https://money.udn.com/rank/newest/1001/0/2\n",
      "https://money.udn.com/rank/newest/1001/0/3\n",
      "https://money.udn.com/rank/newest/1001/0/4\n",
      "https://money.udn.com/rank/newest/1001/0/5\n",
      "https://money.udn.com/rank/newest/1001/0/6\n",
      "https://money.udn.com/rank/newest/1001/0/7\n",
      "https://money.udn.com/rank/newest/1001/0/8\n",
      "https://money.udn.com/rank/newest/1001/0/9\n",
      "https://money.udn.com/rank/newest/1001/0/10\n",
      "https://money.udn.com/rank/newest/1001/0/11\n",
      "https://money.udn.com/rank/newest/1001/0/12\n",
      "https://money.udn.com/rank/newest/1001/0/13\n",
      "https://money.udn.com/rank/newest/1001/0/14\n",
      "https://money.udn.com/rank/newest/1001/0/15\n",
      "https://money.udn.com/rank/newest/1001/0/16\n",
      "https://money.udn.com/rank/newest/1001/0/17\n",
      "https://money.udn.com/rank/newest/1001/0/18\n",
      "https://money.udn.com/rank/newest/1001/0/19\n",
      "https://money.udn.com/rank/newest/1001/0/20\n",
      "https://money.udn.com/rank/newest/1001/0/21\n",
      "https://money.udn.com/rank/newest/1001/0/22\n",
      "https://money.udn.com/rank/newest/1001/0/23\n",
      "https://money.udn.com/rank/newest/1001/0/24\n",
      "https://money.udn.com/rank/newest/1001/0/25\n",
      "https://money.udn.com/rank/newest/1001/0/26\n",
      "https://money.udn.com/rank/newest/1001/0/27\n",
      "https://money.udn.com/rank/newest/1001/0/28\n",
      "https://money.udn.com/rank/newest/1001/0/29\n",
      "https://money.udn.com/rank/newest/1001/0/30\n",
      "https://money.udn.com/rank/newest/1001/0/31\n",
      "https://money.udn.com/rank/newest/1001/0/32\n",
      "https://money.udn.com/rank/newest/1001/0/33\n",
      "https://money.udn.com/rank/newest/1001/0/34\n",
      "https://money.udn.com/rank/newest/1001/0/35\n",
      "https://money.udn.com/rank/newest/1001/0/36\n",
      "https://money.udn.com/rank/newest/1001/0/37\n",
      "https://money.udn.com/rank/newest/1001/0/38\n",
      "https://money.udn.com/rank/newest/1001/0/39\n",
      "https://money.udn.com/rank/newest/1001/0/40\n",
      "https://money.udn.com/rank/newest/1001/0/41\n",
      "https://money.udn.com/rank/newest/1001/0/42\n",
      "https://money.udn.com/rank/newest/1001/0/43\n",
      "https://money.udn.com/rank/newest/1001/0/44\n",
      "https://money.udn.com/rank/newest/1001/0/45\n",
      "https://money.udn.com/rank/newest/1001/0/46\n",
      "https://money.udn.com/rank/newest/1001/0/47\n",
      "https://money.udn.com/rank/newest/1001/0/48\n",
      "https://money.udn.com/rank/newest/1001/0/49\n",
      "https://money.udn.com/rank/newest/1001/0/50\n",
      "https://money.udn.com/rank/newest/1001/0/51\n",
      "https://money.udn.com/rank/newest/1001/0/52\n",
      "https://money.udn.com/rank/newest/1001/0/53\n",
      "https://money.udn.com/rank/newest/1001/0/54\n",
      "https://money.udn.com/rank/newest/1001/0/55\n",
      "https://money.udn.com/rank/newest/1001/0/56\n",
      "https://money.udn.com/rank/newest/1001/0/57\n",
      "https://money.udn.com/rank/newest/1001/0/58\n",
      "https://money.udn.com/rank/newest/1001/0/59\n",
      "https://money.udn.com/rank/newest/1001/0/60\n",
      "https://money.udn.com/rank/newest/1001/0/61\n",
      "https://money.udn.com/rank/newest/1001/0/62\n",
      "https://money.udn.com/rank/newest/1001/0/63\n",
      "https://money.udn.com/rank/newest/1001/0/64\n",
      "https://money.udn.com/rank/newest/1001/0/65\n"
     ]
    }
   ],
   "source": [
    "for i in range(int(soup.select_one('.total').text.split()[1])):\n",
    "    url = 'https://money.udn.com/rank/newest/1001/0/{}'\n",
    "    print(url.format(i+1))"
   ]
  },
  {
   "cell_type": "markdown",
   "metadata": {},
   "source": [
    "## 591 資訊抓取"
   ]
  },
  {
   "cell_type": "code",
   "execution_count": 36,
   "metadata": {},
   "outputs": [],
   "source": [
    "import requests\n",
    "res = requests.get('https://rent.591.com.tw/?kind=0&region=1&section=5')\n",
    "#res.text"
   ]
  },
  {
   "cell_type": "code",
   "execution_count": 41,
   "metadata": {},
   "outputs": [],
   "source": [
    "import requests\n",
    "headers = {\n",
    "  'Cookie': '__auc=00cfda7016ae4653031fbc4809e; __utmz=82835026.1558609998.1.1.utmcsr=(direct)|utmccn=(direct)|utmcmd=(none); _ga=GA1.3.452025852.1558609998; T591_TOKEN=dhpkd9mm88po4m14m7jfu3sv52; _fbp=fb.2.1558610004061.1211475366; is_new_index=1; is_new_index_redirect=1; loginNoticeNumber=3; fcm_pc_token=esqwMHrnHDs%3AAPA91bF5GGz2SV-nIwLj28XWpSzyDT61yAu-pC-JRc9KxgAd2NdXikHlrXPmgN_9ama1_w-vZJBof8j2ScGtbw5qBs9Qx-Mz0q_KymRhi6RF24PoVJvHiAgRip3EN4DSYL1tVFjrr6r2; _ga=GA1.4.452025852.1558609998; __utma=82835026.452025852.1558609998.1566801170.1572601144.8; pt_28697119=uid=lyRMkppNvrACPo412FemhA&nid=0&vid=8EWTYzSWdP80BT9qC0FltA&vn=12&pvn=2&sact=1576573271044&to_flag=0&pl=Af0sEO7Vketzfmkgv4vKBw*pt*1576573271044; user_index_role=2; tw591__privacy_agree=1; lastSearchRequirement=a%3A14%3A%7Bs%3A4%3A%22type%22%3Bs%3A4%3A%22sale%22%3Bs%3A8%3A%22regionid%22%3Bi%3A4%3Bs%3A9%3A%22sectionid%22%3Bi%3A0%3Bs%3A4%3A%22kind%22%3Bi%3A0%3Bs%3A5%3A%22shape%22%3Bi%3A0%3Bs%3A4%3A%22room%22%3Bi%3A0%3Bs%3A4%3A%22area%22%3Bi%3A0%3Bs%3A9%3A%22cartplace%22%3Bi%3A0%3Bs%3A9%3A%22balcony_1%22%3Bi%3A0%3Bs%3A3%3A%22pet%22%3Bi%3A0%3Bs%3A4%3A%22cook%22%3Bi%3A0%3Bs%3A4%3A%22role%22%3Bi%3A0%3Bs%3A8%3A%22newfloor%22%3Bi%3A0%3Bs%3A8%3A%22houseage%22%3Bi%3A0%3B%7D; index_keyword_search_analysis=%7B%22role%22%3A%222%22%2C%22type%22%3A%221%22%2C%22keyword%22%3A%22%E7%B6%A0%E4%B9%8B%E6%B9%96%22%2C%22selectKeyword%22%3A%22%22%2C%22menu%22%3A%22%22%2C%22hasHistory%22%3A1%2C%22hasPrompt%22%3A0%2C%22history%22%3A2%7D; webp=1; PHPSESSID=c0bb2203f41929fafcae35cef617a303; ba_cid=a%3A5%3A%7Bs%3A6%3A%22ba_cid%22%3Bs%3A32%3A%229aa4d4a0ca2b9ce63a23ccd37be07bdb%22%3Bs%3A7%3A%22page_ex%22%3Bs%3A28%3A%22https%3A%2F%2Fnewhouse.591.com.tw%2F%22%3Bs%3A4%3A%22page%22%3Bs%3A28%3A%22https%3A%2F%2Fnewhouse.591.com.tw%2F%22%3Bs%3A7%3A%22time_ex%22%3Bi%3A1583479503%3Bs%3A4%3A%22time%22%3Bi%3A1583479513%3B%7D; user_browse_recent=a%3A5%3A%7Bi%3A0%3Ba%3A2%3A%7Bs%3A4%3A%22type%22%3Bi%3A2%3Bs%3A7%3A%22post_id%22%3Bi%3A7442053%3B%7Di%3A1%3Ba%3A2%3A%7Bs%3A4%3A%22type%22%3Bi%3A2%3Bs%3A7%3A%22post_id%22%3Bi%3A7415346%3B%7Di%3A2%3Ba%3A2%3A%7Bs%3A4%3A%22type%22%3Bi%3A2%3Bs%3A7%3A%22post_id%22%3Bi%3A7339978%3B%7Di%3A3%3Ba%3A2%3A%7Bs%3A4%3A%22type%22%3Bi%3A2%3Bs%3A7%3A%22post_id%22%3Bi%3A7209344%3B%7Di%3A4%3Ba%3A2%3A%7Bs%3A4%3A%22type%22%3Bi%3A8%3Bs%3A7%3A%22post_id%22%3Bi%3A120444%3B%7D%7D; _gid=GA1.3.1060225282.1584353623; _gid=GA1.4.1060225282.1584353623; c10f3143a018a0513ebe1e8d27b5391c=1; urlJumpIp=1; new_rent_list_kind_test=0; urlJumpIpByTxt=%E5%8F%B0%E5%8C%97%E5%B8%82; XSRF-TOKEN=eyJpdiI6IjV1UVQwUURPS2p5XC9kN2hrXC9WeEJWZz09IiwidmFsdWUiOiJCVWpvZmxhTTJFYnh2TUdJcWczTFwvZU1DXC9nNWpYZVwvR3ZrT2I3b2dcLzdkVG1VSzQrSzJwR0k3RnNPSGV5ZVB3RWwyazNXMk9cL05BalZtVUN1UjhpcWJnPT0iLCJtYWMiOiI2OTE2YjBmODdlNzUxZDUyZDY2NmQ4NTQyNjFjMjQ5OTQ0MmM5NWI5YmM4MWZjMzJjMDM4MThiNWFjOWM5ZjQ3In0%3D; 591_new_session=eyJpdiI6Imo3ZEVkN2J5TjhnMW9Zb2d6dG5DV3c9PSIsInZhbHVlIjoiZHNwaFNBXC84Nmh1aCtuM2VhWlFXMXdxQVdDSUhjbXpPQWtyNmh2NTBDTkxUMEluSzVnV3ptbVpqNllLOWlyVnlKejhUTHUwWnVsRXZcL1Q0R1drenZnQT09IiwibWFjIjoiMjliMTRlMDgyZmY2OWI4OWJkZDAyZWQ1YmI2NWE5ZmQ1NDQzY2QwZTY0NDFmYjQ3Mjc0ZmQ3ZDZlMzNmNGNlMCJ9',  \n",
    "  'X-CSRF-TOKEN': 'agCZKMTdcLJpgP7E2S3i4dfzdEHPhCKexnJShJs9'  \n",
    "}\n",
    "res = requests.get('https://rent.591.com.tw/home/search/rsList?is_new_list=1&type=1&kind=0&searchtype=1&region=1&section=5&firstRow=90&totalRows=1565', headers = headers)\n",
    "#res.text\n",
    "jd = res.json()"
   ]
  },
  {
   "cell_type": "code",
   "execution_count": 44,
   "metadata": {},
   "outputs": [],
   "source": [
    "import pandas\n",
    "df = pandas.DataFrame(jd['data']['data'])"
   ]
  },
  {
   "cell_type": "code",
   "execution_count": 46,
   "metadata": {},
   "outputs": [
    {
     "data": {
      "text/plain": [
       "Index(['addInfo', 'addition2', 'addition3', 'addition4', 'addr_number_name',\n",
       "       'address', 'address_img', 'address_img_title', 'alley_name', 'allfloor',\n",
       "       'area', 'balcony_area', 'browsenum', 'browsenum_all', 'browsenum_name',\n",
       "       'cartplace', 'cases_id', 'cases_name', 'checkstatus', 'closed',\n",
       "       'comment_class', 'comment_ltime', 'comment_total', 'comment_unread',\n",
       "       'condition', 'cover', 'distance', 'filename', 'floor', 'floor2',\n",
       "       'floorInfo', 'fulladdress', 'groundarea', 'hasimg', 'house_img',\n",
       "       'houseage', 'houseid', 'houseimg', 'housetype', 'icon_class',\n",
       "       'icon_name', 'id', 'is_combine', 'isvip', 'kind', 'kind_name',\n",
       "       'kind_name_img', 'lane_name', 'layout', 'layout_str', 'linkman',\n",
       "       'living', 'ltime', 'mainarea', 'mvip', 'new_img',\n",
       "       'new_list_comment_total', 'nick_name', 'onepxImg', 'photoNum',\n",
       "       'photo_alt', 'post_id', 'posttime', 'price', 'price_hide',\n",
       "       'refreshtime', 'region_name', 'regionid', 'regionname', 'room',\n",
       "       'search_name', 'section_name', 'sectionid', 'sectionname', 'shape',\n",
       "       'social_house', 'space_type_str', 'status', 'storeprice', 'street_name',\n",
       "       'streetid', 'type', 'unit', 'updatetime', 'user_id', 'vipBorder',\n",
       "       'vipimg', 'vipstyle'],\n",
       "      dtype='object')"
      ]
     },
     "execution_count": 46,
     "metadata": {},
     "output_type": "execute_result"
    }
   ],
   "source": [
    "df.columns"
   ]
  },
  {
   "cell_type": "code",
   "execution_count": 47,
   "metadata": {},
   "outputs": [
    {
     "data": {
      "text/html": [
       "<div>\n",
       "<style scoped>\n",
       "    .dataframe tbody tr th:only-of-type {\n",
       "        vertical-align: middle;\n",
       "    }\n",
       "\n",
       "    .dataframe tbody tr th {\n",
       "        vertical-align: top;\n",
       "    }\n",
       "\n",
       "    .dataframe thead th {\n",
       "        text-align: right;\n",
       "    }\n",
       "</style>\n",
       "<table border=\"1\" class=\"dataframe\">\n",
       "  <thead>\n",
       "    <tr style=\"text-align: right;\">\n",
       "      <th></th>\n",
       "      <th>address</th>\n",
       "      <th>floor</th>\n",
       "      <th>allfloor</th>\n",
       "      <th>layout</th>\n",
       "      <th>area</th>\n",
       "      <th>price</th>\n",
       "      <th>browsenum_all</th>\n",
       "    </tr>\n",
       "  </thead>\n",
       "  <tbody>\n",
       "    <tr>\n",
       "      <th>0</th>\n",
       "      <td>忠孝東路三段可短租:台北..</td>\n",
       "      <td>8</td>\n",
       "      <td>14</td>\n",
       "      <td></td>\n",
       "      <td>7.0</td>\n",
       "      <td>14,000</td>\n",
       "      <td>1287</td>\n",
       "    </tr>\n",
       "    <tr>\n",
       "      <th>1</th>\n",
       "      <td>文昌街信義安和捷運..</td>\n",
       "      <td>4</td>\n",
       "      <td>4</td>\n",
       "      <td></td>\n",
       "      <td>7.0</td>\n",
       "      <td>12,000</td>\n",
       "      <td>1172</td>\n",
       "    </tr>\n",
       "    <tr>\n",
       "      <th>2</th>\n",
       "      <td>大安路一段大安捷運3分鐘..</td>\n",
       "      <td>0</td>\n",
       "      <td>0</td>\n",
       "      <td>類型：機械式</td>\n",
       "      <td>9.0</td>\n",
       "      <td>4,500</td>\n",
       "      <td>238</td>\n",
       "    </tr>\n",
       "    <tr>\n",
       "      <th>3</th>\n",
       "      <td>安和路一段141巷✔超大４..</td>\n",
       "      <td>2</td>\n",
       "      <td>5</td>\n",
       "      <td>4房2廳2衛</td>\n",
       "      <td>37.8</td>\n",
       "      <td>40,000</td>\n",
       "      <td>564</td>\n",
       "    </tr>\n",
       "    <tr>\n",
       "      <th>4</th>\n",
       "      <td>和平東路三段@六張犁捷運..</td>\n",
       "      <td>9</td>\n",
       "      <td>14</td>\n",
       "      <td>4房2廳2衛</td>\n",
       "      <td>53.8</td>\n",
       "      <td>60,000</td>\n",
       "      <td>413</td>\n",
       "    </tr>\n",
       "    <tr>\n",
       "      <th>5</th>\n",
       "      <td>復興南路一段253巷大安捷..</td>\n",
       "      <td>14</td>\n",
       "      <td>14</td>\n",
       "      <td>2房1廳1衛</td>\n",
       "      <td>16.0</td>\n",
       "      <td>32,000</td>\n",
       "      <td>2120</td>\n",
       "    </tr>\n",
       "    <tr>\n",
       "      <th>6</th>\n",
       "      <td>大安路一段52巷東區雙捷運..</td>\n",
       "      <td>5</td>\n",
       "      <td>6</td>\n",
       "      <td></td>\n",
       "      <td>8.0</td>\n",
       "      <td>50,000</td>\n",
       "      <td>62</td>\n",
       "    </tr>\n",
       "    <tr>\n",
       "      <th>7</th>\n",
       "      <td>和平東路三段~敦化南路2..</td>\n",
       "      <td>8</td>\n",
       "      <td>19</td>\n",
       "      <td>3房2廳2衛</td>\n",
       "      <td>32.0</td>\n",
       "      <td>60,000</td>\n",
       "      <td>40</td>\n",
       "    </tr>\n",
       "    <tr>\n",
       "      <th>8</th>\n",
       "      <td>信義路四段大安捷運站優質..</td>\n",
       "      <td>2</td>\n",
       "      <td>17</td>\n",
       "      <td></td>\n",
       "      <td>8.0</td>\n",
       "      <td>20,000</td>\n",
       "      <td>3542</td>\n",
       "    </tr>\n",
       "    <tr>\n",
       "      <th>9</th>\n",
       "      <td>永康街23巷近大安公園永康..</td>\n",
       "      <td>1</td>\n",
       "      <td>5</td>\n",
       "      <td></td>\n",
       "      <td>5.0</td>\n",
       "      <td>6,800</td>\n",
       "      <td>1475</td>\n",
       "    </tr>\n",
       "    <tr>\n",
       "      <th>10</th>\n",
       "      <td>師大路師大路浦城街寬巷少..</td>\n",
       "      <td>0</td>\n",
       "      <td>0</td>\n",
       "      <td>類型：機械式</td>\n",
       "      <td>10.0</td>\n",
       "      <td>4,800</td>\n",
       "      <td>371</td>\n",
       "    </tr>\n",
       "    <tr>\n",
       "      <th>11</th>\n",
       "      <td>信義路三段大安站、師大附..</td>\n",
       "      <td>9</td>\n",
       "      <td>14</td>\n",
       "      <td></td>\n",
       "      <td>11.6</td>\n",
       "      <td>24,000</td>\n",
       "      <td>995</td>\n",
       "    </tr>\n",
       "    <tr>\n",
       "      <th>12</th>\n",
       "      <td>通化街38巷大安區套房出租..</td>\n",
       "      <td>1</td>\n",
       "      <td>7</td>\n",
       "      <td></td>\n",
       "      <td>10.0</td>\n",
       "      <td>17,000</td>\n",
       "      <td>287</td>\n",
       "    </tr>\n",
       "    <tr>\n",
       "      <th>13</th>\n",
       "      <td>瑞安街71巷近捷運安靜安全..</td>\n",
       "      <td>4</td>\n",
       "      <td>5</td>\n",
       "      <td></td>\n",
       "      <td>5.0</td>\n",
       "      <td>7,000</td>\n",
       "      <td>265</td>\n",
       "    </tr>\n",
       "    <tr>\n",
       "      <th>14</th>\n",
       "      <td>泰順街16巷近台電大樓捷運站／師大商圈..</td>\n",
       "      <td>1</td>\n",
       "      <td>4</td>\n",
       "      <td>開放式格局</td>\n",
       "      <td>30.0</td>\n",
       "      <td>60,000</td>\n",
       "      <td>219</td>\n",
       "    </tr>\n",
       "    <tr>\n",
       "      <th>15</th>\n",
       "      <td>建國南路二段39巷森林公園..</td>\n",
       "      <td>1</td>\n",
       "      <td>4</td>\n",
       "      <td>3房2廳3衛</td>\n",
       "      <td>29.8</td>\n",
       "      <td>44,000</td>\n",
       "      <td>1725</td>\n",
       "    </tr>\n",
       "    <tr>\n",
       "      <th>16</th>\n",
       "      <td>復興南路二段90巷正面101..</td>\n",
       "      <td>8</td>\n",
       "      <td>12</td>\n",
       "      <td></td>\n",
       "      <td>13.6</td>\n",
       "      <td>26,800</td>\n",
       "      <td>1536</td>\n",
       "    </tr>\n",
       "    <tr>\n",
       "      <th>17</th>\n",
       "      <td>復興南路一段126巷忠孝復..</td>\n",
       "      <td>7</td>\n",
       "      <td>11</td>\n",
       "      <td></td>\n",
       "      <td>10.0</td>\n",
       "      <td>19,000</td>\n",
       "      <td>1666</td>\n",
       "    </tr>\n",
       "    <tr>\n",
       "      <th>18</th>\n",
       "      <td>泰順街40巷近台師大、機能..</td>\n",
       "      <td>4</td>\n",
       "      <td>5</td>\n",
       "      <td>3房1廳1衛</td>\n",
       "      <td>30.0</td>\n",
       "      <td>30,000</td>\n",
       "      <td>7304</td>\n",
       "    </tr>\n",
       "    <tr>\n",
       "      <th>19</th>\n",
       "      <td>杭州南路二段65巷台北市杭..</td>\n",
       "      <td>100</td>\n",
       "      <td>5</td>\n",
       "      <td></td>\n",
       "      <td>5.0</td>\n",
       "      <td>7,600</td>\n",
       "      <td>47</td>\n",
       "    </tr>\n",
       "    <tr>\n",
       "      <th>20</th>\n",
       "      <td>敦化南路二段可寵!!!敦南..</td>\n",
       "      <td>2</td>\n",
       "      <td>7</td>\n",
       "      <td></td>\n",
       "      <td>8.0</td>\n",
       "      <td>24,000</td>\n",
       "      <td>414</td>\n",
       "    </tr>\n",
       "    <tr>\n",
       "      <th>21</th>\n",
       "      <td>文昌街可寵!!信義安和站-..</td>\n",
       "      <td>2</td>\n",
       "      <td>3</td>\n",
       "      <td></td>\n",
       "      <td>5.0</td>\n",
       "      <td>15,000</td>\n",
       "      <td>1003</td>\n",
       "    </tr>\n",
       "    <tr>\n",
       "      <th>22</th>\n",
       "      <td>忠孝東路三段無印風格電梯..</td>\n",
       "      <td>3</td>\n",
       "      <td>14</td>\n",
       "      <td>3房2廳2衛</td>\n",
       "      <td>30.0</td>\n",
       "      <td>55,000</td>\n",
       "      <td>678</td>\n",
       "    </tr>\n",
       "    <tr>\n",
       "      <th>23</th>\n",
       "      <td>四維路敦南商圈遠企正對面</td>\n",
       "      <td>2</td>\n",
       "      <td>4</td>\n",
       "      <td></td>\n",
       "      <td>5.5</td>\n",
       "      <td>9,500</td>\n",
       "      <td>493</td>\n",
       "    </tr>\n",
       "    <tr>\n",
       "      <th>24</th>\n",
       "      <td>復興南路一段東區商圈捷運..</td>\n",
       "      <td>4</td>\n",
       "      <td>12</td>\n",
       "      <td>2房1廳1衛</td>\n",
       "      <td>30.0</td>\n",
       "      <td>29,902</td>\n",
       "      <td>3340</td>\n",
       "    </tr>\n",
       "    <tr>\n",
       "      <th>25</th>\n",
       "      <td>信義路二段東門捷運管理獨..</td>\n",
       "      <td>3</td>\n",
       "      <td>13</td>\n",
       "      <td></td>\n",
       "      <td>10.7</td>\n",
       "      <td>25,800</td>\n",
       "      <td>692</td>\n",
       "    </tr>\n",
       "    <tr>\n",
       "      <th>26</th>\n",
       "      <td>復興南路大安復興雙捷寧靜..</td>\n",
       "      <td>11</td>\n",
       "      <td>12</td>\n",
       "      <td></td>\n",
       "      <td>9.0</td>\n",
       "      <td>13,800</td>\n",
       "      <td>1567</td>\n",
       "    </tr>\n",
       "    <tr>\n",
       "      <th>27</th>\n",
       "      <td>忠孝東路三段217巷台北(..</td>\n",
       "      <td>5</td>\n",
       "      <td>7</td>\n",
       "      <td>1房1廳1衛</td>\n",
       "      <td>21.0</td>\n",
       "      <td>29,000</td>\n",
       "      <td>615</td>\n",
       "    </tr>\n",
       "    <tr>\n",
       "      <th>28</th>\n",
       "      <td>八德路二段10巷捷運忠孝新..</td>\n",
       "      <td>4</td>\n",
       "      <td>5</td>\n",
       "      <td></td>\n",
       "      <td>13.0</td>\n",
       "      <td>20,000</td>\n",
       "      <td>1044</td>\n",
       "    </tr>\n",
       "    <tr>\n",
       "      <th>29</th>\n",
       "      <td>仁愛路三段123巷視..</td>\n",
       "      <td>7</td>\n",
       "      <td>7</td>\n",
       "      <td></td>\n",
       "      <td>4.0</td>\n",
       "      <td>8,500</td>\n",
       "      <td>952</td>\n",
       "    </tr>\n",
       "  </tbody>\n",
       "</table>\n",
       "</div>"
      ],
      "text/plain": [
       "                  address  floor  allfloor  layout  area   price  \\\n",
       "0          忠孝東路三段可短租:台北..      8        14           7.0  14,000   \n",
       "1             文昌街信義安和捷運..      4         4           7.0  12,000   \n",
       "2          大安路一段大安捷運3分鐘..      0         0  類型：機械式   9.0   4,500   \n",
       "3         安和路一段141巷✔超大４..      2         5  4房2廳2衛  37.8  40,000   \n",
       "4          和平東路三段@六張犁捷運..      9        14  4房2廳2衛  53.8  60,000   \n",
       "5         復興南路一段253巷大安捷..     14        14  2房1廳1衛  16.0  32,000   \n",
       "6         大安路一段52巷東區雙捷運..      5         6           8.0  50,000   \n",
       "7          和平東路三段~敦化南路2..      8        19  3房2廳2衛  32.0  60,000   \n",
       "8          信義路四段大安捷運站優質..      2        17           8.0  20,000   \n",
       "9         永康街23巷近大安公園永康..      1         5           5.0   6,800   \n",
       "10         師大路師大路浦城街寬巷少..      0         0  類型：機械式  10.0   4,800   \n",
       "11         信義路三段大安站、師大附..      9        14          11.6  24,000   \n",
       "12        通化街38巷大安區套房出租..      1         7          10.0  17,000   \n",
       "13        瑞安街71巷近捷運安靜安全..      4         5           5.0   7,000   \n",
       "14  泰順街16巷近台電大樓捷運站／師大商圈..      1         4   開放式格局  30.0  60,000   \n",
       "15        建國南路二段39巷森林公園..      1         4  3房2廳3衛  29.8  44,000   \n",
       "16       復興南路二段90巷正面101..      8        12          13.6  26,800   \n",
       "17        復興南路一段126巷忠孝復..      7        11          10.0  19,000   \n",
       "18        泰順街40巷近台師大、機能..      4         5  3房1廳1衛  30.0  30,000   \n",
       "19        杭州南路二段65巷台北市杭..    100         5           5.0   7,600   \n",
       "20        敦化南路二段可寵!!!敦南..      2         7           8.0  24,000   \n",
       "21        文昌街可寵!!信義安和站-..      2         3           5.0  15,000   \n",
       "22         忠孝東路三段無印風格電梯..      3        14  3房2廳2衛  30.0  55,000   \n",
       "23           四維路敦南商圈遠企正對面      2         4           5.5   9,500   \n",
       "24         復興南路一段東區商圈捷運..      4        12  2房1廳1衛  30.0  29,902   \n",
       "25         信義路二段東門捷運管理獨..      3        13          10.7  25,800   \n",
       "26         復興南路大安復興雙捷寧靜..     11        12           9.0  13,800   \n",
       "27        忠孝東路三段217巷台北(..      5         7  1房1廳1衛  21.0  29,000   \n",
       "28        八德路二段10巷捷運忠孝新..      4         5          13.0  20,000   \n",
       "29           仁愛路三段123巷視..      7         7           4.0   8,500   \n",
       "\n",
       "    browsenum_all  \n",
       "0            1287  \n",
       "1            1172  \n",
       "2             238  \n",
       "3             564  \n",
       "4             413  \n",
       "5            2120  \n",
       "6              62  \n",
       "7              40  \n",
       "8            3542  \n",
       "9            1475  \n",
       "10            371  \n",
       "11            995  \n",
       "12            287  \n",
       "13            265  \n",
       "14            219  \n",
       "15           1725  \n",
       "16           1536  \n",
       "17           1666  \n",
       "18           7304  \n",
       "19             47  \n",
       "20            414  \n",
       "21           1003  \n",
       "22            678  \n",
       "23            493  \n",
       "24           3340  \n",
       "25            692  \n",
       "26           1567  \n",
       "27            615  \n",
       "28           1044  \n",
       "29            952  "
      ]
     },
     "execution_count": 47,
     "metadata": {},
     "output_type": "execute_result"
    }
   ],
   "source": [
    "df[['address', 'floor', 'allfloor', 'layout','area', 'price','browsenum_all']]"
   ]
  },
  {
   "cell_type": "code",
   "execution_count": null,
   "metadata": {},
   "outputs": [],
   "source": [
    "https://rent.591.com.tw/home/search/rsList?is_new_list=1&type=1&kind=0&searchtype=1&region=1&section=5&firstRow=90&totalRows=1565\n",
    "https://rent.591.com.tw/home/search/rsList?is_new_list=1&type=1&kind=0&searchtype=1&region=1&section=5&firstRow=120&totalRows=1565    "
   ]
  },
  {
   "cell_type": "code",
   "execution_count": 50,
   "metadata": {},
   "outputs": [
    {
     "data": {
      "text/plain": [
       "53"
      ]
     },
     "execution_count": 50,
     "metadata": {},
     "output_type": "execute_result"
    }
   ],
   "source": [
    "import math\n",
    "pages = math.ceil(1565 / 30) \n",
    "pages"
   ]
  },
  {
   "cell_type": "code",
   "execution_count": 51,
   "metadata": {},
   "outputs": [],
   "source": [
    "import requests\n",
    "headers = {\n",
    "  'Cookie': '__auc=00cfda7016ae4653031fbc4809e; __utmz=82835026.1558609998.1.1.utmcsr=(direct)|utmccn=(direct)|utmcmd=(none); _ga=GA1.3.452025852.1558609998; T591_TOKEN=dhpkd9mm88po4m14m7jfu3sv52; _fbp=fb.2.1558610004061.1211475366; is_new_index=1; is_new_index_redirect=1; loginNoticeNumber=3; fcm_pc_token=esqwMHrnHDs%3AAPA91bF5GGz2SV-nIwLj28XWpSzyDT61yAu-pC-JRc9KxgAd2NdXikHlrXPmgN_9ama1_w-vZJBof8j2ScGtbw5qBs9Qx-Mz0q_KymRhi6RF24PoVJvHiAgRip3EN4DSYL1tVFjrr6r2; _ga=GA1.4.452025852.1558609998; __utma=82835026.452025852.1558609998.1566801170.1572601144.8; pt_28697119=uid=lyRMkppNvrACPo412FemhA&nid=0&vid=8EWTYzSWdP80BT9qC0FltA&vn=12&pvn=2&sact=1576573271044&to_flag=0&pl=Af0sEO7Vketzfmkgv4vKBw*pt*1576573271044; user_index_role=2; tw591__privacy_agree=1; lastSearchRequirement=a%3A14%3A%7Bs%3A4%3A%22type%22%3Bs%3A4%3A%22sale%22%3Bs%3A8%3A%22regionid%22%3Bi%3A4%3Bs%3A9%3A%22sectionid%22%3Bi%3A0%3Bs%3A4%3A%22kind%22%3Bi%3A0%3Bs%3A5%3A%22shape%22%3Bi%3A0%3Bs%3A4%3A%22room%22%3Bi%3A0%3Bs%3A4%3A%22area%22%3Bi%3A0%3Bs%3A9%3A%22cartplace%22%3Bi%3A0%3Bs%3A9%3A%22balcony_1%22%3Bi%3A0%3Bs%3A3%3A%22pet%22%3Bi%3A0%3Bs%3A4%3A%22cook%22%3Bi%3A0%3Bs%3A4%3A%22role%22%3Bi%3A0%3Bs%3A8%3A%22newfloor%22%3Bi%3A0%3Bs%3A8%3A%22houseage%22%3Bi%3A0%3B%7D; index_keyword_search_analysis=%7B%22role%22%3A%222%22%2C%22type%22%3A%221%22%2C%22keyword%22%3A%22%E7%B6%A0%E4%B9%8B%E6%B9%96%22%2C%22selectKeyword%22%3A%22%22%2C%22menu%22%3A%22%22%2C%22hasHistory%22%3A1%2C%22hasPrompt%22%3A0%2C%22history%22%3A2%7D; webp=1; PHPSESSID=c0bb2203f41929fafcae35cef617a303; ba_cid=a%3A5%3A%7Bs%3A6%3A%22ba_cid%22%3Bs%3A32%3A%229aa4d4a0ca2b9ce63a23ccd37be07bdb%22%3Bs%3A7%3A%22page_ex%22%3Bs%3A28%3A%22https%3A%2F%2Fnewhouse.591.com.tw%2F%22%3Bs%3A4%3A%22page%22%3Bs%3A28%3A%22https%3A%2F%2Fnewhouse.591.com.tw%2F%22%3Bs%3A7%3A%22time_ex%22%3Bi%3A1583479503%3Bs%3A4%3A%22time%22%3Bi%3A1583479513%3B%7D; user_browse_recent=a%3A5%3A%7Bi%3A0%3Ba%3A2%3A%7Bs%3A4%3A%22type%22%3Bi%3A2%3Bs%3A7%3A%22post_id%22%3Bi%3A7442053%3B%7Di%3A1%3Ba%3A2%3A%7Bs%3A4%3A%22type%22%3Bi%3A2%3Bs%3A7%3A%22post_id%22%3Bi%3A7415346%3B%7Di%3A2%3Ba%3A2%3A%7Bs%3A4%3A%22type%22%3Bi%3A2%3Bs%3A7%3A%22post_id%22%3Bi%3A7339978%3B%7Di%3A3%3Ba%3A2%3A%7Bs%3A4%3A%22type%22%3Bi%3A2%3Bs%3A7%3A%22post_id%22%3Bi%3A7209344%3B%7Di%3A4%3Ba%3A2%3A%7Bs%3A4%3A%22type%22%3Bi%3A8%3Bs%3A7%3A%22post_id%22%3Bi%3A120444%3B%7D%7D; _gid=GA1.3.1060225282.1584353623; _gid=GA1.4.1060225282.1584353623; c10f3143a018a0513ebe1e8d27b5391c=1; urlJumpIp=1; new_rent_list_kind_test=0; urlJumpIpByTxt=%E5%8F%B0%E5%8C%97%E5%B8%82; XSRF-TOKEN=eyJpdiI6IjV1UVQwUURPS2p5XC9kN2hrXC9WeEJWZz09IiwidmFsdWUiOiJCVWpvZmxhTTJFYnh2TUdJcWczTFwvZU1DXC9nNWpYZVwvR3ZrT2I3b2dcLzdkVG1VSzQrSzJwR0k3RnNPSGV5ZVB3RWwyazNXMk9cL05BalZtVUN1UjhpcWJnPT0iLCJtYWMiOiI2OTE2YjBmODdlNzUxZDUyZDY2NmQ4NTQyNjFjMjQ5OTQ0MmM5NWI5YmM4MWZjMzJjMDM4MThiNWFjOWM5ZjQ3In0%3D; 591_new_session=eyJpdiI6Imo3ZEVkN2J5TjhnMW9Zb2d6dG5DV3c9PSIsInZhbHVlIjoiZHNwaFNBXC84Nmh1aCtuM2VhWlFXMXdxQVdDSUhjbXpPQWtyNmh2NTBDTkxUMEluSzVnV3ptbVpqNllLOWlyVnlKejhUTHUwWnVsRXZcL1Q0R1drenZnQT09IiwibWFjIjoiMjliMTRlMDgyZmY2OWI4OWJkZDAyZWQ1YmI2NWE5ZmQ1NDQzY2QwZTY0NDFmYjQ3Mjc0ZmQ3ZDZlMzNmNGNlMCJ9',  \n",
    "  'X-CSRF-TOKEN': 'agCZKMTdcLJpgP7E2S3i4dfzdEHPhCKexnJShJs9'  \n",
    "}\n",
    "\n",
    "houseary = []\n",
    "for i in range(pages):\n",
    "    res = requests.get('https://rent.591.com.tw/home/search/rsList?is_new_list=1&type=1&kind=0&searchtype=1&region=1&section=5&firstRow={}&totalRows=1565'.format(i* 30), headers = headers)\n",
    "    jd = res.json()\n",
    "    df = pandas.DataFrame(jd['data']['data'])\n",
    "    df = df[['address', 'floor', 'allfloor', 'layout','area', 'price','browsenum_all']]\n",
    "    houseary.append(df)"
   ]
  },
  {
   "cell_type": "code",
   "execution_count": 52,
   "metadata": {},
   "outputs": [
    {
     "data": {
      "text/plain": [
       "53"
      ]
     },
     "execution_count": 52,
     "metadata": {},
     "output_type": "execute_result"
    }
   ],
   "source": [
    "len(houseary)"
   ]
  },
  {
   "cell_type": "code",
   "execution_count": 55,
   "metadata": {},
   "outputs": [],
   "source": [
    "# 合併多個 dataframe\n",
    "housedf = pandas.concat(houseary)"
   ]
  },
  {
   "cell_type": "code",
   "execution_count": 57,
   "metadata": {},
   "outputs": [
    {
     "data": {
      "text/plain": [
       "1569"
      ]
     },
     "execution_count": 57,
     "metadata": {},
     "output_type": "execute_result"
    }
   ],
   "source": [
    "len(housedf)"
   ]
  },
  {
   "cell_type": "code",
   "execution_count": 59,
   "metadata": {},
   "outputs": [],
   "source": [
    "housedf['price'] = housedf['price'].map(lambda e: int(e.replace(',','')))"
   ]
  },
  {
   "cell_type": "code",
   "execution_count": 96,
   "metadata": {},
   "outputs": [
    {
     "data": {
      "text/html": [
       "<div>\n",
       "<style scoped>\n",
       "    .dataframe tbody tr th:only-of-type {\n",
       "        vertical-align: middle;\n",
       "    }\n",
       "\n",
       "    .dataframe tbody tr th {\n",
       "        vertical-align: top;\n",
       "    }\n",
       "\n",
       "    .dataframe thead th {\n",
       "        text-align: right;\n",
       "    }\n",
       "</style>\n",
       "<table border=\"1\" class=\"dataframe\">\n",
       "  <thead>\n",
       "    <tr style=\"text-align: right;\">\n",
       "      <th></th>\n",
       "      <th>address</th>\n",
       "      <th>floor</th>\n",
       "      <th>allfloor</th>\n",
       "      <th>layout</th>\n",
       "      <th>area</th>\n",
       "      <th>price</th>\n",
       "      <th>browsenum_all</th>\n",
       "      <th>mean_price</th>\n",
       "    </tr>\n",
       "  </thead>\n",
       "  <tbody>\n",
       "    <tr>\n",
       "      <th>14</th>\n",
       "      <td>仁愛路四段91巷大安區敦..</td>\n",
       "      <td>0</td>\n",
       "      <td>0</td>\n",
       "      <td>類型：平面式</td>\n",
       "      <td>2.0</td>\n",
       "      <td>1000</td>\n",
       "      <td>117</td>\n",
       "      <td>500.0</td>\n",
       "    </tr>\n",
       "    <tr>\n",
       "      <th>28</th>\n",
       "      <td>大安路二段★大安站4分..</td>\n",
       "      <td>0</td>\n",
       "      <td>0</td>\n",
       "      <td>類型：機械式</td>\n",
       "      <td>3.0</td>\n",
       "      <td>3000</td>\n",
       "      <td>525</td>\n",
       "      <td>1000.0</td>\n",
       "    </tr>\n",
       "    <tr>\n",
       "      <th>21</th>\n",
       "      <td>仁愛路四段91巷★仁愛圓環出租..</td>\n",
       "      <td>0</td>\n",
       "      <td>0</td>\n",
       "      <td>類型：平面式</td>\n",
       "      <td>8.0</td>\n",
       "      <td>3000</td>\n",
       "      <td>203</td>\n",
       "      <td>375.0</td>\n",
       "    </tr>\n",
       "  </tbody>\n",
       "</table>\n",
       "</div>"
      ],
      "text/plain": [
       "              address  floor  allfloor  layout  area  price  browsenum_all  \\\n",
       "14     仁愛路四段91巷大安區敦..      0         0  類型：平面式   2.0   1000            117   \n",
       "28      大安路二段★大安站4分..      0         0  類型：機械式   3.0   3000            525   \n",
       "21  仁愛路四段91巷★仁愛圓環出租..      0         0  類型：平面式   8.0   3000            203   \n",
       "\n",
       "    mean_price  \n",
       "14       500.0  \n",
       "28      1000.0  \n",
       "21       375.0  "
      ]
     },
     "execution_count": 96,
     "metadata": {},
     "output_type": "execute_result"
    }
   ],
   "source": [
    "housedf.sort_values('price', ascending = True).head(3)"
   ]
  },
  {
   "cell_type": "code",
   "execution_count": 64,
   "metadata": {},
   "outputs": [],
   "source": [
    "housedf['mean_price'] = housedf['price'] / housedf['area']"
   ]
  },
  {
   "cell_type": "code",
   "execution_count": 95,
   "metadata": {},
   "outputs": [
    {
     "data": {
      "text/html": [
       "<div>\n",
       "<style scoped>\n",
       "    .dataframe tbody tr th:only-of-type {\n",
       "        vertical-align: middle;\n",
       "    }\n",
       "\n",
       "    .dataframe tbody tr th {\n",
       "        vertical-align: top;\n",
       "    }\n",
       "\n",
       "    .dataframe thead th {\n",
       "        text-align: right;\n",
       "    }\n",
       "</style>\n",
       "<table border=\"1\" class=\"dataframe\">\n",
       "  <thead>\n",
       "    <tr style=\"text-align: right;\">\n",
       "      <th></th>\n",
       "      <th>address</th>\n",
       "      <th>floor</th>\n",
       "      <th>allfloor</th>\n",
       "      <th>layout</th>\n",
       "      <th>area</th>\n",
       "      <th>price</th>\n",
       "      <th>browsenum_all</th>\n",
       "      <th>mean_price</th>\n",
       "    </tr>\n",
       "  </thead>\n",
       "  <tbody>\n",
       "    <tr>\n",
       "      <th>21</th>\n",
       "      <td>仁愛路四段91巷★仁愛圓環出租..</td>\n",
       "      <td>0</td>\n",
       "      <td>0</td>\n",
       "      <td>類型：平面式</td>\n",
       "      <td>8.0</td>\n",
       "      <td>3000</td>\n",
       "      <td>203</td>\n",
       "      <td>375.000000</td>\n",
       "    </tr>\n",
       "    <tr>\n",
       "      <th>6</th>\n",
       "      <td>仁愛路四段408巷仁愛路延吉街..</td>\n",
       "      <td>0</td>\n",
       "      <td>0</td>\n",
       "      <td>類型：平面式</td>\n",
       "      <td>14.0</td>\n",
       "      <td>6000</td>\n",
       "      <td>133</td>\n",
       "      <td>428.571429</td>\n",
       "    </tr>\n",
       "    <tr>\n",
       "      <th>4</th>\n",
       "      <td>金山南路二段東門捷運旁..</td>\n",
       "      <td>0</td>\n",
       "      <td>0</td>\n",
       "      <td>類型：平面式</td>\n",
       "      <td>11.0</td>\n",
       "      <td>5000</td>\n",
       "      <td>279</td>\n",
       "      <td>454.545455</td>\n",
       "    </tr>\n",
       "  </tbody>\n",
       "</table>\n",
       "</div>"
      ],
      "text/plain": [
       "              address  floor  allfloor  layout  area  price  browsenum_all  \\\n",
       "21  仁愛路四段91巷★仁愛圓環出租..      0         0  類型：平面式   8.0   3000            203   \n",
       "6   仁愛路四段408巷仁愛路延吉街..      0         0  類型：平面式  14.0   6000            133   \n",
       "4       金山南路二段東門捷運旁..      0         0  類型：平面式  11.0   5000            279   \n",
       "\n",
       "    mean_price  \n",
       "21  375.000000  \n",
       "6   428.571429  \n",
       "4   454.545455  "
      ]
     },
     "execution_count": 95,
     "metadata": {},
     "output_type": "execute_result"
    }
   ],
   "source": [
    "housedf.sort_values('mean_price', ascending = True).head(3)"
   ]
  },
  {
   "cell_type": "code",
   "execution_count": 67,
   "metadata": {},
   "outputs": [
    {
     "data": {
      "text/plain": [
       "count    1569.000000\n",
       "mean     1802.940471\n",
       "std       711.446085\n",
       "min       375.000000\n",
       "25%      1333.333333\n",
       "50%      1727.272727\n",
       "75%      2166.666667\n",
       "max      7500.000000\n",
       "Name: mean_price, dtype: float64"
      ]
     },
     "execution_count": 67,
     "metadata": {},
     "output_type": "execute_result"
    }
   ],
   "source": [
    "housedf['mean_price'].describe() "
   ]
  },
  {
   "cell_type": "markdown",
   "metadata": {},
   "source": [
    "## Pyautogui"
   ]
  },
  {
   "cell_type": "code",
   "execution_count": 68,
   "metadata": {},
   "outputs": [],
   "source": [
    "import pyautogui"
   ]
  },
  {
   "cell_type": "code",
   "execution_count": 75,
   "metadata": {},
   "outputs": [],
   "source": [
    "pyautogui.moveTo(574,46, 3)\n",
    "pyautogui.click()\n",
    "pyautogui.moveTo(390,305, 3)\n",
    "pyautogui.click()"
   ]
  },
  {
   "cell_type": "markdown",
   "metadata": {},
   "source": [
    "## 語音辨識"
   ]
  },
  {
   "cell_type": "code",
   "execution_count": 91,
   "metadata": {},
   "outputs": [],
   "source": [
    "import requests\n",
    "import json\n",
    "\n",
    "url = \"https://shwoo.gov.taipei/shwoo/NewCaptcha/playSound2?t=1584428760043\"\n",
    "\n",
    "headers = json.loads(r'''{\n",
    "    \"Accept\": \"*/*\",\n",
    "    \"Accept-Encoding\": \"identity;q=1, *;q=0\",\n",
    "    \"Accept-Language\": \"zh-TW,zh;q=0.9,en-US;q=0.8,en;q=0.7\",\n",
    "    \"Cache-Control\": \"no-cache\",\n",
    "    \"Connection\": \"keep-alive\",\n",
    "    \"Cookie\": \"JSESSIONID=A672FD258701F4C9F6DF3F61E57A7449\",\n",
    "    \"DNT\": \"1\",\n",
    "    \"Host\": \"shwoo.gov.taipei\",\n",
    "    \"Pragma\": \"no-cache\",\n",
    "    \"Range\": \"bytes=0-\",\n",
    "    \"Referer\": \"https://shwoo.gov.taipei/shwoo/home/home00/index\",\n",
    "    \"Sec-Fetch-Dest\": \"audio\",\n",
    "    \"Sec-Fetch-Mode\": \"no-cors\",\n",
    "    \"Sec-Fetch-Site\": \"same-origin\",\n",
    "    \"User-Agent\": \"Mozilla/5.0 (Macintosh; Intel Mac OS X 10_14_6) AppleWebKit/537.36 (KHTML, like Gecko) Chrome/80.0.3987.132 Safari/537.36\"\n",
    "}''')\n",
    "\n",
    "resp = requests.get(url,  headers=headers)\n",
    "with open('shwoo.mp3', 'wb') as f:\n",
    "    f.write(resp.content)"
   ]
  },
  {
   "cell_type": "code",
   "execution_count": 94,
   "metadata": {},
   "outputs": [
    {
     "name": "stdout",
     "output_type": "stream",
     "text": [
      "3199\n"
     ]
    }
   ],
   "source": [
    "import speech_recognition as sr\n",
    "from pydub import AudioSegment\n",
    "import requests\n",
    "\n",
    "song = AudioSegment.from_mp3('shwoo.wav')\n",
    "song.export('shwoo.wav', format=\"wav\")\n",
    "with sr.AudioFile('shwoo.wav') as source:\n",
    "    audio = r.listen(source)\n",
    "    print(r.recognize_google(audio, language='zh_TW'))"
   ]
  },
  {
   "cell_type": "markdown",
   "metadata": {},
   "source": [
    "## 處理缺失值"
   ]
  },
  {
   "cell_type": "code",
   "execution_count": 97,
   "metadata": {},
   "outputs": [
    {
     "data": {
      "text/html": [
       "<div>\n",
       "<style scoped>\n",
       "    .dataframe tbody tr th:only-of-type {\n",
       "        vertical-align: middle;\n",
       "    }\n",
       "\n",
       "    .dataframe tbody tr th {\n",
       "        vertical-align: top;\n",
       "    }\n",
       "\n",
       "    .dataframe thead th {\n",
       "        text-align: right;\n",
       "    }\n",
       "</style>\n",
       "<table border=\"1\" class=\"dataframe\">\n",
       "  <thead>\n",
       "    <tr style=\"text-align: right;\">\n",
       "      <th></th>\n",
       "      <th>name</th>\n",
       "      <th>gender</th>\n",
       "      <th>age</th>\n",
       "    </tr>\n",
       "  </thead>\n",
       "  <tbody>\n",
       "    <tr>\n",
       "      <th>0</th>\n",
       "      <td>frank</td>\n",
       "      <td>M</td>\n",
       "      <td>NaN</td>\n",
       "    </tr>\n",
       "    <tr>\n",
       "      <th>1</th>\n",
       "      <td>mary</td>\n",
       "      <td>NaN</td>\n",
       "      <td>NaN</td>\n",
       "    </tr>\n",
       "    <tr>\n",
       "      <th>2</th>\n",
       "      <td>tom</td>\n",
       "      <td>M</td>\n",
       "      <td>35.0</td>\n",
       "    </tr>\n",
       "    <tr>\n",
       "      <th>3</th>\n",
       "      <td>ted</td>\n",
       "      <td>M</td>\n",
       "      <td>33.0</td>\n",
       "    </tr>\n",
       "    <tr>\n",
       "      <th>4</th>\n",
       "      <td>jean</td>\n",
       "      <td>NaN</td>\n",
       "      <td>21.0</td>\n",
       "    </tr>\n",
       "    <tr>\n",
       "      <th>5</th>\n",
       "      <td>lisa</td>\n",
       "      <td>F</td>\n",
       "      <td>20.0</td>\n",
       "    </tr>\n",
       "  </tbody>\n",
       "</table>\n",
       "</div>"
      ],
      "text/plain": [
       "    name gender   age\n",
       "0  frank      M   NaN\n",
       "1   mary    NaN   NaN\n",
       "2    tom      M  35.0\n",
       "3    ted      M  33.0\n",
       "4   jean    NaN  21.0\n",
       "5   lisa      F  20.0"
      ]
     },
     "execution_count": 97,
     "metadata": {},
     "output_type": "execute_result"
    }
   ],
   "source": [
    "import pandas as pd\n",
    "import numpy  as np\n",
    "df = pd.DataFrame([\\\n",
    "                   ['frank', 'M',    np.nan], \\\n",
    "                   ['mary' , np.nan, np.nan], \\\n",
    "                   ['tom'  , 'M',    35], \\\n",
    "                   ['ted'  , 'M',    33], \\\n",
    "                   ['jean' , np.nan, 21], \\\n",
    "                   ['lisa' , 'F',    20]])\n",
    "df.columns = ['name', 'gender', 'age']\n",
    "df\n"
   ]
  },
  {
   "cell_type": "code",
   "execution_count": 100,
   "metadata": {},
   "outputs": [
    {
     "data": {
      "text/plain": [
       "0     True\n",
       "1    False\n",
       "2     True\n",
       "3     True\n",
       "4    False\n",
       "5     True\n",
       "Name: gender, dtype: bool"
      ]
     },
     "execution_count": 100,
     "metadata": {},
     "output_type": "execute_result"
    }
   ],
   "source": [
    "df['gender'].notnull()"
   ]
  },
  {
   "cell_type": "code",
   "execution_count": 102,
   "metadata": {},
   "outputs": [
    {
     "data": {
      "text/plain": [
       "0    False\n",
       "1     True\n",
       "2    False\n",
       "3    False\n",
       "4     True\n",
       "5    False\n",
       "Name: gender, dtype: bool"
      ]
     },
     "execution_count": 102,
     "metadata": {},
     "output_type": "execute_result"
    }
   ],
   "source": [
    "df['gender'].isnull()"
   ]
  },
  {
   "cell_type": "code",
   "execution_count": 103,
   "metadata": {},
   "outputs": [
    {
     "data": {
      "text/plain": [
       "True"
      ]
     },
     "execution_count": 103,
     "metadata": {},
     "output_type": "execute_result"
    }
   ],
   "source": [
    "df['gender'].notnull().any()"
   ]
  },
  {
   "cell_type": "code",
   "execution_count": 104,
   "metadata": {},
   "outputs": [
    {
     "data": {
      "text/plain": [
       "True"
      ]
     },
     "execution_count": 104,
     "metadata": {},
     "output_type": "execute_result"
    }
   ],
   "source": [
    "df['gender'].isnull().any()"
   ]
  },
  {
   "cell_type": "code",
   "execution_count": 107,
   "metadata": {},
   "outputs": [
    {
     "data": {
      "text/plain": [
       "True"
      ]
     },
     "execution_count": 107,
     "metadata": {},
     "output_type": "execute_result"
    }
   ],
   "source": [
    "df['name'].notnull().all()"
   ]
  },
  {
   "cell_type": "code",
   "execution_count": 110,
   "metadata": {},
   "outputs": [
    {
     "data": {
      "text/plain": [
       "2"
      ]
     },
     "execution_count": 110,
     "metadata": {},
     "output_type": "execute_result"
    }
   ],
   "source": [
    "df['gender'].isnull().sum()"
   ]
  },
  {
   "cell_type": "code",
   "execution_count": 113,
   "metadata": {},
   "outputs": [
    {
     "data": {
      "text/plain": [
       "4"
      ]
     },
     "execution_count": 113,
     "metadata": {},
     "output_type": "execute_result"
    }
   ],
   "source": [
    "df.isnull().sum().sum()"
   ]
  },
  {
   "cell_type": "code",
   "execution_count": 114,
   "metadata": {},
   "outputs": [
    {
     "data": {
      "text/html": [
       "<div>\n",
       "<style scoped>\n",
       "    .dataframe tbody tr th:only-of-type {\n",
       "        vertical-align: middle;\n",
       "    }\n",
       "\n",
       "    .dataframe tbody tr th {\n",
       "        vertical-align: top;\n",
       "    }\n",
       "\n",
       "    .dataframe thead th {\n",
       "        text-align: right;\n",
       "    }\n",
       "</style>\n",
       "<table border=\"1\" class=\"dataframe\">\n",
       "  <thead>\n",
       "    <tr style=\"text-align: right;\">\n",
       "      <th></th>\n",
       "      <th>name</th>\n",
       "      <th>gender</th>\n",
       "      <th>age</th>\n",
       "    </tr>\n",
       "  </thead>\n",
       "  <tbody>\n",
       "    <tr>\n",
       "      <th>0</th>\n",
       "      <td>frank</td>\n",
       "      <td>M</td>\n",
       "      <td>NaN</td>\n",
       "    </tr>\n",
       "    <tr>\n",
       "      <th>1</th>\n",
       "      <td>mary</td>\n",
       "      <td>NaN</td>\n",
       "      <td>NaN</td>\n",
       "    </tr>\n",
       "    <tr>\n",
       "      <th>2</th>\n",
       "      <td>tom</td>\n",
       "      <td>M</td>\n",
       "      <td>35.0</td>\n",
       "    </tr>\n",
       "    <tr>\n",
       "      <th>3</th>\n",
       "      <td>ted</td>\n",
       "      <td>M</td>\n",
       "      <td>33.0</td>\n",
       "    </tr>\n",
       "    <tr>\n",
       "      <th>4</th>\n",
       "      <td>jean</td>\n",
       "      <td>NaN</td>\n",
       "      <td>21.0</td>\n",
       "    </tr>\n",
       "    <tr>\n",
       "      <th>5</th>\n",
       "      <td>lisa</td>\n",
       "      <td>F</td>\n",
       "      <td>20.0</td>\n",
       "    </tr>\n",
       "  </tbody>\n",
       "</table>\n",
       "</div>"
      ],
      "text/plain": [
       "    name gender   age\n",
       "0  frank      M   NaN\n",
       "1   mary    NaN   NaN\n",
       "2    tom      M  35.0\n",
       "3    ted      M  33.0\n",
       "4   jean    NaN  21.0\n",
       "5   lisa      F  20.0"
      ]
     },
     "execution_count": 114,
     "metadata": {},
     "output_type": "execute_result"
    }
   ],
   "source": [
    "df"
   ]
  },
  {
   "cell_type": "code",
   "execution_count": 115,
   "metadata": {},
   "outputs": [
    {
     "data": {
      "text/html": [
       "<div>\n",
       "<style scoped>\n",
       "    .dataframe tbody tr th:only-of-type {\n",
       "        vertical-align: middle;\n",
       "    }\n",
       "\n",
       "    .dataframe tbody tr th {\n",
       "        vertical-align: top;\n",
       "    }\n",
       "\n",
       "    .dataframe thead th {\n",
       "        text-align: right;\n",
       "    }\n",
       "</style>\n",
       "<table border=\"1\" class=\"dataframe\">\n",
       "  <thead>\n",
       "    <tr style=\"text-align: right;\">\n",
       "      <th></th>\n",
       "      <th>name</th>\n",
       "      <th>gender</th>\n",
       "      <th>age</th>\n",
       "    </tr>\n",
       "  </thead>\n",
       "  <tbody>\n",
       "    <tr>\n",
       "      <th>2</th>\n",
       "      <td>tom</td>\n",
       "      <td>M</td>\n",
       "      <td>35.0</td>\n",
       "    </tr>\n",
       "    <tr>\n",
       "      <th>3</th>\n",
       "      <td>ted</td>\n",
       "      <td>M</td>\n",
       "      <td>33.0</td>\n",
       "    </tr>\n",
       "    <tr>\n",
       "      <th>5</th>\n",
       "      <td>lisa</td>\n",
       "      <td>F</td>\n",
       "      <td>20.0</td>\n",
       "    </tr>\n",
       "  </tbody>\n",
       "</table>\n",
       "</div>"
      ],
      "text/plain": [
       "   name gender   age\n",
       "2   tom      M  35.0\n",
       "3   ted      M  33.0\n",
       "5  lisa      F  20.0"
      ]
     },
     "execution_count": 115,
     "metadata": {},
     "output_type": "execute_result"
    }
   ],
   "source": [
    "df.dropna()"
   ]
  },
  {
   "cell_type": "code",
   "execution_count": 116,
   "metadata": {},
   "outputs": [
    {
     "data": {
      "text/html": [
       "<div>\n",
       "<style scoped>\n",
       "    .dataframe tbody tr th:only-of-type {\n",
       "        vertical-align: middle;\n",
       "    }\n",
       "\n",
       "    .dataframe tbody tr th {\n",
       "        vertical-align: top;\n",
       "    }\n",
       "\n",
       "    .dataframe thead th {\n",
       "        text-align: right;\n",
       "    }\n",
       "</style>\n",
       "<table border=\"1\" class=\"dataframe\">\n",
       "  <thead>\n",
       "    <tr style=\"text-align: right;\">\n",
       "      <th></th>\n",
       "      <th>name</th>\n",
       "      <th>gender</th>\n",
       "      <th>age</th>\n",
       "    </tr>\n",
       "  </thead>\n",
       "  <tbody>\n",
       "    <tr>\n",
       "      <th>0</th>\n",
       "      <td>frank</td>\n",
       "      <td>M</td>\n",
       "      <td>NaN</td>\n",
       "    </tr>\n",
       "    <tr>\n",
       "      <th>1</th>\n",
       "      <td>mary</td>\n",
       "      <td>NaN</td>\n",
       "      <td>NaN</td>\n",
       "    </tr>\n",
       "    <tr>\n",
       "      <th>2</th>\n",
       "      <td>tom</td>\n",
       "      <td>M</td>\n",
       "      <td>35.0</td>\n",
       "    </tr>\n",
       "    <tr>\n",
       "      <th>3</th>\n",
       "      <td>ted</td>\n",
       "      <td>M</td>\n",
       "      <td>33.0</td>\n",
       "    </tr>\n",
       "    <tr>\n",
       "      <th>4</th>\n",
       "      <td>jean</td>\n",
       "      <td>NaN</td>\n",
       "      <td>21.0</td>\n",
       "    </tr>\n",
       "    <tr>\n",
       "      <th>5</th>\n",
       "      <td>lisa</td>\n",
       "      <td>F</td>\n",
       "      <td>20.0</td>\n",
       "    </tr>\n",
       "  </tbody>\n",
       "</table>\n",
       "</div>"
      ],
      "text/plain": [
       "    name gender   age\n",
       "0  frank      M   NaN\n",
       "1   mary    NaN   NaN\n",
       "2    tom      M  35.0\n",
       "3    ted      M  33.0\n",
       "4   jean    NaN  21.0\n",
       "5   lisa      F  20.0"
      ]
     },
     "execution_count": 116,
     "metadata": {},
     "output_type": "execute_result"
    }
   ],
   "source": [
    "df.dropna(how = 'all')"
   ]
  },
  {
   "cell_type": "code",
   "execution_count": 117,
   "metadata": {},
   "outputs": [
    {
     "data": {
      "text/html": [
       "<div>\n",
       "<style scoped>\n",
       "    .dataframe tbody tr th:only-of-type {\n",
       "        vertical-align: middle;\n",
       "    }\n",
       "\n",
       "    .dataframe tbody tr th {\n",
       "        vertical-align: top;\n",
       "    }\n",
       "\n",
       "    .dataframe thead th {\n",
       "        text-align: right;\n",
       "    }\n",
       "</style>\n",
       "<table border=\"1\" class=\"dataframe\">\n",
       "  <thead>\n",
       "    <tr style=\"text-align: right;\">\n",
       "      <th></th>\n",
       "      <th>name</th>\n",
       "      <th>gender</th>\n",
       "      <th>age</th>\n",
       "    </tr>\n",
       "  </thead>\n",
       "  <tbody>\n",
       "    <tr>\n",
       "      <th>0</th>\n",
       "      <td>frank</td>\n",
       "      <td>M</td>\n",
       "      <td>NaN</td>\n",
       "    </tr>\n",
       "    <tr>\n",
       "      <th>2</th>\n",
       "      <td>tom</td>\n",
       "      <td>M</td>\n",
       "      <td>35.0</td>\n",
       "    </tr>\n",
       "    <tr>\n",
       "      <th>3</th>\n",
       "      <td>ted</td>\n",
       "      <td>M</td>\n",
       "      <td>33.0</td>\n",
       "    </tr>\n",
       "    <tr>\n",
       "      <th>4</th>\n",
       "      <td>jean</td>\n",
       "      <td>NaN</td>\n",
       "      <td>21.0</td>\n",
       "    </tr>\n",
       "    <tr>\n",
       "      <th>5</th>\n",
       "      <td>lisa</td>\n",
       "      <td>F</td>\n",
       "      <td>20.0</td>\n",
       "    </tr>\n",
       "  </tbody>\n",
       "</table>\n",
       "</div>"
      ],
      "text/plain": [
       "    name gender   age\n",
       "0  frank      M   NaN\n",
       "2    tom      M  35.0\n",
       "3    ted      M  33.0\n",
       "4   jean    NaN  21.0\n",
       "5   lisa      F  20.0"
      ]
     },
     "execution_count": 117,
     "metadata": {},
     "output_type": "execute_result"
    }
   ],
   "source": [
    "df.dropna(thresh=2)"
   ]
  },
  {
   "cell_type": "code",
   "execution_count": 119,
   "metadata": {},
   "outputs": [],
   "source": [
    "df['employee'] = np.nan"
   ]
  },
  {
   "cell_type": "code",
   "execution_count": 122,
   "metadata": {},
   "outputs": [
    {
     "data": {
      "text/html": [
       "<div>\n",
       "<style scoped>\n",
       "    .dataframe tbody tr th:only-of-type {\n",
       "        vertical-align: middle;\n",
       "    }\n",
       "\n",
       "    .dataframe tbody tr th {\n",
       "        vertical-align: top;\n",
       "    }\n",
       "\n",
       "    .dataframe thead th {\n",
       "        text-align: right;\n",
       "    }\n",
       "</style>\n",
       "<table border=\"1\" class=\"dataframe\">\n",
       "  <thead>\n",
       "    <tr style=\"text-align: right;\">\n",
       "      <th></th>\n",
       "      <th>name</th>\n",
       "      <th>gender</th>\n",
       "      <th>age</th>\n",
       "    </tr>\n",
       "  </thead>\n",
       "  <tbody>\n",
       "    <tr>\n",
       "      <th>0</th>\n",
       "      <td>frank</td>\n",
       "      <td>M</td>\n",
       "      <td>NaN</td>\n",
       "    </tr>\n",
       "    <tr>\n",
       "      <th>1</th>\n",
       "      <td>mary</td>\n",
       "      <td>NaN</td>\n",
       "      <td>NaN</td>\n",
       "    </tr>\n",
       "    <tr>\n",
       "      <th>2</th>\n",
       "      <td>tom</td>\n",
       "      <td>M</td>\n",
       "      <td>35.0</td>\n",
       "    </tr>\n",
       "    <tr>\n",
       "      <th>3</th>\n",
       "      <td>ted</td>\n",
       "      <td>M</td>\n",
       "      <td>33.0</td>\n",
       "    </tr>\n",
       "    <tr>\n",
       "      <th>4</th>\n",
       "      <td>jean</td>\n",
       "      <td>NaN</td>\n",
       "      <td>21.0</td>\n",
       "    </tr>\n",
       "    <tr>\n",
       "      <th>5</th>\n",
       "      <td>lisa</td>\n",
       "      <td>F</td>\n",
       "      <td>20.0</td>\n",
       "    </tr>\n",
       "  </tbody>\n",
       "</table>\n",
       "</div>"
      ],
      "text/plain": [
       "    name gender   age\n",
       "0  frank      M   NaN\n",
       "1   mary    NaN   NaN\n",
       "2    tom      M  35.0\n",
       "3    ted      M  33.0\n",
       "4   jean    NaN  21.0\n",
       "5   lisa      F  20.0"
      ]
     },
     "execution_count": 122,
     "metadata": {},
     "output_type": "execute_result"
    }
   ],
   "source": [
    "df.dropna(how ='all', axis = 1)"
   ]
  },
  {
   "cell_type": "code",
   "execution_count": 124,
   "metadata": {},
   "outputs": [
    {
     "data": {
      "text/html": [
       "<div>\n",
       "<style scoped>\n",
       "    .dataframe tbody tr th:only-of-type {\n",
       "        vertical-align: middle;\n",
       "    }\n",
       "\n",
       "    .dataframe tbody tr th {\n",
       "        vertical-align: top;\n",
       "    }\n",
       "\n",
       "    .dataframe thead th {\n",
       "        text-align: right;\n",
       "    }\n",
       "</style>\n",
       "<table border=\"1\" class=\"dataframe\">\n",
       "  <thead>\n",
       "    <tr style=\"text-align: right;\">\n",
       "      <th></th>\n",
       "      <th>name</th>\n",
       "      <th>gender</th>\n",
       "      <th>age</th>\n",
       "      <th>employee</th>\n",
       "    </tr>\n",
       "  </thead>\n",
       "  <tbody>\n",
       "    <tr>\n",
       "      <th>0</th>\n",
       "      <td>frank</td>\n",
       "      <td>M</td>\n",
       "      <td>0.0</td>\n",
       "      <td>0.0</td>\n",
       "    </tr>\n",
       "    <tr>\n",
       "      <th>1</th>\n",
       "      <td>mary</td>\n",
       "      <td>0</td>\n",
       "      <td>0.0</td>\n",
       "      <td>0.0</td>\n",
       "    </tr>\n",
       "    <tr>\n",
       "      <th>2</th>\n",
       "      <td>tom</td>\n",
       "      <td>M</td>\n",
       "      <td>35.0</td>\n",
       "      <td>0.0</td>\n",
       "    </tr>\n",
       "    <tr>\n",
       "      <th>3</th>\n",
       "      <td>ted</td>\n",
       "      <td>M</td>\n",
       "      <td>33.0</td>\n",
       "      <td>0.0</td>\n",
       "    </tr>\n",
       "    <tr>\n",
       "      <th>4</th>\n",
       "      <td>jean</td>\n",
       "      <td>0</td>\n",
       "      <td>21.0</td>\n",
       "      <td>0.0</td>\n",
       "    </tr>\n",
       "    <tr>\n",
       "      <th>5</th>\n",
       "      <td>lisa</td>\n",
       "      <td>F</td>\n",
       "      <td>20.0</td>\n",
       "      <td>0.0</td>\n",
       "    </tr>\n",
       "  </tbody>\n",
       "</table>\n",
       "</div>"
      ],
      "text/plain": [
       "    name gender   age  employee\n",
       "0  frank      M   0.0       0.0\n",
       "1   mary      0   0.0       0.0\n",
       "2    tom      M  35.0       0.0\n",
       "3    ted      M  33.0       0.0\n",
       "4   jean      0  21.0       0.0\n",
       "5   lisa      F  20.0       0.0"
      ]
     },
     "execution_count": 124,
     "metadata": {},
     "output_type": "execute_result"
    }
   ],
   "source": [
    "df.fillna(0)"
   ]
  },
  {
   "cell_type": "code",
   "execution_count": 126,
   "metadata": {},
   "outputs": [
    {
     "data": {
      "text/plain": [
       "27.25"
      ]
     },
     "execution_count": 126,
     "metadata": {},
     "output_type": "execute_result"
    }
   ],
   "source": [
    "df['age'].mean()"
   ]
  },
  {
   "cell_type": "code",
   "execution_count": 127,
   "metadata": {},
   "outputs": [
    {
     "data": {
      "text/plain": [
       "0    27.25\n",
       "1    27.25\n",
       "2    35.00\n",
       "3    33.00\n",
       "4    21.00\n",
       "5    20.00\n",
       "Name: age, dtype: float64"
      ]
     },
     "execution_count": 127,
     "metadata": {},
     "output_type": "execute_result"
    }
   ],
   "source": [
    "df['age'].fillna(df['age'].mean())"
   ]
  },
  {
   "cell_type": "code",
   "execution_count": 129,
   "metadata": {},
   "outputs": [
    {
     "data": {
      "text/plain": [
       "gender\n",
       "F    20.0\n",
       "M    34.0\n",
       "Name: age, dtype: float64"
      ]
     },
     "execution_count": 129,
     "metadata": {},
     "output_type": "execute_result"
    }
   ],
   "source": [
    "df.groupby('gender')['age'].mean()"
   ]
  },
  {
   "cell_type": "code",
   "execution_count": 131,
   "metadata": {},
   "outputs": [
    {
     "data": {
      "text/plain": [
       "0    34.0\n",
       "1     NaN\n",
       "2    34.0\n",
       "3    34.0\n",
       "4     NaN\n",
       "5    20.0\n",
       "Name: age, dtype: float64"
      ]
     },
     "execution_count": 131,
     "metadata": {},
     "output_type": "execute_result"
    }
   ],
   "source": [
    "df.groupby('gender')['age'].transform('mean')"
   ]
  },
  {
   "cell_type": "code",
   "execution_count": 132,
   "metadata": {},
   "outputs": [
    {
     "data": {
      "text/html": [
       "<div>\n",
       "<style scoped>\n",
       "    .dataframe tbody tr th:only-of-type {\n",
       "        vertical-align: middle;\n",
       "    }\n",
       "\n",
       "    .dataframe tbody tr th {\n",
       "        vertical-align: top;\n",
       "    }\n",
       "\n",
       "    .dataframe thead th {\n",
       "        text-align: right;\n",
       "    }\n",
       "</style>\n",
       "<table border=\"1\" class=\"dataframe\">\n",
       "  <thead>\n",
       "    <tr style=\"text-align: right;\">\n",
       "      <th></th>\n",
       "      <th>name</th>\n",
       "      <th>gender</th>\n",
       "      <th>age</th>\n",
       "      <th>employee</th>\n",
       "    </tr>\n",
       "  </thead>\n",
       "  <tbody>\n",
       "    <tr>\n",
       "      <th>0</th>\n",
       "      <td>frank</td>\n",
       "      <td>M</td>\n",
       "      <td>NaN</td>\n",
       "      <td>NaN</td>\n",
       "    </tr>\n",
       "    <tr>\n",
       "      <th>1</th>\n",
       "      <td>mary</td>\n",
       "      <td>M</td>\n",
       "      <td>NaN</td>\n",
       "      <td>NaN</td>\n",
       "    </tr>\n",
       "    <tr>\n",
       "      <th>2</th>\n",
       "      <td>tom</td>\n",
       "      <td>M</td>\n",
       "      <td>35.0</td>\n",
       "      <td>NaN</td>\n",
       "    </tr>\n",
       "    <tr>\n",
       "      <th>3</th>\n",
       "      <td>ted</td>\n",
       "      <td>M</td>\n",
       "      <td>33.0</td>\n",
       "      <td>NaN</td>\n",
       "    </tr>\n",
       "    <tr>\n",
       "      <th>4</th>\n",
       "      <td>jean</td>\n",
       "      <td>M</td>\n",
       "      <td>21.0</td>\n",
       "      <td>NaN</td>\n",
       "    </tr>\n",
       "    <tr>\n",
       "      <th>5</th>\n",
       "      <td>lisa</td>\n",
       "      <td>F</td>\n",
       "      <td>20.0</td>\n",
       "      <td>NaN</td>\n",
       "    </tr>\n",
       "  </tbody>\n",
       "</table>\n",
       "</div>"
      ],
      "text/plain": [
       "    name gender   age  employee\n",
       "0  frank      M   NaN       NaN\n",
       "1   mary      M   NaN       NaN\n",
       "2    tom      M  35.0       NaN\n",
       "3    ted      M  33.0       NaN\n",
       "4   jean      M  21.0       NaN\n",
       "5   lisa      F  20.0       NaN"
      ]
     },
     "execution_count": 132,
     "metadata": {},
     "output_type": "execute_result"
    }
   ],
   "source": [
    "df.fillna(method = 'pad')"
   ]
  },
  {
   "cell_type": "code",
   "execution_count": 133,
   "metadata": {},
   "outputs": [
    {
     "data": {
      "text/html": [
       "<div>\n",
       "<style scoped>\n",
       "    .dataframe tbody tr th:only-of-type {\n",
       "        vertical-align: middle;\n",
       "    }\n",
       "\n",
       "    .dataframe tbody tr th {\n",
       "        vertical-align: top;\n",
       "    }\n",
       "\n",
       "    .dataframe thead th {\n",
       "        text-align: right;\n",
       "    }\n",
       "</style>\n",
       "<table border=\"1\" class=\"dataframe\">\n",
       "  <thead>\n",
       "    <tr style=\"text-align: right;\">\n",
       "      <th></th>\n",
       "      <th>name</th>\n",
       "      <th>gender</th>\n",
       "      <th>age</th>\n",
       "      <th>employee</th>\n",
       "    </tr>\n",
       "  </thead>\n",
       "  <tbody>\n",
       "    <tr>\n",
       "      <th>0</th>\n",
       "      <td>frank</td>\n",
       "      <td>M</td>\n",
       "      <td>35.0</td>\n",
       "      <td>NaN</td>\n",
       "    </tr>\n",
       "    <tr>\n",
       "      <th>1</th>\n",
       "      <td>mary</td>\n",
       "      <td>M</td>\n",
       "      <td>35.0</td>\n",
       "      <td>NaN</td>\n",
       "    </tr>\n",
       "    <tr>\n",
       "      <th>2</th>\n",
       "      <td>tom</td>\n",
       "      <td>M</td>\n",
       "      <td>35.0</td>\n",
       "      <td>NaN</td>\n",
       "    </tr>\n",
       "    <tr>\n",
       "      <th>3</th>\n",
       "      <td>ted</td>\n",
       "      <td>M</td>\n",
       "      <td>33.0</td>\n",
       "      <td>NaN</td>\n",
       "    </tr>\n",
       "    <tr>\n",
       "      <th>4</th>\n",
       "      <td>jean</td>\n",
       "      <td>F</td>\n",
       "      <td>21.0</td>\n",
       "      <td>NaN</td>\n",
       "    </tr>\n",
       "    <tr>\n",
       "      <th>5</th>\n",
       "      <td>lisa</td>\n",
       "      <td>F</td>\n",
       "      <td>20.0</td>\n",
       "      <td>NaN</td>\n",
       "    </tr>\n",
       "  </tbody>\n",
       "</table>\n",
       "</div>"
      ],
      "text/plain": [
       "    name gender   age  employee\n",
       "0  frank      M  35.0       NaN\n",
       "1   mary      M  35.0       NaN\n",
       "2    tom      M  35.0       NaN\n",
       "3    ted      M  33.0       NaN\n",
       "4   jean      F  21.0       NaN\n",
       "5   lisa      F  20.0       NaN"
      ]
     },
     "execution_count": 133,
     "metadata": {},
     "output_type": "execute_result"
    }
   ],
   "source": [
    "df.fillna(method = 'bfill')"
   ]
  },
  {
   "cell_type": "code",
   "execution_count": 134,
   "metadata": {},
   "outputs": [
    {
     "data": {
      "text/html": [
       "<div>\n",
       "<style scoped>\n",
       "    .dataframe tbody tr th:only-of-type {\n",
       "        vertical-align: middle;\n",
       "    }\n",
       "\n",
       "    .dataframe tbody tr th {\n",
       "        vertical-align: top;\n",
       "    }\n",
       "\n",
       "    .dataframe thead th {\n",
       "        text-align: right;\n",
       "    }\n",
       "</style>\n",
       "<table border=\"1\" class=\"dataframe\">\n",
       "  <thead>\n",
       "    <tr style=\"text-align: right;\">\n",
       "      <th></th>\n",
       "      <th>time</th>\n",
       "      <th>val</th>\n",
       "    </tr>\n",
       "  </thead>\n",
       "  <tbody>\n",
       "    <tr>\n",
       "      <th>0</th>\n",
       "      <td>1.0</td>\n",
       "      <td>870.0</td>\n",
       "    </tr>\n",
       "    <tr>\n",
       "      <th>1</th>\n",
       "      <td>2.0</td>\n",
       "      <td>900.0</td>\n",
       "    </tr>\n",
       "    <tr>\n",
       "      <th>2</th>\n",
       "      <td>3.0</td>\n",
       "      <td>925.0</td>\n",
       "    </tr>\n",
       "    <tr>\n",
       "      <th>3</th>\n",
       "      <td>4.0</td>\n",
       "      <td>950.0</td>\n",
       "    </tr>\n",
       "    <tr>\n",
       "      <th>4</th>\n",
       "      <td>5.0</td>\n",
       "      <td>1080.0</td>\n",
       "    </tr>\n",
       "    <tr>\n",
       "      <th>5</th>\n",
       "      <td>6.0</td>\n",
       "      <td>1200.0</td>\n",
       "    </tr>\n",
       "  </tbody>\n",
       "</table>\n",
       "</div>"
      ],
      "text/plain": [
       "   time     val\n",
       "0   1.0   870.0\n",
       "1   2.0   900.0\n",
       "2   3.0   925.0\n",
       "3   4.0   950.0\n",
       "4   5.0  1080.0\n",
       "5   6.0  1200.0"
      ]
     },
     "execution_count": 134,
     "metadata": {},
     "output_type": "execute_result"
    }
   ],
   "source": [
    "df2 = pd.DataFrame([[1, 870],\\\n",
    "                    [2, 900],\\\n",
    "                    [np.nan, np.nan],\\\n",
    "                    [4, 950],\\\n",
    "                    [5,1080],\\\n",
    "                    [6,1200]])\n",
    "df2.columns = ['time', 'val']\n",
    "df2.interpolate()\n"
   ]
  },
  {
   "cell_type": "markdown",
   "metadata": {},
   "source": [
    "## 轉換資料"
   ]
  },
  {
   "cell_type": "code",
   "execution_count": 136,
   "metadata": {},
   "outputs": [
    {
     "ename": "HTTPError",
     "evalue": "HTTP Error 404: Not Found",
     "output_type": "error",
     "traceback": [
      "\u001b[0;31m---------------------------------------------------------------------------\u001b[0m",
      "\u001b[0;31mHTTPError\u001b[0m                                 Traceback (most recent call last)",
      "\u001b[0;32m<ipython-input-136-8ba50f11b29e>\u001b[0m in \u001b[0;36m<module>\u001b[0;34m()\u001b[0m\n\u001b[1;32m      1\u001b[0m \u001b[0;32mimport\u001b[0m \u001b[0mpandas\u001b[0m \u001b[0;32mas\u001b[0m \u001b[0mpd\u001b[0m\u001b[0;34m\u001b[0m\u001b[0m\n\u001b[0;32m----> 2\u001b[0;31m \u001b[0mdf\u001b[0m \u001b[0;34m=\u001b[0m \u001b[0mpd\u001b[0m\u001b[0;34m.\u001b[0m\u001b[0mread_csv\u001b[0m\u001b[0;34m(\u001b[0m\u001b[0;34m'https://raw.githubusercontent.com/ywchiu/tibamepy/master/data/rent_591.csv'\u001b[0m\u001b[0;34m,\u001b[0m \u001b[0mindex_col\u001b[0m\u001b[0;34m=\u001b[0m\u001b[0;36m0\u001b[0m\u001b[0;34m)\u001b[0m\u001b[0;34m\u001b[0m\u001b[0m\n\u001b[0m\u001b[1;32m      3\u001b[0m \u001b[0mdf\u001b[0m\u001b[0;34m\u001b[0m\u001b[0m\n",
      "\u001b[0;32m/Users/davidchiu/.pyenv/versions/3.6.2/lib/python3.6/site-packages/pandas/io/parsers.py\u001b[0m in \u001b[0;36mparser_f\u001b[0;34m(filepath_or_buffer, sep, delimiter, header, names, index_col, usecols, squeeze, prefix, mangle_dupe_cols, dtype, engine, converters, true_values, false_values, skipinitialspace, skiprows, skipfooter, nrows, na_values, keep_default_na, na_filter, verbose, skip_blank_lines, parse_dates, infer_datetime_format, keep_date_col, date_parser, dayfirst, iterator, chunksize, compression, thousands, decimal, lineterminator, quotechar, quoting, doublequote, escapechar, comment, encoding, dialect, tupleize_cols, error_bad_lines, warn_bad_lines, delim_whitespace, low_memory, memory_map, float_precision)\u001b[0m\n\u001b[1;32m    700\u001b[0m                     skip_blank_lines=skip_blank_lines)\n\u001b[1;32m    701\u001b[0m \u001b[0;34m\u001b[0m\u001b[0m\n\u001b[0;32m--> 702\u001b[0;31m         \u001b[0;32mreturn\u001b[0m \u001b[0m_read\u001b[0m\u001b[0;34m(\u001b[0m\u001b[0mfilepath_or_buffer\u001b[0m\u001b[0;34m,\u001b[0m \u001b[0mkwds\u001b[0m\u001b[0;34m)\u001b[0m\u001b[0;34m\u001b[0m\u001b[0m\n\u001b[0m\u001b[1;32m    703\u001b[0m \u001b[0;34m\u001b[0m\u001b[0m\n\u001b[1;32m    704\u001b[0m     \u001b[0mparser_f\u001b[0m\u001b[0;34m.\u001b[0m\u001b[0m__name__\u001b[0m \u001b[0;34m=\u001b[0m \u001b[0mname\u001b[0m\u001b[0;34m\u001b[0m\u001b[0m\n",
      "\u001b[0;32m/Users/davidchiu/.pyenv/versions/3.6.2/lib/python3.6/site-packages/pandas/io/parsers.py\u001b[0m in \u001b[0;36m_read\u001b[0;34m(filepath_or_buffer, kwds)\u001b[0m\n\u001b[1;32m    411\u001b[0m     \u001b[0mcompression\u001b[0m \u001b[0;34m=\u001b[0m \u001b[0m_infer_compression\u001b[0m\u001b[0;34m(\u001b[0m\u001b[0mfilepath_or_buffer\u001b[0m\u001b[0;34m,\u001b[0m \u001b[0mcompression\u001b[0m\u001b[0;34m)\u001b[0m\u001b[0;34m\u001b[0m\u001b[0m\n\u001b[1;32m    412\u001b[0m     filepath_or_buffer, _, compression, should_close = get_filepath_or_buffer(\n\u001b[0;32m--> 413\u001b[0;31m         filepath_or_buffer, encoding, compression)\n\u001b[0m\u001b[1;32m    414\u001b[0m     \u001b[0mkwds\u001b[0m\u001b[0;34m[\u001b[0m\u001b[0;34m'compression'\u001b[0m\u001b[0;34m]\u001b[0m \u001b[0;34m=\u001b[0m \u001b[0mcompression\u001b[0m\u001b[0;34m\u001b[0m\u001b[0m\n\u001b[1;32m    415\u001b[0m \u001b[0;34m\u001b[0m\u001b[0m\n",
      "\u001b[0;32m/Users/davidchiu/.pyenv/versions/3.6.2/lib/python3.6/site-packages/pandas/io/common.py\u001b[0m in \u001b[0;36mget_filepath_or_buffer\u001b[0;34m(filepath_or_buffer, encoding, compression, mode)\u001b[0m\n\u001b[1;32m    200\u001b[0m \u001b[0;34m\u001b[0m\u001b[0m\n\u001b[1;32m    201\u001b[0m     \u001b[0;32mif\u001b[0m \u001b[0m_is_url\u001b[0m\u001b[0;34m(\u001b[0m\u001b[0mfilepath_or_buffer\u001b[0m\u001b[0;34m)\u001b[0m\u001b[0;34m:\u001b[0m\u001b[0;34m\u001b[0m\u001b[0m\n\u001b[0;32m--> 202\u001b[0;31m         \u001b[0mreq\u001b[0m \u001b[0;34m=\u001b[0m \u001b[0m_urlopen\u001b[0m\u001b[0;34m(\u001b[0m\u001b[0mfilepath_or_buffer\u001b[0m\u001b[0;34m)\u001b[0m\u001b[0;34m\u001b[0m\u001b[0m\n\u001b[0m\u001b[1;32m    203\u001b[0m         \u001b[0mcontent_encoding\u001b[0m \u001b[0;34m=\u001b[0m \u001b[0mreq\u001b[0m\u001b[0;34m.\u001b[0m\u001b[0mheaders\u001b[0m\u001b[0;34m.\u001b[0m\u001b[0mget\u001b[0m\u001b[0;34m(\u001b[0m\u001b[0;34m'Content-Encoding'\u001b[0m\u001b[0;34m,\u001b[0m \u001b[0;32mNone\u001b[0m\u001b[0;34m)\u001b[0m\u001b[0;34m\u001b[0m\u001b[0m\n\u001b[1;32m    204\u001b[0m         \u001b[0;32mif\u001b[0m \u001b[0mcontent_encoding\u001b[0m \u001b[0;34m==\u001b[0m \u001b[0;34m'gzip'\u001b[0m\u001b[0;34m:\u001b[0m\u001b[0;34m\u001b[0m\u001b[0m\n",
      "\u001b[0;32m/Users/davidchiu/.pyenv/versions/3.6.2/lib/python3.6/urllib/request.py\u001b[0m in \u001b[0;36murlopen\u001b[0;34m(url, data, timeout, cafile, capath, cadefault, context)\u001b[0m\n\u001b[1;32m    221\u001b[0m     \u001b[0;32melse\u001b[0m\u001b[0;34m:\u001b[0m\u001b[0;34m\u001b[0m\u001b[0m\n\u001b[1;32m    222\u001b[0m         \u001b[0mopener\u001b[0m \u001b[0;34m=\u001b[0m \u001b[0m_opener\u001b[0m\u001b[0;34m\u001b[0m\u001b[0m\n\u001b[0;32m--> 223\u001b[0;31m     \u001b[0;32mreturn\u001b[0m \u001b[0mopener\u001b[0m\u001b[0;34m.\u001b[0m\u001b[0mopen\u001b[0m\u001b[0;34m(\u001b[0m\u001b[0murl\u001b[0m\u001b[0;34m,\u001b[0m \u001b[0mdata\u001b[0m\u001b[0;34m,\u001b[0m \u001b[0mtimeout\u001b[0m\u001b[0;34m)\u001b[0m\u001b[0;34m\u001b[0m\u001b[0m\n\u001b[0m\u001b[1;32m    224\u001b[0m \u001b[0;34m\u001b[0m\u001b[0m\n\u001b[1;32m    225\u001b[0m \u001b[0;32mdef\u001b[0m \u001b[0minstall_opener\u001b[0m\u001b[0;34m(\u001b[0m\u001b[0mopener\u001b[0m\u001b[0;34m)\u001b[0m\u001b[0;34m:\u001b[0m\u001b[0;34m\u001b[0m\u001b[0m\n",
      "\u001b[0;32m/Users/davidchiu/.pyenv/versions/3.6.2/lib/python3.6/urllib/request.py\u001b[0m in \u001b[0;36mopen\u001b[0;34m(self, fullurl, data, timeout)\u001b[0m\n\u001b[1;32m    530\u001b[0m         \u001b[0;32mfor\u001b[0m \u001b[0mprocessor\u001b[0m \u001b[0;32min\u001b[0m \u001b[0mself\u001b[0m\u001b[0;34m.\u001b[0m\u001b[0mprocess_response\u001b[0m\u001b[0;34m.\u001b[0m\u001b[0mget\u001b[0m\u001b[0;34m(\u001b[0m\u001b[0mprotocol\u001b[0m\u001b[0;34m,\u001b[0m \u001b[0;34m[\u001b[0m\u001b[0;34m]\u001b[0m\u001b[0;34m)\u001b[0m\u001b[0;34m:\u001b[0m\u001b[0;34m\u001b[0m\u001b[0m\n\u001b[1;32m    531\u001b[0m             \u001b[0mmeth\u001b[0m \u001b[0;34m=\u001b[0m \u001b[0mgetattr\u001b[0m\u001b[0;34m(\u001b[0m\u001b[0mprocessor\u001b[0m\u001b[0;34m,\u001b[0m \u001b[0mmeth_name\u001b[0m\u001b[0;34m)\u001b[0m\u001b[0;34m\u001b[0m\u001b[0m\n\u001b[0;32m--> 532\u001b[0;31m             \u001b[0mresponse\u001b[0m \u001b[0;34m=\u001b[0m \u001b[0mmeth\u001b[0m\u001b[0;34m(\u001b[0m\u001b[0mreq\u001b[0m\u001b[0;34m,\u001b[0m \u001b[0mresponse\u001b[0m\u001b[0;34m)\u001b[0m\u001b[0;34m\u001b[0m\u001b[0m\n\u001b[0m\u001b[1;32m    533\u001b[0m \u001b[0;34m\u001b[0m\u001b[0m\n\u001b[1;32m    534\u001b[0m         \u001b[0;32mreturn\u001b[0m \u001b[0mresponse\u001b[0m\u001b[0;34m\u001b[0m\u001b[0m\n",
      "\u001b[0;32m/Users/davidchiu/.pyenv/versions/3.6.2/lib/python3.6/urllib/request.py\u001b[0m in \u001b[0;36mhttp_response\u001b[0;34m(self, request, response)\u001b[0m\n\u001b[1;32m    640\u001b[0m         \u001b[0;32mif\u001b[0m \u001b[0;32mnot\u001b[0m \u001b[0;34m(\u001b[0m\u001b[0;36m200\u001b[0m \u001b[0;34m<=\u001b[0m \u001b[0mcode\u001b[0m \u001b[0;34m<\u001b[0m \u001b[0;36m300\u001b[0m\u001b[0;34m)\u001b[0m\u001b[0;34m:\u001b[0m\u001b[0;34m\u001b[0m\u001b[0m\n\u001b[1;32m    641\u001b[0m             response = self.parent.error(\n\u001b[0;32m--> 642\u001b[0;31m                 'http', request, response, code, msg, hdrs)\n\u001b[0m\u001b[1;32m    643\u001b[0m \u001b[0;34m\u001b[0m\u001b[0m\n\u001b[1;32m    644\u001b[0m         \u001b[0;32mreturn\u001b[0m \u001b[0mresponse\u001b[0m\u001b[0;34m\u001b[0m\u001b[0m\n",
      "\u001b[0;32m/Users/davidchiu/.pyenv/versions/3.6.2/lib/python3.6/urllib/request.py\u001b[0m in \u001b[0;36merror\u001b[0;34m(self, proto, *args)\u001b[0m\n\u001b[1;32m    568\u001b[0m         \u001b[0;32mif\u001b[0m \u001b[0mhttp_err\u001b[0m\u001b[0;34m:\u001b[0m\u001b[0;34m\u001b[0m\u001b[0m\n\u001b[1;32m    569\u001b[0m             \u001b[0margs\u001b[0m \u001b[0;34m=\u001b[0m \u001b[0;34m(\u001b[0m\u001b[0mdict\u001b[0m\u001b[0;34m,\u001b[0m \u001b[0;34m'default'\u001b[0m\u001b[0;34m,\u001b[0m \u001b[0;34m'http_error_default'\u001b[0m\u001b[0;34m)\u001b[0m \u001b[0;34m+\u001b[0m \u001b[0morig_args\u001b[0m\u001b[0;34m\u001b[0m\u001b[0m\n\u001b[0;32m--> 570\u001b[0;31m             \u001b[0;32mreturn\u001b[0m \u001b[0mself\u001b[0m\u001b[0;34m.\u001b[0m\u001b[0m_call_chain\u001b[0m\u001b[0;34m(\u001b[0m\u001b[0;34m*\u001b[0m\u001b[0margs\u001b[0m\u001b[0;34m)\u001b[0m\u001b[0;34m\u001b[0m\u001b[0m\n\u001b[0m\u001b[1;32m    571\u001b[0m \u001b[0;34m\u001b[0m\u001b[0m\n\u001b[1;32m    572\u001b[0m \u001b[0;31m# XXX probably also want an abstract factory that knows when it makes\u001b[0m\u001b[0;34m\u001b[0m\u001b[0;34m\u001b[0m\u001b[0m\n",
      "\u001b[0;32m/Users/davidchiu/.pyenv/versions/3.6.2/lib/python3.6/urllib/request.py\u001b[0m in \u001b[0;36m_call_chain\u001b[0;34m(self, chain, kind, meth_name, *args)\u001b[0m\n\u001b[1;32m    502\u001b[0m         \u001b[0;32mfor\u001b[0m \u001b[0mhandler\u001b[0m \u001b[0;32min\u001b[0m \u001b[0mhandlers\u001b[0m\u001b[0;34m:\u001b[0m\u001b[0;34m\u001b[0m\u001b[0m\n\u001b[1;32m    503\u001b[0m             \u001b[0mfunc\u001b[0m \u001b[0;34m=\u001b[0m \u001b[0mgetattr\u001b[0m\u001b[0;34m(\u001b[0m\u001b[0mhandler\u001b[0m\u001b[0;34m,\u001b[0m \u001b[0mmeth_name\u001b[0m\u001b[0;34m)\u001b[0m\u001b[0;34m\u001b[0m\u001b[0m\n\u001b[0;32m--> 504\u001b[0;31m             \u001b[0mresult\u001b[0m \u001b[0;34m=\u001b[0m \u001b[0mfunc\u001b[0m\u001b[0;34m(\u001b[0m\u001b[0;34m*\u001b[0m\u001b[0margs\u001b[0m\u001b[0;34m)\u001b[0m\u001b[0;34m\u001b[0m\u001b[0m\n\u001b[0m\u001b[1;32m    505\u001b[0m             \u001b[0;32mif\u001b[0m \u001b[0mresult\u001b[0m \u001b[0;32mis\u001b[0m \u001b[0;32mnot\u001b[0m \u001b[0;32mNone\u001b[0m\u001b[0;34m:\u001b[0m\u001b[0;34m\u001b[0m\u001b[0m\n\u001b[1;32m    506\u001b[0m                 \u001b[0;32mreturn\u001b[0m \u001b[0mresult\u001b[0m\u001b[0;34m\u001b[0m\u001b[0m\n",
      "\u001b[0;32m/Users/davidchiu/.pyenv/versions/3.6.2/lib/python3.6/urllib/request.py\u001b[0m in \u001b[0;36mhttp_error_default\u001b[0;34m(self, req, fp, code, msg, hdrs)\u001b[0m\n\u001b[1;32m    648\u001b[0m \u001b[0;32mclass\u001b[0m \u001b[0mHTTPDefaultErrorHandler\u001b[0m\u001b[0;34m(\u001b[0m\u001b[0mBaseHandler\u001b[0m\u001b[0;34m)\u001b[0m\u001b[0;34m:\u001b[0m\u001b[0;34m\u001b[0m\u001b[0m\n\u001b[1;32m    649\u001b[0m     \u001b[0;32mdef\u001b[0m \u001b[0mhttp_error_default\u001b[0m\u001b[0;34m(\u001b[0m\u001b[0mself\u001b[0m\u001b[0;34m,\u001b[0m \u001b[0mreq\u001b[0m\u001b[0;34m,\u001b[0m \u001b[0mfp\u001b[0m\u001b[0;34m,\u001b[0m \u001b[0mcode\u001b[0m\u001b[0;34m,\u001b[0m \u001b[0mmsg\u001b[0m\u001b[0;34m,\u001b[0m \u001b[0mhdrs\u001b[0m\u001b[0;34m)\u001b[0m\u001b[0;34m:\u001b[0m\u001b[0;34m\u001b[0m\u001b[0m\n\u001b[0;32m--> 650\u001b[0;31m         \u001b[0;32mraise\u001b[0m \u001b[0mHTTPError\u001b[0m\u001b[0;34m(\u001b[0m\u001b[0mreq\u001b[0m\u001b[0;34m.\u001b[0m\u001b[0mfull_url\u001b[0m\u001b[0;34m,\u001b[0m \u001b[0mcode\u001b[0m\u001b[0;34m,\u001b[0m \u001b[0mmsg\u001b[0m\u001b[0;34m,\u001b[0m \u001b[0mhdrs\u001b[0m\u001b[0;34m,\u001b[0m \u001b[0mfp\u001b[0m\u001b[0;34m)\u001b[0m\u001b[0;34m\u001b[0m\u001b[0m\n\u001b[0m\u001b[1;32m    651\u001b[0m \u001b[0;34m\u001b[0m\u001b[0m\n\u001b[1;32m    652\u001b[0m \u001b[0;32mclass\u001b[0m \u001b[0mHTTPRedirectHandler\u001b[0m\u001b[0;34m(\u001b[0m\u001b[0mBaseHandler\u001b[0m\u001b[0;34m)\u001b[0m\u001b[0;34m:\u001b[0m\u001b[0;34m\u001b[0m\u001b[0m\n",
      "\u001b[0;31mHTTPError\u001b[0m: HTTP Error 404: Not Found"
     ]
    }
   ],
   "source": [
    "import pandas as pd\n",
    "df = pd.read_csv('https://raw.githubusercontent.com/ywchiu/tibamepy/master/data/rent_591.csv', index_col=0)\n",
    "df"
   ]
  },
  {
   "cell_type": "code",
   "execution_count": null,
   "metadata": {},
   "outputs": [],
   "source": []
  }
 ],
 "metadata": {
  "kernelspec": {
   "display_name": "Python 3",
   "language": "python",
   "name": "python3"
  },
  "language_info": {
   "codemirror_mode": {
    "name": "ipython",
    "version": 3
   },
   "file_extension": ".py",
   "mimetype": "text/x-python",
   "name": "python",
   "nbconvert_exporter": "python",
   "pygments_lexer": "ipython3",
   "version": "3.6.2"
  }
 },
 "nbformat": 4,
 "nbformat_minor": 2
}
