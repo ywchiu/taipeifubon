{
 "cells": [
  {
   "cell_type": "markdown",
   "metadata": {},
   "source": [
    "## 作業二 提示"
   ]
  },
  {
   "cell_type": "code",
   "execution_count": 1,
   "metadata": {},
   "outputs": [],
   "source": [
    "import requests\n",
    "url = 'https://www.moneydj.com/InfoSvc/apis/vc'\n",
    "payload = {\"counts\":[{\"svc\":\"NS\",\"guid\":\"3680573d-0d84-4bb7-88d5-9657804fab6c\"},{\"svc\":\"NS\",\"guid\":\"8f8596e6-a738-4f33-a67f-cfb4866c5c5b\"},{\"svc\":\"NV\",\"guid\":\"80a64693-4bf8-4cd4-9890-5a9c7a110a84\"},{\"svc\":\"NV\",\"guid\":\"12e22cc3-2553-4c77-9f77-24a74814c853\"},{\"svc\":\"NV\",\"guid\":\"cb8fcb41-13e6-4972-808b-f8ce75de3d3d\"},{\"svc\":\"NV\",\"guid\":\"404d7158-92a3-4026-8e9b-12c979455164\"},{\"svc\":\"NV\",\"guid\":\"a6e01a7a-5e90-4839-991a-b50827013a89\"},{\"svc\":\"NV\",\"guid\":\"559b531d-2ebc-4e3e-828f-37041fc89bd4\"},{\"svc\":\"NV\",\"guid\":\"36348bcb-718b-40ee-89b6-ddca7c73e35a\"},{\"svc\":\"NV\",\"guid\":\"daeae8fe-fcd9-4e25-960f-c5dfc713c4bf\"},{\"svc\":\"NV\",\"guid\":\"393e67e7-ddd8-4d64-b6d5-5736cea0aa9a\"},{\"svc\":\"NV\",\"guid\":\"645099fb-346b-4b11-8e68-89ac56d58b5f\"},{\"svc\":\"NS\",\"guid\":\"3e7f0f53-960e-4e88-b7f7-ec0d145bbf47\"},{\"svc\":\"NS\",\"guid\":\"288a7e86-fb35-4d1d-bd71-f088c053e788\"},{\"svc\":\"NV\",\"guid\":\"5d7c0040-0f94-469c-9df6-07dd24c8572f\"},{\"svc\":\"NV\",\"guid\":\"772408ee-8e4f-48da-af9f-02bae0c55c73\"},{\"svc\":\"NS\",\"guid\":\"726dd048-f552-4500-b252-09421c1707c3\"},{\"svc\":\"NS\",\"guid\":\"278bf9d8-44fb-4e70-bf86-c58f58df30e8\"},{\"svc\":\"NV\",\"guid\":\"d3f8d5e8-46ab-4b76-ba88-04d6184ec869\"}]}\n",
    "res = requests.post(url, json = payload)"
   ]
  },
  {
   "cell_type": "code",
   "execution_count": 2,
   "metadata": {},
   "outputs": [
    {
     "data": {
      "text/plain": [
       "{'counts': [{'count': 6,\n",
       "   'guid': '3680573d-0d84-4bb7-88d5-9657804fab6c',\n",
       "   'svc': 'NS'},\n",
       "  {'count': 5, 'guid': '8f8596e6-a738-4f33-a67f-cfb4866c5c5b', 'svc': 'NS'},\n",
       "  {'count': 5, 'guid': '80a64693-4bf8-4cd4-9890-5a9c7a110a84', 'svc': 'NV'},\n",
       "  {'count': 13, 'guid': '12e22cc3-2553-4c77-9f77-24a74814c853', 'svc': 'NV'},\n",
       "  {'count': 4, 'guid': 'cb8fcb41-13e6-4972-808b-f8ce75de3d3d', 'svc': 'NV'},\n",
       "  {'count': 23, 'guid': '404d7158-92a3-4026-8e9b-12c979455164', 'svc': 'NV'},\n",
       "  {'count': 7, 'guid': 'a6e01a7a-5e90-4839-991a-b50827013a89', 'svc': 'NV'},\n",
       "  {'count': 16, 'guid': '559b531d-2ebc-4e3e-828f-37041fc89bd4', 'svc': 'NV'},\n",
       "  {'count': 20, 'guid': '36348bcb-718b-40ee-89b6-ddca7c73e35a', 'svc': 'NV'},\n",
       "  {'count': 14, 'guid': 'daeae8fe-fcd9-4e25-960f-c5dfc713c4bf', 'svc': 'NV'},\n",
       "  {'count': 54, 'guid': '393e67e7-ddd8-4d64-b6d5-5736cea0aa9a', 'svc': 'NV'},\n",
       "  {'count': 18, 'guid': '645099fb-346b-4b11-8e68-89ac56d58b5f', 'svc': 'NV'},\n",
       "  {'count': 12, 'guid': '3e7f0f53-960e-4e88-b7f7-ec0d145bbf47', 'svc': 'NS'},\n",
       "  {'count': 17, 'guid': '288a7e86-fb35-4d1d-bd71-f088c053e788', 'svc': 'NS'},\n",
       "  {'count': 40, 'guid': '5d7c0040-0f94-469c-9df6-07dd24c8572f', 'svc': 'NV'},\n",
       "  {'count': 24, 'guid': '772408ee-8e4f-48da-af9f-02bae0c55c73', 'svc': 'NV'},\n",
       "  {'count': 13, 'guid': '726dd048-f552-4500-b252-09421c1707c3', 'svc': 'NS'},\n",
       "  {'count': 21, 'guid': '278bf9d8-44fb-4e70-bf86-c58f58df30e8', 'svc': 'NS'},\n",
       "  {'count': 29, 'guid': 'd3f8d5e8-46ab-4b76-ba88-04d6184ec869', 'svc': 'NV'}]}"
      ]
     },
     "execution_count": 2,
     "metadata": {},
     "output_type": "execute_result"
    }
   ],
   "source": [
    "res.json()"
   ]
  },
  {
   "cell_type": "code",
   "execution_count": 3,
   "metadata": {},
   "outputs": [],
   "source": [
    "import requests\n",
    "url = 'https://www.moneydj.com/InfoSvc/apis/vc'\n",
    "payload = {\"counts\":[{\"svc\":\"NS\",\"guid\":\"3680573d-0d84-4bb7-88d5-9657804fab6c\"}]}\n",
    "res = requests.post(url, json = payload)"
   ]
  },
  {
   "cell_type": "code",
   "execution_count": 4,
   "metadata": {},
   "outputs": [
    {
     "data": {
      "text/plain": [
       "{'counts': [{'count': 6,\n",
       "   'guid': '3680573d-0d84-4bb7-88d5-9657804fab6c',\n",
       "   'svc': 'NS'}]}"
      ]
     },
     "execution_count": 4,
     "metadata": {},
     "output_type": "execute_result"
    }
   ],
   "source": [
    "res.json()"
   ]
  },
  {
   "cell_type": "code",
   "execution_count": 7,
   "metadata": {},
   "outputs": [
    {
     "data": {
      "text/plain": [
       "'3680573d-0d84-4bb7-88d5-9657804fab6c'"
      ]
     },
     "execution_count": 7,
     "metadata": {},
     "output_type": "execute_result"
    }
   ],
   "source": [
    "newsurl = 'https://www.moneydj.com/KMDJ/News/NewsViewer.aspx?a=3680573d-0d84-4bb7-88d5-9657804fab6c&c=MB00'\n",
    "newsurl.split('?a=')[1].split('&c')[0]"
   ]
  },
  {
   "cell_type": "code",
   "execution_count": 10,
   "metadata": {},
   "outputs": [],
   "source": [
    "import re\n",
    "m = re.search('a=([\\w-]+)&', newsurl)"
   ]
  },
  {
   "cell_type": "code",
   "execution_count": 11,
   "metadata": {},
   "outputs": [
    {
     "data": {
      "text/plain": [
       "'3680573d-0d84-4bb7-88d5-9657804fab6c'"
      ]
     },
     "execution_count": 11,
     "metadata": {},
     "output_type": "execute_result"
    }
   ],
   "source": [
    "m.group(1)"
   ]
  },
  {
   "cell_type": "code",
   "execution_count": 12,
   "metadata": {},
   "outputs": [
    {
     "name": "stdout",
     "output_type": "stream",
     "text": [
      "['3680573d-0d84-4bb7-88d5-9657804fab6c']\n"
     ]
    }
   ],
   "source": [
    "import urllib.parse as urlparse\n",
    "from urllib.parse import parse_qs\n",
    "parsed = urlparse.urlparse(newsurl)\n",
    "print(parse_qs(parsed.query)['a'])"
   ]
  },
  {
   "cell_type": "code",
   "execution_count": null,
   "metadata": {},
   "outputs": [],
   "source": [
    "https://www.moneydj.com/KMDJ/News/NewsViewer.aspx?a=80a64693-4bf8-4cd4-9890-5a9c7a110a84&c=MB00"
   ]
  },
  {
   "cell_type": "code",
   "execution_count": 15,
   "metadata": {},
   "outputs": [
    {
     "data": {
      "text/plain": [
       "{'counts': [{'count': 14,\n",
       "   'guid': '80a64693-4bf8-4cd4-9890-5a9c7a110a84',\n",
       "   'svc': 'NV'}]}"
      ]
     },
     "execution_count": 15,
     "metadata": {},
     "output_type": "execute_result"
    }
   ],
   "source": [
    "import requests\n",
    "url = 'https://www.moneydj.com/InfoSvc/apis/vc'\n",
    "payload = {\"counts\":[{\"svc\":\"NV\",\"guid\":\"80a64693-4bf8-4cd4-9890-5a9c7a110a84\"}]}\n",
    "res = requests.post(url, json = payload)\n",
    "res.json()"
   ]
  },
  {
   "cell_type": "code",
   "execution_count": null,
   "metadata": {},
   "outputs": [],
   "source": [
    "https://www.moneydj.com/KMDJ/News/NewsViewer.aspx?a=3680573d-0d84-4bb7-88d5-9657804fab6c&c=MB00\n",
    "https://www.moneydj.com/KMDJ/News/NewsViewer.aspx?a=80a64693-4bf8-4cd4-9890-5a9c7a110a84&c=MB00"
   ]
  },
  {
   "cell_type": "code",
   "execution_count": 17,
   "metadata": {},
   "outputs": [],
   "source": [
    "import requests\n",
    "from bs4 import BeautifulSoup\n",
    "res = requests.get('https://www.moneydj.com/KMDJ/News/NewsRealList.aspx?a=MB00')\n",
    "soup = BeautifulSoup(res.text, 'lxml')"
   ]
  },
  {
   "cell_type": "code",
   "execution_count": 27,
   "metadata": {},
   "outputs": [],
   "source": [
    "import requests\n",
    "def getVC(svc, guid):\n",
    "    url = 'https://www.moneydj.com/InfoSvc/apis/vc'\n",
    "    payload = {\"counts\":[{\"svc\":svc,\"guid\":guid}]}\n",
    "    res = requests.post(url, json = payload)\n",
    "    jd = res.json()\n",
    "    return jd['counts'][0]['count']"
   ]
  },
  {
   "cell_type": "code",
   "execution_count": 28,
   "metadata": {},
   "outputs": [
    {
     "name": "stdout",
     "output_type": "stream",
     "text": [
      "8\n",
      "10\n",
      "2\n",
      "2\n",
      "2\n",
      "3\n",
      "0\n",
      "1\n",
      "2\n",
      "0\n",
      "58\n",
      "23\n",
      "3\n",
      "5\n",
      "6\n",
      "7\n",
      "7\n",
      "7\n",
      "14\n",
      "21\n"
     ]
    }
   ],
   "source": [
    "for tr in soup.select('#MainContent_Contents_sl_gvList tr'):\n",
    "    if tr.select('td'):\n",
    "        rec = tr.select('td')[-1].select_one('span')\n",
    "        vc = getVC(rec.get('vsvc'), rec.get('vkey'))\n",
    "        print(vc)"
   ]
  },
  {
   "cell_type": "markdown",
   "metadata": {},
   "source": [
    "## Selenium "
   ]
  },
  {
   "cell_type": "code",
   "execution_count": 29,
   "metadata": {},
   "outputs": [],
   "source": [
    "from selenium import webdriver\n",
    "driver = webdriver.Chrome('./chromedriver')\n",
    "driver.get('https://www.moneydj.com/KMDJ/News/NewsRealList.aspx?index1=500&a=MB00')"
   ]
  },
  {
   "cell_type": "code",
   "execution_count": 31,
   "metadata": {},
   "outputs": [],
   "source": [
    "#driver.page_source\n",
    "soup = BeautifulSoup(driver.page_source, 'lxml')"
   ]
  },
  {
   "cell_type": "code",
   "execution_count": 32,
   "metadata": {},
   "outputs": [
    {
     "name": "stdout",
     "output_type": "stream",
     "text": [
      "<td align=\"center\" style=\"color:Gray;width:30px;\">\n",
      "<span class=\"viewcount\" vkey=\"35cdec42-ea0b-4294-8ed0-3fd03082147c\" vsvc=\"NS\">54</span>\n",
      "</td>\n",
      "<td align=\"center\" style=\"color:Gray;width:30px;\">\n",
      "<span class=\"viewcount\" vkey=\"64aab579-b7e0-4b98-8531-04aab55403ab\" vsvc=\"NS\">27</span>\n",
      "</td>\n",
      "<td align=\"center\" style=\"color:Gray;width:30px;\">\n",
      "<span class=\"viewcount\" vkey=\"839580db-9fdb-4c86-9889-8274c239e936\" vsvc=\"NS\">47</span>\n",
      "</td>\n",
      "<td align=\"center\" style=\"color:Gray;width:30px;\">\n",
      "<span class=\"viewcount\" vkey=\"1dcaa217-ef59-4936-8b03-bc8845b3c348\" vsvc=\"NS\">39</span>\n",
      "</td>\n",
      "<td align=\"center\" style=\"color:Gray;width:30px;\">\n",
      "<span class=\"viewcount\" vkey=\"5c036b3b-cd60-49de-8848-c5e6cf310b50\" vsvc=\"NS\">51</span>\n",
      "</td>\n",
      "<td align=\"center\" style=\"color:Gray;width:30px;\">\n",
      "<span class=\"viewcount\" vkey=\"4a10e7ee-aba7-4e85-b1b4-3b593290e487\" vsvc=\"NS\">95</span>\n",
      "</td>\n",
      "<td align=\"center\" style=\"color:Gray;width:30px;\">\n",
      "<span class=\"viewcount\" vkey=\"86c63676-f0ad-4c21-9b24-96dd2cb2a65a\" vsvc=\"NS\">260</span>\n",
      "</td>\n",
      "<td align=\"center\" style=\"color:Gray;width:30px;\">\n",
      "<span class=\"viewcount\" vkey=\"4c4266d2-610c-408d-8db4-64d0a372775d\" vsvc=\"NS\">16</span>\n",
      "</td>\n",
      "<td align=\"center\" style=\"color:Gray;width:30px;\">\n",
      "<span class=\"viewcount\" vkey=\"19862605-204b-46bc-899c-f5c9a637d78b\" vsvc=\"NS\">49</span>\n",
      "</td>\n",
      "<td align=\"center\" style=\"color:Gray;width:30px;\">\n",
      "<span class=\"viewcount\" vkey=\"6cf81bbd-c28d-4d2e-8203-102bcf1e6444\" vsvc=\"NS\">35</span>\n",
      "</td>\n",
      "<td align=\"center\" style=\"color:Gray;width:30px;\">\n",
      "<span class=\"viewcount\" vkey=\"722849f1-7de8-4c82-be26-691e3e0624b6\" vsvc=\"NS\">32</span>\n",
      "</td>\n",
      "<td align=\"center\" style=\"color:Gray;width:30px;\">\n",
      "<span class=\"viewcount\" vkey=\"d66a6598-a0b8-40c4-8cd1-3a055aef907c\" vsvc=\"NS\">23</span>\n",
      "</td>\n",
      "<td align=\"center\" style=\"color:Gray;width:30px;\">\n",
      "<span class=\"viewcount\" vkey=\"1827a0da-513e-4e5b-8b82-9d1f99ba1526\" vsvc=\"NV\">129</span>\n",
      "</td>\n",
      "<td align=\"center\" style=\"color:Gray;width:30px;\">\n",
      "<span class=\"viewcount\" vkey=\"b549560a-950e-4cf2-bf38-3dd7ae99363d\" vsvc=\"NV\">165</span>\n",
      "</td>\n",
      "<td align=\"center\" style=\"color:Gray;width:30px;\">\n",
      "<span class=\"viewcount\" vkey=\"0e0b300d-72be-44ad-900e-df3cde1d0f74\" vsvc=\"NV\">158</span>\n",
      "</td>\n",
      "<td align=\"center\" style=\"color:Gray;width:30px;\">\n",
      "<span class=\"viewcount\" vkey=\"a2756344-1784-4ac1-8aa0-a81f0b1eba93\" vsvc=\"NV\">150</span>\n",
      "</td>\n",
      "<td align=\"center\" style=\"color:Gray;width:30px;\">\n",
      "<span class=\"viewcount\" vkey=\"83479a9e-04bd-4db0-8ab6-c60e37b9942e\" vsvc=\"NV\">891</span>\n",
      "</td>\n",
      "<td align=\"center\" style=\"color:Gray;width:30px;\">\n",
      "<span class=\"viewcount\" vkey=\"cd44227e-8a5d-4c4f-9862-2a9edca796a4\" vsvc=\"NV\">176</span>\n",
      "</td>\n",
      "<td align=\"center\" style=\"color:Gray;width:30px;\">\n",
      "<span class=\"viewcount\" vkey=\"03c9112d-60f0-45cb-ba23-a2318b915ada\" vsvc=\"NV\">134</span>\n",
      "</td>\n",
      "<td align=\"center\" style=\"color:Gray;width:30px;\">\n",
      "<span class=\"viewcount\" vkey=\"cfa1fb28-b8c0-47b5-a575-a37d17e74ccf\" vsvc=\"NV\">662</span>\n",
      "</td>\n"
     ]
    }
   ],
   "source": [
    "for tr in soup.select('#MainContent_Contents_sl_gvList tr'):\n",
    "    if tr.select('td'):\n",
    "        print(tr.select('td')[-1])"
   ]
  },
  {
   "cell_type": "markdown",
   "metadata": {},
   "source": [
    "## MechanicalSoup"
   ]
  },
  {
   "cell_type": "code",
   "execution_count": 33,
   "metadata": {},
   "outputs": [
    {
     "data": {
      "text/plain": [
       "<Response [200]>"
      ]
     },
     "execution_count": 33,
     "metadata": {},
     "output_type": "execute_result"
    }
   ],
   "source": [
    "import mechanicalsoup\n",
    "browser = mechanicalsoup.StatefulBrowser()\n",
    "browser.open(\"https://www.moneydj.com/KMDJ/News/NewsRealList.aspx?index1=500&a=MB00\")"
   ]
  },
  {
   "cell_type": "code",
   "execution_count": 34,
   "metadata": {},
   "outputs": [
    {
     "name": "stdout",
     "output_type": "stream",
     "text": [
      "<td align=\"center\" style=\"color:Gray;width:30px;\">\n",
      "<span class=\"viewcount\" vkey=\"35cdec42-ea0b-4294-8ed0-3fd03082147c\" vsvc=\"NS\">0</span>\n",
      "</td>\n",
      "<td align=\"center\" style=\"color:Gray;width:30px;\">\n",
      "<span class=\"viewcount\" vkey=\"64aab579-b7e0-4b98-8531-04aab55403ab\" vsvc=\"NS\">0</span>\n",
      "</td>\n",
      "<td align=\"center\" style=\"color:Gray;width:30px;\">\n",
      "<span class=\"viewcount\" vkey=\"839580db-9fdb-4c86-9889-8274c239e936\" vsvc=\"NS\">0</span>\n",
      "</td>\n",
      "<td align=\"center\" style=\"color:Gray;width:30px;\">\n",
      "<span class=\"viewcount\" vkey=\"1dcaa217-ef59-4936-8b03-bc8845b3c348\" vsvc=\"NS\">0</span>\n",
      "</td>\n",
      "<td align=\"center\" style=\"color:Gray;width:30px;\">\n",
      "<span class=\"viewcount\" vkey=\"5c036b3b-cd60-49de-8848-c5e6cf310b50\" vsvc=\"NS\">0</span>\n",
      "</td>\n",
      "<td align=\"center\" style=\"color:Gray;width:30px;\">\n",
      "<span class=\"viewcount\" vkey=\"4a10e7ee-aba7-4e85-b1b4-3b593290e487\" vsvc=\"NS\">0</span>\n",
      "</td>\n",
      "<td align=\"center\" style=\"color:Gray;width:30px;\">\n",
      "<span class=\"viewcount\" vkey=\"86c63676-f0ad-4c21-9b24-96dd2cb2a65a\" vsvc=\"NS\">0</span>\n",
      "</td>\n",
      "<td align=\"center\" style=\"color:Gray;width:30px;\">\n",
      "<span class=\"viewcount\" vkey=\"4c4266d2-610c-408d-8db4-64d0a372775d\" vsvc=\"NS\">0</span>\n",
      "</td>\n",
      "<td align=\"center\" style=\"color:Gray;width:30px;\">\n",
      "<span class=\"viewcount\" vkey=\"19862605-204b-46bc-899c-f5c9a637d78b\" vsvc=\"NS\">0</span>\n",
      "</td>\n",
      "<td align=\"center\" style=\"color:Gray;width:30px;\">\n",
      "<span class=\"viewcount\" vkey=\"6cf81bbd-c28d-4d2e-8203-102bcf1e6444\" vsvc=\"NS\">0</span>\n",
      "</td>\n",
      "<td align=\"center\" style=\"color:Gray;width:30px;\">\n",
      "<span class=\"viewcount\" vkey=\"722849f1-7de8-4c82-be26-691e3e0624b6\" vsvc=\"NS\">0</span>\n",
      "</td>\n",
      "<td align=\"center\" style=\"color:Gray;width:30px;\">\n",
      "<span class=\"viewcount\" vkey=\"d66a6598-a0b8-40c4-8cd1-3a055aef907c\" vsvc=\"NS\">0</span>\n",
      "</td>\n",
      "<td align=\"center\" style=\"color:Gray;width:30px;\">\n",
      "<span class=\"viewcount\" vkey=\"1827a0da-513e-4e5b-8b82-9d1f99ba1526\" vsvc=\"NV\">0</span>\n",
      "</td>\n",
      "<td align=\"center\" style=\"color:Gray;width:30px;\">\n",
      "<span class=\"viewcount\" vkey=\"b549560a-950e-4cf2-bf38-3dd7ae99363d\" vsvc=\"NV\">0</span>\n",
      "</td>\n",
      "<td align=\"center\" style=\"color:Gray;width:30px;\">\n",
      "<span class=\"viewcount\" vkey=\"0e0b300d-72be-44ad-900e-df3cde1d0f74\" vsvc=\"NV\">0</span>\n",
      "</td>\n",
      "<td align=\"center\" style=\"color:Gray;width:30px;\">\n",
      "<span class=\"viewcount\" vkey=\"a2756344-1784-4ac1-8aa0-a81f0b1eba93\" vsvc=\"NV\">0</span>\n",
      "</td>\n",
      "<td align=\"center\" style=\"color:Gray;width:30px;\">\n",
      "<span class=\"viewcount\" vkey=\"83479a9e-04bd-4db0-8ab6-c60e37b9942e\" vsvc=\"NV\">0</span>\n",
      "</td>\n",
      "<td align=\"center\" style=\"color:Gray;width:30px;\">\n",
      "<span class=\"viewcount\" vkey=\"cd44227e-8a5d-4c4f-9862-2a9edca796a4\" vsvc=\"NV\">0</span>\n",
      "</td>\n",
      "<td align=\"center\" style=\"color:Gray;width:30px;\">\n",
      "<span class=\"viewcount\" vkey=\"03c9112d-60f0-45cb-ba23-a2318b915ada\" vsvc=\"NV\">0</span>\n",
      "</td>\n",
      "<td align=\"center\" style=\"color:Gray;width:30px;\">\n",
      "<span class=\"viewcount\" vkey=\"cfa1fb28-b8c0-47b5-a575-a37d17e74ccf\" vsvc=\"NV\">0</span>\n",
      "</td>\n"
     ]
    }
   ],
   "source": [
    "soup = browser.get_current_page()\n",
    "for tr in soup.select('#MainContent_Contents_sl_gvList tr'):\n",
    "    if tr.select('td'):\n",
    "        print(tr.select('td')[-1])"
   ]
  },
  {
   "cell_type": "markdown",
   "metadata": {},
   "source": [
    "## 591 預售屋的資料爬取"
   ]
  },
  {
   "cell_type": "code",
   "execution_count": 41,
   "metadata": {},
   "outputs": [],
   "source": [
    "import requests\n",
    "headers = {\n",
    "  'User-Agent': 'Mozilla/5.0 (Macintosh; Intel Mac OS X 10_14_6) AppleWebKit/537.36 (KHTML, like Gecko) Chrome/80.0.3987.149 Safari/537.36'  \n",
    "}\n",
    "res = requests.get('https://newhouse.591.com.tw/home/housing/search?rid=1&sid=&build_type=1&page=2', headers = headers)\n",
    "jd = res.json()"
   ]
  },
  {
   "cell_type": "code",
   "execution_count": 44,
   "metadata": {},
   "outputs": [],
   "source": [
    "import pandas\n",
    "df = pandas.DataFrame(jd['data']['items'])"
   ]
  },
  {
   "cell_type": "code",
   "execution_count": 50,
   "metadata": {},
   "outputs": [
    {
     "data": {
      "text/plain": [
       "8"
      ]
     },
     "execution_count": 50,
     "metadata": {},
     "output_type": "execute_result"
    }
   ],
   "source": [
    "import math\n",
    "pages = math.ceil(jd['data']['total'] / 20)\n",
    "pages"
   ]
  },
  {
   "cell_type": "code",
   "execution_count": 51,
   "metadata": {},
   "outputs": [
    {
     "name": "stdout",
     "output_type": "stream",
     "text": [
      "0\n",
      "1\n",
      "2\n",
      "3\n",
      "4\n",
      "5\n",
      "6\n",
      "7\n"
     ]
    }
   ],
   "source": [
    "import requests\n",
    "headers = {\n",
    "  'User-Agent': 'Mozilla/5.0 (Macintosh; Intel Mac OS X 10_14_6) AppleWebKit/537.36 (KHTML, like Gecko) Chrome/80.0.3987.149 Safari/537.36'  \n",
    "}\n",
    "house_ary = []\n",
    "for i in range(pages):\n",
    "    res = requests.get('https://newhouse.591.com.tw/home/housing/search?rid=1&sid=&build_type=1&page={}'.format(i+1), headers = headers)\n",
    "    jd = res.json()\n",
    "    df = pandas.DataFrame(jd['data']['items'])\n",
    "    house_ary.append(df)\n",
    "    print(i)"
   ]
  },
  {
   "cell_type": "code",
   "execution_count": 52,
   "metadata": {},
   "outputs": [
    {
     "name": "stderr",
     "output_type": "stream",
     "text": [
      "/Users/davidchiu/.pyenv/versions/3.6.2/lib/python3.6/site-packages/ipykernel_launcher.py:1: FutureWarning: Sorting because non-concatenation axis is not aligned. A future version\n",
      "of pandas will change to not sort by default.\n",
      "\n",
      "To accept the future behavior, pass 'sort=False'.\n",
      "\n",
      "To retain the current behavior and silence the warning, pass 'sort=True'.\n",
      "\n",
      "  \"\"\"Entry point for launching an IPython kernel.\n"
     ]
    }
   ],
   "source": [
    "housedf = pandas.concat(house_ary)"
   ]
  },
  {
   "cell_type": "code",
   "execution_count": 53,
   "metadata": {},
   "outputs": [
    {
     "data": {
      "text/plain": [
       "157"
      ]
     },
     "execution_count": 53,
     "metadata": {},
     "output_type": "execute_result"
    }
   ],
   "source": [
    "len(housedf)"
   ]
  },
  {
   "cell_type": "code",
   "execution_count": 55,
   "metadata": {},
   "outputs": [
    {
     "data": {
      "text/plain": [
       "address                                              台北市萬華區西昌街134號\n",
       "area                                                        17~38坪\n",
       "benefit_str                                                       \n",
       "build_article                                                    1\n",
       "build_name                                                    東騰元町\n",
       "build_type                                                       1\n",
       "call_num                                                       205\n",
       "cover            https://hp1.591.com.tw/house/active/2019/10/29...\n",
       "hid                                                         120930\n",
       "is_full                                                          1\n",
       "is_full_720                                                      1\n",
       "is_full_sky                                                      0\n",
       "is_video                                                         1\n",
       "phone                                                 0986-851-088\n",
       "phone_ext                                                    20909\n",
       "price                                                        52~65\n",
       "price_unit                                                     萬/坪\n",
       "purpose_str                                                    住商用\n",
       "region                                                         台北市\n",
       "regionid                                                         1\n",
       "room                              一房(17~18坪),二房(20~23坪),三房(34~38坪)\n",
       "section                                                        萬華區\n",
       "sectionid                                                        6\n",
       "status                                                           2\n",
       "tag                                           [近捷運, 景觀宅, 近公園, 低首付]\n",
       "updatetime                                              2020-02-20\n",
       "video_pic        https://hp1.591.com.tw/house/active/2020/01/14...\n",
       "Name: 0, dtype: object"
      ]
     },
     "execution_count": 55,
     "metadata": {},
     "output_type": "execute_result"
    }
   ],
   "source": [
    "housedf.iloc[0]"
   ]
  },
  {
   "cell_type": "code",
   "execution_count": 59,
   "metadata": {},
   "outputs": [],
   "source": [
    "housedf = housedf[housedf['price'] != '待定']"
   ]
  },
  {
   "cell_type": "code",
   "execution_count": 62,
   "metadata": {},
   "outputs": [
    {
     "data": {
      "text/plain": [
       "array(['52~65', '95~105', '120~150', '85~95', '130~150', '153~173',\n",
       "       '58~62', '155~168', '60~62', '66~70', '53~55', '135~140',\n",
       "       '105~110', 80, '85~88', 88, 82.5, '90~100', '88~90', '53~59',\n",
       "       '63~71', '72~75', '82~94', '75~94', 130, '108~125', 145, 120, 100,\n",
       "       '77~85', '72~78', 110, '200~220', '62.5~69.8', '68~76', '74~79',\n",
       "       '130~158', '62~67', '89~94', '68~78', '104~114', '165~185',\n",
       "       '129~141', '135~155', '178~180', '84~94', '68~74', '73~86',\n",
       "       '68~75', '150~160', '125~135', 85, 83, 90, 91, 140, '105~118',\n",
       "       '1088~2888', 3200, '66~68', '52~82', '48~50', '99~110', '66~74',\n",
       "       '120~130', '70~80', '90~115', '65~70', '98~112', '105~123',\n",
       "       '57~60', '76~85', '79~150', '100~106', '65~75', '68~72', '85~90',\n",
       "       '75~78', 63, '73~78', '79~89', '100~120', 65, '48~53', '70~77',\n",
       "       '80~90', '96~99', '80~100', '71~80', '78~88.5', '72~82', 82,\n",
       "       '49~55', 70, '55~58', 128, '145~155', '82~95', '57~62', '130~139',\n",
       "       '76~82', '97~112', '83~90', 64, '138~149', '65~73', '130~160',\n",
       "       '91~92', '68~73', '96~107', '75~85', '75~82', '1888~1978',\n",
       "       '96~106', '62~71', '118~128', '56~66'], dtype=object)"
      ]
     },
     "execution_count": 62,
     "metadata": {},
     "output_type": "execute_result"
    }
   ],
   "source": [
    "housedf['price'].unique()"
   ]
  },
  {
   "cell_type": "code",
   "execution_count": 66,
   "metadata": {},
   "outputs": [
    {
     "name": "stderr",
     "output_type": "stream",
     "text": [
      "/Users/davidchiu/.pyenv/versions/3.6.2/lib/python3.6/site-packages/ipykernel_launcher.py:1: SettingWithCopyWarning: \n",
      "A value is trying to be set on a copy of a slice from a DataFrame.\n",
      "Try using .loc[row_indexer,col_indexer] = value instead\n",
      "\n",
      "See the caveats in the documentation: http://pandas.pydata.org/pandas-docs/stable/indexing.html#indexing-view-versus-copy\n",
      "  \"\"\"Entry point for launching an IPython kernel.\n"
     ]
    }
   ],
   "source": [
    "housedf['max_price'] = housedf['price'].map(lambda e: float(str(e).split('~')[1]) if '~' in str(e) else float(str(e)))"
   ]
  },
  {
   "cell_type": "code",
   "execution_count": 69,
   "metadata": {},
   "outputs": [
    {
     "data": {
      "text/html": [
       "<div>\n",
       "<style scoped>\n",
       "    .dataframe tbody tr th:only-of-type {\n",
       "        vertical-align: middle;\n",
       "    }\n",
       "\n",
       "    .dataframe tbody tr th {\n",
       "        vertical-align: top;\n",
       "    }\n",
       "\n",
       "    .dataframe thead th {\n",
       "        text-align: right;\n",
       "    }\n",
       "</style>\n",
       "<table border=\"1\" class=\"dataframe\">\n",
       "  <thead>\n",
       "    <tr style=\"text-align: right;\">\n",
       "      <th></th>\n",
       "      <th>address</th>\n",
       "      <th>area</th>\n",
       "      <th>benefit_str</th>\n",
       "      <th>build_article</th>\n",
       "      <th>build_name</th>\n",
       "      <th>build_type</th>\n",
       "      <th>call_num</th>\n",
       "      <th>cover</th>\n",
       "      <th>hid</th>\n",
       "      <th>is_full</th>\n",
       "      <th>...</th>\n",
       "      <th>region</th>\n",
       "      <th>regionid</th>\n",
       "      <th>room</th>\n",
       "      <th>section</th>\n",
       "      <th>sectionid</th>\n",
       "      <th>status</th>\n",
       "      <th>tag</th>\n",
       "      <th>updatetime</th>\n",
       "      <th>video_pic</th>\n",
       "      <th>max_price</th>\n",
       "    </tr>\n",
       "  </thead>\n",
       "  <tbody>\n",
       "    <tr>\n",
       "      <th>7</th>\n",
       "      <td>台北市內湖區金湖路363巷51弄與347巷口</td>\n",
       "      <td>27~37坪</td>\n",
       "      <td></td>\n",
       "      <td>0</td>\n",
       "      <td>源利御品</td>\n",
       "      <td>1</td>\n",
       "      <td>17</td>\n",
       "      <td>https://hp1.591.com.tw/house/active/2020/02/20...</td>\n",
       "      <td>122462</td>\n",
       "      <td>0.0</td>\n",
       "      <td>...</td>\n",
       "      <td>台北市</td>\n",
       "      <td>1</td>\n",
       "      <td>三房(30坪)</td>\n",
       "      <td>內湖區</td>\n",
       "      <td>10</td>\n",
       "      <td>2</td>\n",
       "      <td>[近捷運, 明星學區, 制震宅, 近公園]</td>\n",
       "      <td>2020-03-20</td>\n",
       "      <td>NaN</td>\n",
       "      <td>3200.0</td>\n",
       "    </tr>\n",
       "    <tr>\n",
       "      <th>6</th>\n",
       "      <td>台北市松山區松河街76號</td>\n",
       "      <td>12~29坪</td>\n",
       "      <td></td>\n",
       "      <td>0</td>\n",
       "      <td>松蔦青語</td>\n",
       "      <td>1</td>\n",
       "      <td>75</td>\n",
       "      <td>https://hp2.591.com.tw/house/active/2020/02/14...</td>\n",
       "      <td>122754</td>\n",
       "      <td>0.0</td>\n",
       "      <td>...</td>\n",
       "      <td>台北市</td>\n",
       "      <td>1</td>\n",
       "      <td>一房(12坪),二房(29坪),2+1房(27坪)</td>\n",
       "      <td>松山區</td>\n",
       "      <td>4</td>\n",
       "      <td>2</td>\n",
       "      <td>[近捷運, 景觀宅, 制震宅, 近公園]</td>\n",
       "      <td>2020-03-04</td>\n",
       "      <td>NaN</td>\n",
       "      <td>2888.0</td>\n",
       "    </tr>\n",
       "    <tr>\n",
       "      <th>11</th>\n",
       "      <td>台北市大同區哈密街68巷</td>\n",
       "      <td>29.9坪</td>\n",
       "      <td></td>\n",
       "      <td>0</td>\n",
       "      <td>圓山の花博</td>\n",
       "      <td>1</td>\n",
       "      <td>150</td>\n",
       "      <td>https://hp2.591.com.tw/house/active/2016/09/30...</td>\n",
       "      <td>105350</td>\n",
       "      <td>0.0</td>\n",
       "      <td>...</td>\n",
       "      <td>台北市</td>\n",
       "      <td>1</td>\n",
       "      <td>二房(29.90坪)</td>\n",
       "      <td>大同區</td>\n",
       "      <td>2</td>\n",
       "      <td>3</td>\n",
       "      <td>[近捷運]</td>\n",
       "      <td>2017-09-15</td>\n",
       "      <td>NaN</td>\n",
       "      <td>1978.0</td>\n",
       "    </tr>\n",
       "    <tr>\n",
       "      <th>16</th>\n",
       "      <td>台北市信義區基隆路一段360號</td>\n",
       "      <td>75~168坪</td>\n",
       "      <td></td>\n",
       "      <td>0</td>\n",
       "      <td>ONE360昇陽國際</td>\n",
       "      <td>1</td>\n",
       "      <td>16</td>\n",
       "      <td>https://hp2.591.com.tw/house/active/2020/01/31...</td>\n",
       "      <td>121396</td>\n",
       "      <td>0.0</td>\n",
       "      <td>...</td>\n",
       "      <td>台北市</td>\n",
       "      <td>1</td>\n",
       "      <td>開放格局(75~168坪)</td>\n",
       "      <td>信義區</td>\n",
       "      <td>7</td>\n",
       "      <td>2</td>\n",
       "      <td>[品牌建商, 景觀宅, 近公園]</td>\n",
       "      <td>2020-01-31</td>\n",
       "      <td>NaN</td>\n",
       "      <td>220.0</td>\n",
       "    </tr>\n",
       "    <tr>\n",
       "      <th>6</th>\n",
       "      <td>台北市大安區復興南路一段175號旁</td>\n",
       "      <td>13~26坪</td>\n",
       "      <td></td>\n",
       "      <td>0</td>\n",
       "      <td>志榮BR4</td>\n",
       "      <td>1</td>\n",
       "      <td>55</td>\n",
       "      <td>https://hp2.591.com.tw/house/active/2020/02/03...</td>\n",
       "      <td>120120</td>\n",
       "      <td>0.0</td>\n",
       "      <td>...</td>\n",
       "      <td>台北市</td>\n",
       "      <td>1</td>\n",
       "      <td>一房(13坪),二房(19坪),三房(26坪)</td>\n",
       "      <td>大安區</td>\n",
       "      <td>5</td>\n",
       "      <td>2</td>\n",
       "      <td>[近捷運]</td>\n",
       "      <td>2020-02-03</td>\n",
       "      <td>NaN</td>\n",
       "      <td>185.0</td>\n",
       "    </tr>\n",
       "  </tbody>\n",
       "</table>\n",
       "<p>5 rows × 28 columns</p>\n",
       "</div>"
      ],
      "text/plain": [
       "                   address     area benefit_str  build_article  build_name  \\\n",
       "7   台北市內湖區金湖路363巷51弄與347巷口   27~37坪                          0        源利御品   \n",
       "6             台北市松山區松河街76號   12~29坪                          0        松蔦青語   \n",
       "11            台北市大同區哈密街68巷    29.9坪                          0       圓山の花博   \n",
       "16         台北市信義區基隆路一段360號  75~168坪                          0  ONE360昇陽國際   \n",
       "6        台北市大安區復興南路一段175號旁   13~26坪                          0       志榮BR4   \n",
       "\n",
       "    build_type  call_num                                              cover  \\\n",
       "7            1        17  https://hp1.591.com.tw/house/active/2020/02/20...   \n",
       "6            1        75  https://hp2.591.com.tw/house/active/2020/02/14...   \n",
       "11           1       150  https://hp2.591.com.tw/house/active/2016/09/30...   \n",
       "16           1        16  https://hp2.591.com.tw/house/active/2020/01/31...   \n",
       "6            1        55  https://hp2.591.com.tw/house/active/2020/02/03...   \n",
       "\n",
       "       hid  is_full  ...  region  regionid                       room section  \\\n",
       "7   122462      0.0  ...     台北市         1                    三房(30坪)     內湖區   \n",
       "6   122754      0.0  ...     台北市         1  一房(12坪),二房(29坪),2+1房(27坪)     松山區   \n",
       "11  105350      0.0  ...     台北市         1                 二房(29.90坪)     大同區   \n",
       "16  121396      0.0  ...     台北市         1              開放格局(75~168坪)     信義區   \n",
       "6   120120      0.0  ...     台北市         1    一房(13坪),二房(19坪),三房(26坪)     大安區   \n",
       "\n",
       "   sectionid status                    tag  updatetime video_pic  max_price  \n",
       "7         10      2  [近捷運, 明星學區, 制震宅, 近公園]  2020-03-20       NaN     3200.0  \n",
       "6          4      2   [近捷運, 景觀宅, 制震宅, 近公園]  2020-03-04       NaN     2888.0  \n",
       "11         2      3                  [近捷運]  2017-09-15       NaN     1978.0  \n",
       "16         7      2       [品牌建商, 景觀宅, 近公園]  2020-01-31       NaN      220.0  \n",
       "6          5      2                  [近捷運]  2020-02-03       NaN      185.0  \n",
       "\n",
       "[5 rows x 28 columns]"
      ]
     },
     "execution_count": 69,
     "metadata": {},
     "output_type": "execute_result"
    }
   ],
   "source": [
    "housedf.sort_values('max_price', ascending = False).head(5)"
   ]
  },
  {
   "cell_type": "markdown",
   "metadata": {},
   "source": [
    "## 各產業EPS 資訊"
   ]
  },
  {
   "cell_type": "code",
   "execution_count": 70,
   "metadata": {},
   "outputs": [],
   "source": [
    "import requests\n",
    "payload = {\n",
    "'encodeURIComponent': '1',\n",
    "'step': '1',\n",
    "'firstin': '1',\n",
    "'TYPEK': 'sii',\n",
    "'code': '17',\n",
    "'year': '108',\n",
    "'season': '04'    \n",
    "}\n",
    "res = requests.post('https://mops.twse.com.tw/mops/web/ajax_t163sb19', data = payload)"
   ]
  },
  {
   "cell_type": "code",
   "execution_count": 72,
   "metadata": {},
   "outputs": [],
   "source": [
    "import pandas\n",
    "dfs = pandas.read_html(res.text)"
   ]
  },
  {
   "cell_type": "code",
   "execution_count": 76,
   "metadata": {},
   "outputs": [],
   "source": [
    "df = dfs[0].dropna()"
   ]
  },
  {
   "cell_type": "code",
   "execution_count": 78,
   "metadata": {},
   "outputs": [],
   "source": [
    "#df"
   ]
  },
  {
   "cell_type": "code",
   "execution_count": 84,
   "metadata": {},
   "outputs": [
    {
     "name": "stdout",
     "output_type": "stream",
     "text": [
      "106 01\n"
     ]
    },
    {
     "name": "stderr",
     "output_type": "stream",
     "text": [
      "/Users/davidchiu/.pyenv/versions/3.6.2/lib/python3.6/site-packages/ipykernel_launcher.py:22: SettingWithCopyWarning: \n",
      "A value is trying to be set on a copy of a slice from a DataFrame.\n",
      "Try using .loc[row_indexer,col_indexer] = value instead\n",
      "\n",
      "See the caveats in the documentation: http://pandas.pydata.org/pandas-docs/stable/indexing.html#indexing-view-versus-copy\n",
      "/Users/davidchiu/.pyenv/versions/3.6.2/lib/python3.6/site-packages/ipykernel_launcher.py:23: SettingWithCopyWarning: \n",
      "A value is trying to be set on a copy of a slice from a DataFrame.\n",
      "Try using .loc[row_indexer,col_indexer] = value instead\n",
      "\n",
      "See the caveats in the documentation: http://pandas.pydata.org/pandas-docs/stable/indexing.html#indexing-view-versus-copy\n"
     ]
    },
    {
     "name": "stdout",
     "output_type": "stream",
     "text": [
      "106 02\n",
      "106 03\n",
      "106 04\n",
      "107 01\n",
      "107 02\n",
      "107 03\n",
      "107 04\n",
      "108 01\n",
      "108 02\n"
     ]
    },
    {
     "ename": "ConnectionError",
     "evalue": "('Connection aborted.', RemoteDisconnected('Remote end closed connection without response',))",
     "output_type": "error",
     "traceback": [
      "\u001b[0;31m---------------------------------------------------------------------------\u001b[0m",
      "\u001b[0;31mRemoteDisconnected\u001b[0m                        Traceback (most recent call last)",
      "\u001b[0;32m/Users/davidchiu/.pyenv/versions/3.6.2/lib/python3.6/site-packages/urllib3/connectionpool.py\u001b[0m in \u001b[0;36murlopen\u001b[0;34m(self, method, url, body, headers, retries, redirect, assert_same_host, timeout, pool_timeout, release_conn, chunked, body_pos, **response_kw)\u001b[0m\n\u001b[1;32m    602\u001b[0m                                                   \u001b[0mbody\u001b[0m\u001b[0;34m=\u001b[0m\u001b[0mbody\u001b[0m\u001b[0;34m,\u001b[0m \u001b[0mheaders\u001b[0m\u001b[0;34m=\u001b[0m\u001b[0mheaders\u001b[0m\u001b[0;34m,\u001b[0m\u001b[0;34m\u001b[0m\u001b[0m\n\u001b[0;32m--> 603\u001b[0;31m                                                   chunked=chunked)\n\u001b[0m\u001b[1;32m    604\u001b[0m \u001b[0;34m\u001b[0m\u001b[0m\n",
      "\u001b[0;32m/Users/davidchiu/.pyenv/versions/3.6.2/lib/python3.6/site-packages/urllib3/connectionpool.py\u001b[0m in \u001b[0;36m_make_request\u001b[0;34m(self, conn, method, url, timeout, chunked, **httplib_request_kw)\u001b[0m\n\u001b[1;32m    386\u001b[0m                     \u001b[0;31m# otherwise it looks like a programming error was the cause.\u001b[0m\u001b[0;34m\u001b[0m\u001b[0;34m\u001b[0m\u001b[0m\n\u001b[0;32m--> 387\u001b[0;31m                     \u001b[0msix\u001b[0m\u001b[0;34m.\u001b[0m\u001b[0mraise_from\u001b[0m\u001b[0;34m(\u001b[0m\u001b[0me\u001b[0m\u001b[0;34m,\u001b[0m \u001b[0;32mNone\u001b[0m\u001b[0;34m)\u001b[0m\u001b[0;34m\u001b[0m\u001b[0m\n\u001b[0m\u001b[1;32m    388\u001b[0m         \u001b[0;32mexcept\u001b[0m \u001b[0;34m(\u001b[0m\u001b[0mSocketTimeout\u001b[0m\u001b[0;34m,\u001b[0m \u001b[0mBaseSSLError\u001b[0m\u001b[0;34m,\u001b[0m \u001b[0mSocketError\u001b[0m\u001b[0;34m)\u001b[0m \u001b[0;32mas\u001b[0m \u001b[0me\u001b[0m\u001b[0;34m:\u001b[0m\u001b[0;34m\u001b[0m\u001b[0m\n",
      "\u001b[0;32m/Users/davidchiu/.pyenv/versions/3.6.2/lib/python3.6/site-packages/urllib3/packages/six.py\u001b[0m in \u001b[0;36mraise_from\u001b[0;34m(value, from_value)\u001b[0m\n",
      "\u001b[0;32m/Users/davidchiu/.pyenv/versions/3.6.2/lib/python3.6/site-packages/urllib3/connectionpool.py\u001b[0m in \u001b[0;36m_make_request\u001b[0;34m(self, conn, method, url, timeout, chunked, **httplib_request_kw)\u001b[0m\n\u001b[1;32m    382\u001b[0m                 \u001b[0;32mtry\u001b[0m\u001b[0;34m:\u001b[0m\u001b[0;34m\u001b[0m\u001b[0m\n\u001b[0;32m--> 383\u001b[0;31m                     \u001b[0mhttplib_response\u001b[0m \u001b[0;34m=\u001b[0m \u001b[0mconn\u001b[0m\u001b[0;34m.\u001b[0m\u001b[0mgetresponse\u001b[0m\u001b[0;34m(\u001b[0m\u001b[0;34m)\u001b[0m\u001b[0;34m\u001b[0m\u001b[0m\n\u001b[0m\u001b[1;32m    384\u001b[0m                 \u001b[0;32mexcept\u001b[0m \u001b[0mException\u001b[0m \u001b[0;32mas\u001b[0m \u001b[0me\u001b[0m\u001b[0;34m:\u001b[0m\u001b[0;34m\u001b[0m\u001b[0m\n",
      "\u001b[0;32m/Users/davidchiu/.pyenv/versions/3.6.2/lib/python3.6/http/client.py\u001b[0m in \u001b[0;36mgetresponse\u001b[0;34m(self)\u001b[0m\n\u001b[1;32m   1330\u001b[0m             \u001b[0;32mtry\u001b[0m\u001b[0;34m:\u001b[0m\u001b[0;34m\u001b[0m\u001b[0m\n\u001b[0;32m-> 1331\u001b[0;31m                 \u001b[0mresponse\u001b[0m\u001b[0;34m.\u001b[0m\u001b[0mbegin\u001b[0m\u001b[0;34m(\u001b[0m\u001b[0;34m)\u001b[0m\u001b[0;34m\u001b[0m\u001b[0m\n\u001b[0m\u001b[1;32m   1332\u001b[0m             \u001b[0;32mexcept\u001b[0m \u001b[0mConnectionError\u001b[0m\u001b[0;34m:\u001b[0m\u001b[0;34m\u001b[0m\u001b[0m\n",
      "\u001b[0;32m/Users/davidchiu/.pyenv/versions/3.6.2/lib/python3.6/http/client.py\u001b[0m in \u001b[0;36mbegin\u001b[0;34m(self)\u001b[0m\n\u001b[1;32m    296\u001b[0m         \u001b[0;32mwhile\u001b[0m \u001b[0;32mTrue\u001b[0m\u001b[0;34m:\u001b[0m\u001b[0;34m\u001b[0m\u001b[0m\n\u001b[0;32m--> 297\u001b[0;31m             \u001b[0mversion\u001b[0m\u001b[0;34m,\u001b[0m \u001b[0mstatus\u001b[0m\u001b[0;34m,\u001b[0m \u001b[0mreason\u001b[0m \u001b[0;34m=\u001b[0m \u001b[0mself\u001b[0m\u001b[0;34m.\u001b[0m\u001b[0m_read_status\u001b[0m\u001b[0;34m(\u001b[0m\u001b[0;34m)\u001b[0m\u001b[0;34m\u001b[0m\u001b[0m\n\u001b[0m\u001b[1;32m    298\u001b[0m             \u001b[0;32mif\u001b[0m \u001b[0mstatus\u001b[0m \u001b[0;34m!=\u001b[0m \u001b[0mCONTINUE\u001b[0m\u001b[0;34m:\u001b[0m\u001b[0;34m\u001b[0m\u001b[0m\n",
      "\u001b[0;32m/Users/davidchiu/.pyenv/versions/3.6.2/lib/python3.6/http/client.py\u001b[0m in \u001b[0;36m_read_status\u001b[0;34m(self)\u001b[0m\n\u001b[1;32m    265\u001b[0m             \u001b[0;31m# sending a valid response.\u001b[0m\u001b[0;34m\u001b[0m\u001b[0;34m\u001b[0m\u001b[0m\n\u001b[0;32m--> 266\u001b[0;31m             raise RemoteDisconnected(\"Remote end closed connection without\"\n\u001b[0m\u001b[1;32m    267\u001b[0m                                      \" response\")\n",
      "\u001b[0;31mRemoteDisconnected\u001b[0m: Remote end closed connection without response",
      "\nDuring handling of the above exception, another exception occurred:\n",
      "\u001b[0;31mProtocolError\u001b[0m                             Traceback (most recent call last)",
      "\u001b[0;32m/Users/davidchiu/.pyenv/versions/3.6.2/lib/python3.6/site-packages/requests/adapters.py\u001b[0m in \u001b[0;36msend\u001b[0;34m(self, request, stream, timeout, verify, cert, proxies)\u001b[0m\n\u001b[1;32m    448\u001b[0m                     \u001b[0mretries\u001b[0m\u001b[0;34m=\u001b[0m\u001b[0mself\u001b[0m\u001b[0;34m.\u001b[0m\u001b[0mmax_retries\u001b[0m\u001b[0;34m,\u001b[0m\u001b[0;34m\u001b[0m\u001b[0m\n\u001b[0;32m--> 449\u001b[0;31m                     \u001b[0mtimeout\u001b[0m\u001b[0;34m=\u001b[0m\u001b[0mtimeout\u001b[0m\u001b[0;34m\u001b[0m\u001b[0m\n\u001b[0m\u001b[1;32m    450\u001b[0m                 )\n",
      "\u001b[0;32m/Users/davidchiu/.pyenv/versions/3.6.2/lib/python3.6/site-packages/urllib3/connectionpool.py\u001b[0m in \u001b[0;36murlopen\u001b[0;34m(self, method, url, body, headers, retries, redirect, assert_same_host, timeout, pool_timeout, release_conn, chunked, body_pos, **response_kw)\u001b[0m\n\u001b[1;32m    640\u001b[0m             retries = retries.increment(method, url, error=e, _pool=self,\n\u001b[0;32m--> 641\u001b[0;31m                                         _stacktrace=sys.exc_info()[2])\n\u001b[0m\u001b[1;32m    642\u001b[0m             \u001b[0mretries\u001b[0m\u001b[0;34m.\u001b[0m\u001b[0msleep\u001b[0m\u001b[0;34m(\u001b[0m\u001b[0;34m)\u001b[0m\u001b[0;34m\u001b[0m\u001b[0m\n",
      "\u001b[0;32m/Users/davidchiu/.pyenv/versions/3.6.2/lib/python3.6/site-packages/urllib3/util/retry.py\u001b[0m in \u001b[0;36mincrement\u001b[0;34m(self, method, url, response, error, _pool, _stacktrace)\u001b[0m\n\u001b[1;32m    367\u001b[0m             \u001b[0;32mif\u001b[0m \u001b[0mread\u001b[0m \u001b[0;32mis\u001b[0m \u001b[0;32mFalse\u001b[0m \u001b[0;32mor\u001b[0m \u001b[0;32mnot\u001b[0m \u001b[0mself\u001b[0m\u001b[0;34m.\u001b[0m\u001b[0m_is_method_retryable\u001b[0m\u001b[0;34m(\u001b[0m\u001b[0mmethod\u001b[0m\u001b[0;34m)\u001b[0m\u001b[0;34m:\u001b[0m\u001b[0;34m\u001b[0m\u001b[0m\n\u001b[0;32m--> 368\u001b[0;31m                 \u001b[0;32mraise\u001b[0m \u001b[0msix\u001b[0m\u001b[0;34m.\u001b[0m\u001b[0mreraise\u001b[0m\u001b[0;34m(\u001b[0m\u001b[0mtype\u001b[0m\u001b[0;34m(\u001b[0m\u001b[0merror\u001b[0m\u001b[0;34m)\u001b[0m\u001b[0;34m,\u001b[0m \u001b[0merror\u001b[0m\u001b[0;34m,\u001b[0m \u001b[0m_stacktrace\u001b[0m\u001b[0;34m)\u001b[0m\u001b[0;34m\u001b[0m\u001b[0m\n\u001b[0m\u001b[1;32m    369\u001b[0m             \u001b[0;32melif\u001b[0m \u001b[0mread\u001b[0m \u001b[0;32mis\u001b[0m \u001b[0;32mnot\u001b[0m \u001b[0;32mNone\u001b[0m\u001b[0;34m:\u001b[0m\u001b[0;34m\u001b[0m\u001b[0m\n",
      "\u001b[0;32m/Users/davidchiu/.pyenv/versions/3.6.2/lib/python3.6/site-packages/urllib3/packages/six.py\u001b[0m in \u001b[0;36mreraise\u001b[0;34m(tp, value, tb)\u001b[0m\n\u001b[1;32m    684\u001b[0m         \u001b[0;32mif\u001b[0m \u001b[0mvalue\u001b[0m\u001b[0;34m.\u001b[0m\u001b[0m__traceback__\u001b[0m \u001b[0;32mis\u001b[0m \u001b[0;32mnot\u001b[0m \u001b[0mtb\u001b[0m\u001b[0;34m:\u001b[0m\u001b[0;34m\u001b[0m\u001b[0m\n\u001b[0;32m--> 685\u001b[0;31m             \u001b[0;32mraise\u001b[0m \u001b[0mvalue\u001b[0m\u001b[0;34m.\u001b[0m\u001b[0mwith_traceback\u001b[0m\u001b[0;34m(\u001b[0m\u001b[0mtb\u001b[0m\u001b[0;34m)\u001b[0m\u001b[0;34m\u001b[0m\u001b[0m\n\u001b[0m\u001b[1;32m    686\u001b[0m         \u001b[0;32mraise\u001b[0m \u001b[0mvalue\u001b[0m\u001b[0;34m\u001b[0m\u001b[0m\n",
      "\u001b[0;32m/Users/davidchiu/.pyenv/versions/3.6.2/lib/python3.6/site-packages/urllib3/connectionpool.py\u001b[0m in \u001b[0;36murlopen\u001b[0;34m(self, method, url, body, headers, retries, redirect, assert_same_host, timeout, pool_timeout, release_conn, chunked, body_pos, **response_kw)\u001b[0m\n\u001b[1;32m    602\u001b[0m                                                   \u001b[0mbody\u001b[0m\u001b[0;34m=\u001b[0m\u001b[0mbody\u001b[0m\u001b[0;34m,\u001b[0m \u001b[0mheaders\u001b[0m\u001b[0;34m=\u001b[0m\u001b[0mheaders\u001b[0m\u001b[0;34m,\u001b[0m\u001b[0;34m\u001b[0m\u001b[0m\n\u001b[0;32m--> 603\u001b[0;31m                                                   chunked=chunked)\n\u001b[0m\u001b[1;32m    604\u001b[0m \u001b[0;34m\u001b[0m\u001b[0m\n",
      "\u001b[0;32m/Users/davidchiu/.pyenv/versions/3.6.2/lib/python3.6/site-packages/urllib3/connectionpool.py\u001b[0m in \u001b[0;36m_make_request\u001b[0;34m(self, conn, method, url, timeout, chunked, **httplib_request_kw)\u001b[0m\n\u001b[1;32m    386\u001b[0m                     \u001b[0;31m# otherwise it looks like a programming error was the cause.\u001b[0m\u001b[0;34m\u001b[0m\u001b[0;34m\u001b[0m\u001b[0m\n\u001b[0;32m--> 387\u001b[0;31m                     \u001b[0msix\u001b[0m\u001b[0;34m.\u001b[0m\u001b[0mraise_from\u001b[0m\u001b[0;34m(\u001b[0m\u001b[0me\u001b[0m\u001b[0;34m,\u001b[0m \u001b[0;32mNone\u001b[0m\u001b[0;34m)\u001b[0m\u001b[0;34m\u001b[0m\u001b[0m\n\u001b[0m\u001b[1;32m    388\u001b[0m         \u001b[0;32mexcept\u001b[0m \u001b[0;34m(\u001b[0m\u001b[0mSocketTimeout\u001b[0m\u001b[0;34m,\u001b[0m \u001b[0mBaseSSLError\u001b[0m\u001b[0;34m,\u001b[0m \u001b[0mSocketError\u001b[0m\u001b[0;34m)\u001b[0m \u001b[0;32mas\u001b[0m \u001b[0me\u001b[0m\u001b[0;34m:\u001b[0m\u001b[0;34m\u001b[0m\u001b[0m\n",
      "\u001b[0;32m/Users/davidchiu/.pyenv/versions/3.6.2/lib/python3.6/site-packages/urllib3/packages/six.py\u001b[0m in \u001b[0;36mraise_from\u001b[0;34m(value, from_value)\u001b[0m\n",
      "\u001b[0;32m/Users/davidchiu/.pyenv/versions/3.6.2/lib/python3.6/site-packages/urllib3/connectionpool.py\u001b[0m in \u001b[0;36m_make_request\u001b[0;34m(self, conn, method, url, timeout, chunked, **httplib_request_kw)\u001b[0m\n\u001b[1;32m    382\u001b[0m                 \u001b[0;32mtry\u001b[0m\u001b[0;34m:\u001b[0m\u001b[0;34m\u001b[0m\u001b[0m\n\u001b[0;32m--> 383\u001b[0;31m                     \u001b[0mhttplib_response\u001b[0m \u001b[0;34m=\u001b[0m \u001b[0mconn\u001b[0m\u001b[0;34m.\u001b[0m\u001b[0mgetresponse\u001b[0m\u001b[0;34m(\u001b[0m\u001b[0;34m)\u001b[0m\u001b[0;34m\u001b[0m\u001b[0m\n\u001b[0m\u001b[1;32m    384\u001b[0m                 \u001b[0;32mexcept\u001b[0m \u001b[0mException\u001b[0m \u001b[0;32mas\u001b[0m \u001b[0me\u001b[0m\u001b[0;34m:\u001b[0m\u001b[0;34m\u001b[0m\u001b[0m\n",
      "\u001b[0;32m/Users/davidchiu/.pyenv/versions/3.6.2/lib/python3.6/http/client.py\u001b[0m in \u001b[0;36mgetresponse\u001b[0;34m(self)\u001b[0m\n\u001b[1;32m   1330\u001b[0m             \u001b[0;32mtry\u001b[0m\u001b[0;34m:\u001b[0m\u001b[0;34m\u001b[0m\u001b[0m\n\u001b[0;32m-> 1331\u001b[0;31m                 \u001b[0mresponse\u001b[0m\u001b[0;34m.\u001b[0m\u001b[0mbegin\u001b[0m\u001b[0;34m(\u001b[0m\u001b[0;34m)\u001b[0m\u001b[0;34m\u001b[0m\u001b[0m\n\u001b[0m\u001b[1;32m   1332\u001b[0m             \u001b[0;32mexcept\u001b[0m \u001b[0mConnectionError\u001b[0m\u001b[0;34m:\u001b[0m\u001b[0;34m\u001b[0m\u001b[0m\n",
      "\u001b[0;32m/Users/davidchiu/.pyenv/versions/3.6.2/lib/python3.6/http/client.py\u001b[0m in \u001b[0;36mbegin\u001b[0;34m(self)\u001b[0m\n\u001b[1;32m    296\u001b[0m         \u001b[0;32mwhile\u001b[0m \u001b[0;32mTrue\u001b[0m\u001b[0;34m:\u001b[0m\u001b[0;34m\u001b[0m\u001b[0m\n\u001b[0;32m--> 297\u001b[0;31m             \u001b[0mversion\u001b[0m\u001b[0;34m,\u001b[0m \u001b[0mstatus\u001b[0m\u001b[0;34m,\u001b[0m \u001b[0mreason\u001b[0m \u001b[0;34m=\u001b[0m \u001b[0mself\u001b[0m\u001b[0;34m.\u001b[0m\u001b[0m_read_status\u001b[0m\u001b[0;34m(\u001b[0m\u001b[0;34m)\u001b[0m\u001b[0;34m\u001b[0m\u001b[0m\n\u001b[0m\u001b[1;32m    298\u001b[0m             \u001b[0;32mif\u001b[0m \u001b[0mstatus\u001b[0m \u001b[0;34m!=\u001b[0m \u001b[0mCONTINUE\u001b[0m\u001b[0;34m:\u001b[0m\u001b[0;34m\u001b[0m\u001b[0m\n",
      "\u001b[0;32m/Users/davidchiu/.pyenv/versions/3.6.2/lib/python3.6/http/client.py\u001b[0m in \u001b[0;36m_read_status\u001b[0;34m(self)\u001b[0m\n\u001b[1;32m    265\u001b[0m             \u001b[0;31m# sending a valid response.\u001b[0m\u001b[0;34m\u001b[0m\u001b[0;34m\u001b[0m\u001b[0m\n\u001b[0;32m--> 266\u001b[0;31m             raise RemoteDisconnected(\"Remote end closed connection without\"\n\u001b[0m\u001b[1;32m    267\u001b[0m                                      \" response\")\n",
      "\u001b[0;31mProtocolError\u001b[0m: ('Connection aborted.', RemoteDisconnected('Remote end closed connection without response',))",
      "\nDuring handling of the above exception, another exception occurred:\n",
      "\u001b[0;31mConnectionError\u001b[0m                           Traceback (most recent call last)",
      "\u001b[0;32m<ipython-input-84-7c94734992c1>\u001b[0m in \u001b[0;36m<module>\u001b[0;34m()\u001b[0m\n\u001b[1;32m     17\u001b[0m         \u001b[0mpayload\u001b[0m\u001b[0;34m[\u001b[0m\u001b[0;34m'year'\u001b[0m\u001b[0;34m]\u001b[0m \u001b[0;34m=\u001b[0m \u001b[0my\u001b[0m\u001b[0;34m\u001b[0m\u001b[0m\n\u001b[1;32m     18\u001b[0m         \u001b[0mpayload\u001b[0m\u001b[0;34m[\u001b[0m\u001b[0;34m'season'\u001b[0m\u001b[0;34m]\u001b[0m \u001b[0;34m=\u001b[0m \u001b[0ms\u001b[0m\u001b[0;34m\u001b[0m\u001b[0m\n\u001b[0;32m---> 19\u001b[0;31m         \u001b[0mres\u001b[0m \u001b[0;34m=\u001b[0m \u001b[0mrequests\u001b[0m\u001b[0;34m.\u001b[0m\u001b[0mpost\u001b[0m\u001b[0;34m(\u001b[0m\u001b[0;34m'https://mops.twse.com.tw/mops/web/ajax_t163sb19'\u001b[0m\u001b[0;34m,\u001b[0m \u001b[0mdata\u001b[0m \u001b[0;34m=\u001b[0m \u001b[0mpayload\u001b[0m\u001b[0;34m)\u001b[0m\u001b[0;34m\u001b[0m\u001b[0m\n\u001b[0m\u001b[1;32m     20\u001b[0m         \u001b[0mdfs\u001b[0m \u001b[0;34m=\u001b[0m \u001b[0mpandas\u001b[0m\u001b[0;34m.\u001b[0m\u001b[0mread_html\u001b[0m\u001b[0;34m(\u001b[0m\u001b[0mres\u001b[0m\u001b[0;34m.\u001b[0m\u001b[0mtext\u001b[0m\u001b[0;34m)\u001b[0m\u001b[0;34m\u001b[0m\u001b[0m\n\u001b[1;32m     21\u001b[0m         \u001b[0mdf\u001b[0m \u001b[0;34m=\u001b[0m \u001b[0mdfs\u001b[0m\u001b[0;34m[\u001b[0m\u001b[0;36m0\u001b[0m\u001b[0;34m]\u001b[0m\u001b[0;34m.\u001b[0m\u001b[0mdropna\u001b[0m\u001b[0;34m(\u001b[0m\u001b[0;34m)\u001b[0m\u001b[0;34m\u001b[0m\u001b[0m\n",
      "\u001b[0;32m/Users/davidchiu/.pyenv/versions/3.6.2/lib/python3.6/site-packages/requests/api.py\u001b[0m in \u001b[0;36mpost\u001b[0;34m(url, data, json, **kwargs)\u001b[0m\n\u001b[1;32m    114\u001b[0m     \"\"\"\n\u001b[1;32m    115\u001b[0m \u001b[0;34m\u001b[0m\u001b[0m\n\u001b[0;32m--> 116\u001b[0;31m     \u001b[0;32mreturn\u001b[0m \u001b[0mrequest\u001b[0m\u001b[0;34m(\u001b[0m\u001b[0;34m'post'\u001b[0m\u001b[0;34m,\u001b[0m \u001b[0murl\u001b[0m\u001b[0;34m,\u001b[0m \u001b[0mdata\u001b[0m\u001b[0;34m=\u001b[0m\u001b[0mdata\u001b[0m\u001b[0;34m,\u001b[0m \u001b[0mjson\u001b[0m\u001b[0;34m=\u001b[0m\u001b[0mjson\u001b[0m\u001b[0;34m,\u001b[0m \u001b[0;34m**\u001b[0m\u001b[0mkwargs\u001b[0m\u001b[0;34m)\u001b[0m\u001b[0;34m\u001b[0m\u001b[0m\n\u001b[0m\u001b[1;32m    117\u001b[0m \u001b[0;34m\u001b[0m\u001b[0m\n\u001b[1;32m    118\u001b[0m \u001b[0;34m\u001b[0m\u001b[0m\n",
      "\u001b[0;32m/Users/davidchiu/.pyenv/versions/3.6.2/lib/python3.6/site-packages/requests/api.py\u001b[0m in \u001b[0;36mrequest\u001b[0;34m(method, url, **kwargs)\u001b[0m\n\u001b[1;32m     58\u001b[0m     \u001b[0;31m# cases, and look like a memory leak in others.\u001b[0m\u001b[0;34m\u001b[0m\u001b[0;34m\u001b[0m\u001b[0m\n\u001b[1;32m     59\u001b[0m     \u001b[0;32mwith\u001b[0m \u001b[0msessions\u001b[0m\u001b[0;34m.\u001b[0m\u001b[0mSession\u001b[0m\u001b[0;34m(\u001b[0m\u001b[0;34m)\u001b[0m \u001b[0;32mas\u001b[0m \u001b[0msession\u001b[0m\u001b[0;34m:\u001b[0m\u001b[0;34m\u001b[0m\u001b[0m\n\u001b[0;32m---> 60\u001b[0;31m         \u001b[0;32mreturn\u001b[0m \u001b[0msession\u001b[0m\u001b[0;34m.\u001b[0m\u001b[0mrequest\u001b[0m\u001b[0;34m(\u001b[0m\u001b[0mmethod\u001b[0m\u001b[0;34m=\u001b[0m\u001b[0mmethod\u001b[0m\u001b[0;34m,\u001b[0m \u001b[0murl\u001b[0m\u001b[0;34m=\u001b[0m\u001b[0murl\u001b[0m\u001b[0;34m,\u001b[0m \u001b[0;34m**\u001b[0m\u001b[0mkwargs\u001b[0m\u001b[0;34m)\u001b[0m\u001b[0;34m\u001b[0m\u001b[0m\n\u001b[0m\u001b[1;32m     61\u001b[0m \u001b[0;34m\u001b[0m\u001b[0m\n\u001b[1;32m     62\u001b[0m \u001b[0;34m\u001b[0m\u001b[0m\n",
      "\u001b[0;32m/Users/davidchiu/.pyenv/versions/3.6.2/lib/python3.6/site-packages/requests/sessions.py\u001b[0m in \u001b[0;36mrequest\u001b[0;34m(self, method, url, params, data, headers, cookies, files, auth, timeout, allow_redirects, proxies, hooks, stream, verify, cert, json)\u001b[0m\n\u001b[1;32m    531\u001b[0m         }\n\u001b[1;32m    532\u001b[0m         \u001b[0msend_kwargs\u001b[0m\u001b[0;34m.\u001b[0m\u001b[0mupdate\u001b[0m\u001b[0;34m(\u001b[0m\u001b[0msettings\u001b[0m\u001b[0;34m)\u001b[0m\u001b[0;34m\u001b[0m\u001b[0m\n\u001b[0;32m--> 533\u001b[0;31m         \u001b[0mresp\u001b[0m \u001b[0;34m=\u001b[0m \u001b[0mself\u001b[0m\u001b[0;34m.\u001b[0m\u001b[0msend\u001b[0m\u001b[0;34m(\u001b[0m\u001b[0mprep\u001b[0m\u001b[0;34m,\u001b[0m \u001b[0;34m**\u001b[0m\u001b[0msend_kwargs\u001b[0m\u001b[0;34m)\u001b[0m\u001b[0;34m\u001b[0m\u001b[0m\n\u001b[0m\u001b[1;32m    534\u001b[0m \u001b[0;34m\u001b[0m\u001b[0m\n\u001b[1;32m    535\u001b[0m         \u001b[0;32mreturn\u001b[0m \u001b[0mresp\u001b[0m\u001b[0;34m\u001b[0m\u001b[0m\n",
      "\u001b[0;32m/Users/davidchiu/.pyenv/versions/3.6.2/lib/python3.6/site-packages/requests/sessions.py\u001b[0m in \u001b[0;36msend\u001b[0;34m(self, request, **kwargs)\u001b[0m\n\u001b[1;32m    644\u001b[0m \u001b[0;34m\u001b[0m\u001b[0m\n\u001b[1;32m    645\u001b[0m         \u001b[0;31m# Send the request\u001b[0m\u001b[0;34m\u001b[0m\u001b[0;34m\u001b[0m\u001b[0m\n\u001b[0;32m--> 646\u001b[0;31m         \u001b[0mr\u001b[0m \u001b[0;34m=\u001b[0m \u001b[0madapter\u001b[0m\u001b[0;34m.\u001b[0m\u001b[0msend\u001b[0m\u001b[0;34m(\u001b[0m\u001b[0mrequest\u001b[0m\u001b[0;34m,\u001b[0m \u001b[0;34m**\u001b[0m\u001b[0mkwargs\u001b[0m\u001b[0;34m)\u001b[0m\u001b[0;34m\u001b[0m\u001b[0m\n\u001b[0m\u001b[1;32m    647\u001b[0m \u001b[0;34m\u001b[0m\u001b[0m\n\u001b[1;32m    648\u001b[0m         \u001b[0;31m# Total elapsed time of the request (approximately)\u001b[0m\u001b[0;34m\u001b[0m\u001b[0;34m\u001b[0m\u001b[0m\n",
      "\u001b[0;32m/Users/davidchiu/.pyenv/versions/3.6.2/lib/python3.6/site-packages/requests/adapters.py\u001b[0m in \u001b[0;36msend\u001b[0;34m(self, request, stream, timeout, verify, cert, proxies)\u001b[0m\n\u001b[1;32m    496\u001b[0m \u001b[0;34m\u001b[0m\u001b[0m\n\u001b[1;32m    497\u001b[0m         \u001b[0;32mexcept\u001b[0m \u001b[0;34m(\u001b[0m\u001b[0mProtocolError\u001b[0m\u001b[0;34m,\u001b[0m \u001b[0msocket\u001b[0m\u001b[0;34m.\u001b[0m\u001b[0merror\u001b[0m\u001b[0;34m)\u001b[0m \u001b[0;32mas\u001b[0m \u001b[0merr\u001b[0m\u001b[0;34m:\u001b[0m\u001b[0;34m\u001b[0m\u001b[0m\n\u001b[0;32m--> 498\u001b[0;31m             \u001b[0;32mraise\u001b[0m \u001b[0mConnectionError\u001b[0m\u001b[0;34m(\u001b[0m\u001b[0merr\u001b[0m\u001b[0;34m,\u001b[0m \u001b[0mrequest\u001b[0m\u001b[0;34m=\u001b[0m\u001b[0mrequest\u001b[0m\u001b[0;34m)\u001b[0m\u001b[0;34m\u001b[0m\u001b[0m\n\u001b[0m\u001b[1;32m    499\u001b[0m \u001b[0;34m\u001b[0m\u001b[0m\n\u001b[1;32m    500\u001b[0m         \u001b[0;32mexcept\u001b[0m \u001b[0mMaxRetryError\u001b[0m \u001b[0;32mas\u001b[0m \u001b[0me\u001b[0m\u001b[0;34m:\u001b[0m\u001b[0;34m\u001b[0m\u001b[0m\n",
      "\u001b[0;31mConnectionError\u001b[0m: ('Connection aborted.', RemoteDisconnected('Remote end closed connection without response',))"
     ]
    }
   ],
   "source": [
    "import requests\n",
    "payload = {\n",
    "'encodeURIComponent': '1',\n",
    "'step': '1',\n",
    "'firstin': '1',\n",
    "'TYPEK': 'sii',\n",
    "'code': '17',\n",
    "'year': '108',\n",
    "'season': '04'    \n",
    "}\n",
    "stockary = []\n",
    "for year in range(106,109):\n",
    "    for season in range(1,5):\n",
    "        y = str(year)\n",
    "        s = str(season + 100)[1:]\n",
    "        print(y,s)\n",
    "        payload['year'] = y\n",
    "        payload['season'] = s\n",
    "        res = requests.post('https://mops.twse.com.tw/mops/web/ajax_t163sb19', data = payload)\n",
    "        dfs = pandas.read_html(res.text)\n",
    "        df = dfs[0].dropna()\n",
    "        df['year'] = y\n",
    "        df['season'] = s\n",
    "        stockary.append(df)"
   ]
  },
  {
   "cell_type": "code",
   "execution_count": 85,
   "metadata": {},
   "outputs": [],
   "source": [
    "stockdf = pandas.concat(stockary)"
   ]
  },
  {
   "cell_type": "code",
   "execution_count": 90,
   "metadata": {},
   "outputs": [
    {
     "data": {
      "text/plain": [
       "公司名稱\n",
       "國泰金融控股股份有限公司      1.209562e+09\n",
       "富邦金融控股股份有限公司      1.060060e+09\n",
       "中國人壽保險股份有限公司      8.157804e+08\n",
       "中國信託金融控股股份有限公司    7.650495e+08\n",
       "新光金融控股股份有限公司      6.472149e+08\n",
       "中華開發金融控股股份有限公司    6.206510e+08\n",
       "三商美邦人壽保險股份有限公司    4.337116e+08\n",
       "元大金融控股股份有限公司      2.508366e+08\n",
       "兆豐金融控股股份有限公司      1.557197e+08\n",
       "第一金融控股股份有限公司      1.533799e+08\n",
       "玉山金融控股股份有限公司      1.242153e+08\n",
       "合作金庫金融控股股份有限公司    1.170053e+08\n",
       "華南金融控股股份有限公司      1.152408e+08\n",
       "台新金融控股股份有限公司      1.011758e+08\n",
       "上海商業儲蓄銀行股份有限公司    9.100174e+07\n",
       "彰化商業銀行股份有限公司      8.202921e+07\n",
       "永豐金融控股股份有限公司      8.153238e+07\n",
       "臺灣中小企業銀行股份有限公司    5.807714e+07\n",
       "中央再保險股份有限公司       3.771352e+07\n",
       "新光產物保險股份有限公司      3.719282e+07\n",
       "聯邦商業銀行股份有限公司      3.195008e+07\n",
       "台中商業銀行股份有限公司      2.872380e+07\n",
       "遠東國際商業銀行股份有限公司    2.762897e+07\n",
       "群益金鼎證券股份有限公司      2.217520e+07\n",
       "旺旺友聯產物保險股份有限公司    1.937373e+07\n",
       "王道商業銀行股份有限公司      1.931667e+07\n",
       "京城商業銀行股份有限公司      1.841719e+07\n",
       "安泰商業銀行股份有限公司      1.599710e+07\n",
       "第一產物保險股份有限公司      1.576174e+07\n",
       "統一綜合證券股份有限公司      1.556963e+07\n",
       "國票金融控股股份有限公司      1.447850e+07\n",
       "台灣產物保險股份有限公司      1.245079e+07\n",
       "高雄銀行股份有限公司        8.874055e+06\n",
       "群益期貨股份有限公司        8.011397e+06\n",
       "中華票券金融股份有限公司      4.983994e+06\n",
       "Name: 營業收入, dtype: float64"
      ]
     },
     "execution_count": 90,
     "metadata": {},
     "output_type": "execute_result"
    }
   ],
   "source": [
    "stockdf[stockdf['year'] == '107'].groupby('公司名稱')['營業收入'].sum().sort_values(ascending = False) #sort_values('營業收入', ascending = False)"
   ]
  },
  {
   "cell_type": "markdown",
   "metadata": {},
   "source": [
    "## 大樂透查詢"
   ]
  },
  {
   "cell_type": "code",
   "execution_count": 94,
   "metadata": {},
   "outputs": [],
   "source": [
    "import requests\n",
    "from bs4 import BeautifulSoup\n",
    "url ='https://www.taiwanlottery.com.tw/lotto/Lotto649/history.aspx'\n",
    "res = requests.get(url)\n",
    "soup = BeautifulSoup(res.text, 'lxml')\n",
    "payload = {}\n",
    "for hidden_input in soup.select('input[type=hidden]'):\n",
    "    payload[hidden_input.get('name')] = hidden_input.get('value')\n",
    "#resquests.post(url, data = payload)"
   ]
  },
  {
   "cell_type": "code",
   "execution_count": 96,
   "metadata": {},
   "outputs": [
    {
     "data": {
      "text/plain": [
       "dict_keys(['__VIEWSTATE', '__VIEWSTATEGENERATOR', '__EVENTVALIDATION'])"
      ]
     },
     "execution_count": 96,
     "metadata": {},
     "output_type": "execute_result"
    }
   ],
   "source": [
    "payload.keys()"
   ]
  },
  {
   "cell_type": "code",
   "execution_count": 97,
   "metadata": {},
   "outputs": [],
   "source": [
    "payload['__EVENTTARGET'] = ''\n",
    "payload['__EVENTARGUMENT'] = ''\n",
    "payload['Lotto649Control_history$DropDownList1'] =  '2'\n",
    "payload['Lotto649Control_history$chk'] =  'radYM'\n",
    "payload['Lotto649Control_history$dropYear'] =  '109'\n",
    "payload['Lotto649Control_history$dropMonth'] =  '3'\n",
    "payload['Lotto649Control_history$btnSubmit'] =  '查詢'"
   ]
  },
  {
   "cell_type": "code",
   "execution_count": 98,
   "metadata": {},
   "outputs": [],
   "source": [
    "res2 = requests.post(url, data = payload)"
   ]
  },
  {
   "cell_type": "code",
   "execution_count": 100,
   "metadata": {},
   "outputs": [],
   "source": [
    "dfs = pandas.read_html(res2.text)"
   ]
  },
  {
   "cell_type": "code",
   "execution_count": 111,
   "metadata": {},
   "outputs": [
    {
     "data": {
      "text/html": [
       "<div>\n",
       "<style scoped>\n",
       "    .dataframe tbody tr th:only-of-type {\n",
       "        vertical-align: middle;\n",
       "    }\n",
       "\n",
       "    .dataframe tbody tr th {\n",
       "        vertical-align: top;\n",
       "    }\n",
       "\n",
       "    .dataframe thead th {\n",
       "        text-align: right;\n",
       "    }\n",
       "</style>\n",
       "<table border=\"1\" class=\"dataframe\">\n",
       "  <thead>\n",
       "    <tr style=\"text-align: right;\">\n",
       "      <th></th>\n",
       "      <th>0</th>\n",
       "      <th>1</th>\n",
       "      <th>2</th>\n",
       "      <th>3</th>\n",
       "      <th>4</th>\n",
       "      <th>5</th>\n",
       "      <th>6</th>\n",
       "      <th>7</th>\n",
       "      <th>8</th>\n",
       "      <th>9</th>\n",
       "    </tr>\n",
       "  </thead>\n",
       "  <tbody>\n",
       "    <tr>\n",
       "      <th>0</th>\n",
       "      <td>期別</td>\n",
       "      <td>開獎日</td>\n",
       "      <td>開獎日</td>\n",
       "      <td>兌獎截止(註6)</td>\n",
       "      <td>兌獎截止(註6)</td>\n",
       "      <td>銷售金額</td>\n",
       "      <td>銷售金額</td>\n",
       "      <td>獎金總額</td>\n",
       "      <td>獎金總額</td>\n",
       "      <td>獎金總額</td>\n",
       "    </tr>\n",
       "    <tr>\n",
       "      <th>1</th>\n",
       "      <td>109000031</td>\n",
       "      <td>109/03/20</td>\n",
       "      <td>109/03/20</td>\n",
       "      <td>109/06/20</td>\n",
       "      <td>109/06/20</td>\n",
       "      <td>119285700</td>\n",
       "      <td>119285700</td>\n",
       "      <td>323361132</td>\n",
       "      <td>323361132</td>\n",
       "      <td>323361132</td>\n",
       "    </tr>\n",
       "    <tr>\n",
       "      <th>2</th>\n",
       "      <td>獎號</td>\n",
       "      <td>獎號</td>\n",
       "      <td>獎號</td>\n",
       "      <td>獎號</td>\n",
       "      <td>獎號</td>\n",
       "      <td>獎號</td>\n",
       "      <td>獎號</td>\n",
       "      <td>獎號</td>\n",
       "      <td>特別號</td>\n",
       "      <td>特別號</td>\n",
       "    </tr>\n",
       "    <tr>\n",
       "      <th>3</th>\n",
       "      <td>開出順序</td>\n",
       "      <td>開出順序</td>\n",
       "      <td>13</td>\n",
       "      <td>43</td>\n",
       "      <td>01</td>\n",
       "      <td>08</td>\n",
       "      <td>48</td>\n",
       "      <td>46</td>\n",
       "      <td>29</td>\n",
       "      <td>29</td>\n",
       "    </tr>\n",
       "    <tr>\n",
       "      <th>4</th>\n",
       "      <td>大小順序</td>\n",
       "      <td>大小順序</td>\n",
       "      <td>01</td>\n",
       "      <td>08</td>\n",
       "      <td>13</td>\n",
       "      <td>43</td>\n",
       "      <td>46</td>\n",
       "      <td>48</td>\n",
       "      <td>29</td>\n",
       "      <td>29</td>\n",
       "    </tr>\n",
       "    <tr>\n",
       "      <th>5</th>\n",
       "      <td>獎金分配</td>\n",
       "      <td>獎金分配</td>\n",
       "      <td>獎金分配</td>\n",
       "      <td>獎金分配</td>\n",
       "      <td>獎金分配</td>\n",
       "      <td>獎金分配</td>\n",
       "      <td>獎金分配</td>\n",
       "      <td>獎金分配</td>\n",
       "      <td>獎金分配</td>\n",
       "      <td>獎金分配</td>\n",
       "    </tr>\n",
       "    <tr>\n",
       "      <th>6</th>\n",
       "      <td>項目</td>\n",
       "      <td>頭獎</td>\n",
       "      <td>頭獎</td>\n",
       "      <td>貳獎</td>\n",
       "      <td>參獎</td>\n",
       "      <td>肆獎</td>\n",
       "      <td>伍獎</td>\n",
       "      <td>陸獎</td>\n",
       "      <td>柒獎</td>\n",
       "      <td>普獎</td>\n",
       "    </tr>\n",
       "    <tr>\n",
       "      <th>7</th>\n",
       "      <td>對中  獎號數</td>\n",
       "      <td>6個</td>\n",
       "      <td>6個</td>\n",
       "      <td>任5個  ＋特別號</td>\n",
       "      <td>任5個</td>\n",
       "      <td>任4個  ＋特別號</td>\n",
       "      <td>任4個</td>\n",
       "      <td>任3個  ＋特別號</td>\n",
       "      <td>任2個  ＋特別號</td>\n",
       "      <td>任3個</td>\n",
       "    </tr>\n",
       "    <tr>\n",
       "      <th>8</th>\n",
       "      <td>中獎  注數</td>\n",
       "      <td>0</td>\n",
       "      <td>0</td>\n",
       "      <td>0</td>\n",
       "      <td>39</td>\n",
       "      <td>94</td>\n",
       "      <td>1877</td>\n",
       "      <td>2520</td>\n",
       "      <td>26006</td>\n",
       "      <td>36176</td>\n",
       "    </tr>\n",
       "    <tr>\n",
       "      <th>9</th>\n",
       "      <td>單注  獎金</td>\n",
       "      <td>0</td>\n",
       "      <td>0</td>\n",
       "      <td>0</td>\n",
       "      <td>63992</td>\n",
       "      <td>17068</td>\n",
       "      <td>2000</td>\n",
       "      <td>1000</td>\n",
       "      <td>400</td>\n",
       "      <td>400</td>\n",
       "    </tr>\n",
       "    <tr>\n",
       "      <th>10</th>\n",
       "      <td>累至次  期獎金</td>\n",
       "      <td>281611959</td>\n",
       "      <td>281611959</td>\n",
       "      <td>6502255</td>\n",
       "      <td>0</td>\n",
       "      <td>0</td>\n",
       "      <td>NaN</td>\n",
       "      <td>NaN</td>\n",
       "      <td>NaN</td>\n",
       "      <td>NaN</td>\n",
       "    </tr>\n",
       "  </tbody>\n",
       "</table>\n",
       "</div>"
      ],
      "text/plain": [
       "            0          1          2          3          4          5  \\\n",
       "0          期別        開獎日        開獎日   兌獎截止(註6)   兌獎截止(註6)       銷售金額   \n",
       "1   109000031  109/03/20  109/03/20  109/06/20  109/06/20  119285700   \n",
       "2          獎號         獎號         獎號         獎號         獎號         獎號   \n",
       "3        開出順序       開出順序         13         43         01         08   \n",
       "4        大小順序       大小順序         01         08         13         43   \n",
       "5        獎金分配       獎金分配       獎金分配       獎金分配       獎金分配       獎金分配   \n",
       "6          項目         頭獎         頭獎         貳獎         參獎         肆獎   \n",
       "7     對中  獎號數         6個         6個  任5個  ＋特別號        任5個  任4個  ＋特別號   \n",
       "8      中獎  注數          0          0          0         39         94   \n",
       "9      單注  獎金          0          0          0      63992      17068   \n",
       "10   累至次  期獎金  281611959  281611959    6502255          0          0   \n",
       "\n",
       "            6          7          8          9  \n",
       "0        銷售金額       獎金總額       獎金總額       獎金總額  \n",
       "1   119285700  323361132  323361132  323361132  \n",
       "2          獎號         獎號        特別號        特別號  \n",
       "3          48         46         29         29  \n",
       "4          46         48         29         29  \n",
       "5        獎金分配       獎金分配       獎金分配       獎金分配  \n",
       "6          伍獎         陸獎         柒獎         普獎  \n",
       "7         任4個  任3個  ＋特別號  任2個  ＋特別號        任3個  \n",
       "8        1877       2520      26006      36176  \n",
       "9        2000       1000        400        400  \n",
       "10        NaN        NaN        NaN        NaN  "
      ]
     },
     "execution_count": 111,
     "metadata": {},
     "output_type": "execute_result"
    }
   ],
   "source": [
    "dfs[2]"
   ]
  },
  {
   "cell_type": "code",
   "execution_count": 118,
   "metadata": {},
   "outputs": [
    {
     "name": "stdout",
     "output_type": "stream",
     "text": [
      "109000031 ['13', '43', '01', '08', '48', '46', '29', '29']\n",
      "109000030 ['17', '29', '28', '10', '47', '43', '04', '04']\n",
      "109000029 ['14', '33', '34', '22', '49', '32', '31', '31']\n",
      "109000028 ['01', '12', '34', '37', '04', '25', '42', '42']\n",
      "109000027 ['16', '13', '15', '30', '08', '12', '45', '45']\n",
      "109000026 ['08', '28', '17', '11', '42', '10', '40', '40']\n"
     ]
    }
   ],
   "source": [
    "len(dfs)\n",
    "for i in range(2, len(dfs)):\n",
    "    seqno = dfs[i].iloc[1,0]\n",
    "    lottory_no = dfs[i].loc[3,2:].tolist()\n",
    "    print(seqno, lottory_no)"
   ]
  },
  {
   "cell_type": "code",
   "execution_count": 134,
   "metadata": {},
   "outputs": [],
   "source": [
    "def getLottory(y,m):\n",
    "    dic = {}\n",
    "    payload['__EVENTTARGET'] = ''\n",
    "    payload['__EVENTARGUMENT'] = ''\n",
    "    payload['Lotto649Control_history$DropDownList1'] =  '2'\n",
    "    payload['Lotto649Control_history$chk'] =  'radYM'\n",
    "    payload['Lotto649Control_history$dropYear'] =  y\n",
    "    payload['Lotto649Control_history$dropMonth'] =  m\n",
    "    payload['Lotto649Control_history$btnSubmit'] =  '查詢'\n",
    "    res2 = requests.post(url, data = payload)\n",
    "    dfs = pandas.read_html(res2.text)\n",
    "    for i in range(2, len(dfs)):\n",
    "        seqno = dfs[i].iloc[1,0]\n",
    "        #print(dfs[i])\n",
    "        lottory_no = dfs[i].loc[3,2:].tolist()[:-1]\n",
    "        dic[seqno] = lottory_no\n",
    "    return dic"
   ]
  },
  {
   "cell_type": "code",
   "execution_count": 135,
   "metadata": {},
   "outputs": [],
   "source": [
    "lottory_dic = {}\n",
    "for y in range(108,109):\n",
    "    for m in range(1,13):\n",
    "        lottory_dic.update(getLottory(y,m))"
   ]
  },
  {
   "cell_type": "code",
   "execution_count": 140,
   "metadata": {},
   "outputs": [],
   "source": [
    "lottory_common = []\n",
    "for rec in lottory_dic.values():\n",
    "    lottory_common.extend(rec)"
   ]
  },
  {
   "cell_type": "code",
   "execution_count": 141,
   "metadata": {},
   "outputs": [
    {
     "data": {
      "text/plain": [
       "[('12', 26),\n",
       " ('36', 23),\n",
       " ('41', 23),\n",
       " ('45', 22),\n",
       " ('37', 21),\n",
       " ('48', 20),\n",
       " ('31', 20),\n",
       " ('22', 20),\n",
       " ('18', 20),\n",
       " ('08', 20),\n",
       " ('10', 19),\n",
       " ('42', 19),\n",
       " ('21', 19),\n",
       " ('32', 19),\n",
       " ('24', 18),\n",
       " ('20', 18),\n",
       " ('40', 18),\n",
       " ('49', 18),\n",
       " ('26', 18),\n",
       " ('14', 17),\n",
       " ('39', 17),\n",
       " ('19', 17),\n",
       " ('07', 17),\n",
       " ('06', 17),\n",
       " ('33', 17),\n",
       " ('15', 16),\n",
       " ('03', 16),\n",
       " ('30', 15),\n",
       " ('38', 15),\n",
       " ('17', 15)]"
      ]
     },
     "execution_count": 141,
     "metadata": {},
     "output_type": "execute_result"
    }
   ],
   "source": [
    "from collections import Counter\n",
    "c = Counter(lottory_common)\n",
    "c.most_common(30)"
   ]
  },
  {
   "cell_type": "markdown",
   "metadata": {},
   "source": [
    "## 盤後交易資訊"
   ]
  },
  {
   "cell_type": "code",
   "execution_count": 149,
   "metadata": {},
   "outputs": [],
   "source": [
    "import requests\n",
    "res = requests.get('https://www.twse.com.tw/exchangeReport/MI_INDEX?response=json&date=20200320&type=24')\n",
    "jd = res.json()"
   ]
  },
  {
   "cell_type": "code",
   "execution_count": 150,
   "metadata": {},
   "outputs": [],
   "source": [
    "import pandas\n",
    "stock = pandas.DataFrame(jd['data1'])\n",
    "stock.columns = jd['fields1']"
   ]
  },
  {
   "cell_type": "code",
   "execution_count": 157,
   "metadata": {},
   "outputs": [
    {
     "data": {
      "text/plain": [
       "'20200323'"
      ]
     },
     "execution_count": 157,
     "metadata": {},
     "output_type": "execute_result"
    }
   ],
   "source": [
    "from datetime import datetime, timedelta\n",
    "datetime.now().strftime('%Y%m%d')"
   ]
  },
  {
   "cell_type": "code",
   "execution_count": 158,
   "metadata": {},
   "outputs": [],
   "source": [
    "current_time = datetime.now()"
   ]
  },
  {
   "cell_type": "code",
   "execution_count": 159,
   "metadata": {},
   "outputs": [
    {
     "data": {
      "text/plain": [
       "datetime.datetime(2020, 3, 22, 16, 14, 14, 252159)"
      ]
     },
     "execution_count": 159,
     "metadata": {},
     "output_type": "execute_result"
    }
   ],
   "source": [
    "current_time - timedelta(days = 1)"
   ]
  },
  {
   "cell_type": "code",
   "execution_count": 169,
   "metadata": {},
   "outputs": [
    {
     "name": "stdout",
     "output_type": "stream",
     "text": [
      "20200323\n",
      "20200322\n",
      "20200321\n",
      "20200320\n",
      "20200319\n"
     ]
    }
   ],
   "source": [
    "import time\n",
    "qurl  = 'https://www.twse.com.tw/exchangeReport/MI_INDEX?response=json&date={}&type=24'\n",
    "\n",
    "stock_ary = []\n",
    "for i in range(5):\n",
    "    dt = (current_time - timedelta(days = i)).strftime('%Y%m%d')\n",
    "    print(dt)\n",
    "    #qurl = qurl.format(dt)\n",
    "    res = requests.get(qurl.format(dt))\n",
    "    jd = res.json()\n",
    "    if jd.get('data1'):\n",
    "        stock = pandas.DataFrame(jd['data1'])\n",
    "        stock.columns = jd['fields1']\n",
    "        stock['ymd'] = dt\n",
    "        stock_ary.append(stock)\n",
    "        time.sleep(3)"
   ]
  },
  {
   "cell_type": "code",
   "execution_count": 170,
   "metadata": {},
   "outputs": [],
   "source": [
    "stockdf = pandas.concat(stock_ary)"
   ]
  },
  {
   "cell_type": "code",
   "execution_count": 171,
   "metadata": {},
   "outputs": [
    {
     "data": {
      "text/html": [
       "<div>\n",
       "<style scoped>\n",
       "    .dataframe tbody tr th:only-of-type {\n",
       "        vertical-align: middle;\n",
       "    }\n",
       "\n",
       "    .dataframe tbody tr th {\n",
       "        vertical-align: top;\n",
       "    }\n",
       "\n",
       "    .dataframe thead th {\n",
       "        text-align: right;\n",
       "    }\n",
       "</style>\n",
       "<table border=\"1\" class=\"dataframe\">\n",
       "  <thead>\n",
       "    <tr style=\"text-align: right;\">\n",
       "      <th></th>\n",
       "      <th>證券代號</th>\n",
       "      <th>證券名稱</th>\n",
       "      <th>成交股數</th>\n",
       "      <th>成交筆數</th>\n",
       "      <th>成交金額</th>\n",
       "      <th>開盤價</th>\n",
       "      <th>最高價</th>\n",
       "      <th>最低價</th>\n",
       "      <th>收盤價</th>\n",
       "      <th>漲跌(+/-)</th>\n",
       "      <th>漲跌價差</th>\n",
       "      <th>最後揭示買價</th>\n",
       "      <th>最後揭示買量</th>\n",
       "      <th>最後揭示賣價</th>\n",
       "      <th>最後揭示賣量</th>\n",
       "      <th>本益比</th>\n",
       "      <th>ymd</th>\n",
       "    </tr>\n",
       "  </thead>\n",
       "  <tbody>\n",
       "    <tr>\n",
       "      <th>3</th>\n",
       "      <td>2330</td>\n",
       "      <td>台積電</td>\n",
       "      <td>76,466,709</td>\n",
       "      <td>41,620</td>\n",
       "      <td>19,728,534,253</td>\n",
       "      <td>257.00</td>\n",
       "      <td>262.50</td>\n",
       "      <td>252.00</td>\n",
       "      <td>255.00</td>\n",
       "      <td>&lt;p style= color:green&gt;-&lt;/p&gt;</td>\n",
       "      <td>15.00</td>\n",
       "      <td>255.00</td>\n",
       "      <td>126</td>\n",
       "      <td>255.50</td>\n",
       "      <td>169</td>\n",
       "      <td>19.14</td>\n",
       "      <td>20200323</td>\n",
       "    </tr>\n",
       "    <tr>\n",
       "      <th>3</th>\n",
       "      <td>2330</td>\n",
       "      <td>台積電</td>\n",
       "      <td>159,179,726</td>\n",
       "      <td>69,829</td>\n",
       "      <td>42,110,816,042</td>\n",
       "      <td>258.50</td>\n",
       "      <td>270.00</td>\n",
       "      <td>256.00</td>\n",
       "      <td>270.00</td>\n",
       "      <td>&lt;p style= color:red&gt;+&lt;/p&gt;</td>\n",
       "      <td>22.00</td>\n",
       "      <td>269.50</td>\n",
       "      <td>645</td>\n",
       "      <td>270.00</td>\n",
       "      <td>2,795</td>\n",
       "      <td>20.27</td>\n",
       "      <td>20200320</td>\n",
       "    </tr>\n",
       "    <tr>\n",
       "      <th>3</th>\n",
       "      <td>2330</td>\n",
       "      <td>台積電</td>\n",
       "      <td>160,811,697</td>\n",
       "      <td>77,302</td>\n",
       "      <td>39,559,889,553</td>\n",
       "      <td>252.00</td>\n",
       "      <td>253.00</td>\n",
       "      <td>235.50</td>\n",
       "      <td>248.00</td>\n",
       "      <td>X</td>\n",
       "      <td>0.00</td>\n",
       "      <td>247.50</td>\n",
       "      <td>58</td>\n",
       "      <td>248.00</td>\n",
       "      <td>799</td>\n",
       "      <td>18.62</td>\n",
       "      <td>20200319</td>\n",
       "    </tr>\n",
       "  </tbody>\n",
       "</table>\n",
       "</div>"
      ],
      "text/plain": [
       "   證券代號 證券名稱         成交股數    成交筆數            成交金額     開盤價     最高價     最低價  \\\n",
       "3  2330  台積電   76,466,709  41,620  19,728,534,253  257.00  262.50  252.00   \n",
       "3  2330  台積電  159,179,726  69,829  42,110,816,042  258.50  270.00  256.00   \n",
       "3  2330  台積電  160,811,697  77,302  39,559,889,553  252.00  253.00  235.50   \n",
       "\n",
       "      收盤價                      漲跌(+/-)   漲跌價差  最後揭示買價 最後揭示買量  最後揭示賣價 最後揭示賣量  \\\n",
       "3  255.00  <p style= color:green>-</p>  15.00  255.00    126  255.50    169   \n",
       "3  270.00    <p style= color:red>+</p>  22.00  269.50    645  270.00  2,795   \n",
       "3  248.00                            X   0.00  247.50     58  248.00    799   \n",
       "\n",
       "     本益比       ymd  \n",
       "3  19.14  20200323  \n",
       "3  20.27  20200320  \n",
       "3  18.62  20200319  "
      ]
     },
     "execution_count": 171,
     "metadata": {},
     "output_type": "execute_result"
    }
   ],
   "source": [
    "stockdf[stockdf['證券代號'] == '2330']"
   ]
  },
  {
   "cell_type": "code",
   "execution_count": 172,
   "metadata": {},
   "outputs": [
    {
     "name": "stdout",
     "output_type": "stream",
     "text": [
      "Requirement already satisfied: pandas_datareader in /Users/davidchiu/.pyenv/versions/3.6.2/lib/python3.6/site-packages (0.7.0)\n",
      "Requirement already satisfied: requests>=2.3.0 in /Users/davidchiu/.pyenv/versions/3.6.2/lib/python3.6/site-packages (from pandas_datareader) (2.22.0)\n",
      "Requirement already satisfied: pandas>=0.19.2 in /Users/davidchiu/.pyenv/versions/3.6.2/lib/python3.6/site-packages (from pandas_datareader) (0.24.2)\n",
      "Requirement already satisfied: lxml in /Users/davidchiu/.pyenv/versions/3.6.2/lib/python3.6/site-packages (from pandas_datareader) (4.3.4)\n",
      "Requirement already satisfied: wrapt in /Users/davidchiu/.pyenv/versions/3.6.2/lib/python3.6/site-packages (from pandas_datareader) (1.11.2)\n",
      "Requirement already satisfied: chardet<3.1.0,>=3.0.2 in /Users/davidchiu/.pyenv/versions/3.6.2/lib/python3.6/site-packages (from requests>=2.3.0->pandas_datareader) (3.0.4)\n",
      "Requirement already satisfied: idna<2.9,>=2.5 in /Users/davidchiu/.pyenv/versions/3.6.2/lib/python3.6/site-packages (from requests>=2.3.0->pandas_datareader) (2.8)\n",
      "Requirement already satisfied: certifi>=2017.4.17 in /Users/davidchiu/.pyenv/versions/3.6.2/lib/python3.6/site-packages (from requests>=2.3.0->pandas_datareader) (2019.6.16)\n",
      "Requirement already satisfied: urllib3!=1.25.0,!=1.25.1,<1.26,>=1.21.1 in /Users/davidchiu/.pyenv/versions/3.6.2/lib/python3.6/site-packages (from requests>=2.3.0->pandas_datareader) (1.25.3)\n",
      "Requirement already satisfied: numpy>=1.12.0 in /Users/davidchiu/.pyenv/versions/3.6.2/lib/python3.6/site-packages (from pandas>=0.19.2->pandas_datareader) (1.18.1)\n",
      "Requirement already satisfied: python-dateutil>=2.5.0 in /Users/davidchiu/.pyenv/versions/3.6.2/lib/python3.6/site-packages (from pandas>=0.19.2->pandas_datareader) (2.8.1)\n",
      "Requirement already satisfied: pytz>=2011k in /Users/davidchiu/.pyenv/versions/3.6.2/lib/python3.6/site-packages (from pandas>=0.19.2->pandas_datareader) (2019.3)\n",
      "Requirement already satisfied: six>=1.5 in /Users/davidchiu/.pyenv/versions/3.6.2/lib/python3.6/site-packages (from python-dateutil>=2.5.0->pandas>=0.19.2->pandas_datareader) (1.14.0)\n"
     ]
    }
   ],
   "source": [
    "! pip install pandas_datareader"
   ]
  },
  {
   "cell_type": "code",
   "execution_count": 174,
   "metadata": {},
   "outputs": [],
   "source": [
    "from pandas_datareader import DataReader\n",
    "tw2330 = DataReader('2330.TW', 'yahoo')"
   ]
  },
  {
   "cell_type": "code",
   "execution_count": 176,
   "metadata": {},
   "outputs": [
    {
     "name": "stdout",
     "output_type": "stream",
     "text": [
      "Populating the interactive namespace from numpy and matplotlib\n"
     ]
    },
    {
     "name": "stderr",
     "output_type": "stream",
     "text": [
      "/Users/davidchiu/.pyenv/versions/3.6.2/lib/python3.6/site-packages/IPython/core/magics/pylab.py:161: UserWarning: pylab import has clobbered these variables: ['datetime', 'rec']\n",
      "`%matplotlib` prevents importing * from pylab and numpy\n",
      "  \"\\n`%matplotlib` prevents importing * from pylab and numpy\"\n"
     ]
    },
    {
     "data": {
      "text/plain": [
       "<matplotlib.axes._subplots.AxesSubplot at 0x11de27dd8>"
      ]
     },
     "execution_count": 176,
     "metadata": {},
     "output_type": "execute_result"
    },
    {
     "data": {
      "image/png": "[encoded data removed]",
      "text/plain": [
       "<Figure size 432x288 with 1 Axes>"
      ]
     },
     "metadata": {},
     "output_type": "display_data"
    }
   ],
   "source": [
    "%pylab inline\n",
    "tw2330['Close'].plot(kind = 'line')"
   ]
  },
  {
   "cell_type": "markdown",
   "metadata": {},
   "source": [
    "## 驗證碼"
   ]
  },
  {
   "cell_type": "code",
   "execution_count": 183,
   "metadata": {},
   "outputs": [],
   "source": [
    "! mv /Users/davidchiu/Desktop/showPhone.png ./"
   ]
  },
  {
   "cell_type": "code",
   "execution_count": 184,
   "metadata": {},
   "outputs": [
    {
     "data": {
      "image/png": "[encoded data removed]",
      "text/plain": [
       "<PIL.PngImagePlugin.PngImageFile image mode=P size=180x30 at 0x11C903898>"
      ]
     },
     "execution_count": 184,
     "metadata": {},
     "output_type": "execute_result"
    }
   ],
   "source": [
    "from PIL import Image\n",
    "img = Image.open('showPhone.png')\n",
    "img"
   ]
  },
  {
   "cell_type": "markdown",
   "metadata": {},
   "source": [
    "## OCR\n",
    "- Tesseract\n",
    "- https://tesseract-ocr.github.io/tessdoc/Home.html"
   ]
  },
  {
   "cell_type": "code",
   "execution_count": 179,
   "metadata": {},
   "outputs": [
    {
     "name": "stdout",
     "output_type": "stream",
     "text": [
      "Requirement already satisfied: pytesseract in /Users/davidchiu/.pyenv/versions/3.6.2/lib/python3.6/site-packages (0.2.4)\r\n",
      "Requirement already satisfied: Pillow in /Users/davidchiu/.pyenv/versions/3.6.2/lib/python3.6/site-packages (from pytesseract) (6.2.1)\r\n"
     ]
    }
   ],
   "source": [
    "! pip install pytesseract"
   ]
  },
  {
   "cell_type": "code",
   "execution_count": 185,
   "metadata": {},
   "outputs": [
    {
     "name": "stdout",
     "output_type": "stream",
     "text": [
      "\n"
     ]
    }
   ],
   "source": [
    "try:\n",
    "    from PIL import Image\n",
    "except ImportError:\n",
    "    import Image\n",
    "import pytesseract\n",
    "\n",
    "pytesseract.pytesseract.tesseract_cmd = r'/usr/local/Cellar/tesseract/4.1.1/bin/tesseract'\n",
    "print(pytesseract.image_to_string(Image.open('showPhone.png')))"
   ]
  },
  {
   "cell_type": "code",
   "execution_count": null,
   "metadata": {},
   "outputs": [],
   "source": []
  }
 ],
 "metadata": {
  "kernelspec": {
   "display_name": "Python 3",
   "language": "python",
   "name": "python3"
  },
  "language_info": {
   "codemirror_mode": {
    "name": "ipython",
    "version": 3
   },
   "file_extension": ".py",
   "mimetype": "text/x-python",
   "name": "python",
   "nbconvert_exporter": "python",
   "pygments_lexer": "ipython3",
   "version": "3.6.2"
  }
 },
 "nbformat": 4,
 "nbformat_minor": 2
}
