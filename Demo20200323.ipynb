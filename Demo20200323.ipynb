{
 "cells": [
  {
   "cell_type": "markdown",
   "metadata": {},
   "source": [
    "## 作業二 提示"
   ]
  },
  {
   "cell_type": "code",
   "execution_count": 1,
   "metadata": {},
   "outputs": [],
   "source": [
    "import requests\n",
    "url = 'https://www.moneydj.com/InfoSvc/apis/vc'\n",
    "payload = {\"counts\":[{\"svc\":\"NS\",\"guid\":\"3680573d-0d84-4bb7-88d5-9657804fab6c\"},{\"svc\":\"NS\",\"guid\":\"8f8596e6-a738-4f33-a67f-cfb4866c5c5b\"},{\"svc\":\"NV\",\"guid\":\"80a64693-4bf8-4cd4-9890-5a9c7a110a84\"},{\"svc\":\"NV\",\"guid\":\"12e22cc3-2553-4c77-9f77-24a74814c853\"},{\"svc\":\"NV\",\"guid\":\"cb8fcb41-13e6-4972-808b-f8ce75de3d3d\"},{\"svc\":\"NV\",\"guid\":\"404d7158-92a3-4026-8e9b-12c979455164\"},{\"svc\":\"NV\",\"guid\":\"a6e01a7a-5e90-4839-991a-b50827013a89\"},{\"svc\":\"NV\",\"guid\":\"559b531d-2ebc-4e3e-828f-37041fc89bd4\"},{\"svc\":\"NV\",\"guid\":\"36348bcb-718b-40ee-89b6-ddca7c73e35a\"},{\"svc\":\"NV\",\"guid\":\"daeae8fe-fcd9-4e25-960f-c5dfc713c4bf\"},{\"svc\":\"NV\",\"guid\":\"393e67e7-ddd8-4d64-b6d5-5736cea0aa9a\"},{\"svc\":\"NV\",\"guid\":\"645099fb-346b-4b11-8e68-89ac56d58b5f\"},{\"svc\":\"NS\",\"guid\":\"3e7f0f53-960e-4e88-b7f7-ec0d145bbf47\"},{\"svc\":\"NS\",\"guid\":\"288a7e86-fb35-4d1d-bd71-f088c053e788\"},{\"svc\":\"NV\",\"guid\":\"5d7c0040-0f94-469c-9df6-07dd24c8572f\"},{\"svc\":\"NV\",\"guid\":\"772408ee-8e4f-48da-af9f-02bae0c55c73\"},{\"svc\":\"NS\",\"guid\":\"726dd048-f552-4500-b252-09421c1707c3\"},{\"svc\":\"NS\",\"guid\":\"278bf9d8-44fb-4e70-bf86-c58f58df30e8\"},{\"svc\":\"NV\",\"guid\":\"d3f8d5e8-46ab-4b76-ba88-04d6184ec869\"}]}\n",
    "res = requests.post(url, json = payload)"
   ]
  },
  {
   "cell_type": "code",
   "execution_count": 2,
   "metadata": {},
   "outputs": [
    {
     "data": {
      "text/plain": [
       "{'counts': [{'count': 6,\n",
       "   'guid': '3680573d-0d84-4bb7-88d5-9657804fab6c',\n",
       "   'svc': 'NS'},\n",
       "  {'count': 5, 'guid': '8f8596e6-a738-4f33-a67f-cfb4866c5c5b', 'svc': 'NS'},\n",
       "  {'count': 5, 'guid': '80a64693-4bf8-4cd4-9890-5a9c7a110a84', 'svc': 'NV'},\n",
       "  {'count': 13, 'guid': '12e22cc3-2553-4c77-9f77-24a74814c853', 'svc': 'NV'},\n",
       "  {'count': 4, 'guid': 'cb8fcb41-13e6-4972-808b-f8ce75de3d3d', 'svc': 'NV'},\n",
       "  {'count': 23, 'guid': '404d7158-92a3-4026-8e9b-12c979455164', 'svc': 'NV'},\n",
       "  {'count': 7, 'guid': 'a6e01a7a-5e90-4839-991a-b50827013a89', 'svc': 'NV'},\n",
       "  {'count': 16, 'guid': '559b531d-2ebc-4e3e-828f-37041fc89bd4', 'svc': 'NV'},\n",
       "  {'count': 20, 'guid': '36348bcb-718b-40ee-89b6-ddca7c73e35a', 'svc': 'NV'},\n",
       "  {'count': 14, 'guid': 'daeae8fe-fcd9-4e25-960f-c5dfc713c4bf', 'svc': 'NV'},\n",
       "  {'count': 54, 'guid': '393e67e7-ddd8-4d64-b6d5-5736cea0aa9a', 'svc': 'NV'},\n",
       "  {'count': 18, 'guid': '645099fb-346b-4b11-8e68-89ac56d58b5f', 'svc': 'NV'},\n",
       "  {'count': 12, 'guid': '3e7f0f53-960e-4e88-b7f7-ec0d145bbf47', 'svc': 'NS'},\n",
       "  {'count': 17, 'guid': '288a7e86-fb35-4d1d-bd71-f088c053e788', 'svc': 'NS'},\n",
       "  {'count': 40, 'guid': '5d7c0040-0f94-469c-9df6-07dd24c8572f', 'svc': 'NV'},\n",
       "  {'count': 24, 'guid': '772408ee-8e4f-48da-af9f-02bae0c55c73', 'svc': 'NV'},\n",
       "  {'count': 13, 'guid': '726dd048-f552-4500-b252-09421c1707c3', 'svc': 'NS'},\n",
       "  {'count': 21, 'guid': '278bf9d8-44fb-4e70-bf86-c58f58df30e8', 'svc': 'NS'},\n",
       "  {'count': 29, 'guid': 'd3f8d5e8-46ab-4b76-ba88-04d6184ec869', 'svc': 'NV'}]}"
      ]
     },
     "execution_count": 2,
     "metadata": {},
     "output_type": "execute_result"
    }
   ],
   "source": [
    "res.json()"
   ]
  },
  {
   "cell_type": "code",
   "execution_count": 3,
   "metadata": {},
   "outputs": [],
   "source": [
    "import requests\n",
    "url = 'https://www.moneydj.com/InfoSvc/apis/vc'\n",
    "payload = {\"counts\":[{\"svc\":\"NS\",\"guid\":\"3680573d-0d84-4bb7-88d5-9657804fab6c\"}]}\n",
    "res = requests.post(url, json = payload)"
   ]
  },
  {
   "cell_type": "code",
   "execution_count": 4,
   "metadata": {},
   "outputs": [
    {
     "data": {
      "text/plain": [
       "{'counts': [{'count': 6,\n",
       "   'guid': '3680573d-0d84-4bb7-88d5-9657804fab6c',\n",
       "   'svc': 'NS'}]}"
      ]
     },
     "execution_count": 4,
     "metadata": {},
     "output_type": "execute_result"
    }
   ],
   "source": [
    "res.json()"
   ]
  },
  {
   "cell_type": "code",
   "execution_count": 7,
   "metadata": {},
   "outputs": [
    {
     "data": {
      "text/plain": [
       "'3680573d-0d84-4bb7-88d5-9657804fab6c'"
      ]
     },
     "execution_count": 7,
     "metadata": {},
     "output_type": "execute_result"
    }
   ],
   "source": [
    "newsurl = 'https://www.moneydj.com/KMDJ/News/NewsViewer.aspx?a=3680573d-0d84-4bb7-88d5-9657804fab6c&c=MB00'\n",
    "newsurl.split('?a=')[1].split('&c')[0]"
   ]
  },
  {
   "cell_type": "code",
   "execution_count": 10,
   "metadata": {},
   "outputs": [],
   "source": [
    "import re\n",
    "m = re.search('a=([\\w-]+)&', newsurl)"
   ]
  },
  {
   "cell_type": "code",
   "execution_count": 11,
   "metadata": {},
   "outputs": [
    {
     "data": {
      "text/plain": [
       "'3680573d-0d84-4bb7-88d5-9657804fab6c'"
      ]
     },
     "execution_count": 11,
     "metadata": {},
     "output_type": "execute_result"
    }
   ],
   "source": [
    "m.group(1)"
   ]
  },
  {
   "cell_type": "code",
   "execution_count": 12,
   "metadata": {},
   "outputs": [
    {
     "name": "stdout",
     "output_type": "stream",
     "text": [
      "['3680573d-0d84-4bb7-88d5-9657804fab6c']\n"
     ]
    }
   ],
   "source": [
    "import urllib.parse as urlparse\n",
    "from urllib.parse import parse_qs\n",
    "parsed = urlparse.urlparse(newsurl)\n",
    "print(parse_qs(parsed.query)['a'])"
   ]
  },
  {
   "cell_type": "code",
   "execution_count": null,
   "metadata": {},
   "outputs": [],
   "source": [
    "https://www.moneydj.com/KMDJ/News/NewsViewer.aspx?a=80a64693-4bf8-4cd4-9890-5a9c7a110a84&c=MB00"
   ]
  },
  {
   "cell_type": "code",
   "execution_count": 15,
   "metadata": {},
   "outputs": [
    {
     "data": {
      "text/plain": [
       "{'counts': [{'count': 14,\n",
       "   'guid': '80a64693-4bf8-4cd4-9890-5a9c7a110a84',\n",
       "   'svc': 'NV'}]}"
      ]
     },
     "execution_count": 15,
     "metadata": {},
     "output_type": "execute_result"
    }
   ],
   "source": [
    "import requests\n",
    "url = 'https://www.moneydj.com/InfoSvc/apis/vc'\n",
    "payload = {\"counts\":[{\"svc\":\"NV\",\"guid\":\"80a64693-4bf8-4cd4-9890-5a9c7a110a84\"}]}\n",
    "res = requests.post(url, json = payload)\n",
    "res.json()"
   ]
  },
  {
   "cell_type": "code",
   "execution_count": null,
   "metadata": {},
   "outputs": [],
   "source": [
    "https://www.moneydj.com/KMDJ/News/NewsViewer.aspx?a=3680573d-0d84-4bb7-88d5-9657804fab6c&c=MB00\n",
    "https://www.moneydj.com/KMDJ/News/NewsViewer.aspx?a=80a64693-4bf8-4cd4-9890-5a9c7a110a84&c=MB00"
   ]
  },
  {
   "cell_type": "code",
   "execution_count": 17,
   "metadata": {},
   "outputs": [],
   "source": [
    "import requests\n",
    "from bs4 import BeautifulSoup\n",
    "res = requests.get('https://www.moneydj.com/KMDJ/News/NewsRealList.aspx?a=MB00')\n",
    "soup = BeautifulSoup(res.text, 'lxml')"
   ]
  },
  {
   "cell_type": "code",
   "execution_count": 27,
   "metadata": {},
   "outputs": [],
   "source": [
    "import requests\n",
    "def getVC(svc, guid):\n",
    "    url = 'https://www.moneydj.com/InfoSvc/apis/vc'\n",
    "    payload = {\"counts\":[{\"svc\":svc,\"guid\":guid}]}\n",
    "    res = requests.post(url, json = payload)\n",
    "    jd = res.json()\n",
    "    return jd['counts'][0]['count']"
   ]
  },
  {
   "cell_type": "code",
   "execution_count": 28,
   "metadata": {},
   "outputs": [
    {
     "name": "stdout",
     "output_type": "stream",
     "text": [
      "8\n",
      "10\n",
      "2\n",
      "2\n",
      "2\n",
      "3\n",
      "0\n",
      "1\n",
      "2\n",
      "0\n",
      "58\n",
      "23\n",
      "3\n",
      "5\n",
      "6\n",
      "7\n",
      "7\n",
      "7\n",
      "14\n",
      "21\n"
     ]
    }
   ],
   "source": [
    "for tr in soup.select('#MainContent_Contents_sl_gvList tr'):\n",
    "    if tr.select('td'):\n",
    "        rec = tr.select('td')[-1].select_one('span')\n",
    "        vc = getVC(rec.get('vsvc'), rec.get('vkey'))\n",
    "        print(vc)"
   ]
  },
  {
   "cell_type": "markdown",
   "metadata": {},
   "source": [
    "## Selenium "
   ]
  },
  {
   "cell_type": "code",
   "execution_count": 29,
   "metadata": {},
   "outputs": [],
   "source": [
    "from selenium import webdriver\n",
    "driver = webdriver.Chrome('./chromedriver')\n",
    "driver.get('https://www.moneydj.com/KMDJ/News/NewsRealList.aspx?index1=500&a=MB00')"
   ]
  },
  {
   "cell_type": "code",
   "execution_count": 31,
   "metadata": {},
   "outputs": [],
   "source": [
    "#driver.page_source\n",
    "soup = BeautifulSoup(driver.page_source, 'lxml')"
   ]
  },
  {
   "cell_type": "code",
   "execution_count": 32,
   "metadata": {},
   "outputs": [
    {
     "name": "stdout",
     "output_type": "stream",
     "text": [
      "<td align=\"center\" style=\"color:Gray;width:30px;\">\n",
      "<span class=\"viewcount\" vkey=\"35cdec42-ea0b-4294-8ed0-3fd03082147c\" vsvc=\"NS\">54</span>\n",
      "</td>\n",
      "<td align=\"center\" style=\"color:Gray;width:30px;\">\n",
      "<span class=\"viewcount\" vkey=\"64aab579-b7e0-4b98-8531-04aab55403ab\" vsvc=\"NS\">27</span>\n",
      "</td>\n",
      "<td align=\"center\" style=\"color:Gray;width:30px;\">\n",
      "<span class=\"viewcount\" vkey=\"839580db-9fdb-4c86-9889-8274c239e936\" vsvc=\"NS\">47</span>\n",
      "</td>\n",
      "<td align=\"center\" style=\"color:Gray;width:30px;\">\n",
      "<span class=\"viewcount\" vkey=\"1dcaa217-ef59-4936-8b03-bc8845b3c348\" vsvc=\"NS\">39</span>\n",
      "</td>\n",
      "<td align=\"center\" style=\"color:Gray;width:30px;\">\n",
      "<span class=\"viewcount\" vkey=\"5c036b3b-cd60-49de-8848-c5e6cf310b50\" vsvc=\"NS\">51</span>\n",
      "</td>\n",
      "<td align=\"center\" style=\"color:Gray;width:30px;\">\n",
      "<span class=\"viewcount\" vkey=\"4a10e7ee-aba7-4e85-b1b4-3b593290e487\" vsvc=\"NS\">95</span>\n",
      "</td>\n",
      "<td align=\"center\" style=\"color:Gray;width:30px;\">\n",
      "<span class=\"viewcount\" vkey=\"86c63676-f0ad-4c21-9b24-96dd2cb2a65a\" vsvc=\"NS\">260</span>\n",
      "</td>\n",
      "<td align=\"center\" style=\"color:Gray;width:30px;\">\n",
      "<span class=\"viewcount\" vkey=\"4c4266d2-610c-408d-8db4-64d0a372775d\" vsvc=\"NS\">16</span>\n",
      "</td>\n",
      "<td align=\"center\" style=\"color:Gray;width:30px;\">\n",
      "<span class=\"viewcount\" vkey=\"19862605-204b-46bc-899c-f5c9a637d78b\" vsvc=\"NS\">49</span>\n",
      "</td>\n",
      "<td align=\"center\" style=\"color:Gray;width:30px;\">\n",
      "<span class=\"viewcount\" vkey=\"6cf81bbd-c28d-4d2e-8203-102bcf1e6444\" vsvc=\"NS\">35</span>\n",
      "</td>\n",
      "<td align=\"center\" style=\"color:Gray;width:30px;\">\n",
      "<span class=\"viewcount\" vkey=\"722849f1-7de8-4c82-be26-691e3e0624b6\" vsvc=\"NS\">32</span>\n",
      "</td>\n",
      "<td align=\"center\" style=\"color:Gray;width:30px;\">\n",
      "<span class=\"viewcount\" vkey=\"d66a6598-a0b8-40c4-8cd1-3a055aef907c\" vsvc=\"NS\">23</span>\n",
      "</td>\n",
      "<td align=\"center\" style=\"color:Gray;width:30px;\">\n",
      "<span class=\"viewcount\" vkey=\"1827a0da-513e-4e5b-8b82-9d1f99ba1526\" vsvc=\"NV\">129</span>\n",
      "</td>\n",
      "<td align=\"center\" style=\"color:Gray;width:30px;\">\n",
      "<span class=\"viewcount\" vkey=\"b549560a-950e-4cf2-bf38-3dd7ae99363d\" vsvc=\"NV\">165</span>\n",
      "</td>\n",
      "<td align=\"center\" style=\"color:Gray;width:30px;\">\n",
      "<span class=\"viewcount\" vkey=\"0e0b300d-72be-44ad-900e-df3cde1d0f74\" vsvc=\"NV\">158</span>\n",
      "</td>\n",
      "<td align=\"center\" style=\"color:Gray;width:30px;\">\n",
      "<span class=\"viewcount\" vkey=\"a2756344-1784-4ac1-8aa0-a81f0b1eba93\" vsvc=\"NV\">150</span>\n",
      "</td>\n",
      "<td align=\"center\" style=\"color:Gray;width:30px;\">\n",
      "<span class=\"viewcount\" vkey=\"83479a9e-04bd-4db0-8ab6-c60e37b9942e\" vsvc=\"NV\">891</span>\n",
      "</td>\n",
      "<td align=\"center\" style=\"color:Gray;width:30px;\">\n",
      "<span class=\"viewcount\" vkey=\"cd44227e-8a5d-4c4f-9862-2a9edca796a4\" vsvc=\"NV\">176</span>\n",
      "</td>\n",
      "<td align=\"center\" style=\"color:Gray;width:30px;\">\n",
      "<span class=\"viewcount\" vkey=\"03c9112d-60f0-45cb-ba23-a2318b915ada\" vsvc=\"NV\">134</span>\n",
      "</td>\n",
      "<td align=\"center\" style=\"color:Gray;width:30px;\">\n",
      "<span class=\"viewcount\" vkey=\"cfa1fb28-b8c0-47b5-a575-a37d17e74ccf\" vsvc=\"NV\">662</span>\n",
      "</td>\n"
     ]
    }
   ],
   "source": [
    "for tr in soup.select('#MainContent_Contents_sl_gvList tr'):\n",
    "    if tr.select('td'):\n",
    "        print(tr.select('td')[-1])"
   ]
  },
  {
   "cell_type": "markdown",
   "metadata": {},
   "source": [
    "## MechanicalSoup"
   ]
  },
  {
   "cell_type": "code",
   "execution_count": 33,
   "metadata": {},
   "outputs": [
    {
     "data": {
      "text/plain": [
       "<Response [200]>"
      ]
     },
     "execution_count": 33,
     "metadata": {},
     "output_type": "execute_result"
    }
   ],
   "source": [
    "import mechanicalsoup\n",
    "browser = mechanicalsoup.StatefulBrowser()\n",
    "browser.open(\"https://www.moneydj.com/KMDJ/News/NewsRealList.aspx?index1=500&a=MB00\")"
   ]
  },
  {
   "cell_type": "code",
   "execution_count": 34,
   "metadata": {},
   "outputs": [
    {
     "name": "stdout",
     "output_type": "stream",
     "text": [
      "<td align=\"center\" style=\"color:Gray;width:30px;\">\n",
      "<span class=\"viewcount\" vkey=\"35cdec42-ea0b-4294-8ed0-3fd03082147c\" vsvc=\"NS\">0</span>\n",
      "</td>\n",
      "<td align=\"center\" style=\"color:Gray;width:30px;\">\n",
      "<span class=\"viewcount\" vkey=\"64aab579-b7e0-4b98-8531-04aab55403ab\" vsvc=\"NS\">0</span>\n",
      "</td>\n",
      "<td align=\"center\" style=\"color:Gray;width:30px;\">\n",
      "<span class=\"viewcount\" vkey=\"839580db-9fdb-4c86-9889-8274c239e936\" vsvc=\"NS\">0</span>\n",
      "</td>\n",
      "<td align=\"center\" style=\"color:Gray;width:30px;\">\n",
      "<span class=\"viewcount\" vkey=\"1dcaa217-ef59-4936-8b03-bc8845b3c348\" vsvc=\"NS\">0</span>\n",
      "</td>\n",
      "<td align=\"center\" style=\"color:Gray;width:30px;\">\n",
      "<span class=\"viewcount\" vkey=\"5c036b3b-cd60-49de-8848-c5e6cf310b50\" vsvc=\"NS\">0</span>\n",
      "</td>\n",
      "<td align=\"center\" style=\"color:Gray;width:30px;\">\n",
      "<span class=\"viewcount\" vkey=\"4a10e7ee-aba7-4e85-b1b4-3b593290e487\" vsvc=\"NS\">0</span>\n",
      "</td>\n",
      "<td align=\"center\" style=\"color:Gray;width:30px;\">\n",
      "<span class=\"viewcount\" vkey=\"86c63676-f0ad-4c21-9b24-96dd2cb2a65a\" vsvc=\"NS\">0</span>\n",
      "</td>\n",
      "<td align=\"center\" style=\"color:Gray;width:30px;\">\n",
      "<span class=\"viewcount\" vkey=\"4c4266d2-610c-408d-8db4-64d0a372775d\" vsvc=\"NS\">0</span>\n",
      "</td>\n",
      "<td align=\"center\" style=\"color:Gray;width:30px;\">\n",
      "<span class=\"viewcount\" vkey=\"19862605-204b-46bc-899c-f5c9a637d78b\" vsvc=\"NS\">0</span>\n",
      "</td>\n",
      "<td align=\"center\" style=\"color:Gray;width:30px;\">\n",
      "<span class=\"viewcount\" vkey=\"6cf81bbd-c28d-4d2e-8203-102bcf1e6444\" vsvc=\"NS\">0</span>\n",
      "</td>\n",
      "<td align=\"center\" style=\"color:Gray;width:30px;\">\n",
      "<span class=\"viewcount\" vkey=\"722849f1-7de8-4c82-be26-691e3e0624b6\" vsvc=\"NS\">0</span>\n",
      "</td>\n",
      "<td align=\"center\" style=\"color:Gray;width:30px;\">\n",
      "<span class=\"viewcount\" vkey=\"d66a6598-a0b8-40c4-8cd1-3a055aef907c\" vsvc=\"NS\">0</span>\n",
      "</td>\n",
      "<td align=\"center\" style=\"color:Gray;width:30px;\">\n",
      "<span class=\"viewcount\" vkey=\"1827a0da-513e-4e5b-8b82-9d1f99ba1526\" vsvc=\"NV\">0</span>\n",
      "</td>\n",
      "<td align=\"center\" style=\"color:Gray;width:30px;\">\n",
      "<span class=\"viewcount\" vkey=\"b549560a-950e-4cf2-bf38-3dd7ae99363d\" vsvc=\"NV\">0</span>\n",
      "</td>\n",
      "<td align=\"center\" style=\"color:Gray;width:30px;\">\n",
      "<span class=\"viewcount\" vkey=\"0e0b300d-72be-44ad-900e-df3cde1d0f74\" vsvc=\"NV\">0</span>\n",
      "</td>\n",
      "<td align=\"center\" style=\"color:Gray;width:30px;\">\n",
      "<span class=\"viewcount\" vkey=\"a2756344-1784-4ac1-8aa0-a81f0b1eba93\" vsvc=\"NV\">0</span>\n",
      "</td>\n",
      "<td align=\"center\" style=\"color:Gray;width:30px;\">\n",
      "<span class=\"viewcount\" vkey=\"83479a9e-04bd-4db0-8ab6-c60e37b9942e\" vsvc=\"NV\">0</span>\n",
      "</td>\n",
      "<td align=\"center\" style=\"color:Gray;width:30px;\">\n",
      "<span class=\"viewcount\" vkey=\"cd44227e-8a5d-4c4f-9862-2a9edca796a4\" vsvc=\"NV\">0</span>\n",
      "</td>\n",
      "<td align=\"center\" style=\"color:Gray;width:30px;\">\n",
      "<span class=\"viewcount\" vkey=\"03c9112d-60f0-45cb-ba23-a2318b915ada\" vsvc=\"NV\">0</span>\n",
      "</td>\n",
      "<td align=\"center\" style=\"color:Gray;width:30px;\">\n",
      "<span class=\"viewcount\" vkey=\"cfa1fb28-b8c0-47b5-a575-a37d17e74ccf\" vsvc=\"NV\">0</span>\n",
      "</td>\n"
     ]
    }
   ],
   "source": [
    "soup = browser.get_current_page()\n",
    "for tr in soup.select('#MainContent_Contents_sl_gvList tr'):\n",
    "    if tr.select('td'):\n",
    "        print(tr.select('td')[-1])"
   ]
  },
  {
   "cell_type": "code",
   "execution_count": null,
   "metadata": {},
   "outputs": [],
   "source": []
  }
 ],
 "metadata": {
  "kernelspec": {
   "display_name": "Python 3",
   "language": "python",
   "name": "python3"
  },
  "language_info": {
   "codemirror_mode": {
    "name": "ipython",
    "version": 3
   },
   "file_extension": ".py",
   "mimetype": "text/x-python",
   "name": "python",
   "nbconvert_exporter": "python",
   "pygments_lexer": "ipython3",
   "version": "3.6.2"
  }
 },
 "nbformat": 4,
 "nbformat_minor": 2
}
