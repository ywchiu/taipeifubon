{
 "cells": [
  {
   "cell_type": "markdown",
   "metadata": {},
   "source": [
    "## 安裝Scrapy"
   ]
  },
  {
   "cell_type": "code",
   "execution_count": 1,
   "metadata": {},
   "outputs": [
    {
     "name": "stdout",
     "output_type": "stream",
     "text": [
      "Requirement already satisfied: scrapy in /Users/davidchiu/.pyenv/versions/3.6.2/lib/python3.6/site-packages (1.5.1)\n",
      "Requirement already satisfied: w3lib>=1.17.0 in /Users/davidchiu/.pyenv/versions/3.6.2/lib/python3.6/site-packages (from scrapy) (1.19.0)\n",
      "Requirement already satisfied: parsel>=1.1 in /Users/davidchiu/.pyenv/versions/3.6.2/lib/python3.6/site-packages (from scrapy) (1.5.0)\n",
      "Requirement already satisfied: pyOpenSSL in /Users/davidchiu/.pyenv/versions/3.6.2/lib/python3.6/site-packages (from scrapy) (19.0.0)\n",
      "Requirement already satisfied: PyDispatcher>=2.0.5 in /Users/davidchiu/.pyenv/versions/3.6.2/lib/python3.6/site-packages (from scrapy) (2.0.5)\n",
      "Requirement already satisfied: queuelib in /Users/davidchiu/.pyenv/versions/3.6.2/lib/python3.6/site-packages (from scrapy) (1.5.0)\n",
      "Requirement already satisfied: cssselect>=0.9 in /Users/davidchiu/.pyenv/versions/3.6.2/lib/python3.6/site-packages (from scrapy) (1.0.3)\n",
      "Requirement already satisfied: service-identity in /Users/davidchiu/.pyenv/versions/3.6.2/lib/python3.6/site-packages (from scrapy) (17.0.0)\n",
      "Requirement already satisfied: six>=1.5.2 in /Users/davidchiu/.pyenv/versions/3.6.2/lib/python3.6/site-packages (from scrapy) (1.14.0)\n",
      "Requirement already satisfied: Twisted>=13.1.0 in /Users/davidchiu/.pyenv/versions/3.6.2/lib/python3.6/site-packages (from scrapy) (19.2.0)\n",
      "Requirement already satisfied: lxml in /Users/davidchiu/.pyenv/versions/3.6.2/lib/python3.6/site-packages (from scrapy) (4.3.4)\n",
      "Requirement already satisfied: cryptography>=2.3 in /Users/davidchiu/.pyenv/versions/3.6.2/lib/python3.6/site-packages (from pyOpenSSL->scrapy) (2.6.1)\n",
      "Requirement already satisfied: attrs in /Users/davidchiu/.pyenv/versions/3.6.2/lib/python3.6/site-packages (from service-identity->scrapy) (19.3.0)\n",
      "Requirement already satisfied: pyasn1 in /Users/davidchiu/.pyenv/versions/3.6.2/lib/python3.6/site-packages (from service-identity->scrapy) (0.4.5)\n",
      "Requirement already satisfied: pyasn1-modules in /Users/davidchiu/.pyenv/versions/3.6.2/lib/python3.6/site-packages (from service-identity->scrapy) (0.2.4)\n",
      "Requirement already satisfied: constantly>=15.1 in /Users/davidchiu/.pyenv/versions/3.6.2/lib/python3.6/site-packages (from Twisted>=13.1.0->scrapy) (15.1.0)\n",
      "Requirement already satisfied: Automat>=0.3.0 in /Users/davidchiu/.pyenv/versions/3.6.2/lib/python3.6/site-packages (from Twisted>=13.1.0->scrapy) (0.7.0)\n",
      "Requirement already satisfied: incremental>=16.10.1 in /Users/davidchiu/.pyenv/versions/3.6.2/lib/python3.6/site-packages (from Twisted>=13.1.0->scrapy) (17.5.0)\n",
      "Requirement already satisfied: hyperlink>=17.1.1 in /Users/davidchiu/.pyenv/versions/3.6.2/lib/python3.6/site-packages (from Twisted>=13.1.0->scrapy) (19.0.0)\n",
      "Requirement already satisfied: PyHamcrest>=1.9.0 in /Users/davidchiu/.pyenv/versions/3.6.2/lib/python3.6/site-packages (from Twisted>=13.1.0->scrapy) (1.9.0)\n",
      "Requirement already satisfied: zope.interface>=4.4.2 in /Users/davidchiu/.pyenv/versions/3.6.2/lib/python3.6/site-packages (from Twisted>=13.1.0->scrapy) (4.6.0)\n",
      "Requirement already satisfied: cffi!=1.11.3,>=1.8 in /Users/davidchiu/.pyenv/versions/3.6.2/lib/python3.6/site-packages (from cryptography>=2.3->pyOpenSSL->scrapy) (1.12.2)\n",
      "Requirement already satisfied: asn1crypto>=0.21.0 in /Users/davidchiu/.pyenv/versions/3.6.2/lib/python3.6/site-packages (from cryptography>=2.3->pyOpenSSL->scrapy) (0.24.0)\n",
      "Requirement already satisfied: idna>=2.5 in /Users/davidchiu/.pyenv/versions/3.6.2/lib/python3.6/site-packages (from hyperlink>=17.1.1->Twisted>=13.1.0->scrapy) (2.8)\n",
      "Requirement already satisfied: setuptools in /Users/davidchiu/.pyenv/versions/3.6.2/lib/python3.6/site-packages (from PyHamcrest>=1.9.0->Twisted>=13.1.0->scrapy) (41.6.0)\n",
      "Requirement already satisfied: pycparser in /Users/davidchiu/.pyenv/versions/3.6.2/lib/python3.6/site-packages (from cffi!=1.11.3,>=1.8->cryptography>=2.3->pyOpenSSL->scrapy) (2.19)\n"
     ]
    }
   ],
   "source": [
    "! pip install scrapy"
   ]
  },
  {
   "cell_type": "markdown",
   "metadata": {},
   "source": [
    "## 創建新專案"
   ]
  },
  {
   "cell_type": "code",
   "execution_count": 3,
   "metadata": {},
   "outputs": [
    {
     "name": "stdout",
     "output_type": "stream",
     "text": [
      ":0: UserWarning: You do not have a working installation of the service_identity module: 'cannot import name 'verify_ip_address''.  Please install it from <https://pypi.python.org/pypi/service_identity> and make sure all of its dependencies are satisfied.  Without the service_identity module, Twisted can perform only rudimentary TLS client hostname verification.  Many valid certificate/hostname mappings may be rejected.\n",
      "New Scrapy project 'tutorial', using template directory '/Users/davidchiu/.pyenv/versions/3.6.2/lib/python3.6/site-packages/scrapy/templates/project', created in:\n",
      "    /Users/davidchiu/course/taipeifubon/tutorial\n",
      "\n",
      "You can start your first spider with:\n",
      "    cd tutorial\n",
      "    scrapy genspider example example.com\n"
     ]
    }
   ],
   "source": [
    "! scrapy startproject tutorial"
   ]
  },
  {
   "cell_type": "code",
   "execution_count": 4,
   "metadata": {},
   "outputs": [
    {
     "name": "stdout",
     "output_type": "stream",
     "text": [
      "\u001b[01;34mtutorial\u001b[00m\r\n",
      "├── scrapy.cfg\r\n",
      "└── \u001b[01;34mtutorial\u001b[00m\r\n",
      "    ├── __init__.py\r\n",
      "    ├── \u001b[01;34m__pycache__\u001b[00m\r\n",
      "    ├── items.py\r\n",
      "    ├── middlewares.py\r\n",
      "    ├── pipelines.py\r\n",
      "    ├── settings.py\r\n",
      "    └── \u001b[01;34mspiders\u001b[00m\r\n",
      "        ├── __init__.py\r\n",
      "        └── \u001b[01;34m__pycache__\u001b[00m\r\n",
      "\r\n",
      "4 directories, 7 files\r\n"
     ]
    }
   ],
   "source": [
    "! tree tutorial"
   ]
  },
  {
   "cell_type": "code",
   "execution_count": 5,
   "metadata": {},
   "outputs": [
    {
     "name": "stdout",
     "output_type": "stream",
     "text": [
      "/Users/davidchiu/course/taipeifubon\r\n"
     ]
    }
   ],
   "source": [
    "! pwd\n",
    "# cd"
   ]
  },
  {
   "cell_type": "markdown",
   "metadata": {},
   "source": [
    "## 執行Scrapy 爬蟲"
   ]
  },
  {
   "cell_type": "code",
   "execution_count": 15,
   "metadata": {},
   "outputs": [],
   "source": [
    "#! cd tutorial/; scrapy crawl money"
   ]
  },
  {
   "cell_type": "code",
   "execution_count": 32,
   "metadata": {},
   "outputs": [],
   "source": [
    "# ! cd tutorial/; scrapy crawl money -t json -o money.json"
   ]
  },
  {
   "cell_type": "code",
   "execution_count": 20,
   "metadata": {},
   "outputs": [],
   "source": [
    "#! cd tutorial/; head money.json"
   ]
  },
  {
   "cell_type": "code",
   "execution_count": 24,
   "metadata": {},
   "outputs": [
    {
     "data": {
      "text/html": [
       "<div>\n",
       "<style scoped>\n",
       "    .dataframe tbody tr th:only-of-type {\n",
       "        vertical-align: middle;\n",
       "    }\n",
       "\n",
       "    .dataframe tbody tr th {\n",
       "        vertical-align: top;\n",
       "    }\n",
       "\n",
       "    .dataframe thead th {\n",
       "        text-align: right;\n",
       "    }\n",
       "</style>\n",
       "<table border=\"1\" class=\"dataframe\">\n",
       "  <thead>\n",
       "    <tr style=\"text-align: right;\">\n",
       "      <th></th>\n",
       "      <th>category</th>\n",
       "      <th>content</th>\n",
       "      <th>dt</th>\n",
       "      <th>title</th>\n",
       "      <th>url</th>\n",
       "    </tr>\n",
       "  </thead>\n",
       "  <tbody>\n",
       "    <tr>\n",
       "      <th>0</th>\n",
       "      <td>產業</td>\n",
       "      <td>盛弘醫藥（8403）集團關係企業、桃竹苗地區最大區域教學醫院敏盛綜合醫院，日前決策會議決議，...</td>\n",
       "      <td>2020-03-24 15:30:00</td>\n",
       "      <td>鼓舞前線士氣 敏盛發百萬防疫獎金、盛弘再加碼</td>\n",
       "      <td>https://money.udn.com/money/story/5612/4439760</td>\n",
       "    </tr>\n",
       "    <tr>\n",
       "      <th>1</th>\n",
       "      <td>房產</td>\n",
       "      <td>新冠肺炎疫情蔓延 「異地辦公」將成趨勢，雲朗觀光集團包括旗下各大酒店，如君品酒店、翰品酒店、...</td>\n",
       "      <td>2020-03-24 15:18:00</td>\n",
       "      <td>雲朗搶「疫」外之財 攻企業「異地辦公」租賃方案</td>\n",
       "      <td>https://money.udn.com/money/story/5930/4439714</td>\n",
       "    </tr>\n",
       "    <tr>\n",
       "      <th>2</th>\n",
       "      <td>產業</td>\n",
       "      <td>康健人壽今（24）日表示，將於2020年招募600名電銷人員，歡迎二度就業的婦女或新手媽媽踴...</td>\n",
       "      <td>2020-03-24 15:16:00</td>\n",
       "      <td>康健人壽招600名電銷人員 向二度就業婦女招手</td>\n",
       "      <td>https://money.udn.com/money/story/5648/4439710</td>\n",
       "    </tr>\n",
       "    <tr>\n",
       "      <th>3</th>\n",
       "      <td>產業</td>\n",
       "      <td>第20屆光寶創新獎即日起展開徵件，光寶創新獎今年再度攜手全球領導企業默克(Merck)、英飛...</td>\n",
       "      <td>2020-03-24 15:17:00</td>\n",
       "      <td>光寶創新獎 徵求智慧家居、醫院與城市好創意</td>\n",
       "      <td>https://money.udn.com/money/story/5612/4439711</td>\n",
       "    </tr>\n",
       "    <tr>\n",
       "      <th>4</th>\n",
       "      <td>房產</td>\n",
       "      <td>東森集團得標的林口國際媒體園區B基地案，今天與新北市政府完成簽約，東森集團表示，將打造樓高1...</td>\n",
       "      <td>2020-03-24 15:12:00</td>\n",
       "      <td>東森簽約媒體園區案 打造林口新地標</td>\n",
       "      <td>https://money.udn.com/money/story/5621/4439701</td>\n",
       "    </tr>\n",
       "  </tbody>\n",
       "</table>\n",
       "</div>"
      ],
      "text/plain": [
       "  category                                            content  \\\n",
       "0       產業  盛弘醫藥（8403）集團關係企業、桃竹苗地區最大區域教學醫院敏盛綜合醫院，日前決策會議決議，...   \n",
       "1       房產  新冠肺炎疫情蔓延 「異地辦公」將成趨勢，雲朗觀光集團包括旗下各大酒店，如君品酒店、翰品酒店、...   \n",
       "2       產業  康健人壽今（24）日表示，將於2020年招募600名電銷人員，歡迎二度就業的婦女或新手媽媽踴...   \n",
       "3       產業  第20屆光寶創新獎即日起展開徵件，光寶創新獎今年再度攜手全球領導企業默克(Merck)、英飛...   \n",
       "4       房產  東森集團得標的林口國際媒體園區B基地案，今天與新北市政府完成簽約，東森集團表示，將打造樓高1...   \n",
       "\n",
       "                    dt                    title  \\\n",
       "0  2020-03-24 15:30:00   鼓舞前線士氣 敏盛發百萬防疫獎金、盛弘再加碼   \n",
       "1  2020-03-24 15:18:00  雲朗搶「疫」外之財 攻企業「異地辦公」租賃方案   \n",
       "2  2020-03-24 15:16:00  康健人壽招600名電銷人員 向二度就業婦女招手   \n",
       "3  2020-03-24 15:17:00    光寶創新獎 徵求智慧家居、醫院與城市好創意   \n",
       "4  2020-03-24 15:12:00        東森簽約媒體園區案 打造林口新地標   \n",
       "\n",
       "                                              url  \n",
       "0  https://money.udn.com/money/story/5612/4439760  \n",
       "1  https://money.udn.com/money/story/5930/4439714  \n",
       "2  https://money.udn.com/money/story/5648/4439710  \n",
       "3  https://money.udn.com/money/story/5612/4439711  \n",
       "4  https://money.udn.com/money/story/5621/4439701  "
      ]
     },
     "execution_count": 24,
     "metadata": {},
     "output_type": "execute_result"
    }
   ],
   "source": [
    "import pandas\n",
    "pandas.read_json('tutorial/money.json').head()"
   ]
  },
  {
   "cell_type": "code",
   "execution_count": 30,
   "metadata": {},
   "outputs": [],
   "source": [
    "import sqlite3 as lite\n",
    "with lite.connect('tutorial/news.sqlite') as db:\n",
    "    df2 = pandas.read_sql_query('select * from money', con = db)"
   ]
  },
  {
   "cell_type": "code",
   "execution_count": 31,
   "metadata": {},
   "outputs": [
    {
     "data": {
      "text/html": [
       "<div>\n",
       "<style scoped>\n",
       "    .dataframe tbody tr th:only-of-type {\n",
       "        vertical-align: middle;\n",
       "    }\n",
       "\n",
       "    .dataframe tbody tr th {\n",
       "        vertical-align: top;\n",
       "    }\n",
       "\n",
       "    .dataframe thead th {\n",
       "        text-align: right;\n",
       "    }\n",
       "</style>\n",
       "<table border=\"1\" class=\"dataframe\">\n",
       "  <thead>\n",
       "    <tr style=\"text-align: right;\">\n",
       "      <th></th>\n",
       "      <th>title</th>\n",
       "      <th>content</th>\n",
       "      <th>category</th>\n",
       "      <th>url</th>\n",
       "      <th>dt</th>\n",
       "    </tr>\n",
       "  </thead>\n",
       "  <tbody>\n",
       "    <tr>\n",
       "      <th>0</th>\n",
       "      <td>中國將派病毒專家赴馬來西亞 協助抗疫</td>\n",
       "      <td>馬來西亞外交部長希山慕丁今天宣布，與中國政府取得共識，中國政府將安排武漢肺炎病毒專家醫生到馬...</td>\n",
       "      <td>國際</td>\n",
       "      <td>https://money.udn.com/money/story/5599/4439802</td>\n",
       "      <td>2020-03-24 15:45:00</td>\n",
       "    </tr>\n",
       "    <tr>\n",
       "      <th>1</th>\n",
       "      <td>聯準會無限量QE恐短多長空 學者憂3大後遺症</td>\n",
       "      <td>美國聯準會再出殺招，宣布無限量QE，固然展現救市決心，但也讓學者憂心短多長空，待疫情落幕後，...</td>\n",
       "      <td>理財</td>\n",
       "      <td>https://money.udn.com/money/story/5618/4439726</td>\n",
       "      <td>2020-03-24 15:22:00</td>\n",
       "    </tr>\n",
       "    <tr>\n",
       "      <th>2</th>\n",
       "      <td>因應武漢肺炎衝擊 韓國紓困金提高至100兆韓元</td>\n",
       "      <td>為緩解2019年冠狀病毒疾病（COVID-19，武漢肺炎）疫情對經濟衝擊，韓國總統文在寅今天...</td>\n",
       "      <td>國際</td>\n",
       "      <td>https://money.udn.com/money/story/5599/4439729</td>\n",
       "      <td>2020-03-24 15:22:00</td>\n",
       "    </tr>\n",
       "    <tr>\n",
       "      <th>3</th>\n",
       "      <td>永豐銀啟動第二階段防疫計畫 攜手台灣微軟共同抗疫</td>\n",
       "      <td>台灣近期傳出從事金融業的人員確診新冠肺炎，迫使金融業加速發展遠端工作，讓營運不中斷。永豐銀以...</td>\n",
       "      <td>金融</td>\n",
       "      <td>https://money.udn.com/money/story/5613/4439718</td>\n",
       "      <td>2020-03-24 15:20:00</td>\n",
       "    </tr>\n",
       "    <tr>\n",
       "      <th>4</th>\n",
       "      <td>防疫中還趴趴走？資策會區塊鏈技術協助居家檢疫隔離</td>\n",
       "      <td>隨著新冠肺炎（COVID-19）疫情升溫，需要居家檢疫或居家隔離的民眾已超過萬人，但對這些民...</td>\n",
       "      <td>產業</td>\n",
       "      <td>https://money.udn.com/money/story/5612/4439716</td>\n",
       "      <td>2020-03-24 15:19:00</td>\n",
       "    </tr>\n",
       "  </tbody>\n",
       "</table>\n",
       "</div>"
      ],
      "text/plain": [
       "                      title  \\\n",
       "0        中國將派病毒專家赴馬來西亞 協助抗疫   \n",
       "1    聯準會無限量QE恐短多長空 學者憂3大後遺症   \n",
       "2   因應武漢肺炎衝擊 韓國紓困金提高至100兆韓元   \n",
       "3  永豐銀啟動第二階段防疫計畫 攜手台灣微軟共同抗疫   \n",
       "4  防疫中還趴趴走？資策會區塊鏈技術協助居家檢疫隔離   \n",
       "\n",
       "                                             content category  \\\n",
       "0  馬來西亞外交部長希山慕丁今天宣布，與中國政府取得共識，中國政府將安排武漢肺炎病毒專家醫生到馬...       國際   \n",
       "1  美國聯準會再出殺招，宣布無限量QE，固然展現救市決心，但也讓學者憂心短多長空，待疫情落幕後，...       理財   \n",
       "2  為緩解2019年冠狀病毒疾病（COVID-19，武漢肺炎）疫情對經濟衝擊，韓國總統文在寅今天...       國際   \n",
       "3  台灣近期傳出從事金融業的人員確診新冠肺炎，迫使金融業加速發展遠端工作，讓營運不中斷。永豐銀以...       金融   \n",
       "4  隨著新冠肺炎（COVID-19）疫情升溫，需要居家檢疫或居家隔離的民眾已超過萬人，但對這些民...       產業   \n",
       "\n",
       "                                              url                   dt  \n",
       "0  https://money.udn.com/money/story/5599/4439802  2020-03-24 15:45:00  \n",
       "1  https://money.udn.com/money/story/5618/4439726  2020-03-24 15:22:00  \n",
       "2  https://money.udn.com/money/story/5599/4439729  2020-03-24 15:22:00  \n",
       "3  https://money.udn.com/money/story/5613/4439718  2020-03-24 15:20:00  \n",
       "4  https://money.udn.com/money/story/5612/4439716  2020-03-24 15:19:00  "
      ]
     },
     "execution_count": 31,
     "metadata": {},
     "output_type": "execute_result"
    }
   ],
   "source": [
    "df2.head()"
   ]
  },
  {
   "cell_type": "code",
   "execution_count": null,
   "metadata": {},
   "outputs": [],
   "source": []
  }
 ],
 "metadata": {
  "kernelspec": {
   "display_name": "Python 3",
   "language": "python",
   "name": "python3"
  },
  "language_info": {
   "codemirror_mode": {
    "name": "ipython",
    "version": 3
   },
   "file_extension": ".py",
   "mimetype": "text/x-python",
   "name": "python",
   "nbconvert_exporter": "python",
   "pygments_lexer": "ipython3",
   "version": "3.6.2"
  }
 },
 "nbformat": 4,
 "nbformat_minor": 2
}
