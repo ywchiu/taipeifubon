{
 "cells": [
  {
   "cell_type": "markdown",
   "metadata": {},
   "source": [
    "## 安裝Scrapy"
   ]
  },
  {
   "cell_type": "code",
   "execution_count": 1,
   "metadata": {},
   "outputs": [
    {
     "name": "stdout",
     "output_type": "stream",
     "text": [
      "Requirement already satisfied: scrapy in /Users/davidchiu/.pyenv/versions/3.6.2/lib/python3.6/site-packages (1.5.1)\n",
      "Requirement already satisfied: w3lib>=1.17.0 in /Users/davidchiu/.pyenv/versions/3.6.2/lib/python3.6/site-packages (from scrapy) (1.19.0)\n",
      "Requirement already satisfied: parsel>=1.1 in /Users/davidchiu/.pyenv/versions/3.6.2/lib/python3.6/site-packages (from scrapy) (1.5.0)\n",
      "Requirement already satisfied: pyOpenSSL in /Users/davidchiu/.pyenv/versions/3.6.2/lib/python3.6/site-packages (from scrapy) (19.0.0)\n",
      "Requirement already satisfied: PyDispatcher>=2.0.5 in /Users/davidchiu/.pyenv/versions/3.6.2/lib/python3.6/site-packages (from scrapy) (2.0.5)\n",
      "Requirement already satisfied: queuelib in /Users/davidchiu/.pyenv/versions/3.6.2/lib/python3.6/site-packages (from scrapy) (1.5.0)\n",
      "Requirement already satisfied: cssselect>=0.9 in /Users/davidchiu/.pyenv/versions/3.6.2/lib/python3.6/site-packages (from scrapy) (1.0.3)\n",
      "Requirement already satisfied: service-identity in /Users/davidchiu/.pyenv/versions/3.6.2/lib/python3.6/site-packages (from scrapy) (17.0.0)\n",
      "Requirement already satisfied: six>=1.5.2 in /Users/davidchiu/.pyenv/versions/3.6.2/lib/python3.6/site-packages (from scrapy) (1.14.0)\n",
      "Requirement already satisfied: Twisted>=13.1.0 in /Users/davidchiu/.pyenv/versions/3.6.2/lib/python3.6/site-packages (from scrapy) (19.2.0)\n",
      "Requirement already satisfied: lxml in /Users/davidchiu/.pyenv/versions/3.6.2/lib/python3.6/site-packages (from scrapy) (4.3.4)\n",
      "Requirement already satisfied: cryptography>=2.3 in /Users/davidchiu/.pyenv/versions/3.6.2/lib/python3.6/site-packages (from pyOpenSSL->scrapy) (2.6.1)\n",
      "Requirement already satisfied: attrs in /Users/davidchiu/.pyenv/versions/3.6.2/lib/python3.6/site-packages (from service-identity->scrapy) (19.3.0)\n",
      "Requirement already satisfied: pyasn1 in /Users/davidchiu/.pyenv/versions/3.6.2/lib/python3.6/site-packages (from service-identity->scrapy) (0.4.5)\n",
      "Requirement already satisfied: pyasn1-modules in /Users/davidchiu/.pyenv/versions/3.6.2/lib/python3.6/site-packages (from service-identity->scrapy) (0.2.4)\n",
      "Requirement already satisfied: constantly>=15.1 in /Users/davidchiu/.pyenv/versions/3.6.2/lib/python3.6/site-packages (from Twisted>=13.1.0->scrapy) (15.1.0)\n",
      "Requirement already satisfied: Automat>=0.3.0 in /Users/davidchiu/.pyenv/versions/3.6.2/lib/python3.6/site-packages (from Twisted>=13.1.0->scrapy) (0.7.0)\n",
      "Requirement already satisfied: incremental>=16.10.1 in /Users/davidchiu/.pyenv/versions/3.6.2/lib/python3.6/site-packages (from Twisted>=13.1.0->scrapy) (17.5.0)\n",
      "Requirement already satisfied: hyperlink>=17.1.1 in /Users/davidchiu/.pyenv/versions/3.6.2/lib/python3.6/site-packages (from Twisted>=13.1.0->scrapy) (19.0.0)\n",
      "Requirement already satisfied: PyHamcrest>=1.9.0 in /Users/davidchiu/.pyenv/versions/3.6.2/lib/python3.6/site-packages (from Twisted>=13.1.0->scrapy) (1.9.0)\n",
      "Requirement already satisfied: zope.interface>=4.4.2 in /Users/davidchiu/.pyenv/versions/3.6.2/lib/python3.6/site-packages (from Twisted>=13.1.0->scrapy) (4.6.0)\n",
      "Requirement already satisfied: cffi!=1.11.3,>=1.8 in /Users/davidchiu/.pyenv/versions/3.6.2/lib/python3.6/site-packages (from cryptography>=2.3->pyOpenSSL->scrapy) (1.12.2)\n",
      "Requirement already satisfied: asn1crypto>=0.21.0 in /Users/davidchiu/.pyenv/versions/3.6.2/lib/python3.6/site-packages (from cryptography>=2.3->pyOpenSSL->scrapy) (0.24.0)\n",
      "Requirement already satisfied: idna>=2.5 in /Users/davidchiu/.pyenv/versions/3.6.2/lib/python3.6/site-packages (from hyperlink>=17.1.1->Twisted>=13.1.0->scrapy) (2.8)\n",
      "Requirement already satisfied: setuptools in /Users/davidchiu/.pyenv/versions/3.6.2/lib/python3.6/site-packages (from PyHamcrest>=1.9.0->Twisted>=13.1.0->scrapy) (41.6.0)\n",
      "Requirement already satisfied: pycparser in /Users/davidchiu/.pyenv/versions/3.6.2/lib/python3.6/site-packages (from cffi!=1.11.3,>=1.8->cryptography>=2.3->pyOpenSSL->scrapy) (2.19)\n"
     ]
    }
   ],
   "source": [
    "! pip install scrapy"
   ]
  },
  {
   "cell_type": "markdown",
   "metadata": {},
   "source": [
    "## 創建新專案"
   ]
  },
  {
   "cell_type": "code",
   "execution_count": 3,
   "metadata": {},
   "outputs": [
    {
     "name": "stdout",
     "output_type": "stream",
     "text": [
      ":0: UserWarning: You do not have a working installation of the service_identity module: 'cannot import name 'verify_ip_address''.  Please install it from <https://pypi.python.org/pypi/service_identity> and make sure all of its dependencies are satisfied.  Without the service_identity module, Twisted can perform only rudimentary TLS client hostname verification.  Many valid certificate/hostname mappings may be rejected.\n",
      "New Scrapy project 'tutorial', using template directory '/Users/davidchiu/.pyenv/versions/3.6.2/lib/python3.6/site-packages/scrapy/templates/project', created in:\n",
      "    /Users/davidchiu/course/taipeifubon/tutorial\n",
      "\n",
      "You can start your first spider with:\n",
      "    cd tutorial\n",
      "    scrapy genspider example example.com\n"
     ]
    }
   ],
   "source": [
    "! scrapy startproject tutorial"
   ]
  },
  {
   "cell_type": "code",
   "execution_count": 4,
   "metadata": {},
   "outputs": [
    {
     "name": "stdout",
     "output_type": "stream",
     "text": [
      "\u001b[01;34mtutorial\u001b[00m\r\n",
      "├── scrapy.cfg\r\n",
      "└── \u001b[01;34mtutorial\u001b[00m\r\n",
      "    ├── __init__.py\r\n",
      "    ├── \u001b[01;34m__pycache__\u001b[00m\r\n",
      "    ├── items.py\r\n",
      "    ├── middlewares.py\r\n",
      "    ├── pipelines.py\r\n",
      "    ├── settings.py\r\n",
      "    └── \u001b[01;34mspiders\u001b[00m\r\n",
      "        ├── __init__.py\r\n",
      "        └── \u001b[01;34m__pycache__\u001b[00m\r\n",
      "\r\n",
      "4 directories, 7 files\r\n"
     ]
    }
   ],
   "source": [
    "! tree tutorial"
   ]
  },
  {
   "cell_type": "code",
   "execution_count": 5,
   "metadata": {},
   "outputs": [
    {
     "name": "stdout",
     "output_type": "stream",
     "text": [
      "/Users/davidchiu/course/taipeifubon\r\n"
     ]
    }
   ],
   "source": [
    "! pwd\n",
    "# cd"
   ]
  },
  {
   "cell_type": "markdown",
   "metadata": {},
   "source": [
    "## 執行Scrapy 爬蟲"
   ]
  },
  {
   "cell_type": "code",
   "execution_count": 15,
   "metadata": {},
   "outputs": [],
   "source": [
    "#! cd tutorial/; scrapy crawl money"
   ]
  },
  {
   "cell_type": "code",
   "execution_count": 32,
   "metadata": {},
   "outputs": [],
   "source": [
    "# ! cd tutorial/; scrapy crawl money -t json -o money.json"
   ]
  },
  {
   "cell_type": "code",
   "execution_count": 20,
   "metadata": {},
   "outputs": [],
   "source": [
    "#! cd tutorial/; head money.json"
   ]
  },
  {
   "cell_type": "code",
   "execution_count": 24,
   "metadata": {},
   "outputs": [
    {
     "data": {
      "text/html": [
       "<div>\n",
       "<style scoped>\n",
       "    .dataframe tbody tr th:only-of-type {\n",
       "        vertical-align: middle;\n",
       "    }\n",
       "\n",
       "    .dataframe tbody tr th {\n",
       "        vertical-align: top;\n",
       "    }\n",
       "\n",
       "    .dataframe thead th {\n",
       "        text-align: right;\n",
       "    }\n",
       "</style>\n",
       "<table border=\"1\" class=\"dataframe\">\n",
       "  <thead>\n",
       "    <tr style=\"text-align: right;\">\n",
       "      <th></th>\n",
       "      <th>category</th>\n",
       "      <th>content</th>\n",
       "      <th>dt</th>\n",
       "      <th>title</th>\n",
       "      <th>url</th>\n",
       "    </tr>\n",
       "  </thead>\n",
       "  <tbody>\n",
       "    <tr>\n",
       "      <th>0</th>\n",
       "      <td>產業</td>\n",
       "      <td>盛弘醫藥（8403）集團關係企業、桃竹苗地區最大區域教學醫院敏盛綜合醫院，日前決策會議決議，...</td>\n",
       "      <td>2020-03-24 15:30:00</td>\n",
       "      <td>鼓舞前線士氣 敏盛發百萬防疫獎金、盛弘再加碼</td>\n",
       "      <td>https://money.udn.com/money/story/5612/4439760</td>\n",
       "    </tr>\n",
       "    <tr>\n",
       "      <th>1</th>\n",
       "      <td>房產</td>\n",
       "      <td>新冠肺炎疫情蔓延 「異地辦公」將成趨勢，雲朗觀光集團包括旗下各大酒店，如君品酒店、翰品酒店、...</td>\n",
       "      <td>2020-03-24 15:18:00</td>\n",
       "      <td>雲朗搶「疫」外之財 攻企業「異地辦公」租賃方案</td>\n",
       "      <td>https://money.udn.com/money/story/5930/4439714</td>\n",
       "    </tr>\n",
       "    <tr>\n",
       "      <th>2</th>\n",
       "      <td>產業</td>\n",
       "      <td>康健人壽今（24）日表示，將於2020年招募600名電銷人員，歡迎二度就業的婦女或新手媽媽踴...</td>\n",
       "      <td>2020-03-24 15:16:00</td>\n",
       "      <td>康健人壽招600名電銷人員 向二度就業婦女招手</td>\n",
       "      <td>https://money.udn.com/money/story/5648/4439710</td>\n",
       "    </tr>\n",
       "    <tr>\n",
       "      <th>3</th>\n",
       "      <td>產業</td>\n",
       "      <td>第20屆光寶創新獎即日起展開徵件，光寶創新獎今年再度攜手全球領導企業默克(Merck)、英飛...</td>\n",
       "      <td>2020-03-24 15:17:00</td>\n",
       "      <td>光寶創新獎 徵求智慧家居、醫院與城市好創意</td>\n",
       "      <td>https://money.udn.com/money/story/5612/4439711</td>\n",
       "    </tr>\n",
       "    <tr>\n",
       "      <th>4</th>\n",
       "      <td>房產</td>\n",
       "      <td>東森集團得標的林口國際媒體園區B基地案，今天與新北市政府完成簽約，東森集團表示，將打造樓高1...</td>\n",
       "      <td>2020-03-24 15:12:00</td>\n",
       "      <td>東森簽約媒體園區案 打造林口新地標</td>\n",
       "      <td>https://money.udn.com/money/story/5621/4439701</td>\n",
       "    </tr>\n",
       "  </tbody>\n",
       "</table>\n",
       "</div>"
      ],
      "text/plain": [
       "  category                                            content  \\\n",
       "0       產業  盛弘醫藥（8403）集團關係企業、桃竹苗地區最大區域教學醫院敏盛綜合醫院，日前決策會議決議，...   \n",
       "1       房產  新冠肺炎疫情蔓延 「異地辦公」將成趨勢，雲朗觀光集團包括旗下各大酒店，如君品酒店、翰品酒店、...   \n",
       "2       產業  康健人壽今（24）日表示，將於2020年招募600名電銷人員，歡迎二度就業的婦女或新手媽媽踴...   \n",
       "3       產業  第20屆光寶創新獎即日起展開徵件，光寶創新獎今年再度攜手全球領導企業默克(Merck)、英飛...   \n",
       "4       房產  東森集團得標的林口國際媒體園區B基地案，今天與新北市政府完成簽約，東森集團表示，將打造樓高1...   \n",
       "\n",
       "                    dt                    title  \\\n",
       "0  2020-03-24 15:30:00   鼓舞前線士氣 敏盛發百萬防疫獎金、盛弘再加碼   \n",
       "1  2020-03-24 15:18:00  雲朗搶「疫」外之財 攻企業「異地辦公」租賃方案   \n",
       "2  2020-03-24 15:16:00  康健人壽招600名電銷人員 向二度就業婦女招手   \n",
       "3  2020-03-24 15:17:00    光寶創新獎 徵求智慧家居、醫院與城市好創意   \n",
       "4  2020-03-24 15:12:00        東森簽約媒體園區案 打造林口新地標   \n",
       "\n",
       "                                              url  \n",
       "0  https://money.udn.com/money/story/5612/4439760  \n",
       "1  https://money.udn.com/money/story/5930/4439714  \n",
       "2  https://money.udn.com/money/story/5648/4439710  \n",
       "3  https://money.udn.com/money/story/5612/4439711  \n",
       "4  https://money.udn.com/money/story/5621/4439701  "
      ]
     },
     "execution_count": 24,
     "metadata": {},
     "output_type": "execute_result"
    }
   ],
   "source": [
    "import pandas\n",
    "pandas.read_json('tutorial/money.json').head()"
   ]
  },
  {
   "cell_type": "code",
   "execution_count": 30,
   "metadata": {},
   "outputs": [],
   "source": [
    "import sqlite3 as lite\n",
    "with lite.connect('tutorial/news.sqlite') as db:\n",
    "    df2 = pandas.read_sql_query('select * from money', con = db)"
   ]
  },
  {
   "cell_type": "code",
   "execution_count": 31,
   "metadata": {},
   "outputs": [
    {
     "data": {
      "text/html": [
       "<div>\n",
       "<style scoped>\n",
       "    .dataframe tbody tr th:only-of-type {\n",
       "        vertical-align: middle;\n",
       "    }\n",
       "\n",
       "    .dataframe tbody tr th {\n",
       "        vertical-align: top;\n",
       "    }\n",
       "\n",
       "    .dataframe thead th {\n",
       "        text-align: right;\n",
       "    }\n",
       "</style>\n",
       "<table border=\"1\" class=\"dataframe\">\n",
       "  <thead>\n",
       "    <tr style=\"text-align: right;\">\n",
       "      <th></th>\n",
       "      <th>title</th>\n",
       "      <th>content</th>\n",
       "      <th>category</th>\n",
       "      <th>url</th>\n",
       "      <th>dt</th>\n",
       "    </tr>\n",
       "  </thead>\n",
       "  <tbody>\n",
       "    <tr>\n",
       "      <th>0</th>\n",
       "      <td>中國將派病毒專家赴馬來西亞 協助抗疫</td>\n",
       "      <td>馬來西亞外交部長希山慕丁今天宣布，與中國政府取得共識，中國政府將安排武漢肺炎病毒專家醫生到馬...</td>\n",
       "      <td>國際</td>\n",
       "      <td>https://money.udn.com/money/story/5599/4439802</td>\n",
       "      <td>2020-03-24 15:45:00</td>\n",
       "    </tr>\n",
       "    <tr>\n",
       "      <th>1</th>\n",
       "      <td>聯準會無限量QE恐短多長空 學者憂3大後遺症</td>\n",
       "      <td>美國聯準會再出殺招，宣布無限量QE，固然展現救市決心，但也讓學者憂心短多長空，待疫情落幕後，...</td>\n",
       "      <td>理財</td>\n",
       "      <td>https://money.udn.com/money/story/5618/4439726</td>\n",
       "      <td>2020-03-24 15:22:00</td>\n",
       "    </tr>\n",
       "    <tr>\n",
       "      <th>2</th>\n",
       "      <td>因應武漢肺炎衝擊 韓國紓困金提高至100兆韓元</td>\n",
       "      <td>為緩解2019年冠狀病毒疾病（COVID-19，武漢肺炎）疫情對經濟衝擊，韓國總統文在寅今天...</td>\n",
       "      <td>國際</td>\n",
       "      <td>https://money.udn.com/money/story/5599/4439729</td>\n",
       "      <td>2020-03-24 15:22:00</td>\n",
       "    </tr>\n",
       "    <tr>\n",
       "      <th>3</th>\n",
       "      <td>永豐銀啟動第二階段防疫計畫 攜手台灣微軟共同抗疫</td>\n",
       "      <td>台灣近期傳出從事金融業的人員確診新冠肺炎，迫使金融業加速發展遠端工作，讓營運不中斷。永豐銀以...</td>\n",
       "      <td>金融</td>\n",
       "      <td>https://money.udn.com/money/story/5613/4439718</td>\n",
       "      <td>2020-03-24 15:20:00</td>\n",
       "    </tr>\n",
       "    <tr>\n",
       "      <th>4</th>\n",
       "      <td>防疫中還趴趴走？資策會區塊鏈技術協助居家檢疫隔離</td>\n",
       "      <td>隨著新冠肺炎（COVID-19）疫情升溫，需要居家檢疫或居家隔離的民眾已超過萬人，但對這些民...</td>\n",
       "      <td>產業</td>\n",
       "      <td>https://money.udn.com/money/story/5612/4439716</td>\n",
       "      <td>2020-03-24 15:19:00</td>\n",
       "    </tr>\n",
       "  </tbody>\n",
       "</table>\n",
       "</div>"
      ],
      "text/plain": [
       "                      title  \\\n",
       "0        中國將派病毒專家赴馬來西亞 協助抗疫   \n",
       "1    聯準會無限量QE恐短多長空 學者憂3大後遺症   \n",
       "2   因應武漢肺炎衝擊 韓國紓困金提高至100兆韓元   \n",
       "3  永豐銀啟動第二階段防疫計畫 攜手台灣微軟共同抗疫   \n",
       "4  防疫中還趴趴走？資策會區塊鏈技術協助居家檢疫隔離   \n",
       "\n",
       "                                             content category  \\\n",
       "0  馬來西亞外交部長希山慕丁今天宣布，與中國政府取得共識，中國政府將安排武漢肺炎病毒專家醫生到馬...       國際   \n",
       "1  美國聯準會再出殺招，宣布無限量QE，固然展現救市決心，但也讓學者憂心短多長空，待疫情落幕後，...       理財   \n",
       "2  為緩解2019年冠狀病毒疾病（COVID-19，武漢肺炎）疫情對經濟衝擊，韓國總統文在寅今天...       國際   \n",
       "3  台灣近期傳出從事金融業的人員確診新冠肺炎，迫使金融業加速發展遠端工作，讓營運不中斷。永豐銀以...       金融   \n",
       "4  隨著新冠肺炎（COVID-19）疫情升溫，需要居家檢疫或居家隔離的民眾已超過萬人，但對這些民...       產業   \n",
       "\n",
       "                                              url                   dt  \n",
       "0  https://money.udn.com/money/story/5599/4439802  2020-03-24 15:45:00  \n",
       "1  https://money.udn.com/money/story/5618/4439726  2020-03-24 15:22:00  \n",
       "2  https://money.udn.com/money/story/5599/4439729  2020-03-24 15:22:00  \n",
       "3  https://money.udn.com/money/story/5613/4439718  2020-03-24 15:20:00  \n",
       "4  https://money.udn.com/money/story/5612/4439716  2020-03-24 15:19:00  "
      ]
     },
     "execution_count": 31,
     "metadata": {},
     "output_type": "execute_result"
    }
   ],
   "source": [
    "df2.head()"
   ]
  },
  {
   "cell_type": "code",
   "execution_count": 36,
   "metadata": {},
   "outputs": [],
   "source": [
    "#! cd tutorial/; scrapy crawl money -s JOBDIR=job1"
   ]
  },
  {
   "cell_type": "markdown",
   "metadata": {},
   "source": [
    "## 排程"
   ]
  },
  {
   "cell_type": "markdown",
   "metadata": {},
   "source": [
    "## linux, max\n",
    "- crontab -e\n",
    "\n",
    "'''\n",
    "\n",
    "    分鐘  小時   日期 月份  週  指令\n",
    "    0    3,6    *    *    *  command\n",
    "\n",
    "    每三點跟六點整時，執行test.py 這個檔案\n",
    "    0 3,6 * * * python test.py\n",
    "    \n",
    "'''"
   ]
  },
  {
   "cell_type": "markdown",
   "metadata": {},
   "source": [
    "## Windows\n",
    "- 工作排程器\n",
    "- https://www.youtube.com/watch?v=Wbk9hxntMjY"
   ]
  },
  {
   "cell_type": "markdown",
   "metadata": {},
   "source": [
    "## 安裝 scrapyd"
   ]
  },
  {
   "cell_type": "code",
   "execution_count": 37,
   "metadata": {},
   "outputs": [
    {
     "name": "stdout",
     "output_type": "stream",
     "text": [
      "Requirement already satisfied: scrapyd in /Users/davidchiu/.pyenv/versions/3.6.2/lib/python3.6/site-packages (1.2.1)\n",
      "Requirement already satisfied: six in /Users/davidchiu/.pyenv/versions/3.6.2/lib/python3.6/site-packages (from scrapyd) (1.14.0)\n",
      "Requirement already satisfied: Scrapy>=1.0 in /Users/davidchiu/.pyenv/versions/3.6.2/lib/python3.6/site-packages (from scrapyd) (1.5.1)\n",
      "Requirement already satisfied: Twisted>=8.0 in /Users/davidchiu/.pyenv/versions/3.6.2/lib/python3.6/site-packages (from scrapyd) (19.2.0)\n",
      "Requirement already satisfied: lxml in /Users/davidchiu/.pyenv/versions/3.6.2/lib/python3.6/site-packages (from Scrapy>=1.0->scrapyd) (4.3.4)\n",
      "Requirement already satisfied: cssselect>=0.9 in /Users/davidchiu/.pyenv/versions/3.6.2/lib/python3.6/site-packages (from Scrapy>=1.0->scrapyd) (1.0.3)\n",
      "Requirement already satisfied: PyDispatcher>=2.0.5 in /Users/davidchiu/.pyenv/versions/3.6.2/lib/python3.6/site-packages (from Scrapy>=1.0->scrapyd) (2.0.5)\n",
      "Requirement already satisfied: pyOpenSSL in /Users/davidchiu/.pyenv/versions/3.6.2/lib/python3.6/site-packages (from Scrapy>=1.0->scrapyd) (19.0.0)\n",
      "Requirement already satisfied: queuelib in /Users/davidchiu/.pyenv/versions/3.6.2/lib/python3.6/site-packages (from Scrapy>=1.0->scrapyd) (1.5.0)\n",
      "Requirement already satisfied: w3lib>=1.17.0 in /Users/davidchiu/.pyenv/versions/3.6.2/lib/python3.6/site-packages (from Scrapy>=1.0->scrapyd) (1.19.0)\n",
      "Requirement already satisfied: service-identity in /Users/davidchiu/.pyenv/versions/3.6.2/lib/python3.6/site-packages (from Scrapy>=1.0->scrapyd) (17.0.0)\n",
      "Requirement already satisfied: parsel>=1.1 in /Users/davidchiu/.pyenv/versions/3.6.2/lib/python3.6/site-packages (from Scrapy>=1.0->scrapyd) (1.5.0)\n",
      "Requirement already satisfied: attrs>=17.4.0 in /Users/davidchiu/.pyenv/versions/3.6.2/lib/python3.6/site-packages (from Twisted>=8.0->scrapyd) (19.3.0)\n",
      "Requirement already satisfied: Automat>=0.3.0 in /Users/davidchiu/.pyenv/versions/3.6.2/lib/python3.6/site-packages (from Twisted>=8.0->scrapyd) (0.7.0)\n",
      "Requirement already satisfied: PyHamcrest>=1.9.0 in /Users/davidchiu/.pyenv/versions/3.6.2/lib/python3.6/site-packages (from Twisted>=8.0->scrapyd) (1.9.0)\n",
      "Requirement already satisfied: constantly>=15.1 in /Users/davidchiu/.pyenv/versions/3.6.2/lib/python3.6/site-packages (from Twisted>=8.0->scrapyd) (15.1.0)\n",
      "Requirement already satisfied: zope.interface>=4.4.2 in /Users/davidchiu/.pyenv/versions/3.6.2/lib/python3.6/site-packages (from Twisted>=8.0->scrapyd) (4.6.0)\n",
      "Requirement already satisfied: incremental>=16.10.1 in /Users/davidchiu/.pyenv/versions/3.6.2/lib/python3.6/site-packages (from Twisted>=8.0->scrapyd) (17.5.0)\n",
      "Requirement already satisfied: hyperlink>=17.1.1 in /Users/davidchiu/.pyenv/versions/3.6.2/lib/python3.6/site-packages (from Twisted>=8.0->scrapyd) (19.0.0)\n",
      "Requirement already satisfied: cryptography>=2.3 in /Users/davidchiu/.pyenv/versions/3.6.2/lib/python3.6/site-packages (from pyOpenSSL->Scrapy>=1.0->scrapyd) (2.6.1)\n",
      "Requirement already satisfied: pyasn1 in /Users/davidchiu/.pyenv/versions/3.6.2/lib/python3.6/site-packages (from service-identity->Scrapy>=1.0->scrapyd) (0.4.5)\n",
      "Requirement already satisfied: pyasn1-modules in /Users/davidchiu/.pyenv/versions/3.6.2/lib/python3.6/site-packages (from service-identity->Scrapy>=1.0->scrapyd) (0.2.4)\n",
      "Requirement already satisfied: setuptools in /Users/davidchiu/.pyenv/versions/3.6.2/lib/python3.6/site-packages (from PyHamcrest>=1.9.0->Twisted>=8.0->scrapyd) (41.6.0)\n",
      "Requirement already satisfied: idna>=2.5 in /Users/davidchiu/.pyenv/versions/3.6.2/lib/python3.6/site-packages (from hyperlink>=17.1.1->Twisted>=8.0->scrapyd) (2.8)\n",
      "Requirement already satisfied: cffi!=1.11.3,>=1.8 in /Users/davidchiu/.pyenv/versions/3.6.2/lib/python3.6/site-packages (from cryptography>=2.3->pyOpenSSL->Scrapy>=1.0->scrapyd) (1.12.2)\n",
      "Requirement already satisfied: asn1crypto>=0.21.0 in /Users/davidchiu/.pyenv/versions/3.6.2/lib/python3.6/site-packages (from cryptography>=2.3->pyOpenSSL->Scrapy>=1.0->scrapyd) (0.24.0)\n",
      "Requirement already satisfied: pycparser in /Users/davidchiu/.pyenv/versions/3.6.2/lib/python3.6/site-packages (from cffi!=1.11.3,>=1.8->cryptography>=2.3->pyOpenSSL->Scrapy>=1.0->scrapyd) (2.19)\n"
     ]
    }
   ],
   "source": [
    "! pip install scrapyd"
   ]
  },
  {
   "cell_type": "markdown",
   "metadata": {},
   "source": [
    "## 執行 Scrapyd\n",
    "- ! scrapyd"
   ]
  },
  {
   "cell_type": "markdown",
   "metadata": {},
   "source": [
    "## 安裝 scrapyd client \n",
    "- scrapyd-client"
   ]
  },
  {
   "cell_type": "code",
   "execution_count": 38,
   "metadata": {},
   "outputs": [
    {
     "name": "stdout",
     "output_type": "stream",
     "text": [
      "Requirement already satisfied: scrapyd-client in /Users/davidchiu/.pyenv/versions/3.6.2/lib/python3.6/site-packages (1.1.0)\n",
      "Requirement already satisfied: Scrapy>=0.17 in /Users/davidchiu/.pyenv/versions/3.6.2/lib/python3.6/site-packages (from scrapyd-client) (1.5.1)\n",
      "Requirement already satisfied: six in /Users/davidchiu/.pyenv/versions/3.6.2/lib/python3.6/site-packages (from scrapyd-client) (1.14.0)\n",
      "Requirement already satisfied: service-identity in /Users/davidchiu/.pyenv/versions/3.6.2/lib/python3.6/site-packages (from Scrapy>=0.17->scrapyd-client) (17.0.0)\n",
      "Requirement already satisfied: pyOpenSSL in /Users/davidchiu/.pyenv/versions/3.6.2/lib/python3.6/site-packages (from Scrapy>=0.17->scrapyd-client) (19.0.0)\n",
      "Requirement already satisfied: cssselect>=0.9 in /Users/davidchiu/.pyenv/versions/3.6.2/lib/python3.6/site-packages (from Scrapy>=0.17->scrapyd-client) (1.0.3)\n",
      "Requirement already satisfied: lxml in /Users/davidchiu/.pyenv/versions/3.6.2/lib/python3.6/site-packages (from Scrapy>=0.17->scrapyd-client) (4.3.4)\n",
      "Requirement already satisfied: PyDispatcher>=2.0.5 in /Users/davidchiu/.pyenv/versions/3.6.2/lib/python3.6/site-packages (from Scrapy>=0.17->scrapyd-client) (2.0.5)\n",
      "Requirement already satisfied: parsel>=1.1 in /Users/davidchiu/.pyenv/versions/3.6.2/lib/python3.6/site-packages (from Scrapy>=0.17->scrapyd-client) (1.5.0)\n",
      "Requirement already satisfied: w3lib>=1.17.0 in /Users/davidchiu/.pyenv/versions/3.6.2/lib/python3.6/site-packages (from Scrapy>=0.17->scrapyd-client) (1.19.0)\n",
      "Requirement already satisfied: Twisted>=13.1.0 in /Users/davidchiu/.pyenv/versions/3.6.2/lib/python3.6/site-packages (from Scrapy>=0.17->scrapyd-client) (19.2.0)\n",
      "Requirement already satisfied: queuelib in /Users/davidchiu/.pyenv/versions/3.6.2/lib/python3.6/site-packages (from Scrapy>=0.17->scrapyd-client) (1.5.0)\n",
      "Requirement already satisfied: pyasn1-modules in /Users/davidchiu/.pyenv/versions/3.6.2/lib/python3.6/site-packages (from service-identity->Scrapy>=0.17->scrapyd-client) (0.2.4)\n",
      "Requirement already satisfied: pyasn1 in /Users/davidchiu/.pyenv/versions/3.6.2/lib/python3.6/site-packages (from service-identity->Scrapy>=0.17->scrapyd-client) (0.4.5)\n",
      "Requirement already satisfied: attrs in /Users/davidchiu/.pyenv/versions/3.6.2/lib/python3.6/site-packages (from service-identity->Scrapy>=0.17->scrapyd-client) (19.3.0)\n",
      "Requirement already satisfied: cryptography>=2.3 in /Users/davidchiu/.pyenv/versions/3.6.2/lib/python3.6/site-packages (from pyOpenSSL->Scrapy>=0.17->scrapyd-client) (2.6.1)\n",
      "Requirement already satisfied: hyperlink>=17.1.1 in /Users/davidchiu/.pyenv/versions/3.6.2/lib/python3.6/site-packages (from Twisted>=13.1.0->Scrapy>=0.17->scrapyd-client) (19.0.0)\n",
      "Requirement already satisfied: zope.interface>=4.4.2 in /Users/davidchiu/.pyenv/versions/3.6.2/lib/python3.6/site-packages (from Twisted>=13.1.0->Scrapy>=0.17->scrapyd-client) (4.6.0)\n",
      "Requirement already satisfied: Automat>=0.3.0 in /Users/davidchiu/.pyenv/versions/3.6.2/lib/python3.6/site-packages (from Twisted>=13.1.0->Scrapy>=0.17->scrapyd-client) (0.7.0)\n",
      "Requirement already satisfied: incremental>=16.10.1 in /Users/davidchiu/.pyenv/versions/3.6.2/lib/python3.6/site-packages (from Twisted>=13.1.0->Scrapy>=0.17->scrapyd-client) (17.5.0)\n",
      "Requirement already satisfied: constantly>=15.1 in /Users/davidchiu/.pyenv/versions/3.6.2/lib/python3.6/site-packages (from Twisted>=13.1.0->Scrapy>=0.17->scrapyd-client) (15.1.0)\n",
      "Requirement already satisfied: PyHamcrest>=1.9.0 in /Users/davidchiu/.pyenv/versions/3.6.2/lib/python3.6/site-packages (from Twisted>=13.1.0->Scrapy>=0.17->scrapyd-client) (1.9.0)\n",
      "Requirement already satisfied: cffi!=1.11.3,>=1.8 in /Users/davidchiu/.pyenv/versions/3.6.2/lib/python3.6/site-packages (from cryptography>=2.3->pyOpenSSL->Scrapy>=0.17->scrapyd-client) (1.12.2)\n",
      "Requirement already satisfied: asn1crypto>=0.21.0 in /Users/davidchiu/.pyenv/versions/3.6.2/lib/python3.6/site-packages (from cryptography>=2.3->pyOpenSSL->Scrapy>=0.17->scrapyd-client) (0.24.0)\n",
      "Requirement already satisfied: idna>=2.5 in /Users/davidchiu/.pyenv/versions/3.6.2/lib/python3.6/site-packages (from hyperlink>=17.1.1->Twisted>=13.1.0->Scrapy>=0.17->scrapyd-client) (2.8)\n",
      "Requirement already satisfied: setuptools in /Users/davidchiu/.pyenv/versions/3.6.2/lib/python3.6/site-packages (from zope.interface>=4.4.2->Twisted>=13.1.0->Scrapy>=0.17->scrapyd-client) (41.6.0)\n",
      "Requirement already satisfied: pycparser in /Users/davidchiu/.pyenv/versions/3.6.2/lib/python3.6/site-packages (from cffi!=1.11.3,>=1.8->cryptography>=2.3->pyOpenSSL->Scrapy>=0.17->scrapyd-client) (2.19)\n"
     ]
    }
   ],
   "source": [
    "! pip install scrapyd-client"
   ]
  },
  {
   "cell_type": "markdown",
   "metadata": {},
   "source": [
    "## 修改 scrapy.cfg\n",
    "- ! cat tutorial/scrapy.cfg"
   ]
  },
  {
   "cell_type": "code",
   "execution_count": 65,
   "metadata": {},
   "outputs": [
    {
     "name": "stdout",
     "output_type": "stream",
     "text": [
      "# Automatically created by: scrapy startproject\r\n",
      "#\r\n",
      "# For more information about the [deploy] section see:\r\n",
      "# https://scrapyd.readthedocs.io/en/latest/deploy.html\r\n",
      "\r\n",
      "[settings]\r\n",
      "default = tutorial.settings\r\n",
      "\r\n",
      "[deploy:demo]\r\n",
      "url = http://localhost:6800/\r\n",
      "project = tutorial\r\n"
     ]
    }
   ],
   "source": [
    "! cat tutorial/scrapy.cfg"
   ]
  },
  {
   "cell_type": "markdown",
   "metadata": {},
   "source": [
    "## 瀏覽部署"
   ]
  },
  {
   "cell_type": "code",
   "execution_count": 39,
   "metadata": {},
   "outputs": [
    {
     "name": "stdout",
     "output_type": "stream",
     "text": [
      "demo                 http://localhost:6800/\r\n"
     ]
    }
   ],
   "source": [
    "! cd tutorial; scrapyd-deploy -l"
   ]
  },
  {
   "cell_type": "code",
   "execution_count": 71,
   "metadata": {},
   "outputs": [],
   "source": [
    "# python c:\\Anaconda3\\Scripts\\scrapyd-deploy -l "
   ]
  },
  {
   "cell_type": "markdown",
   "metadata": {},
   "source": [
    "## 部署專案"
   ]
  },
  {
   "cell_type": "code",
   "execution_count": 61,
   "metadata": {},
   "outputs": [
    {
     "name": "stdout",
     "output_type": "stream",
     "text": [
      "Packing version 1585040394\n",
      "Deploying to project \"tutorial\" in http://localhost:6800/addversion.json\n",
      "Server response (200):\n",
      "{\"node_name\": \"DaviddeMacBook-Pro.local\", \"status\": \"ok\", \"project\": \"tutorial\", \"version\": \"1585040394\", \"spiders\": 1}\n",
      "\n"
     ]
    }
   ],
   "source": [
    "! cd tutorial;  scrapyd-deploy demo -p tutorial"
   ]
  },
  {
   "cell_type": "markdown",
   "metadata": {},
   "source": [
    "## 啟用爬蟲"
   ]
  },
  {
   "cell_type": "code",
   "execution_count": 62,
   "metadata": {},
   "outputs": [
    {
     "name": "stdout",
     "output_type": "stream",
     "text": [
      "{\"node_name\": \"DaviddeMacBook-Pro.local\", \"status\": \"ok\", \"jobid\": \"d7a9ec1c6dad11ea93fc6c40088eacee\"}\r\n"
     ]
    }
   ],
   "source": [
    "! curl http://localhost:6800/schedule.json -d project=tutorial -d spider=money"
   ]
  },
  {
   "cell_type": "code",
   "execution_count": 63,
   "metadata": {},
   "outputs": [],
   "source": [
    "import sqlite3 as lite\n",
    "with lite.connect('tutorial/news.sqlite') as db:\n",
    "    df2 = pandas.read_sql_query('select * from money', con = db)"
   ]
  },
  {
   "cell_type": "code",
   "execution_count": 66,
   "metadata": {},
   "outputs": [
    {
     "data": {
      "text/html": [
       "<div>\n",
       "<style scoped>\n",
       "    .dataframe tbody tr th:only-of-type {\n",
       "        vertical-align: middle;\n",
       "    }\n",
       "\n",
       "    .dataframe tbody tr th {\n",
       "        vertical-align: top;\n",
       "    }\n",
       "\n",
       "    .dataframe thead th {\n",
       "        text-align: right;\n",
       "    }\n",
       "</style>\n",
       "<table border=\"1\" class=\"dataframe\">\n",
       "  <thead>\n",
       "    <tr style=\"text-align: right;\">\n",
       "      <th></th>\n",
       "      <th>title</th>\n",
       "      <th>contents</th>\n",
       "      <th>category</th>\n",
       "      <th>url</th>\n",
       "      <th>dt</th>\n",
       "    </tr>\n",
       "  </thead>\n",
       "  <tbody>\n",
       "    <tr>\n",
       "      <th>0</th>\n",
       "      <td>6名偷渡客落跑 查緝單位：海巡非專業收容單位較無經驗</td>\n",
       "      <td>海巡署本月21日查獲31名越南偷渡客，因南部收容場所不足，偷渡客22日帶到海巡署中部分署的中...</td>\n",
       "      <td>產業</td>\n",
       "      <td>https://money.udn.com/money/story/5658/4439957</td>\n",
       "      <td>2020-03-24 16:43:00</td>\n",
       "    </tr>\n",
       "    <tr>\n",
       "      <th>1</th>\n",
       "      <td>武漢肺炎防疫  東海大學謝絕訪客入校</td>\n",
       "      <td>武漢肺炎疫情延燒，東海大學考量校園師生安全，即日起校園謝絕訪客入校，洽公民眾請事先與相關單位...</td>\n",
       "      <td>產業</td>\n",
       "      <td>https://money.udn.com/money/story/7307/4439974</td>\n",
       "      <td>2020-03-24 16:36:00</td>\n",
       "    </tr>\n",
       "    <tr>\n",
       "      <th>2</th>\n",
       "      <td>清大26名學生被列居家隔離 啟動20門課線上遠距教學</td>\n",
       "      <td>國立清華大學今（24）日宣布，因為有26名學生跟新冠肺炎確診者密切接觸，被列為居家隔離，即日...</td>\n",
       "      <td>產業</td>\n",
       "      <td>https://money.udn.com/money/story/5612/4439975</td>\n",
       "      <td>2020-03-24 16:36:00</td>\n",
       "    </tr>\n",
       "  </tbody>\n",
       "</table>\n",
       "</div>"
      ],
      "text/plain": [
       "                        title  \\\n",
       "0  6名偷渡客落跑 查緝單位：海巡非專業收容單位較無經驗   \n",
       "1          武漢肺炎防疫  東海大學謝絕訪客入校   \n",
       "2  清大26名學生被列居家隔離 啟動20門課線上遠距教學   \n",
       "\n",
       "                                            contents category  \\\n",
       "0  海巡署本月21日查獲31名越南偷渡客，因南部收容場所不足，偷渡客22日帶到海巡署中部分署的中...       產業   \n",
       "1  武漢肺炎疫情延燒，東海大學考量校園師生安全，即日起校園謝絕訪客入校，洽公民眾請事先與相關單位...       產業   \n",
       "2  國立清華大學今（24）日宣布，因為有26名學生跟新冠肺炎確診者密切接觸，被列為居家隔離，即日...       產業   \n",
       "\n",
       "                                              url                   dt  \n",
       "0  https://money.udn.com/money/story/5658/4439957  2020-03-24 16:43:00  \n",
       "1  https://money.udn.com/money/story/7307/4439974  2020-03-24 16:36:00  \n",
       "2  https://money.udn.com/money/story/5612/4439975  2020-03-24 16:36:00  "
      ]
     },
     "execution_count": 66,
     "metadata": {},
     "output_type": "execute_result"
    }
   ],
   "source": [
    "df2.head(3)"
   ]
  },
  {
   "cell_type": "code",
   "execution_count": 70,
   "metadata": {},
   "outputs": [
    {
     "name": "stdout",
     "output_type": "stream",
     "text": [
      " * Serving Flask app \"__main__\" (lazy loading)\n",
      " * Environment: production\n",
      "   WARNING: This is a development server. Do not use it in a production deployment.\n",
      "   Use a production WSGI server instead.\n",
      " * Debug mode: off\n"
     ]
    },
    {
     "name": "stderr",
     "output_type": "stream",
     "text": [
      " * Running on http://127.0.0.1:5000/ (Press CTRL+C to quit)\n",
      "127.0.0.1 - - [24/Mar/2020 17:20:45] \"\u001b[37mGET /85 HTTP/1.1\u001b[0m\" 200 -\n",
      "[2020-03-24 17:20:45,668] ERROR in app: Exception on /favicon.ico [GET]\n",
      "Traceback (most recent call last):\n",
      "  File \"/Users/davidchiu/.pyenv/versions/3.6.2/lib/python3.6/site-packages/flask/app.py\", line 2446, in wsgi_app\n",
      "    response = self.full_dispatch_request()\n",
      "  File \"/Users/davidchiu/.pyenv/versions/3.6.2/lib/python3.6/site-packages/flask/app.py\", line 1951, in full_dispatch_request\n",
      "    rv = self.handle_user_exception(e)\n",
      "  File \"/Users/davidchiu/.pyenv/versions/3.6.2/lib/python3.6/site-packages/flask/app.py\", line 1820, in handle_user_exception\n",
      "    reraise(exc_type, exc_value, tb)\n",
      "  File \"/Users/davidchiu/.pyenv/versions/3.6.2/lib/python3.6/site-packages/flask/_compat.py\", line 39, in reraise\n",
      "    raise value\n",
      "  File \"/Users/davidchiu/.pyenv/versions/3.6.2/lib/python3.6/site-packages/flask/app.py\", line 1949, in full_dispatch_request\n",
      "    rv = self.dispatch_request()\n",
      "  File \"/Users/davidchiu/.pyenv/versions/3.6.2/lib/python3.6/site-packages/flask/app.py\", line 1935, in dispatch_request\n",
      "    return self.view_functions[rule.endpoint](**req.view_args)\n",
      "  File \"<ipython-input-70-061e9688cac2>\", line 7, in getTemp\n",
      "    return jsonify({'temp':(int(temp) - 32) * 5 /9})\n",
      "ValueError: invalid literal for int() with base 10: 'favicon.ico'\n",
      "127.0.0.1 - - [24/Mar/2020 17:20:45] \"\u001b[1m\u001b[35mGET /favicon.ico HTTP/1.1\u001b[0m\" 500 -\n"
     ]
    }
   ],
   "source": [
    "from flask import Flask,jsonify\n",
    "from sklearn.externals import joblib\n",
    "app=Flask(__name__)\n",
    "\n",
    "@app.route(\"/<temp>\")\n",
    "def getTemp(temp):\n",
    "    return jsonify({'temp':(int(temp) - 32) * 5 /9})\n",
    "\n",
    "if __name__==\"__main__\":\n",
    "\tapp.run()"
   ]
  },
  {
   "cell_type": "code",
   "execution_count": null,
   "metadata": {},
   "outputs": [],
   "source": []
  }
 ],
 "metadata": {
  "kernelspec": {
   "display_name": "Python 3",
   "language": "python",
   "name": "python3"
  },
  "language_info": {
   "codemirror_mode": {
    "name": "ipython",
    "version": 3
   },
   "file_extension": ".py",
   "mimetype": "text/x-python",
   "name": "python",
   "nbconvert_exporter": "python",
   "pygments_lexer": "ipython3",
   "version": "3.6.2"
  }
 },
 "nbformat": 4,
 "nbformat_minor": 2
}
