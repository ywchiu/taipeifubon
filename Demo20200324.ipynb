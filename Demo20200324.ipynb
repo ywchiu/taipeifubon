{
 "cells": [
  {
   "cell_type": "markdown",
   "metadata": {},
   "source": [
    "## 安裝Scrapy"
   ]
  },
  {
   "cell_type": "code",
   "execution_count": 1,
   "metadata": {},
   "outputs": [
    {
     "name": "stdout",
     "output_type": "stream",
     "text": [
      "Requirement already satisfied: scrapy in /Users/davidchiu/.pyenv/versions/3.6.2/lib/python3.6/site-packages (1.5.1)\n",
      "Requirement already satisfied: w3lib>=1.17.0 in /Users/davidchiu/.pyenv/versions/3.6.2/lib/python3.6/site-packages (from scrapy) (1.19.0)\n",
      "Requirement already satisfied: parsel>=1.1 in /Users/davidchiu/.pyenv/versions/3.6.2/lib/python3.6/site-packages (from scrapy) (1.5.0)\n",
      "Requirement already satisfied: pyOpenSSL in /Users/davidchiu/.pyenv/versions/3.6.2/lib/python3.6/site-packages (from scrapy) (19.0.0)\n",
      "Requirement already satisfied: PyDispatcher>=2.0.5 in /Users/davidchiu/.pyenv/versions/3.6.2/lib/python3.6/site-packages (from scrapy) (2.0.5)\n",
      "Requirement already satisfied: queuelib in /Users/davidchiu/.pyenv/versions/3.6.2/lib/python3.6/site-packages (from scrapy) (1.5.0)\n",
      "Requirement already satisfied: cssselect>=0.9 in /Users/davidchiu/.pyenv/versions/3.6.2/lib/python3.6/site-packages (from scrapy) (1.0.3)\n",
      "Requirement already satisfied: service-identity in /Users/davidchiu/.pyenv/versions/3.6.2/lib/python3.6/site-packages (from scrapy) (17.0.0)\n",
      "Requirement already satisfied: six>=1.5.2 in /Users/davidchiu/.pyenv/versions/3.6.2/lib/python3.6/site-packages (from scrapy) (1.14.0)\n",
      "Requirement already satisfied: Twisted>=13.1.0 in /Users/davidchiu/.pyenv/versions/3.6.2/lib/python3.6/site-packages (from scrapy) (19.2.0)\n",
      "Requirement already satisfied: lxml in /Users/davidchiu/.pyenv/versions/3.6.2/lib/python3.6/site-packages (from scrapy) (4.3.4)\n",
      "Requirement already satisfied: cryptography>=2.3 in /Users/davidchiu/.pyenv/versions/3.6.2/lib/python3.6/site-packages (from pyOpenSSL->scrapy) (2.6.1)\n",
      "Requirement already satisfied: attrs in /Users/davidchiu/.pyenv/versions/3.6.2/lib/python3.6/site-packages (from service-identity->scrapy) (19.3.0)\n",
      "Requirement already satisfied: pyasn1 in /Users/davidchiu/.pyenv/versions/3.6.2/lib/python3.6/site-packages (from service-identity->scrapy) (0.4.5)\n",
      "Requirement already satisfied: pyasn1-modules in /Users/davidchiu/.pyenv/versions/3.6.2/lib/python3.6/site-packages (from service-identity->scrapy) (0.2.4)\n",
      "Requirement already satisfied: constantly>=15.1 in /Users/davidchiu/.pyenv/versions/3.6.2/lib/python3.6/site-packages (from Twisted>=13.1.0->scrapy) (15.1.0)\n",
      "Requirement already satisfied: Automat>=0.3.0 in /Users/davidchiu/.pyenv/versions/3.6.2/lib/python3.6/site-packages (from Twisted>=13.1.0->scrapy) (0.7.0)\n",
      "Requirement already satisfied: incremental>=16.10.1 in /Users/davidchiu/.pyenv/versions/3.6.2/lib/python3.6/site-packages (from Twisted>=13.1.0->scrapy) (17.5.0)\n",
      "Requirement already satisfied: hyperlink>=17.1.1 in /Users/davidchiu/.pyenv/versions/3.6.2/lib/python3.6/site-packages (from Twisted>=13.1.0->scrapy) (19.0.0)\n",
      "Requirement already satisfied: PyHamcrest>=1.9.0 in /Users/davidchiu/.pyenv/versions/3.6.2/lib/python3.6/site-packages (from Twisted>=13.1.0->scrapy) (1.9.0)\n",
      "Requirement already satisfied: zope.interface>=4.4.2 in /Users/davidchiu/.pyenv/versions/3.6.2/lib/python3.6/site-packages (from Twisted>=13.1.0->scrapy) (4.6.0)\n",
      "Requirement already satisfied: cffi!=1.11.3,>=1.8 in /Users/davidchiu/.pyenv/versions/3.6.2/lib/python3.6/site-packages (from cryptography>=2.3->pyOpenSSL->scrapy) (1.12.2)\n",
      "Requirement already satisfied: asn1crypto>=0.21.0 in /Users/davidchiu/.pyenv/versions/3.6.2/lib/python3.6/site-packages (from cryptography>=2.3->pyOpenSSL->scrapy) (0.24.0)\n",
      "Requirement already satisfied: idna>=2.5 in /Users/davidchiu/.pyenv/versions/3.6.2/lib/python3.6/site-packages (from hyperlink>=17.1.1->Twisted>=13.1.0->scrapy) (2.8)\n",
      "Requirement already satisfied: setuptools in /Users/davidchiu/.pyenv/versions/3.6.2/lib/python3.6/site-packages (from PyHamcrest>=1.9.0->Twisted>=13.1.0->scrapy) (41.6.0)\n",
      "Requirement already satisfied: pycparser in /Users/davidchiu/.pyenv/versions/3.6.2/lib/python3.6/site-packages (from cffi!=1.11.3,>=1.8->cryptography>=2.3->pyOpenSSL->scrapy) (2.19)\n"
     ]
    }
   ],
   "source": [
    "! pip install scrapy"
   ]
  },
  {
   "cell_type": "markdown",
   "metadata": {},
   "source": [
    "## 創建新專案"
   ]
  },
  {
   "cell_type": "code",
   "execution_count": 3,
   "metadata": {},
   "outputs": [
    {
     "name": "stdout",
     "output_type": "stream",
     "text": [
      ":0: UserWarning: You do not have a working installation of the service_identity module: 'cannot import name 'verify_ip_address''.  Please install it from <https://pypi.python.org/pypi/service_identity> and make sure all of its dependencies are satisfied.  Without the service_identity module, Twisted can perform only rudimentary TLS client hostname verification.  Many valid certificate/hostname mappings may be rejected.\n",
      "New Scrapy project 'tutorial', using template directory '/Users/davidchiu/.pyenv/versions/3.6.2/lib/python3.6/site-packages/scrapy/templates/project', created in:\n",
      "    /Users/davidchiu/course/taipeifubon/tutorial\n",
      "\n",
      "You can start your first spider with:\n",
      "    cd tutorial\n",
      "    scrapy genspider example example.com\n"
     ]
    }
   ],
   "source": [
    "! scrapy startproject tutorial"
   ]
  },
  {
   "cell_type": "code",
   "execution_count": 4,
   "metadata": {},
   "outputs": [
    {
     "name": "stdout",
     "output_type": "stream",
     "text": [
      "\u001b[01;34mtutorial\u001b[00m\r\n",
      "├── scrapy.cfg\r\n",
      "└── \u001b[01;34mtutorial\u001b[00m\r\n",
      "    ├── __init__.py\r\n",
      "    ├── \u001b[01;34m__pycache__\u001b[00m\r\n",
      "    ├── items.py\r\n",
      "    ├── middlewares.py\r\n",
      "    ├── pipelines.py\r\n",
      "    ├── settings.py\r\n",
      "    └── \u001b[01;34mspiders\u001b[00m\r\n",
      "        ├── __init__.py\r\n",
      "        └── \u001b[01;34m__pycache__\u001b[00m\r\n",
      "\r\n",
      "4 directories, 7 files\r\n"
     ]
    }
   ],
   "source": [
    "! tree tutorial"
   ]
  },
  {
   "cell_type": "code",
   "execution_count": 5,
   "metadata": {},
   "outputs": [
    {
     "name": "stdout",
     "output_type": "stream",
     "text": [
      "/Users/davidchiu/course/taipeifubon\r\n"
     ]
    }
   ],
   "source": [
    "! pwd"
   ]
  },
  {
   "cell_type": "markdown",
   "metadata": {},
   "source": [
    "## 執行Scrapy 爬蟲"
   ]
  },
  {
   "cell_type": "code",
   "execution_count": 8,
   "metadata": {},
   "outputs": [
    {
     "name": "stdout",
     "output_type": "stream",
     "text": [
      ":0: UserWarning: You do not have a working installation of the service_identity module: 'cannot import name 'verify_ip_address''.  Please install it from <https://pypi.python.org/pypi/service_identity> and make sure all of its dependencies are satisfied.  Without the service_identity module, Twisted can perform only rudimentary TLS client hostname verification.  Many valid certificate/hostname mappings may be rejected.\n",
      "2020-03-24 14:13:13 [scrapy.utils.log] INFO: Scrapy 1.5.1 started (bot: tutorial)\n",
      "2020-03-24 14:13:13 [scrapy.utils.log] INFO: Versions: lxml 4.3.4.0, libxml2 2.9.9, cssselect 1.0.3, parsel 1.5.0, w3lib 1.19.0, Twisted 19.2.0, Python 3.6.2 (default, Dec 16 2017, 15:09:32) - [GCC 4.2.1 Compatible Apple LLVM 8.0.0 (clang-800.0.42.1)], pyOpenSSL 19.0.0 (OpenSSL 1.1.1b  26 Feb 2019), cryptography 2.6.1, Platform Darwin-18.7.0-x86_64-i386-64bit\n",
      "2020-03-24 14:13:13 [scrapy.crawler] INFO: Overridden settings: {'BOT_NAME': 'tutorial', 'NEWSPIDER_MODULE': 'tutorial.spiders', 'ROBOTSTXT_OBEY': True, 'SPIDER_MODULES': ['tutorial.spiders']}\n",
      "2020-03-24 14:13:13 [scrapy.middleware] INFO: Enabled extensions:\n",
      "['scrapy.extensions.corestats.CoreStats',\n",
      " 'scrapy.extensions.telnet.TelnetConsole',\n",
      " 'scrapy.extensions.memusage.MemoryUsage',\n",
      " 'scrapy.extensions.logstats.LogStats']\n",
      "2020-03-24 14:13:13 [scrapy.middleware] INFO: Enabled downloader middlewares:\n",
      "['scrapy.downloadermiddlewares.robotstxt.RobotsTxtMiddleware',\n",
      " 'scrapy.downloadermiddlewares.httpauth.HttpAuthMiddleware',\n",
      " 'scrapy.downloadermiddlewares.downloadtimeout.DownloadTimeoutMiddleware',\n",
      " 'scrapy.downloadermiddlewares.defaultheaders.DefaultHeadersMiddleware',\n",
      " 'scrapy.downloadermiddlewares.useragent.UserAgentMiddleware',\n",
      " 'scrapy.downloadermiddlewares.retry.RetryMiddleware',\n",
      " 'scrapy.downloadermiddlewares.redirect.MetaRefreshMiddleware',\n",
      " 'scrapy.downloadermiddlewares.httpcompression.HttpCompressionMiddleware',\n",
      " 'scrapy.downloadermiddlewares.redirect.RedirectMiddleware',\n",
      " 'scrapy.downloadermiddlewares.cookies.CookiesMiddleware',\n",
      " 'scrapy.downloadermiddlewares.httpproxy.HttpProxyMiddleware',\n",
      " 'scrapy.downloadermiddlewares.stats.DownloaderStats']\n",
      "2020-03-24 14:13:13 [scrapy.middleware] INFO: Enabled spider middlewares:\n",
      "['scrapy.spidermiddlewares.httperror.HttpErrorMiddleware',\n",
      " 'scrapy.spidermiddlewares.offsite.OffsiteMiddleware',\n",
      " 'scrapy.spidermiddlewares.referer.RefererMiddleware',\n",
      " 'scrapy.spidermiddlewares.urllength.UrlLengthMiddleware',\n",
      " 'scrapy.spidermiddlewares.depth.DepthMiddleware']\n",
      "2020-03-24 14:13:13 [scrapy.middleware] INFO: Enabled item pipelines:\n",
      "[]\n",
      "2020-03-24 14:13:13 [scrapy.core.engine] INFO: Spider opened\n",
      "2020-03-24 14:13:13 [scrapy.extensions.logstats] INFO: Crawled 0 pages (at 0 pages/min), scraped 0 items (at 0 items/min)\n",
      "2020-03-24 14:13:13 [scrapy.extensions.telnet] DEBUG: Telnet console listening on 127.0.0.1:6023\n",
      "2020-03-24 14:13:13 [scrapy.core.downloader.tls] WARNING: Remote certificate is not valid for hostname \"money.udn.com\"; '*.udn.com'!='money.udn.com'\n",
      "2020-03-24 14:13:13 [scrapy.core.engine] DEBUG: Crawled (200) <GET https://money.udn.com/robots.txt> (referer: None)\n",
      "2020-03-24 14:13:14 [scrapy.core.engine] DEBUG: Crawled (200) <GET https://money.udn.com/rank/newest/1001/0/1> (referer: None)\n",
      "https://money.udn.com/money/story/7307/4439558\n",
      "https://money.udn.com/money/story/5612/4439559\n",
      "https://money.udn.com/money/story/5612/4439555\n",
      "https://money.udn.com/money/story/7307/4439304\n",
      "https://money.udn.com/money/story/12524/4439501\n",
      "https://money.udn.com/money/story/12524/4439511\n",
      "https://money.udn.com/money/story/7307/4439544\n",
      "https://money.udn.com/money/story/5604/4439542\n",
      "https://money.udn.com/money/story/7307/4439539\n",
      "https://money.udn.com/money/story/5612/4439524\n",
      "https://money.udn.com/money/story/5658/4439520\n",
      "https://money.udn.com/money/story/5607/4439535\n",
      "https://money.udn.com/money/story/5607/4439532\n",
      "https://money.udn.com/money/story/11112/4439540\n",
      "https://money.udn.com/money/story/11112/4439536\n",
      "https://money.udn.com/money/story/5599/4439529\n",
      "https://money.udn.com/money/story/5599/4439533\n",
      "https://money.udn.com/money/story/5599/4439538\n",
      "https://money.udn.com/money/story/7307/4439515\n",
      "https://money.udn.com/money/story/7307/4439516\n",
      "https://money.udn.com/money/story/5603/4439508\n",
      "https://money.udn.com/money/story/5599/4439509\n",
      "https://money.udn.com/money/story/5607/4439507\n",
      "https://money.udn.com/money/story/11112/4439465\n",
      "https://money.udn.com/money/story/5599/4439496\n",
      "https://money.udn.com/money/story/5612/4439494\n",
      "https://money.udn.com/money/story/5612/4439468\n",
      "https://money.udn.com/money/story/5599/4439463\n",
      "https://money.udn.com/money/story/7307/4439462\n",
      "https://money.udn.com/money/story/5603/4439460\n",
      "https://money.udn.com/money/story/12524/4439440\n",
      "https://money.udn.com/money/story/5658/4439445\n",
      "https://money.udn.com/money/story/5658/4439436\n",
      "https://money.udn.com/money/story/5658/4439439\n",
      "https://money.udn.com/money/story/5658/4439442\n",
      "https://money.udn.com/money/story/5604/4439437\n",
      "https://money.udn.com/money/story/7307/4439373\n",
      "https://money.udn.com/money/story/5658/4439375\n",
      "https://money.udn.com/money/story/5603/4439432\n",
      "https://money.udn.com/money/story/5599/4439430\n",
      "https://money.udn.com/money/story/7307/4439429\n",
      "https://money.udn.com/money/story/5612/4439427\n",
      "https://money.udn.com/money/story/5607/4439431\n",
      "https://money.udn.com/money/story/5658/4439422\n",
      "https://money.udn.com/money/story/12937/4439056\n",
      "https://money.udn.com/money/story/5607/4439419\n",
      "https://money.udn.com/money/story/5603/4439415\n",
      "https://money.udn.com/money/story/5612/4439412\n",
      "https://money.udn.com/money/story/5607/4439410\n",
      "https://money.udn.com/money/story/5658/4439362\n",
      "https://money.udn.com/money/story/5658/4439403\n",
      "https://money.udn.com/money/story/5658/4439390\n",
      "https://money.udn.com/money/story/5607/4439382\n",
      "https://money.udn.com/money/story/5607/4439383\n",
      "https://money.udn.com/money/story/5599/4439376\n",
      "https://money.udn.com/money/story/7307/4439369\n",
      "https://money.udn.com/money/story/7307/4439371\n",
      "https://money.udn.com/money/story/5648/4439283\n",
      "https://money.udn.com/money/story/5658/4439164\n",
      "https://money.udn.com/money/story/5658/4439281\n",
      "2020-03-24 14:13:14 [scrapy.core.engine] INFO: Closing spider (finished)\n",
      "2020-03-24 14:13:14 [scrapy.statscollectors] INFO: Dumping Scrapy stats:\n",
      "{'downloader/request_bytes': 454,\n",
      " 'downloader/request_count': 2,\n",
      " 'downloader/request_method_count/GET': 2,\n",
      " 'downloader/response_bytes': 27907,\n",
      " 'downloader/response_count': 2,\n",
      " 'downloader/response_status_count/200': 2,\n",
      " 'finish_reason': 'finished',\n",
      " 'finish_time': datetime.datetime(2020, 3, 24, 6, 13, 14, 362816),\n",
      " 'log_count/DEBUG': 3,\n",
      " 'log_count/INFO': 7,\n",
      " 'log_count/WARNING': 1,\n",
      " 'memusage/max': 52150272,\n",
      " 'memusage/startup': 52146176,\n",
      " 'response_received_count': 2,\n",
      " 'scheduler/dequeued': 1,\n",
      " 'scheduler/dequeued/memory': 1,\n",
      " 'scheduler/enqueued': 1,\n",
      " 'scheduler/enqueued/memory': 1,\n",
      " 'start_time': datetime.datetime(2020, 3, 24, 6, 13, 13, 251230)}\n",
      "2020-03-24 14:13:14 [scrapy.core.engine] INFO: Spider closed (finished)\n"
     ]
    }
   ],
   "source": [
    "! cd tutorial/; scrapy crawl money"
   ]
  },
  {
   "cell_type": "code",
   "execution_count": null,
   "metadata": {},
   "outputs": [],
   "source": []
  }
 ],
 "metadata": {
  "kernelspec": {
   "display_name": "Python 3",
   "language": "python",
   "name": "python3"
  },
  "language_info": {
   "codemirror_mode": {
    "name": "ipython",
    "version": 3
   },
   "file_extension": ".py",
   "mimetype": "text/x-python",
   "name": "python",
   "nbconvert_exporter": "python",
   "pygments_lexer": "ipython3",
   "version": "3.6.2"
  }
 },
 "nbformat": 4,
 "nbformat_minor": 2
}
