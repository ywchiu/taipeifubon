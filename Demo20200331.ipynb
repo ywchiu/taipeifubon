{
 "cells": [
  {
   "cell_type": "code",
   "execution_count": 1,
   "metadata": {},
   "outputs": [
    {
     "data": {
      "text/plain": [
       "['this', 'is', 'a', 'book']"
      ]
     },
     "execution_count": 1,
     "metadata": {},
     "output_type": "execute_result"
    }
   ],
   "source": [
    "a = 'this is a book'\n",
    "a.split()"
   ]
  },
  {
   "cell_type": "markdown",
   "metadata": {},
   "source": [
    "## 安裝Jieba"
   ]
  },
  {
   "cell_type": "code",
   "execution_count": 2,
   "metadata": {},
   "outputs": [
    {
     "name": "stdout",
     "output_type": "stream",
     "text": [
      "Requirement already satisfied: jieba in /Users/davidchiu/.pyenv/versions/3.6.2/lib/python3.6/site-packages (0.39)\r\n"
     ]
    }
   ],
   "source": [
    "! pip install jieba"
   ]
  },
  {
   "cell_type": "code",
   "execution_count": 3,
   "metadata": {},
   "outputs": [
    {
     "data": {
      "text/plain": [
       "<generator object Tokenizer.cut at 0x107441ba0>"
      ]
     },
     "execution_count": 3,
     "metadata": {},
     "output_type": "execute_result"
    }
   ],
   "source": [
    "s = '今天天氣真好'\n",
    "import jieba\n",
    "jieba.cut(s)"
   ]
  },
  {
   "cell_type": "code",
   "execution_count": 4,
   "metadata": {},
   "outputs": [
    {
     "name": "stderr",
     "output_type": "stream",
     "text": [
      "Building prefix dict from the default dictionary ...\n",
      "Dumping model to file cache /var/folders/46/b7dzk4mn6g54qzptv608w7d00000gn/T/jieba.cache\n",
      "Loading model cost 0.882 seconds.\n",
      "Prefix dict has been built succesfully.\n"
     ]
    },
    {
     "name": "stdout",
     "output_type": "stream",
     "text": [
      "今天\n",
      "天氣\n",
      "真好\n"
     ]
    }
   ],
   "source": [
    "for word in jieba.cut(s):\n",
    "    print(word)"
   ]
  },
  {
   "cell_type": "code",
   "execution_count": 5,
   "metadata": {},
   "outputs": [
    {
     "data": {
      "text/plain": [
       "['中央流行疫情指揮中心今(31)日公布國內新增16例新冠肺炎(COVID-19)病例', '分別為14例境外移入及2例本土', '']"
      ]
     },
     "execution_count": 5,
     "metadata": {},
     "output_type": "execute_result"
    }
   ],
   "source": [
    "s = '''中央流行疫情指揮中心今(31)日公布國內新增16例新冠肺炎(COVID-19)病例，分別為14例境外移入及2例本土。'''\n",
    "import re\n",
    "re.split('[，。]', s)"
   ]
  },
  {
   "cell_type": "code",
   "execution_count": 8,
   "metadata": {},
   "outputs": [
    {
     "data": {
      "text/plain": [
       "<_io.BufferedReader name='/Users/davidchiu/.pyenv/versions/3.6.2/lib/python3.6/site-packages/jieba/dict.txt'>"
      ]
     },
     "execution_count": 8,
     "metadata": {},
     "output_type": "execute_result"
    }
   ],
   "source": [
    "jieba.get_dict_file()"
   ]
  },
  {
   "cell_type": "code",
   "execution_count": 9,
   "metadata": {},
   "outputs": [
    {
     "name": "stdout",
     "output_type": "stream",
     "text": [
      "A咖 36 N\r\n",
      "A型 3 N\r\n",
      "A片 19 N\r\n",
      "A級 2 N\r\n",
      "A股 3 N\r\n",
      "A菜 6 N\r\n",
      "B咖 6 N\r\n",
      "B哀 1 Vi\r\n",
      "B型 4 N\r\n",
      "B級 2 N\r\n"
     ]
    }
   ],
   "source": [
    "! head /Users/davidchiu/.pyenv/versions/3.6.2/lib/python3.6/site-packages/jieba/dict.txt"
   ]
  },
  {
   "cell_type": "markdown",
   "metadata": {},
   "source": [
    "## Jieba 斷詞"
   ]
  },
  {
   "cell_type": "code",
   "execution_count": 11,
   "metadata": {},
   "outputs": [
    {
     "name": "stdout",
     "output_type": "stream",
     "text": [
      "大巨蛋\n",
      "大巨蛋案\n",
      "巨蛋\n",
      "巨蛋案\n",
      "蛋案\n",
      "對\n",
      "市府\n",
      "同仁\n",
      "下\n",
      "封口\n",
      "口令\n",
      "\n",
      "\n",
      "柯\n",
      "P\n",
      "否認\n"
     ]
    }
   ],
   "source": [
    "import jieba\n",
    "for rec in jieba.cut('大巨蛋案對市府同仁下封口令，柯P否認', cut_all = True):\n",
    "    print(rec)"
   ]
  },
  {
   "cell_type": "code",
   "execution_count": 12,
   "metadata": {},
   "outputs": [
    {
     "name": "stdout",
     "output_type": "stream",
     "text": [
      "大巨蛋案\n",
      "對\n",
      "市府\n",
      "同仁\n",
      "下\n",
      "封口\n",
      "令\n",
      "，\n",
      "柯P\n",
      "否認\n"
     ]
    }
   ],
   "source": [
    "import jieba\n",
    "for rec in jieba.cut('大巨蛋案對市府同仁下封口令，柯P否認', cut_all = False):\n",
    "    print(rec)"
   ]
  },
  {
   "cell_type": "code",
   "execution_count": 15,
   "metadata": {},
   "outputs": [],
   "source": [
    "import jieba\n",
    "jieba.load_userdict('userdict.txt')"
   ]
  },
  {
   "cell_type": "code",
   "execution_count": 16,
   "metadata": {},
   "outputs": [
    {
     "name": "stdout",
     "output_type": "stream",
     "text": [
      "大巨蛋案\n",
      "對\n",
      "市府\n",
      "同仁\n",
      "下\n",
      "封口令\n",
      "，\n",
      "柯P\n",
      "否認\n"
     ]
    }
   ],
   "source": [
    "for rec in jieba.cut('大巨蛋案對市府同仁下封口令，柯P否認', cut_all = False):\n",
    "    print(rec)\n",
    "    "
   ]
  },
  {
   "cell_type": "code",
   "execution_count": 18,
   "metadata": {},
   "outputs": [
    {
     "name": "stdout",
     "output_type": "stream",
     "text": [
      "\u001b[31m__init__.py\u001b[m\u001b[m \u001b[31m_compat.py\u001b[m\u001b[m  \u001b[31mdict.txt\u001b[m\u001b[m    \u001b[34mposseg\u001b[m\u001b[m\r\n",
      "\u001b[31m__main__.py\u001b[m\u001b[m \u001b[34manalyse\u001b[m\u001b[m     \u001b[34mfinalseg\u001b[m\u001b[m\r\n"
     ]
    }
   ],
   "source": [
    "! ls /Users/davidchiu/Downloads/jieba-zh_TW-master/jieba"
   ]
  },
  {
   "cell_type": "code",
   "execution_count": 19,
   "metadata": {},
   "outputs": [
    {
     "data": {
      "text/plain": [
       "<_io.BufferedReader name='/Users/davidchiu/.pyenv/versions/3.6.2/lib/python3.6/site-packages/jieba/dict.txt'>"
      ]
     },
     "execution_count": 19,
     "metadata": {},
     "output_type": "execute_result"
    }
   ],
   "source": [
    "jieba.get_dict_file()"
   ]
  },
  {
   "cell_type": "code",
   "execution_count": null,
   "metadata": {},
   "outputs": [],
   "source": [
    "! mv /Users/davidchiu/Downloads/jieba-zh_TW-master/jieba/*  /Users/davidchiu/.pyenv/versions/3.6.2/lib/python3.6/site-packages/jieba/"
   ]
  },
  {
   "cell_type": "code",
   "execution_count": 20,
   "metadata": {},
   "outputs": [
    {
     "name": "stdout",
     "output_type": "stream",
     "text": [
      "大巨蛋案 N\n",
      "對 P\n",
      "市府 N\n",
      "同仁 N\n",
      "下 POST\n",
      "封口令 x\n",
      "？ x\n",
      "　 x\n",
      "柯P N\n",
      "否認 Vt\n"
     ]
    }
   ],
   "source": [
    "import jieba.posseg as pseg\n",
    "words = pseg.cut(\"大巨蛋案對市府同仁下封口令？　柯P否認\")\n",
    "for w in words:\n",
    "    print(w.word, w.flag)\n"
   ]
  },
  {
   "cell_type": "code",
   "execution_count": 21,
   "metadata": {},
   "outputs": [
    {
     "name": "stdout",
     "output_type": "stream",
     "text": [
      "大巨蛋案 0 4\n",
      "對 4 5\n",
      "市府 5 7\n",
      "同仁 7 9\n",
      "下 9 10\n",
      "封口令 10 13\n",
      "？ 13 14\n",
      "　 14 15\n",
      "柯P 15 17\n",
      "否認 17 19\n"
     ]
    }
   ],
   "source": [
    "words = jieba.tokenize(\"大巨蛋案對市府同仁下封口令？　柯P否認\")\n",
    "\n",
    "for tw in words:\n",
    "    print(tw[0], tw[1], tw[2])"
   ]
  },
  {
   "cell_type": "code",
   "execution_count": 27,
   "metadata": {},
   "outputs": [
    {
     "data": {
      "text/plain": [
       "b'\\xe6\\x9f\\xaf\\xef\\xbc\\xb0'"
      ]
     },
     "execution_count": 27,
     "metadata": {},
     "output_type": "execute_result"
    }
   ],
   "source": [
    "'柯p'.encode('utf-8')\n",
    "'柯P'.encode('utf-8')\n",
    "'柯Ｐ'.encode('utf-8')"
   ]
  },
  {
   "cell_type": "code",
   "execution_count": 32,
   "metadata": {},
   "outputs": [
    {
     "name": "stdout",
     "output_type": "stream",
     "text": [
      "大巨蛋案\n",
      "對\n",
      "市府\n",
      "同仁\n",
      "下\n",
      "封口\n",
      "令\n",
      "，\n",
      "柯P\n",
      "否認\n"
     ]
    }
   ],
   "source": [
    "import jieba\n",
    "jieba.load_userdict('userdict.txt')\n",
    "for rec in jieba.cut('大巨蛋案對市府同仁下封口令，柯P否認'):\n",
    "    print(rec)"
   ]
  },
  {
   "cell_type": "markdown",
   "metadata": {},
   "source": [
    "## 撰寫爬蟲擴充關鍵字詞"
   ]
  },
  {
   "cell_type": "code",
   "execution_count": 34,
   "metadata": {},
   "outputs": [],
   "source": [
    "import requests\n",
    "from bs4 import BeautifulSoup\n",
    "res = requests.get('https://ec.ltn.com.tw/article/breakingnews/3118606')\n",
    "soup = BeautifulSoup(res.text, 'lxml')"
   ]
  },
  {
   "cell_type": "code",
   "execution_count": 40,
   "metadata": {},
   "outputs": [
    {
     "data": {
      "text/plain": [
       "'中國\\n中國消費\\n中國經濟\\n新型冠狀病毒\\n武漢肺炎\\n消費\\n美國'"
      ]
     },
     "execution_count": 40,
     "metadata": {},
     "output_type": "execute_result"
    }
   ],
   "source": [
    "keywords = soup.select_one('meta[name=keywords]').get('content')\n",
    "'\\n\\r'.join(keywords.split(','))"
   ]
  },
  {
   "cell_type": "code",
   "execution_count": 41,
   "metadata": {},
   "outputs": [],
   "source": [
    "with open('userdict.txt', 'a') as f:\n",
    "    f.write('\\n\\r')\n",
    "    f.write('\\n\\r'.join(keywords.split(',')))"
   ]
  },
  {
   "cell_type": "markdown",
   "metadata": {},
   "source": [
    "## n-gram"
   ]
  },
  {
   "cell_type": "code",
   "execution_count": 42,
   "metadata": {},
   "outputs": [
    {
     "data": {
      "text/plain": [
       "'那酸'"
      ]
     },
     "execution_count": 42,
     "metadata": {},
     "output_type": "execute_result"
    }
   ],
   "source": [
    "s = '那酸民婉君也可以報名嗎?'\n",
    "s[0:2]"
   ]
  },
  {
   "cell_type": "code",
   "execution_count": 43,
   "metadata": {},
   "outputs": [
    {
     "data": {
      "text/plain": [
       "'酸民'"
      ]
     },
     "execution_count": 43,
     "metadata": {},
     "output_type": "execute_result"
    }
   ],
   "source": [
    "s[1:3]"
   ]
  },
  {
   "cell_type": "code",
   "execution_count": 44,
   "metadata": {},
   "outputs": [
    {
     "name": "stdout",
     "output_type": "stream",
     "text": [
      "那酸\n",
      "酸民\n",
      "民婉\n",
      "婉君\n",
      "君也\n",
      "也可\n",
      "可以\n",
      "以報\n",
      "報名\n",
      "名嗎\n",
      "嗎?\n"
     ]
    }
   ],
   "source": [
    "for i in range(0,len(s) - 2 + 1):\n",
    "    print(s[i:i+2])"
   ]
  },
  {
   "cell_type": "code",
   "execution_count": 45,
   "metadata": {},
   "outputs": [
    {
     "name": "stdout",
     "output_type": "stream",
     "text": [
      "那酸民\n",
      "酸民婉\n",
      "民婉君\n",
      "婉君也\n",
      "君也可\n",
      "也可以\n",
      "可以報\n",
      "以報名\n",
      "報名嗎\n",
      "名嗎?\n"
     ]
    }
   ],
   "source": [
    "for i in range(0,len(s) - 3 + 1):\n",
    "    print(s[i:i+3])"
   ]
  },
  {
   "cell_type": "code",
   "execution_count": 46,
   "metadata": {},
   "outputs": [],
   "source": [
    "def ngram(input_sentence, n = 2):\n",
    "    ary = []\n",
    "    for i in range(0,len(input_sentence) - n + 1):\n",
    "        ary.append(input_sentence[i:i+n])\n",
    "    return ary"
   ]
  },
  {
   "cell_type": "code",
   "execution_count": 47,
   "metadata": {},
   "outputs": [
    {
     "data": {
      "text/plain": [
       "['那酸', '酸民', '民婉', '婉君', '君也', '也可', '可以', '以報', '報名', '名嗎', '嗎?']"
      ]
     },
     "execution_count": 47,
     "metadata": {},
     "output_type": "execute_result"
    }
   ],
   "source": [
    "ngram('那酸民婉君也可以報名嗎?', n = 2)"
   ]
  },
  {
   "cell_type": "code",
   "execution_count": 48,
   "metadata": {},
   "outputs": [
    {
     "data": {
      "text/plain": [
       "['那酸民', '酸民婉', '民婉君', '婉君也', '君也可', '也可以', '可以報', '以報名', '報名嗎', '名嗎?']"
      ]
     },
     "execution_count": 48,
     "metadata": {},
     "output_type": "execute_result"
    }
   ],
   "source": [
    "ngram('那酸民婉君也可以報名嗎?', n = 3)"
   ]
  },
  {
   "cell_type": "code",
   "execution_count": 49,
   "metadata": {},
   "outputs": [],
   "source": [
    "news = '''\n",
    "〔財經頻道／綜合報導〕武漢肺炎疫情在歐美快速升溫，美、義、西確診人數都超越中國，與此同時中國的新增病例數據報減緩，疫情走勢緩和。《彭博》指出，現在中國官方已經開始呼籲民眾上街消費復甦經濟，然而民眾不領情、中國各行業似乎也未準備好。\n",
    "\n",
    "報導稱，中國為了加速消費，一些地方政府正在發放消費券、要求企業給員工休帶薪假，提供大型消費產品補貼（如汽車）。媒體也報出官員享受各地美食的報導，諷刺的是這與習近平反腐政策下，官員平常壓抑形象大相逕庭。\n",
    "\n",
    "然而許多中國人仍擔憂重返生活，像是出差出遊是否安全、失業率飆升帶來的財務壓力等等。1位律師表示，他最近才接到幾個月來第1個案件，且現在要消費超過1萬人民幣的物品，還是會三思而後行。\n",
    "\n",
    "浙江則鼓勵公司每週給員工額外半天的帶薪假，讓他們可以利用空閒時間購物和消費，當地陳姓設計師卻說，她的小公司沒辦法承擔帶薪假，她自己也盡可能在家吃飯，因公共場所並不安全。安徽省合肥市2週前則取消了外出用餐限制，但是1位餐館王姓老闆說沒有很多顧客來訪，認為是人們心理影響仍在，不會像以前那樣經常外食。\n",
    "\n",
    "今年1、2月，中國零售額暴跌20.5%，幾乎一半的中國上市零售商沒有維持半年營運的足夠現金。中國商務部上週四表示零售額已經止跌，但復甦勢頭依舊疲弱，除了國內首波衝擊，現在還面對海外需求下降、許多人失業或減薪的第2波衝擊。英國「經濟學人」智庫（EIU）的中國分析師王丹稱，地方政府的刺激方案不夠，失業率可能較2月份的6.2%歷史新高再上升5個百分點，等於失去2200萬個工作。\n",
    "\n",
    "富達國際（Fidelity International）股票研究主管Ned Salter週二則表示，中國各個部門都有明顯的複蘇跡象，但正常化的步伐有些緩慢，需要看到更多的消費者信心來維持復甦，而中國冷淡復甦的消費也是各國須借鏡的警訊，「疫情解除經濟就可迅速反彈」的想法恐會碰到障礙。\n",
    "'''"
   ]
  },
  {
   "cell_type": "code",
   "execution_count": 51,
   "metadata": {},
   "outputs": [],
   "source": [
    "dic = {}\n",
    "words = ngram(news)\n",
    "for w in words:\n",
    "    if w not in dic:\n",
    "        dic[w] = 1\n",
    "    else:\n",
    "        dic[w] = dic[w] + 1"
   ]
  },
  {
   "cell_type": "code",
   "execution_count": 52,
   "metadata": {},
   "outputs": [],
   "source": [
    "swd = sorted(dic.items(), key = lambda e: e[1], reverse=True)"
   ]
  },
  {
   "cell_type": "code",
   "execution_count": 58,
   "metadata": {},
   "outputs": [
    {
     "name": "stdout",
     "output_type": "stream",
     "text": [
      "中國\n",
      "消費\n",
      "復甦\n"
     ]
    }
   ],
   "source": [
    "threshold = 3\n",
    "for k,v in swd:\n",
    "    k = k.strip()\n",
    "    if (v > threshold) and len(k) >=2:\n",
    "        print(k)"
   ]
  },
  {
   "cell_type": "code",
   "execution_count": 64,
   "metadata": {},
   "outputs": [],
   "source": [
    "from collections import Counter\n",
    "words = ngram(news)\n",
    "c = Counter(words)"
   ]
  },
  {
   "cell_type": "code",
   "execution_count": 65,
   "metadata": {},
   "outputs": [
    {
     "data": {
      "text/plain": [
       "[('中國', 12),\n",
       " ('消費', 8),\n",
       " ('。\\n', 6),\n",
       " ('\\n\\n', 5),\n",
       " ('復甦', 4),\n",
       " ('報導', 3),\n",
       " ('疫情', 3),\n",
       " ('現在', 3),\n",
       " ('經濟', 3),\n",
       " ('，中', 3),\n",
       " ('帶薪', 3),\n",
       " ('薪假', 3)]"
      ]
     },
     "execution_count": 65,
     "metadata": {},
     "output_type": "execute_result"
    }
   ],
   "source": [
    "c.most_common(12)"
   ]
  },
  {
   "cell_type": "code",
   "execution_count": 62,
   "metadata": {},
   "outputs": [
    {
     "data": {
      "text/plain": [
       "[('。\\n\\n', 5),\n",
       " ('，中國', 3),\n",
       " ('帶薪假', 3),\n",
       " ('薪假，', 3),\n",
       " ('，現在', 2),\n",
       " ('中國各', 2),\n",
       " ('消費，', 2),\n",
       " ('地方政', 2),\n",
       " ('方政府', 2),\n",
       " ('給員工', 2)]"
      ]
     },
     "execution_count": 62,
     "metadata": {},
     "output_type": "execute_result"
    }
   ],
   "source": [
    "from collections import Counter\n",
    "words = ngram(news, n= 3)\n",
    "c = Counter(words)\n",
    "c.most_common(10)"
   ]
  },
  {
   "cell_type": "code",
   "execution_count": 66,
   "metadata": {},
   "outputs": [],
   "source": [
    "news = '''\n",
    "〔財經頻道／綜合報導〕武漢肺炎疫情在歐美快速升溫，美、義、西確診人數都超越中國，與此同時中國的新增病例數據報減緩，疫情走勢緩和。《彭博》指出，現在中國官方已經開始呼籲民眾上街消費復甦經濟，然而民眾不領情、中國各行業似乎也未準備好。\n",
    "\n",
    "報導稱，中國為了加速消費，一些地方政府正在發放消費券、要求企業給員工休帶薪假，提供大型消費產品補貼（如汽車）。媒體也報出官員享受各地美食的報導，諷刺的是這與習近平反腐政策下，官員平常壓抑形象大相逕庭。\n",
    "\n",
    "然而許多中國人仍擔憂重返生活，像是出差出遊是否安全、失業率飆升帶來的財務壓力等等。1位律師表示，他最近才接到幾個月來第1個案件，且現在要消費超過1萬人民幣的物品，還是會三思而後行。\n",
    "\n",
    "浙江則鼓勵公司每週給員工額外半天的帶薪假，讓他們可以利用空閒時間購物和消費，當地陳姓設計師卻說，她的小公司沒辦法承擔帶薪假，她自己也盡可能在家吃飯，因公共場所並不安全。安徽省合肥市2週前則取消了外出用餐限制，但是1位餐館王姓老闆說沒有很多顧客來訪，認為是人們心理影響仍在，不會像以前那樣經常外食。\n",
    "\n",
    "今年1、2月，中國零售額暴跌20.5%，幾乎一半的中國上市零售商沒有維持半年營運的足夠現金。中國商務部上週四表示零售額已經止跌，但復甦勢頭依舊疲弱，除了國內首波衝擊，現在還面對海外需求下降、許多人失業或減薪的第2波衝擊。英國「經濟學人」智庫（EIU）的中國分析師王丹稱，地方政府的刺激方案不夠，失業率可能較2月份的6.2%歷史新高再上升5個百分點，等於失去2200萬個工作。\n",
    "\n",
    "富達國際（Fidelity International）股票研究主管Ned Salter週二則表示，中國各個部門都有明顯的複蘇跡象，但正常化的步伐有些緩慢，需要看到更多的消費者信心來維持復甦，而中國冷淡復甦的消費也是各國須借鏡的警訊，「疫情解除經濟就可迅速反彈」的想法恐會碰到障礙。\n",
    "'''"
   ]
  },
  {
   "cell_type": "code",
   "execution_count": 80,
   "metadata": {},
   "outputs": [
    {
     "data": {
      "text/plain": [
       "['\\n',\n",
       " '財經頻道',\n",
       " '綜合報導',\n",
       " '武漢肺炎疫情在歐美快速升溫',\n",
       " '美',\n",
       " '義',\n",
       " '西確診人數都超越中國',\n",
       " '與此同時中國的新增病例數據報減緩',\n",
       " '疫情走勢緩和',\n",
       " '',\n",
       " '彭博',\n",
       " '指出',\n",
       " '現在中國官方已經開始呼籲民眾上街消費復甦經濟',\n",
       " '然而民眾不領情',\n",
       " '中國各行業似乎也未準備好',\n",
       " '\\n\\n報導稱',\n",
       " '中國為了加速消費',\n",
       " '一些地方政府正在發放消費券',\n",
       " '要求企業給員工休帶薪假',\n",
       " '提供大型消費產品補貼',\n",
       " '如汽車',\n",
       " '',\n",
       " '媒體也報出官員享受各地美食的報導',\n",
       " '諷刺的是這與習近平反腐政策下',\n",
       " '官員平常壓抑形象大相逕庭',\n",
       " '\\n\\n然而許多中國人仍擔憂重返生活',\n",
       " '像是出差出遊是否安全',\n",
       " '失業率飆升帶來的財務壓力等等',\n",
       " '1位律師表示',\n",
       " '他最近才接到幾個月來第1個案件',\n",
       " '且現在要消費超過1萬人民幣的物品',\n",
       " '還是會三思而後行',\n",
       " '\\n\\n浙江則鼓勵公司每週給員工額外半天的帶薪假',\n",
       " '讓他們可以利用空閒時間購物和消費',\n",
       " '當地陳姓設計師卻說',\n",
       " '她的小公司沒辦法承擔帶薪假',\n",
       " '她自己也盡可能在家吃飯',\n",
       " '因公共場所並不安全',\n",
       " '安徽省合肥市2週前則取消了外出用餐限制',\n",
       " '但是1位餐館王姓老闆說沒有很多顧客來訪',\n",
       " '認為是人們心理影響仍在',\n",
       " '不會像以前那樣經常外食',\n",
       " '\\n\\n今年1',\n",
       " '2月',\n",
       " '中國零售額暴跌20.5%',\n",
       " '幾乎一半的中國上市零售商沒有維持半年營運的足夠現金',\n",
       " '中國商務部上週四表示零售額已經止跌',\n",
       " '但復甦勢頭依舊疲弱',\n",
       " '除了國內首波衝擊',\n",
       " '現在還面對海外需求下降',\n",
       " '許多人失業或減薪的第2波衝擊',\n",
       " '英國',\n",
       " '經濟學人',\n",
       " '智庫',\n",
       " 'EIU',\n",
       " '的中國分析師王丹稱',\n",
       " '地方政府的刺激方案不夠',\n",
       " '失業率可能較2月份的6.2%歷史新高再上升5個百分點',\n",
       " '等於失去2200萬個工作',\n",
       " '\\n\\n富達國際',\n",
       " 'Fidelity International',\n",
       " '股票研究主管Ned Salter週二則表示',\n",
       " '中國各個部門都有明顯的複蘇跡象',\n",
       " '但正常化的步伐有些緩慢',\n",
       " '需要看到更多的消費者信心來維持復甦',\n",
       " '而中國冷淡復甦的消費也是各國須借鏡的警訊',\n",
       " '',\n",
       " '疫情解除經濟就可迅速反彈',\n",
       " '的想法恐會碰到障礙',\n",
       " '\\n']"
      ]
     },
     "execution_count": 80,
     "metadata": {},
     "output_type": "execute_result"
    }
   ],
   "source": [
    "import re\n",
    "re.split('[，。／〔〕\\（《》、）「」]', news)"
   ]
  },
  {
   "cell_type": "code",
   "execution_count": 83,
   "metadata": {},
   "outputs": [],
   "source": [
    "def ngram(input_sentence, n = 2):\n",
    "    ary = []\n",
    "    for i in range(0,len(input_sentence) - n + 1):\n",
    "        ary.append(input_sentence[i:i+n])\n",
    "    return ary"
   ]
  },
  {
   "cell_type": "code",
   "execution_count": 81,
   "metadata": {},
   "outputs": [],
   "source": [
    "\n",
    "def removeKey(sentence, keywords):\n",
    "    for w in keywords:\n",
    "        sentence = sentence.replace(w, '')\n",
    "    return sentence"
   ]
  },
  {
   "cell_type": "code",
   "execution_count": 82,
   "metadata": {},
   "outputs": [
    {
     "data": {
      "text/plain": [
       "'解除就可迅速反彈'"
      ]
     },
     "execution_count": 82,
     "metadata": {},
     "output_type": "execute_result"
    }
   ],
   "source": [
    "s = '疫情解除經濟就可迅速反彈'\n",
    "keywords = ['疫情','經濟']\n",
    "\n",
    "removeKey(s, keywords)"
   ]
  },
  {
   "cell_type": "code",
   "execution_count": 88,
   "metadata": {},
   "outputs": [
    {
     "name": "stdout",
     "output_type": "stream",
     "text": [
      "3 帶薪假\n",
      "2 中國\n",
      "2 消費\n",
      "2 復甦\n",
      "2 報導\n",
      "2 疫情\n",
      "2 現在\n",
      "2 經濟\n",
      "2 失業\n",
      "2 表示\n",
      "2 零售\n"
     ]
    }
   ],
   "source": [
    "threshold = 2\n",
    "keywords = []\n",
    "sentence_ary = re.split('[，。／〔〕\\（《》、）「」]', news)\n",
    "for n in range(4,1, -1):\n",
    "    words = []\n",
    "    for sentence in sentence_ary:\n",
    "        sentence = removeKey(sentence, keywords)\n",
    "        words += ngram(sentence, n)\n",
    "    c = Counter(words)\n",
    "    for k,v in c.most_common():\n",
    "        k = k.strip()\n",
    "        if (v > threshold) and len(k) >= 2:\n",
    "            print(n, k)\n",
    "            keywords.append(k)"
   ]
  },
  {
   "cell_type": "code",
   "execution_count": 89,
   "metadata": {},
   "outputs": [
    {
     "data": {
      "text/plain": [
       "['帶薪假', '中國', '消費', '復甦', '報導', '疫情', '現在', '經濟', '失業', '表示', '零售']"
      ]
     },
     "execution_count": 89,
     "metadata": {},
     "output_type": "execute_result"
    }
   ],
   "source": [
    "keywords"
   ]
  },
  {
   "cell_type": "markdown",
   "metadata": {},
   "source": [
    "## 小任務"
   ]
  },
  {
   "cell_type": "markdown",
   "metadata": {},
   "source": [
    "- 現有一新聞如下，請使用長詞優先法，將次數超過三個字詞的候選關鍵字挑出來，並將候選關鍵字寫入userdict.txt 檔案\n",
    "\n",
    "\n",
    "\n",
    "〔記者巫其倫／台北報導〕武漢肺炎延燒，資誠（PwC）報告指出，84%美、墨企業主認為，疫情將使全球經濟衰退；台灣方面，第一波受影響的KY上市櫃公司，目前帳上平均現金約可撐4.63個月，但高達48%撐不過3個月，甚至有15%只能撐1個月，呼籲企業儘快回收應收帳款，同時做好成本控管。\n",
    "\n",
    "資誠發布「肺炎疫情財務長調查」報告，有96%美國及墨西哥企業主表示，疫情將對業務運營產生重大影響，隨疫情擴大而受影響更顯著。\n",
    "\n",
    "疫情造成企業3大擔憂，84%認為將造成全球性經濟衰退、64%認為將衝擊公司財務、45%認為消費信心將下滑及減少消費。另，高達8成預計企業營收將下降，近5成正考慮調整財務目標，另有16%認為目前難以評估。\n",
    "\n",
    "根據FactSet數據顯示，截至3月6日，標普500強公司中，有71家發布第一季營收低於預期，僅33家發布正向預期。資誠數位經濟負責人劉鏡清表示，台商普遍預測也類似，營收衰退者較多。\n",
    "\n",
    "至於企業應變，55％企業主將因疫情影響調整公司計畫，42％正考慮改變其供應鏈；至於業務何時恢復，76%企業認為，疫情結束後，其業務將在3個月內恢復，其中，僅36%認為公司1個月內可恢復。\n",
    "\n",
    "台灣方面，第一波受影響的KY上市櫃公司，帳上平均現金約可支撐4.63個月，但是48%撐不過3個月，甚至有15%只能撐1個月，劉鏡清呼籲，此時企業應儘快回收應收帳款，同時做好成本控管，確保營收與利潤，以免發生童話故事「賣火柴的小女孩」，為在寒冷冬夜裡維持幻影，不斷劃下火柴，點完最後一根火柴卻無以為繼的慘狀。\n",
    "\n",
    "他建議，公司應派高階主管負責評估市場長期影響，也可組成團隊或找顧問公司協助，調整商業模式爭取更多業務，危機就是轉機，不做變革不會更好。"
   ]
  },
  {
   "cell_type": "code",
   "execution_count": 90,
   "metadata": {},
   "outputs": [],
   "source": [
    "news = '''\n",
    "〔記者巫其倫／台北報導〕武漢肺炎延燒，資誠（PwC）報告指出，84%美、墨企業主認為，疫情將使全球經濟衰退；台灣方面，第一波受影響的KY上市櫃公司，目前帳上平均現金約可撐4.63個月，但高達48%撐不過3個月，甚至有15%只能撐1個月，呼籲企業儘快回收應收帳款，同時做好成本控管。\n",
    "\n",
    "資誠發布「肺炎疫情財務長調查」報告，有96%美國及墨西哥企業主表示，疫情將對業務運營產生重大影響，隨疫情擴大而受影響更顯著。\n",
    "\n",
    "疫情造成企業3大擔憂，84%認為將造成全球性經濟衰退、64%認為將衝擊公司財務、45%認為消費信心將下滑及減少消費。另，高達8成預計企業營收將下降，近5成正考慮調整財務目標，另有16%認為目前難以評估。\n",
    "\n",
    "根據FactSet數據顯示，截至3月6日，標普500強公司中，有71家發布第一季營收低於預期，僅33家發布正向預期。資誠數位經濟負責人劉鏡清表示，台商普遍預測也類似，營收衰退者較多。\n",
    "\n",
    "至於企業應變，55％企業主將因疫情影響調整公司計畫，42％正考慮改變其供應鏈；至於業務何時恢復，76%企業認為，疫情結束後，其業務將在3個月內恢復，其中，僅36%認為公司1個月內可恢復。\n",
    "\n",
    "台灣方面，第一波受影響的KY上市櫃公司，帳上平均現金約可支撐4.63個月，但是48%撐不過3個月，甚至有15%只能撐1個月，劉鏡清呼籲，此時企業應儘快回收應收帳款，同時做好成本控管，確保營收與利潤，以免發生童話故事「賣火柴的小女孩」，為在寒冷冬夜裡維持幻影，不斷劃下火柴，點完最後一根火柴卻無以為繼的慘狀。\n",
    "\n",
    "他建議，公司應派高階主管負責評估市場長期影響，也可組成團隊或找顧問公司協助，調整商業模式爭取更多業務，危機就是轉機，不做變革不會更好。\n",
    "'''"
   ]
  },
  {
   "cell_type": "code",
   "execution_count": 93,
   "metadata": {},
   "outputs": [],
   "source": [
    "def ngram(input_sentence, n = 2):\n",
    "    ary = []\n",
    "    for i in range(0,len(input_sentence) - n + 1):\n",
    "        ary.append(input_sentence[i:i+n])\n",
    "    return ary"
   ]
  },
  {
   "cell_type": "code",
   "execution_count": 94,
   "metadata": {},
   "outputs": [],
   "source": [
    "def removeKey(sentence, keywords):\n",
    "    for w in keywords:\n",
    "        sentence = sentence.replace(w, '')\n",
    "    return sentence"
   ]
  },
  {
   "cell_type": "code",
   "execution_count": 95,
   "metadata": {},
   "outputs": [],
   "source": [
    "sentence_ary = re.split('[，。／〔〕\\（《》、）「」\\n]', news)\n",
    "#sentence_ary"
   ]
  },
  {
   "cell_type": "code",
   "execution_count": 97,
   "metadata": {},
   "outputs": [
    {
     "name": "stdout",
     "output_type": "stream",
     "text": [
      "3 3個月\n",
      "3 %認為\n",
      "2 企業\n",
      "2 公司\n",
      "2 疫情\n",
      "2 影響\n",
      "2 業務\n",
      "2 營收\n"
     ]
    }
   ],
   "source": [
    "from collections import Counter\n",
    "threshold = 3\n",
    "keywords = []\n",
    "for n in range(4,1, -1):\n",
    "    words = []\n",
    "    for sentence in sentence_ary:\n",
    "        sentence = removeKey(sentence, keywords)\n",
    "        words += ngram(sentence, n)\n",
    "    c = Counter(words)\n",
    "    for k,v in c.most_common():\n",
    "        k = k.strip()\n",
    "        if (v > threshold) and len(k) >= 2:\n",
    "            print(n, k)\n",
    "            keywords.append(k)"
   ]
  },
  {
   "cell_type": "code",
   "execution_count": 99,
   "metadata": {},
   "outputs": [
    {
     "data": {
      "text/plain": [
       "'3個月\\n%認為\\n企業\\n公司\\n疫情\\n影響\\n業務\\n營收'"
      ]
     },
     "execution_count": 99,
     "metadata": {},
     "output_type": "execute_result"
    }
   ],
   "source": [
    "'\\n'.join(keywords)"
   ]
  },
  {
   "cell_type": "code",
   "execution_count": 100,
   "metadata": {},
   "outputs": [],
   "source": [
    "with open('userdict.txt', 'a') as f:\n",
    "    f.write('\\n')\n",
    "    f.write('\\n'.join(keywords))"
   ]
  },
  {
   "cell_type": "code",
   "execution_count": 105,
   "metadata": {},
   "outputs": [],
   "source": [
    "exisiting_keywords = [e.strip().split()[0] for e in open('userdict.txt')]"
   ]
  },
  {
   "cell_type": "code",
   "execution_count": 109,
   "metadata": {},
   "outputs": [
    {
     "data": {
      "text/plain": [
       "'台北富邦'"
      ]
     },
     "execution_count": 109,
     "metadata": {},
     "output_type": "execute_result"
    }
   ],
   "source": [
    "keywords = ['企業', '公司', '台北富邦']\n",
    "'\\n'.join(list(set(keywords) - set(exisiting_keywords)))"
   ]
  },
  {
   "cell_type": "code",
   "execution_count": 110,
   "metadata": {},
   "outputs": [],
   "source": [
    "with open('userdict.txt', 'a') as f:\n",
    "    f.write('\\n')\n",
    "    f.write('\\n'.join(list(set(keywords) - set(exisiting_keywords))))"
   ]
  },
  {
   "cell_type": "code",
   "execution_count": 112,
   "metadata": {},
   "outputs": [
    {
     "data": {
      "text/plain": [
       "[1]"
      ]
     },
     "execution_count": 112,
     "metadata": {},
     "output_type": "execute_result"
    }
   ],
   "source": [
    "a = [1,2,3,4]\n",
    "b = [2,3,4,5]\n",
    "list(set(a) - set(b))"
   ]
  },
  {
   "cell_type": "code",
   "execution_count": 96,
   "metadata": {},
   "outputs": [
    {
     "data": {
      "text/plain": [
       "[1, 2, 3, 2, 3, 4]"
      ]
     },
     "execution_count": 96,
     "metadata": {},
     "output_type": "execute_result"
    }
   ],
   "source": [
    "a = [1,2,3]\n",
    "b = [2,3,4]\n",
    "a + b"
   ]
  },
  {
   "cell_type": "code",
   "execution_count": 122,
   "metadata": {},
   "outputs": [
    {
     "data": {
      "text/html": [
       "<div>\n",
       "<style scoped>\n",
       "    .dataframe tbody tr th:only-of-type {\n",
       "        vertical-align: middle;\n",
       "    }\n",
       "\n",
       "    .dataframe tbody tr th {\n",
       "        vertical-align: top;\n",
       "    }\n",
       "\n",
       "    .dataframe thead th {\n",
       "        text-align: right;\n",
       "    }\n",
       "</style>\n",
       "<table border=\"1\" class=\"dataframe\">\n",
       "  <thead>\n",
       "    <tr style=\"text-align: right;\">\n",
       "      <th></th>\n",
       "      <th>0</th>\n",
       "      <th>1</th>\n",
       "      <th>2</th>\n",
       "    </tr>\n",
       "  </thead>\n",
       "  <tbody>\n",
       "    <tr>\n",
       "      <th>0</th>\n",
       "      <td>柯p</td>\n",
       "      <td>10</td>\n",
       "      <td>N</td>\n",
       "    </tr>\n",
       "    <tr>\n",
       "      <th>1</th>\n",
       "      <td>柯P</td>\n",
       "      <td></td>\n",
       "      <td></td>\n",
       "    </tr>\n",
       "    <tr>\n",
       "      <th>2</th>\n",
       "      <td>柯Ｐ</td>\n",
       "      <td></td>\n",
       "      <td></td>\n",
       "    </tr>\n",
       "    <tr>\n",
       "      <th>3</th>\n",
       "      <td>封口令</td>\n",
       "      <td>1</td>\n",
       "      <td></td>\n",
       "    </tr>\n",
       "    <tr>\n",
       "      <th>4</th>\n",
       "      <td>封口</td>\n",
       "      <td>100</td>\n",
       "      <td></td>\n",
       "    </tr>\n",
       "  </tbody>\n",
       "</table>\n",
       "</div>"
      ],
      "text/plain": [
       "     0    1  2\n",
       "0   柯p   10  N\n",
       "1   柯P        \n",
       "2   柯Ｐ        \n",
       "3  封口令    1   \n",
       "4   封口  100   "
      ]
     },
     "execution_count": 122,
     "metadata": {},
     "output_type": "execute_result"
    }
   ],
   "source": [
    "import pandas\n",
    "df = pandas.read_csv('userdict.txt', sep = ' ', header = None)\n",
    "df.drop_duplicates(inplace=True)\n",
    "df.fillna('', inplace=True)\n",
    "#df\n",
    "df.head()"
   ]
  },
  {
   "cell_type": "code",
   "execution_count": 124,
   "metadata": {},
   "outputs": [
    {
     "name": "stdout",
     "output_type": "stream",
     "text": [
      "柯p 10.0 N\n",
      "柯P  \n",
      "柯Ｐ  \n",
      "封口令 1.0 \n",
      "封口 100.0 \n",
      "中國  \n",
      "中國消費  \n",
      "中國經濟  \n",
      "新型冠狀病毒  \n",
      "武漢肺炎  \n",
      "消費  \n",
      "美國  \n",
      "3個月  \n",
      "%認為  \n",
      "企業  \n",
      "公司  \n",
      "疫情  \n",
      "影響  \n",
      "業務  \n",
      "營收  \n",
      "台北富邦  \n"
     ]
    }
   ],
   "source": [
    "for idx, ele in df.iterrows():\n",
    "    rec = '{} {} {}'.format(ele.get(0), ele.get(1), ele.get(2))\n",
    "    print(rec)"
   ]
  },
  {
   "cell_type": "code",
   "execution_count": null,
   "metadata": {},
   "outputs": [],
   "source": []
  }
 ],
 "metadata": {
  "kernelspec": {
   "display_name": "Python 3",
   "language": "python",
   "name": "python3"
  },
  "language_info": {
   "codemirror_mode": {
    "name": "ipython",
    "version": 3
   },
   "file_extension": ".py",
   "mimetype": "text/x-python",
   "name": "python",
   "nbconvert_exporter": "python",
   "pygments_lexer": "ipython3",
   "version": "3.6.2"
  }
 },
 "nbformat": 4,
 "nbformat_minor": 2
}
