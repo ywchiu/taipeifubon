{
 "cells": [
  {
   "cell_type": "code",
   "execution_count": 11,
   "metadata": {},
   "outputs": [],
   "source": [
    "contents = [\"大巨蛋案對市府同仁下封口令？柯P否認\", \"柯P市府近來飽受大巨蛋爭議\"]"
   ]
  },
  {
   "cell_type": "code",
   "execution_count": 19,
   "metadata": {},
   "outputs": [],
   "source": [
    "import jieba\n",
    "jieba.load_userdict('userdict.txt')\n",
    "corpus = []\n",
    "for sentence in contents:\n",
    "    #print(list(jieba.cut(sentence)))\n",
    "    corpus.append(' '.join(jieba.cut(sentence)))"
   ]
  },
  {
   "cell_type": "code",
   "execution_count": 20,
   "metadata": {},
   "outputs": [
    {
     "data": {
      "text/plain": [
       "['大巨蛋 案對 市府 同仁 下 封口令 ？ 柯P 否認', '柯P 市府 近來 飽受 大巨蛋 爭議']"
      ]
     },
     "execution_count": 20,
     "metadata": {},
     "output_type": "execute_result"
    }
   ],
   "source": [
    "corpus"
   ]
  },
  {
   "cell_type": "code",
   "execution_count": 23,
   "metadata": {},
   "outputs": [
    {
     "data": {
      "text/plain": [
       "<2x10 sparse matrix of type '<class 'numpy.longlong'>'\n",
       "\twith 13 stored elements in Compressed Sparse Row format>"
      ]
     },
     "execution_count": 23,
     "metadata": {},
     "output_type": "execute_result"
    }
   ],
   "source": [
    "from sklearn.feature_extraction.text import CountVectorizer\n",
    "vectorizer = CountVectorizer()\n",
    "X = vectorizer.fit_transform(corpus)\n",
    "X"
   ]
  },
  {
   "cell_type": "code",
   "execution_count": 25,
   "metadata": {},
   "outputs": [
    {
     "name": "stdout",
     "output_type": "stream",
     "text": [
      "['同仁', '否認', '大巨蛋', '封口令', '市府', '柯p', '案對', '爭議', '近來', '飽受']\n"
     ]
    }
   ],
   "source": [
    "print(vectorizer.get_feature_names())"
   ]
  },
  {
   "cell_type": "code",
   "execution_count": 24,
   "metadata": {},
   "outputs": [
    {
     "data": {
      "text/plain": [
       "array([[1, 1, 1, 1, 1, 1, 1, 0, 0, 0],\n",
       "       [0, 0, 1, 0, 1, 1, 0, 1, 1, 1]], dtype=int64)"
      ]
     },
     "execution_count": 24,
     "metadata": {},
     "output_type": "execute_result"
    }
   ],
   "source": [
    "X.toarray()"
   ]
  },
  {
   "cell_type": "code",
   "execution_count": 26,
   "metadata": {},
   "outputs": [
    {
     "data": {
      "text/plain": [
       "array([[1.        , 0.46291005],\n",
       "       [0.46291005, 1.        ]])"
      ]
     },
     "execution_count": 26,
     "metadata": {},
     "output_type": "execute_result"
    }
   ],
   "source": [
    "from sklearn.metrics.pairwise import cosine_distances, cosine_similarity\n",
    "cosine_similarity(X)"
   ]
  },
  {
   "cell_type": "code",
   "execution_count": 27,
   "metadata": {},
   "outputs": [
    {
     "data": {
      "text/plain": [
       "array([[0.        , 0.53708995],\n",
       "       [0.53708995, 0.        ]])"
      ]
     },
     "execution_count": 27,
     "metadata": {},
     "output_type": "execute_result"
    }
   ],
   "source": [
    "cosine_distances(X)"
   ]
  },
  {
   "cell_type": "markdown",
   "metadata": {},
   "source": [
    "## 根據新聞相似度推薦新聞"
   ]
  },
  {
   "cell_type": "code",
   "execution_count": 30,
   "metadata": {},
   "outputs": [],
   "source": [
    "import pandas\n",
    "news = pandas.read_excel('https://raw.githubusercontent.com/ywchiu/taipeifubon/master/data/20171214news.xlsx', index_col = 0)"
   ]
  },
  {
   "cell_type": "code",
   "execution_count": 36,
   "metadata": {},
   "outputs": [],
   "source": [
    "import jieba\n",
    "jieba.load_userdict('userdict.txt')\n",
    "corpus = []\n",
    "titles = []\n",
    "for idx, rec in news.iterrows():\n",
    "    corpus.append(' '.join(jieba.cut(rec.get('content'))))\n",
    "    titles.append(rec.get('title'))"
   ]
  },
  {
   "cell_type": "code",
   "execution_count": 38,
   "metadata": {},
   "outputs": [
    {
     "data": {
      "text/plain": [
       "'【更新】水利會改官派明闖關\\u3000綠委24小時前顧議場大門防藍突襲'"
      ]
     },
     "execution_count": 38,
     "metadata": {},
     "output_type": "execute_result"
    }
   ],
   "source": [
    "#corpus[0]\n",
    "titles[0]"
   ]
  },
  {
   "cell_type": "code",
   "execution_count": 40,
   "metadata": {},
   "outputs": [],
   "source": [
    "from sklearn.feature_extraction.text import CountVectorizer\n",
    "vectorizer = CountVectorizer()\n",
    "X = vectorizer.fit_transform(corpus)"
   ]
  },
  {
   "cell_type": "code",
   "execution_count": 41,
   "metadata": {},
   "outputs": [
    {
     "data": {
      "text/plain": [
       "<899x28957 sparse matrix of type '<class 'numpy.longlong'>'\n",
       "\twith 122298 stored elements in Compressed Sparse Row format>"
      ]
     },
     "execution_count": 41,
     "metadata": {},
     "output_type": "execute_result"
    }
   ],
   "source": [
    "X"
   ]
  },
  {
   "cell_type": "code",
   "execution_count": 43,
   "metadata": {},
   "outputs": [
    {
     "data": {
      "text/plain": [
       "(899, 899)"
      ]
     },
     "execution_count": 43,
     "metadata": {},
     "output_type": "execute_result"
    }
   ],
   "source": [
    "from sklearn.metrics.pairwise import cosine_distances\n",
    "cs = cosine_distances(X)\n",
    "cs.shape"
   ]
  },
  {
   "cell_type": "code",
   "execution_count": 46,
   "metadata": {},
   "outputs": [
    {
     "data": {
      "text/plain": [
       "'黃國昌：長期目標要消滅國民黨\\u3000不支持柯文哲的兩岸一家親'"
      ]
     },
     "execution_count": 46,
     "metadata": {},
     "output_type": "execute_result"
    }
   ],
   "source": [
    "titles[12]"
   ]
  },
  {
   "cell_type": "code",
   "execution_count": 48,
   "metadata": {},
   "outputs": [
    {
     "data": {
      "text/plain": [
       "(899,)"
      ]
     },
     "execution_count": 48,
     "metadata": {},
     "output_type": "execute_result"
    }
   ],
   "source": [
    "cs[12].shape"
   ]
  },
  {
   "cell_type": "code",
   "execution_count": 52,
   "metadata": {},
   "outputs": [
    {
     "data": {
      "text/plain": [
       "array([1, 2, 0, 3, 5, 4])"
      ]
     },
     "execution_count": 52,
     "metadata": {},
     "output_type": "execute_result"
    }
   ],
   "source": [
    "import numpy \n",
    "students = [60,30,40,70,90,80,]\n",
    "students_ary = numpy.array(students)\n",
    "students_ary.argsort()"
   ]
  },
  {
   "cell_type": "code",
   "execution_count": 56,
   "metadata": {},
   "outputs": [
    {
     "name": "stdout",
     "output_type": "stream",
     "text": [
      "黃國昌：長期目標要消滅國民黨　不支持柯文哲的兩岸一家親 0.0\n",
      "黃國昌若被罷免會更強　他：成為選輸北市的阿扁 0.5542565596535691\n",
      "罷免案將投票　李遠哲今再度現身力挺黃國昌 0.5752596978859429\n",
      "「兩蔣時代」超譯　網友：不准傷皇城內的和氣！ 0.5938835126582123\n",
      "罷昌案周六投票　時代力量全力澄清不實謠言 0.6402804718905146\n",
      "【聲援片】沈發惠呼籲罷昌案投「不同意」　黃國昌：謝謝您 0.7003246342755608\n",
      "宗教團體可曾想過：黃國昌犀利形象恐越打越旺 0.7749027801375493\n",
      "【歷史上的今天】幫黃國昌站台　蔡英文：我有準備當總統了 0.7803630780883579\n",
      "【更新】水利會改官派明闖關　綠委24小時前顧議場大門防藍突襲 0.7869878365124581\n",
      "臉書在台灣繳稅太少　財政部將進一步追稅 0.7926505336912069\n"
     ]
    }
   ],
   "source": [
    "for idx in cs[12].argsort()[0:10]:\n",
    "    print(titles[idx], cs[12][idx])"
   ]
  },
  {
   "cell_type": "code",
   "execution_count": 58,
   "metadata": {},
   "outputs": [
    {
     "name": "stdout",
     "output_type": "stream",
     "text": [
      "查詢文章: 黃國昌：長期目標要消滅國民黨　不支持柯文哲的兩岸一家親\n",
      "相關文章 黃國昌若被罷免會更強　他：成為選輸北市的阿扁 0.5542565596535691\n",
      "相關文章 罷免案將投票　李遠哲今再度現身力挺黃國昌 0.5752596978859429\n",
      "相關文章 「兩蔣時代」超譯　網友：不准傷皇城內的和氣！ 0.5938835126582123\n",
      "相關文章 罷昌案周六投票　時代力量全力澄清不實謠言 0.6402804718905146\n"
     ]
    }
   ],
   "source": [
    "pos = 12\n",
    "print('查詢文章:',titles[pos])\n",
    "for idx in cs[pos].argsort()[1:10]:\n",
    "    if cs[pos][idx] < 0.7:\n",
    "        print('相關文章',titles[idx], cs[pos][idx])"
   ]
  },
  {
   "cell_type": "code",
   "execution_count": 59,
   "metadata": {},
   "outputs": [],
   "source": [
    "def getSimiliarNews(pos):\n",
    "    print('查詢文章:',titles[pos])\n",
    "    for idx in cs[pos].argsort()[1:10]:\n",
    "        if cs[pos][idx] < 0.7:\n",
    "            print('相關文章',titles[idx], cs[pos][idx])"
   ]
  },
  {
   "cell_type": "code",
   "execution_count": 65,
   "metadata": {},
   "outputs": [
    {
     "name": "stdout",
     "output_type": "stream",
     "text": [
      "查詢文章: FBI探員罵川普「白痴」　遭調離通俄門調查\n",
      "相關文章 【公道難伸張】再控川普性騷　受害者：沒人在乎很受傷 0.6434278035355978\n",
      "相關文章 老謝：美菲2位狂人兄弟 今年交出不錯成績單　 0.6502913209540035\n",
      "相關文章 否認性騷指控　川普：民主黨編的假新聞 0.6754198672772045\n",
      "相關文章 諷參議員陸天娜「為錢啥都做」　川普遭美媒批不適任總統 0.6984356814409867\n"
     ]
    }
   ],
   "source": [
    "getSimiliarNews(35)"
   ]
  },
  {
   "cell_type": "code",
   "execution_count": 67,
   "metadata": {},
   "outputs": [],
   "source": [
    "q = '黃國昌 李遠哲'\n",
    "q_list = [' '.join(jieba.cut(q))]"
   ]
  },
  {
   "cell_type": "code",
   "execution_count": 71,
   "metadata": {},
   "outputs": [
    {
     "data": {
      "text/plain": [
       "<1x28957 sparse matrix of type '<class 'numpy.int64'>'\n",
       "\twith 2 stored elements in Compressed Sparse Row format>"
      ]
     },
     "execution_count": 71,
     "metadata": {},
     "output_type": "execute_result"
    }
   ],
   "source": [
    "q_vec = vectorizer.transform(q_list)\n",
    "q_vec"
   ]
  },
  {
   "cell_type": "code",
   "execution_count": 73,
   "metadata": {},
   "outputs": [],
   "source": [
    "q_cs = cosine_distances(q_vec, X)"
   ]
  },
  {
   "cell_type": "code",
   "execution_count": 74,
   "metadata": {},
   "outputs": [
    {
     "data": {
      "text/plain": [
       "(1, 899)"
      ]
     },
     "execution_count": 74,
     "metadata": {},
     "output_type": "execute_result"
    }
   ],
   "source": [
    "q_cs.shape"
   ]
  },
  {
   "cell_type": "code",
   "execution_count": 79,
   "metadata": {},
   "outputs": [
    {
     "data": {
      "text/plain": [
       "182"
      ]
     },
     "execution_count": 79,
     "metadata": {},
     "output_type": "execute_result"
    }
   ],
   "source": [
    "q_cs.argsort()[0][0]"
   ]
  },
  {
   "cell_type": "code",
   "execution_count": 80,
   "metadata": {},
   "outputs": [
    {
     "data": {
      "text/plain": [
       "'黃國昌若被罷免會更強\\u3000他：成為選輸北市的阿扁'"
      ]
     },
     "execution_count": 80,
     "metadata": {},
     "output_type": "execute_result"
    }
   ],
   "source": [
    "titles[182]"
   ]
  },
  {
   "cell_type": "markdown",
   "metadata": {},
   "source": [
    "## 小任務(一)\n",
    "- 請先寫個網路爬蟲爬取台北富邦銀行的常見問題，並將問題與答案整理名為qa的DataFrame？\n",
    "- https://www.fubon.com/banking/faq/index.htm"
   ]
  },
  {
   "cell_type": "code",
   "execution_count": 83,
   "metadata": {},
   "outputs": [],
   "source": [
    "import requests\n",
    "from bs4 import BeautifulSoup\n",
    "res = requests.get('https://www.fubon.com/banking/FAQ_Data//faq/index_data/faqData1.xml')\n",
    "soup = BeautifulSoup(res.text, 'lxml')"
   ]
  },
  {
   "cell_type": "code",
   "execution_count": 89,
   "metadata": {},
   "outputs": [],
   "source": [
    "qa_ary = []\n",
    "for item in soup.select('item'):\n",
    "    question = item.select_one('title').text\n",
    "    answer_tmp = item.select_one('description').text\n",
    "    answer = BeautifulSoup(answer_tmp, 'lxml')\n",
    "    dic = {'question': question, 'answer': answer.text}\n",
    "    qa_ary.append(dic)"
   ]
  },
  {
   "cell_type": "code",
   "execution_count": 90,
   "metadata": {},
   "outputs": [
    {
     "data": {
      "text/html": [
       "<div>\n",
       "<style scoped>\n",
       "    .dataframe tbody tr th:only-of-type {\n",
       "        vertical-align: middle;\n",
       "    }\n",
       "\n",
       "    .dataframe tbody tr th {\n",
       "        vertical-align: top;\n",
       "    }\n",
       "\n",
       "    .dataframe thead th {\n",
       "        text-align: right;\n",
       "    }\n",
       "</style>\n",
       "<table border=\"1\" class=\"dataframe\">\n",
       "  <thead>\n",
       "    <tr style=\"text-align: right;\">\n",
       "      <th></th>\n",
       "      <th>answer</th>\n",
       "      <th>question</th>\n",
       "    </tr>\n",
       "  </thead>\n",
       "  <tbody>\n",
       "    <tr>\n",
       "      <th>0</th>\n",
       "      <td>感謝您申辦本行信用卡，如您尚需補件，請您備妥相關資料並在文件上註明「身分證字號」、「聯絡電話...</td>\n",
       "      <td>申請信用卡有缺少資料應如何補件？</td>\n",
       "    </tr>\n",
       "    <tr>\n",
       "      <th>1</th>\n",
       "      <td>只要是作業系統為 Android 5.0以上且內建NFC功能的手機即可使用。為確保交易穩定性...</td>\n",
       "      <td>什麼型號的手機可支援HCE行動信用卡？</td>\n",
       "    </tr>\n",
       "    <tr>\n",
       "      <th>2</th>\n",
       "      <td>請確認您輸入的註冊手機門號是否有誤、是否有設定阻擋企業簡訊功能。</td>\n",
       "      <td>註冊「台灣行動支付」APP時沒有收到驗證碼，請問怎麼辦？</td>\n",
       "    </tr>\n",
       "    <tr>\n",
       "      <th>3</th>\n",
       "      <td>可以，但若您留存於本行的手機門號並非目前實際使用的門號，請務必致電本行客服中心更新您的手機門...</td>\n",
       "      <td>註冊「台灣行動支付」APP之手機門號可以和留存於銀行之手機門號不同嗎？</td>\n",
       "    </tr>\n",
       "    <tr>\n",
       "      <th>4</th>\n",
       "      <td>您可透過拍攝或手動輸入您欲下載的卡號、有效期限、卡片背面簽名欄後3碼（實體卡片需先完成開卡）...</td>\n",
       "      <td>如何將卡片新增於我的手機上？</td>\n",
       "    </tr>\n",
       "  </tbody>\n",
       "</table>\n",
       "</div>"
      ],
      "text/plain": [
       "                                              answer  \\\n",
       "0  感謝您申辦本行信用卡，如您尚需補件，請您備妥相關資料並在文件上註明「身分證字號」、「聯絡電話...   \n",
       "1  只要是作業系統為 Android 5.0以上且內建NFC功能的手機即可使用。為確保交易穩定性...   \n",
       "2                   請確認您輸入的註冊手機門號是否有誤、是否有設定阻擋企業簡訊功能。   \n",
       "3  可以，但若您留存於本行的手機門號並非目前實際使用的門號，請務必致電本行客服中心更新您的手機門...   \n",
       "4  您可透過拍攝或手動輸入您欲下載的卡號、有效期限、卡片背面簽名欄後3碼（實體卡片需先完成開卡）...   \n",
       "\n",
       "                              question  \n",
       "0                     申請信用卡有缺少資料應如何補件？  \n",
       "1                  什麼型號的手機可支援HCE行動信用卡？  \n",
       "2         註冊「台灣行動支付」APP時沒有收到驗證碼，請問怎麼辦？  \n",
       "3  註冊「台灣行動支付」APP之手機門號可以和留存於銀行之手機門號不同嗎？  \n",
       "4                       如何將卡片新增於我的手機上？  "
      ]
     },
     "execution_count": 90,
     "metadata": {},
     "output_type": "execute_result"
    }
   ],
   "source": [
    "import pandas\n",
    "qa = pandas.DataFrame(qa_ary)\n",
    "qa.head()"
   ]
  },
  {
   "cell_type": "code",
   "execution_count": 91,
   "metadata": {},
   "outputs": [
    {
     "data": {
      "text/plain": [
       "231"
      ]
     },
     "execution_count": 91,
     "metadata": {},
     "output_type": "execute_result"
    }
   ],
   "source": [
    "len(qa)"
   ]
  },
  {
   "cell_type": "markdown",
   "metadata": {},
   "source": [
    "## 小任務 (二)\n",
    "- 試著建立一個依內容相似度回應答案的問答機器人，當使用者輸入問題時，機器人可以依相似問題給予對應答案\n"
   ]
  },
  {
   "cell_type": "code",
   "execution_count": 96,
   "metadata": {},
   "outputs": [],
   "source": [
    "import jieba\n",
    "jieba.load_userdict('/Users/davidchiu/Desktop/userdict2.txt')"
   ]
  },
  {
   "cell_type": "markdown",
   "metadata": {},
   "source": [
    "### 根據 qa DataFrame建立詞頻矩陣"
   ]
  },
  {
   "cell_type": "code",
   "execution_count": 113,
   "metadata": {},
   "outputs": [],
   "source": [
    "import jieba\n",
    "jieba.load_userdict('userdict.txt')\n",
    "corpus = []\n",
    "answers = []\n",
    "for idx, rec in qa.iterrows():\n",
    "    corpus.append(' '.join(jieba.cut(rec.get('question'))))\n",
    "    answers.append(rec.get('answer'))"
   ]
  },
  {
   "cell_type": "markdown",
   "metadata": {},
   "source": [
    "### 使用sklearn 的CountVectorizer 建立詞頻矩陣"
   ]
  },
  {
   "cell_type": "code",
   "execution_count": 114,
   "metadata": {},
   "outputs": [],
   "source": [
    "from sklearn.feature_extraction.text import CountVectorizer\n",
    "vectorizer = CountVectorizer()\n",
    "X = vectorizer.fit_transform(corpus)"
   ]
  },
  {
   "cell_type": "code",
   "execution_count": 115,
   "metadata": {},
   "outputs": [
    {
     "data": {
      "text/plain": [
       "<231x559 sparse matrix of type '<class 'numpy.longlong'>'\n",
       "\twith 1971 stored elements in Compressed Sparse Row format>"
      ]
     },
     "execution_count": 115,
     "metadata": {},
     "output_type": "execute_result"
    }
   ],
   "source": [
    "X"
   ]
  },
  {
   "cell_type": "markdown",
   "metadata": {},
   "source": [
    "### 把使用者輸入的問題變成是詞向量"
   ]
  },
  {
   "cell_type": "code",
   "execution_count": 117,
   "metadata": {},
   "outputs": [
    {
     "name": "stdout",
     "output_type": "stream",
     "text": [
      "請輸入你的問題:如何計算就學貸款額度?\n"
     ]
    }
   ],
   "source": [
    "user_query = input('請輸入你的問題:')\n",
    "user_query_list = [' '.join(jieba.cut(user_query))]"
   ]
  },
  {
   "cell_type": "code",
   "execution_count": 118,
   "metadata": {},
   "outputs": [
    {
     "data": {
      "text/plain": [
       "['如何 計算 就學 貸款 額度 ?']"
      ]
     },
     "execution_count": 118,
     "metadata": {},
     "output_type": "execute_result"
    }
   ],
   "source": [
    "user_query_list"
   ]
  },
  {
   "cell_type": "code",
   "execution_count": 119,
   "metadata": {},
   "outputs": [],
   "source": [
    "user_query_vec = vectorizer.transform(user_query_list)"
   ]
  },
  {
   "cell_type": "code",
   "execution_count": 120,
   "metadata": {},
   "outputs": [
    {
     "data": {
      "text/plain": [
       "<1x559 sparse matrix of type '<class 'numpy.int64'>'\n",
       "\twith 5 stored elements in Compressed Sparse Row format>"
      ]
     },
     "execution_count": 120,
     "metadata": {},
     "output_type": "execute_result"
    }
   ],
   "source": [
    "user_query_vec"
   ]
  },
  {
   "cell_type": "markdown",
   "metadata": {},
   "source": [
    "### 根據使用者輸入的問題給予最相近的答案"
   ]
  },
  {
   "cell_type": "code",
   "execution_count": 121,
   "metadata": {},
   "outputs": [],
   "source": [
    "from sklearn.metrics.pairwise import cosine_distances\n",
    "cs  = cosine_distances(user_query_vec, X)"
   ]
  },
  {
   "cell_type": "code",
   "execution_count": 122,
   "metadata": {},
   "outputs": [
    {
     "data": {
      "text/plain": [
       "(1, 231)"
      ]
     },
     "execution_count": 122,
     "metadata": {},
     "output_type": "execute_result"
    }
   ],
   "source": [
    "cs.shape"
   ]
  },
  {
   "cell_type": "code",
   "execution_count": 123,
   "metadata": {},
   "outputs": [
    {
     "data": {
      "text/plain": [
       "'就學 貸款 之 額度 如何 計算 ？'"
      ]
     },
     "execution_count": 123,
     "metadata": {},
     "output_type": "execute_result"
    }
   ],
   "source": [
    "corpus[cs.argsort()[0][0]]"
   ]
  },
  {
   "cell_type": "code",
   "execution_count": 124,
   "metadata": {},
   "outputs": [
    {
     "data": {
      "text/plain": [
       "'1.學生申請就學貸款之金額，以下列各項費用為範圍：\\n\\n(1.)學雜費：其金額為該學期實際繳納者。【另依據教育部93 年7 月29 日台高（四）字第0930097146 號函釋：鑒於「音樂指導費」為音樂系學生應繳納費用之一，故得納入學雜費貸款金額項下。】\\n(2.)實習費：其金額為該學期實際繳納者。\\n(3.)書籍費：高級中等學校為每生每學期新臺幣1,000 元；專科以上學校為每生每學期新臺幣3,000 元。\\n(4.)住宿費：其金額為該校住校宿舍費，校外住宿學生申貸之住宿費，以該校住校宿舍費之最高者為基準。\\n(5.)學生團體保險費：其金額為該學期實際繳納者。\\n(6.)海外研修費：每生每年以新臺幣44 萬元為上限。(需檢附蓋有學校戳章之「申請就學貸款海外研修費證明」)。\\n(7.)生活費：低收入戶學生，每生每學期以新臺幣4 萬元為上限；中低收入戶學生，每生每學期以新臺幣2 萬元為上限。生活費貸款者，應為經直轄市、縣（市）社政主管機關核定為低收入戶或中低收入戶之學生。\\n(8.)電腦及網路通訊使用費：其金額依該管主管機關之規定。\\n\\n2.享受全部公費之公費生或已獲得政府主辦之其他無息助學貸款者，不得申請就學貸款。但辦理學雜費減免或已請領教育部助學金之學生，得就學雜等各費減除學雜費減免或教育部助學金後之差額申請就學貸款。\\n3.書籍費、校外住宿費或生活費由學校逕行發給學生。\\n4.就學貸款原則採「每一教育階段學程簽訂一張總額度借據」方式辦理。每一教育階段學程總額度，係由本行依據第1 點所列7 個可申貸項目，估算每一教育階段學程所需花費之總金額而訂定（例如高中階段是估算6 個學期所需花費之金額），並一體適用於各該教育階段之申請人。\\n5.借據所定借款額度如因學生在國內就學時間延長或學雜各費調漲等事由而致不敷使用者，依借據之約定，本行得於知悉該事由時，以「借款額度調整通知書」通知學生及連帶保證人調整後之額度，學生及其連帶保證人則應就實際申請撥款之合計金額負還款責任。'"
      ]
     },
     "execution_count": 124,
     "metadata": {},
     "output_type": "execute_result"
    }
   ],
   "source": [
    "answers[cs.argsort()[0][0]]"
   ]
  },
  {
   "cell_type": "code",
   "execution_count": 126,
   "metadata": {},
   "outputs": [],
   "source": [
    "def getAnswer(user_query):\n",
    "    user_query_list = [' '.join(jieba.cut(user_query))]    \n",
    "    user_query_vec = vectorizer.transform(user_query_list)\n",
    "    cs  = cosine_distances(user_query_vec, X)\n",
    "    return answers[cs.argsort()[0][0]]"
   ]
  },
  {
   "cell_type": "code",
   "execution_count": 128,
   "metadata": {},
   "outputs": [
    {
     "name": "stdout",
     "output_type": "stream",
     "text": [
      "請輸入你的問題:請問申請信用貸款會有哪些費用？\n",
      "本行信用貸款僅收取帳戶管理費與匯款手續費，上述費用將於撥款時自借款金額中扣除，除此之外並無任何其他費用，撥貸前亦不會跟您收取任何費用。若您辦理信用貸款時，遭要求「先匯款」或「收取現金」者，應屬代辦公司業務招攬方式，請勿向其申辦，請直接與申辦專線0809-01-02-03聯繫申辦。\n"
     ]
    }
   ],
   "source": [
    "user_query = input('請輸入你的問題:')\n",
    "print(getAnswer(user_query))"
   ]
  },
  {
   "cell_type": "markdown",
   "metadata": {},
   "source": [
    "## 分群"
   ]
  },
  {
   "cell_type": "code",
   "execution_count": 131,
   "metadata": {},
   "outputs": [],
   "source": [
    "import pandas\n",
    "news = pandas.read_excel('https://raw.githubusercontent.com/ywchiu/taipeifubon/master/data/20150628news.xlsx', index_col = 0)"
   ]
  },
  {
   "cell_type": "code",
   "execution_count": 132,
   "metadata": {},
   "outputs": [
    {
     "data": {
      "text/html": [
       "<div>\n",
       "<style scoped>\n",
       "    .dataframe tbody tr th:only-of-type {\n",
       "        vertical-align: middle;\n",
       "    }\n",
       "\n",
       "    .dataframe tbody tr th {\n",
       "        vertical-align: top;\n",
       "    }\n",
       "\n",
       "    .dataframe thead th {\n",
       "        text-align: right;\n",
       "    }\n",
       "</style>\n",
       "<table border=\"1\" class=\"dataframe\">\n",
       "  <thead>\n",
       "    <tr style=\"text-align: right;\">\n",
       "      <th></th>\n",
       "      <th>category</th>\n",
       "      <th>description</th>\n",
       "      <th>pubdate</th>\n",
       "      <th>title</th>\n",
       "    </tr>\n",
       "  </thead>\n",
       "  <tbody>\n",
       "    <tr>\n",
       "      <th>0</th>\n",
       "      <td>社會/生活</td>\n",
       "      <td>新北市八仙水上樂園昨晚發生粉塵爆炸，新北市衛生局統計到目前為止，由救護車送醫再加上自行送醫的...</td>\n",
       "      <td>Sun, 28 Jun 2015 07:40:00 +0800</td>\n",
       "      <td>八仙塵爆  五相關人依公共危險重傷害法辦</td>\n",
       "    </tr>\n",
       "    <tr>\n",
       "      <th>1</th>\n",
       "      <td>社會/生活</td>\n",
       "      <td>新北市八仙樂園昨天晚上(6/27)舉辦活動，過程中噴灑大量玉米粉而引發粉塵爆炸，根據最新統計...</td>\n",
       "      <td>Sun, 28 Jun 2015 07:40:00 +0800</td>\n",
       "      <td>八仙樂園意外 病患持續增加中</td>\n",
       "    </tr>\n",
       "    <tr>\n",
       "      <th>2</th>\n",
       "      <td>財經/要聞</td>\n",
       "      <td>希臘債務違約限期逼近，資金持續外流。路透社引述三間銀行的消息指出，希臘國內有3分之1的自動櫃...</td>\n",
       "      <td>Sun, 28 Jun 2015 07:40:00 +0800</td>\n",
       "      <td>希臘國內三分一自動櫃員機現金短缺</td>\n",
       "    </tr>\n",
       "    <tr>\n",
       "      <th>3</th>\n",
       "      <td>社會/生活</td>\n",
       "      <td>台鐵「新基隆車站」第一階段工程本月底完成，台鐵表示，明天（29號）啟用後，由於南站周邊道路尚...</td>\n",
       "      <td>Sun, 28 Jun 2015 07:40:00 +0800</td>\n",
       "      <td>台鐵新基隆車站29日正式啟用</td>\n",
       "    </tr>\n",
       "    <tr>\n",
       "      <th>4</th>\n",
       "      <td>財經/要聞</td>\n",
       "      <td>《中國時報》\\n●樂園變煉獄 派對驚爆 逾300人遭火紋身\\n八仙樂園昨晚舉辦「COLOR ...</td>\n",
       "      <td>Sun, 28 Jun 2015 07:38:17 +0800</td>\n",
       "      <td>6月28日各報頭版要聞</td>\n",
       "    </tr>\n",
       "  </tbody>\n",
       "</table>\n",
       "</div>"
      ],
      "text/plain": [
       "  category                                        description  \\\n",
       "0    社會/生活  新北市八仙水上樂園昨晚發生粉塵爆炸，新北市衛生局統計到目前為止，由救護車送醫再加上自行送醫的...   \n",
       "1    社會/生活  新北市八仙樂園昨天晚上(6/27)舉辦活動，過程中噴灑大量玉米粉而引發粉塵爆炸，根據最新統計...   \n",
       "2    財經/要聞  希臘債務違約限期逼近，資金持續外流。路透社引述三間銀行的消息指出，希臘國內有3分之1的自動櫃...   \n",
       "3    社會/生活  台鐵「新基隆車站」第一階段工程本月底完成，台鐵表示，明天（29號）啟用後，由於南站周邊道路尚...   \n",
       "4    財經/要聞  《中國時報》\\n●樂園變煉獄 派對驚爆 逾300人遭火紋身\\n八仙樂園昨晚舉辦「COLOR ...   \n",
       "\n",
       "                           pubdate                 title  \n",
       "0  Sun, 28 Jun 2015 07:40:00 +0800  八仙塵爆  五相關人依公共危險重傷害法辦  \n",
       "1  Sun, 28 Jun 2015 07:40:00 +0800        八仙樂園意外 病患持續增加中  \n",
       "2  Sun, 28 Jun 2015 07:40:00 +0800      希臘國內三分一自動櫃員機現金短缺  \n",
       "3  Sun, 28 Jun 2015 07:40:00 +0800        台鐵新基隆車站29日正式啟用  \n",
       "4  Sun, 28 Jun 2015 07:38:17 +0800           6月28日各報頭版要聞  "
      ]
     },
     "execution_count": 132,
     "metadata": {},
     "output_type": "execute_result"
    }
   ],
   "source": [
    "news.head()"
   ]
  },
  {
   "cell_type": "code",
   "execution_count": 133,
   "metadata": {},
   "outputs": [
    {
     "data": {
      "text/plain": [
       "147"
      ]
     },
     "execution_count": 133,
     "metadata": {},
     "output_type": "execute_result"
    }
   ],
   "source": [
    "len(news)"
   ]
  },
  {
   "cell_type": "code",
   "execution_count": 134,
   "metadata": {},
   "outputs": [],
   "source": [
    "import jieba\n",
    "jieba.load_userdict('userdict.txt')\n",
    "corpus = []\n",
    "titles = []\n",
    "for idx, rec in news.iterrows():\n",
    "    corpus.append(' '.join(jieba.cut(rec.get('description'))))\n",
    "    titles.append(rec.get('title'))"
   ]
  },
  {
   "cell_type": "code",
   "execution_count": 135,
   "metadata": {},
   "outputs": [],
   "source": [
    "from sklearn.feature_extraction.text import CountVectorizer\n",
    "vectorizer = CountVectorizer()\n",
    "X = vectorizer.fit_transform(corpus)"
   ]
  },
  {
   "cell_type": "code",
   "execution_count": 136,
   "metadata": {},
   "outputs": [
    {
     "data": {
      "text/plain": [
       "<147x11150 sparse matrix of type '<class 'numpy.longlong'>'\n",
       "\twith 22651 stored elements in Compressed Sparse Row format>"
      ]
     },
     "execution_count": 136,
     "metadata": {},
     "output_type": "execute_result"
    }
   ],
   "source": [
    "X"
   ]
  },
  {
   "cell_type": "code",
   "execution_count": 137,
   "metadata": {},
   "outputs": [],
   "source": [
    "from sklearn.metrics.pairwise import cosine_distances\n",
    "cs = cosine_distances(X)"
   ]
  },
  {
   "cell_type": "code",
   "execution_count": 141,
   "metadata": {},
   "outputs": [
    {
     "data": {
      "text/plain": [
       "(147, 147)"
      ]
     },
     "execution_count": 141,
     "metadata": {},
     "output_type": "execute_result"
    }
   ],
   "source": [
    "cs.shape\n",
    "#cs"
   ]
  },
  {
   "cell_type": "code",
   "execution_count": 142,
   "metadata": {},
   "outputs": [],
   "source": [
    "from sklearn.cluster import KMeans\n",
    "km = KMeans(n_clusters = 4, init = 'k-means++', random_state=42)"
   ]
  },
  {
   "cell_type": "code",
   "execution_count": 143,
   "metadata": {},
   "outputs": [],
   "source": [
    "c = km.fit_predict(cs)"
   ]
  },
  {
   "cell_type": "code",
   "execution_count": 149,
   "metadata": {},
   "outputs": [
    {
     "data": {
      "text/plain": [
       "array([80, 82, 85])"
      ]
     },
     "execution_count": 149,
     "metadata": {},
     "output_type": "execute_result"
    }
   ],
   "source": [
    "import numpy as np\n",
    "a = [80,82,70,60,85]\n",
    "b = [1,1,0,0,1]\n",
    "na = np.array(a)\n",
    "nb = np.array(b)\n",
    "na[nb == 1]"
   ]
  },
  {
   "cell_type": "code",
   "execution_count": 146,
   "metadata": {},
   "outputs": [],
   "source": [
    "import numpy as np\n",
    "np_titles = np.array(titles)"
   ]
  },
  {
   "cell_type": "code",
   "execution_count": 155,
   "metadata": {},
   "outputs": [
    {
     "data": {
      "text/plain": [
       "['希臘國內三分一自動櫃員機現金短缺',\n",
       " '歐元區財長拒希臘延長救助計劃',\n",
       " '呂紹煒專欄：違約與退出 希臘與歐洲才能重生(上)',\n",
       " '希臘違約在即  歐盟全力穩定經濟',\n",
       " '希臘脫歐變可能 歐洲衝擊大',\n",
       " '希債協議  法國願盡最後斡旋努力',\n",
       " '希臘1／3提款機錢被提光',\n",
       " '確保銀行穩定 希臘續與ECB緊密合作',\n",
       " '希臘態度強硬 歐元區耐心漸失',\n",
       " '希臘盼展延債務 歐元區拒絕']"
      ]
     },
     "execution_count": 155,
     "metadata": {},
     "output_type": "execute_result"
    }
   ],
   "source": [
    "np_titles[c == 3].tolist()"
   ]
  },
  {
   "cell_type": "code",
   "execution_count": 178,
   "metadata": {},
   "outputs": [
    {
     "data": {
      "text/plain": [
       "array([4073, 1670, 5363, 2582, 9026, 8219, 1614, 9839, 1618, 1617])"
      ]
     },
     "execution_count": 178,
     "metadata": {},
     "output_type": "execute_result"
    }
   ],
   "source": [
    "\n",
    "feature_counts = np.squeeze(np.array(X[c==3].sum(axis = 0)))\n",
    "feature_counts.argsort()[::-1][0:10]"
   ]
  },
  {
   "cell_type": "code",
   "execution_count": 179,
   "metadata": {},
   "outputs": [],
   "source": [
    "feature_vec = np.array(vectorizer.get_feature_names())"
   ]
  },
  {
   "cell_type": "code",
   "execution_count": 180,
   "metadata": {},
   "outputs": [
    {
     "data": {
      "text/plain": [
       "array(['希臘', '元區', '政府', '可能', '表示', '經濟', '債務', '退出', '債權國', '債權人'],\n",
       "      dtype='<U14')"
      ]
     },
     "execution_count": 180,
     "metadata": {},
     "output_type": "execute_result"
    }
   ],
   "source": [
    "feature_vec[feature_counts.argsort()[::-1][0:10]]"
   ]
  },
  {
   "cell_type": "code",
   "execution_count": 189,
   "metadata": {},
   "outputs": [
    {
     "name": "stdout",
     "output_type": "stream",
     "text": [
      "第0群\n",
      "代表關鍵字:\n",
      "['北市', '醫院', '台北市', '樂園', '馬偕', '淡水', '八仙', '桃園市', '臺北', '現場']\n",
      "相關文章:\n",
      "['八仙塵爆  五相關人依公共危險重傷害法辦', '八仙樂園意外 病患持續增加中', '6月28日各報頭版要聞', '八仙樂園舞台大火 逾400人輕重傷', '八仙樂園意外 毛揆取消視察臺東行程', '八仙樂園貼出暫停營業海報', '八仙樂園爆炸案 專家認玉米粉危險性高應管制使用', '八仙樂園粉塵燃爆 400人傷 負責人被移送', '八仙案  新店慈濟4傷者危急', '侯友宜探視傷者：追究責任', '八仙樂園火警  國軍加入救援', '八仙樂園爆炸案災害應變中心\\u30001時30分一級開設', '八仙派對彩粉釀大禍  衛福部：研議加強管理', '彩色派對主辦人：風勢太大，引燃粉塵', '八仙樂園大火  傷者查詢電話', '派對彩粉首次釀禍  蔣丙煌：研議管理', '八仙樂園火警受傷名單一覽表', '00：35統計\\u3000八仙大火重傷97人、輕傷132人', '衛福部長：北北基醫護人員全力動員', '八仙樂園粉塵瞬燃\\u3000還原失事現場影片曝光', '八仙意外毛揆取消台東熱氣球活動', '八仙樂園爆炸案 士檢派3檢察官現場指揮', '八仙樂園爆炸案 3檢察官展開調查', '八仙爆炸案   陳國恩：全力支援', '八仙大火傷患爆量  衛福調度醫院', '八仙樂園意外 洪秀柱：為傷者祈福', '陳國恩指示警方全力動員 協助救護交通順暢', '八仙樂園爆炸228人輕重傷 朱立倫：無限期停業', '八仙樂園爆炸意外 朱立倫：立即停園接受調查', '北榮33名八里傷患  2/3傷重', '八仙樂園塵爆215傷\\u3000朱立倫下令即刻停業', '八仙樂園爆炸 朱立倫4點指示', '【八仙意外】馬英九、毛治國第一時間得知\\u3000指示全', '【八仙意外】讓專業的來！柯文哲指示啟動EOC', '八仙水上樂園爆炸逾百人傷\\u3000三軍總醫院收治傷患']\n",
      "=====================================\n",
      "第1群\n",
      "代表關鍵字:\n",
      "['台灣', '可以', '訓練', '他們', '沒有', '中國', '邱和順', '就是', '判決', '問題']\n",
      "相關文章:\n",
      "['台鐵新基隆車站29日正式啟用', '基改不算真食物  法國人知情就不買', '女子世界盃足球賽  日擊敗澳洲晉4強', '《農民曆小幫手》國曆六月二十八日', '江蕙得「特別貢獻獎」 感恩金曲肯定她', '大台北今高溫上探37度', '羅志祥哭了 蔡依林讚表現很好', '風評：陷入獵巫遊戲的中資認定', '挪威「行動大雕」出沒 隨機射路人', '還是熱！西半部高溫達37度', '德國即將關閉使用最久核子反應爐', '張娟芬專文：抽絲剝繭邱和順案', '2015空姐夏裝大盤點', '觀點投書：讀中文系的人，應該反對課綱微調', '觀點投書：何謂新兵訓練', '觀點投書：災難中的護理人', '呂政璋觀點：點土成金新思維~以台灣柳丁為例', '觀點投書：招搖的進步', '中俄美競造5音速機彈', '手相看什麼樣的女人性格強勢', '面相看哪些人財運綿長不盡', '【美洲盃八強】巴西 VS. 巴拉圭 線上直播！', '塔羅占卜你今生最看重的是什麼', '蘇塞大屠殺 凶手畫面曝光', '塔羅占卜你是個有心機的人嗎？', '挑選新鮮食物 大有學問', '調心養心 初夏多吃蔬果', '夏天吃什麼好 紅棗、苦瓜攏總來', '補鈣能手大比拚 牛奶吸收效果好', '暑假應考季 小心體內酸鹼失衡', '水果中的皇后 草莓多食好處多', '旺報觀點－鄭弘儀！別讓台灣人背黑鍋！', '古人愛西瓜 清明上河圖可佐證', '旺報觀點－紀念抗戰 台日中獲和解轉機', '陸官淪陪酒郎 2年10起醉死案', '慈禧愛西瓜盅 一天可吃數十個', '紀念抗戰 學者：反省、避免戰爭', '多位台老兵 受邀赴陸閱兵', '陸祭出新規 能上能下整肅官場', '首例 馬頒紀念章給新四軍老兵', '陸改革遇5瓶頸 難以落實基層', '金蟬花替代蟲草 浙民服用中毒', '鄭弘儀反紀念抗戰 陸批數典忘祖', '《經濟教室》白居易、蘇東坡看加薪', '大陸》A股紅火 中資想回家', '大陸》華人赴美置產不手軟', '北美》線上貸款業搶飯碗', '北美》加州光熱發電受挫', '歐洲》高貴的徵才條件', '東北亞》大眾運輸費變貴了', '歐洲》荷蘭的稻田發電', '一周大事－6月21日至27日', '社論－真道理性真愛台灣系列 7 打一場讓社會公平的', '有話要說－別害警察不敢用槍', '中間選民為洪秀柱按讚', '學生心態M化 台大有責任', '莫忘來時路／6月28日－先上車後補票成歷史', '短評－柯P 去上海吧', '花蓮民宅火警 1男嗆昏送醫', '新生代性感女神降臨\\u3000男粉絲擠爆簽書會', '屏東樂遊東港 住民宿探蚵殼島', '競選總部入厝\\u3000洪慈庸期許台中煥然一新', '超商父親節早鳥預購開跑\\u3000聶永真設計商品再次收藏', '八仙樂園爆炸案 負責人等5人移送', '八里爆炸意外衛生局凌晨公布314名傷患名單 分送27', '「我不說誰說？」世新廣電畢製《東所》受難者觀影', '八仙樂園爆炸 劣賊趁亂打劫', '金曲紅毯眾星出招\\u3000個人意見獨特見解', '單親媽媽第一次下海就被逮\\u3000直呼太倒楣了！', '提升財運的家居風水', '如何化解感情上的爛桃花', '金曲26／陳奕迅二度擊敗張學友\\u3000濕身奪歌王', '清真寺爆炸凶嫌所乘車 車主遭科國羈押', '突尼西亞恐攻 已知15英人遇害', 'LOEWE瘋玩春夏 迷上日本漫畫', '捷運內湖站2分鐘 輕質2房最熱銷', 'BV萬元小皮件 小資族快下手', '大人物攝影展開展吸人潮 方念華 時尚入境', '新板＋府中雙商圈 每坪60萬起', '北台灣最宜居新都心！', 'Kelly Talk：艾力克斯讓兒挑衣 訓練衣Q', '氣墊粉霜又有新品 酷夏玩美肌', '男裝周加映高級訂製服 GIVENCHY 黑珍珠使壞', 'Margiela大衣掛帥 Berluti熱鬧色計', 'Gap徵小小代言人 艾力克斯親子秀時尚', '行動不便為生活當馬伕 首天上班就被逮']\n",
      "=====================================\n",
      "第2群\n",
      "代表關鍵字:\n",
      "['最佳', '專輯', '公司', '有限', '音樂', '國語', '演唱', '股份', '蔡依林', '金曲獎']\n",
      "相關文章:\n",
      "['蔡依林淚奪金曲 錦榮傳訊恭喜', '陳奕迅、張惠妹稱王封后  蔡依林抱回最大獎', '陳奕迅、莫文蔚伴侶均不知阿娜答金曲獲獎', '金曲26／蔡依林擒３獎大勝\\u3000淚崩再挺婚姻平權', '金曲26／張惠妹奪歌后卻失落\\u3000要世界感受彩虹力量', '金曲26／蔡依林淚奪最佳專輯＋完整得獎名單', '僅次Jolin！徐佳瑩入圍6獎全槓被封遺珠', '金曲最風光！蔡依林紅毯全勝又獲3獎成大贏家', '張惠妹3度封后  想破江蕙紀錄', '金曲26／陳奕迅稱王謝台灣\\u3000張惠妹封后秒噴淚', '蔡依林呸大贏家  金曲最佳專輯獎', '陳奕迅二度打敗歌神  金曲歌王好嗨', '金曲獎完整得獎名單！阿妹封后 陳奕迅稱王', '第26屆金曲獎 陳奕迅奪歌王、阿妹封歌后', '金曲最佳國語專輯：呸', '《金曲26》2015金曲獎得獎名單 線上直播懶人包']\n",
      "=====================================\n",
      "第3群\n",
      "代表關鍵字:\n",
      "['希臘', '元區', '政府', '可能', '表示', '經濟', '債務', '退出', '債權國', '債權人']\n",
      "相關文章:\n",
      "['希臘國內三分一自動櫃員機現金短缺', '歐元區財長拒希臘延長救助計劃', '呂紹煒專欄：違約與退出 希臘與歐洲才能重生(上)', '希臘違約在即  歐盟全力穩定經濟', '希臘脫歐變可能 歐洲衝擊大', '希債協議  法國願盡最後斡旋努力', '希臘1／3提款機錢被提光', '確保銀行穩定 希臘續與ECB緊密合作', '希臘態度強硬 歐元區耐心漸失', '希臘盼展延債務 歐元區拒絕']\n",
      "=====================================\n"
     ]
    }
   ],
   "source": [
    "for g in set(c.tolist()):\n",
    "    print('第{}群'.format(g))\n",
    "    print('代表關鍵字:')\n",
    "    feature_counts = np.squeeze(np.array(X[c==g].sum(axis = 0)))\n",
    "    print(feature_vec[feature_counts.argsort()[::-1][0:10]].tolist())\n",
    "    print('相關文章:')\n",
    "    print(np_titles[c == g].tolist())\n",
    "    print('=====================================')"
   ]
  },
  {
   "cell_type": "markdown",
   "metadata": {},
   "source": [
    "## Silhouette"
   ]
  },
  {
   "cell_type": "code",
   "execution_count": 191,
   "metadata": {},
   "outputs": [],
   "source": [
    "from sklearn.metrics import silhouette_score\n",
    "\n",
    "sil_ary = []\n",
    "for k in range(2,21):\n",
    "    km = KMeans(n_clusters = k, init='k-means++', random_state=42)\n",
    "    c = km.fit_predict(cs)\n",
    "    sil_ary.append({'group':k,\n",
    "                    'silhouette':silhouette_score(cs, labels=c)})\n"
   ]
  },
  {
   "cell_type": "code",
   "execution_count": 194,
   "metadata": {},
   "outputs": [],
   "source": [
    "groups = []\n",
    "silhouette_scores = []\n",
    "for rec in sil_ary:\n",
    "        groups.append(rec.get('group'))\n",
    "        silhouette_scores.append(rec.get('silhouette'))"
   ]
  },
  {
   "cell_type": "code",
   "execution_count": 197,
   "metadata": {},
   "outputs": [
    {
     "name": "stdout",
     "output_type": "stream",
     "text": [
      "Populating the interactive namespace from numpy and matplotlib\n"
     ]
    },
    {
     "name": "stderr",
     "output_type": "stream",
     "text": [
      "/Users/davidchiu/.pyenv/versions/3.6.2/lib/python3.6/site-packages/IPython/core/magics/pylab.py:161: UserWarning: pylab import has clobbered these variables: ['title', 'rec']\n",
      "`%matplotlib` prevents importing * from pylab and numpy\n",
      "  \"\\n`%matplotlib` prevents importing * from pylab and numpy\"\n"
     ]
    },
    {
     "data": {
      "text/plain": [
       "[<matplotlib.lines.Line2D at 0x12be61400>]"
      ]
     },
     "execution_count": 197,
     "metadata": {},
     "output_type": "execute_result"
    },
    {
     "data": {
      "image/png": "[encoded data removed]",
      "text/plain": [
       "<Figure size 432x288 with 1 Axes>"
      ]
     },
     "metadata": {},
     "output_type": "display_data"
    }
   ],
   "source": [
    "%pylab inline\n",
    "from matplotlib import pyplot as plt\n",
    "plt.plot(groups, silhouette_scores)"
   ]
  },
  {
   "cell_type": "code",
   "execution_count": 199,
   "metadata": {},
   "outputs": [
    {
     "name": "stdout",
     "output_type": "stream",
     "text": [
      "4\n"
     ]
    }
   ],
   "source": [
    "for idx, score in enumerate(silhouette_scores):\n",
    "    if score == max(silhouette_scores):\n",
    "        print(groups[idx])"
   ]
  },
  {
   "cell_type": "code",
   "execution_count": 200,
   "metadata": {},
   "outputs": [],
   "source": [
    "import pandas\n",
    "news = pandas.read_excel('https://raw.githubusercontent.com/ywchiu/taipeifubon/master/data/20171214news.xlsx', index_col = 0)"
   ]
  },
  {
   "cell_type": "code",
   "execution_count": 202,
   "metadata": {},
   "outputs": [],
   "source": [
    "import jieba\n",
    "jieba.load_userdict('userdict.txt')\n",
    "corpus = []\n",
    "titles = []\n",
    "for idx, rec in news.iterrows():\n",
    "    corpus.append(' '.join(jieba.cut(rec.get('content'))))\n",
    "    titles.append(rec.get('title'))"
   ]
  },
  {
   "cell_type": "code",
   "execution_count": 203,
   "metadata": {},
   "outputs": [],
   "source": [
    "from sklearn.feature_extraction.text import CountVectorizer, TfidfVectorizer\n",
    "vectorizer = CountVectorizer()\n",
    "X = vectorizer.fit_transform(corpus)"
   ]
  },
  {
   "cell_type": "code",
   "execution_count": 204,
   "metadata": {},
   "outputs": [
    {
     "data": {
      "text/plain": [
       "<899x28964 sparse matrix of type '<class 'numpy.longlong'>'\n",
       "\twith 122308 stored elements in Compressed Sparse Row format>"
      ]
     },
     "execution_count": 204,
     "metadata": {},
     "output_type": "execute_result"
    }
   ],
   "source": [
    "X"
   ]
  },
  {
   "cell_type": "code",
   "execution_count": 205,
   "metadata": {},
   "outputs": [],
   "source": [
    "from sklearn.metrics.pairwise import cosine_distances\n",
    "cs = cosine_distances(X)"
   ]
  },
  {
   "cell_type": "code",
   "execution_count": 206,
   "metadata": {},
   "outputs": [
    {
     "data": {
      "text/plain": [
       "(899, 899)"
      ]
     },
     "execution_count": 206,
     "metadata": {},
     "output_type": "execute_result"
    }
   ],
   "source": [
    "cs.shape"
   ]
  },
  {
   "cell_type": "code",
   "execution_count": 208,
   "metadata": {},
   "outputs": [],
   "source": [
    "from sklearn.cluster import KMeans\n",
    "from sklearn.metrics import silhouette_score\n",
    "\n",
    "groups = []\n",
    "silhouette_scores = []\n",
    "for k in range(2,21):\n",
    "    km = KMeans(n_clusters = k, init='k-means++', random_state=42)\n",
    "    c = km.fit_predict(cs)\n",
    "    groups.append(k)\n",
    "    silhouette_scores.append(silhouette_score(cs, labels=c))\n"
   ]
  },
  {
   "cell_type": "code",
   "execution_count": 209,
   "metadata": {},
   "outputs": [
    {
     "name": "stdout",
     "output_type": "stream",
     "text": [
      "Populating the interactive namespace from numpy and matplotlib\n"
     ]
    },
    {
     "name": "stderr",
     "output_type": "stream",
     "text": [
      "/Users/davidchiu/.pyenv/versions/3.6.2/lib/python3.6/site-packages/IPython/core/magics/pylab.py:161: UserWarning: pylab import has clobbered these variables: ['rec']\n",
      "`%matplotlib` prevents importing * from pylab and numpy\n",
      "  \"\\n`%matplotlib` prevents importing * from pylab and numpy\"\n"
     ]
    },
    {
     "data": {
      "text/plain": [
       "[<matplotlib.lines.Line2D at 0x12bf73b38>]"
      ]
     },
     "execution_count": 209,
     "metadata": {},
     "output_type": "execute_result"
    },
    {
     "data": {
      "image/png": "[encoded data removed]",
      "text/plain": [
       "<Figure size 432x288 with 1 Axes>"
      ]
     },
     "metadata": {},
     "output_type": "display_data"
    }
   ],
   "source": [
    "%pylab inline\n",
    "from matplotlib import pyplot as plt\n",
    "plt.plot(groups, silhouette_scores)"
   ]
  },
  {
   "cell_type": "markdown",
   "metadata": {},
   "source": [
    "## 圖論"
   ]
  },
  {
   "cell_type": "code",
   "execution_count": 211,
   "metadata": {},
   "outputs": [],
   "source": [
    "import networkx\n",
    "G = networkx.Graph()"
   ]
  },
  {
   "cell_type": "code",
   "execution_count": 212,
   "metadata": {},
   "outputs": [],
   "source": [
    "G.add_node(1)\n",
    "G.add_node(2)\n",
    "G.add_node(3)\n",
    "G.add_node(4)\n",
    "G.add_node(5)"
   ]
  },
  {
   "cell_type": "code",
   "execution_count": 217,
   "metadata": {},
   "outputs": [],
   "source": [
    "G.add_edge(1,2)\n",
    "G.add_edge(2,3)\n",
    "G.add_edge(1,3)\n",
    "G.add_edge(1,4)\n",
    "G.add_edge(4,5)"
   ]
  },
  {
   "cell_type": "code",
   "execution_count": 218,
   "metadata": {},
   "outputs": [
    {
     "data": {
      "image/png": "[encoded data removed]",
      "text/plain": [
       "<Figure size 432x288 with 1 Axes>"
      ]
     },
     "metadata": {},
     "output_type": "display_data"
    }
   ],
   "source": [
    "networkx.draw(G)"
   ]
  },
  {
   "cell_type": "code",
   "execution_count": 220,
   "metadata": {},
   "outputs": [],
   "source": [
    "X = networkx.adj_matrix(G)"
   ]
  },
  {
   "cell_type": "code",
   "execution_count": 221,
   "metadata": {},
   "outputs": [
    {
     "data": {
      "text/plain": [
       "array([[0, 1, 1, 1, 0],\n",
       "       [1, 0, 1, 0, 0],\n",
       "       [1, 1, 0, 0, 0],\n",
       "       [1, 0, 0, 0, 1],\n",
       "       [0, 0, 0, 1, 0]], dtype=int64)"
      ]
     },
     "execution_count": 221,
     "metadata": {},
     "output_type": "execute_result"
    }
   ],
   "source": [
    "X.toarray()"
   ]
  },
  {
   "cell_type": "markdown",
   "metadata": {},
   "source": [
    "## 使用Louvain 做文章分群"
   ]
  },
  {
   "cell_type": "code",
   "execution_count": 222,
   "metadata": {},
   "outputs": [],
   "source": [
    "import pandas\n",
    "news = pandas.read_excel('https://raw.githubusercontent.com/ywchiu/taipeifubon/master/data/20171214news.xlsx', index_col = 0)"
   ]
  },
  {
   "cell_type": "code",
   "execution_count": 223,
   "metadata": {},
   "outputs": [],
   "source": [
    "import jieba\n",
    "jieba.load_userdict('userdict.txt')\n",
    "corpus = []\n",
    "titles = []\n",
    "for idx, rec in news.iterrows():\n",
    "    corpus.append(' '.join(jieba.cut(rec.get('content'))))\n",
    "    titles.append(rec.get('title'))"
   ]
  },
  {
   "cell_type": "code",
   "execution_count": 225,
   "metadata": {},
   "outputs": [],
   "source": [
    "from sklearn.feature_extraction.text import CountVectorizer\n",
    "vectorizer = CountVectorizer()\n",
    "X = vectorizer.fit_transform(corpus)"
   ]
  },
  {
   "cell_type": "code",
   "execution_count": 226,
   "metadata": {},
   "outputs": [],
   "source": [
    "from sklearn.metrics.pairwise import cosine_distances\n",
    "cs = cosine_distances(X)"
   ]
  },
  {
   "cell_type": "code",
   "execution_count": 230,
   "metadata": {},
   "outputs": [],
   "source": [
    "cutoff = 0.5\n",
    "m = (cs < 0.5).astype(int)"
   ]
  },
  {
   "cell_type": "code",
   "execution_count": 232,
   "metadata": {},
   "outputs": [],
   "source": [
    "import networkx\n",
    "G = networkx.from_numpy_matrix(m)"
   ]
  },
  {
   "cell_type": "code",
   "execution_count": 234,
   "metadata": {},
   "outputs": [],
   "source": [
    "#networkx.draw(G)\n",
    "networkx.write_graphml(G, '/Users/davidchiu/Desktop/article.graphml')"
   ]
  },
  {
   "cell_type": "code",
   "execution_count": 235,
   "metadata": {},
   "outputs": [
    {
     "name": "stdout",
     "output_type": "stream",
     "text": [
      "Requirement already satisfied: python-louvain in /Users/davidchiu/.pyenv/versions/3.6.2/lib/python3.6/site-packages (0.13)\r\n",
      "Requirement already satisfied: networkx in /Users/davidchiu/.pyenv/versions/3.6.2/lib/python3.6/site-packages (from python-louvain) (2.4)\r\n",
      "Requirement already satisfied: decorator>=4.3.0 in /Users/davidchiu/.pyenv/versions/3.6.2/lib/python3.6/site-packages (from networkx->python-louvain) (4.4.1)\r\n"
     ]
    }
   ],
   "source": [
    "! pip install python-louvain"
   ]
  },
  {
   "cell_type": "code",
   "execution_count": 238,
   "metadata": {},
   "outputs": [],
   "source": [
    "import community\n",
    "comm = community.best_partition(G)\n",
    "#comm\n"
   ]
  },
  {
   "cell_type": "code",
   "execution_count": 239,
   "metadata": {},
   "outputs": [],
   "source": [
    "cluster_ary = np.array(list(comm.values()) )"
   ]
  },
  {
   "cell_type": "code",
   "execution_count": 241,
   "metadata": {},
   "outputs": [],
   "source": [
    "#cluster_ary"
   ]
  },
  {
   "cell_type": "code",
   "execution_count": 248,
   "metadata": {},
   "outputs": [
    {
     "data": {
      "text/plain": [
       "[(3, 30),\n",
       " (70, 20),\n",
       " (114, 8),\n",
       " (141, 8),\n",
       " (142, 5),\n",
       " (153, 5),\n",
       " (124, 4),\n",
       " (195, 4),\n",
       " (334, 4),\n",
       " (599, 4)]"
      ]
     },
     "execution_count": 248,
     "metadata": {},
     "output_type": "execute_result"
    }
   ],
   "source": [
    "from collections import Counter\n",
    "c = Counter(cluster_ary)\n",
    "c.most_common(10)"
   ]
  },
  {
   "cell_type": "code",
   "execution_count": 242,
   "metadata": {},
   "outputs": [],
   "source": [
    "np_titles = numpy.array(titles)"
   ]
  },
  {
   "cell_type": "code",
   "execution_count": 252,
   "metadata": {},
   "outputs": [
    {
     "data": {
      "text/plain": [
       "['【美夢一場】美台軍艦互訪皆是空？\\u3000卜睿哲：川普不會執行',\n",
       " '美國會授權軍艦來台\\u3000蒲博思：總統職權不需國會指揮',\n",
       " '美台軍艦互訪寫入國會意見\\u3000前高官：川普不會執行',\n",
       " '川普簽NDAA評估美台軍艦互停\\u3000立委憂台灣成籌碼',\n",
       " '美台軍艦互訪？\\u3000陸國台辦：挾洋自重不可能得逞',\n",
       " '美國務卿首度未提《台灣關係法》\\u3000外交部：對台政策不變',\n",
       " '川普簽署國防授權法\\u3000美艦停台列國會意見',\n",
       " '【誰怕誰】中國嗆武統台灣\\u3000美議員：美台應聯合軍演']"
      ]
     },
     "execution_count": 252,
     "metadata": {},
     "output_type": "execute_result"
    }
   ],
   "source": [
    "np_titles[cluster_ary == 141].tolist()"
   ]
  },
  {
   "cell_type": "code",
   "execution_count": 256,
   "metadata": {},
   "outputs": [
    {
     "name": "stdout",
     "output_type": "stream",
     "text": [
      "第3群 - 共30篇文章\n",
      "【特企】NGO聯名譴責中共迫害宗教信仰\n",
      "==========================\n",
      "第70群 - 共20篇文章\n",
      "【狗仔偷拍】小嫻搬離何守正家租66坪房　月租6萬元\n",
      "==========================\n",
      "第114群 - 共8篇文章\n",
      "驚！　野生捕獲恐龍遛汪星人\n",
      "==========================\n",
      "第141群 - 共8篇文章\n",
      "【美夢一場】美台軍艦互訪皆是空？　卜睿哲：川普不會執行\n",
      "==========================\n",
      "第142群 - 共5篇文章\n",
      "【咩姊台語】做直銷開公司建人脈　張誌家與前妻吸千萬捲款\n",
      "==========================\n",
      "第153群 - 共5篇文章\n",
      "【搏感情動畫】台電每年30億敦親睦鄰費　協助立委選民服務\n",
      "==========================\n",
      "第124群 - 共4篇文章\n",
      "打臉提勒森　白宮：現在不是與北韓談判的時機\n",
      "==========================\n",
      "第195群 - 共4篇文章\n",
      " 回應北檢聲明　徐巧芯 ：不要事情鬧大了才推給媒體\n",
      "==========================\n",
      "第334群 - 共4篇文章\n",
      "【壹週刊】百億貸款將到期　柯P放容積解套京華城\n",
      "==========================\n",
      "第599群 - 共4篇文章\n",
      "海嘯哥登Google暴紅運動員冠軍\n",
      "==========================\n"
     ]
    }
   ],
   "source": [
    "from collections import Counter\n",
    "c = Counter(cluster_ary)\n",
    "for group, cnt in c.most_common(10):\n",
    "    articles = np_titles[cluster_ary == group]\n",
    "    print('第{}群 - 共{}篇文章'.format(group, cnt))\n",
    "    print(articles.tolist()[0])\n",
    "    print('==========================')\n"
   ]
  },
  {
   "cell_type": "markdown",
   "metadata": {},
   "source": [
    "## 小練習\n",
    "- 請使用社群偵測法，找出2015年6月28號當天有哪些文章主題，並列舉該主題下的文章，文章數量與前十大主題關鍵字\n",
    "(https://raw.githubusercontent.com/ywchiu/taipeifubon/master/data/20150628news.xlsx)"
   ]
  },
  {
   "cell_type": "code",
   "execution_count": null,
   "metadata": {},
   "outputs": [],
   "source": []
  }
 ],
 "metadata": {
  "kernelspec": {
   "display_name": "Python 3",
   "language": "python",
   "name": "python3"
  },
  "language_info": {
   "codemirror_mode": {
    "name": "ipython",
    "version": 3
   },
   "file_extension": ".py",
   "mimetype": "text/x-python",
   "name": "python",
   "nbconvert_exporter": "python",
   "pygments_lexer": "ipython3",
   "version": "3.6.2"
  }
 },
 "nbformat": 4,
 "nbformat_minor": 2
}
