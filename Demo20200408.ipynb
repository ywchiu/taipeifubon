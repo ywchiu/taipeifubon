{
 "cells": [
  {
   "cell_type": "code",
   "execution_count": 11,
   "metadata": {},
   "outputs": [],
   "source": [
    "contents = [\"大巨蛋案對市府同仁下封口令？柯P否認\", \"柯P市府近來飽受大巨蛋爭議\"]"
   ]
  },
  {
   "cell_type": "code",
   "execution_count": 19,
   "metadata": {},
   "outputs": [],
   "source": [
    "import jieba\n",
    "jieba.load_userdict('userdict.txt')\n",
    "corpus = []\n",
    "for sentence in contents:\n",
    "    #print(list(jieba.cut(sentence)))\n",
    "    corpus.append(' '.join(jieba.cut(sentence)))"
   ]
  },
  {
   "cell_type": "code",
   "execution_count": 20,
   "metadata": {},
   "outputs": [
    {
     "data": {
      "text/plain": [
       "['大巨蛋 案對 市府 同仁 下 封口令 ？ 柯P 否認', '柯P 市府 近來 飽受 大巨蛋 爭議']"
      ]
     },
     "execution_count": 20,
     "metadata": {},
     "output_type": "execute_result"
    }
   ],
   "source": [
    "corpus"
   ]
  },
  {
   "cell_type": "code",
   "execution_count": 23,
   "metadata": {},
   "outputs": [
    {
     "data": {
      "text/plain": [
       "<2x10 sparse matrix of type '<class 'numpy.longlong'>'\n",
       "\twith 13 stored elements in Compressed Sparse Row format>"
      ]
     },
     "execution_count": 23,
     "metadata": {},
     "output_type": "execute_result"
    }
   ],
   "source": [
    "from sklearn.feature_extraction.text import CountVectorizer\n",
    "vectorizer = CountVectorizer()\n",
    "X = vectorizer.fit_transform(corpus)\n",
    "X"
   ]
  },
  {
   "cell_type": "code",
   "execution_count": 25,
   "metadata": {},
   "outputs": [
    {
     "name": "stdout",
     "output_type": "stream",
     "text": [
      "['同仁', '否認', '大巨蛋', '封口令', '市府', '柯p', '案對', '爭議', '近來', '飽受']\n"
     ]
    }
   ],
   "source": [
    "print(vectorizer.get_feature_names())"
   ]
  },
  {
   "cell_type": "code",
   "execution_count": 24,
   "metadata": {},
   "outputs": [
    {
     "data": {
      "text/plain": [
       "array([[1, 1, 1, 1, 1, 1, 1, 0, 0, 0],\n",
       "       [0, 0, 1, 0, 1, 1, 0, 1, 1, 1]], dtype=int64)"
      ]
     },
     "execution_count": 24,
     "metadata": {},
     "output_type": "execute_result"
    }
   ],
   "source": [
    "X.toarray()"
   ]
  },
  {
   "cell_type": "code",
   "execution_count": 26,
   "metadata": {},
   "outputs": [
    {
     "data": {
      "text/plain": [
       "array([[1.        , 0.46291005],\n",
       "       [0.46291005, 1.        ]])"
      ]
     },
     "execution_count": 26,
     "metadata": {},
     "output_type": "execute_result"
    }
   ],
   "source": [
    "from sklearn.metrics.pairwise import cosine_distances, cosine_similarity\n",
    "cosine_similarity(X)"
   ]
  },
  {
   "cell_type": "code",
   "execution_count": 27,
   "metadata": {},
   "outputs": [
    {
     "data": {
      "text/plain": [
       "array([[0.        , 0.53708995],\n",
       "       [0.53708995, 0.        ]])"
      ]
     },
     "execution_count": 27,
     "metadata": {},
     "output_type": "execute_result"
    }
   ],
   "source": [
    "cosine_distances(X)"
   ]
  },
  {
   "cell_type": "markdown",
   "metadata": {},
   "source": [
    "## 根據新聞相似度推薦新聞"
   ]
  },
  {
   "cell_type": "code",
   "execution_count": 30,
   "metadata": {},
   "outputs": [],
   "source": [
    "import pandas\n",
    "news = pandas.read_excel('https://raw.githubusercontent.com/ywchiu/taipeifubon/master/data/20171214news.xlsx', index_col = 0)"
   ]
  },
  {
   "cell_type": "code",
   "execution_count": 36,
   "metadata": {},
   "outputs": [],
   "source": [
    "import jieba\n",
    "jieba.load_userdict('userdict.txt')\n",
    "corpus = []\n",
    "titles = []\n",
    "for idx, rec in news.iterrows():\n",
    "    corpus.append(' '.join(jieba.cut(rec.get('content'))))\n",
    "    titles.append(rec.get('title'))"
   ]
  },
  {
   "cell_type": "code",
   "execution_count": 38,
   "metadata": {},
   "outputs": [
    {
     "data": {
      "text/plain": [
       "'【更新】水利會改官派明闖關\\u3000綠委24小時前顧議場大門防藍突襲'"
      ]
     },
     "execution_count": 38,
     "metadata": {},
     "output_type": "execute_result"
    }
   ],
   "source": [
    "#corpus[0]\n",
    "titles[0]"
   ]
  },
  {
   "cell_type": "code",
   "execution_count": 40,
   "metadata": {},
   "outputs": [],
   "source": [
    "from sklearn.feature_extraction.text import CountVectorizer\n",
    "vectorizer = CountVectorizer()\n",
    "X = vectorizer.fit_transform(corpus)"
   ]
  },
  {
   "cell_type": "code",
   "execution_count": 41,
   "metadata": {},
   "outputs": [
    {
     "data": {
      "text/plain": [
       "<899x28957 sparse matrix of type '<class 'numpy.longlong'>'\n",
       "\twith 122298 stored elements in Compressed Sparse Row format>"
      ]
     },
     "execution_count": 41,
     "metadata": {},
     "output_type": "execute_result"
    }
   ],
   "source": [
    "X"
   ]
  },
  {
   "cell_type": "code",
   "execution_count": 43,
   "metadata": {},
   "outputs": [
    {
     "data": {
      "text/plain": [
       "(899, 899)"
      ]
     },
     "execution_count": 43,
     "metadata": {},
     "output_type": "execute_result"
    }
   ],
   "source": [
    "from sklearn.metrics.pairwise import cosine_distances\n",
    "cs = cosine_distances(X)\n",
    "cs.shape"
   ]
  },
  {
   "cell_type": "code",
   "execution_count": 46,
   "metadata": {},
   "outputs": [
    {
     "data": {
      "text/plain": [
       "'黃國昌：長期目標要消滅國民黨\\u3000不支持柯文哲的兩岸一家親'"
      ]
     },
     "execution_count": 46,
     "metadata": {},
     "output_type": "execute_result"
    }
   ],
   "source": [
    "titles[12]"
   ]
  },
  {
   "cell_type": "code",
   "execution_count": 48,
   "metadata": {},
   "outputs": [
    {
     "data": {
      "text/plain": [
       "(899,)"
      ]
     },
     "execution_count": 48,
     "metadata": {},
     "output_type": "execute_result"
    }
   ],
   "source": [
    "cs[12].shape"
   ]
  },
  {
   "cell_type": "code",
   "execution_count": 52,
   "metadata": {},
   "outputs": [
    {
     "data": {
      "text/plain": [
       "array([1, 2, 0, 3, 5, 4])"
      ]
     },
     "execution_count": 52,
     "metadata": {},
     "output_type": "execute_result"
    }
   ],
   "source": [
    "import numpy \n",
    "students = [60,30,40,70,90,80,]\n",
    "students_ary = numpy.array(students)\n",
    "students_ary.argsort()"
   ]
  },
  {
   "cell_type": "code",
   "execution_count": 56,
   "metadata": {},
   "outputs": [
    {
     "name": "stdout",
     "output_type": "stream",
     "text": [
      "黃國昌：長期目標要消滅國民黨　不支持柯文哲的兩岸一家親 0.0\n",
      "黃國昌若被罷免會更強　他：成為選輸北市的阿扁 0.5542565596535691\n",
      "罷免案將投票　李遠哲今再度現身力挺黃國昌 0.5752596978859429\n",
      "「兩蔣時代」超譯　網友：不准傷皇城內的和氣！ 0.5938835126582123\n",
      "罷昌案周六投票　時代力量全力澄清不實謠言 0.6402804718905146\n",
      "【聲援片】沈發惠呼籲罷昌案投「不同意」　黃國昌：謝謝您 0.7003246342755608\n",
      "宗教團體可曾想過：黃國昌犀利形象恐越打越旺 0.7749027801375493\n",
      "【歷史上的今天】幫黃國昌站台　蔡英文：我有準備當總統了 0.7803630780883579\n",
      "【更新】水利會改官派明闖關　綠委24小時前顧議場大門防藍突襲 0.7869878365124581\n",
      "臉書在台灣繳稅太少　財政部將進一步追稅 0.7926505336912069\n"
     ]
    }
   ],
   "source": [
    "for idx in cs[12].argsort()[0:10]:\n",
    "    print(titles[idx], cs[12][idx])"
   ]
  },
  {
   "cell_type": "code",
   "execution_count": 58,
   "metadata": {},
   "outputs": [
    {
     "name": "stdout",
     "output_type": "stream",
     "text": [
      "查詢文章: 黃國昌：長期目標要消滅國民黨　不支持柯文哲的兩岸一家親\n",
      "相關文章 黃國昌若被罷免會更強　他：成為選輸北市的阿扁 0.5542565596535691\n",
      "相關文章 罷免案將投票　李遠哲今再度現身力挺黃國昌 0.5752596978859429\n",
      "相關文章 「兩蔣時代」超譯　網友：不准傷皇城內的和氣！ 0.5938835126582123\n",
      "相關文章 罷昌案周六投票　時代力量全力澄清不實謠言 0.6402804718905146\n"
     ]
    }
   ],
   "source": [
    "pos = 12\n",
    "print('查詢文章:',titles[pos])\n",
    "for idx in cs[pos].argsort()[1:10]:\n",
    "    if cs[pos][idx] < 0.7:\n",
    "        print('相關文章',titles[idx], cs[pos][idx])"
   ]
  },
  {
   "cell_type": "code",
   "execution_count": 59,
   "metadata": {},
   "outputs": [],
   "source": [
    "def getSimiliarNews(pos):\n",
    "    print('查詢文章:',titles[pos])\n",
    "    for idx in cs[pos].argsort()[1:10]:\n",
    "        if cs[pos][idx] < 0.7:\n",
    "            print('相關文章',titles[idx], cs[pos][idx])"
   ]
  },
  {
   "cell_type": "code",
   "execution_count": 65,
   "metadata": {},
   "outputs": [
    {
     "name": "stdout",
     "output_type": "stream",
     "text": [
      "查詢文章: FBI探員罵川普「白痴」　遭調離通俄門調查\n",
      "相關文章 【公道難伸張】再控川普性騷　受害者：沒人在乎很受傷 0.6434278035355978\n",
      "相關文章 老謝：美菲2位狂人兄弟 今年交出不錯成績單　 0.6502913209540035\n",
      "相關文章 否認性騷指控　川普：民主黨編的假新聞 0.6754198672772045\n",
      "相關文章 諷參議員陸天娜「為錢啥都做」　川普遭美媒批不適任總統 0.6984356814409867\n"
     ]
    }
   ],
   "source": [
    "getSimiliarNews(35)"
   ]
  },
  {
   "cell_type": "code",
   "execution_count": 67,
   "metadata": {},
   "outputs": [],
   "source": [
    "q = '黃國昌 李遠哲'\n",
    "q_list = [' '.join(jieba.cut(q))]"
   ]
  },
  {
   "cell_type": "code",
   "execution_count": 71,
   "metadata": {},
   "outputs": [
    {
     "data": {
      "text/plain": [
       "<1x28957 sparse matrix of type '<class 'numpy.int64'>'\n",
       "\twith 2 stored elements in Compressed Sparse Row format>"
      ]
     },
     "execution_count": 71,
     "metadata": {},
     "output_type": "execute_result"
    }
   ],
   "source": [
    "q_vec = vectorizer.transform(q_list)\n",
    "q_vec"
   ]
  },
  {
   "cell_type": "code",
   "execution_count": 73,
   "metadata": {},
   "outputs": [],
   "source": [
    "q_cs = cosine_distances(q_vec, X)"
   ]
  },
  {
   "cell_type": "code",
   "execution_count": 74,
   "metadata": {},
   "outputs": [
    {
     "data": {
      "text/plain": [
       "(1, 899)"
      ]
     },
     "execution_count": 74,
     "metadata": {},
     "output_type": "execute_result"
    }
   ],
   "source": [
    "q_cs.shape"
   ]
  },
  {
   "cell_type": "code",
   "execution_count": 79,
   "metadata": {},
   "outputs": [
    {
     "data": {
      "text/plain": [
       "182"
      ]
     },
     "execution_count": 79,
     "metadata": {},
     "output_type": "execute_result"
    }
   ],
   "source": [
    "q_cs.argsort()[0][0]"
   ]
  },
  {
   "cell_type": "code",
   "execution_count": 80,
   "metadata": {},
   "outputs": [
    {
     "data": {
      "text/plain": [
       "'黃國昌若被罷免會更強\\u3000他：成為選輸北市的阿扁'"
      ]
     },
     "execution_count": 80,
     "metadata": {},
     "output_type": "execute_result"
    }
   ],
   "source": [
    "titles[182]"
   ]
  },
  {
   "cell_type": "markdown",
   "metadata": {},
   "source": [
    "## 小任務(一)\n",
    "- 請先寫個網路爬蟲爬取台北富邦銀行的常見問題，並將問題與答案整理名為qa的DataFrame？\n",
    "- https://www.fubon.com/banking/faq/index.htm"
   ]
  },
  {
   "cell_type": "code",
   "execution_count": 83,
   "metadata": {},
   "outputs": [],
   "source": [
    "import requests\n",
    "from bs4 import BeautifulSoup\n",
    "res = requests.get('https://www.fubon.com/banking/FAQ_Data//faq/index_data/faqData1.xml')\n",
    "soup = BeautifulSoup(res.text, 'lxml')"
   ]
  },
  {
   "cell_type": "code",
   "execution_count": 89,
   "metadata": {},
   "outputs": [],
   "source": [
    "qa_ary = []\n",
    "for item in soup.select('item'):\n",
    "    question = item.select_one('title').text\n",
    "    answer_tmp = item.select_one('description').text\n",
    "    answer = BeautifulSoup(answer_tmp, 'lxml')\n",
    "    dic = {'question': question, 'answer': answer.text}\n",
    "    qa_ary.append(dic)"
   ]
  },
  {
   "cell_type": "code",
   "execution_count": 90,
   "metadata": {},
   "outputs": [
    {
     "data": {
      "text/html": [
       "<div>\n",
       "<style scoped>\n",
       "    .dataframe tbody tr th:only-of-type {\n",
       "        vertical-align: middle;\n",
       "    }\n",
       "\n",
       "    .dataframe tbody tr th {\n",
       "        vertical-align: top;\n",
       "    }\n",
       "\n",
       "    .dataframe thead th {\n",
       "        text-align: right;\n",
       "    }\n",
       "</style>\n",
       "<table border=\"1\" class=\"dataframe\">\n",
       "  <thead>\n",
       "    <tr style=\"text-align: right;\">\n",
       "      <th></th>\n",
       "      <th>answer</th>\n",
       "      <th>question</th>\n",
       "    </tr>\n",
       "  </thead>\n",
       "  <tbody>\n",
       "    <tr>\n",
       "      <th>0</th>\n",
       "      <td>感謝您申辦本行信用卡，如您尚需補件，請您備妥相關資料並在文件上註明「身分證字號」、「聯絡電話...</td>\n",
       "      <td>申請信用卡有缺少資料應如何補件？</td>\n",
       "    </tr>\n",
       "    <tr>\n",
       "      <th>1</th>\n",
       "      <td>只要是作業系統為 Android 5.0以上且內建NFC功能的手機即可使用。為確保交易穩定性...</td>\n",
       "      <td>什麼型號的手機可支援HCE行動信用卡？</td>\n",
       "    </tr>\n",
       "    <tr>\n",
       "      <th>2</th>\n",
       "      <td>請確認您輸入的註冊手機門號是否有誤、是否有設定阻擋企業簡訊功能。</td>\n",
       "      <td>註冊「台灣行動支付」APP時沒有收到驗證碼，請問怎麼辦？</td>\n",
       "    </tr>\n",
       "    <tr>\n",
       "      <th>3</th>\n",
       "      <td>可以，但若您留存於本行的手機門號並非目前實際使用的門號，請務必致電本行客服中心更新您的手機門...</td>\n",
       "      <td>註冊「台灣行動支付」APP之手機門號可以和留存於銀行之手機門號不同嗎？</td>\n",
       "    </tr>\n",
       "    <tr>\n",
       "      <th>4</th>\n",
       "      <td>您可透過拍攝或手動輸入您欲下載的卡號、有效期限、卡片背面簽名欄後3碼（實體卡片需先完成開卡）...</td>\n",
       "      <td>如何將卡片新增於我的手機上？</td>\n",
       "    </tr>\n",
       "  </tbody>\n",
       "</table>\n",
       "</div>"
      ],
      "text/plain": [
       "                                              answer  \\\n",
       "0  感謝您申辦本行信用卡，如您尚需補件，請您備妥相關資料並在文件上註明「身分證字號」、「聯絡電話...   \n",
       "1  只要是作業系統為 Android 5.0以上且內建NFC功能的手機即可使用。為確保交易穩定性...   \n",
       "2                   請確認您輸入的註冊手機門號是否有誤、是否有設定阻擋企業簡訊功能。   \n",
       "3  可以，但若您留存於本行的手機門號並非目前實際使用的門號，請務必致電本行客服中心更新您的手機門...   \n",
       "4  您可透過拍攝或手動輸入您欲下載的卡號、有效期限、卡片背面簽名欄後3碼（實體卡片需先完成開卡）...   \n",
       "\n",
       "                              question  \n",
       "0                     申請信用卡有缺少資料應如何補件？  \n",
       "1                  什麼型號的手機可支援HCE行動信用卡？  \n",
       "2         註冊「台灣行動支付」APP時沒有收到驗證碼，請問怎麼辦？  \n",
       "3  註冊「台灣行動支付」APP之手機門號可以和留存於銀行之手機門號不同嗎？  \n",
       "4                       如何將卡片新增於我的手機上？  "
      ]
     },
     "execution_count": 90,
     "metadata": {},
     "output_type": "execute_result"
    }
   ],
   "source": [
    "import pandas\n",
    "qa = pandas.DataFrame(qa_ary)\n",
    "qa.head()"
   ]
  },
  {
   "cell_type": "code",
   "execution_count": 91,
   "metadata": {},
   "outputs": [
    {
     "data": {
      "text/plain": [
       "231"
      ]
     },
     "execution_count": 91,
     "metadata": {},
     "output_type": "execute_result"
    }
   ],
   "source": [
    "len(qa)"
   ]
  },
  {
   "cell_type": "markdown",
   "metadata": {},
   "source": [
    "## 小任務 (二)\n",
    "- 試著建立一個依內容相似度回應答案的問答機器人，當使用者輸入問題時，機器人可以依相似問題給予對應答案\n"
   ]
  },
  {
   "cell_type": "code",
   "execution_count": 96,
   "metadata": {},
   "outputs": [],
   "source": [
    "import jieba\n",
    "jieba.load_userdict('/Users/davidchiu/Desktop/userdict2.txt')"
   ]
  },
  {
   "cell_type": "markdown",
   "metadata": {},
   "source": [
    "### 根據 qa DataFrame建立詞頻矩陣"
   ]
  },
  {
   "cell_type": "code",
   "execution_count": 113,
   "metadata": {},
   "outputs": [],
   "source": [
    "import jieba\n",
    "jieba.load_userdict('userdict.txt')\n",
    "corpus = []\n",
    "answers = []\n",
    "for idx, rec in qa.iterrows():\n",
    "    corpus.append(' '.join(jieba.cut(rec.get('question'))))\n",
    "    answers.append(rec.get('answer'))"
   ]
  },
  {
   "cell_type": "markdown",
   "metadata": {},
   "source": [
    "### 使用sklearn 的CountVectorizer 建立詞頻矩陣"
   ]
  },
  {
   "cell_type": "code",
   "execution_count": 114,
   "metadata": {},
   "outputs": [],
   "source": [
    "from sklearn.feature_extraction.text import CountVectorizer\n",
    "vectorizer = CountVectorizer()\n",
    "X = vectorizer.fit_transform(corpus)"
   ]
  },
  {
   "cell_type": "code",
   "execution_count": 115,
   "metadata": {},
   "outputs": [
    {
     "data": {
      "text/plain": [
       "<231x559 sparse matrix of type '<class 'numpy.longlong'>'\n",
       "\twith 1971 stored elements in Compressed Sparse Row format>"
      ]
     },
     "execution_count": 115,
     "metadata": {},
     "output_type": "execute_result"
    }
   ],
   "source": [
    "X"
   ]
  },
  {
   "cell_type": "markdown",
   "metadata": {},
   "source": [
    "### 把使用者輸入的問題變成是詞向量"
   ]
  },
  {
   "cell_type": "code",
   "execution_count": 117,
   "metadata": {},
   "outputs": [
    {
     "name": "stdout",
     "output_type": "stream",
     "text": [
      "請輸入你的問題:如何計算就學貸款額度?\n"
     ]
    }
   ],
   "source": [
    "user_query = input('請輸入你的問題:')\n",
    "user_query_list = [' '.join(jieba.cut(user_query))]"
   ]
  },
  {
   "cell_type": "code",
   "execution_count": 118,
   "metadata": {},
   "outputs": [
    {
     "data": {
      "text/plain": [
       "['如何 計算 就學 貸款 額度 ?']"
      ]
     },
     "execution_count": 118,
     "metadata": {},
     "output_type": "execute_result"
    }
   ],
   "source": [
    "user_query_list"
   ]
  },
  {
   "cell_type": "code",
   "execution_count": 119,
   "metadata": {},
   "outputs": [],
   "source": [
    "user_query_vec = vectorizer.transform(user_query_list)"
   ]
  },
  {
   "cell_type": "code",
   "execution_count": 120,
   "metadata": {},
   "outputs": [
    {
     "data": {
      "text/plain": [
       "<1x559 sparse matrix of type '<class 'numpy.int64'>'\n",
       "\twith 5 stored elements in Compressed Sparse Row format>"
      ]
     },
     "execution_count": 120,
     "metadata": {},
     "output_type": "execute_result"
    }
   ],
   "source": [
    "user_query_vec"
   ]
  },
  {
   "cell_type": "markdown",
   "metadata": {},
   "source": [
    "### 根據使用者輸入的問題給予最相近的答案"
   ]
  },
  {
   "cell_type": "code",
   "execution_count": 121,
   "metadata": {},
   "outputs": [],
   "source": [
    "from sklearn.metrics.pairwise import cosine_distances\n",
    "cs  = cosine_distances(user_query_vec, X)"
   ]
  },
  {
   "cell_type": "code",
   "execution_count": 122,
   "metadata": {},
   "outputs": [
    {
     "data": {
      "text/plain": [
       "(1, 231)"
      ]
     },
     "execution_count": 122,
     "metadata": {},
     "output_type": "execute_result"
    }
   ],
   "source": [
    "cs.shape"
   ]
  },
  {
   "cell_type": "code",
   "execution_count": 123,
   "metadata": {},
   "outputs": [
    {
     "data": {
      "text/plain": [
       "'就學 貸款 之 額度 如何 計算 ？'"
      ]
     },
     "execution_count": 123,
     "metadata": {},
     "output_type": "execute_result"
    }
   ],
   "source": [
    "corpus[cs.argsort()[0][0]]"
   ]
  },
  {
   "cell_type": "code",
   "execution_count": 124,
   "metadata": {},
   "outputs": [
    {
     "data": {
      "text/plain": [
       "'1.學生申請就學貸款之金額，以下列各項費用為範圍：\\n\\n(1.)學雜費：其金額為該學期實際繳納者。【另依據教育部93 年7 月29 日台高（四）字第0930097146 號函釋：鑒於「音樂指導費」為音樂系學生應繳納費用之一，故得納入學雜費貸款金額項下。】\\n(2.)實習費：其金額為該學期實際繳納者。\\n(3.)書籍費：高級中等學校為每生每學期新臺幣1,000 元；專科以上學校為每生每學期新臺幣3,000 元。\\n(4.)住宿費：其金額為該校住校宿舍費，校外住宿學生申貸之住宿費，以該校住校宿舍費之最高者為基準。\\n(5.)學生團體保險費：其金額為該學期實際繳納者。\\n(6.)海外研修費：每生每年以新臺幣44 萬元為上限。(需檢附蓋有學校戳章之「申請就學貸款海外研修費證明」)。\\n(7.)生活費：低收入戶學生，每生每學期以新臺幣4 萬元為上限；中低收入戶學生，每生每學期以新臺幣2 萬元為上限。生活費貸款者，應為經直轄市、縣（市）社政主管機關核定為低收入戶或中低收入戶之學生。\\n(8.)電腦及網路通訊使用費：其金額依該管主管機關之規定。\\n\\n2.享受全部公費之公費生或已獲得政府主辦之其他無息助學貸款者，不得申請就學貸款。但辦理學雜費減免或已請領教育部助學金之學生，得就學雜等各費減除學雜費減免或教育部助學金後之差額申請就學貸款。\\n3.書籍費、校外住宿費或生活費由學校逕行發給學生。\\n4.就學貸款原則採「每一教育階段學程簽訂一張總額度借據」方式辦理。每一教育階段學程總額度，係由本行依據第1 點所列7 個可申貸項目，估算每一教育階段學程所需花費之總金額而訂定（例如高中階段是估算6 個學期所需花費之金額），並一體適用於各該教育階段之申請人。\\n5.借據所定借款額度如因學生在國內就學時間延長或學雜各費調漲等事由而致不敷使用者，依借據之約定，本行得於知悉該事由時，以「借款額度調整通知書」通知學生及連帶保證人調整後之額度，學生及其連帶保證人則應就實際申請撥款之合計金額負還款責任。'"
      ]
     },
     "execution_count": 124,
     "metadata": {},
     "output_type": "execute_result"
    }
   ],
   "source": [
    "answers[cs.argsort()[0][0]]"
   ]
  },
  {
   "cell_type": "code",
   "execution_count": 126,
   "metadata": {},
   "outputs": [],
   "source": [
    "def getAnswer(user_query):\n",
    "    user_query_list = [' '.join(jieba.cut(user_query))]    \n",
    "    user_query_vec = vectorizer.transform(user_query_list)\n",
    "    cs  = cosine_distances(user_query_vec, X)\n",
    "    return answers[cs.argsort()[0][0]]"
   ]
  },
  {
   "cell_type": "code",
   "execution_count": 128,
   "metadata": {},
   "outputs": [
    {
     "name": "stdout",
     "output_type": "stream",
     "text": [
      "請輸入你的問題:請問申請信用貸款會有哪些費用？\n",
      "本行信用貸款僅收取帳戶管理費與匯款手續費，上述費用將於撥款時自借款金額中扣除，除此之外並無任何其他費用，撥貸前亦不會跟您收取任何費用。若您辦理信用貸款時，遭要求「先匯款」或「收取現金」者，應屬代辦公司業務招攬方式，請勿向其申辦，請直接與申辦專線0809-01-02-03聯繫申辦。\n"
     ]
    }
   ],
   "source": [
    "user_query = input('請輸入你的問題:')\n",
    "print(getAnswer(user_query))"
   ]
  },
  {
   "cell_type": "code",
   "execution_count": null,
   "metadata": {},
   "outputs": [],
   "source": []
  }
 ],
 "metadata": {
  "kernelspec": {
   "display_name": "Python 3",
   "language": "python",
   "name": "python3"
  },
  "language_info": {
   "codemirror_mode": {
    "name": "ipython",
    "version": 3
   },
   "file_extension": ".py",
   "mimetype": "text/x-python",
   "name": "python",
   "nbconvert_exporter": "python",
   "pygments_lexer": "ipython3",
   "version": "3.6.2"
  }
 },
 "nbformat": 4,
 "nbformat_minor": 2
}
