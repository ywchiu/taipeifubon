{
 "cells": [
  {
   "cell_type": "code",
   "execution_count": 1,
   "metadata": {},
   "outputs": [
    {
     "name": "stdout",
     "output_type": "stream",
     "text": [
      "Requirement already satisfied: PyPDF2 in /Users/davidchiu/.pyenv/versions/3.6.2/lib/python3.6/site-packages (1.26.0)\r\n"
     ]
    }
   ],
   "source": [
    "! pip install PyPDF2"
   ]
  },
  {
   "cell_type": "code",
   "execution_count": 2,
   "metadata": {},
   "outputs": [],
   "source": [
    "import requests\n",
    "res = requests.get('https://www-ws.gov.taipei/001/Upload/336/relfile/50513/8096043/5606e265-609f-4155-b5d1-8e2bbfcd3512.pdf')\n",
    "with open('1.pdf', 'wb') as f:\n",
    "    f.write(res.content)"
   ]
  },
  {
   "cell_type": "code",
   "execution_count": 16,
   "metadata": {},
   "outputs": [],
   "source": [
    "! open 1.pdf"
   ]
  },
  {
   "cell_type": "code",
   "execution_count": 136,
   "metadata": {},
   "outputs": [
    {
     "name": "stdout",
     "output_type": "stream",
     "text": [
      "mailto:ct-2067@mail.taipei.gov.tw\n",
      "https://www-ws.gov.taipei/001/Upload/336/relfile/50513/8095064/8ef4fb40-68bc-4576-b38a-0a0ea88a4b31.pdf\n",
      "https://www-ws.gov.taipei/001/Upload/336/relfile/50513/8095064/8ef4fb40-68bc-4576-b38a-0a0ea88a4b31.pdf\n",
      "https://www-ws.gov.taipei/001/Upload/336/relfile/50513/8095064/8ef4fb40-68bc-4576-b38a-0a0ea88a4b31.pdf\n",
      "https://www-ws.gov.taipei/001/Upload/336/relfile/16016/102785/8ad9cf33-696f-47d6-b5c7-dfd8990c85c7.pdf\n",
      "https://www-ws.gov.taipei/001/Upload/336/relfile/16016/102785/9b46aac8-28f5-4691-9718-dbda8e898f35.pdf\n",
      "https://www-ws.gov.taipei/001/Upload/336/relfile/16016/102785/00d6ba34-85c9-427e-b430-50ad3d5cbbb9.pdf\n",
      "https://www-ws.gov.taipei/001/Upload/336/relfile/16016/102785/5bc27fdc-a11f-4489-be45-242ad0b4135a.pdf\n",
      "https://www-ws.gov.taipei/001/Upload/336/relfile/16016/102785/3fe5c6ce-a5d7-48b2-9472-abcf448f1fb2.pdf\n",
      "https://www-ws.gov.taipei/001/Upload/336/relfile/50513/8095064/ffee9c69-e50f-46ee-8339-51e240e38cf2.pdf\n",
      "https://www-ws.gov.taipei/001/Upload/336/relfile/50513/8095064/ffee9c69-e50f-46ee-8339-51e240e38cf2.pdf\n",
      "https://www-ws.gov.taipei/001/Upload/336/relfile/50513/8095064/ffee9c69-e50f-46ee-8339-51e240e38cf2.pdf\n",
      "https://www-ws.gov.taipei/001/Upload/336/relfile/16016/102785/0a99796a-7dfc-42db-8bcb-ca2331f9a593.pdf\n",
      "https://www-ws.gov.taipei/001/Upload/336/relfile/16016/102785/188535f9-405e-4969-95b2-9ab442caaaf7.pdf\n",
      "https://www-ws.gov.taipei/001/Upload/336/relfile/16016/102785/948533a3-c343-4d94-9aa6-fab7dedc6921.pdf\n",
      "https://www-ws.gov.taipei/001/Upload/336/relfile/16016/102785/03ff59c0-82f0-45af-b9cb-9b2736a61d06.pdf\n",
      "https://www-ws.gov.taipei/001/Upload/336/relfile/16016/102785/02ae5c91-9762-472f-86ba-f815c15753fc.pdf\n",
      "https://www-ws.gov.taipei/001/Upload/336/relfile/50513/8095064/820b17ec-768d-4a46-881b-2b7569b9028c.pdf\n",
      "https://www-ws.gov.taipei/001/Upload/336/relfile/50513/8095064/820b17ec-768d-4a46-881b-2b7569b9028c.pdf\n",
      "https://www-ws.gov.taipei/001/Upload/336/relfile/50513/8095064/820b17ec-768d-4a46-881b-2b7569b9028c.pdf\n",
      "https://www-ws.gov.taipei/001/Upload/336/relfile/50513/8095064/820b17ec-768d-4a46-881b-2b7569b9028c.pdf\n",
      "https://www-ws.gov.taipei/001/Upload/336/relfile/50513/8095064/820b17ec-768d-4a46-881b-2b7569b9028c.pdf\n",
      "https://www-ws.gov.taipei/001/Upload/336/relfile/16016/102785/1e9fbccf-7910-41c6-9f54-e781a31680b8.pdf\n",
      "https://www-ws.gov.taipei/001/Upload/336/relfile/16016/102785/b3d63316-46e8-4506-a72f-145ecfd6c699.pdf\n",
      "https://www-ws.gov.taipei/001/Upload/336/relfile/16016/102785/9507e7ed-57b2-4810-a978-43a9837f3c17.pdf\n",
      "https://www-ws.gov.taipei/001/Upload/336/relfile/16016/102785/7018be72-9a24-47b5-b098-21103e70f7ae.pdf\n",
      "https://www-ws.gov.taipei/001/Upload/336/relfile/50513/8095064/e7f2fa01-e8c9-4a2f-bbe1-0570cace116c.pdf\n",
      "https://www-ws.gov.taipei/001/Upload/336/relfile/50513/8095064/e7f2fa01-e8c9-4a2f-bbe1-0570cace116c.pdf\n",
      "https://www-ws.gov.taipei/001/Upload/336/relfile/50513/8095064/e7f2fa01-e8c9-4a2f-bbe1-0570cace116c.pdf\n",
      "https://www-ws.gov.taipei/001/Upload/336/relfile/50513/8095064/e7f2fa01-e8c9-4a2f-bbe1-0570cace116c.pdf\n",
      "https://www-ws.gov.taipei/001/Upload/336/relfile/50513/8095064/e7f2fa01-e8c9-4a2f-bbe1-0570cace116c.pdf\n",
      "https://www-ws.gov.taipei/001/Upload/336/relfile/16016/102785/45d3ae5e-90e3-4a9f-bb61-b80bb20245d5.pdf\n",
      "https://www-ws.gov.taipei/001/Upload/336/relfile/16016/102785/e0490c2d-14e6-4ba4-b753-f7797cafde77.pdf\n",
      "https://www-ws.gov.taipei/001/Upload/336/relfile/16016/102785/924b764c-0919-4a68-aece-99ed2d575c7c.pdf\n",
      "https://www-ws.gov.taipei/001/Upload/336/relfile/16016/102785/1b3fd201-6b22-4bbe-984e-6b39cce0c447.pdf\n",
      "https://www-ws.gov.taipei/001/Upload/336/relfile/50513/8095064/40001fb8-1e7b-4fea-b300-d9765cc12b09.pdf\n",
      "https://www-ws.gov.taipei/001/Upload/336/relfile/50513/8095064/40001fb8-1e7b-4fea-b300-d9765cc12b09.pdf\n",
      "https://www-ws.gov.taipei/001/Upload/336/relfile/50513/8095064/40001fb8-1e7b-4fea-b300-d9765cc12b09.pdf\n",
      "https://www-ws.gov.taipei/001/Upload/336/relfile/50513/8095064/40001fb8-1e7b-4fea-b300-d9765cc12b09.pdf\n",
      "https://www-ws.gov.taipei/001/Upload/336/relfile/50513/8095064/40001fb8-1e7b-4fea-b300-d9765cc12b09.pdf\n",
      "https://www-ws.gov.taipei/001/Upload/336/relfile/16016/102785/c977e991-0fde-4395-b89b-39a4fad600c6.pdf\n",
      "https://www-ws.gov.taipei/001/Upload/336/relfile/16016/102785/109fbc9f-7279-4f83-8138-0dc81f2acd24.pdf\n",
      "https://www-ws.gov.taipei/001/Upload/336/relfile/16016/102785/cb094050-7167-4cce-8db7-234c33df9a93.pdf\n",
      "https://www-ws.gov.taipei/001/Upload/336/relfile/16016/102785/4f032a4d-3e64-4b92-9767-34ae35b3334d.pdf?ccms_cs=1\n",
      "https://www-ws.gov.taipei/001/Upload/336/relfile/50513/8095064/af09d7e1-4603-4d75-a6bf-b1ff04fd88f2.pdf\n",
      "https://www-ws.gov.taipei/001/Upload/336/relfile/50513/8095064/af09d7e1-4603-4d75-a6bf-b1ff04fd88f2.pdf\n",
      "https://www-ws.gov.taipei/001/Upload/336/relfile/50513/8095064/af09d7e1-4603-4d75-a6bf-b1ff04fd88f2.pdf\n",
      "https://www-ws.gov.taipei/001/Upload/336/relfile/16016/102785/73f3a75e-68e7-430e-8bee-640f0bdcf759.pdf\n",
      "https://www-ws.gov.taipei/001/Upload/336/relfile/16016/102785/7f80a060-eefd-4c77-a792-0fb785bdc56e.pdf\n",
      "https://www-ws.gov.taipei/001/Upload/336/relfile/16016/102785/c6b367cf-3589-4546-aa3a-197f067b1f31.pdf\n",
      "https://www-ws.gov.taipei/001/Upload/336/relfile/16016/102785/ff860790-79c8-49d1-8961-1146deea041b.pdf\n",
      "https://www-ws.gov.taipei/001/Upload/336/relfile/50513/8095064/903567b8-03db-4c7c-bf3b-5b9ba1e22a17.pdf\n",
      "https://www-ws.gov.taipei/001/Upload/336/relfile/50513/8095064/903567b8-03db-4c7c-bf3b-5b9ba1e22a17.pdf\n",
      "https://www-ws.gov.taipei/001/Upload/336/relfile/16016/102785/195f7ce1-429a-4b23-935c-b5a09fae7fbe.pdf\n",
      "https://www-ws.gov.taipei/001/Upload/336/relfile/16016/102785/feeacb5c-1dfe-48bf-8846-62d52c4c9b1f.pdf\n",
      "https://www-ws.gov.taipei/001/Upload/336/relfile/16016/102785/aa253e43-5d45-45fb-a4f8-19429e539a95.pdf\n",
      "https://www-ws.gov.taipei/001/Upload/336/relfile/16016/102785/889e690b-8582-4549-8ddb-08915c43e84e.pdf\n",
      "https://www-ws.gov.taipei/001/Upload/336/relfile/50513/8095064/bb08c37d-7712-42cc-9605-143495209a0d.pdf\n",
      "https://www-ws.gov.taipei/001/Upload/336/relfile/50513/8095064/bb08c37d-7712-42cc-9605-143495209a0d.pdf\n",
      "https://www-ws.gov.taipei/001/Upload/336/relfile/50513/8095064/bb08c37d-7712-42cc-9605-143495209a0d.pdf\n",
      "https://www-ws.gov.taipei/001/Upload/336/relfile/16016/102785/170496ed-9762-46af-a312-0d5730686cc1.pdf\n",
      "https://www-ws.gov.taipei/001/Upload/336/relfile/16016/102785/f384122c-97ae-43de-81ca-6b3854f32ffd.pdf\n",
      "https://www-ws.gov.taipei/001/Upload/336/relfile/16016/102785/1c39fef9-65e7-49f1-ac82-562a4e9dcbc5.pdf\n",
      "https://www-ws.gov.taipei/001/Upload/336/relfile/16016/102785/e6c3bd88-b985-4fe8-aebc-7b86ef00f7a2.pdf\n",
      "https://www-ws.gov.taipei/001/Upload/336/relfile/50513/8095064/b7d725fa-1902-4dcf-9223-256e78f54ff1.pdf\n",
      "https://www-ws.gov.taipei/001/Upload/336/relfile/50513/8095064/b7d725fa-1902-4dcf-9223-256e78f54ff1.pdf\n",
      "https://www-ws.gov.taipei/001/Upload/336/relfile/16016/102785/b811fd76-9a96-49c3-b22d-985103669eca.pdf\n",
      "https://www-ws.gov.taipei/001/Upload/336/relfile/50513/8095064/86537c2b-0900-4833-89ba-8e78d38912ad.pdf\n",
      "https://www-ws.gov.taipei/001/Upload/336/relfile/50513/8095064/86537c2b-0900-4833-89ba-8e78d38912ad.pdf\n",
      "https://www-ws.gov.taipei/001/Upload/336/relfile/16016/102789/3b3de0c6-05ae-4c62-9516-41d5a460ed60.pdf\n",
      "https://www-ws.gov.taipei/001/Upload/336/relfile/50513/8095064/524a6733-a3e0-421b-b1ec-922a3662b492.pdf\n",
      "https://www-ws.gov.taipei/001/Upload/336/relfile/50513/8095064/524a6733-a3e0-421b-b1ec-922a3662b492.pdf\n",
      "https://www-ws.gov.taipei/001/Upload/336/relfile/16016/102789/ba96e387-e2c5-4300-a077-8a203da2205e.pdf\n",
      "https://www-ws.gov.taipei/001/Upload/336/relfile/16016/102789/0e2ad850-01ee-4335-b1e2-16f5fe559d3e.pdf\n",
      "https://www-ws.gov.taipei/001/Upload/336/relfile/50513/8095064/c9689e60-926f-41f4-b7ee-f257a4b266e2.pdf\n",
      "https://www-ws.gov.taipei/001/Upload/336/relfile/50513/8095064/c9689e60-926f-41f4-b7ee-f257a4b266e2.pdf\n",
      "https://www-ws.gov.taipei/001/Upload/336/relfile/16016/102790/4fa13d13-3705-4187-adf9-0b4ff9ebc97a.pdf\n",
      "https://www-ws.gov.taipei/001/Upload/336/relfile/16016/102790/a48e1472-fd94-4a06-834b-4cbaafe8d418.pdf\n",
      "https://www-ws.gov.taipei/001/Upload/336/relfile/16016/102790/99c35cee-48b8-404a-8ea9-111bee9e0feb.pdf\n",
      "https://www-ws.gov.taipei/001/Upload/336/relfile/16016/102790/aff0ff98-9122-427b-9a08-12d3775c16f4.pdf\n",
      "https://www-ws.gov.taipei/001/Upload/336/relfile/16016/102790/9dc3b375-e8a1-4449-b158-fd7bb86c17b8.pdf\n",
      "https://www-ws.gov.taipei/001/Upload/336/relfile/50513/8095064/3a133176-34c0-4595-b319-d1a92ca1835f.pdf\n",
      "https://www-ws.gov.taipei/001/Upload/336/relfile/50513/8095064/3a133176-34c0-4595-b319-d1a92ca1835f.pdf\n",
      "https://www-ws.gov.taipei/001/Upload/336/relfile/50513/8095064/3a133176-34c0-4595-b319-d1a92ca1835f.pdf\n",
      "https://www-ws.gov.taipei/001/Upload/336/relfile/50513/8095064/3a133176-34c0-4595-b319-d1a92ca1835f.pdf\n",
      "https://www-ws.gov.taipei/001/Upload/336/relfile/16016/102790/45d1641f-2173-4ea9-b928-fd5fab5870b9.pdf\n",
      "https://www-ws.gov.taipei/001/Upload/336/relfile/50513/8095064/7e9d9dfc-39e0-4305-b55d-919eca88cc5c.pdf\n",
      "https://www-ws.gov.taipei/001/Upload/336/relfile/50513/8095064/7e9d9dfc-39e0-4305-b55d-919eca88cc5c.pdf\n",
      "https://www-ws.gov.taipei/001/Upload/336/relfile/50513/8095064/b0ee6b3c-146c-41e5-8ea6-45141954737b.pdf\n",
      "https://www-ws.gov.taipei/001/Upload/336/relfile/50513/8095064/b0ee6b3c-146c-41e5-8ea6-45141954737b.pdf\n",
      "https://www-ws.gov.taipei/001/Upload/336/relfile/50513/8095064/ea18d745-42d0-4052-88e3-5b9655ef5646.pdf\n",
      "https://www-ws.gov.taipei/001/Upload/336/relfile/50513/8095064/ea18d745-42d0-4052-88e3-5b9655ef5646.pdf\n",
      "https://www-ws.gov.taipei/001/Upload/336/relfile/50513/8095064/89c17a59-6be3-4c2f-a487-791cd65c6365.pdf\n",
      "https://www-ws.gov.taipei/001/Upload/336/relfile/50513/8095064/89c17a59-6be3-4c2f-a487-791cd65c6365.pdf\n",
      "https://www-ws.gov.taipei/001/Upload/336/relfile/16016/102795/fa50fd26-5e21-40cd-819b-89e10da45a24.pdf\n",
      "https://www-ws.gov.taipei/001/Upload/336/relfile/16016/102795/15528635-8c2e-4c65-80fe-d49a0fce437c.pdf\n",
      "https://www-ws.gov.taipei/001/Upload/336/relfile/16016/102795/1d0da48a-c9c1-4651-a9f3-4f8dc5f4d76b.pdf\n",
      "https://www-ws.gov.taipei/001/Upload/336/relfile/16016/102795/c852fe3b-fba2-41a3-861b-d249eff8f2a3.pdf\n",
      "https://www-ws.gov.taipei/001/Upload/336/relfile/50513/8095064/26137a89-0b95-4890-affe-67d96d336c74.pdf\n",
      "https://www-ws.gov.taipei/001/Upload/336/relfile/50513/8095064/26137a89-0b95-4890-affe-67d96d336c74.pdf\n",
      "https://www-ws.gov.taipei/001/Upload/336/relfile/16016/102795/ceb453ec-9b79-4bfb-ba9c-37eece3a4674.pdf\n",
      "https://www-ws.gov.taipei/001/Upload/336/relfile/16016/102795/ceb453ec-9b79-4bfb-ba9c-37eece3a4674.pdf\n",
      "https://www-ws.gov.taipei/001/Upload/336/relfile/50513/8095064/7797a973-0617-4cc4-a053-0964c79cc7a7.pdf\n",
      "https://www-ws.gov.taipei/001/Upload/336/relfile/50513/8095064/7797a973-0617-4cc4-a053-0964c79cc7a7.pdf\n",
      "https://www-ws.gov.taipei/001/Upload/336/relfile/16016/102795/e410e62e-8ca7-4342-a4f9-fe9a4340d7a0.pdf\n",
      "https://www-ws.gov.taipei/001/Upload/336/relfile/50513/8095064/f534852e-e844-4823-b3e2-33fe82c01039.pdf\n",
      "https://www-ws.gov.taipei/001/Upload/336/relfile/50513/8095064/f534852e-e844-4823-b3e2-33fe82c01039.pdf\n",
      "https://www-ws.gov.taipei/001/Upload/336/relfile/16016/102792/53e36046-9a54-4f26-bbe1-7bbf9b5ad5e9.pdf\n",
      "https://www-ws.gov.taipei/001/Upload/336/relfile/16016/102792/53e36046-9a54-4f26-bbe1-7bbf9b5ad5e9.pdf\n",
      "https://www-ws.gov.taipei/001/Upload/336/relfile/50513/8095064/86751392-4f35-48fa-904a-6365c4cb459b.pdf\n",
      "https://www-ws.gov.taipei/001/Upload/336/relfile/50513/8095064/86751392-4f35-48fa-904a-6365c4cb459b.pdf\n",
      "https://www-ws.gov.taipei/001/Upload/336/relfile/16016/102794/59b6896f-b9ff-4e40-8e5c-b8a7f40d2417.pdf\n",
      "https://www-ws.gov.taipei/001/Upload/336/relfile/16016/102794/59b6896f-b9ff-4e40-8e5c-b8a7f40d2417.pdf\n",
      "https://www-ws.gov.taipei/001/Upload/336/relfile/50513/8095064/26d8ca38-22aa-4b49-9d1f-1977b928a40b.pdf\n",
      "https://www-ws.gov.taipei/001/Upload/336/relfile/50513/8095064/26d8ca38-22aa-4b49-9d1f-1977b928a40b.pdf\n",
      "https://www-ws.gov.taipei/001/Upload/336/relfile/16016/102793/8af562f8-f655-4c94-912e-2ffd3baed5a0.pdf\n",
      "https://www-ws.gov.taipei/001/Upload/336/relfile/16016/102793/d8bd8a7a-0ecb-4353-a7ae-0f3be4057686.pdf\n",
      "https://www-ws.gov.taipei/001/Upload/336/relfile/16016/102793/d8bd8a7a-0ecb-4353-a7ae-0f3be4057686.pdf\n",
      "https://www-ws.gov.taipei/001/Upload/336/relfile/16016/102793/3ce3de52-0675-4804-8070-3a41e32efac0.pdf\n",
      "https://www-ws.gov.taipei/001/Upload/336/relfile/16016/102793/8deed64f-c541-4fd7-8200-d3de6f27798e.pdf\n",
      "https://www-ws.gov.taipei/001/Upload/336/relfile/50513/8095064/53f4b768-e80c-46b7-9f7e-8c47881e5fd5.pdf\n",
      "https://www-ws.gov.taipei/001/Upload/336/relfile/50513/8095064/53f4b768-e80c-46b7-9f7e-8c47881e5fd5.pdf\n",
      "https://www-ws.gov.taipei/001/Upload/336/relfile/16016/102789/06bed696-aa59-4c6f-9dec-cdc762e6f375.pdf\n",
      "https://www-ws.gov.taipei/001/Upload/336/relfile/50513/8095064/7f0f0d5f-48fd-421f-bbb5-6ee766f0a12c.pdf\n",
      "https://www-ws.gov.taipei/001/Upload/336/relfile/50513/8095064/7f0f0d5f-48fd-421f-bbb5-6ee766f0a12c.pdf\n",
      "https://www-ws.gov.taipei/001/Upload/336/relfile/16016/102790/5fa6656f-43ac-47df-a1e9-653e2a449f8f.pdf\n",
      "https://www-ws.gov.taipei/001/Upload/336/relfile/16016/102790/c4fe41ef-adec-4b46-a855-4800631d447a.pdf\n",
      "https://www-ws.gov.taipei/001/Upload/336/relfile/16016/102790/54fa9438-de8c-45fc-a703-b0107937f2cc.pdf\n",
      "https://www-ws.gov.taipei/001/Upload/336/relfile/16016/102790/8c066791-55a2-4356-8fed-256b38501c38.pdf\n",
      "https://www-ws.gov.taipei/001/Upload/336/relfile/50513/8095064/486f10b7-1852-439c-9d87-8c782ff37481.pdf\n",
      "https://www-ws.gov.taipei/001/Upload/336/relfile/50513/8095064/486f10b7-1852-439c-9d87-8c782ff37481.pdf\n",
      "https://www-ws.gov.taipei/001/Upload/336/relfile/50513/8095064/486f10b7-1852-439c-9d87-8c782ff37481.pdf\n",
      "https://www-ws.gov.taipei/001/Upload/336/relfile/50513/8095064/5089b951-62e0-4fac-b885-fd662eae23e6.pdf\n",
      "https://www-ws.gov.taipei/001/Upload/336/relfile/50513/8095064/5089b951-62e0-4fac-b885-fd662eae23e6.pdf\n",
      "https://www-ws.gov.taipei/001/Upload/336/relfile/50513/8095064/5089b951-62e0-4fac-b885-fd662eae23e6.pdf\n",
      "https://www-ws.gov.taipei/001/Upload/336/relfile/50513/8095064/b300567d-5256-45d9-973e-3f23cfef1e4e.pdf\n",
      "https://www-ws.gov.taipei/001/Upload/336/relfile/50513/8095064/b300567d-5256-45d9-973e-3f23cfef1e4e.pdf\n",
      "https://www-ws.gov.taipei/001/Upload/336/relfile/50513/8095064/b300567d-5256-45d9-973e-3f23cfef1e4e.pdf\n",
      "https://www-ws.gov.taipei/001/Upload/336/relfile/50513/8095064/b300567d-5256-45d9-973e-3f23cfef1e4e.pdf\n",
      "https://www-ws.gov.taipei/001/Upload/336/relfile/50513/8095064/7ef61d12-620a-43df-87a3-eb7793b5d8a0.pdf\n",
      "https://www-ws.gov.taipei/001/Upload/336/relfile/50513/8095064/7ef61d12-620a-43df-87a3-eb7793b5d8a0.pdf\n",
      "https://www-ws.gov.taipei/001/Upload/336/relfile/50513/8095064/7ef61d12-620a-43df-87a3-eb7793b5d8a0.pdf\n",
      "https://www-ws.gov.taipei/001/Upload/336/relfile/50513/8095064/7ef61d12-620a-43df-87a3-eb7793b5d8a0.pdf\n",
      "https://www-ws.gov.taipei/001/Upload/336/relfile/16016/4160/0489f379-76ce-4db4-b7be-7ea447ada0f1.pdf\n",
      "https://www-ws.gov.taipei/001/Upload/336/relfile/50513/8095064/db8455e6-c3f9-4590-aed2-ca933b325d12.pdf\n",
      "https://www-ws.gov.taipei/001/Upload/336/relfile/50513/8095064/db8455e6-c3f9-4590-aed2-ca933b325d12.pdf\n",
      "https://www-ws.gov.taipei/001/Upload/336/relfile/50513/8095064/db8455e6-c3f9-4590-aed2-ca933b325d12.pdf\n",
      "https://www-ws.gov.taipei/001/Upload/336/relfile/50513/8095064/db8455e6-c3f9-4590-aed2-ca933b325d12.pdf\n",
      "https://www-ws.gov.taipei/001/Upload/336/relfile/16016/102796/9755b5c5-5236-42af-8451-894c30569f68.pdf\n",
      "https://www-ws.gov.taipei/001/Upload/336/relfile/50513/8095064/c35c732c-2ee6-4f6b-b0d1-ffbe4bc56c82.pdf\n",
      "https://www-ws.gov.taipei/001/Upload/336/relfile/50513/8095064/c35c732c-2ee6-4f6b-b0d1-ffbe4bc56c82.pdf\n",
      "https://www-ws.gov.taipei/001/Upload/336/relfile/50513/8095064/c35c732c-2ee6-4f6b-b0d1-ffbe4bc56c82.pdf\n",
      "https://www-ws.gov.taipei/001/Upload/336/relfile/16016/102796/bf27af00-1eb6-49d9-a0e1-b33e4fdbf55b.pdf\n",
      "https://www-ws.gov.taipei/001/Upload/336/relfile/50513/8095064/03cf4011-e45d-40d5-a51d-9620cf21115e.pdf\n",
      "https://www-ws.gov.taipei/001/Upload/336/relfile/50513/8095064/03cf4011-e45d-40d5-a51d-9620cf21115e.pdf\n",
      "https://www-ws.gov.taipei/001/Upload/336/relfile/50513/8095064/03cf4011-e45d-40d5-a51d-9620cf21115e.pdf\n",
      "https://www-ws.gov.taipei/001/Upload/336/relfile/50513/8095064/03cf4011-e45d-40d5-a51d-9620cf21115e.pdf\n",
      "https://www-ws.gov.taipei/001/Upload/336/relfile/16016/102796/f36a1490-e3bd-44d7-9218-de01f5291aa4.pdf\n",
      "https://www-ws.gov.taipei/001/Upload/336/relfile/16016/102796/f36a1490-e3bd-44d7-9218-de01f5291aa4.pdf\n",
      "https://www-ws.gov.taipei/001/Upload/336/relfile/50513/8095064/37d4923e-e229-4621-853c-9b10e3bda16a.pdf\n",
      "https://www-ws.gov.taipei/001/Upload/336/relfile/50513/8095064/37d4923e-e229-4621-853c-9b10e3bda16a.pdf\n",
      "https://www-ws.gov.taipei/001/Upload/336/relfile/50513/8095064/37d4923e-e229-4621-853c-9b10e3bda16a.pdf\n",
      "https://www-ws.gov.taipei/001/Upload/336/relfile/50513/8095064/37d4923e-e229-4621-853c-9b10e3bda16a.pdf\n",
      "https://www-ws.gov.taipei/001/Upload/336/relfile/16016/102785/a01f52c3-aae1-4445-864c-0b3ee1724eed.pdf\n",
      "https://www-ws.gov.taipei/001/Upload/336/relfile/50513/8095064/a01470b7-aeec-4d76-a750-73baea541161.pdf\n",
      "https://www-ws.gov.taipei/001/Upload/336/relfile/50513/8095064/a01470b7-aeec-4d76-a750-73baea541161.pdf\n",
      "https://www-ws.gov.taipei/001/Upload/336/relfile/50513/8095064/a01470b7-aeec-4d76-a750-73baea541161.pdf\n",
      "https://www-ws.gov.taipei/001/Upload/336/relfile/50513/8095064/a01470b7-aeec-4d76-a750-73baea541161.pdf\n",
      "https://www-ws.gov.taipei/001/Upload/336/relfile/16016/102785/4695a1e0-9446-4370-84e9-3f2d40b72cea.pdf\n",
      "https://www-ws.gov.taipei/001/Upload/336/relfile/50513/8095064/d11fe66f-39cb-4b4c-b469-3e385b738963.pdf\n",
      "https://www-ws.gov.taipei/001/Upload/336/relfile/50513/8095064/d11fe66f-39cb-4b4c-b469-3e385b738963.pdf\n",
      "https://www-ws.gov.taipei/001/Upload/336/relfile/50513/8095064/d11fe66f-39cb-4b4c-b469-3e385b738963.pdf\n",
      "https://www-ws.gov.taipei/001/Upload/336/relfile/50513/8095064/d11fe66f-39cb-4b4c-b469-3e385b738963.pdf\n",
      "https://www-ws.gov.taipei/001/Upload/336/relfile/50513/8095064/d11fe66f-39cb-4b4c-b469-3e385b738963.pdf\n",
      "https://www-ws.gov.taipei/001/Upload/336/relfile/16016/102796/34442ace-b675-4717-b4b3-256a79cb3867.pdf\n",
      "https://www-ws.gov.taipei/001/Upload/336/relfile/16016/102796/afa2922e-1c6d-432a-9896-228f74845cc4.pdf\n",
      "https://www-ws.gov.taipei/001/Upload/336/relfile/16016/102796/7fdf9db4-cdb8-4608-b8c2-336e3e65c676.pdf\n",
      "https://www-ws.gov.taipei/001/Upload/336/relfile/16016/102796/44e34f0f-bfe2-49b7-b210-dd96e6a00376.pdf\n",
      "https://www-ws.gov.taipei/001/Upload/336/relfile/50513/8095064/97a6eaab-6d37-47fa-a511-198388b3730c.pdf\n",
      "https://www-ws.gov.taipei/001/Upload/336/relfile/50513/8095064/97a6eaab-6d37-47fa-a511-198388b3730c.pdf\n",
      "https://www-ws.gov.taipei/001/Upload/336/relfile/50513/8095064/97a6eaab-6d37-47fa-a511-198388b3730c.pdf\n",
      "https://www-ws.gov.taipei/001/Upload/336/relfile/50513/8095064/97a6eaab-6d37-47fa-a511-198388b3730c.pdf\n",
      "https://www-ws.gov.taipei/001/Upload/336/relfile/50513/8095064/97a6eaab-6d37-47fa-a511-198388b3730c.pdf\n",
      "https://www-ws.gov.taipei/001/Upload/336/relfile/16016/102796/a81c8d6c-5ca2-4d47-9d40-a95630a13fba.pdf\n",
      "https://www-ws.gov.taipei/001/Upload/336/relfile/16016/102796/2e157abc-adf6-469c-ab4d-3fad887c4a24.pdf\n",
      "https://www-ws.gov.taipei/001/Upload/336/relfile/16016/102796/86f4c3c3-6542-42d2-83e4-e6e50eda8e4c.pdf\n",
      "https://www-ws.gov.taipei/001/Upload/336/relfile/16016/102796/ce0b718f-d55d-49fd-a532-cf96a449e15d.pdf\n",
      "https://www-ws.gov.taipei/001/Upload/336/relfile/50513/8095064/17d72d41-abec-4521-be20-f332b6f819b6.pdf\n",
      "https://www-ws.gov.taipei/001/Upload/336/relfile/50513/8095064/17d72d41-abec-4521-be20-f332b6f819b6.pdf\n",
      "https://www-ws.gov.taipei/001/Upload/336/relfile/50513/8095064/17d72d41-abec-4521-be20-f332b6f819b6.pdf\n",
      "https://www-ws.gov.taipei/001/Upload/336/relfile/16016/102785/466f9263-4a6e-4b5f-b008-a5f5843d30db.pdf\n",
      "https://www-ws.gov.taipei/001/Upload/336/relfile/50513/8095064/24e90912-7d54-472b-8e09-4633487dbc0b.pdf\n",
      "https://www-ws.gov.taipei/001/Upload/336/relfile/50513/8095064/24e90912-7d54-472b-8e09-4633487dbc0b.pdf\n",
      "https://www-ws.gov.taipei/001/Upload/336/relfile/50513/8095064/24e90912-7d54-472b-8e09-4633487dbc0b.pdf\n",
      "https://www-ws.gov.taipei/001/Upload/336/relfile/50513/8095064/24e90912-7d54-472b-8e09-4633487dbc0b.pdf\n",
      "https://www-ws.gov.taipei/001/Upload/336/relfile/16016/4160/03affa9e-588d-43ae-83f8-6d58a30cbd77.pdf\n",
      "https://www-ws.gov.taipei/001/Upload/336/relfile/50513/8095064/68dcf36c-ca14-4efe-a438-23a0421fd55f.pdf\n",
      "https://www-ws.gov.taipei/001/Upload/336/relfile/50513/8095064/68dcf36c-ca14-4efe-a438-23a0421fd55f.pdf\n",
      "https://www-ws.gov.taipei/001/Upload/336/relfile/50513/8095064/2d9a89ee-dc64-4ed3-9a8d-375fc6cad470.pdf\n",
      "https://www-ws.gov.taipei/001/Upload/336/relfile/50513/8095064/2d9a89ee-dc64-4ed3-9a8d-375fc6cad470.pdf\n",
      "https://www-ws.gov.taipei/001/Upload/336/relfile/16016/102793/5ecd0a0c-e2ce-4c1b-b358-7991db8b7530.pdf\n",
      "https://www-ws.gov.taipei/001/Upload/336/relfile/16016/102793/0f3cc27e-d906-41b5-92d8-33ede4546613.pdf\n",
      "https://www-ws.gov.taipei/001/Upload/336/relfile/16016/102793/6ceaaaa7-8f62-4c18-94c4-eed066dc4cd8.pdf\n",
      "https://www-ws.gov.taipei/001/Upload/336/relfile/16016/102793/238e977a-390c-4889-8ccd-9555dd838165.pdf\n"
     ]
    }
   ],
   "source": [
    "import PyPDF2 \n",
    "key = '/Annots'\n",
    "uri = '/URI'\n",
    "ank = '/A'\n",
    "\n",
    "pdfFileObj = open('1.pdf', 'rb') \n",
    "pdfReader = PyPDF2.PdfFileReader(pdfFileObj) \n",
    "\n",
    "pages = pdfReader.getNumPages()\n",
    "\n",
    "for page in range(pages):\n",
    "\n",
    "    pageSliced = pdfReader.getPage(page)\n",
    "    pageObject = pageSliced.getObject()\n",
    "\n",
    "    if pageObject.get(key):\n",
    "        ann = pageObject[key]\n",
    "        for a in ann:\n",
    "            u = a.getObject()\n",
    "            if u[ank].get(uri):\n",
    "                print(u[ank][uri])\n",
    "pdfFileObj.close() "
   ]
  },
  {
   "cell_type": "code",
   "execution_count": null,
   "metadata": {},
   "outputs": [],
   "source": [
    "pageObj = pdfReader.getPage(0) \n",
    "pageObj.extractText()"
   ]
  },
  {
   "cell_type": "markdown",
   "metadata": {},
   "source": [
    "## Gensim"
   ]
  },
  {
   "cell_type": "code",
   "execution_count": 26,
   "metadata": {},
   "outputs": [],
   "source": [
    "import pandas\n",
    "movies = pandas.read_excel('https://raw.githubusercontent.com/ywchiu/taipeifubon/master/data/yahoo_movie.xlsx', index_col = 0)\n"
   ]
  },
  {
   "cell_type": "code",
   "execution_count": 104,
   "metadata": {},
   "outputs": [],
   "source": [
    "import jieba\n",
    "jieba.load_userdict('userdict.txt')\n",
    "corpus = []\n",
    "tags = []\n",
    "for idx, rec in movies[movies['status'].isin(['good', 'bad'])].iterrows():\n",
    "    corpus.append(' '.join(jieba.cut(rec['content'])))\n",
    "    tags.append(rec['status'])"
   ]
  },
  {
   "cell_type": "code",
   "execution_count": 105,
   "metadata": {},
   "outputs": [],
   "source": [
    "corpus = [e.split() for e in corpus]"
   ]
  },
  {
   "cell_type": "code",
   "execution_count": 106,
   "metadata": {},
   "outputs": [
    {
     "name": "stdout",
     "output_type": "stream",
     "text": [
      "['很', '好看', '的', '動作片', '，', '不會', '浪費', '錢', '跟', '時間', '。', '很', '久', '沒有', '這樣', '的', '探險', '片', '。', '可', '說', '是', '女版', '的', '印第安那', '瓊', '。', '女', '主角', '跟', '爸爸', '還', '有', '反派', '都', '演', '得到', '位', '。', '陸任', '的', '男', '配角', '常', '在', '港片', '看到', '，', '很帥', '。', '一時', '忘了', '名字', '。', '希望', '有', '續集', '。']\n"
     ]
    }
   ],
   "source": [
    "print(corpus[0])"
   ]
  },
  {
   "cell_type": "code",
   "execution_count": 107,
   "metadata": {},
   "outputs": [],
   "source": [
    "from gensim.models import word2vec\n",
    "size = 50 #產生多少維度 \n",
    "min_count = 5 #要算至少出現多少次數的字詞\n",
    "workers = 1 # 使用多少個core 計算, -1 使用所有的core 進行計算 \n",
    "window = 10 # 上下文的區間\n",
    "iter = 300 # 神經網路訓練的迭代數\n",
    "sample = 1e-5 # 取樣的數量\n",
    "model = word2vec.Word2Vec(corpus,\n",
    "                            workers = workers,\n",
    "                            sample = sample,\n",
    "                            size = size,\n",
    "                            min_count=min_count,\n",
    "                            window = window,\n",
    "                            iter = iter)\n",
    "\n"
   ]
  },
  {
   "cell_type": "code",
   "execution_count": 108,
   "metadata": {},
   "outputs": [
    {
     "data": {
      "text/plain": [
       "(1002, 50)"
      ]
     },
     "execution_count": 108,
     "metadata": {},
     "output_type": "execute_result"
    }
   ],
   "source": [
    "model.wv.vectors.shape"
   ]
  },
  {
   "cell_type": "code",
   "execution_count": 109,
   "metadata": {},
   "outputs": [
    {
     "data": {
      "text/plain": [
       "array([[ 0.12762997,  0.5303168 , -0.62234044, -0.60618687,  0.756115  ,\n",
       "        -0.12772621, -0.19132742, -0.6781962 , -0.87671065, -1.1073663 ,\n",
       "         0.01898266,  0.31069058, -0.13355832, -0.23307273, -0.13045254,\n",
       "        -0.03471555, -0.08019929,  0.09445205, -0.17208219, -0.41450098,\n",
       "         0.26570448,  0.00464565,  0.4290397 ,  0.07025634, -0.72664213,\n",
       "         0.16685782, -0.13455784,  0.22509165,  0.1108507 , -0.12536146,\n",
       "        -0.0040577 ,  0.5137099 , -0.21307541,  0.19611573,  0.29448012,\n",
       "        -0.1661248 ,  0.5464557 , -0.66120696,  0.3349199 , -0.5157874 ,\n",
       "        -0.12013563,  0.581995  ,  0.21668555, -0.1718539 , -0.6463935 ,\n",
       "         0.1960594 , -0.36786267, -0.5268289 , -0.05671521,  0.5723366 ],\n",
       "       [ 0.06711203,  0.8197265 , -0.3948068 , -1.1396337 ,  0.8172342 ,\n",
       "         0.97776496, -0.63301283, -1.4080275 , -1.0339624 , -0.97121674,\n",
       "         0.15948543,  0.34075922, -0.06482862,  0.38454995, -1.0565836 ,\n",
       "         0.68493   ,  0.00574914,  0.6811641 ,  0.29351035, -0.8189785 ,\n",
       "        -0.2712575 , -0.21753149, -0.40214312,  0.43872538, -0.24864402,\n",
       "        -0.32895836, -0.5232227 , -0.14337155,  0.13189964, -0.42194408,\n",
       "         0.6715335 ,  0.86714166, -0.7284179 ,  0.5360231 ,  0.9070204 ,\n",
       "        -0.17340393,  0.88286537, -0.30819982, -0.02249531,  0.02981416,\n",
       "        -0.39491394,  0.69317365,  0.10564536, -0.09352563, -0.42084187,\n",
       "        -0.0908214 , -0.267609  , -0.537914  , -0.59562945,  0.260245  ],\n",
       "       [ 0.04305153,  0.20984484, -0.45358828, -0.35489172,  0.53989244,\n",
       "         0.3245249 , -0.137969  , -0.6940069 , -0.8060569 , -0.57086706,\n",
       "         0.17914033, -0.09400499,  0.10443494, -0.00257426, -0.44069123,\n",
       "         0.06456236,  0.06478539,  0.03625448, -0.01024876, -0.32200262,\n",
       "         0.37874892,  0.06604438,  0.13604188,  0.2537175 , -0.29163197,\n",
       "        -0.10492917, -0.33526492, -0.25181705,  0.24261276,  0.15038961,\n",
       "         0.32588756,  0.24386793, -0.20528078,  0.07533499,  0.48781535,\n",
       "        -0.01757681,  0.13148752, -0.07588786,  0.18550459, -0.16874488,\n",
       "        -0.11888413,  0.35826373, -0.07691722,  0.23216759, -0.11877286,\n",
       "        -0.4091713 ,  0.20738725, -0.05703304, -0.22422896,  0.41311243]],\n",
       "      dtype=float32)"
      ]
     },
     "execution_count": 109,
     "metadata": {},
     "output_type": "execute_result"
    }
   ],
   "source": [
    "model.wv.vectors[0:3,:]"
   ]
  },
  {
   "cell_type": "code",
   "execution_count": 110,
   "metadata": {},
   "outputs": [
    {
     "data": {
      "text/plain": [
       "array([ 0.12567164,  0.18812212, -0.40714726, -0.12278994,  0.1978706 ,\n",
       "        0.01151139, -0.01208388, -0.3736106 , -0.5549068 , -0.49676013,\n",
       "        0.05417802,  0.04369465, -0.00376279, -0.25843516, -0.16134262,\n",
       "        0.1697721 , -0.14269106, -0.0518671 , -0.12541448, -0.17777812,\n",
       "        0.45084777,  0.42216384,  0.23262171, -0.06892861, -0.51270765,\n",
       "       -0.12308028, -0.16880341, -0.14232424, -0.17353006,  0.10966135,\n",
       "        0.3774229 ,  0.1680801 , -0.19547255,  0.18661943,  0.4523179 ,\n",
       "        0.21971253, -0.13547269, -0.28611144,  0.1786494 , -0.14793888,\n",
       "       -0.192089  ,  0.3537329 ,  0.06525171,  0.19021207, -0.05836289,\n",
       "       -0.4211401 ,  0.32242244,  0.03424368,  0.05813096,  0.27297047],\n",
       "      dtype=float32)"
      ]
     },
     "execution_count": 110,
     "metadata": {},
     "output_type": "execute_result"
    }
   ],
   "source": [
    "model.wv.get_vector('動作片')"
   ]
  },
  {
   "cell_type": "code",
   "execution_count": 111,
   "metadata": {},
   "outputs": [
    {
     "name": "stderr",
     "output_type": "stream",
     "text": [
      "DeprecationWarning: Call to deprecated `most_similar` (Method will be removed in 4.0.0, use self.wv.most_similar() instead). [ipykernel_launcher.py:1]\n"
     ]
    },
    {
     "data": {
      "text/plain": [
       "[('錢', 0.9933583736419678),\n",
       " ('不要', 0.9928134083747864),\n",
       " ('片子', 0.9913234710693359),\n",
       " ('爆破', 0.9910339713096619),\n",
       " ('啥', 0.9901098608970642),\n",
       " ('幹嘛', 0.9872196912765503),\n",
       " ('去', 0.9872190356254578),\n",
       " ('浪費', 0.9862076044082642),\n",
       " ('很爛', 0.9855409264564514),\n",
       " ('看到', 0.9852445721626282)]"
      ]
     },
     "execution_count": 111,
     "metadata": {},
     "output_type": "execute_result"
    }
   ],
   "source": [
    "model.most_similar('睡著')"
   ]
  },
  {
   "cell_type": "markdown",
   "metadata": {},
   "source": [
    "## 使用Word2Vec 做分類"
   ]
  },
  {
   "cell_type": "code",
   "execution_count": 112,
   "metadata": {},
   "outputs": [
    {
     "name": "stderr",
     "output_type": "stream",
     "text": [
      "DeprecationWarning: Call to deprecated `__getitem__` (Method will be removed in 4.0.0, use self.wv.__getitem__() instead). [ipykernel_launcher.py:1]\n"
     ]
    },
    {
     "data": {
      "text/plain": [
       "array([[ 0.12173396, -0.05995493, -0.39535558,  0.13440901,  0.0946437 ,\n",
       "         0.0266117 ,  0.00876688, -0.2102844 , -0.47940588, -0.22039028,\n",
       "         0.11421198, -0.18984787,  0.17103612, -0.3033379 , -0.07590737,\n",
       "         0.09263772, -0.08755571, -0.2775939 , -0.11667819, -0.09629381,\n",
       "         0.52023774,  0.50445074,  0.20213786, -0.07812747, -0.33761346,\n",
       "        -0.04940372, -0.13639367, -0.28085458, -0.07240571,  0.264102  ,\n",
       "         0.26298133, -0.04999724, -0.10046339,  0.0380233 ,  0.43544477,\n",
       "         0.27610204, -0.36718175,  0.01235916,  0.23545572, -0.19153471,\n",
       "        -0.10185621,  0.20598643, -0.04723601,  0.38824788,  0.11001113,\n",
       "        -0.61464477,  0.5276687 ,  0.29550552,  0.08225878,  0.286318  ]],\n",
       "      dtype=float32)"
      ]
     },
     "execution_count": 112,
     "metadata": {},
     "output_type": "execute_result"
    }
   ],
   "source": [
    "model['睡著'].reshape((1, 50))"
   ]
  },
  {
   "cell_type": "code",
   "execution_count": 113,
   "metadata": {},
   "outputs": [
    {
     "name": "stdout",
     "output_type": "stream",
     "text": [
      "['很', '好看', '的', '動作片', '，', '不會', '浪費', '錢', '跟', '時間', '。', '很', '久', '沒有', '這樣', '的', '探險', '片', '。', '可', '說', '是', '女版', '的', '印第安那', '瓊', '。', '女', '主角', '跟', '爸爸', '還', '有', '反派', '都', '演', '得到', '位', '。', '陸任', '的', '男', '配角', '常', '在', '港片', '看到', '，', '很帥', '。', '一時', '忘了', '名字', '。', '希望', '有', '續集', '。']\n"
     ]
    }
   ],
   "source": [
    "print(corpus[0])"
   ]
  },
  {
   "cell_type": "code",
   "execution_count": 114,
   "metadata": {},
   "outputs": [
    {
     "data": {
      "text/plain": [
       "array([[0., 0., 0., 0., 0., 0., 0., 0., 0., 0., 0., 0., 0., 0., 0., 0.,\n",
       "        0., 0., 0., 0., 0., 0., 0., 0., 0., 0., 0., 0., 0., 0., 0., 0.,\n",
       "        0., 0., 0., 0., 0., 0., 0., 0., 0., 0., 0., 0., 0., 0., 0., 0.,\n",
       "        0., 0.]])"
      ]
     },
     "execution_count": 114,
     "metadata": {},
     "output_type": "execute_result"
    }
   ],
   "source": [
    "import numpy as np\n",
    "vecs = np.zeros(size).reshape((1, size))\n",
    "vecs"
   ]
  },
  {
   "cell_type": "code",
   "execution_count": 115,
   "metadata": {},
   "outputs": [
    {
     "name": "stdout",
     "output_type": "stream",
     "text": [
      "[[ 0.14780172  0.22031877 -0.44174983 -0.24014872  0.33701625  0.07389053\n",
      "  -0.06541561 -0.49600453 -0.65403456 -0.5213074   0.1118668   0.07283668\n",
      "  -0.01384003 -0.20777846 -0.19479834  0.08089548 -0.08115672 -0.06660791\n",
      "  -0.05436305 -0.26579796  0.34827352  0.31195078  0.17504261  0.03085494\n",
      "  -0.50028479 -0.08943908 -0.14845524 -0.06602946 -0.00406235  0.05328111\n",
      "   0.22570957  0.19511726 -0.22993891  0.17127948  0.38136316  0.08690887\n",
      "   0.05932228 -0.26143566  0.21643811 -0.23682587 -0.12266216  0.42499394\n",
      "   0.07694465  0.13949573 -0.21750667 -0.28282346  0.16184069 -0.03892849\n",
      "  -0.01536705  0.31719712]]\n"
     ]
    },
    {
     "name": "stderr",
     "output_type": "stream",
     "text": [
      "DeprecationWarning: Call to deprecated `__contains__` (Method will be removed in 4.0.0, use self.wv.__contains__() instead). [ipykernel_launcher.py:3]\n",
      "DeprecationWarning: Call to deprecated `__getitem__` (Method will be removed in 4.0.0, use self.wv.__getitem__() instead). [ipykernel_launcher.py:4]\n"
     ]
    }
   ],
   "source": [
    "cnt = 0\n",
    "for w in corpus[0]:\n",
    "    if w in model:\n",
    "        vecs += model[w].reshape((1, size))\n",
    "        cnt += 1\n",
    "print(vecs/cnt)"
   ]
  },
  {
   "cell_type": "code",
   "execution_count": 116,
   "metadata": {},
   "outputs": [
    {
     "name": "stderr",
     "output_type": "stream",
     "text": [
      "DeprecationWarning: Call to deprecated `__contains__` (Method will be removed in 4.0.0, use self.wv.__contains__() instead). [ipykernel_launcher.py:9]\n",
      "DeprecationWarning: Call to deprecated `__getitem__` (Method will be removed in 4.0.0, use self.wv.__getitem__() instead). [ipykernel_launcher.py:11]\n"
     ]
    }
   ],
   "source": [
    "import numpy as np\n",
    "\n",
    "vecs = []\n",
    "vec = np.zeros(size).reshape((1, size))\n",
    "\n",
    "cnt = 0\n",
    "for s in corpus:\n",
    "    for w in s:\n",
    "        if w in model:\n",
    "            #print(w, model[w])\n",
    "            vec += model[w].reshape((1, size))\n",
    "            cnt += 1\n",
    "    vecs.append(vec / cnt)"
   ]
  },
  {
   "cell_type": "code",
   "execution_count": 117,
   "metadata": {},
   "outputs": [
    {
     "data": {
      "text/plain": [
       "980"
      ]
     },
     "execution_count": 117,
     "metadata": {},
     "output_type": "execute_result"
    }
   ],
   "source": [
    "len(corpus)"
   ]
  },
  {
   "cell_type": "code",
   "execution_count": 118,
   "metadata": {},
   "outputs": [
    {
     "data": {
      "text/plain": [
       "980"
      ]
     },
     "execution_count": 118,
     "metadata": {},
     "output_type": "execute_result"
    }
   ],
   "source": [
    "len(vecs)"
   ]
  },
  {
   "cell_type": "code",
   "execution_count": 119,
   "metadata": {},
   "outputs": [
    {
     "data": {
      "text/plain": [
       "(1, 50)"
      ]
     },
     "execution_count": 119,
     "metadata": {},
     "output_type": "execute_result"
    }
   ],
   "source": [
    "vecs[0].shape"
   ]
  },
  {
   "cell_type": "code",
   "execution_count": 120,
   "metadata": {},
   "outputs": [],
   "source": [
    "X = np.concatenate(vecs, axis = 0)\n",
    "\n",
    "from sklearn.model_selection import train_test_split\n",
    "train_X, test_X, train_y, test_y = train_test_split(X, tags, test_size = 0.2, random_state = 42)\n"
   ]
  },
  {
   "cell_type": "code",
   "execution_count": 126,
   "metadata": {},
   "outputs": [
    {
     "data": {
      "text/plain": [
       "GradientBoostingClassifier(criterion='friedman_mse', init=None,\n",
       "              learning_rate=0.1, loss='deviance', max_depth=3,\n",
       "              max_features=None, max_leaf_nodes=None,\n",
       "              min_impurity_decrease=0.0, min_impurity_split=None,\n",
       "              min_samples_leaf=1, min_samples_split=2,\n",
       "              min_weight_fraction_leaf=0.0, n_estimators=100,\n",
       "              presort='auto', random_state=None, subsample=1.0, verbose=0,\n",
       "              warm_start=False)"
      ]
     },
     "execution_count": 126,
     "metadata": {},
     "output_type": "execute_result"
    }
   ],
   "source": [
    "from sklearn.svm import SVC\n",
    "from sklearn.ensemble import GradientBoostingClassifier\n",
    "clf = SVC(kernel = 'linear')\n",
    "clf.fit(train_X, train_y)\n",
    "\n",
    "clf = GradientBoostingClassifier()\n",
    "clf.fit(train_X, train_y)"
   ]
  },
  {
   "cell_type": "code",
   "execution_count": 127,
   "metadata": {},
   "outputs": [],
   "source": [
    "predicted = clf.predict(test_X)"
   ]
  },
  {
   "cell_type": "code",
   "execution_count": 128,
   "metadata": {},
   "outputs": [
    {
     "data": {
      "text/plain": [
       "0.6530612244897959"
      ]
     },
     "execution_count": 128,
     "metadata": {},
     "output_type": "execute_result"
    }
   ],
   "source": [
    "from sklearn.metrics import accuracy_score, confusion_matrix\n",
    "accuracy_score(test_y,predicted)"
   ]
  },
  {
   "cell_type": "code",
   "execution_count": 129,
   "metadata": {},
   "outputs": [
    {
     "data": {
      "text/plain": [
       "array([[45, 36],\n",
       "       [32, 83]])"
      ]
     },
     "execution_count": 129,
     "metadata": {},
     "output_type": "execute_result"
    }
   ],
   "source": [
    "confusion_matrix(test_y,predicted)"
   ]
  },
  {
   "cell_type": "markdown",
   "metadata": {},
   "source": [
    "## 迴歸分析"
   ]
  },
  {
   "cell_type": "code",
   "execution_count": 138,
   "metadata": {},
   "outputs": [],
   "source": [
    "import pandas\n",
    "df = pandas.read_csv('https://raw.githubusercontent.com/ywchiu/taipeifubon/master/data/salary.csv', index_col=0)"
   ]
  },
  {
   "cell_type": "code",
   "execution_count": 139,
   "metadata": {},
   "outputs": [
    {
     "data": {
      "text/html": [
       "<div>\n",
       "<style scoped>\n",
       "    .dataframe tbody tr th:only-of-type {\n",
       "        vertical-align: middle;\n",
       "    }\n",
       "\n",
       "    .dataframe tbody tr th {\n",
       "        vertical-align: top;\n",
       "    }\n",
       "\n",
       "    .dataframe thead th {\n",
       "        text-align: right;\n",
       "    }\n",
       "</style>\n",
       "<table border=\"1\" class=\"dataframe\">\n",
       "  <thead>\n",
       "    <tr style=\"text-align: right;\">\n",
       "      <th></th>\n",
       "      <th>year</th>\n",
       "      <th>salary</th>\n",
       "    </tr>\n",
       "  </thead>\n",
       "  <tbody>\n",
       "    <tr>\n",
       "      <th>1</th>\n",
       "      <td>2.4</td>\n",
       "      <td>6600</td>\n",
       "    </tr>\n",
       "    <tr>\n",
       "      <th>2</th>\n",
       "      <td>5.5</td>\n",
       "      <td>10100</td>\n",
       "    </tr>\n",
       "    <tr>\n",
       "      <th>3</th>\n",
       "      <td>3.3</td>\n",
       "      <td>7300</td>\n",
       "    </tr>\n",
       "    <tr>\n",
       "      <th>4</th>\n",
       "      <td>0.2</td>\n",
       "      <td>5000</td>\n",
       "    </tr>\n",
       "    <tr>\n",
       "      <th>5</th>\n",
       "      <td>1.5</td>\n",
       "      <td>6100</td>\n",
       "    </tr>\n",
       "  </tbody>\n",
       "</table>\n",
       "</div>"
      ],
      "text/plain": [
       "   year  salary\n",
       "1   2.4    6600\n",
       "2   5.5   10100\n",
       "3   3.3    7300\n",
       "4   0.2    5000\n",
       "5   1.5    6100"
      ]
     },
     "execution_count": 139,
     "metadata": {},
     "output_type": "execute_result"
    }
   ],
   "source": [
    "df.head()"
   ]
  },
  {
   "cell_type": "markdown",
   "metadata": {},
   "source": [
    "## Jupyter Notebook Magic\n",
    "- https://ethanww.github.io/2017/05/08/jupyter%E9%AD%94%E6%B3%95%E5%91%BD%E4%BB%A4/"
   ]
  },
  {
   "cell_type": "code",
   "execution_count": 186,
   "metadata": {},
   "outputs": [
    {
     "name": "stdout",
     "output_type": "stream",
     "text": [
      "Populating the interactive namespace from numpy and matplotlib\n"
     ]
    },
    {
     "name": "stderr",
     "output_type": "stream",
     "text": [
      "UserWarning: pylab import has clobbered these variables: ['sample', 'size', 'clf', 'rec', 'f']\n",
      "`%matplotlib` prevents importing * from pylab and numpy [pylab.py:161]\n"
     ]
    },
    {
     "data": {
      "image/png": "[encoded data removed]",
      "text/plain": [
       "<Figure size 432x288 with 1 Axes>"
      ]
     },
     "metadata": {},
     "output_type": "display_data"
    }
   ],
   "source": [
    "% pylab inline\n",
    "from matplotlib import pyplot as plt\n",
    "plt.scatter(df['year'], df['salary'])\n",
    "plt.xlabel('year')\n",
    "plt.ylabel('salary')\n",
    "plt.show()"
   ]
  },
  {
   "cell_type": "code",
   "execution_count": 150,
   "metadata": {},
   "outputs": [
    {
     "data": {
      "text/plain": [
       "LinearRegression(copy_X=True, fit_intercept=True, n_jobs=1, normalize=False)"
      ]
     },
     "execution_count": 150,
     "metadata": {},
     "output_type": "execute_result"
    }
   ],
   "source": [
    "from sklearn.linear_model import LinearRegression\n",
    "X = df[['year']]\n",
    "y = df['salary'].values\n",
    "regr = LinearRegression()\n",
    "regr.fit(X,y)"
   ]
  },
  {
   "cell_type": "code",
   "execution_count": 152,
   "metadata": {},
   "outputs": [
    {
     "data": {
      "text/plain": [
       "array([7186.79230825, 8611.98058054])"
      ]
     },
     "execution_count": 152,
     "metadata": {},
     "output_type": "execute_result"
    }
   ],
   "source": [
    "import numpy as np\n",
    "test_X = np.array([3,5]).reshape(-1,1)\n",
    "regr.predict(test_X)"
   ]
  },
  {
   "cell_type": "code",
   "execution_count": 155,
   "metadata": {},
   "outputs": [],
   "source": [
    "# y = ax + b"
   ]
  },
  {
   "cell_type": "code",
   "execution_count": 154,
   "metadata": {},
   "outputs": [
    {
     "data": {
      "text/plain": [
       "5049.0098998138365"
      ]
     },
     "execution_count": 154,
     "metadata": {},
     "output_type": "execute_result"
    }
   ],
   "source": [
    "regr.intercept_ # b"
   ]
  },
  {
   "cell_type": "code",
   "execution_count": 156,
   "metadata": {},
   "outputs": [
    {
     "data": {
      "text/plain": [
       "array([712.59413615])"
      ]
     },
     "execution_count": 156,
     "metadata": {},
     "output_type": "execute_result"
    }
   ],
   "source": [
    "regr.coef_ # a"
   ]
  },
  {
   "cell_type": "code",
   "execution_count": 160,
   "metadata": {},
   "outputs": [
    {
     "data": {
      "image/png": "[encoded data removed]",
      "text/plain": [
       "<Figure size 432x288 with 1 Axes>"
      ]
     },
     "metadata": {},
     "output_type": "display_data"
    }
   ],
   "source": [
    "from sklearn.linear_model import LinearRegression\n",
    "predicted = regr.predict(X)\n",
    "plt.scatter(df['year'], df['salary'])\n",
    "plt.plot(X,predicted, color = 'red')\n",
    "plt.xlabel('year')\n",
    "plt.ylabel('salary')\n",
    "plt.show()"
   ]
  },
  {
   "cell_type": "code",
   "execution_count": 169,
   "metadata": {},
   "outputs": [
    {
     "data": {
      "text/plain": [
       "LinearRegression(copy_X=True, fit_intercept=True, n_jobs=1, normalize=False)"
      ]
     },
     "execution_count": 169,
     "metadata": {},
     "output_type": "execute_result"
    }
   ],
   "source": [
    "from sklearn.preprocessing import PolynomialFeatures\n",
    "from sklearn.linear_model import LinearRegression\n",
    "\n",
    "poly_reg = PolynomialFeatures(degree=2) # y = ax^2 + bx + c\n",
    "X_   = poly_reg.fit_transform(X)\n",
    "\n",
    "regr = LinearRegression()\n",
    "regr.fit(X_, y)\n"
   ]
  },
  {
   "cell_type": "code",
   "execution_count": 170,
   "metadata": {},
   "outputs": [
    {
     "data": {
      "text/plain": [
       "3896.8009311708356"
      ]
     },
     "execution_count": 170,
     "metadata": {},
     "output_type": "execute_result"
    }
   ],
   "source": [
    "regr.intercept_"
   ]
  },
  {
   "cell_type": "code",
   "execution_count": 171,
   "metadata": {},
   "outputs": [
    {
     "data": {
      "text/plain": [
       "array([   0.        , 1681.21265549, -119.70527702])"
      ]
     },
     "execution_count": 171,
     "metadata": {},
     "output_type": "execute_result"
    }
   ],
   "source": [
    "regr.coef_"
   ]
  },
  {
   "cell_type": "code",
   "execution_count": 174,
   "metadata": {},
   "outputs": [],
   "source": [
    "X2 = X.sort_values(['year'])\n",
    "X2_ = poly_reg.fit_transform(X2)\n"
   ]
  },
  {
   "cell_type": "code",
   "execution_count": 181,
   "metadata": {},
   "outputs": [],
   "source": [
    "#regr.predict(X2_)\n",
    "#X2"
   ]
  },
  {
   "cell_type": "code",
   "execution_count": 182,
   "metadata": {},
   "outputs": [
    {
     "data": {
      "image/png": "[encoded data removed]",
      "text/plain": [
       "<Figure size 432x288 with 1 Axes>"
      ]
     },
     "metadata": {},
     "output_type": "display_data"
    }
   ],
   "source": [
    "from sklearn.linear_model import LinearRegression\n",
    "plt.scatter(df['year'], df['salary'])\n",
    "plt.plot(X2,regr.predict(X2_), color = 'red')\n",
    "plt.xlabel('year')\n",
    "plt.ylabel('salary')\n",
    "plt.show()"
   ]
  },
  {
   "cell_type": "code",
   "execution_count": 183,
   "metadata": {},
   "outputs": [
    {
     "data": {
      "text/plain": [
       "LinearRegression(copy_X=True, fit_intercept=True, n_jobs=1, normalize=False)"
      ]
     },
     "execution_count": 183,
     "metadata": {},
     "output_type": "execute_result"
    }
   ],
   "source": [
    "from sklearn.preprocessing import PolynomialFeatures\n",
    "from sklearn.linear_model import LinearRegression\n",
    "\n",
    "poly_reg = PolynomialFeatures(degree=3) \n",
    "X_   = poly_reg.fit_transform(X)\n",
    "\n",
    "regr = LinearRegression()\n",
    "regr.fit(X_, y)\n"
   ]
  },
  {
   "cell_type": "code",
   "execution_count": 184,
   "metadata": {},
   "outputs": [],
   "source": [
    "X3 = X.sort_values(['year'])\n",
    "X3_ = poly_reg.transform(X3)\n"
   ]
  },
  {
   "cell_type": "code",
   "execution_count": 185,
   "metadata": {},
   "outputs": [
    {
     "data": {
      "image/png": "[encoded data removed]",
      "text/plain": [
       "<Figure size 432x288 with 1 Axes>"
      ]
     },
     "metadata": {},
     "output_type": "display_data"
    }
   ],
   "source": [
    "from sklearn.linear_model import LinearRegression\n",
    "plt.scatter(df['year'], df['salary'])\n",
    "plt.plot(X3,regr.predict(X3_), color = 'red')\n",
    "plt.xlabel('year')\n",
    "plt.ylabel('salary')\n",
    "plt.show()"
   ]
  },
  {
   "cell_type": "code",
   "execution_count": null,
   "metadata": {},
   "outputs": [],
   "source": []
  }
 ],
 "metadata": {
  "kernelspec": {
   "display_name": "Python 3",
   "language": "python",
   "name": "python3"
  },
  "language_info": {
   "codemirror_mode": {
    "name": "ipython",
    "version": 3
   },
   "file_extension": ".py",
   "mimetype": "text/x-python",
   "name": "python",
   "nbconvert_exporter": "python",
   "pygments_lexer": "ipython3",
   "version": "3.6.2"
  }
 },
 "nbformat": 4,
 "nbformat_minor": 2
}
