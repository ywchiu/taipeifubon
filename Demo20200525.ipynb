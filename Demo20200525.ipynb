{
  "nbformat": 4,
  "nbformat_minor": 0,
  "metadata": {
    "colab": {
      "name": "Demo20200525.ipynb",
      "provenance": [],
      "collapsed_sections": [],
      "toc_visible": true
    },
    "kernelspec": {
      "name": "python3",
      "display_name": "Python 3"
    }
  },
  "cells": [
    {
      "cell_type": "markdown",
      "metadata": {
        "id": "qZiv2-_4XC3X",
        "colab_type": "text"
      },
      "source": [
        "## 安裝 PySpark"
      ]
    },
    {
      "cell_type": "code",
      "metadata": {
        "id": "M2X_MHUmV3MZ",
        "colab_type": "code",
        "colab": {}
      },
      "source": [
        "! apt-get install openjdk-8-jdk-headless -qq > /dev/null"
      ],
      "execution_count": 0,
      "outputs": []
    },
    {
      "cell_type": "code",
      "metadata": {
        "id": "0ydxmR0rXI8D",
        "colab_type": "code",
        "colab": {}
      },
      "source": [
        "! wget -q https://www-us.apache.org/dist/spark/spark-2.4.5/spark-2.4.5-bin-hadoop2.7.tgz"
      ],
      "execution_count": 0,
      "outputs": []
    },
    {
      "cell_type": "code",
      "metadata": {
        "id": "qCeC5qbBXTfx",
        "colab_type": "code",
        "colab": {}
      },
      "source": [
        "! tar xf spark-2.4.5-bin-hadoop2.7.tgz"
      ],
      "execution_count": 0,
      "outputs": []
    },
    {
      "cell_type": "code",
      "metadata": {
        "id": "QHwMr8fhXnXK",
        "colab_type": "code",
        "colab": {}
      },
      "source": [
        "! pip install -q findspark"
      ],
      "execution_count": 0,
      "outputs": []
    },
    {
      "cell_type": "code",
      "metadata": {
        "id": "u-CDr9EsXv7a",
        "colab_type": "code",
        "colab": {}
      },
      "source": [
        "import os\n",
        "os.environ[\"JAVA_HOME\"] = \"/usr/lib/jvm/java-1.8.0-openjdk-amd64\"\n",
        "os.environ[\"SPARK_HOME\"] = \"/content/spark-2.4.5-bin-hadoop2.7\""
      ],
      "execution_count": 0,
      "outputs": []
    },
    {
      "cell_type": "code",
      "metadata": {
        "id": "zzXHqECkX5cJ",
        "colab_type": "code",
        "colab": {}
      },
      "source": [
        "import findspark\n",
        "findspark.init()\n",
        "\n",
        "from pyspark.sql import SparkSession\n",
        "spark = SparkSession.builder.master(\"local[*]\").getOrCreate()"
      ],
      "execution_count": 0,
      "outputs": []
    },
    {
      "cell_type": "code",
      "metadata": {
        "id": "Ld8Zy1NJYExo",
        "colab_type": "code",
        "colab": {
          "base_uri": "https://localhost:8080/",
          "height": 34
        },
        "outputId": "19810722-1eb3-4d61-ff68-4cc3b9b588fe"
      },
      "source": [
        "from pyspark import SparkContext\n",
        "sc = SparkContext.getOrCreate()\n",
        "\n",
        "data = [1,2,3,4,5]\n",
        "rdd = sc.parallelize(data)\n",
        "rdd\n",
        "#rdd.collect()"
      ],
      "execution_count": 8,
      "outputs": [
        {
          "output_type": "execute_result",
          "data": {
            "text/plain": [
              "ParallelCollectionRDD[1] at parallelize at PythonRDD.scala:195"
            ]
          },
          "metadata": {
            "tags": []
          },
          "execution_count": 8
        }
      ]
    },
    {
      "cell_type": "code",
      "metadata": {
        "id": "rZtHAd60YOZ9",
        "colab_type": "code",
        "colab": {
          "base_uri": "https://localhost:8080/",
          "height": 34
        },
        "outputId": "4dee0169-eb27-4c1a-c2ab-581cf8034cea"
      },
      "source": [
        "rdd.collect()"
      ],
      "execution_count": 9,
      "outputs": [
        {
          "output_type": "execute_result",
          "data": {
            "text/plain": [
              "[1, 2, 3, 4, 5]"
            ]
          },
          "metadata": {
            "tags": []
          },
          "execution_count": 9
        }
      ]
    },
    {
      "cell_type": "markdown",
      "metadata": {
        "id": "twjnLctHYx-3",
        "colab_type": "text"
      },
      "source": [
        "## 範例一：計算個評價的數量"
      ]
    },
    {
      "cell_type": "code",
      "metadata": {
        "id": "Job6YHw0Yf3j",
        "colab_type": "code",
        "colab": {
          "base_uri": "https://localhost:8080/",
          "height": 224
        },
        "outputId": "c7e203d9-c71e-4738-c919-80da7a65ce69"
      },
      "source": [
        "! wget https://raw.githubusercontent.com/ywchiu/taipeifubon/master/data/u.data"
      ],
      "execution_count": 10,
      "outputs": [
        {
          "output_type": "stream",
          "text": [
            "--2020-05-25 05:56:02--  https://raw.githubusercontent.com/ywchiu/taipeifubon/master/data/u.data\n",
            "Resolving raw.githubusercontent.com (raw.githubusercontent.com)... 151.101.0.133, 151.101.64.133, 151.101.128.133, ...\n",
            "Connecting to raw.githubusercontent.com (raw.githubusercontent.com)|151.101.0.133|:443... connected.\n",
            "HTTP request sent, awaiting response... 200 OK\n",
            "Length: 1979173 (1.9M) [text/plain]\n",
            "Saving to: ‘u.data’\n",
            "\n",
            "u.data              100%[===================>]   1.89M  9.31MB/s    in 0.2s    \n",
            "\n",
            "2020-05-25 05:56:03 (9.31 MB/s) - ‘u.data’ saved [1979173/1979173]\n",
            "\n"
          ],
          "name": "stdout"
        }
      ]
    },
    {
      "cell_type": "code",
      "metadata": {
        "id": "36i00qz9ZvNa",
        "colab_type": "code",
        "colab": {
          "base_uri": "https://localhost:8080/",
          "height": 187
        },
        "outputId": "8ed1aaf8-53cc-48d4-8851-b46fee960dfc"
      },
      "source": [
        "! head u.data"
      ],
      "execution_count": 11,
      "outputs": [
        {
          "output_type": "stream",
          "text": [
            "196\t242\t3\t881250949\n",
            "186\t302\t3\t891717742\n",
            "22\t377\t1\t878887116\n",
            "244\t51\t2\t880606923\n",
            "166\t346\t1\t886397596\n",
            "298\t474\t4\t884182806\n",
            "115\t265\t2\t881171488\n",
            "253\t465\t5\t891628467\n",
            "305\t451\t3\t886324817\n",
            "6\t86\t3\t883603013\n"
          ],
          "name": "stdout"
        }
      ]
    },
    {
      "cell_type": "code",
      "metadata": {
        "id": "gxMN6E0jZ3zm",
        "colab_type": "code",
        "colab": {}
      },
      "source": [
        "lines = sc.textFile('u.data')"
      ],
      "execution_count": 0,
      "outputs": []
    },
    {
      "cell_type": "code",
      "metadata": {
        "id": "BCDPNJttZ-wK",
        "colab_type": "code",
        "colab": {
          "base_uri": "https://localhost:8080/",
          "height": 34
        },
        "outputId": "0fd67906-0b8d-4e41-98f3-1d2e1224b867"
      },
      "source": [
        "lines"
      ],
      "execution_count": 14,
      "outputs": [
        {
          "output_type": "execute_result",
          "data": {
            "text/plain": [
              "u.data MapPartitionsRDD[5] at textFile at NativeMethodAccessorImpl.java:0"
            ]
          },
          "metadata": {
            "tags": []
          },
          "execution_count": 14
        }
      ]
    },
    {
      "cell_type": "code",
      "metadata": {
        "id": "CLlTfckVaCei",
        "colab_type": "code",
        "colab": {
          "base_uri": "https://localhost:8080/",
          "height": 34
        },
        "outputId": "5591faf0-8860-4d5a-e92b-86a02ea1174b"
      },
      "source": [
        "lines.take(3)"
      ],
      "execution_count": 15,
      "outputs": [
        {
          "output_type": "execute_result",
          "data": {
            "text/plain": [
              "['196\\t242\\t3\\t881250949', '186\\t302\\t3\\t891717742', '22\\t377\\t1\\t878887116']"
            ]
          },
          "metadata": {
            "tags": []
          },
          "execution_count": 15
        }
      ]
    },
    {
      "cell_type": "code",
      "metadata": {
        "id": "Ne3rKYSdaI6D",
        "colab_type": "code",
        "colab": {}
      },
      "source": [
        "ratings = lines.map(lambda x: x.split()[2])\n"
      ],
      "execution_count": 0,
      "outputs": []
    },
    {
      "cell_type": "code",
      "metadata": {
        "id": "yR7Zmq6maeNa",
        "colab_type": "code",
        "colab": {
          "base_uri": "https://localhost:8080/",
          "height": 34
        },
        "outputId": "50accc27-9dd8-49ed-fc3d-623efd161366"
      },
      "source": [
        "ratings.take(3)"
      ],
      "execution_count": 17,
      "outputs": [
        {
          "output_type": "execute_result",
          "data": {
            "text/plain": [
              "['3', '3', '1']"
            ]
          },
          "metadata": {
            "tags": []
          },
          "execution_count": 17
        }
      ]
    },
    {
      "cell_type": "code",
      "metadata": {
        "id": "d4kzf23_ag8O",
        "colab_type": "code",
        "colab": {}
      },
      "source": [
        "result = ratings.countByValue()"
      ],
      "execution_count": 0,
      "outputs": []
    },
    {
      "cell_type": "code",
      "metadata": {
        "id": "kuJLe5pVauaw",
        "colab_type": "code",
        "colab": {
          "base_uri": "https://localhost:8080/",
          "height": 34
        },
        "outputId": "bb9cd09d-c1e4-47b4-9fb6-2c2fafdfe33b"
      },
      "source": [
        "result"
      ],
      "execution_count": 20,
      "outputs": [
        {
          "output_type": "execute_result",
          "data": {
            "text/plain": [
              "defaultdict(int, {'1': 6110, '2': 11370, '3': 27145, '4': 34174, '5': 21201})"
            ]
          },
          "metadata": {
            "tags": []
          },
          "execution_count": 20
        }
      ]
    },
    {
      "cell_type": "code",
      "metadata": {
        "id": "asjMlhE9awZm",
        "colab_type": "code",
        "colab": {}
      },
      "source": [
        "import collections\n",
        "from collections import Counter\n",
        "c = Counter(result)"
      ],
      "execution_count": 0,
      "outputs": []
    },
    {
      "cell_type": "code",
      "metadata": {
        "id": "XJ_B9qL9bLVS",
        "colab_type": "code",
        "colab": {
          "base_uri": "https://localhost:8080/",
          "height": 34
        },
        "outputId": "0764baeb-96f9-4ec0-ab61-46ad439ecbee"
      },
      "source": [
        "c"
      ],
      "execution_count": 25,
      "outputs": [
        {
          "output_type": "execute_result",
          "data": {
            "text/plain": [
              "Counter({'1': 6110, '2': 11370, '3': 27145, '4': 34174, '5': 21201})"
            ]
          },
          "metadata": {
            "tags": []
          },
          "execution_count": 25
        }
      ]
    },
    {
      "cell_type": "markdown",
      "metadata": {
        "id": "4H40E_zncJKL",
        "colab_type": "text"
      },
      "source": [
        "## 氣溫資料轉換"
      ]
    },
    {
      "cell_type": "code",
      "metadata": {
        "id": "Idn-v5iUbbU_",
        "colab_type": "code",
        "colab": {
          "base_uri": "https://localhost:8080/",
          "height": 224
        },
        "outputId": "7dbaffcc-5264-4d87-852d-4d752772f09a"
      },
      "source": [
        "! wget https://raw.githubusercontent.com/ywchiu/taipeifubon/master/data/1800.csv"
      ],
      "execution_count": 26,
      "outputs": [
        {
          "output_type": "stream",
          "text": [
            "--2020-05-25 06:07:59--  https://raw.githubusercontent.com/ywchiu/taipeifubon/master/data/1800.csv\n",
            "Resolving raw.githubusercontent.com (raw.githubusercontent.com)... 151.101.0.133, 151.101.64.133, 151.101.128.133, ...\n",
            "Connecting to raw.githubusercontent.com (raw.githubusercontent.com)|151.101.0.133|:443... connected.\n",
            "HTTP request sent, awaiting response... 200 OK\n",
            "Length: 62728 (61K) [text/plain]\n",
            "Saving to: ‘1800.csv’\n",
            "\n",
            "\r1800.csv              0%[                    ]       0  --.-KB/s               \r1800.csv            100%[===================>]  61.26K  --.-KB/s    in 0.03s   \n",
            "\n",
            "2020-05-25 06:08:00 (2.08 MB/s) - ‘1800.csv’ saved [62728/62728]\n",
            "\n"
          ],
          "name": "stdout"
        }
      ]
    },
    {
      "cell_type": "code",
      "metadata": {
        "id": "YFi__IqsceWw",
        "colab_type": "code",
        "colab": {
          "base_uri": "https://localhost:8080/",
          "height": 187
        },
        "outputId": "5ea9fc45-bf18-4952-a50f-00f68522f0d4"
      },
      "source": [
        "! head 1800.csv"
      ],
      "execution_count": 27,
      "outputs": [
        {
          "output_type": "stream",
          "text": [
            "ITE00100554,18000101,TMAX,-75,,,E,\n",
            "ITE00100554,18000101,TMIN,-148,,,E,\n",
            "GM000010962,18000101,PRCP,0,,,E,\n",
            "EZE00100082,18000101,TMAX,-86,,,E,\n",
            "EZE00100082,18000101,TMIN,-135,,,E,\n",
            "ITE00100554,18000102,TMAX,-60,,I,E,\n",
            "ITE00100554,18000102,TMIN,-125,,,E,\n",
            "GM000010962,18000102,PRCP,0,,,E,\n",
            "EZE00100082,18000102,TMAX,-44,,,E,\n",
            "EZE00100082,18000102,TMIN,-130,,,E,\n"
          ],
          "name": "stdout"
        }
      ]
    },
    {
      "cell_type": "code",
      "metadata": {
        "id": "8M3KmlV3cg03",
        "colab_type": "code",
        "colab": {}
      },
      "source": [
        "def parseLine(line):\n",
        "  fields = line.split(',')\n",
        "  stationID = fields[0]\n",
        "  entryType = fields[2]\n",
        "  temperature = float(fields[3]) * 0.1 * (9.0 / 5.0) + 32.0\n",
        "  return (stationID, entryType, temperature)\n"
      ],
      "execution_count": 0,
      "outputs": []
    },
    {
      "cell_type": "code",
      "metadata": {
        "id": "MU3jVxnfdHuq",
        "colab_type": "code",
        "colab": {}
      },
      "source": [
        "rdd = sc.textFile('1800.csv')\n",
        "rdd2 = rdd.map(parseLine)"
      ],
      "execution_count": 0,
      "outputs": []
    },
    {
      "cell_type": "code",
      "metadata": {
        "id": "VLixrZ7pdQW6",
        "colab_type": "code",
        "colab": {
          "base_uri": "https://localhost:8080/",
          "height": 68
        },
        "outputId": "7b8b7166-da36-44c0-dd98-733693431dcc"
      },
      "source": [
        "rdd2.take(3)"
      ],
      "execution_count": 31,
      "outputs": [
        {
          "output_type": "execute_result",
          "data": {
            "text/plain": [
              "[('ITE00100554', 'TMAX', 18.5),\n",
              " ('ITE00100554', 'TMIN', 5.359999999999999),\n",
              " ('GM000010962', 'PRCP', 32.0)]"
            ]
          },
          "metadata": {
            "tags": []
          },
          "execution_count": 31
        }
      ]
    },
    {
      "cell_type": "code",
      "metadata": {
        "id": "OESLtKridShl",
        "colab_type": "code",
        "colab": {
          "base_uri": "https://localhost:8080/",
          "height": 68
        },
        "outputId": "fbcbf862-7ecf-4517-fbf2-b7b57ac4c6f3"
      },
      "source": [
        "minTemps = rdd2 = rdd.map(parseLine).filter(lambda x: \"TMIN\" in x[1])\n",
        "minTemps.take(3)"
      ],
      "execution_count": 33,
      "outputs": [
        {
          "output_type": "execute_result",
          "data": {
            "text/plain": [
              "[('ITE00100554', 'TMIN', 5.359999999999999),\n",
              " ('EZE00100082', 'TMIN', 7.699999999999999),\n",
              " ('ITE00100554', 'TMIN', 9.5)]"
            ]
          },
          "metadata": {
            "tags": []
          },
          "execution_count": 33
        }
      ]
    },
    {
      "cell_type": "code",
      "metadata": {
        "id": "cccnEOYiduTk",
        "colab_type": "code",
        "colab": {}
      },
      "source": [
        "stationTemps = minTemps.map(lambda e: (e[0], e[2]) )"
      ],
      "execution_count": 0,
      "outputs": []
    },
    {
      "cell_type": "code",
      "metadata": {
        "id": "YgcLlT0AdnzX",
        "colab_type": "code",
        "colab": {
          "base_uri": "https://localhost:8080/",
          "height": 68
        },
        "outputId": "dd77a127-9a11-4507-d0fd-f96de2cf0ae7"
      },
      "source": [
        "stationTemps.take(3)"
      ],
      "execution_count": 35,
      "outputs": [
        {
          "output_type": "execute_result",
          "data": {
            "text/plain": [
              "[('ITE00100554', 5.359999999999999),\n",
              " ('EZE00100082', 7.699999999999999),\n",
              " ('ITE00100554', 9.5)]"
            ]
          },
          "metadata": {
            "tags": []
          },
          "execution_count": 35
        }
      ]
    },
    {
      "cell_type": "code",
      "metadata": {
        "id": "_BegCLpjd8-k",
        "colab_type": "code",
        "colab": {}
      },
      "source": [
        "minTemps = stationTemps.reduceByKey(lambda x, y: min(x,y))\n"
      ],
      "execution_count": 0,
      "outputs": []
    },
    {
      "cell_type": "code",
      "metadata": {
        "id": "zhI_mOUUeGJr",
        "colab_type": "code",
        "colab": {}
      },
      "source": [
        "results = minTemps.collect()\n"
      ],
      "execution_count": 0,
      "outputs": []
    },
    {
      "cell_type": "code",
      "metadata": {
        "id": "XVP37vYjeJqy",
        "colab_type": "code",
        "colab": {
          "base_uri": "https://localhost:8080/",
          "height": 51
        },
        "outputId": "968a333b-ec09-4a05-b4e5-802197a4b8c0"
      },
      "source": [
        "for result in results:\n",
        "    print(result[0] + \"\\t{:.2f}F\".format(result[1]))\n"
      ],
      "execution_count": 38,
      "outputs": [
        {
          "output_type": "stream",
          "text": [
            "ITE00100554\t5.36F\n",
            "EZE00100082\t7.70F\n"
          ],
          "name": "stdout"
        }
      ]
    },
    {
      "cell_type": "markdown",
      "metadata": {
        "id": "S7yvgIZrerwX",
        "colab_type": "text"
      },
      "source": [
        "## 加總顧客消費"
      ]
    },
    {
      "cell_type": "code",
      "metadata": {
        "id": "5tj-GSDgeOxB",
        "colab_type": "code",
        "colab": {
          "base_uri": "https://localhost:8080/",
          "height": 224
        },
        "outputId": "5635e7be-f5d3-4c82-a9bc-51b68e3cd7e9"
      },
      "source": [
        "! wget https://raw.githubusercontent.com/ywchiu/taipeifubon/master/data/customer-orders.csv"
      ],
      "execution_count": 39,
      "outputs": [
        {
          "output_type": "stream",
          "text": [
            "--2020-05-25 06:17:34--  https://raw.githubusercontent.com/ywchiu/taipeifubon/master/data/customer-orders.csv\n",
            "Resolving raw.githubusercontent.com (raw.githubusercontent.com)... 151.101.0.133, 151.101.64.133, 151.101.128.133, ...\n",
            "Connecting to raw.githubusercontent.com (raw.githubusercontent.com)|151.101.0.133|:443... connected.\n",
            "HTTP request sent, awaiting response... 200 OK\n",
            "Length: 146855 (143K) [text/plain]\n",
            "Saving to: ‘customer-orders.csv’\n",
            "\n",
            "\rcustomer-orders.csv   0%[                    ]       0  --.-KB/s               \rcustomer-orders.csv 100%[===================>] 143.41K  --.-KB/s    in 0.04s   \n",
            "\n",
            "2020-05-25 06:17:35 (3.34 MB/s) - ‘customer-orders.csv’ saved [146855/146855]\n",
            "\n"
          ],
          "name": "stdout"
        }
      ]
    },
    {
      "cell_type": "code",
      "metadata": {
        "id": "l08lcntveqw5",
        "colab_type": "code",
        "colab": {
          "base_uri": "https://localhost:8080/",
          "height": 187
        },
        "outputId": "e1629f2d-865c-4879-ea3c-3434c638cb8a"
      },
      "source": [
        "! head customer-orders.csv"
      ],
      "execution_count": 40,
      "outputs": [
        {
          "output_type": "stream",
          "text": [
            "44,8602,37.19\r\n",
            "35,5368,65.89\r\n",
            "2,3391,40.64\r\n",
            "47,6694,14.98\r\n",
            "29,680,13.08\r\n",
            "91,8900,24.59\r\n",
            "70,3959,68.68\r\n",
            "85,1733,28.53\r\n",
            "53,9900,83.55\r\n",
            "14,1505,4.32\r\n"
          ],
          "name": "stdout"
        }
      ]
    },
    {
      "cell_type": "code",
      "metadata": {
        "id": "m_OR7wUBezUt",
        "colab_type": "code",
        "colab": {}
      },
      "source": [
        "rdd = sc.textFile(\"customer-orders.csv\")\n"
      ],
      "execution_count": 0,
      "outputs": []
    },
    {
      "cell_type": "code",
      "metadata": {
        "id": "DWhumv6VfB-N",
        "colab_type": "code",
        "colab": {}
      },
      "source": [
        "def extractCustomerPricePairs(line):\n",
        "    fields = line.split(',')\n",
        "    return (int(fields[0]), float(fields[2]))\n"
      ],
      "execution_count": 0,
      "outputs": []
    },
    {
      "cell_type": "code",
      "metadata": {
        "id": "Hc8cqDVtfLJD",
        "colab_type": "code",
        "colab": {}
      },
      "source": [
        "mapped_rdd = rdd.map(extractCustomerPricePairs)\n"
      ],
      "execution_count": 0,
      "outputs": []
    },
    {
      "cell_type": "code",
      "metadata": {
        "id": "9Zx9O0kSfR3K",
        "colab_type": "code",
        "colab": {}
      },
      "source": [
        "totalByCustomer = mapped_rdd.reduceByKey(lambda x, y: x + y)\n"
      ],
      "execution_count": 0,
      "outputs": []
    },
    {
      "cell_type": "code",
      "metadata": {
        "id": "dKTPyvaJfalV",
        "colab_type": "code",
        "colab": {}
      },
      "source": [
        "ret = totalByCustomer.sortBy(lambda e: -e[1])"
      ],
      "execution_count": 0,
      "outputs": []
    },
    {
      "cell_type": "code",
      "metadata": {
        "id": "Cydk7LUHfdcs",
        "colab_type": "code",
        "colab": {
          "base_uri": "https://localhost:8080/",
          "height": 102
        },
        "outputId": "d83c115e-6a21-48cf-eb45-fd07307627dd"
      },
      "source": [
        "ret.take(5)"
      ],
      "execution_count": 50,
      "outputs": [
        {
          "output_type": "execute_result",
          "data": {
            "text/plain": [
              "[(68, 6375.450000000001),\n",
              " (73, 6206.200000000001),\n",
              " (39, 6193.110000000001),\n",
              " (54, 6065.390000000001),\n",
              " (71, 5995.660000000002)]"
            ]
          },
          "metadata": {
            "tags": []
          },
          "execution_count": 50
        }
      ]
    },
    {
      "cell_type": "markdown",
      "metadata": {
        "id": "a_Wwj_USf5Kd",
        "colab_type": "text"
      },
      "source": [
        "## 找出最受歡迎電影"
      ]
    },
    {
      "cell_type": "code",
      "metadata": {
        "id": "T_l95BxPfxcy",
        "colab_type": "code",
        "colab": {
          "base_uri": "https://localhost:8080/",
          "height": 187
        },
        "outputId": "c964bc1a-af06-4255-9c4d-3e86dbff2e79"
      },
      "source": [
        "! head u.data"
      ],
      "execution_count": 51,
      "outputs": [
        {
          "output_type": "stream",
          "text": [
            "196\t242\t3\t881250949\n",
            "186\t302\t3\t891717742\n",
            "22\t377\t1\t878887116\n",
            "244\t51\t2\t880606923\n",
            "166\t346\t1\t886397596\n",
            "298\t474\t4\t884182806\n",
            "115\t265\t2\t881171488\n",
            "253\t465\t5\t891628467\n",
            "305\t451\t3\t886324817\n",
            "6\t86\t3\t883603013\n"
          ],
          "name": "stdout"
        }
      ]
    },
    {
      "cell_type": "code",
      "metadata": {
        "id": "Uyw-cLUTf9JI",
        "colab_type": "code",
        "colab": {}
      },
      "source": [
        "rdd = sc.textFile('u.data')"
      ],
      "execution_count": 0,
      "outputs": []
    },
    {
      "cell_type": "code",
      "metadata": {
        "id": "t0c90gSBgEce",
        "colab_type": "code",
        "colab": {
          "base_uri": "https://localhost:8080/",
          "height": 34
        },
        "outputId": "5fe86703-1021-4de2-dd15-38d14465966a"
      },
      "source": [
        "rdd.take(3)"
      ],
      "execution_count": 53,
      "outputs": [
        {
          "output_type": "execute_result",
          "data": {
            "text/plain": [
              "['196\\t242\\t3\\t881250949', '186\\t302\\t3\\t891717742', '22\\t377\\t1\\t878887116']"
            ]
          },
          "metadata": {
            "tags": []
          },
          "execution_count": 53
        }
      ]
    },
    {
      "cell_type": "code",
      "metadata": {
        "id": "n440JgJ9gFN1",
        "colab_type": "code",
        "colab": {}
      },
      "source": [
        "rdd2 = rdd.map(lambda e: (e.split()[1], 1))"
      ],
      "execution_count": 0,
      "outputs": []
    },
    {
      "cell_type": "code",
      "metadata": {
        "id": "jrPR_lvugPMV",
        "colab_type": "code",
        "colab": {
          "base_uri": "https://localhost:8080/",
          "height": 34
        },
        "outputId": "e44426a9-d30e-43e9-c7f4-a33ccbd69fe4"
      },
      "source": [
        "rdd2.take(5)"
      ],
      "execution_count": 57,
      "outputs": [
        {
          "output_type": "execute_result",
          "data": {
            "text/plain": [
              "[('242', 1), ('302', 1), ('377', 1), ('51', 1), ('346', 1)]"
            ]
          },
          "metadata": {
            "tags": []
          },
          "execution_count": 57
        }
      ]
    },
    {
      "cell_type": "code",
      "metadata": {
        "id": "IYIAv50vgQTl",
        "colab_type": "code",
        "colab": {}
      },
      "source": [
        "rdd3 = rdd2.reduceByKey(lambda x, y: x + y)"
      ],
      "execution_count": 0,
      "outputs": []
    },
    {
      "cell_type": "code",
      "metadata": {
        "id": "0srCNAAtggeQ",
        "colab_type": "code",
        "colab": {
          "base_uri": "https://localhost:8080/",
          "height": 34
        },
        "outputId": "2cecb8b5-fc5a-4e36-d66a-1a6349c379fa"
      },
      "source": [
        "rdd3.take(3)"
      ],
      "execution_count": 59,
      "outputs": [
        {
          "output_type": "execute_result",
          "data": {
            "text/plain": [
              "[('346', 126), ('474', 194), ('265', 227)]"
            ]
          },
          "metadata": {
            "tags": []
          },
          "execution_count": 59
        }
      ]
    },
    {
      "cell_type": "code",
      "metadata": {
        "id": "F4QxQN0HgibH",
        "colab_type": "code",
        "colab": {}
      },
      "source": [
        "ret = rdd3.sortBy(lambda a: -a[1])"
      ],
      "execution_count": 0,
      "outputs": []
    },
    {
      "cell_type": "code",
      "metadata": {
        "id": "hJnefhO-gpGQ",
        "colab_type": "code",
        "colab": {
          "base_uri": "https://localhost:8080/",
          "height": 34
        },
        "outputId": "aa01a0e4-af66-4b52-e858-191ed38b53a5"
      },
      "source": [
        "ret.take(3)"
      ],
      "execution_count": 61,
      "outputs": [
        {
          "output_type": "execute_result",
          "data": {
            "text/plain": [
              "[('50', 583), ('258', 509), ('100', 508)]"
            ]
          },
          "metadata": {
            "tags": []
          },
          "execution_count": 61
        }
      ]
    },
    {
      "cell_type": "code",
      "metadata": {
        "id": "bLbFLAgKgqMF",
        "colab_type": "code",
        "colab": {
          "base_uri": "https://localhost:8080/",
          "height": 224
        },
        "outputId": "724a660d-c24a-4b61-d40d-a94839f07444"
      },
      "source": [
        "! wget https://raw.githubusercontent.com/ywchiu/taipeifubon/master/data/u.item"
      ],
      "execution_count": 62,
      "outputs": [
        {
          "output_type": "stream",
          "text": [
            "--2020-05-25 06:27:28--  https://raw.githubusercontent.com/ywchiu/taipeifubon/master/data/u.item\n",
            "Resolving raw.githubusercontent.com (raw.githubusercontent.com)... 151.101.0.133, 151.101.64.133, 151.101.128.133, ...\n",
            "Connecting to raw.githubusercontent.com (raw.githubusercontent.com)|151.101.0.133|:443... connected.\n",
            "HTTP request sent, awaiting response... 200 OK\n",
            "Length: 236347 (231K) [text/plain]\n",
            "Saving to: ‘u.item’\n",
            "\n",
            "u.item              100%[===================>] 230.81K  --.-KB/s    in 0.05s   \n",
            "\n",
            "2020-05-25 06:27:33 (4.39 MB/s) - ‘u.item’ saved [236347/236347]\n",
            "\n"
          ],
          "name": "stdout"
        }
      ]
    },
    {
      "cell_type": "code",
      "metadata": {
        "id": "2a8CF_3ng7v1",
        "colab_type": "code",
        "colab": {
          "base_uri": "https://localhost:8080/",
          "height": 207
        },
        "outputId": "bd2568fd-9694-4010-8be5-3c35f3e8a6c5"
      },
      "source": [
        "! head u.item"
      ],
      "execution_count": 63,
      "outputs": [
        {
          "output_type": "stream",
          "text": [
            "﻿1|Toy Story (1995)|01-Jan-1995||http://us.imdb.com/M/title-exact?Toy%20Story%20(1995)|0|0|0|1|1|1|0|0|0|0|0|0|0|0|0|0|0|0|0\n",
            "2|GoldenEye (1995)|01-Jan-1995||http://us.imdb.com/M/title-exact?GoldenEye%20(1995)|0|1|1|0|0|0|0|0|0|0|0|0|0|0|0|0|1|0|0\n",
            "3|Four Rooms (1995)|01-Jan-1995||http://us.imdb.com/M/title-exact?Four%20Rooms%20(1995)|0|0|0|0|0|0|0|0|0|0|0|0|0|0|0|0|1|0|0\n",
            "4|Get Shorty (1995)|01-Jan-1995||http://us.imdb.com/M/title-exact?Get%20Shorty%20(1995)|0|1|0|0|0|1|0|0|1|0|0|0|0|0|0|0|0|0|0\n",
            "5|Copycat (1995)|01-Jan-1995||http://us.imdb.com/M/title-exact?Copycat%20(1995)|0|0|0|0|0|0|1|0|1|0|0|0|0|0|0|0|1|0|0\n",
            "6|Shanghai Triad (Yao a yao yao dao waipo qiao) (1995)|01-Jan-1995||http://us.imdb.com/Title?Yao+a+yao+yao+dao+waipo+qiao+(1995)|0|0|0|0|0|0|0|0|1|0|0|0|0|0|0|0|0|0|0\n",
            "7|Twelve Monkeys (1995)|01-Jan-1995||http://us.imdb.com/M/title-exact?Twelve%20Monkeys%20(1995)|0|0|0|0|0|0|0|0|1|0|0|0|0|0|0|1|0|0|0\n",
            "8|Babe (1995)|01-Jan-1995||http://us.imdb.com/M/title-exact?Babe%20(1995)|0|0|0|0|1|1|0|0|1|0|0|0|0|0|0|0|0|0|0\n",
            "9|Dead Man Walking (1995)|01-Jan-1995||http://us.imdb.com/M/title-exact?Dead%20Man%20Walking%20(1995)|0|0|0|0|0|0|0|0|1|0|0|0|0|0|0|0|0|0|0\n",
            "10|Richard III (1995)|22-Jan-1996||http://us.imdb.com/M/title-exact?Richard%20III%20(1995)|0|0|0|0|0|0|0|0|1|0|0|0|0|0|0|0|0|1|0\n"
          ],
          "name": "stdout"
        }
      ]
    },
    {
      "cell_type": "code",
      "metadata": {
        "id": "7CHCnLTTg-Ns",
        "colab_type": "code",
        "colab": {}
      },
      "source": [
        "moviedic = {}\n",
        "with open('u.item', 'r', encoding = 'latin1') as f:\n",
        "  for line in f.readlines():\n",
        "    fields = line.strip().split('|')\n",
        "    moviedic[str(fields[0]).strip()] = fields[1]"
      ],
      "execution_count": 0,
      "outputs": []
    },
    {
      "cell_type": "code",
      "metadata": {
        "id": "grLa56zJhW0k",
        "colab_type": "code",
        "colab": {
          "base_uri": "https://localhost:8080/",
          "height": 34
        },
        "outputId": "7ed4c8f9-0834-4984-cfc8-af4cb8d1bf23"
      },
      "source": [
        "ret.take(3)"
      ],
      "execution_count": 69,
      "outputs": [
        {
          "output_type": "execute_result",
          "data": {
            "text/plain": [
              "[('50', 583), ('258', 509), ('100', 508)]"
            ]
          },
          "metadata": {
            "tags": []
          },
          "execution_count": 69
        }
      ]
    },
    {
      "cell_type": "code",
      "metadata": {
        "id": "s6MBF-aThbWI",
        "colab_type": "code",
        "colab": {
          "base_uri": "https://localhost:8080/",
          "height": 34
        },
        "outputId": "1aecb815-1823-4969-bc4a-744b5ce16256"
      },
      "source": [
        "ret.map(lambda e: (moviedic.get(e[0]), e[1]) ).take(3)"
      ],
      "execution_count": 70,
      "outputs": [
        {
          "output_type": "execute_result",
          "data": {
            "text/plain": [
              "[('Star Wars (1977)', 583), ('Contact (1997)', 509), ('Fargo (1996)', 508)]"
            ]
          },
          "metadata": {
            "tags": []
          },
          "execution_count": 70
        }
      ]
    },
    {
      "cell_type": "code",
      "metadata": {
        "id": "MBLscWWHh5UZ",
        "colab_type": "code",
        "colab": {}
      },
      "source": [
        "nameDict = sc.broadcast(moviedic)"
      ],
      "execution_count": 0,
      "outputs": []
    },
    {
      "cell_type": "code",
      "metadata": {
        "id": "XpcwS19UigPb",
        "colab_type": "code",
        "colab": {}
      },
      "source": [
        "#nameDict.value"
      ],
      "execution_count": 0,
      "outputs": []
    },
    {
      "cell_type": "code",
      "metadata": {
        "id": "CM1eCo3Nihur",
        "colab_type": "code",
        "colab": {
          "base_uri": "https://localhost:8080/",
          "height": 34
        },
        "outputId": "577c2736-8421-400c-e1d3-124c26489b55"
      },
      "source": [
        "ret.map(lambda e: (nameDict.value.get(e[0]), e[1]) ).take(3)"
      ],
      "execution_count": 75,
      "outputs": [
        {
          "output_type": "execute_result",
          "data": {
            "text/plain": [
              "[('Star Wars (1977)', 583), ('Contact (1997)', 509), ('Fargo (1996)', 508)]"
            ]
          },
          "metadata": {
            "tags": []
          },
          "execution_count": 75
        }
      ]
    },
    {
      "cell_type": "code",
      "metadata": {
        "id": "9aQV8ExqiqTr",
        "colab_type": "code",
        "colab": {}
      },
      "source": [
        ""
      ],
      "execution_count": 0,
      "outputs": []
    },
    {
      "cell_type": "markdown",
      "metadata": {
        "id": "Iaf2kjF3jGKJ",
        "colab_type": "text"
      },
      "source": [
        "## 小任務\n",
        "- 請使用 Spark 找出 u.data 中 評分最高的電影，並且從u.item對應出電影名稱跟評分?"
      ]
    },
    {
      "cell_type": "code",
      "metadata": {
        "id": "NSmGTc_RjHp6",
        "colab_type": "code",
        "colab": {}
      },
      "source": [
        ""
      ],
      "execution_count": 0,
      "outputs": []
    }
  ]
}