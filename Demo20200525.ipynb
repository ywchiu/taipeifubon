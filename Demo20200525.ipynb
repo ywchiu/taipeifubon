{
  "nbformat": 4,
  "nbformat_minor": 0,
  "metadata": {
    "colab": {
      "name": "Demo20200525.ipynb",
      "provenance": [],
      "collapsed_sections": []
    },
    "kernelspec": {
      "name": "python3",
      "display_name": "Python 3"
    }
  },
  "cells": [
    {
      "cell_type": "markdown",
      "metadata": {
        "id": "qZiv2-_4XC3X",
        "colab_type": "text"
      },
      "source": [
        "## 安裝 PySpark"
      ]
    },
    {
      "cell_type": "code",
      "metadata": {
        "id": "M2X_MHUmV3MZ",
        "colab_type": "code",
        "colab": {}
      },
      "source": [
        "! apt-get install openjdk-8-jdk-headless -qq > /dev/null"
      ],
      "execution_count": 0,
      "outputs": []
    },
    {
      "cell_type": "code",
      "metadata": {
        "id": "0ydxmR0rXI8D",
        "colab_type": "code",
        "colab": {}
      },
      "source": [
        "! wget -q https://www-us.apache.org/dist/spark/spark-2.4.5/spark-2.4.5-bin-hadoop2.7.tgz"
      ],
      "execution_count": 0,
      "outputs": []
    },
    {
      "cell_type": "code",
      "metadata": {
        "id": "qCeC5qbBXTfx",
        "colab_type": "code",
        "colab": {}
      },
      "source": [
        "! tar xf spark-2.4.5-bin-hadoop2.7.tgz"
      ],
      "execution_count": 0,
      "outputs": []
    },
    {
      "cell_type": "code",
      "metadata": {
        "id": "QHwMr8fhXnXK",
        "colab_type": "code",
        "colab": {}
      },
      "source": [
        "! pip install -q findspark"
      ],
      "execution_count": 0,
      "outputs": []
    },
    {
      "cell_type": "code",
      "metadata": {
        "id": "u-CDr9EsXv7a",
        "colab_type": "code",
        "colab": {}
      },
      "source": [
        "import os\n",
        "os.environ[\"JAVA_HOME\"] = \"/usr/lib/jvm/java-1.8.0-openjdk-amd64\"\n",
        "os.environ[\"SPARK_HOME\"] = \"/content/spark-2.4.5-bin-hadoop2.7\""
      ],
      "execution_count": 0,
      "outputs": []
    },
    {
      "cell_type": "code",
      "metadata": {
        "id": "zzXHqECkX5cJ",
        "colab_type": "code",
        "colab": {}
      },
      "source": [
        "import findspark\n",
        "findspark.init()\n",
        "\n",
        "from pyspark.sql import SparkSession\n",
        "spark = SparkSession.builder.master(\"local[*]\").getOrCreate()"
      ],
      "execution_count": 0,
      "outputs": []
    },
    {
      "cell_type": "code",
      "metadata": {
        "id": "Ld8Zy1NJYExo",
        "colab_type": "code",
        "colab": {
          "base_uri": "https://localhost:8080/",
          "height": 35
        },
        "outputId": "19810722-1eb3-4d61-ff68-4cc3b9b588fe"
      },
      "source": [
        "from pyspark import SparkContext\n",
        "sc = SparkContext.getOrCreate()\n",
        "\n",
        "data = [1,2,3,4,5]\n",
        "rdd = sc.parallelize(data)\n",
        "rdd\n",
        "#rdd.collect()"
      ],
      "execution_count": 8,
      "outputs": [
        {
          "output_type": "execute_result",
          "data": {
            "text/plain": [
              "ParallelCollectionRDD[1] at parallelize at PythonRDD.scala:195"
            ]
          },
          "metadata": {
            "tags": []
          },
          "execution_count": 8
        }
      ]
    },
    {
      "cell_type": "code",
      "metadata": {
        "id": "rZtHAd60YOZ9",
        "colab_type": "code",
        "colab": {
          "base_uri": "https://localhost:8080/",
          "height": 35
        },
        "outputId": "4dee0169-eb27-4c1a-c2ab-581cf8034cea"
      },
      "source": [
        "rdd.collect()"
      ],
      "execution_count": 9,
      "outputs": [
        {
          "output_type": "execute_result",
          "data": {
            "text/plain": [
              "[1, 2, 3, 4, 5]"
            ]
          },
          "metadata": {
            "tags": []
          },
          "execution_count": 9
        }
      ]
    },
    {
      "cell_type": "markdown",
      "metadata": {
        "id": "twjnLctHYx-3",
        "colab_type": "text"
      },
      "source": [
        "## 計算個評價的數量"
      ]
    },
    {
      "cell_type": "code",
      "metadata": {
        "id": "Job6YHw0Yf3j",
        "colab_type": "code",
        "colab": {
          "base_uri": "https://localhost:8080/",
          "height": 228
        },
        "outputId": "c7e203d9-c71e-4738-c919-80da7a65ce69"
      },
      "source": [
        "! wget https://raw.githubusercontent.com/ywchiu/taipeifubon/master/data/u.data"
      ],
      "execution_count": 10,
      "outputs": [
        {
          "output_type": "stream",
          "text": [
            "--2020-05-25 05:56:02--  https://raw.githubusercontent.com/ywchiu/taipeifubon/master/data/u.data\n",
            "Resolving raw.githubusercontent.com (raw.githubusercontent.com)... 151.101.0.133, 151.101.64.133, 151.101.128.133, ...\n",
            "Connecting to raw.githubusercontent.com (raw.githubusercontent.com)|151.101.0.133|:443... connected.\n",
            "HTTP request sent, awaiting response... 200 OK\n",
            "Length: 1979173 (1.9M) [text/plain]\n",
            "Saving to: ‘u.data’\n",
            "\n",
            "u.data              100%[===================>]   1.89M  9.31MB/s    in 0.2s    \n",
            "\n",
            "2020-05-25 05:56:03 (9.31 MB/s) - ‘u.data’ saved [1979173/1979173]\n",
            "\n"
          ],
          "name": "stdout"
        }
      ]
    },
    {
      "cell_type": "code",
      "metadata": {
        "id": "36i00qz9ZvNa",
        "colab_type": "code",
        "colab": {
          "base_uri": "https://localhost:8080/",
          "height": 191
        },
        "outputId": "8ed1aaf8-53cc-48d4-8851-b46fee960dfc"
      },
      "source": [
        "! head u.data"
      ],
      "execution_count": 11,
      "outputs": [
        {
          "output_type": "stream",
          "text": [
            "196\t242\t3\t881250949\n",
            "186\t302\t3\t891717742\n",
            "22\t377\t1\t878887116\n",
            "244\t51\t2\t880606923\n",
            "166\t346\t1\t886397596\n",
            "298\t474\t4\t884182806\n",
            "115\t265\t2\t881171488\n",
            "253\t465\t5\t891628467\n",
            "305\t451\t3\t886324817\n",
            "6\t86\t3\t883603013\n"
          ],
          "name": "stdout"
        }
      ]
    },
    {
      "cell_type": "code",
      "metadata": {
        "id": "gxMN6E0jZ3zm",
        "colab_type": "code",
        "colab": {}
      },
      "source": [
        "lines = sc.textFile('u.data')"
      ],
      "execution_count": 0,
      "outputs": []
    },
    {
      "cell_type": "code",
      "metadata": {
        "id": "BCDPNJttZ-wK",
        "colab_type": "code",
        "colab": {
          "base_uri": "https://localhost:8080/",
          "height": 35
        },
        "outputId": "0fd67906-0b8d-4e41-98f3-1d2e1224b867"
      },
      "source": [
        "lines"
      ],
      "execution_count": 14,
      "outputs": [
        {
          "output_type": "execute_result",
          "data": {
            "text/plain": [
              "u.data MapPartitionsRDD[5] at textFile at NativeMethodAccessorImpl.java:0"
            ]
          },
          "metadata": {
            "tags": []
          },
          "execution_count": 14
        }
      ]
    },
    {
      "cell_type": "code",
      "metadata": {
        "id": "CLlTfckVaCei",
        "colab_type": "code",
        "colab": {
          "base_uri": "https://localhost:8080/",
          "height": 35
        },
        "outputId": "5591faf0-8860-4d5a-e92b-86a02ea1174b"
      },
      "source": [
        "lines.take(3)"
      ],
      "execution_count": 15,
      "outputs": [
        {
          "output_type": "execute_result",
          "data": {
            "text/plain": [
              "['196\\t242\\t3\\t881250949', '186\\t302\\t3\\t891717742', '22\\t377\\t1\\t878887116']"
            ]
          },
          "metadata": {
            "tags": []
          },
          "execution_count": 15
        }
      ]
    },
    {
      "cell_type": "code",
      "metadata": {
        "id": "Ne3rKYSdaI6D",
        "colab_type": "code",
        "colab": {}
      },
      "source": [
        "ratings = lines.map(lambda x: x.split()[2])\n"
      ],
      "execution_count": 0,
      "outputs": []
    },
    {
      "cell_type": "code",
      "metadata": {
        "id": "yR7Zmq6maeNa",
        "colab_type": "code",
        "colab": {
          "base_uri": "https://localhost:8080/",
          "height": 35
        },
        "outputId": "50accc27-9dd8-49ed-fc3d-623efd161366"
      },
      "source": [
        "ratings.take(3)"
      ],
      "execution_count": 17,
      "outputs": [
        {
          "output_type": "execute_result",
          "data": {
            "text/plain": [
              "['3', '3', '1']"
            ]
          },
          "metadata": {
            "tags": []
          },
          "execution_count": 17
        }
      ]
    },
    {
      "cell_type": "code",
      "metadata": {
        "id": "d4kzf23_ag8O",
        "colab_type": "code",
        "colab": {}
      },
      "source": [
        "result = ratings.countByValue()"
      ],
      "execution_count": 0,
      "outputs": []
    },
    {
      "cell_type": "code",
      "metadata": {
        "id": "kuJLe5pVauaw",
        "colab_type": "code",
        "colab": {
          "base_uri": "https://localhost:8080/",
          "height": 35
        },
        "outputId": "bb9cd09d-c1e4-47b4-9fb6-2c2fafdfe33b"
      },
      "source": [
        "result"
      ],
      "execution_count": 20,
      "outputs": [
        {
          "output_type": "execute_result",
          "data": {
            "text/plain": [
              "defaultdict(int, {'1': 6110, '2': 11370, '3': 27145, '4': 34174, '5': 21201})"
            ]
          },
          "metadata": {
            "tags": []
          },
          "execution_count": 20
        }
      ]
    },
    {
      "cell_type": "code",
      "metadata": {
        "id": "asjMlhE9awZm",
        "colab_type": "code",
        "colab": {}
      },
      "source": [
        "import collections\n",
        "from collections import Counter\n",
        "c = Counter(result)"
      ],
      "execution_count": 0,
      "outputs": []
    },
    {
      "cell_type": "code",
      "metadata": {
        "id": "XJ_B9qL9bLVS",
        "colab_type": "code",
        "colab": {
          "base_uri": "https://localhost:8080/",
          "height": 35
        },
        "outputId": "0764baeb-96f9-4ec0-ab61-46ad439ecbee"
      },
      "source": [
        "c"
      ],
      "execution_count": 25,
      "outputs": [
        {
          "output_type": "execute_result",
          "data": {
            "text/plain": [
              "Counter({'1': 6110, '2': 11370, '3': 27145, '4': 34174, '5': 21201})"
            ]
          },
          "metadata": {
            "tags": []
          },
          "execution_count": 25
        }
      ]
    },
    {
      "cell_type": "markdown",
      "metadata": {
        "id": "4H40E_zncJKL",
        "colab_type": "text"
      },
      "source": [
        "## 氣溫資料轉換"
      ]
    },
    {
      "cell_type": "code",
      "metadata": {
        "id": "Idn-v5iUbbU_",
        "colab_type": "code",
        "colab": {
          "base_uri": "https://localhost:8080/",
          "height": 228
        },
        "outputId": "7dbaffcc-5264-4d87-852d-4d752772f09a"
      },
      "source": [
        "! wget https://raw.githubusercontent.com/ywchiu/taipeifubon/master/data/1800.csv"
      ],
      "execution_count": 26,
      "outputs": [
        {
          "output_type": "stream",
          "text": [
            "--2020-05-25 06:07:59--  https://raw.githubusercontent.com/ywchiu/taipeifubon/master/data/1800.csv\n",
            "Resolving raw.githubusercontent.com (raw.githubusercontent.com)... 151.101.0.133, 151.101.64.133, 151.101.128.133, ...\n",
            "Connecting to raw.githubusercontent.com (raw.githubusercontent.com)|151.101.0.133|:443... connected.\n",
            "HTTP request sent, awaiting response... 200 OK\n",
            "Length: 62728 (61K) [text/plain]\n",
            "Saving to: ‘1800.csv’\n",
            "\n",
            "\r1800.csv              0%[                    ]       0  --.-KB/s               \r1800.csv            100%[===================>]  61.26K  --.-KB/s    in 0.03s   \n",
            "\n",
            "2020-05-25 06:08:00 (2.08 MB/s) - ‘1800.csv’ saved [62728/62728]\n",
            "\n"
          ],
          "name": "stdout"
        }
      ]
    },
    {
      "cell_type": "code",
      "metadata": {
        "id": "YFi__IqsceWw",
        "colab_type": "code",
        "colab": {
          "base_uri": "https://localhost:8080/",
          "height": 191
        },
        "outputId": "5ea9fc45-bf18-4952-a50f-00f68522f0d4"
      },
      "source": [
        "! head 1800.csv"
      ],
      "execution_count": 27,
      "outputs": [
        {
          "output_type": "stream",
          "text": [
            "ITE00100554,18000101,TMAX,-75,,,E,\n",
            "ITE00100554,18000101,TMIN,-148,,,E,\n",
            "GM000010962,18000101,PRCP,0,,,E,\n",
            "EZE00100082,18000101,TMAX,-86,,,E,\n",
            "EZE00100082,18000101,TMIN,-135,,,E,\n",
            "ITE00100554,18000102,TMAX,-60,,I,E,\n",
            "ITE00100554,18000102,TMIN,-125,,,E,\n",
            "GM000010962,18000102,PRCP,0,,,E,\n",
            "EZE00100082,18000102,TMAX,-44,,,E,\n",
            "EZE00100082,18000102,TMIN,-130,,,E,\n"
          ],
          "name": "stdout"
        }
      ]
    },
    {
      "cell_type": "code",
      "metadata": {
        "id": "8M3KmlV3cg03",
        "colab_type": "code",
        "colab": {}
      },
      "source": [
        "def parseLine(line):\n",
        "  fields = line.split(',')\n",
        "  stationID = fields[0]\n",
        "  entryType = fields[2]\n",
        "  temperature = float(fields[3]) * 0.1 * (9.0 / 5.0) + 32.0\n",
        "  return (stationID, entryType, temperature)\n"
      ],
      "execution_count": 0,
      "outputs": []
    },
    {
      "cell_type": "code",
      "metadata": {
        "id": "MU3jVxnfdHuq",
        "colab_type": "code",
        "colab": {}
      },
      "source": [
        "rdd = sc.textFile('1800.csv')\n",
        "rdd2 = rdd.map(parseLine)"
      ],
      "execution_count": 0,
      "outputs": []
    },
    {
      "cell_type": "code",
      "metadata": {
        "id": "VLixrZ7pdQW6",
        "colab_type": "code",
        "colab": {
          "base_uri": "https://localhost:8080/",
          "height": 69
        },
        "outputId": "7b8b7166-da36-44c0-dd98-733693431dcc"
      },
      "source": [
        "rdd2.take(3)"
      ],
      "execution_count": 31,
      "outputs": [
        {
          "output_type": "execute_result",
          "data": {
            "text/plain": [
              "[('ITE00100554', 'TMAX', 18.5),\n",
              " ('ITE00100554', 'TMIN', 5.359999999999999),\n",
              " ('GM000010962', 'PRCP', 32.0)]"
            ]
          },
          "metadata": {
            "tags": []
          },
          "execution_count": 31
        }
      ]
    },
    {
      "cell_type": "code",
      "metadata": {
        "id": "OESLtKridShl",
        "colab_type": "code",
        "colab": {
          "base_uri": "https://localhost:8080/",
          "height": 69
        },
        "outputId": "fbcbf862-7ecf-4517-fbf2-b7b57ac4c6f3"
      },
      "source": [
        "minTemps = rdd2 = rdd.map(parseLine).filter(lambda x: \"TMIN\" in x[1])\n",
        "minTemps.take(3)"
      ],
      "execution_count": 33,
      "outputs": [
        {
          "output_type": "execute_result",
          "data": {
            "text/plain": [
              "[('ITE00100554', 'TMIN', 5.359999999999999),\n",
              " ('EZE00100082', 'TMIN', 7.699999999999999),\n",
              " ('ITE00100554', 'TMIN', 9.5)]"
            ]
          },
          "metadata": {
            "tags": []
          },
          "execution_count": 33
        }
      ]
    },
    {
      "cell_type": "code",
      "metadata": {
        "id": "cccnEOYiduTk",
        "colab_type": "code",
        "colab": {}
      },
      "source": [
        "stationTemps = minTemps.map(lambda e: (e[0], e[2]) )"
      ],
      "execution_count": 0,
      "outputs": []
    },
    {
      "cell_type": "code",
      "metadata": {
        "id": "YgcLlT0AdnzX",
        "colab_type": "code",
        "colab": {
          "base_uri": "https://localhost:8080/",
          "height": 69
        },
        "outputId": "dd77a127-9a11-4507-d0fd-f96de2cf0ae7"
      },
      "source": [
        "stationTemps.take(3)"
      ],
      "execution_count": 35,
      "outputs": [
        {
          "output_type": "execute_result",
          "data": {
            "text/plain": [
              "[('ITE00100554', 5.359999999999999),\n",
              " ('EZE00100082', 7.699999999999999),\n",
              " ('ITE00100554', 9.5)]"
            ]
          },
          "metadata": {
            "tags": []
          },
          "execution_count": 35
        }
      ]
    },
    {
      "cell_type": "code",
      "metadata": {
        "id": "_BegCLpjd8-k",
        "colab_type": "code",
        "colab": {}
      },
      "source": [
        "minTemps = stationTemps.reduceByKey(lambda x, y: min(x,y))\n"
      ],
      "execution_count": 0,
      "outputs": []
    },
    {
      "cell_type": "code",
      "metadata": {
        "id": "zhI_mOUUeGJr",
        "colab_type": "code",
        "colab": {}
      },
      "source": [
        "results = minTemps.collect()\n"
      ],
      "execution_count": 0,
      "outputs": []
    },
    {
      "cell_type": "code",
      "metadata": {
        "id": "XVP37vYjeJqy",
        "colab_type": "code",
        "colab": {
          "base_uri": "https://localhost:8080/",
          "height": 52
        },
        "outputId": "968a333b-ec09-4a05-b4e5-802197a4b8c0"
      },
      "source": [
        "for result in results:\n",
        "    print(result[0] + \"\\t{:.2f}F\".format(result[1]))\n"
      ],
      "execution_count": 38,
      "outputs": [
        {
          "output_type": "stream",
          "text": [
            "ITE00100554\t5.36F\n",
            "EZE00100082\t7.70F\n"
          ],
          "name": "stdout"
        }
      ]
    },
    {
      "cell_type": "markdown",
      "metadata": {
        "id": "S7yvgIZrerwX",
        "colab_type": "text"
      },
      "source": [
        "## 加總顧客消費"
      ]
    },
    {
      "cell_type": "code",
      "metadata": {
        "id": "5tj-GSDgeOxB",
        "colab_type": "code",
        "colab": {
          "base_uri": "https://localhost:8080/",
          "height": 228
        },
        "outputId": "5635e7be-f5d3-4c82-a9bc-51b68e3cd7e9"
      },
      "source": [
        "! wget https://raw.githubusercontent.com/ywchiu/taipeifubon/master/data/customer-orders.csv"
      ],
      "execution_count": 39,
      "outputs": [
        {
          "output_type": "stream",
          "text": [
            "--2020-05-25 06:17:34--  https://raw.githubusercontent.com/ywchiu/taipeifubon/master/data/customer-orders.csv\n",
            "Resolving raw.githubusercontent.com (raw.githubusercontent.com)... 151.101.0.133, 151.101.64.133, 151.101.128.133, ...\n",
            "Connecting to raw.githubusercontent.com (raw.githubusercontent.com)|151.101.0.133|:443... connected.\n",
            "HTTP request sent, awaiting response... 200 OK\n",
            "Length: 146855 (143K) [text/plain]\n",
            "Saving to: ‘customer-orders.csv’\n",
            "\n",
            "\rcustomer-orders.csv   0%[                    ]       0  --.-KB/s               \rcustomer-orders.csv 100%[===================>] 143.41K  --.-KB/s    in 0.04s   \n",
            "\n",
            "2020-05-25 06:17:35 (3.34 MB/s) - ‘customer-orders.csv’ saved [146855/146855]\n",
            "\n"
          ],
          "name": "stdout"
        }
      ]
    },
    {
      "cell_type": "code",
      "metadata": {
        "id": "l08lcntveqw5",
        "colab_type": "code",
        "colab": {
          "base_uri": "https://localhost:8080/",
          "height": 191
        },
        "outputId": "e1629f2d-865c-4879-ea3c-3434c638cb8a"
      },
      "source": [
        "! head customer-orders.csv"
      ],
      "execution_count": 40,
      "outputs": [
        {
          "output_type": "stream",
          "text": [
            "44,8602,37.19\r\n",
            "35,5368,65.89\r\n",
            "2,3391,40.64\r\n",
            "47,6694,14.98\r\n",
            "29,680,13.08\r\n",
            "91,8900,24.59\r\n",
            "70,3959,68.68\r\n",
            "85,1733,28.53\r\n",
            "53,9900,83.55\r\n",
            "14,1505,4.32\r\n"
          ],
          "name": "stdout"
        }
      ]
    },
    {
      "cell_type": "code",
      "metadata": {
        "id": "m_OR7wUBezUt",
        "colab_type": "code",
        "colab": {}
      },
      "source": [
        "rdd = sc.textFile(\"customer-orders.csv\")\n"
      ],
      "execution_count": 0,
      "outputs": []
    },
    {
      "cell_type": "code",
      "metadata": {
        "id": "DWhumv6VfB-N",
        "colab_type": "code",
        "colab": {}
      },
      "source": [
        "def extractCustomerPricePairs(line):\n",
        "    fields = line.split(',')\n",
        "    return (int(fields[0]), float(fields[2]))\n"
      ],
      "execution_count": 0,
      "outputs": []
    },
    {
      "cell_type": "code",
      "metadata": {
        "id": "Hc8cqDVtfLJD",
        "colab_type": "code",
        "colab": {}
      },
      "source": [
        "mapped_rdd = rdd.map(extractCustomerPricePairs)\n"
      ],
      "execution_count": 0,
      "outputs": []
    },
    {
      "cell_type": "code",
      "metadata": {
        "id": "9Zx9O0kSfR3K",
        "colab_type": "code",
        "colab": {}
      },
      "source": [
        "totalByCustomer = mapped_rdd.reduceByKey(lambda x, y: x + y)\n"
      ],
      "execution_count": 0,
      "outputs": []
    },
    {
      "cell_type": "code",
      "metadata": {
        "id": "dKTPyvaJfalV",
        "colab_type": "code",
        "colab": {}
      },
      "source": [
        "ret = totalByCustomer.sortBy(lambda e: -e[1])"
      ],
      "execution_count": 0,
      "outputs": []
    },
    {
      "cell_type": "code",
      "metadata": {
        "id": "Cydk7LUHfdcs",
        "colab_type": "code",
        "colab": {
          "base_uri": "https://localhost:8080/",
          "height": 104
        },
        "outputId": "d83c115e-6a21-48cf-eb45-fd07307627dd"
      },
      "source": [
        "ret.take(5)"
      ],
      "execution_count": 50,
      "outputs": [
        {
          "output_type": "execute_result",
          "data": {
            "text/plain": [
              "[(68, 6375.450000000001),\n",
              " (73, 6206.200000000001),\n",
              " (39, 6193.110000000001),\n",
              " (54, 6065.390000000001),\n",
              " (71, 5995.660000000002)]"
            ]
          },
          "metadata": {
            "tags": []
          },
          "execution_count": 50
        }
      ]
    },
    {
      "cell_type": "markdown",
      "metadata": {
        "id": "a_Wwj_USf5Kd",
        "colab_type": "text"
      },
      "source": [
        "## 找出最受歡迎電影"
      ]
    },
    {
      "cell_type": "code",
      "metadata": {
        "id": "T_l95BxPfxcy",
        "colab_type": "code",
        "colab": {
          "base_uri": "https://localhost:8080/",
          "height": 191
        },
        "outputId": "c964bc1a-af06-4255-9c4d-3e86dbff2e79"
      },
      "source": [
        "! head u.data"
      ],
      "execution_count": 51,
      "outputs": [
        {
          "output_type": "stream",
          "text": [
            "196\t242\t3\t881250949\n",
            "186\t302\t3\t891717742\n",
            "22\t377\t1\t878887116\n",
            "244\t51\t2\t880606923\n",
            "166\t346\t1\t886397596\n",
            "298\t474\t4\t884182806\n",
            "115\t265\t2\t881171488\n",
            "253\t465\t5\t891628467\n",
            "305\t451\t3\t886324817\n",
            "6\t86\t3\t883603013\n"
          ],
          "name": "stdout"
        }
      ]
    },
    {
      "cell_type": "code",
      "metadata": {
        "id": "Uyw-cLUTf9JI",
        "colab_type": "code",
        "colab": {}
      },
      "source": [
        "rdd = sc.textFile('u.data')"
      ],
      "execution_count": 0,
      "outputs": []
    },
    {
      "cell_type": "code",
      "metadata": {
        "id": "t0c90gSBgEce",
        "colab_type": "code",
        "colab": {
          "base_uri": "https://localhost:8080/",
          "height": 35
        },
        "outputId": "5fe86703-1021-4de2-dd15-38d14465966a"
      },
      "source": [
        "rdd.take(3)"
      ],
      "execution_count": 53,
      "outputs": [
        {
          "output_type": "execute_result",
          "data": {
            "text/plain": [
              "['196\\t242\\t3\\t881250949', '186\\t302\\t3\\t891717742', '22\\t377\\t1\\t878887116']"
            ]
          },
          "metadata": {
            "tags": []
          },
          "execution_count": 53
        }
      ]
    },
    {
      "cell_type": "code",
      "metadata": {
        "id": "n440JgJ9gFN1",
        "colab_type": "code",
        "colab": {}
      },
      "source": [
        "rdd2 = rdd.map(lambda e: (e.split()[1], 1))"
      ],
      "execution_count": 0,
      "outputs": []
    },
    {
      "cell_type": "code",
      "metadata": {
        "id": "jrPR_lvugPMV",
        "colab_type": "code",
        "colab": {
          "base_uri": "https://localhost:8080/",
          "height": 35
        },
        "outputId": "e44426a9-d30e-43e9-c7f4-a33ccbd69fe4"
      },
      "source": [
        "rdd2.take(5)"
      ],
      "execution_count": 57,
      "outputs": [
        {
          "output_type": "execute_result",
          "data": {
            "text/plain": [
              "[('242', 1), ('302', 1), ('377', 1), ('51', 1), ('346', 1)]"
            ]
          },
          "metadata": {
            "tags": []
          },
          "execution_count": 57
        }
      ]
    },
    {
      "cell_type": "code",
      "metadata": {
        "id": "IYIAv50vgQTl",
        "colab_type": "code",
        "colab": {}
      },
      "source": [
        "rdd3 = rdd2.reduceByKey(lambda x, y: x + y)"
      ],
      "execution_count": 0,
      "outputs": []
    },
    {
      "cell_type": "code",
      "metadata": {
        "id": "0srCNAAtggeQ",
        "colab_type": "code",
        "colab": {
          "base_uri": "https://localhost:8080/",
          "height": 35
        },
        "outputId": "2cecb8b5-fc5a-4e36-d66a-1a6349c379fa"
      },
      "source": [
        "rdd3.take(3)"
      ],
      "execution_count": 59,
      "outputs": [
        {
          "output_type": "execute_result",
          "data": {
            "text/plain": [
              "[('346', 126), ('474', 194), ('265', 227)]"
            ]
          },
          "metadata": {
            "tags": []
          },
          "execution_count": 59
        }
      ]
    },
    {
      "cell_type": "code",
      "metadata": {
        "id": "F4QxQN0HgibH",
        "colab_type": "code",
        "colab": {}
      },
      "source": [
        "ret = rdd3.sortBy(lambda a: -a[1])"
      ],
      "execution_count": 0,
      "outputs": []
    },
    {
      "cell_type": "code",
      "metadata": {
        "id": "hJnefhO-gpGQ",
        "colab_type": "code",
        "colab": {
          "base_uri": "https://localhost:8080/",
          "height": 35
        },
        "outputId": "aa01a0e4-af66-4b52-e858-191ed38b53a5"
      },
      "source": [
        "ret.take(3)"
      ],
      "execution_count": 61,
      "outputs": [
        {
          "output_type": "execute_result",
          "data": {
            "text/plain": [
              "[('50', 583), ('258', 509), ('100', 508)]"
            ]
          },
          "metadata": {
            "tags": []
          },
          "execution_count": 61
        }
      ]
    },
    {
      "cell_type": "code",
      "metadata": {
        "id": "bLbFLAgKgqMF",
        "colab_type": "code",
        "colab": {
          "base_uri": "https://localhost:8080/",
          "height": 228
        },
        "outputId": "724a660d-c24a-4b61-d40d-a94839f07444"
      },
      "source": [
        "! wget https://raw.githubusercontent.com/ywchiu/taipeifubon/master/data/u.item"
      ],
      "execution_count": 62,
      "outputs": [
        {
          "output_type": "stream",
          "text": [
            "--2020-05-25 06:27:28--  https://raw.githubusercontent.com/ywchiu/taipeifubon/master/data/u.item\n",
            "Resolving raw.githubusercontent.com (raw.githubusercontent.com)... 151.101.0.133, 151.101.64.133, 151.101.128.133, ...\n",
            "Connecting to raw.githubusercontent.com (raw.githubusercontent.com)|151.101.0.133|:443... connected.\n",
            "HTTP request sent, awaiting response... 200 OK\n",
            "Length: 236347 (231K) [text/plain]\n",
            "Saving to: ‘u.item’\n",
            "\n",
            "u.item              100%[===================>] 230.81K  --.-KB/s    in 0.05s   \n",
            "\n",
            "2020-05-25 06:27:33 (4.39 MB/s) - ‘u.item’ saved [236347/236347]\n",
            "\n"
          ],
          "name": "stdout"
        }
      ]
    },
    {
      "cell_type": "code",
      "metadata": {
        "id": "2a8CF_3ng7v1",
        "colab_type": "code",
        "colab": {
          "base_uri": "https://localhost:8080/",
          "height": 211
        },
        "outputId": "bd2568fd-9694-4010-8be5-3c35f3e8a6c5"
      },
      "source": [
        "! head u.item"
      ],
      "execution_count": 63,
      "outputs": [
        {
          "output_type": "stream",
          "text": [
            "﻿1|Toy Story (1995)|01-Jan-1995||http://us.imdb.com/M/title-exact?Toy%20Story%20(1995)|0|0|0|1|1|1|0|0|0|0|0|0|0|0|0|0|0|0|0\n",
            "2|GoldenEye (1995)|01-Jan-1995||http://us.imdb.com/M/title-exact?GoldenEye%20(1995)|0|1|1|0|0|0|0|0|0|0|0|0|0|0|0|0|1|0|0\n",
            "3|Four Rooms (1995)|01-Jan-1995||http://us.imdb.com/M/title-exact?Four%20Rooms%20(1995)|0|0|0|0|0|0|0|0|0|0|0|0|0|0|0|0|1|0|0\n",
            "4|Get Shorty (1995)|01-Jan-1995||http://us.imdb.com/M/title-exact?Get%20Shorty%20(1995)|0|1|0|0|0|1|0|0|1|0|0|0|0|0|0|0|0|0|0\n",
            "5|Copycat (1995)|01-Jan-1995||http://us.imdb.com/M/title-exact?Copycat%20(1995)|0|0|0|0|0|0|1|0|1|0|0|0|0|0|0|0|1|0|0\n",
            "6|Shanghai Triad (Yao a yao yao dao waipo qiao) (1995)|01-Jan-1995||http://us.imdb.com/Title?Yao+a+yao+yao+dao+waipo+qiao+(1995)|0|0|0|0|0|0|0|0|1|0|0|0|0|0|0|0|0|0|0\n",
            "7|Twelve Monkeys (1995)|01-Jan-1995||http://us.imdb.com/M/title-exact?Twelve%20Monkeys%20(1995)|0|0|0|0|0|0|0|0|1|0|0|0|0|0|0|1|0|0|0\n",
            "8|Babe (1995)|01-Jan-1995||http://us.imdb.com/M/title-exact?Babe%20(1995)|0|0|0|0|1|1|0|0|1|0|0|0|0|0|0|0|0|0|0\n",
            "9|Dead Man Walking (1995)|01-Jan-1995||http://us.imdb.com/M/title-exact?Dead%20Man%20Walking%20(1995)|0|0|0|0|0|0|0|0|1|0|0|0|0|0|0|0|0|0|0\n",
            "10|Richard III (1995)|22-Jan-1996||http://us.imdb.com/M/title-exact?Richard%20III%20(1995)|0|0|0|0|0|0|0|0|1|0|0|0|0|0|0|0|0|1|0\n"
          ],
          "name": "stdout"
        }
      ]
    },
    {
      "cell_type": "code",
      "metadata": {
        "id": "7CHCnLTTg-Ns",
        "colab_type": "code",
        "colab": {}
      },
      "source": [
        "moviedic = {}\n",
        "with open('u.item', 'r', encoding = 'latin1') as f:\n",
        "  for line in f.readlines():\n",
        "    fields = line.strip().split('|')\n",
        "    moviedic[str(fields[0]).strip()] = fields[1]"
      ],
      "execution_count": 0,
      "outputs": []
    },
    {
      "cell_type": "code",
      "metadata": {
        "id": "grLa56zJhW0k",
        "colab_type": "code",
        "colab": {
          "base_uri": "https://localhost:8080/",
          "height": 35
        },
        "outputId": "7ed4c8f9-0834-4984-cfc8-af4cb8d1bf23"
      },
      "source": [
        "ret.take(3)"
      ],
      "execution_count": 69,
      "outputs": [
        {
          "output_type": "execute_result",
          "data": {
            "text/plain": [
              "[('50', 583), ('258', 509), ('100', 508)]"
            ]
          },
          "metadata": {
            "tags": []
          },
          "execution_count": 69
        }
      ]
    },
    {
      "cell_type": "code",
      "metadata": {
        "id": "s6MBF-aThbWI",
        "colab_type": "code",
        "colab": {
          "base_uri": "https://localhost:8080/",
          "height": 35
        },
        "outputId": "1aecb815-1823-4969-bc4a-744b5ce16256"
      },
      "source": [
        "ret.map(lambda e: (moviedic.get(e[0]), e[1]) ).take(3)"
      ],
      "execution_count": 70,
      "outputs": [
        {
          "output_type": "execute_result",
          "data": {
            "text/plain": [
              "[('Star Wars (1977)', 583), ('Contact (1997)', 509), ('Fargo (1996)', 508)]"
            ]
          },
          "metadata": {
            "tags": []
          },
          "execution_count": 70
        }
      ]
    },
    {
      "cell_type": "code",
      "metadata": {
        "id": "MBLscWWHh5UZ",
        "colab_type": "code",
        "colab": {}
      },
      "source": [
        "nameDict = sc.broadcast(moviedic)"
      ],
      "execution_count": 0,
      "outputs": []
    },
    {
      "cell_type": "code",
      "metadata": {
        "id": "XpcwS19UigPb",
        "colab_type": "code",
        "colab": {}
      },
      "source": [
        "#nameDict.value"
      ],
      "execution_count": 0,
      "outputs": []
    },
    {
      "cell_type": "code",
      "metadata": {
        "id": "CM1eCo3Nihur",
        "colab_type": "code",
        "colab": {
          "base_uri": "https://localhost:8080/",
          "height": 35
        },
        "outputId": "577c2736-8421-400c-e1d3-124c26489b55"
      },
      "source": [
        "ret.map(lambda e: (nameDict.value.get(e[0]), e[1]) ).take(3)"
      ],
      "execution_count": 75,
      "outputs": [
        {
          "output_type": "execute_result",
          "data": {
            "text/plain": [
              "[('Star Wars (1977)', 583), ('Contact (1997)', 509), ('Fargo (1996)', 508)]"
            ]
          },
          "metadata": {
            "tags": []
          },
          "execution_count": 75
        }
      ]
    },
    {
      "cell_type": "code",
      "metadata": {
        "id": "9aQV8ExqiqTr",
        "colab_type": "code",
        "colab": {}
      },
      "source": [
        ""
      ],
      "execution_count": 0,
      "outputs": []
    },
    {
      "cell_type": "markdown",
      "metadata": {
        "id": "Iaf2kjF3jGKJ",
        "colab_type": "text"
      },
      "source": [
        "## 小任務\n",
        "- 請使用 Spark 找出 u.data 中 評分最高的電影，並且從u.item對應出電影名稱跟評分?"
      ]
    },
    {
      "cell_type": "code",
      "metadata": {
        "id": "NSmGTc_RjHp6",
        "colab_type": "code",
        "colab": {}
      },
      "source": [
        "rdd = sc.textFile('u.data')"
      ],
      "execution_count": 0,
      "outputs": []
    },
    {
      "cell_type": "code",
      "metadata": {
        "id": "8rgkicxjoyer",
        "colab_type": "code",
        "colab": {}
      },
      "source": [
        "rdd2 = rdd.map(lambda e: (e.split()[1], int(e.split()[2])))"
      ],
      "execution_count": 0,
      "outputs": []
    },
    {
      "cell_type": "code",
      "metadata": {
        "id": "lO_TtaQlozbY",
        "colab_type": "code",
        "colab": {
          "base_uri": "https://localhost:8080/",
          "height": 35
        },
        "outputId": "4b2cc347-37df-4e3c-8a0b-d19fb98affed"
      },
      "source": [
        "rdd2.take(3)"
      ],
      "execution_count": 81,
      "outputs": [
        {
          "output_type": "execute_result",
          "data": {
            "text/plain": [
              "[('242', 3), ('302', 3), ('377', 1)]"
            ]
          },
          "metadata": {
            "tags": []
          },
          "execution_count": 81
        }
      ]
    },
    {
      "cell_type": "code",
      "metadata": {
        "id": "I-W4tOeCo-HD",
        "colab_type": "code",
        "colab": {}
      },
      "source": [
        "rdd_score_sum = rdd2.reduceByKey(lambda a,b:  a + b)"
      ],
      "execution_count": 0,
      "outputs": []
    },
    {
      "cell_type": "code",
      "metadata": {
        "id": "QFtNtATfpN4M",
        "colab_type": "code",
        "colab": {
          "base_uri": "https://localhost:8080/",
          "height": 35
        },
        "outputId": "ca536c9a-2abe-465a-af9f-0e8c828df285"
      },
      "source": [
        "rdd_score_sum.take(3)"
      ],
      "execution_count": 83,
      "outputs": [
        {
          "output_type": "execute_result",
          "data": {
            "text/plain": [
              "[('346', 459), ('474', 825), ('265', 877)]"
            ]
          },
          "metadata": {
            "tags": []
          },
          "execution_count": 83
        }
      ]
    },
    {
      "cell_type": "code",
      "metadata": {
        "id": "JwQJfZjTpP-Q",
        "colab_type": "code",
        "colab": {}
      },
      "source": [
        "rdd4 = rdd.map(lambda e: (e.split()[1], 1))"
      ],
      "execution_count": 0,
      "outputs": []
    },
    {
      "cell_type": "code",
      "metadata": {
        "id": "d1Y8QOi5plPs",
        "colab_type": "code",
        "colab": {}
      },
      "source": [
        "rdd_score_cnt = rdd4.reduceByKey(lambda a,b:  a + b)"
      ],
      "execution_count": 0,
      "outputs": []
    },
    {
      "cell_type": "code",
      "metadata": {
        "id": "JUkWlt1Sppip",
        "colab_type": "code",
        "colab": {
          "base_uri": "https://localhost:8080/",
          "height": 35
        },
        "outputId": "8af65070-2976-40c4-dee5-a0896fe798aa"
      },
      "source": [
        "rdd_score_sum.take(3)"
      ],
      "execution_count": 88,
      "outputs": [
        {
          "output_type": "execute_result",
          "data": {
            "text/plain": [
              "[('346', 459), ('474', 825), ('265', 877)]"
            ]
          },
          "metadata": {
            "tags": []
          },
          "execution_count": 88
        }
      ]
    },
    {
      "cell_type": "code",
      "metadata": {
        "id": "KLf5NK4mprWS",
        "colab_type": "code",
        "colab": {
          "base_uri": "https://localhost:8080/",
          "height": 35
        },
        "outputId": "586112e7-d166-45d5-b4ed-2257038aef44"
      },
      "source": [
        "rdd_score_cnt.take(3)"
      ],
      "execution_count": 89,
      "outputs": [
        {
          "output_type": "execute_result",
          "data": {
            "text/plain": [
              "[('346', 126), ('474', 194), ('265', 227)]"
            ]
          },
          "metadata": {
            "tags": []
          },
          "execution_count": 89
        }
      ]
    },
    {
      "cell_type": "code",
      "metadata": {
        "id": "AfBQM3efpu4n",
        "colab_type": "code",
        "colab": {}
      },
      "source": [
        "rdd_integrate = rdd_score_sum.join(rdd_score_cnt)"
      ],
      "execution_count": 0,
      "outputs": []
    },
    {
      "cell_type": "code",
      "metadata": {
        "id": "7grbLAKhqJbG",
        "colab_type": "code",
        "colab": {
          "base_uri": "https://localhost:8080/",
          "height": 35
        },
        "outputId": "4d24751f-ab11-492c-f526-dc1830e40ce9"
      },
      "source": [
        "rdd_integrate.take(3)"
      ],
      "execution_count": 94,
      "outputs": [
        {
          "output_type": "execute_result",
          "data": {
            "text/plain": [
              "[('346', (459, 126)), ('474', (825, 194)), ('265', (877, 227))]"
            ]
          },
          "metadata": {
            "tags": []
          },
          "execution_count": 94
        }
      ]
    },
    {
      "cell_type": "code",
      "metadata": {
        "id": "vev_pb-Ip8eF",
        "colab_type": "code",
        "colab": {
          "base_uri": "https://localhost:8080/",
          "height": 191
        },
        "outputId": "0e34df88-4ac7-4eff-b48d-81cf02254e38"
      },
      "source": [
        "ret = rdd_integrate.map(lambda e: (e[0], e[1][0]/ e[1][1])).sortBy(lambda e: -e[1])\n",
        "ret.take(10)"
      ],
      "execution_count": 100,
      "outputs": [
        {
          "output_type": "execute_result",
          "data": {
            "text/plain": [
              "[('814', 5.0),\n",
              " ('1293', 5.0),\n",
              " ('1599', 5.0),\n",
              " ('1467', 5.0),\n",
              " ('1201', 5.0),\n",
              " ('1189', 5.0),\n",
              " ('1500', 5.0),\n",
              " ('1536', 5.0),\n",
              " ('1653', 5.0),\n",
              " ('1122', 5.0)]"
            ]
          },
          "metadata": {
            "tags": []
          },
          "execution_count": 100
        }
      ]
    },
    {
      "cell_type": "code",
      "metadata": {
        "id": "db-SOlemqDjK",
        "colab_type": "code",
        "colab": {}
      },
      "source": [
        "moviedic = {}\n",
        "with open('u.item', 'r', encoding = 'latin1') as f:\n",
        "  for line in f.readlines():\n",
        "    fields = line.strip().split('|')\n",
        "    moviedic[str(fields[0]).strip()] = fields[1]\n",
        "nameDic = sc.broadcast(moviedic)"
      ],
      "execution_count": 0,
      "outputs": []
    },
    {
      "cell_type": "code",
      "metadata": {
        "id": "KlarIyy9qjQR",
        "colab_type": "code",
        "colab": {
          "base_uri": "https://localhost:8080/",
          "height": 191
        },
        "outputId": "7575e0bd-6cfa-49a8-c793-5a9709fba676"
      },
      "source": [
        "ret.map(lambda e: (nameDic.value.get(e[0]), e[1])).take(10)"
      ],
      "execution_count": 102,
      "outputs": [
        {
          "output_type": "execute_result",
          "data": {
            "text/plain": [
              "[('Great Day in Harlem, A (1994)', 5.0),\n",
              " ('Star Kid (1997)', 5.0),\n",
              " (\"Someone Else's America (1995)\", 5.0),\n",
              " ('Saint of Fort Washington, The (1993)', 5.0),\n",
              " ('Marlene Dietrich: Shadow and Light (1996) ', 5.0),\n",
              " ('Prefontaine (1997)', 5.0),\n",
              " ('Santa with Muscles (1996)', 5.0),\n",
              " ('Aiqing wansui (1994)', 5.0),\n",
              " ('Entertaining Angels: The Dorothy Day Story (1996)', 5.0),\n",
              " ('They Made Me a Criminal (1939)', 5.0)]"
            ]
          },
          "metadata": {
            "tags": []
          },
          "execution_count": 102
        }
      ]
    },
    {
      "cell_type": "markdown",
      "metadata": {
        "id": "ri_ilRV4sNjt",
        "colab_type": "text"
      },
      "source": [
        "## SparkSQL 與 Spark DataFrame"
      ]
    },
    {
      "cell_type": "code",
      "metadata": {
        "id": "z2lkOu_xqwrp",
        "colab_type": "code",
        "colab": {}
      },
      "source": [
        "from pyspark.sql import SQLContext\n",
        "sqlContext = SQLContext(sc)"
      ],
      "execution_count": 0,
      "outputs": []
    },
    {
      "cell_type": "code",
      "metadata": {
        "id": "mW17AwjhsMVX",
        "colab_type": "code",
        "colab": {
          "base_uri": "https://localhost:8080/",
          "height": 228
        },
        "outputId": "a8115b95-1f5c-4d63-9e22-1bd2243af970"
      },
      "source": [
        "! wget \"https://raw.githubusercontent.com/ywchiu/taipeifubon/master/data/Creditability.csv\"\n"
      ],
      "execution_count": 104,
      "outputs": [
        {
          "output_type": "stream",
          "text": [
            "--2020-05-25 07:18:09--  https://raw.githubusercontent.com/ywchiu/taipeifubon/master/data/Creditability.csv\n",
            "Resolving raw.githubusercontent.com (raw.githubusercontent.com)... 151.101.0.133, 151.101.64.133, 151.101.128.133, ...\n",
            "Connecting to raw.githubusercontent.com (raw.githubusercontent.com)|151.101.0.133|:443... connected.\n",
            "HTTP request sent, awaiting response... 200 OK\n",
            "Length: 33774 (33K) [text/plain]\n",
            "Saving to: ‘Creditability.csv’\n",
            "\n",
            "\rCreditability.csv     0%[                    ]       0  --.-KB/s               \rCreditability.csv   100%[===================>]  32.98K  --.-KB/s    in 0.01s   \n",
            "\n",
            "2020-05-25 07:18:09 (2.23 MB/s) - ‘Creditability.csv’ saved [33774/33774]\n",
            "\n"
          ],
          "name": "stdout"
        }
      ]
    },
    {
      "cell_type": "code",
      "metadata": {
        "id": "-CmrqDtishL8",
        "colab_type": "code",
        "colab": {
          "base_uri": "https://localhost:8080/",
          "height": 211
        },
        "outputId": "e05abe0a-94b9-4f17-a08b-a7c1d84413b8"
      },
      "source": [
        "! head Creditability.csv"
      ],
      "execution_count": 105,
      "outputs": [
        {
          "output_type": "stream",
          "text": [
            "\"\",\"Creditability\",\"Account.Balance\",\"Duration.of.Credit..month.\",\"Payment.Status.of.Previous.Credit\",\"Purpose\",\"Credit.Amount\",\"Value.Savings.Stocks\",\"Length.of.current.employment\",\"Instalment.per.cent\",\"Sex...Marital.Status\",\"Guarantors\",\"Duration.in.Current.address\",\"Most.valuable.available.asset\",\"Age..years.\",\"Concurrent.Credits\",\"Type.of.apartment\",\"No.of.Credits.at.this.Bank\",\"Occupation\",\"No.of.dependents\",\"Telephone\",\"Foreign.Worker\"\n",
            "\"497\",\"1\",\"3\",6,\"2\",\"3\",2108,1,3,2,\"3\",1,2,\"1\",29,2,\"1\",1,1,1,1,1\n",
            "\"756\",\"0\",\"1\",15,\"1\",\"4\",950,1,4,4,\"2\",1,3,\"3\",33,2,\"1\",2,1,2,1,1\n",
            "\"580\",\"0\",\"1\",42,\"2\",\"3\",7174,4,3,4,\"1\",1,3,\"3\",30,2,\"2\",1,1,1,2,1\n",
            "\"833\",\"0\",\"3\",36,\"3\",\"4\",7980,4,1,4,\"2\",1,4,\"3\",27,2,\"1\",2,1,1,2,1\n",
            "\"602\",\"1\",\"3\",24,\"3\",\"2\",2028,1,3,2,\"2\",1,2,\"2\",30,2,\"2\",2,1,1,1,1\n",
            "\"734\",\"1\",\"1\",15,\"2\",\"4\",2511,1,1,1,\"1\",1,4,\"3\",23,2,\"1\",1,1,1,1,1\n",
            "\"303\",\"1\",\"3\",24,\"2\",\"2\",3749,1,1,2,\"1\",1,4,\"3\",26,2,\"2\",1,1,1,1,1\n",
            "\"923\",\"0\",\"1\",24,\"2\",\"4\",1442,1,3,4,\"1\",1,4,\"3\",23,2,\"1\",2,1,1,1,1\n",
            "\"677\",\"1\",\"1\",9,\"3\",\"3\",1138,1,2,4,\"2\",1,4,\"1\",25,2,\"2\",2,1,1,1,1\n"
          ],
          "name": "stdout"
        }
      ]
    },
    {
      "cell_type": "code",
      "metadata": {
        "id": "Vkca9MCosl_u",
        "colab_type": "code",
        "colab": {}
      },
      "source": [
        "df = sqlContext.read.csv('Creditability.csv', header = True)"
      ],
      "execution_count": 0,
      "outputs": []
    },
    {
      "cell_type": "code",
      "metadata": {
        "id": "YEWdcM7zs0Z_",
        "colab_type": "code",
        "colab": {
          "base_uri": "https://localhost:8080/",
          "height": 55
        },
        "outputId": "a2c80aa0-c923-4781-d281-5b072a4843bf"
      },
      "source": [
        "df"
      ],
      "execution_count": 107,
      "outputs": [
        {
          "output_type": "execute_result",
          "data": {
            "text/plain": [
              "DataFrame[_c0: string, Creditability: string, Account.Balance: string, Duration.of.Credit..month.: string, Payment.Status.of.Previous.Credit: string, Purpose: string, Credit.Amount: string, Value.Savings.Stocks: string, Length.of.current.employment: string, Instalment.per.cent: string, Sex...Marital.Status: string, Guarantors: string, Duration.in.Current.address: string, Most.valuable.available.asset: string, Age..years.: string, Concurrent.Credits: string, Type.of.apartment: string, No.of.Credits.at.this.Bank: string, Occupation: string, No.of.dependents: string, Telephone: string, Foreign.Worker: string]"
            ]
          },
          "metadata": {
            "tags": []
          },
          "execution_count": 107
        }
      ]
    },
    {
      "cell_type": "code",
      "metadata": {
        "id": "_ElrX3RBs1vo",
        "colab_type": "code",
        "colab": {
          "base_uri": "https://localhost:8080/",
          "height": 433
        },
        "outputId": "1f30ef51-4107-40d4-d231-dc3db7fdb54b"
      },
      "source": [
        "df.printSchema()"
      ],
      "execution_count": 108,
      "outputs": [
        {
          "output_type": "stream",
          "text": [
            "root\n",
            " |-- _c0: string (nullable = true)\n",
            " |-- Creditability: string (nullable = true)\n",
            " |-- Account.Balance: string (nullable = true)\n",
            " |-- Duration.of.Credit..month.: string (nullable = true)\n",
            " |-- Payment.Status.of.Previous.Credit: string (nullable = true)\n",
            " |-- Purpose: string (nullable = true)\n",
            " |-- Credit.Amount: string (nullable = true)\n",
            " |-- Value.Savings.Stocks: string (nullable = true)\n",
            " |-- Length.of.current.employment: string (nullable = true)\n",
            " |-- Instalment.per.cent: string (nullable = true)\n",
            " |-- Sex...Marital.Status: string (nullable = true)\n",
            " |-- Guarantors: string (nullable = true)\n",
            " |-- Duration.in.Current.address: string (nullable = true)\n",
            " |-- Most.valuable.available.asset: string (nullable = true)\n",
            " |-- Age..years.: string (nullable = true)\n",
            " |-- Concurrent.Credits: string (nullable = true)\n",
            " |-- Type.of.apartment: string (nullable = true)\n",
            " |-- No.of.Credits.at.this.Bank: string (nullable = true)\n",
            " |-- Occupation: string (nullable = true)\n",
            " |-- No.of.dependents: string (nullable = true)\n",
            " |-- Telephone: string (nullable = true)\n",
            " |-- Foreign.Worker: string (nullable = true)\n",
            "\n"
          ],
          "name": "stdout"
        }
      ]
    },
    {
      "cell_type": "code",
      "metadata": {
        "id": "lf51BNdxs8Ue",
        "colab_type": "code",
        "colab": {
          "base_uri": "https://localhost:8080/",
          "height": 228
        },
        "outputId": "2ff47ca5-6467-43ba-83df-f3807640114c"
      },
      "source": [
        "df.show(5)"
      ],
      "execution_count": 109,
      "outputs": [
        {
          "output_type": "stream",
          "text": [
            "+---+-------------+---------------+--------------------------+---------------------------------+-------+-------------+--------------------+----------------------------+-------------------+--------------------+----------+---------------------------+-----------------------------+-----------+------------------+-----------------+--------------------------+----------+----------------+---------+--------------+\n",
            "|_c0|Creditability|Account.Balance|Duration.of.Credit..month.|Payment.Status.of.Previous.Credit|Purpose|Credit.Amount|Value.Savings.Stocks|Length.of.current.employment|Instalment.per.cent|Sex...Marital.Status|Guarantors|Duration.in.Current.address|Most.valuable.available.asset|Age..years.|Concurrent.Credits|Type.of.apartment|No.of.Credits.at.this.Bank|Occupation|No.of.dependents|Telephone|Foreign.Worker|\n",
            "+---+-------------+---------------+--------------------------+---------------------------------+-------+-------------+--------------------+----------------------------+-------------------+--------------------+----------+---------------------------+-----------------------------+-----------+------------------+-----------------+--------------------------+----------+----------------+---------+--------------+\n",
            "|497|            1|              3|                         6|                                2|      3|         2108|                   1|                           3|                  2|                   3|         1|                          2|                            1|         29|                 2|                1|                         1|         1|               1|        1|             1|\n",
            "|756|            0|              1|                        15|                                1|      4|          950|                   1|                           4|                  4|                   2|         1|                          3|                            3|         33|                 2|                1|                         2|         1|               2|        1|             1|\n",
            "|580|            0|              1|                        42|                                2|      3|         7174|                   4|                           3|                  4|                   1|         1|                          3|                            3|         30|                 2|                2|                         1|         1|               1|        2|             1|\n",
            "|833|            0|              3|                        36|                                3|      4|         7980|                   4|                           1|                  4|                   2|         1|                          4|                            3|         27|                 2|                1|                         2|         1|               1|        2|             1|\n",
            "|602|            1|              3|                        24|                                3|      2|         2028|                   1|                           3|                  2|                   2|         1|                          2|                            2|         30|                 2|                2|                         2|         1|               1|        1|             1|\n",
            "+---+-------------+---------------+--------------------------+---------------------------------+-------+-------------+--------------------+----------------------------+-------------------+--------------------+----------+---------------------------+-----------------------------+-----------+------------------+-----------------+--------------------------+----------+----------------+---------+--------------+\n",
            "only showing top 5 rows\n",
            "\n"
          ],
          "name": "stdout"
        }
      ]
    },
    {
      "cell_type": "code",
      "metadata": {
        "id": "P7XonI2utArS",
        "colab_type": "code",
        "colab": {}
      },
      "source": [
        "import pandas\n",
        "df2 = pandas.read_csv('Creditability.csv', index_col = 0)"
      ],
      "execution_count": 0,
      "outputs": []
    },
    {
      "cell_type": "code",
      "metadata": {
        "id": "Y8ViWMj9tMt3",
        "colab_type": "code",
        "colab": {
          "base_uri": "https://localhost:8080/",
          "height": 222
        },
        "outputId": "37b0643e-8fa1-4d07-afc2-621f3bcf56a3"
      },
      "source": [
        "df2.head()"
      ],
      "execution_count": 114,
      "outputs": [
        {
          "output_type": "execute_result",
          "data": {
            "text/html": [
              "<div>\n",
              "<style scoped>\n",
              "    .dataframe tbody tr th:only-of-type {\n",
              "        vertical-align: middle;\n",
              "    }\n",
              "\n",
              "    .dataframe tbody tr th {\n",
              "        vertical-align: top;\n",
              "    }\n",
              "\n",
              "    .dataframe thead th {\n",
              "        text-align: right;\n",
              "    }\n",
              "</style>\n",
              "<table border=\"1\" class=\"dataframe\">\n",
              "  <thead>\n",
              "    <tr style=\"text-align: right;\">\n",
              "      <th></th>\n",
              "      <th>Creditability</th>\n",
              "      <th>Account.Balance</th>\n",
              "      <th>Duration.of.Credit..month.</th>\n",
              "      <th>Payment.Status.of.Previous.Credit</th>\n",
              "      <th>Purpose</th>\n",
              "      <th>Credit.Amount</th>\n",
              "      <th>Value.Savings.Stocks</th>\n",
              "      <th>Length.of.current.employment</th>\n",
              "      <th>Instalment.per.cent</th>\n",
              "      <th>Sex...Marital.Status</th>\n",
              "      <th>Guarantors</th>\n",
              "      <th>Duration.in.Current.address</th>\n",
              "      <th>Most.valuable.available.asset</th>\n",
              "      <th>Age..years.</th>\n",
              "      <th>Concurrent.Credits</th>\n",
              "      <th>Type.of.apartment</th>\n",
              "      <th>No.of.Credits.at.this.Bank</th>\n",
              "      <th>Occupation</th>\n",
              "      <th>No.of.dependents</th>\n",
              "      <th>Telephone</th>\n",
              "      <th>Foreign.Worker</th>\n",
              "    </tr>\n",
              "  </thead>\n",
              "  <tbody>\n",
              "    <tr>\n",
              "      <th>497</th>\n",
              "      <td>1</td>\n",
              "      <td>3</td>\n",
              "      <td>6</td>\n",
              "      <td>2</td>\n",
              "      <td>3</td>\n",
              "      <td>2108</td>\n",
              "      <td>1</td>\n",
              "      <td>3</td>\n",
              "      <td>2</td>\n",
              "      <td>3</td>\n",
              "      <td>1</td>\n",
              "      <td>2</td>\n",
              "      <td>1</td>\n",
              "      <td>29</td>\n",
              "      <td>2</td>\n",
              "      <td>1</td>\n",
              "      <td>1</td>\n",
              "      <td>1</td>\n",
              "      <td>1</td>\n",
              "      <td>1</td>\n",
              "      <td>1</td>\n",
              "    </tr>\n",
              "    <tr>\n",
              "      <th>756</th>\n",
              "      <td>0</td>\n",
              "      <td>1</td>\n",
              "      <td>15</td>\n",
              "      <td>1</td>\n",
              "      <td>4</td>\n",
              "      <td>950</td>\n",
              "      <td>1</td>\n",
              "      <td>4</td>\n",
              "      <td>4</td>\n",
              "      <td>2</td>\n",
              "      <td>1</td>\n",
              "      <td>3</td>\n",
              "      <td>3</td>\n",
              "      <td>33</td>\n",
              "      <td>2</td>\n",
              "      <td>1</td>\n",
              "      <td>2</td>\n",
              "      <td>1</td>\n",
              "      <td>2</td>\n",
              "      <td>1</td>\n",
              "      <td>1</td>\n",
              "    </tr>\n",
              "    <tr>\n",
              "      <th>580</th>\n",
              "      <td>0</td>\n",
              "      <td>1</td>\n",
              "      <td>42</td>\n",
              "      <td>2</td>\n",
              "      <td>3</td>\n",
              "      <td>7174</td>\n",
              "      <td>4</td>\n",
              "      <td>3</td>\n",
              "      <td>4</td>\n",
              "      <td>1</td>\n",
              "      <td>1</td>\n",
              "      <td>3</td>\n",
              "      <td>3</td>\n",
              "      <td>30</td>\n",
              "      <td>2</td>\n",
              "      <td>2</td>\n",
              "      <td>1</td>\n",
              "      <td>1</td>\n",
              "      <td>1</td>\n",
              "      <td>2</td>\n",
              "      <td>1</td>\n",
              "    </tr>\n",
              "    <tr>\n",
              "      <th>833</th>\n",
              "      <td>0</td>\n",
              "      <td>3</td>\n",
              "      <td>36</td>\n",
              "      <td>3</td>\n",
              "      <td>4</td>\n",
              "      <td>7980</td>\n",
              "      <td>4</td>\n",
              "      <td>1</td>\n",
              "      <td>4</td>\n",
              "      <td>2</td>\n",
              "      <td>1</td>\n",
              "      <td>4</td>\n",
              "      <td>3</td>\n",
              "      <td>27</td>\n",
              "      <td>2</td>\n",
              "      <td>1</td>\n",
              "      <td>2</td>\n",
              "      <td>1</td>\n",
              "      <td>1</td>\n",
              "      <td>2</td>\n",
              "      <td>1</td>\n",
              "    </tr>\n",
              "    <tr>\n",
              "      <th>602</th>\n",
              "      <td>1</td>\n",
              "      <td>3</td>\n",
              "      <td>24</td>\n",
              "      <td>3</td>\n",
              "      <td>2</td>\n",
              "      <td>2028</td>\n",
              "      <td>1</td>\n",
              "      <td>3</td>\n",
              "      <td>2</td>\n",
              "      <td>2</td>\n",
              "      <td>1</td>\n",
              "      <td>2</td>\n",
              "      <td>2</td>\n",
              "      <td>30</td>\n",
              "      <td>2</td>\n",
              "      <td>2</td>\n",
              "      <td>2</td>\n",
              "      <td>1</td>\n",
              "      <td>1</td>\n",
              "      <td>1</td>\n",
              "      <td>1</td>\n",
              "    </tr>\n",
              "  </tbody>\n",
              "</table>\n",
              "</div>"
            ],
            "text/plain": [
              "     Creditability  Account.Balance  ...  Telephone  Foreign.Worker\n",
              "497              1                3  ...          1               1\n",
              "756              0                1  ...          1               1\n",
              "580              0                1  ...          2               1\n",
              "833              0                3  ...          2               1\n",
              "602              1                3  ...          1               1\n",
              "\n",
              "[5 rows x 21 columns]"
            ]
          },
          "metadata": {
            "tags": []
          },
          "execution_count": 114
        }
      ]
    },
    {
      "cell_type": "code",
      "metadata": {
        "id": "z71exjbutQoB",
        "colab_type": "code",
        "colab": {}
      },
      "source": [
        "spark_df = sqlContext.createDataFrame(df2) "
      ],
      "execution_count": 0,
      "outputs": []
    },
    {
      "cell_type": "code",
      "metadata": {
        "id": "EbbYId-3tedF",
        "colab_type": "code",
        "colab": {
          "base_uri": "https://localhost:8080/",
          "height": 228
        },
        "outputId": "01c2d4b4-c844-42cd-fe19-9fae6a5d99f9"
      },
      "source": [
        "spark_df.show(5)"
      ],
      "execution_count": 117,
      "outputs": [
        {
          "output_type": "stream",
          "text": [
            "+-------------+---------------+--------------------------+---------------------------------+-------+-------------+--------------------+----------------------------+-------------------+--------------------+----------+---------------------------+-----------------------------+-----------+------------------+-----------------+--------------------------+----------+----------------+---------+--------------+\n",
            "|Creditability|Account.Balance|Duration.of.Credit..month.|Payment.Status.of.Previous.Credit|Purpose|Credit.Amount|Value.Savings.Stocks|Length.of.current.employment|Instalment.per.cent|Sex...Marital.Status|Guarantors|Duration.in.Current.address|Most.valuable.available.asset|Age..years.|Concurrent.Credits|Type.of.apartment|No.of.Credits.at.this.Bank|Occupation|No.of.dependents|Telephone|Foreign.Worker|\n",
            "+-------------+---------------+--------------------------+---------------------------------+-------+-------------+--------------------+----------------------------+-------------------+--------------------+----------+---------------------------+-----------------------------+-----------+------------------+-----------------+--------------------------+----------+----------------+---------+--------------+\n",
            "|            1|              3|                         6|                                2|      3|         2108|                   1|                           3|                  2|                   3|         1|                          2|                            1|         29|                 2|                1|                         1|         1|               1|        1|             1|\n",
            "|            0|              1|                        15|                                1|      4|          950|                   1|                           4|                  4|                   2|         1|                          3|                            3|         33|                 2|                1|                         2|         1|               2|        1|             1|\n",
            "|            0|              1|                        42|                                2|      3|         7174|                   4|                           3|                  4|                   1|         1|                          3|                            3|         30|                 2|                2|                         1|         1|               1|        2|             1|\n",
            "|            0|              3|                        36|                                3|      4|         7980|                   4|                           1|                  4|                   2|         1|                          4|                            3|         27|                 2|                1|                         2|         1|               1|        2|             1|\n",
            "|            1|              3|                        24|                                3|      2|         2028|                   1|                           3|                  2|                   2|         1|                          2|                            2|         30|                 2|                2|                         2|         1|               1|        1|             1|\n",
            "+-------------+---------------+--------------------------+---------------------------------+-------+-------------+--------------------+----------------------------+-------------------+--------------------+----------+---------------------------+-----------------------------+-----------+------------------+-----------------+--------------------------+----------+----------------+---------+--------------+\n",
            "only showing top 5 rows\n",
            "\n"
          ],
          "name": "stdout"
        }
      ]
    },
    {
      "cell_type": "code",
      "metadata": {
        "id": "ly-A5SVltiKp",
        "colab_type": "code",
        "colab": {
          "base_uri": "https://localhost:8080/",
          "height": 433
        },
        "outputId": "cfb6f605-aff2-4cb0-9ae0-55fa2425fb0d"
      },
      "source": [
        "df.printSchema()"
      ],
      "execution_count": 118,
      "outputs": [
        {
          "output_type": "stream",
          "text": [
            "root\n",
            " |-- _c0: string (nullable = true)\n",
            " |-- Creditability: string (nullable = true)\n",
            " |-- Account.Balance: string (nullable = true)\n",
            " |-- Duration.of.Credit..month.: string (nullable = true)\n",
            " |-- Payment.Status.of.Previous.Credit: string (nullable = true)\n",
            " |-- Purpose: string (nullable = true)\n",
            " |-- Credit.Amount: string (nullable = true)\n",
            " |-- Value.Savings.Stocks: string (nullable = true)\n",
            " |-- Length.of.current.employment: string (nullable = true)\n",
            " |-- Instalment.per.cent: string (nullable = true)\n",
            " |-- Sex...Marital.Status: string (nullable = true)\n",
            " |-- Guarantors: string (nullable = true)\n",
            " |-- Duration.in.Current.address: string (nullable = true)\n",
            " |-- Most.valuable.available.asset: string (nullable = true)\n",
            " |-- Age..years.: string (nullable = true)\n",
            " |-- Concurrent.Credits: string (nullable = true)\n",
            " |-- Type.of.apartment: string (nullable = true)\n",
            " |-- No.of.Credits.at.this.Bank: string (nullable = true)\n",
            " |-- Occupation: string (nullable = true)\n",
            " |-- No.of.dependents: string (nullable = true)\n",
            " |-- Telephone: string (nullable = true)\n",
            " |-- Foreign.Worker: string (nullable = true)\n",
            "\n"
          ],
          "name": "stdout"
        }
      ]
    },
    {
      "cell_type": "code",
      "metadata": {
        "id": "JfS6hIaDuDF_",
        "colab_type": "code",
        "colab": {
          "base_uri": "https://localhost:8080/",
          "height": 208
        },
        "outputId": "069d95a0-e4c6-4651-9df1-ab7b3c708c8e"
      },
      "source": [
        "df.select('Creditability').show(5)"
      ],
      "execution_count": 119,
      "outputs": [
        {
          "output_type": "stream",
          "text": [
            "+-------------+\n",
            "|Creditability|\n",
            "+-------------+\n",
            "|            1|\n",
            "|            0|\n",
            "|            0|\n",
            "|            0|\n",
            "|            1|\n",
            "+-------------+\n",
            "only showing top 5 rows\n",
            "\n"
          ],
          "name": "stdout"
        }
      ]
    },
    {
      "cell_type": "code",
      "metadata": {
        "id": "Wo4d-AdFuJeo",
        "colab_type": "code",
        "colab": {
          "base_uri": "https://localhost:8080/",
          "height": 208
        },
        "outputId": "9b5e5be0-c7ad-4b53-8cad-3056762b082f"
      },
      "source": [
        "df.select('`Creditability`', '`Account.Balance`').show(5)"
      ],
      "execution_count": 122,
      "outputs": [
        {
          "output_type": "stream",
          "text": [
            "+-------------+---------------+\n",
            "|Creditability|Account.Balance|\n",
            "+-------------+---------------+\n",
            "|            1|              3|\n",
            "|            0|              1|\n",
            "|            0|              1|\n",
            "|            0|              3|\n",
            "|            1|              3|\n",
            "+-------------+---------------+\n",
            "only showing top 5 rows\n",
            "\n"
          ],
          "name": "stdout"
        }
      ]
    },
    {
      "cell_type": "code",
      "metadata": {
        "id": "VkNShPPauOF5",
        "colab_type": "code",
        "colab": {
          "base_uri": "https://localhost:8080/",
          "height": 208
        },
        "outputId": "72a6e51f-50a2-41b0-e606-69a8c4f9ab47"
      },
      "source": [
        "from pyspark.sql.functions import col\n",
        "df.select(\n",
        "    col('`Creditability`'), \n",
        "    col('`Account.Balance`').alias('account_balance')).show(5)"
      ],
      "execution_count": 125,
      "outputs": [
        {
          "output_type": "stream",
          "text": [
            "+-------------+---------------+\n",
            "|Creditability|account_balance|\n",
            "+-------------+---------------+\n",
            "|            1|              3|\n",
            "|            0|              1|\n",
            "|            0|              1|\n",
            "|            0|              3|\n",
            "|            1|              3|\n",
            "+-------------+---------------+\n",
            "only showing top 5 rows\n",
            "\n"
          ],
          "name": "stdout"
        }
      ]
    },
    {
      "cell_type": "code",
      "metadata": {
        "id": "ujlFOS48uneG",
        "colab_type": "code",
        "colab": {
          "base_uri": "https://localhost:8080/",
          "height": 208
        },
        "outputId": "996709a9-e22c-49ae-9be4-db5ca5061593"
      },
      "source": [
        "(\n",
        "    df.select(\n",
        "    col('`Creditability`'), \n",
        "    col('`Account.Balance`').alias('account_balance'))\n",
        "    .show(5)\n",
        ")"
      ],
      "execution_count": 126,
      "outputs": [
        {
          "output_type": "stream",
          "text": [
            "+-------------+---------------+\n",
            "|Creditability|account_balance|\n",
            "+-------------+---------------+\n",
            "|            1|              3|\n",
            "|            0|              1|\n",
            "|            0|              1|\n",
            "|            0|              3|\n",
            "|            1|              3|\n",
            "+-------------+---------------+\n",
            "only showing top 5 rows\n",
            "\n"
          ],
          "name": "stdout"
        }
      ]
    },
    {
      "cell_type": "code",
      "metadata": {
        "id": "LbbL0jm5uyzZ",
        "colab_type": "code",
        "colab": {
          "base_uri": "https://localhost:8080/",
          "height": 228
        },
        "outputId": "fb45489e-ada5-4714-958f-72d55cd58c44"
      },
      "source": [
        "df.filter(col('Creditability') == 1).show(5)"
      ],
      "execution_count": 127,
      "outputs": [
        {
          "output_type": "stream",
          "text": [
            "+---+-------------+---------------+--------------------------+---------------------------------+-------+-------------+--------------------+----------------------------+-------------------+--------------------+----------+---------------------------+-----------------------------+-----------+------------------+-----------------+--------------------------+----------+----------------+---------+--------------+\n",
            "|_c0|Creditability|Account.Balance|Duration.of.Credit..month.|Payment.Status.of.Previous.Credit|Purpose|Credit.Amount|Value.Savings.Stocks|Length.of.current.employment|Instalment.per.cent|Sex...Marital.Status|Guarantors|Duration.in.Current.address|Most.valuable.available.asset|Age..years.|Concurrent.Credits|Type.of.apartment|No.of.Credits.at.this.Bank|Occupation|No.of.dependents|Telephone|Foreign.Worker|\n",
            "+---+-------------+---------------+--------------------------+---------------------------------+-------+-------------+--------------------+----------------------------+-------------------+--------------------+----------+---------------------------+-----------------------------+-----------+------------------+-----------------+--------------------------+----------+----------------+---------+--------------+\n",
            "|497|            1|              3|                         6|                                2|      3|         2108|                   1|                           3|                  2|                   3|         1|                          2|                            1|         29|                 2|                1|                         1|         1|               1|        1|             1|\n",
            "|602|            1|              3|                        24|                                3|      2|         2028|                   1|                           3|                  2|                   2|         1|                          2|                            2|         30|                 2|                2|                         2|         1|               1|        1|             1|\n",
            "|734|            1|              1|                        15|                                2|      4|         2511|                   1|                           1|                  1|                   1|         1|                          4|                            3|         23|                 2|                1|                         1|         1|               1|        1|             1|\n",
            "|303|            1|              3|                        24|                                2|      2|         3749|                   1|                           1|                  2|                   1|         1|                          4|                            3|         26|                 2|                2|                         1|         1|               1|        1|             1|\n",
            "|677|            1|              1|                         9|                                3|      3|         1138|                   1|                           2|                  4|                   2|         1|                          4|                            1|         25|                 2|                2|                         2|         1|               1|        1|             1|\n",
            "+---+-------------+---------------+--------------------------+---------------------------------+-------+-------------+--------------------+----------------------------+-------------------+--------------------+----------+---------------------------+-----------------------------+-----------+------------------+-----------------+--------------------------+----------+----------------+---------+--------------+\n",
            "only showing top 5 rows\n",
            "\n"
          ],
          "name": "stdout"
        }
      ]
    },
    {
      "cell_type": "code",
      "metadata": {
        "id": "8zXjfJQ3u9ZY",
        "colab_type": "code",
        "colab": {
          "base_uri": "https://localhost:8080/",
          "height": 208
        },
        "outputId": "45b759a7-7ca8-4def-c34f-9ac513506009"
      },
      "source": [
        "df.select(\n",
        "    col('`Creditability`'), \n",
        "    col('`Account.Balance`').alias('account_balance')  \n",
        ").filter(col('Creditability') == 1).show(5)"
      ],
      "execution_count": 129,
      "outputs": [
        {
          "output_type": "stream",
          "text": [
            "+-------------+---------------+\n",
            "|Creditability|account_balance|\n",
            "+-------------+---------------+\n",
            "|            1|              3|\n",
            "|            1|              3|\n",
            "|            1|              1|\n",
            "|            1|              3|\n",
            "|            1|              1|\n",
            "+-------------+---------------+\n",
            "only showing top 5 rows\n",
            "\n"
          ],
          "name": "stdout"
        }
      ]
    },
    {
      "cell_type": "code",
      "metadata": {
        "id": "6iieDrhvvIEJ",
        "colab_type": "code",
        "colab": {
          "base_uri": "https://localhost:8080/",
          "height": 139
        },
        "outputId": "9990bf98-d994-4f60-ea47-16e51c539b6c"
      },
      "source": [
        "# SELECT Creditability,AVG(`Credit.Amount`) AS Credit_Amount FROM df \n",
        "# GROUP BY Creditability ORDER BY Credit_Amount DESC;\n",
        "from pyspark.sql import functions\n",
        "cnt_df = (df\n",
        "      .groupby(col('Creditability'))\n",
        "      .agg(functions.mean('`Credit.Amount`').alias('Credit_Amount'))\n",
        "      .sort(functions.desc('Credit_Amount'))\n",
        "    )\n",
        "cnt_df.show(5)\n"
      ],
      "execution_count": 131,
      "outputs": [
        {
          "output_type": "stream",
          "text": [
            "+-------------+------------------+\n",
            "|Creditability|     Credit_Amount|\n",
            "+-------------+------------------+\n",
            "|            0| 4102.174825174825|\n",
            "|            1|2897.5826330532213|\n",
            "+-------------+------------------+\n",
            "\n"
          ],
          "name": "stdout"
        }
      ]
    },
    {
      "cell_type": "code",
      "metadata": {
        "id": "Nfip8NGqvyVL",
        "colab_type": "code",
        "colab": {}
      },
      "source": [
        "df2 = cnt_df.toPandas() "
      ],
      "execution_count": 0,
      "outputs": []
    },
    {
      "cell_type": "code",
      "metadata": {
        "id": "q8a7tWN4wLnn",
        "colab_type": "code",
        "colab": {
          "base_uri": "https://localhost:8080/",
          "height": 279
        },
        "outputId": "dfa5e7a4-1d41-480f-df79-7e2058c80807"
      },
      "source": [
        "df2['Credit_Amount'].plot(kind = 'bar')"
      ],
      "execution_count": 135,
      "outputs": [
        {
          "output_type": "execute_result",
          "data": {
            "text/plain": [
              "<matplotlib.axes._subplots.AxesSubplot at 0x7f6bcaf59358>"
            ]
          },
          "metadata": {
            "tags": []
          },
          "execution_count": 135
        },
        {
          "output_type": "display_data",
          "data": {
            "image/png": "[encoded data removed]",
            "text/plain": [
              "<Figure size 432x288 with 1 Axes>"
            ]
          },
          "metadata": {
            "tags": [],
            "needs_background": "light"
          }
        }
      ]
    },
    {
      "cell_type": "code",
      "metadata": {
        "id": "I3dMNlCdwOK9",
        "colab_type": "code",
        "colab": {
          "base_uri": "https://localhost:8080/",
          "height": 110
        },
        "outputId": "548870c1-86a3-429d-c0c0-e204d839ef77"
      },
      "source": [
        "import pandas\n",
        "code_table = pandas.DataFrame(\n",
        "    [{'codename': 'credible', 'code': 1},{'codename': 'not credible', 'code': 0}])\n",
        "code_table"
      ],
      "execution_count": 138,
      "outputs": [
        {
          "output_type": "execute_result",
          "data": {
            "text/html": [
              "<div>\n",
              "<style scoped>\n",
              "    .dataframe tbody tr th:only-of-type {\n",
              "        vertical-align: middle;\n",
              "    }\n",
              "\n",
              "    .dataframe tbody tr th {\n",
              "        vertical-align: top;\n",
              "    }\n",
              "\n",
              "    .dataframe thead th {\n",
              "        text-align: right;\n",
              "    }\n",
              "</style>\n",
              "<table border=\"1\" class=\"dataframe\">\n",
              "  <thead>\n",
              "    <tr style=\"text-align: right;\">\n",
              "      <th></th>\n",
              "      <th>codename</th>\n",
              "      <th>code</th>\n",
              "    </tr>\n",
              "  </thead>\n",
              "  <tbody>\n",
              "    <tr>\n",
              "      <th>0</th>\n",
              "      <td>credible</td>\n",
              "      <td>1</td>\n",
              "    </tr>\n",
              "    <tr>\n",
              "      <th>1</th>\n",
              "      <td>not credible</td>\n",
              "      <td>0</td>\n",
              "    </tr>\n",
              "  </tbody>\n",
              "</table>\n",
              "</div>"
            ],
            "text/plain": [
              "       codename  code\n",
              "0      credible     1\n",
              "1  not credible     0"
            ]
          },
          "metadata": {
            "tags": []
          },
          "execution_count": 138
        }
      ]
    },
    {
      "cell_type": "code",
      "metadata": {
        "id": "Bdf6524Vwhky",
        "colab_type": "code",
        "colab": {}
      },
      "source": [
        "spark_code_table = sqlContext.createDataFrame(code_table).alias('code_df')"
      ],
      "execution_count": 0,
      "outputs": []
    },
    {
      "cell_type": "code",
      "metadata": {
        "id": "XEhEIoLwwx5z",
        "colab_type": "code",
        "colab": {}
      },
      "source": [
        "cnt_df = cnt_df.alias('cnt_df')"
      ],
      "execution_count": 0,
      "outputs": []
    },
    {
      "cell_type": "code",
      "metadata": {
        "id": "rF6uWhQ8w3AJ",
        "colab_type": "code",
        "colab": {
          "base_uri": "https://localhost:8080/",
          "height": 139
        },
        "outputId": "dd9a21aa-918c-4fe1-8758-be85d97dce0e"
      },
      "source": [
        "# SELECT cnt_df.*, code_df.codename FROM cnt_df cnt_df \n",
        "# INNER JOIN spark_code_table code_df\n",
        "# ON cnt_df.Creditability =code_df.code\n",
        "cnt_df.join(\n",
        "    spark_code_table, col('cnt_df.Creditability') == col('code_df.code')\n",
        "    ).select(\n",
        "    'cnt_df.*',\n",
        "    'code_df.codename'\n",
        ").show(5)\n"
      ],
      "execution_count": 144,
      "outputs": [
        {
          "output_type": "stream",
          "text": [
            "+-------------+------------------+------------+\n",
            "|Creditability|     Credit_Amount|    codename|\n",
            "+-------------+------------------+------------+\n",
            "|            1|2897.5826330532213|    credible|\n",
            "|            0| 4102.174825174825|not credible|\n",
            "+-------------+------------------+------------+\n",
            "\n"
          ],
          "name": "stdout"
        }
      ]
    },
    {
      "cell_type": "markdown",
      "metadata": {
        "id": "rzxUIXSVx5VQ",
        "colab_type": "text"
      },
      "source": [
        "## Spark SQL"
      ]
    },
    {
      "cell_type": "code",
      "metadata": {
        "id": "uX4nov-8xPZ9",
        "colab_type": "code",
        "colab": {}
      },
      "source": [
        "sqlContext.registerDataFrameAsTable(df, \"Creditability_Data\")"
      ],
      "execution_count": 0,
      "outputs": []
    },
    {
      "cell_type": "code",
      "metadata": {
        "id": "t8M2mNeex8ie",
        "colab_type": "code",
        "colab": {
          "base_uri": "https://localhost:8080/",
          "height": 139
        },
        "outputId": "116c48c8-6e86-4851-c7a2-6aa9e3d8e96b"
      },
      "source": [
        "stat_data = sqlContext.sql(\"\"\"\n",
        "  SELECT Creditability,AVG(`Credit.Amount`) AS credit_amount\n",
        "  FROM Creditability_Data\n",
        "  GROUP BY Creditability\n",
        "  ORDER BY credit_amount DESC\n",
        "\"\"\")\n",
        "stat_data.show()\n",
        "sqlContext.dropTempTable(\"Creditability_Data\")"
      ],
      "execution_count": 151,
      "outputs": [
        {
          "output_type": "stream",
          "text": [
            "+-------------+------------------+\n",
            "|Creditability|     credit_amount|\n",
            "+-------------+------------------+\n",
            "|            0| 4102.174825174825|\n",
            "|            1|2897.5826330532213|\n",
            "+-------------+------------------+\n",
            "\n"
          ],
          "name": "stdout"
        }
      ]
    },
    {
      "cell_type": "code",
      "metadata": {
        "id": "wI228wB7yD6N",
        "colab_type": "code",
        "colab": {
          "base_uri": "https://localhost:8080/",
          "height": 1000
        },
        "outputId": "4d9139e0-2827-43c1-e7c9-ac4b834701cc"
      },
      "source": [
        "stat_data = sqlContext.sql(\"\"\"\n",
        "  SELECT Creditability,AVG(`Credit.Amount`) AS credit_amount\n",
        "  FROM Creditability_Data\n",
        "  GROUP BY Creditability\n",
        "  ORDER BY credit_amount DESC\n",
        "\"\"\")"
      ],
      "execution_count": 152,
      "outputs": [
        {
          "output_type": "stream",
          "text": [
            "ERROR:root:An unexpected error occurred while tokenizing input\n",
            "The following traceback may be corrupted or invalid\n",
            "The error message is: ('EOF in multi-line string', (1, 0))\n",
            "\n"
          ],
          "name": "stderr"
        },
        {
          "output_type": "error",
          "ename": "AnalysisException",
          "evalue": "ignored",
          "traceback": [
            "\u001b[0;31m---------------------------------------------------------------------------\u001b[0m",
            "\u001b[0;31mPy4JJavaError\u001b[0m                             Traceback (most recent call last)",
            "\u001b[0;32m/content/spark-2.4.5-bin-hadoop2.7/python/pyspark/sql/utils.py\u001b[0m in \u001b[0;36mdeco\u001b[0;34m(*a, **kw)\u001b[0m\n\u001b[1;32m     62\u001b[0m         \u001b[0;32mtry\u001b[0m\u001b[0;34m:\u001b[0m\u001b[0;34m\u001b[0m\u001b[0;34m\u001b[0m\u001b[0m\n\u001b[0;32m---> 63\u001b[0;31m             \u001b[0;32mreturn\u001b[0m \u001b[0mf\u001b[0m\u001b[0;34m(\u001b[0m\u001b[0;34m*\u001b[0m\u001b[0ma\u001b[0m\u001b[0;34m,\u001b[0m \u001b[0;34m**\u001b[0m\u001b[0mkw\u001b[0m\u001b[0;34m)\u001b[0m\u001b[0;34m\u001b[0m\u001b[0;34m\u001b[0m\u001b[0m\n\u001b[0m\u001b[1;32m     64\u001b[0m         \u001b[0;32mexcept\u001b[0m \u001b[0mpy4j\u001b[0m\u001b[0;34m.\u001b[0m\u001b[0mprotocol\u001b[0m\u001b[0;34m.\u001b[0m\u001b[0mPy4JJavaError\u001b[0m \u001b[0;32mas\u001b[0m \u001b[0me\u001b[0m\u001b[0;34m:\u001b[0m\u001b[0;34m\u001b[0m\u001b[0;34m\u001b[0m\u001b[0m\n",
            "\u001b[0;32m/content/spark-2.4.5-bin-hadoop2.7/python/lib/py4j-0.10.7-src.zip/py4j/protocol.py\u001b[0m in \u001b[0;36mget_return_value\u001b[0;34m(answer, gateway_client, target_id, name)\u001b[0m\n\u001b[1;32m    327\u001b[0m                     \u001b[0;34m\"An error occurred while calling {0}{1}{2}.\\n\"\u001b[0m\u001b[0;34m.\u001b[0m\u001b[0;34m\u001b[0m\u001b[0;34m\u001b[0m\u001b[0m\n\u001b[0;32m--> 328\u001b[0;31m                     format(target_id, \".\", name), value)\n\u001b[0m\u001b[1;32m    329\u001b[0m             \u001b[0;32melse\u001b[0m\u001b[0;34m:\u001b[0m\u001b[0;34m\u001b[0m\u001b[0;34m\u001b[0m\u001b[0m\n",
            "\u001b[0;31mPy4JJavaError\u001b[0m: An error occurred while calling o22.sql.\n: org.apache.spark.sql.AnalysisException: Table or view not found: Creditability_Data; line 3 pos 7\n\tat org.apache.spark.sql.catalyst.analysis.package$AnalysisErrorAt.failAnalysis(package.scala:47)\n\tat org.apache.spark.sql.catalyst.analysis.Analyzer$ResolveRelations$.org$apache$spark$sql$catalyst$analysis$Analyzer$ResolveRelations$$lookupTableFromCatalog(Analyzer.scala:731)\n\tat org.apache.spark.sql.catalyst.analysis.Analyzer$ResolveRelations$.resolveRelation(Analyzer.scala:683)\n\tat org.apache.spark.sql.catalyst.analysis.Analyzer$ResolveRelations$$anonfun$apply$8.applyOrElse(Analyzer.scala:713)\n\tat org.apache.spark.sql.catalyst.analysis.Analyzer$ResolveRelations$$anonfun$apply$8.applyOrElse(Analyzer.scala:706)\n\tat org.apache.spark.sql.catalyst.plans.logical.AnalysisHelper$$anonfun$resolveOperatorsUp$1$$anonfun$apply$1.apply(AnalysisHelper.scala:90)\n\tat org.apache.spark.sql.catalyst.plans.logical.AnalysisHelper$$anonfun$resolveOperatorsUp$1$$anonfun$apply$1.apply(AnalysisHelper.scala:90)\n\tat org.apache.spark.sql.catalyst.trees.CurrentOrigin$.withOrigin(TreeNode.scala:69)\n\tat org.apache.spark.sql.catalyst.plans.logical.AnalysisHelper$$anonfun$resolveOperatorsUp$1.apply(AnalysisHelper.scala:89)\n\tat org.apache.spark.sql.catalyst.plans.logical.AnalysisHelper$$anonfun$resolveOperatorsUp$1.apply(AnalysisHelper.scala:86)\n\tat org.apache.spark.sql.catalyst.plans.logical.AnalysisHelper$.allowInvokingTransformsInAnalyzer(AnalysisHelper.scala:194)\n\tat org.apache.spark.sql.catalyst.plans.logical.AnalysisHelper$class.resolveOperatorsUp(AnalysisHelper.scala:86)\n\tat org.apache.spark.sql.catalyst.plans.logical.LogicalPlan.resolveOperatorsUp(LogicalPlan.scala:29)\n\tat org.apache.spark.sql.catalyst.plans.logical.AnalysisHelper$$anonfun$resolveOperatorsUp$1$$anonfun$1.apply(AnalysisHelper.scala:87)\n\tat org.apache.spark.sql.catalyst.plans.logical.AnalysisHelper$$anonfun$resolveOperatorsUp$1$$anonfun$1.apply(AnalysisHelper.scala:87)\n\tat org.apache.spark.sql.catalyst.trees.TreeNode$$anonfun$4.apply(TreeNode.scala:328)\n\tat org.apache.spark.sql.catalyst.trees.TreeNode.mapProductIterator(TreeNode.scala:186)\n\tat org.apache.spark.sql.catalyst.trees.TreeNode.mapChildren(TreeNode.scala:326)\n\tat org.apache.spark.sql.catalyst.plans.logical.AnalysisHelper$$anonfun$resolveOperatorsUp$1.apply(AnalysisHelper.scala:87)\n\tat org.apache.spark.sql.catalyst.plans.logical.AnalysisHelper$$anonfun$resolveOperatorsUp$1.apply(AnalysisHelper.scala:86)\n\tat org.apache.spark.sql.catalyst.plans.logical.AnalysisHelper$.allowInvokingTransformsInAnalyzer(AnalysisHelper.scala:194)\n\tat org.apache.spark.sql.catalyst.plans.logical.AnalysisHelper$class.resolveOperatorsUp(AnalysisHelper.scala:86)\n\tat org.apache.spark.sql.catalyst.plans.logical.LogicalPlan.resolveOperatorsUp(LogicalPlan.scala:29)\n\tat org.apache.spark.sql.catalyst.plans.logical.AnalysisHelper$$anonfun$resolveOperatorsUp$1$$anonfun$1.apply(AnalysisHelper.scala:87)\n\tat org.apache.spark.sql.catalyst.plans.logical.AnalysisHelper$$anonfun$resolveOperatorsUp$1$$anonfun$1.apply(AnalysisHelper.scala:87)\n\tat org.apache.spark.sql.catalyst.trees.TreeNode$$anonfun$4.apply(TreeNode.scala:328)\n\tat org.apache.spark.sql.catalyst.trees.TreeNode.mapProductIterator(TreeNode.scala:186)\n\tat org.apache.spark.sql.catalyst.trees.TreeNode.mapChildren(TreeNode.scala:326)\n\tat org.apache.spark.sql.catalyst.plans.logical.AnalysisHelper$$anonfun$resolveOperatorsUp$1.apply(AnalysisHelper.scala:87)\n\tat org.apache.spark.sql.catalyst.plans.logical.AnalysisHelper$$anonfun$resolveOperatorsUp$1.apply(AnalysisHelper.scala:86)\n\tat org.apache.spark.sql.catalyst.plans.logical.AnalysisHelper$.allowInvokingTransformsInAnalyzer(AnalysisHelper.scala:194)\n\tat org.apache.spark.sql.catalyst.plans.logical.AnalysisHelper$class.resolveOperatorsUp(AnalysisHelper.scala:86)\n\tat org.apache.spark.sql.catalyst.plans.logical.LogicalPlan.resolveOperatorsUp(LogicalPlan.scala:29)\n\tat org.apache.spark.sql.catalyst.analysis.Analyzer$ResolveRelations$.apply(Analyzer.scala:706)\n\tat org.apache.spark.sql.catalyst.analysis.Analyzer$ResolveRelations$.apply(Analyzer.scala:652)\n\tat org.apache.spark.sql.catalyst.rules.RuleExecutor$$anonfun$execute$1$$anonfun$apply$1.apply(RuleExecutor.scala:87)\n\tat org.apache.spark.sql.catalyst.rules.RuleExecutor$$anonfun$execute$1$$anonfun$apply$1.apply(RuleExecutor.scala:84)\n\tat scala.collection.LinearSeqOptimized$class.foldLeft(LinearSeqOptimized.scala:124)\n\tat scala.collection.immutable.List.foldLeft(List.scala:84)\n\tat org.apache.spark.sql.catalyst.rules.RuleExecutor$$anonfun$execute$1.apply(RuleExecutor.scala:84)\n\tat org.apache.spark.sql.catalyst.rules.RuleExecutor$$anonfun$execute$1.apply(RuleExecutor.scala:76)\n\tat scala.collection.immutable.List.foreach(List.scala:392)\n\tat org.apache.spark.sql.catalyst.rules.RuleExecutor.execute(RuleExecutor.scala:76)\n\tat org.apache.spark.sql.catalyst.analysis.Analyzer.org$apache$spark$sql$catalyst$analysis$Analyzer$$executeSameContext(Analyzer.scala:127)\n\tat org.apache.spark.sql.catalyst.analysis.Analyzer.execute(Analyzer.scala:121)\n\tat org.apache.spark.sql.catalyst.analysis.Analyzer$$anonfun$executeAndCheck$1.apply(Analyzer.scala:106)\n\tat org.apache.spark.sql.catalyst.analysis.Analyzer$$anonfun$executeAndCheck$1.apply(Analyzer.scala:105)\n\tat org.apache.spark.sql.catalyst.plans.logical.AnalysisHelper$.markInAnalyzer(AnalysisHelper.scala:201)\n\tat org.apache.spark.sql.catalyst.analysis.Analyzer.executeAndCheck(Analyzer.scala:105)\n\tat org.apache.spark.sql.execution.QueryExecution.analyzed$lzycompute(QueryExecution.scala:58)\n\tat org.apache.spark.sql.execution.QueryExecution.analyzed(QueryExecution.scala:56)\n\tat org.apache.spark.sql.execution.QueryExecution.assertAnalyzed(QueryExecution.scala:48)\n\tat org.apache.spark.sql.Dataset$.ofRows(Dataset.scala:78)\n\tat org.apache.spark.sql.SparkSession.sql(SparkSession.scala:642)\n\tat sun.reflect.NativeMethodAccessorImpl.invoke0(Native Method)\n\tat sun.reflect.NativeMethodAccessorImpl.invoke(NativeMethodAccessorImpl.java:62)\n\tat sun.reflect.DelegatingMethodAccessorImpl.invoke(DelegatingMethodAccessorImpl.java:43)\n\tat java.lang.reflect.Method.invoke(Method.java:498)\n\tat py4j.reflection.MethodInvoker.invoke(MethodInvoker.java:244)\n\tat py4j.reflection.ReflectionEngine.invoke(ReflectionEngine.java:357)\n\tat py4j.Gateway.invoke(Gateway.java:282)\n\tat py4j.commands.AbstractCommand.invokeMethod(AbstractCommand.java:132)\n\tat py4j.commands.CallCommand.execute(CallCommand.java:79)\n\tat py4j.GatewayConnection.run(GatewayConnection.java:238)\n\tat java.lang.Thread.run(Thread.java:748)\nCaused by: org.apache.spark.sql.catalyst.analysis.NoSuchTableException: Table or view 'creditability_data' not found in database 'default';\n\tat org.apache.spark.sql.catalyst.catalog.ExternalCatalog$class.requireTableExists(ExternalCatalog.scala:48)\n\tat org.apache.spark.sql.catalyst.catalog.InMemoryCatalog.requireTableExists(InMemoryCatalog.scala:45)\n\tat org.apache.spark.sql.catalyst.catalog.InMemoryCatalog.getTable(InMemoryCatalog.scala:326)\n\tat org.apache.spark.sql.catalyst.catalog.ExternalCatalogWithListener.getTable(ExternalCatalogWithListener.scala:138)\n\tat org.apache.spark.sql.catalyst.catalog.SessionCatalog.lookupRelation(SessionCatalog.scala:706)\n\tat org.apache.spark.sql.catalyst.analysis.Analyzer$ResolveRelations$.org$apache$spark$sql$catalyst$analysis$Analyzer$ResolveRelations$$lookupTableFromCatalog(Analyzer.scala:728)\n\t... 63 more\n",
            "\nDuring handling of the above exception, another exception occurred:\n",
            "\u001b[0;31mAnalysisException\u001b[0m                         Traceback (most recent call last)",
            "\u001b[0;32m<ipython-input-152-a8ff8a31817a>\u001b[0m in \u001b[0;36m<module>\u001b[0;34m()\u001b[0m\n\u001b[1;32m      4\u001b[0m   \u001b[0mGROUP\u001b[0m \u001b[0mBY\u001b[0m \u001b[0mCreditability\u001b[0m\u001b[0;34m\u001b[0m\u001b[0;34m\u001b[0m\u001b[0m\n\u001b[1;32m      5\u001b[0m   \u001b[0mORDER\u001b[0m \u001b[0mBY\u001b[0m \u001b[0mcredit_amount\u001b[0m \u001b[0mDESC\u001b[0m\u001b[0;34m\u001b[0m\u001b[0;34m\u001b[0m\u001b[0m\n\u001b[0;32m----> 6\u001b[0;31m \"\"\")\n\u001b[0m",
            "\u001b[0;32m/content/spark-2.4.5-bin-hadoop2.7/python/pyspark/sql/context.py\u001b[0m in \u001b[0;36msql\u001b[0;34m(self, sqlQuery)\u001b[0m\n\u001b[1;32m    356\u001b[0m         \u001b[0;34m[\u001b[0m\u001b[0mRow\u001b[0m\u001b[0;34m(\u001b[0m\u001b[0mf1\u001b[0m\u001b[0;34m=\u001b[0m\u001b[0;36m1\u001b[0m\u001b[0;34m,\u001b[0m \u001b[0mf2\u001b[0m\u001b[0;34m=\u001b[0m\u001b[0;34mu'row1'\u001b[0m\u001b[0;34m)\u001b[0m\u001b[0;34m,\u001b[0m \u001b[0mRow\u001b[0m\u001b[0;34m(\u001b[0m\u001b[0mf1\u001b[0m\u001b[0;34m=\u001b[0m\u001b[0;36m2\u001b[0m\u001b[0;34m,\u001b[0m \u001b[0mf2\u001b[0m\u001b[0;34m=\u001b[0m\u001b[0;34mu'row2'\u001b[0m\u001b[0;34m)\u001b[0m\u001b[0;34m,\u001b[0m \u001b[0mRow\u001b[0m\u001b[0;34m(\u001b[0m\u001b[0mf1\u001b[0m\u001b[0;34m=\u001b[0m\u001b[0;36m3\u001b[0m\u001b[0;34m,\u001b[0m \u001b[0mf2\u001b[0m\u001b[0;34m=\u001b[0m\u001b[0;34mu'row3'\u001b[0m\u001b[0;34m)\u001b[0m\u001b[0;34m]\u001b[0m\u001b[0;34m\u001b[0m\u001b[0;34m\u001b[0m\u001b[0m\n\u001b[1;32m    357\u001b[0m         \"\"\"\n\u001b[0;32m--> 358\u001b[0;31m         \u001b[0;32mreturn\u001b[0m \u001b[0mself\u001b[0m\u001b[0;34m.\u001b[0m\u001b[0msparkSession\u001b[0m\u001b[0;34m.\u001b[0m\u001b[0msql\u001b[0m\u001b[0;34m(\u001b[0m\u001b[0msqlQuery\u001b[0m\u001b[0;34m)\u001b[0m\u001b[0;34m\u001b[0m\u001b[0;34m\u001b[0m\u001b[0m\n\u001b[0m\u001b[1;32m    359\u001b[0m \u001b[0;34m\u001b[0m\u001b[0m\n\u001b[1;32m    360\u001b[0m     \u001b[0;34m@\u001b[0m\u001b[0msince\u001b[0m\u001b[0;34m(\u001b[0m\u001b[0;36m1.0\u001b[0m\u001b[0;34m)\u001b[0m\u001b[0;34m\u001b[0m\u001b[0;34m\u001b[0m\u001b[0m\n",
            "\u001b[0;32m/content/spark-2.4.5-bin-hadoop2.7/python/pyspark/sql/session.py\u001b[0m in \u001b[0;36msql\u001b[0;34m(self, sqlQuery)\u001b[0m\n\u001b[1;32m    765\u001b[0m         \u001b[0;34m[\u001b[0m\u001b[0mRow\u001b[0m\u001b[0;34m(\u001b[0m\u001b[0mf1\u001b[0m\u001b[0;34m=\u001b[0m\u001b[0;36m1\u001b[0m\u001b[0;34m,\u001b[0m \u001b[0mf2\u001b[0m\u001b[0;34m=\u001b[0m\u001b[0;34mu'row1'\u001b[0m\u001b[0;34m)\u001b[0m\u001b[0;34m,\u001b[0m \u001b[0mRow\u001b[0m\u001b[0;34m(\u001b[0m\u001b[0mf1\u001b[0m\u001b[0;34m=\u001b[0m\u001b[0;36m2\u001b[0m\u001b[0;34m,\u001b[0m \u001b[0mf2\u001b[0m\u001b[0;34m=\u001b[0m\u001b[0;34mu'row2'\u001b[0m\u001b[0;34m)\u001b[0m\u001b[0;34m,\u001b[0m \u001b[0mRow\u001b[0m\u001b[0;34m(\u001b[0m\u001b[0mf1\u001b[0m\u001b[0;34m=\u001b[0m\u001b[0;36m3\u001b[0m\u001b[0;34m,\u001b[0m \u001b[0mf2\u001b[0m\u001b[0;34m=\u001b[0m\u001b[0;34mu'row3'\u001b[0m\u001b[0;34m)\u001b[0m\u001b[0;34m]\u001b[0m\u001b[0;34m\u001b[0m\u001b[0;34m\u001b[0m\u001b[0m\n\u001b[1;32m    766\u001b[0m         \"\"\"\n\u001b[0;32m--> 767\u001b[0;31m         \u001b[0;32mreturn\u001b[0m \u001b[0mDataFrame\u001b[0m\u001b[0;34m(\u001b[0m\u001b[0mself\u001b[0m\u001b[0;34m.\u001b[0m\u001b[0m_jsparkSession\u001b[0m\u001b[0;34m.\u001b[0m\u001b[0msql\u001b[0m\u001b[0;34m(\u001b[0m\u001b[0msqlQuery\u001b[0m\u001b[0;34m)\u001b[0m\u001b[0;34m,\u001b[0m \u001b[0mself\u001b[0m\u001b[0;34m.\u001b[0m\u001b[0m_wrapped\u001b[0m\u001b[0;34m)\u001b[0m\u001b[0;34m\u001b[0m\u001b[0;34m\u001b[0m\u001b[0m\n\u001b[0m\u001b[1;32m    768\u001b[0m \u001b[0;34m\u001b[0m\u001b[0m\n\u001b[1;32m    769\u001b[0m     \u001b[0;34m@\u001b[0m\u001b[0msince\u001b[0m\u001b[0;34m(\u001b[0m\u001b[0;36m2.0\u001b[0m\u001b[0;34m)\u001b[0m\u001b[0;34m\u001b[0m\u001b[0;34m\u001b[0m\u001b[0m\n",
            "\u001b[0;32m/content/spark-2.4.5-bin-hadoop2.7/python/lib/py4j-0.10.7-src.zip/py4j/java_gateway.py\u001b[0m in \u001b[0;36m__call__\u001b[0;34m(self, *args)\u001b[0m\n\u001b[1;32m   1255\u001b[0m         \u001b[0manswer\u001b[0m \u001b[0;34m=\u001b[0m \u001b[0mself\u001b[0m\u001b[0;34m.\u001b[0m\u001b[0mgateway_client\u001b[0m\u001b[0;34m.\u001b[0m\u001b[0msend_command\u001b[0m\u001b[0;34m(\u001b[0m\u001b[0mcommand\u001b[0m\u001b[0;34m)\u001b[0m\u001b[0;34m\u001b[0m\u001b[0;34m\u001b[0m\u001b[0m\n\u001b[1;32m   1256\u001b[0m         return_value = get_return_value(\n\u001b[0;32m-> 1257\u001b[0;31m             answer, self.gateway_client, self.target_id, self.name)\n\u001b[0m\u001b[1;32m   1258\u001b[0m \u001b[0;34m\u001b[0m\u001b[0m\n\u001b[1;32m   1259\u001b[0m         \u001b[0;32mfor\u001b[0m \u001b[0mtemp_arg\u001b[0m \u001b[0;32min\u001b[0m \u001b[0mtemp_args\u001b[0m\u001b[0;34m:\u001b[0m\u001b[0;34m\u001b[0m\u001b[0;34m\u001b[0m\u001b[0m\n",
            "\u001b[0;32m/content/spark-2.4.5-bin-hadoop2.7/python/pyspark/sql/utils.py\u001b[0m in \u001b[0;36mdeco\u001b[0;34m(*a, **kw)\u001b[0m\n\u001b[1;32m     67\u001b[0m                                              e.java_exception.getStackTrace()))\n\u001b[1;32m     68\u001b[0m             \u001b[0;32mif\u001b[0m \u001b[0ms\u001b[0m\u001b[0;34m.\u001b[0m\u001b[0mstartswith\u001b[0m\u001b[0;34m(\u001b[0m\u001b[0;34m'org.apache.spark.sql.AnalysisException: '\u001b[0m\u001b[0;34m)\u001b[0m\u001b[0;34m:\u001b[0m\u001b[0;34m\u001b[0m\u001b[0;34m\u001b[0m\u001b[0m\n\u001b[0;32m---> 69\u001b[0;31m                 \u001b[0;32mraise\u001b[0m \u001b[0mAnalysisException\u001b[0m\u001b[0;34m(\u001b[0m\u001b[0ms\u001b[0m\u001b[0;34m.\u001b[0m\u001b[0msplit\u001b[0m\u001b[0;34m(\u001b[0m\u001b[0;34m': '\u001b[0m\u001b[0;34m,\u001b[0m \u001b[0;36m1\u001b[0m\u001b[0;34m)\u001b[0m\u001b[0;34m[\u001b[0m\u001b[0;36m1\u001b[0m\u001b[0;34m]\u001b[0m\u001b[0;34m,\u001b[0m \u001b[0mstackTrace\u001b[0m\u001b[0;34m)\u001b[0m\u001b[0;34m\u001b[0m\u001b[0;34m\u001b[0m\u001b[0m\n\u001b[0m\u001b[1;32m     70\u001b[0m             \u001b[0;32mif\u001b[0m \u001b[0ms\u001b[0m\u001b[0;34m.\u001b[0m\u001b[0mstartswith\u001b[0m\u001b[0;34m(\u001b[0m\u001b[0;34m'org.apache.spark.sql.catalyst.analysis'\u001b[0m\u001b[0;34m)\u001b[0m\u001b[0;34m:\u001b[0m\u001b[0;34m\u001b[0m\u001b[0;34m\u001b[0m\u001b[0m\n\u001b[1;32m     71\u001b[0m                 \u001b[0;32mraise\u001b[0m \u001b[0mAnalysisException\u001b[0m\u001b[0;34m(\u001b[0m\u001b[0ms\u001b[0m\u001b[0;34m.\u001b[0m\u001b[0msplit\u001b[0m\u001b[0;34m(\u001b[0m\u001b[0;34m': '\u001b[0m\u001b[0;34m,\u001b[0m \u001b[0;36m1\u001b[0m\u001b[0;34m)\u001b[0m\u001b[0;34m[\u001b[0m\u001b[0;36m1\u001b[0m\u001b[0;34m]\u001b[0m\u001b[0;34m,\u001b[0m \u001b[0mstackTrace\u001b[0m\u001b[0;34m)\u001b[0m\u001b[0;34m\u001b[0m\u001b[0;34m\u001b[0m\u001b[0m\n",
            "\u001b[0;31mAnalysisException\u001b[0m: 'Table or view not found: Creditability_Data; line 3 pos 7'"
          ]
        }
      ]
    },
    {
      "cell_type": "markdown",
      "metadata": {
        "id": "RTlKpl3Azl3x",
        "colab_type": "text"
      },
      "source": [
        "## Pyspark ETL Example\n",
        "- https://github.com/AlexIoannides/pyspark-example-project"
      ]
    },
    {
      "cell_type": "markdown",
      "metadata": {
        "id": "ubF9G1_1zzmd",
        "colab_type": "text"
      },
      "source": [
        "## 小任務\n",
        "- 請使用 Spark 將 u.data 轉換成 Spark DataFrame 並命名為 movie_ratings ，並將 u.item 轉換為 Spark DataFrame 並命名為 movie_names，接者使用 SparkSQL 找出最受歡迎的10大電影，並且對應出電影名稱跟觀賞次數?"
      ]
    },
    {
      "cell_type": "code",
      "metadata": {
        "id": "NKJCNJkiy27e",
        "colab_type": "code",
        "colab": {}
      },
      "source": [
        ""
      ],
      "execution_count": 0,
      "outputs": []
    }
  ]
}