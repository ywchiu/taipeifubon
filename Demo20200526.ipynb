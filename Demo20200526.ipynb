{
  "nbformat": 4,
  "nbformat_minor": 0,
  "metadata": {
    "colab": {
      "name": "Demo20200526.ipynb",
      "provenance": []
    },
    "kernelspec": {
      "name": "python3",
      "display_name": "Python 3"
    },
    "accelerator": "GPU",
    "widgets": {
      "application/vnd.jupyter.widget-state+json": {
        "cdf89001318a4521a8f083277e4fdfcc": {
          "model_module": "@jupyter-widgets/controls",
          "model_name": "HBoxModel",
          "state": {
            "_view_name": "HBoxView",
            "_dom_classes": [],
            "_model_name": "HBoxModel",
            "_view_module": "@jupyter-widgets/controls",
            "_model_module_version": "1.5.0",
            "_view_count": null,
            "_view_module_version": "1.5.0",
            "box_style": "",
            "layout": "IPY_MODEL_1fdef41b886449e887db66abb5a8871d",
            "_model_module": "@jupyter-widgets/controls",
            "children": [
              "IPY_MODEL_65496eab9ed046d8b872e5bc85683377",
              "IPY_MODEL_1c38c33d570d49ae9023da3c9cf716af"
            ]
          }
        },
        "1fdef41b886449e887db66abb5a8871d": {
          "model_module": "@jupyter-widgets/base",
          "model_name": "LayoutModel",
          "state": {
            "_view_name": "LayoutView",
            "grid_template_rows": null,
            "right": null,
            "justify_content": null,
            "_view_module": "@jupyter-widgets/base",
            "overflow": null,
            "_model_module_version": "1.2.0",
            "_view_count": null,
            "flex_flow": null,
            "width": null,
            "min_width": null,
            "border": null,
            "align_items": null,
            "bottom": null,
            "_model_module": "@jupyter-widgets/base",
            "top": null,
            "grid_column": null,
            "overflow_y": null,
            "overflow_x": null,
            "grid_auto_flow": null,
            "grid_area": null,
            "grid_template_columns": null,
            "flex": null,
            "_model_name": "LayoutModel",
            "justify_items": null,
            "grid_row": null,
            "max_height": null,
            "align_content": null,
            "visibility": null,
            "align_self": null,
            "height": null,
            "min_height": null,
            "padding": null,
            "grid_auto_rows": null,
            "grid_gap": null,
            "max_width": null,
            "order": null,
            "_view_module_version": "1.2.0",
            "grid_template_areas": null,
            "object_position": null,
            "object_fit": null,
            "grid_auto_columns": null,
            "margin": null,
            "display": null,
            "left": null
          }
        },
        "65496eab9ed046d8b872e5bc85683377": {
          "model_module": "@jupyter-widgets/controls",
          "model_name": "FloatProgressModel",
          "state": {
            "_view_name": "ProgressView",
            "style": "IPY_MODEL_43c46596754942ce8831b9063f45712c",
            "_dom_classes": [],
            "description": "",
            "_model_name": "FloatProgressModel",
            "bar_style": "success",
            "max": 1,
            "_view_module": "@jupyter-widgets/controls",
            "_model_module_version": "1.5.0",
            "value": 1,
            "_view_count": null,
            "_view_module_version": "1.5.0",
            "orientation": "horizontal",
            "min": 0,
            "description_tooltip": null,
            "_model_module": "@jupyter-widgets/controls",
            "layout": "IPY_MODEL_ee5b63f111464c58bcb6a2b9098fd7a3"
          }
        },
        "1c38c33d570d49ae9023da3c9cf716af": {
          "model_module": "@jupyter-widgets/controls",
          "model_name": "HTMLModel",
          "state": {
            "_view_name": "HTMLView",
            "style": "IPY_MODEL_5ed6e9ca8ee84b4c8ff5f763bd964126",
            "_dom_classes": [],
            "description": "",
            "_model_name": "HTMLModel",
            "placeholder": "​",
            "_view_module": "@jupyter-widgets/controls",
            "_model_module_version": "1.5.0",
            "value": " 926k/? [00:00&lt;00:00, 928kB/s]",
            "_view_count": null,
            "_view_module_version": "1.5.0",
            "description_tooltip": null,
            "_model_module": "@jupyter-widgets/controls",
            "layout": "IPY_MODEL_64a8eb6339eb44658a6d144400df942c"
          }
        },
        "43c46596754942ce8831b9063f45712c": {
          "model_module": "@jupyter-widgets/controls",
          "model_name": "ProgressStyleModel",
          "state": {
            "_view_name": "StyleView",
            "_model_name": "ProgressStyleModel",
            "description_width": "initial",
            "_view_module": "@jupyter-widgets/base",
            "_model_module_version": "1.5.0",
            "_view_count": null,
            "_view_module_version": "1.2.0",
            "bar_color": null,
            "_model_module": "@jupyter-widgets/controls"
          }
        },
        "ee5b63f111464c58bcb6a2b9098fd7a3": {
          "model_module": "@jupyter-widgets/base",
          "model_name": "LayoutModel",
          "state": {
            "_view_name": "LayoutView",
            "grid_template_rows": null,
            "right": null,
            "justify_content": null,
            "_view_module": "@jupyter-widgets/base",
            "overflow": null,
            "_model_module_version": "1.2.0",
            "_view_count": null,
            "flex_flow": null,
            "width": null,
            "min_width": null,
            "border": null,
            "align_items": null,
            "bottom": null,
            "_model_module": "@jupyter-widgets/base",
            "top": null,
            "grid_column": null,
            "overflow_y": null,
            "overflow_x": null,
            "grid_auto_flow": null,
            "grid_area": null,
            "grid_template_columns": null,
            "flex": null,
            "_model_name": "LayoutModel",
            "justify_items": null,
            "grid_row": null,
            "max_height": null,
            "align_content": null,
            "visibility": null,
            "align_self": null,
            "height": null,
            "min_height": null,
            "padding": null,
            "grid_auto_rows": null,
            "grid_gap": null,
            "max_width": null,
            "order": null,
            "_view_module_version": "1.2.0",
            "grid_template_areas": null,
            "object_position": null,
            "object_fit": null,
            "grid_auto_columns": null,
            "margin": null,
            "display": null,
            "left": null
          }
        },
        "5ed6e9ca8ee84b4c8ff5f763bd964126": {
          "model_module": "@jupyter-widgets/controls",
          "model_name": "DescriptionStyleModel",
          "state": {
            "_view_name": "StyleView",
            "_model_name": "DescriptionStyleModel",
            "description_width": "",
            "_view_module": "@jupyter-widgets/base",
            "_model_module_version": "1.5.0",
            "_view_count": null,
            "_view_module_version": "1.2.0",
            "_model_module": "@jupyter-widgets/controls"
          }
        },
        "64a8eb6339eb44658a6d144400df942c": {
          "model_module": "@jupyter-widgets/base",
          "model_name": "LayoutModel",
          "state": {
            "_view_name": "LayoutView",
            "grid_template_rows": null,
            "right": null,
            "justify_content": null,
            "_view_module": "@jupyter-widgets/base",
            "overflow": null,
            "_model_module_version": "1.2.0",
            "_view_count": null,
            "flex_flow": null,
            "width": null,
            "min_width": null,
            "border": null,
            "align_items": null,
            "bottom": null,
            "_model_module": "@jupyter-widgets/base",
            "top": null,
            "grid_column": null,
            "overflow_y": null,
            "overflow_x": null,
            "grid_auto_flow": null,
            "grid_area": null,
            "grid_template_columns": null,
            "flex": null,
            "_model_name": "LayoutModel",
            "justify_items": null,
            "grid_row": null,
            "max_height": null,
            "align_content": null,
            "visibility": null,
            "align_self": null,
            "height": null,
            "min_height": null,
            "padding": null,
            "grid_auto_rows": null,
            "grid_gap": null,
            "max_width": null,
            "order": null,
            "_view_module_version": "1.2.0",
            "grid_template_areas": null,
            "object_position": null,
            "object_fit": null,
            "grid_auto_columns": null,
            "margin": null,
            "display": null,
            "left": null
          }
        },
        "0b3f6f2329884b4cba85917be968a2d4": {
          "model_module": "@jupyter-widgets/controls",
          "model_name": "HBoxModel",
          "state": {
            "_view_name": "HBoxView",
            "_dom_classes": [],
            "_model_name": "HBoxModel",
            "_view_module": "@jupyter-widgets/controls",
            "_model_module_version": "1.5.0",
            "_view_count": null,
            "_view_module_version": "1.5.0",
            "box_style": "",
            "layout": "IPY_MODEL_faab36cbf674498e9bd65a0cb08ba5c6",
            "_model_module": "@jupyter-widgets/controls",
            "children": [
              "IPY_MODEL_61340524823d4960984b7ece44d20151",
              "IPY_MODEL_637f8a8350914968ab7aa7207b0de37d"
            ]
          }
        },
        "faab36cbf674498e9bd65a0cb08ba5c6": {
          "model_module": "@jupyter-widgets/base",
          "model_name": "LayoutModel",
          "state": {
            "_view_name": "LayoutView",
            "grid_template_rows": null,
            "right": null,
            "justify_content": null,
            "_view_module": "@jupyter-widgets/base",
            "overflow": null,
            "_model_module_version": "1.2.0",
            "_view_count": null,
            "flex_flow": null,
            "width": null,
            "min_width": null,
            "border": null,
            "align_items": null,
            "bottom": null,
            "_model_module": "@jupyter-widgets/base",
            "top": null,
            "grid_column": null,
            "overflow_y": null,
            "overflow_x": null,
            "grid_auto_flow": null,
            "grid_area": null,
            "grid_template_columns": null,
            "flex": null,
            "_model_name": "LayoutModel",
            "justify_items": null,
            "grid_row": null,
            "max_height": null,
            "align_content": null,
            "visibility": null,
            "align_self": null,
            "height": null,
            "min_height": null,
            "padding": null,
            "grid_auto_rows": null,
            "grid_gap": null,
            "max_width": null,
            "order": null,
            "_view_module_version": "1.2.0",
            "grid_template_areas": null,
            "object_position": null,
            "object_fit": null,
            "grid_auto_columns": null,
            "margin": null,
            "display": null,
            "left": null
          }
        },
        "61340524823d4960984b7ece44d20151": {
          "model_module": "@jupyter-widgets/controls",
          "model_name": "FloatProgressModel",
          "state": {
            "_view_name": "ProgressView",
            "style": "IPY_MODEL_f33d87eed73d43a9b32469b6de111378",
            "_dom_classes": [],
            "description": "100%",
            "_model_name": "FloatProgressModel",
            "bar_style": "success",
            "max": 15,
            "_view_module": "@jupyter-widgets/controls",
            "_model_module_version": "1.5.0",
            "value": 15,
            "_view_count": null,
            "_view_module_version": "1.5.0",
            "orientation": "horizontal",
            "min": 0,
            "description_tooltip": null,
            "_model_module": "@jupyter-widgets/controls",
            "layout": "IPY_MODEL_d71b83ae1a064f3eb7c496f688670665"
          }
        },
        "637f8a8350914968ab7aa7207b0de37d": {
          "model_module": "@jupyter-widgets/controls",
          "model_name": "HTMLModel",
          "state": {
            "_view_name": "HTMLView",
            "style": "IPY_MODEL_a0b6037fb39e4b8cac7508c206b459a5",
            "_dom_classes": [],
            "description": "",
            "_model_name": "HTMLModel",
            "placeholder": "​",
            "_view_module": "@jupyter-widgets/controls",
            "_model_module_version": "1.5.0",
            "value": " 15/15 [01:10&lt;00:00,  4.73s/it]",
            "_view_count": null,
            "_view_module_version": "1.5.0",
            "description_tooltip": null,
            "_model_module": "@jupyter-widgets/controls",
            "layout": "IPY_MODEL_761fefba30ad4cba9296ba68adc7049d"
          }
        },
        "f33d87eed73d43a9b32469b6de111378": {
          "model_module": "@jupyter-widgets/controls",
          "model_name": "ProgressStyleModel",
          "state": {
            "_view_name": "StyleView",
            "_model_name": "ProgressStyleModel",
            "description_width": "initial",
            "_view_module": "@jupyter-widgets/base",
            "_model_module_version": "1.5.0",
            "_view_count": null,
            "_view_module_version": "1.2.0",
            "bar_color": null,
            "_model_module": "@jupyter-widgets/controls"
          }
        },
        "d71b83ae1a064f3eb7c496f688670665": {
          "model_module": "@jupyter-widgets/base",
          "model_name": "LayoutModel",
          "state": {
            "_view_name": "LayoutView",
            "grid_template_rows": null,
            "right": null,
            "justify_content": null,
            "_view_module": "@jupyter-widgets/base",
            "overflow": null,
            "_model_module_version": "1.2.0",
            "_view_count": null,
            "flex_flow": null,
            "width": null,
            "min_width": null,
            "border": null,
            "align_items": null,
            "bottom": null,
            "_model_module": "@jupyter-widgets/base",
            "top": null,
            "grid_column": null,
            "overflow_y": null,
            "overflow_x": null,
            "grid_auto_flow": null,
            "grid_area": null,
            "grid_template_columns": null,
            "flex": null,
            "_model_name": "LayoutModel",
            "justify_items": null,
            "grid_row": null,
            "max_height": null,
            "align_content": null,
            "visibility": null,
            "align_self": null,
            "height": null,
            "min_height": null,
            "padding": null,
            "grid_auto_rows": null,
            "grid_gap": null,
            "max_width": null,
            "order": null,
            "_view_module_version": "1.2.0",
            "grid_template_areas": null,
            "object_position": null,
            "object_fit": null,
            "grid_auto_columns": null,
            "margin": null,
            "display": null,
            "left": null
          }
        },
        "a0b6037fb39e4b8cac7508c206b459a5": {
          "model_module": "@jupyter-widgets/controls",
          "model_name": "DescriptionStyleModel",
          "state": {
            "_view_name": "StyleView",
            "_model_name": "DescriptionStyleModel",
            "description_width": "",
            "_view_module": "@jupyter-widgets/base",
            "_model_module_version": "1.5.0",
            "_view_count": null,
            "_view_module_version": "1.2.0",
            "_model_module": "@jupyter-widgets/controls"
          }
        },
        "761fefba30ad4cba9296ba68adc7049d": {
          "model_module": "@jupyter-widgets/base",
          "model_name": "LayoutModel",
          "state": {
            "_view_name": "LayoutView",
            "grid_template_rows": null,
            "right": null,
            "justify_content": null,
            "_view_module": "@jupyter-widgets/base",
            "overflow": null,
            "_model_module_version": "1.2.0",
            "_view_count": null,
            "flex_flow": null,
            "width": null,
            "min_width": null,
            "border": null,
            "align_items": null,
            "bottom": null,
            "_model_module": "@jupyter-widgets/base",
            "top": null,
            "grid_column": null,
            "overflow_y": null,
            "overflow_x": null,
            "grid_auto_flow": null,
            "grid_area": null,
            "grid_template_columns": null,
            "flex": null,
            "_model_name": "LayoutModel",
            "justify_items": null,
            "grid_row": null,
            "max_height": null,
            "align_content": null,
            "visibility": null,
            "align_self": null,
            "height": null,
            "min_height": null,
            "padding": null,
            "grid_auto_rows": null,
            "grid_gap": null,
            "max_width": null,
            "order": null,
            "_view_module_version": "1.2.0",
            "grid_template_areas": null,
            "object_position": null,
            "object_fit": null,
            "grid_auto_columns": null,
            "margin": null,
            "display": null,
            "left": null
          }
        }
      }
    }
  },
  "cells": [
    {
      "cell_type": "markdown",
      "metadata": {
        "id": "IBBuFXOPnz7I",
        "colab_type": "text"
      },
      "source": [
        "## 檢查 GPU"
      ]
    },
    {
      "cell_type": "code",
      "metadata": {
        "id": "r9Pxr0cln1m5",
        "colab_type": "code",
        "outputId": "3bc86e84-777a-4396-ea52-483c0090863c",
        "colab": {
          "base_uri": "https://localhost:8080/",
          "height": 312
        }
      },
      "source": [
        "! nvidia-smi"
      ],
      "execution_count": 0,
      "outputs": [
        {
          "output_type": "stream",
          "text": [
            "Tue May 26 06:15:48 2020       \n",
            "+-----------------------------------------------------------------------------+\n",
            "| NVIDIA-SMI 440.82       Driver Version: 418.67       CUDA Version: 10.1     |\n",
            "|-------------------------------+----------------------+----------------------+\n",
            "| GPU  Name        Persistence-M| Bus-Id        Disp.A | Volatile Uncorr. ECC |\n",
            "| Fan  Temp  Perf  Pwr:Usage/Cap|         Memory-Usage | GPU-Util  Compute M. |\n",
            "|===============================+======================+======================|\n",
            "|   0  Tesla P100-PCIE...  Off  | 00000000:00:04.0 Off |                    0 |\n",
            "| N/A   43C    P0    27W / 250W |      0MiB / 16280MiB |      0%      Default |\n",
            "+-------------------------------+----------------------+----------------------+\n",
            "                                                                               \n",
            "+-----------------------------------------------------------------------------+\n",
            "| Processes:                                                       GPU Memory |\n",
            "|  GPU       PID   Type   Process name                             Usage      |\n",
            "|=============================================================================|\n",
            "|  No running processes found                                                 |\n",
            "+-----------------------------------------------------------------------------+\n"
          ],
          "name": "stdout"
        }
      ]
    },
    {
      "cell_type": "markdown",
      "metadata": {
        "id": "ddBUQpwumeeB",
        "colab_type": "text"
      },
      "source": [
        "## 實作推薦演算法 (implicit)"
      ]
    },
    {
      "cell_type": "code",
      "metadata": {
        "id": "lu8HFDDImaLi",
        "colab_type": "code",
        "outputId": "587af9cd-1a53-4650-db57-11e631aebd54",
        "colab": {
          "base_uri": "https://localhost:8080/",
          "height": 263
        }
      },
      "source": [
        "! pip install implicit"
      ],
      "execution_count": 0,
      "outputs": [
        {
          "output_type": "stream",
          "text": [
            "Collecting implicit\n",
            "\u001b[?25l  Downloading https://files.pythonhosted.org/packages/5a/d8/6b4f1374ffa2647b72ac76960c71b984c6f3238090359fb419d03827d87a/implicit-0.4.2.tar.gz (1.1MB)\n",
            "\r\u001b[K     |▎                               | 10kB 21.9MB/s eta 0:00:01\r\u001b[K     |▋                               | 20kB 3.1MB/s eta 0:00:01\r\u001b[K     |▉                               | 30kB 4.4MB/s eta 0:00:01\r\u001b[K     |█▏                              | 40kB 5.7MB/s eta 0:00:01\r\u001b[K     |█▌                              | 51kB 3.7MB/s eta 0:00:01\r\u001b[K     |█▊                              | 61kB 4.3MB/s eta 0:00:01\r\u001b[K     |██                              | 71kB 5.0MB/s eta 0:00:01\r\u001b[K     |██▍                             | 81kB 5.6MB/s eta 0:00:01\r\u001b[K     |██▋                             | 92kB 4.4MB/s eta 0:00:01\r\u001b[K     |███                             | 102kB 4.8MB/s eta 0:00:01\r\u001b[K     |███▎                            | 112kB 4.8MB/s eta 0:00:01\r\u001b[K     |███▌                            | 122kB 4.8MB/s eta 0:00:01\r\u001b[K     |███▉                            | 133kB 4.8MB/s eta 0:00:01\r\u001b[K     |████▏                           | 143kB 4.8MB/s eta 0:00:01\r\u001b[K     |████▍                           | 153kB 4.8MB/s eta 0:00:01\r\u001b[K     |████▊                           | 163kB 4.8MB/s eta 0:00:01\r\u001b[K     |█████                           | 174kB 4.8MB/s eta 0:00:01\r\u001b[K     |█████▎                          | 184kB 4.8MB/s eta 0:00:01\r\u001b[K     |█████▋                          | 194kB 4.8MB/s eta 0:00:01\r\u001b[K     |█████▉                          | 204kB 4.8MB/s eta 0:00:01\r\u001b[K     |██████▏                         | 215kB 4.8MB/s eta 0:00:01\r\u001b[K     |██████▌                         | 225kB 4.8MB/s eta 0:00:01\r\u001b[K     |██████▊                         | 235kB 4.8MB/s eta 0:00:01\r\u001b[K     |███████                         | 245kB 4.8MB/s eta 0:00:01\r\u001b[K     |███████▍                        | 256kB 4.8MB/s eta 0:00:01\r\u001b[K     |███████▋                        | 266kB 4.8MB/s eta 0:00:01\r\u001b[K     |████████                        | 276kB 4.8MB/s eta 0:00:01\r\u001b[K     |████████▎                       | 286kB 4.8MB/s eta 0:00:01\r\u001b[K     |████████▌                       | 296kB 4.8MB/s eta 0:00:01\r\u001b[K     |████████▉                       | 307kB 4.8MB/s eta 0:00:01\r\u001b[K     |█████████                       | 317kB 4.8MB/s eta 0:00:01\r\u001b[K     |█████████▍                      | 327kB 4.8MB/s eta 0:00:01\r\u001b[K     |█████████▊                      | 337kB 4.8MB/s eta 0:00:01\r\u001b[K     |██████████                      | 348kB 4.8MB/s eta 0:00:01\r\u001b[K     |██████████▎                     | 358kB 4.8MB/s eta 0:00:01\r\u001b[K     |██████████▋                     | 368kB 4.8MB/s eta 0:00:01\r\u001b[K     |██████████▉                     | 378kB 4.8MB/s eta 0:00:01\r\u001b[K     |███████████▏                    | 389kB 4.8MB/s eta 0:00:01\r\u001b[K     |███████████▌                    | 399kB 4.8MB/s eta 0:00:01\r\u001b[K     |███████████▊                    | 409kB 4.8MB/s eta 0:00:01\r\u001b[K     |████████████                    | 419kB 4.8MB/s eta 0:00:01\r\u001b[K     |████████████▍                   | 430kB 4.8MB/s eta 0:00:01\r\u001b[K     |████████████▋                   | 440kB 4.8MB/s eta 0:00:01\r\u001b[K     |█████████████                   | 450kB 4.8MB/s eta 0:00:01\r\u001b[K     |█████████████▏                  | 460kB 4.8MB/s eta 0:00:01\r\u001b[K     |█████████████▌                  | 471kB 4.8MB/s eta 0:00:01\r\u001b[K     |█████████████▉                  | 481kB 4.8MB/s eta 0:00:01\r\u001b[K     |██████████████                  | 491kB 4.8MB/s eta 0:00:01\r\u001b[K     |██████████████▍                 | 501kB 4.8MB/s eta 0:00:01\r\u001b[K     |██████████████▊                 | 512kB 4.8MB/s eta 0:00:01\r\u001b[K     |███████████████                 | 522kB 4.8MB/s eta 0:00:01\r\u001b[K     |███████████████▎                | 532kB 4.8MB/s eta 0:00:01\r\u001b[K     |███████████████▋                | 542kB 4.8MB/s eta 0:00:01\r\u001b[K     |███████████████▉                | 552kB 4.8MB/s eta 0:00:01\r\u001b[K     |████████████████▏               | 563kB 4.8MB/s eta 0:00:01\r\u001b[K     |████████████████▌               | 573kB 4.8MB/s eta 0:00:01\r\u001b[K     |████████████████▊               | 583kB 4.8MB/s eta 0:00:01\r\u001b[K     |█████████████████               | 593kB 4.8MB/s eta 0:00:01\r\u001b[K     |█████████████████▍              | 604kB 4.8MB/s eta 0:00:01\r\u001b[K     |█████████████████▋              | 614kB 4.8MB/s eta 0:00:01\r\u001b[K     |██████████████████              | 624kB 4.8MB/s eta 0:00:01\r\u001b[K     |██████████████████▏             | 634kB 4.8MB/s eta 0:00:01\r\u001b[K     |██████████████████▌             | 645kB 4.8MB/s eta 0:00:01\r\u001b[K     |██████████████████▉             | 655kB 4.8MB/s eta 0:00:01\r\u001b[K     |███████████████████             | 665kB 4.8MB/s eta 0:00:01\r\u001b[K     |███████████████████▍            | 675kB 4.8MB/s eta 0:00:01\r\u001b[K     |███████████████████▊            | 686kB 4.8MB/s eta 0:00:01\r\u001b[K     |████████████████████            | 696kB 4.8MB/s eta 0:00:01\r\u001b[K     |████████████████████▎           | 706kB 4.8MB/s eta 0:00:01\r\u001b[K     |████████████████████▋           | 716kB 4.8MB/s eta 0:00:01\r\u001b[K     |████████████████████▉           | 727kB 4.8MB/s eta 0:00:01\r\u001b[K     |█████████████████████▏          | 737kB 4.8MB/s eta 0:00:01\r\u001b[K     |█████████████████████▌          | 747kB 4.8MB/s eta 0:00:01\r\u001b[K     |█████████████████████▊          | 757kB 4.8MB/s eta 0:00:01\r\u001b[K     |██████████████████████          | 768kB 4.8MB/s eta 0:00:01\r\u001b[K     |██████████████████████▎         | 778kB 4.8MB/s eta 0:00:01\r\u001b[K     |██████████████████████▋         | 788kB 4.8MB/s eta 0:00:01\r\u001b[K     |███████████████████████         | 798kB 4.8MB/s eta 0:00:01\r\u001b[K     |███████████████████████▏        | 808kB 4.8MB/s eta 0:00:01\r\u001b[K     |███████████████████████▌        | 819kB 4.8MB/s eta 0:00:01\r\u001b[K     |███████████████████████▉        | 829kB 4.8MB/s eta 0:00:01\r\u001b[K     |████████████████████████        | 839kB 4.8MB/s eta 0:00:01\r\u001b[K     |████████████████████████▍       | 849kB 4.8MB/s eta 0:00:01\r\u001b[K     |████████████████████████▊       | 860kB 4.8MB/s eta 0:00:01\r\u001b[K     |█████████████████████████       | 870kB 4.8MB/s eta 0:00:01\r\u001b[K     |█████████████████████████▎      | 880kB 4.8MB/s eta 0:00:01\r\u001b[K     |█████████████████████████▋      | 890kB 4.8MB/s eta 0:00:01\r\u001b[K     |█████████████████████████▉      | 901kB 4.8MB/s eta 0:00:01\r\u001b[K     |██████████████████████████▏     | 911kB 4.8MB/s eta 0:00:01\r\u001b[K     |██████████████████████████▍     | 921kB 4.8MB/s eta 0:00:01\r\u001b[K     |██████████████████████████▊     | 931kB 4.8MB/s eta 0:00:01\r\u001b[K     |███████████████████████████     | 942kB 4.8MB/s eta 0:00:01\r\u001b[K     |███████████████████████████▎    | 952kB 4.8MB/s eta 0:00:01\r\u001b[K     |███████████████████████████▋    | 962kB 4.8MB/s eta 0:00:01\r\u001b[K     |████████████████████████████    | 972kB 4.8MB/s eta 0:00:01\r\u001b[K     |████████████████████████████▏   | 983kB 4.8MB/s eta 0:00:01\r\u001b[K     |████████████████████████████▌   | 993kB 4.8MB/s eta 0:00:01\r\u001b[K     |████████████████████████████▉   | 1.0MB 4.8MB/s eta 0:00:01\r\u001b[K     |█████████████████████████████   | 1.0MB 4.8MB/s eta 0:00:01\r\u001b[K     |█████████████████████████████▍  | 1.0MB 4.8MB/s eta 0:00:01\r\u001b[K     |█████████████████████████████▊  | 1.0MB 4.8MB/s eta 0:00:01\r\u001b[K     |██████████████████████████████  | 1.0MB 4.8MB/s eta 0:00:01\r\u001b[K     |██████████████████████████████▎ | 1.1MB 4.8MB/s eta 0:00:01\r\u001b[K     |██████████████████████████████▌ | 1.1MB 4.8MB/s eta 0:00:01\r\u001b[K     |██████████████████████████████▉ | 1.1MB 4.8MB/s eta 0:00:01\r\u001b[K     |███████████████████████████████▏| 1.1MB 4.8MB/s eta 0:00:01\r\u001b[K     |███████████████████████████████▍| 1.1MB 4.8MB/s eta 0:00:01\r\u001b[K     |███████████████████████████████▊| 1.1MB 4.8MB/s eta 0:00:01\r\u001b[K     |████████████████████████████████| 1.1MB 4.8MB/s \n",
            "\u001b[?25hRequirement already satisfied: numpy in /usr/local/lib/python3.6/dist-packages (from implicit) (1.18.4)\n",
            "Requirement already satisfied: scipy>=0.16 in /usr/local/lib/python3.6/dist-packages (from implicit) (1.4.1)\n",
            "Requirement already satisfied: tqdm>=4.27 in /usr/local/lib/python3.6/dist-packages (from implicit) (4.41.1)\n",
            "Building wheels for collected packages: implicit\n",
            "  Building wheel for implicit (setup.py) ... \u001b[?25l\u001b[?25hdone\n",
            "  Created wheel for implicit: filename=implicit-0.4.2-cp36-cp36m-linux_x86_64.whl size=3420311 sha256=88e82974847573058f518e464c5d61ff2ea721e8c4d1de4c3a2e3a6142fe042b\n",
            "  Stored in directory: /root/.cache/pip/wheels/1b/48/b1/1aebe3acc3afb5589e72d3e7c3ffc3f637dc4721c1a974dff7\n",
            "Successfully built implicit\n",
            "Installing collected packages: implicit\n",
            "Successfully installed implicit-0.4.2\n"
          ],
          "name": "stdout"
        }
      ]
    },
    {
      "cell_type": "markdown",
      "metadata": {
        "id": "30hb63yxpSAa",
        "colab_type": "text"
      },
      "source": [
        "### Movielens\n",
        "- https://grouplens.org/datasets/movielens/"
      ]
    },
    {
      "cell_type": "code",
      "metadata": {
        "id": "aC3sbT7kmkH5",
        "colab_type": "code",
        "colab": {}
      },
      "source": [
        "from implicit.datasets.movielens import get_movielens"
      ],
      "execution_count": 0,
      "outputs": []
    },
    {
      "cell_type": "code",
      "metadata": {
        "id": "6z0khmOnnQXN",
        "colab_type": "code",
        "outputId": "07461625-d934-400b-90d7-3e0c8900e973",
        "colab": {
          "base_uri": "https://localhost:8080/",
          "height": 67,
          "referenced_widgets": [
            "cdf89001318a4521a8f083277e4fdfcc",
            "1fdef41b886449e887db66abb5a8871d",
            "65496eab9ed046d8b872e5bc85683377",
            "1c38c33d570d49ae9023da3c9cf716af",
            "43c46596754942ce8831b9063f45712c",
            "ee5b63f111464c58bcb6a2b9098fd7a3",
            "5ed6e9ca8ee84b4c8ff5f763bd964126",
            "64a8eb6339eb44658a6d144400df942c"
          ]
        }
      },
      "source": [
        "titles, ratings = get_movielens('100k')"
      ],
      "execution_count": 0,
      "outputs": [
        {
          "output_type": "display_data",
          "data": {
            "application/vnd.jupyter.widget-view+json": {
              "model_id": "cdf89001318a4521a8f083277e4fdfcc",
              "version_minor": 0,
              "version_major": 2
            },
            "text/plain": [
              "HBox(children=(FloatProgress(value=1.0, bar_style='info', max=1.0), HTML(value='')))"
            ]
          },
          "metadata": {
            "tags": []
          }
        },
        {
          "output_type": "stream",
          "text": [
            "\n"
          ],
          "name": "stdout"
        }
      ]
    },
    {
      "cell_type": "code",
      "metadata": {
        "id": "Z6f3w4kfnVKX",
        "colab_type": "code",
        "outputId": "fdb3637f-e14e-4f81-ea6a-a65299eea8ca",
        "colab": {
          "base_uri": "https://localhost:8080/",
          "height": 35
        }
      },
      "source": [
        "len(titles)"
      ],
      "execution_count": 0,
      "outputs": [
        {
          "output_type": "execute_result",
          "data": {
            "text/plain": [
              "1683"
            ]
          },
          "metadata": {
            "tags": []
          },
          "execution_count": 7
        }
      ]
    },
    {
      "cell_type": "code",
      "metadata": {
        "id": "L6xvB7rEnXDG",
        "colab_type": "code",
        "outputId": "c8817cdd-a9f1-498b-85a0-669f39da264a",
        "colab": {
          "base_uri": "https://localhost:8080/",
          "height": 52
        }
      },
      "source": [
        "ratings"
      ],
      "execution_count": 0,
      "outputs": [
        {
          "output_type": "execute_result",
          "data": {
            "text/plain": [
              "<1683x944 sparse matrix of type '<class 'numpy.float32'>'\n",
              "\twith 100000 stored elements in Compressed Sparse Row format>"
            ]
          },
          "metadata": {
            "tags": []
          },
          "execution_count": 8
        }
      ]
    },
    {
      "cell_type": "code",
      "metadata": {
        "id": "dp79T_vEnank",
        "colab_type": "code",
        "colab": {}
      },
      "source": [
        "import implicit\n",
        "model = implicit.als.AlternatingLeastSquares(factors=64)"
      ],
      "execution_count": 0,
      "outputs": []
    },
    {
      "cell_type": "code",
      "metadata": {
        "id": "asvDm8yNnqmp",
        "colab_type": "code",
        "outputId": "2bb1505e-e044-474b-cad1-92ae6cb71aac",
        "colab": {
          "base_uri": "https://localhost:8080/",
          "height": 67,
          "referenced_widgets": [
            "0b3f6f2329884b4cba85917be968a2d4",
            "faab36cbf674498e9bd65a0cb08ba5c6",
            "61340524823d4960984b7ece44d20151",
            "637f8a8350914968ab7aa7207b0de37d",
            "f33d87eed73d43a9b32469b6de111378",
            "d71b83ae1a064f3eb7c496f688670665",
            "a0b6037fb39e4b8cac7508c206b459a5",
            "761fefba30ad4cba9296ba68adc7049d"
          ]
        }
      },
      "source": [
        "model.fit(ratings)"
      ],
      "execution_count": 0,
      "outputs": [
        {
          "output_type": "display_data",
          "data": {
            "application/vnd.jupyter.widget-view+json": {
              "model_id": "0b3f6f2329884b4cba85917be968a2d4",
              "version_minor": 0,
              "version_major": 2
            },
            "text/plain": [
              "HBox(children=(FloatProgress(value=0.0, max=15.0), HTML(value='')))"
            ]
          },
          "metadata": {
            "tags": []
          }
        },
        {
          "output_type": "stream",
          "text": [
            "\n"
          ],
          "name": "stdout"
        }
      ]
    },
    {
      "cell_type": "code",
      "metadata": {
        "id": "dFiq-rZqnsno",
        "colab_type": "code",
        "colab": {}
      },
      "source": [
        "user_items = ratings.T.tocsr()"
      ],
      "execution_count": 0,
      "outputs": []
    },
    {
      "cell_type": "code",
      "metadata": {
        "id": "KyRVYmw8pe6J",
        "colab_type": "code",
        "outputId": "9b45e133-600c-449d-eca3-e67a7a1d6431",
        "colab": {
          "base_uri": "https://localhost:8080/",
          "height": 35
        }
      },
      "source": [
        "user_items.shape"
      ],
      "execution_count": 0,
      "outputs": [
        {
          "output_type": "execute_result",
          "data": {
            "text/plain": [
              "(944, 1683)"
            ]
          },
          "metadata": {
            "tags": []
          },
          "execution_count": 14
        }
      ]
    },
    {
      "cell_type": "code",
      "metadata": {
        "id": "Pj_77RxTpgJg",
        "colab_type": "code",
        "colab": {}
      },
      "source": [
        "recommendations = model.recommend(1, user_items)"
      ],
      "execution_count": 0,
      "outputs": []
    },
    {
      "cell_type": "code",
      "metadata": {
        "id": "_mN18u8vpuTj",
        "colab_type": "code",
        "outputId": "bee9ea0f-7faf-4a14-ccc5-6f49e5aa4833",
        "colab": {
          "base_uri": "https://localhost:8080/",
          "height": 191
        }
      },
      "source": [
        "for movieid, score in recommendations:\n",
        "  print(titles[movieid], score)"
      ],
      "execution_count": 0,
      "outputs": [
        {
          "output_type": "stream",
          "text": [
            "Batman (1989) 1.1476026\n",
            "Schindler's List (1993) 1.1209066\n",
            "Dave (1993) 1.116436\n",
            "Trainspotting (1996) 1.0858946\n",
            "E.T. the Extra-Terrestrial (1982) 1.0422022\n",
            "Piano, The (1993) 1.0099155\n",
            "It's a Wonderful Life (1946) 0.9585745\n",
            "One Flew Over the Cuckoo's Nest (1975) 0.94594467\n",
            "Fantasia (1940) 0.9283118\n",
            "Clueless (1995) 0.91164553\n"
          ],
          "name": "stdout"
        }
      ]
    },
    {
      "cell_type": "code",
      "metadata": {
        "id": "EfxC5Zjkp2Ig",
        "colab_type": "code",
        "colab": {}
      },
      "source": [
        "recommendations = model.recommend(10, user_items)"
      ],
      "execution_count": 0,
      "outputs": []
    },
    {
      "cell_type": "code",
      "metadata": {
        "id": "IshVp0QFqJaF",
        "colab_type": "code",
        "outputId": "b326c80f-73bd-4a3a-8ec4-ea2a8eda40d2",
        "colab": {
          "base_uri": "https://localhost:8080/",
          "height": 191
        }
      },
      "source": [
        "for movieid, score in recommendations:\n",
        "  print(titles[movieid], score)"
      ],
      "execution_count": 0,
      "outputs": [
        {
          "output_type": "stream",
          "text": [
            "Godfather: Part II, The (1974) 1.1627693\n",
            "Babe (1995) 1.135076\n",
            "Annie Hall (1977) 1.0498819\n",
            "Boot, Das (1981) 0.9982157\n",
            "People vs. Larry Flynt, The (1996) 0.98383594\n",
            "Ed Wood (1994) 0.98232365\n",
            "Scream (1996) 0.96729803\n",
            "This Is Spinal Tap (1984) 0.88957113\n",
            "Professional, The (1994) 0.8842394\n",
            "Grifters, The (1990) 0.8819241\n"
          ],
          "name": "stdout"
        }
      ]
    },
    {
      "cell_type": "code",
      "metadata": {
        "id": "hcTCpWw4qSR5",
        "colab_type": "code",
        "outputId": "6a08ecd0-d75b-4525-ae55-10bed38fee08",
        "colab": {
          "base_uri": "https://localhost:8080/",
          "height": 347
        }
      },
      "source": [
        "for idx, e in enumerate(titles):\n",
        "  if 'Star' in e:\n",
        "    print(titles[idx], idx)"
      ],
      "execution_count": 0,
      "outputs": [
        {
          "output_type": "stream",
          "text": [
            "Star Wars (1977) 50\n",
            "Stargate (1994) 62\n",
            "Lone Star (1996) 124\n",
            "Unhook the Stars (1996) 146\n",
            "Star Trek: First Contact (1996) 222\n",
            "Star Trek VI: The Undiscovered Country (1991) 227\n",
            "Star Trek: The Wrath of Khan (1982) 228\n",
            "Star Trek III: The Search for Spock (1984) 229\n",
            "Star Trek IV: The Voyage Home (1986) 230\n",
            "Starship Troopers (1997) 271\n",
            "Star Trek: Generations (1994) 380\n",
            "Star Trek: The Motion Picture (1979) 449\n",
            "Star Trek V: The Final Frontier (1989) 450\n",
            "Evening Star, The (1996) 1061\n",
            "Star Maker, The (Uomo delle stelle, L') (1995) 1068\n",
            "Star Maps (1997) 1265\n",
            "Star Kid (1997) 1293\n",
            "Stars Fell on Henrietta, The (1995) 1464\n",
            "Frankie Starlight (1995) 1545\n"
          ],
          "name": "stdout"
        }
      ]
    },
    {
      "cell_type": "code",
      "metadata": {
        "id": "cK8BgZooqLO4",
        "colab_type": "code",
        "colab": {}
      },
      "source": [
        "related = model.similar_items(222)"
      ],
      "execution_count": 0,
      "outputs": []
    },
    {
      "cell_type": "code",
      "metadata": {
        "id": "oNrlWl6Pqyzp",
        "colab_type": "code",
        "outputId": "31524cfa-a7d2-4b87-843c-ac5559dde47a",
        "colab": {
          "base_uri": "https://localhost:8080/",
          "height": 191
        }
      },
      "source": [
        "for movieid, score in related:\n",
        "  print(titles[movieid], score)"
      ],
      "execution_count": 0,
      "outputs": [
        {
          "output_type": "stream",
          "text": [
            "Star Trek: First Contact (1996) 0.17811833\n",
            "Star Trek: The Wrath of Khan (1982) 0.11140552\n",
            "Star Trek: Generations (1994) 0.09613714\n",
            "Star Trek VI: The Undiscovered Country (1991) 0.09307335\n",
            "Star Trek III: The Search for Spock (1984) 0.09121225\n",
            "Independence Day (ID4) (1996) 0.08745548\n",
            "Return of the Jedi (1983) 0.08634575\n",
            "Star Trek: The Motion Picture (1979) 0.08504435\n",
            "Toy Story (1995) 0.08314392\n",
            "Mystery Science Theater 3000: The Movie (1996) 0.083064474\n"
          ],
          "name": "stdout"
        }
      ]
    },
    {
      "cell_type": "code",
      "metadata": {
        "id": "6I9z-6spqzw4",
        "colab_type": "code",
        "outputId": "d7b6a658-54eb-48b7-8d17-29ab646a7976",
        "colab": {
          "base_uri": "https://localhost:8080/",
          "height": 191
        }
      },
      "source": [
        "model.similar_users(1)"
      ],
      "execution_count": 0,
      "outputs": [
        {
          "output_type": "execute_result",
          "data": {
            "text/plain": [
              "[(1, 25.549122),\n",
              " (715, 16.466887),\n",
              " (738, 16.142159),\n",
              " (916, 15.717207),\n",
              " (886, 15.533796),\n",
              " (44, 15.45177),\n",
              " (268, 15.022598),\n",
              " (806, 14.729637),\n",
              " (823, 14.728788),\n",
              " (64, 14.525263)]"
            ]
          },
          "metadata": {
            "tags": []
          },
          "execution_count": 30
        }
      ]
    },
    {
      "cell_type": "code",
      "metadata": {
        "id": "KiEZ8wtAroGI",
        "colab_type": "code",
        "colab": {}
      },
      "source": [
        ""
      ],
      "execution_count": 0,
      "outputs": []
    }
  ]
}