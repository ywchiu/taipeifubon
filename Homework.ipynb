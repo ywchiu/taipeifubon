{
 "cells": [
  {
   "cell_type": "markdown",
   "metadata": {},
   "source": [
    "## 作業一 (Python  基礎)"
   ]
  },
  {
   "cell_type": "markdown",
   "metadata": {},
   "source": [
    "- 1 請使用 pip 將 jieba 安裝在自己的電腦上\n",
    "- 2 閱讀jieba 相關的文件，了解jieba 的用法\n",
    "- 3 請將新聞 article.txt (https://github.com/ywchiu/taipeifubon/blob/master/data/article.txt)  下載存入到自己電腦\n",
    "- 4 請使用python 的檔案操作方法讀取新聞\n",
    "- 5 請使用 jieba 將演說文切詞\n",
    "- 6 請統計該演說文最常出現的十大字詞"
   ]
  },
  {
   "cell_type": "markdown",
   "metadata": {},
   "source": [
    "## 作業二 (網路爬蟲)"
   ]
  },
  {
   "cell_type": "markdown",
   "metadata": {},
   "source": [
    "請撰寫一個網路爬蟲抓取MoneyDJ (https://www.moneydj.com/KMDJ/News/NewsRealList.aspx?a=MB00)\n",
    "以下資訊\n",
    "\n",
    "1. 抓取新聞標題\n",
    "2. 抓取新聞連結\n",
    "3. 抓取時間\n",
    "4. 抓取人氣"
   ]
  },
  {
   "cell_type": "markdown",
   "metadata": {},
   "source": [
    "## 作業三 (文字探勘)"
   ]
  },
  {
   "cell_type": "markdown",
   "metadata": {},
   "source": [
    "- 1 先將一金融文章資料集 (https://github.com/ywchiu/taipeifubon/blob/master/data/finance_article.xlsx) 下載存入到自己電腦\n",
    "- 2 請使用Pandas 將該資料讀入名為 finance 的 DataFrame 中\n",
    "- 3 請將資料依據內容 content 切詞以後，將資料轉變成一詞頻矩陣\n",
    "- 4 請將資料切分為訓練與測試資料集，其中訓練資料集占80%, 測試資料集占20%\n",
    "- 5 請使用貝式分類法建立分類模型 (特徵為詞頻矩陣，目標為 tag)\n",
    "- 6 請計算出模型準確度(Accuracy)?"
   ]
  },
  {
   "cell_type": "markdown",
   "metadata": {},
   "source": [
    "## 作業四 (機器學習)"
   ]
  },
  {
   "cell_type": "markdown",
   "metadata": {},
   "source": [
    "當銀行收到貸款申請時，必須根據客戶的個人檔案決定是否應該要核准貸款\n",
    "\n",
    "- 如果客戶信用良好，批准貸款\n",
    "- 如果客戶信用較差，不批准貸款\n",
    "\n",
    "透過分析目的，可將低銀行風險、提升潛在獲利"
   ]
  },
  {
   "cell_type": "markdown",
   "metadata": {},
   "source": [
    "現有一資料集 Creditability (https://raw.githubusercontent.com/ywchiu/taipeifubon/master/data/Creditability.csv) \n",
    "\n",
    "包含客戶特徵\n",
    "- • Account Balance(帳戶餘額): 沒有帳號(1), 沒有餘額 (2), 部分存款 (3)\n",
    "- • Payment Status(付款狀況): 有問題 (1), 付清 (2), 於該銀行沒有問題(3)\n",
    "- • Savings/Stock Value (存款): 沒有, 少於 100, 100 ~ 1,000, 高於1,000\n",
    "- • Employment Length(工作長短): 少於 1 年, 1 ~ 4年, 4 ~ 7年, 高於 7 年\n",
    "- • Sex/Marital Status(性別與婚姻): 男生/女生, 單身/離婚/已婚/鰥夫\n",
    "- • No of Credits at this bank(貸款數): 1, >1\n",
    "- • Guarantor(保人): None, Yes\n",
    "- • Concurrent Credits(其他貸款數): 其他銀行或百貨, None\n",
    "- • ForeignWorker (外國工作者)\n",
    "- • Purpose of Credit(貸款目的): New car, Used car, Home Related, Other\n",
    "\n",
    "預測目標\n",
    "- • Creditability (可信客戶): 1/0 "
   ]
  },
  {
   "cell_type": "markdown",
   "metadata": {},
   "source": [
    "請用Python 回答以下問題：\n",
    "\n",
    "1. 使用Pandas 將資料讀取到一名為 df 的 DataFrame 中\n",
    "2. 請使用Pandas 統計男女別的平均 Credit.Amount\n",
    "3. 請將資料分為訓練與測試資料集,其中訓練資料集占80%, 測試資料集占20%\n",
    "4. 請使用邏輯式迴歸建立模型 (目標 y 為 Creditability)\n",
    "5. 繼第4題,請計算出模型準確度(Accuracy)? \n",
    "6. 繼第5題,請求出混淆矩陣(Confusion Matrix)? "
   ]
  },
  {
   "cell_type": "markdown",
   "metadata": {},
   "source": [
    "## 作業五 (深度學習)"
   ]
  },
  {
   "cell_type": "markdown",
   "metadata": {},
   "source": [
    "當銀行收到貸款申請時，必須根據客戶的個人檔案決定是否應該要核准貸款\n",
    "\n",
    "- 如果客戶信用良好，批准貸款\n",
    "- 如果客戶信用較差，不批准貸款\n",
    "\n",
    "透過分析目的，可將低銀行風險、提升潛在獲利"
   ]
  },
  {
   "cell_type": "markdown",
   "metadata": {},
   "source": [
    "現有一資料集 Creditability (https://raw.githubusercontent.com/ywchiu/taipeifubon/master/data/Creditability.csv) \n",
    "\n",
    "包含客戶特徵\n",
    "- • Account Balance(帳戶餘額): 沒有帳號(1), 沒有餘額 (2), 部分存款 (3)\n",
    "- • Payment Status(付款狀況): 有問題 (1), 付清 (2), 於該銀行沒有問題(3)\n",
    "- • Savings/Stock Value (存款): 沒有, 少於 100, 100 ~ 1,000, 高於1,000\n",
    "- • Employment Length(工作長短): 少於 1 年, 1 ~ 4年, 4 ~ 7年, 高於 7 年\n",
    "- • Sex/Marital Status(性別與婚姻): 男生/女生, 單身/離婚/已婚/鰥夫\n",
    "- • No of Credits at this bank(貸款數): 1, >1\n",
    "- • Guarantor(保人): None, Yes\n",
    "- • Concurrent Credits(其他貸款數): 其他銀行或百貨, None\n",
    "- • ForeignWorker (外國工作者)\n",
    "- • Purpose of Credit(貸款目的): New car, Used car, Home Related, Other\n",
    "\n",
    "預測目標\n",
    "- • Creditability (可信客戶): 1/0 "
   ]
  },
  {
   "cell_type": "markdown",
   "metadata": {},
   "source": [
    "請用Python 回答以下問題：\n",
    "\n",
    "1. 使用Pandas 將資料讀取到一名為 df 的 DataFrame 中\n",
    "2. 請將資料分為訓練與測試資料集,其中訓練資料集占80%, 測試資料集占20%\n",
    "3. 請使用Keras 建立人工神經網路模型 (目標 y 為 Creditability)\n",
    "4. 請使用隨機森林建立分類模型 (目標 y 為 Creditability, 樹的數量為100)? \n",
    "5. 請繪製隨機森林模型與人工神經網路的 ROC Curve, 並比較兩者的 AUC?"
   ]
  },
  {
   "cell_type": "markdown",
   "metadata": {},
   "source": [
    "## 作業六 (PySpark)"
   ]
  },
  {
   "cell_type": "markdown",
   "metadata": {},
   "source": [
    "有一個金融業客戶流失紀錄的資料集\n",
    "\n",
    "https://github.com/ywchiu/taipeifubon/raw/master/data/customer_data.tsv\n",
    "\n",
    "資料是以tab 分隔，包含以下欄位\n",
    "\n",
    "|欄位名稱|中文敘述|\n",
    "|----------|----|\n",
    "|CustomerId|客戶ID|\n",
    "|Surname|姓氏| \n",
    "|CreditScore|信用分數| \n",
    "|Gender|性別| \n",
    "|Age|年紀| \n",
    "|Tenure|年資|\n",
    "|Balance|餘額| \n",
    "|NumOfProducts|購買多少產品| \n",
    "|HasCrCard|是否有信用卡| \n",
    "|IsActiveMember|是否為活耀客戶|\n",
    "|EstimatedSalary|預估薪資| \n",
    "|Exited|是否流失|"
   ]
  },
  {
   "cell_type": "markdown",
   "metadata": {},
   "source": [
    "1. 請試用pyspark 將資料讀取成一DataFrame?\n",
    "2. 請試用pyspark 計算在這文檔中有多少客戶(CustomerID)?\n",
    "3. 請算出所有客戶平均信用分數(CreditScore)?\n",
    "4. 請找出客戶姓氏(Surname)為H開頭的客戶擁有信用卡(HasCrCard == 1)的客戶數?\n",
    "5. 請計算客戶流失比例(Exited == 1 對上 客戶總數)?\n",
    "6. 請計算男性與女性(Gender)的平均薪資(Estimated Salary)?"
   ]
  }
 ],
 "metadata": {
  "kernelspec": {
   "display_name": "Python 3",
   "language": "python",
   "name": "python3"
  },
  "language_info": {
   "codemirror_mode": {
    "name": "ipython",
    "version": 3
   },
   "file_extension": ".py",
   "mimetype": "text/x-python",
   "name": "python",
   "nbconvert_exporter": "python",
   "pygments_lexer": "ipython3",
   "version": "3.6.2"
  }
 },
 "nbformat": 4,
 "nbformat_minor": 2
}
