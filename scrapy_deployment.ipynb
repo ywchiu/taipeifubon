{
 "cells": [
  {
   "cell_type": "markdown",
   "metadata": {},
   "source": [
    "## Deploy Scrapy"
   ]
  },
  {
   "cell_type": "markdown",
   "metadata": {},
   "source": [
    "### install scrapyd"
   ]
  },
  {
   "cell_type": "code",
   "execution_count": 1,
   "metadata": {},
   "outputs": [
    {
     "name": "stdout",
     "output_type": "stream",
     "text": [
      "Collecting scrapyd\n",
      "  Downloading scrapyd-1.2.1-py2.py3-none-any.whl (30 kB)\n",
      "Requirement already satisfied: Scrapy>=1.0 in /Users/davidchiu/.pyenv/versions/3.6.2/lib/python3.6/site-packages (from scrapyd) (1.5.1)\n",
      "Requirement already satisfied: six in /Users/davidchiu/.pyenv/versions/3.6.2/lib/python3.6/site-packages (from scrapyd) (1.14.0)\n",
      "Requirement already satisfied: Twisted>=8.0 in /Users/davidchiu/.pyenv/versions/3.6.2/lib/python3.6/site-packages (from scrapyd) (19.2.0)\n",
      "Requirement already satisfied: cssselect>=0.9 in /Users/davidchiu/.pyenv/versions/3.6.2/lib/python3.6/site-packages (from Scrapy>=1.0->scrapyd) (1.0.3)\n",
      "Requirement already satisfied: pyOpenSSL in /Users/davidchiu/.pyenv/versions/3.6.2/lib/python3.6/site-packages (from Scrapy>=1.0->scrapyd) (19.0.0)\n",
      "Requirement already satisfied: queuelib in /Users/davidchiu/.pyenv/versions/3.6.2/lib/python3.6/site-packages (from Scrapy>=1.0->scrapyd) (1.5.0)\n",
      "Requirement already satisfied: parsel>=1.1 in /Users/davidchiu/.pyenv/versions/3.6.2/lib/python3.6/site-packages (from Scrapy>=1.0->scrapyd) (1.5.0)\n",
      "Requirement already satisfied: lxml in /Users/davidchiu/.pyenv/versions/3.6.2/lib/python3.6/site-packages (from Scrapy>=1.0->scrapyd) (4.3.4)\n",
      "Requirement already satisfied: service-identity in /Users/davidchiu/.pyenv/versions/3.6.2/lib/python3.6/site-packages (from Scrapy>=1.0->scrapyd) (17.0.0)\n",
      "Requirement already satisfied: w3lib>=1.17.0 in /Users/davidchiu/.pyenv/versions/3.6.2/lib/python3.6/site-packages (from Scrapy>=1.0->scrapyd) (1.19.0)\n",
      "Requirement already satisfied: PyDispatcher>=2.0.5 in /Users/davidchiu/.pyenv/versions/3.6.2/lib/python3.6/site-packages (from Scrapy>=1.0->scrapyd) (2.0.5)\n",
      "Requirement already satisfied: incremental>=16.10.1 in /Users/davidchiu/.pyenv/versions/3.6.2/lib/python3.6/site-packages (from Twisted>=8.0->scrapyd) (17.5.0)\n",
      "Requirement already satisfied: Automat>=0.3.0 in /Users/davidchiu/.pyenv/versions/3.6.2/lib/python3.6/site-packages (from Twisted>=8.0->scrapyd) (0.7.0)\n",
      "Requirement already satisfied: zope.interface>=4.4.2 in /Users/davidchiu/.pyenv/versions/3.6.2/lib/python3.6/site-packages (from Twisted>=8.0->scrapyd) (4.6.0)\n",
      "Requirement already satisfied: constantly>=15.1 in /Users/davidchiu/.pyenv/versions/3.6.2/lib/python3.6/site-packages (from Twisted>=8.0->scrapyd) (15.1.0)\n",
      "Requirement already satisfied: hyperlink>=17.1.1 in /Users/davidchiu/.pyenv/versions/3.6.2/lib/python3.6/site-packages (from Twisted>=8.0->scrapyd) (19.0.0)\n",
      "Requirement already satisfied: PyHamcrest>=1.9.0 in /Users/davidchiu/.pyenv/versions/3.6.2/lib/python3.6/site-packages (from Twisted>=8.0->scrapyd) (1.9.0)\n",
      "Requirement already satisfied: attrs>=17.4.0 in /Users/davidchiu/.pyenv/versions/3.6.2/lib/python3.6/site-packages (from Twisted>=8.0->scrapyd) (19.3.0)\n",
      "Requirement already satisfied: cryptography>=2.3 in /Users/davidchiu/.pyenv/versions/3.6.2/lib/python3.6/site-packages (from pyOpenSSL->Scrapy>=1.0->scrapyd) (2.6.1)\n",
      "Requirement already satisfied: pyasn1 in /Users/davidchiu/.pyenv/versions/3.6.2/lib/python3.6/site-packages (from service-identity->Scrapy>=1.0->scrapyd) (0.4.5)\n",
      "Requirement already satisfied: pyasn1-modules in /Users/davidchiu/.pyenv/versions/3.6.2/lib/python3.6/site-packages (from service-identity->Scrapy>=1.0->scrapyd) (0.2.4)\n",
      "Requirement already satisfied: setuptools in /Users/davidchiu/.pyenv/versions/3.6.2/lib/python3.6/site-packages (from zope.interface>=4.4.2->Twisted>=8.0->scrapyd) (41.6.0)\n",
      "Requirement already satisfied: idna>=2.5 in /Users/davidchiu/.pyenv/versions/3.6.2/lib/python3.6/site-packages (from hyperlink>=17.1.1->Twisted>=8.0->scrapyd) (2.8)\n",
      "Requirement already satisfied: asn1crypto>=0.21.0 in /Users/davidchiu/.pyenv/versions/3.6.2/lib/python3.6/site-packages (from cryptography>=2.3->pyOpenSSL->Scrapy>=1.0->scrapyd) (0.24.0)\n",
      "Requirement already satisfied: cffi!=1.11.3,>=1.8 in /Users/davidchiu/.pyenv/versions/3.6.2/lib/python3.6/site-packages (from cryptography>=2.3->pyOpenSSL->Scrapy>=1.0->scrapyd) (1.12.2)\n",
      "Requirement already satisfied: pycparser in /Users/davidchiu/.pyenv/versions/3.6.2/lib/python3.6/site-packages (from cffi!=1.11.3,>=1.8->cryptography>=2.3->pyOpenSSL->Scrapy>=1.0->scrapyd) (2.19)\n",
      "Installing collected packages: scrapyd\n",
      "Successfully installed scrapyd-1.2.1\n"
     ]
    }
   ],
   "source": [
    "! pip install scrapyd"
   ]
  },
  {
   "cell_type": "markdown",
   "metadata": {},
   "source": [
    "### Running Scrapyd"
   ]
  },
  {
   "cell_type": "code",
   "execution_count": 2,
   "metadata": {},
   "outputs": [
    {
     "name": "stdout",
     "output_type": "stream",
     "text": [
      ":0: UserWarning: You do not have a working installation of the service_identity module: 'cannot import name 'verify_ip_address''.  Please install it from <https://pypi.python.org/pypi/service_identity> and make sure all of its dependencies are satisfied.  Without the service_identity module, Twisted can perform only rudimentary TLS client hostname verification.  Many valid certificate/hostname mappings may be rejected.\n",
      "2020-03-24T12:23:29+0800 [-] Loading /Users/davidchiu/.pyenv/versions/3.6.2/lib/python3.6/site-packages/scrapyd/txapp.py...\n",
      "2020-03-24T12:23:30+0800 [-] Scrapyd web console available at http://127.0.0.1:6800/\n",
      "2020-03-24T12:23:30+0800 [-] Loaded.\n",
      "2020-03-24T12:23:30+0800 [twisted.scripts._twistd_unix.UnixAppLogger#info] twistd 19.2.0 (/Users/davidchiu/.pyenv/versions/3.6.2/bin/python3.6 3.6.2) starting up.\n",
      "2020-03-24T12:23:30+0800 [twisted.scripts._twistd_unix.UnixAppLogger#info] reactor class: twisted.internet.selectreactor.SelectReactor.\n",
      "2020-03-24T12:23:30+0800 [-] Site starting on 6800\n",
      "2020-03-24T12:23:30+0800 [twisted.web.server.Site#info] Starting factory <twisted.web.server.Site object at 0x10f858748>\n",
      "2020-03-24T12:23:30+0800 [Launcher] Scrapyd 1.2.1 started: max_proc=32, runner='scrapyd.runner'\n",
      "2020-03-24T12:23:35+0800 [twisted.python.log#info] \"127.0.0.1\" - - [24/Mar/2020:04:23:34 +0000] \"GET / HTTP/1.1\" 200 699 \"http://localhost:8891/notebooks/Untitled2.ipynb?kernel_name=python3\" \"Mozilla/5.0 (Macintosh; Intel Mac OS X 10_14_6) AppleWebKit/537.36 (KHTML, like Gecko) Chrome/80.0.3987.149 Safari/537.36\"\n",
      "2020-03-24T12:23:35+0800 [twisted.python.log#info] \"127.0.0.1\" - - [24/Mar/2020:04:23:35 +0000] \"GET /favicon.ico HTTP/1.1\" 404 153 \"http://127.0.0.1:6800/\" \"Mozilla/5.0 (Macintosh; Intel Mac OS X 10_14_6) AppleWebKit/537.36 (KHTML, like Gecko) Chrome/80.0.3987.149 Safari/537.36\"\n",
      "^C\n",
      "2020-03-24T12:23:47+0800 [-] Received SIGINT, shutting down.\n",
      "2020-03-24T12:23:47+0800 [-] (TCP Port 6800 Closed)\n",
      "2020-03-24T12:23:47+0800 [twisted.web.server.Site#info] Stopping factory <twisted.web.server.Site object at 0x10f858748>\n",
      "2020-03-24T12:23:47+0800 [-] Main loop terminated.\n",
      "2020-03-24T12:23:47+0800 [twisted.scripts._twistd_unix.UnixAppLogger#info] Server Shut Down.\n"
     ]
    }
   ],
   "source": [
    "! scrapyd"
   ]
  },
  {
   "cell_type": "markdown",
   "metadata": {},
   "source": [
    "### Install scrapyd-client"
   ]
  },
  {
   "cell_type": "code",
   "execution_count": 3,
   "metadata": {},
   "outputs": [
    {
     "name": "stdout",
     "output_type": "stream",
     "text": [
      "Collecting scrapyd-client\n",
      "  Downloading scrapyd_client-1.1.0-py2.py3-none-any.whl (13 kB)\n",
      "Requirement already satisfied: Scrapy>=0.17 in /Users/davidchiu/.pyenv/versions/3.6.2/lib/python3.6/site-packages (from scrapyd-client) (1.5.1)\n",
      "Requirement already satisfied: six in /Users/davidchiu/.pyenv/versions/3.6.2/lib/python3.6/site-packages (from scrapyd-client) (1.14.0)\n",
      "Requirement already satisfied: w3lib>=1.17.0 in /Users/davidchiu/.pyenv/versions/3.6.2/lib/python3.6/site-packages (from Scrapy>=0.17->scrapyd-client) (1.19.0)\n",
      "Requirement already satisfied: cssselect>=0.9 in /Users/davidchiu/.pyenv/versions/3.6.2/lib/python3.6/site-packages (from Scrapy>=0.17->scrapyd-client) (1.0.3)\n",
      "Requirement already satisfied: Twisted>=13.1.0 in /Users/davidchiu/.pyenv/versions/3.6.2/lib/python3.6/site-packages (from Scrapy>=0.17->scrapyd-client) (19.2.0)\n",
      "Requirement already satisfied: queuelib in /Users/davidchiu/.pyenv/versions/3.6.2/lib/python3.6/site-packages (from Scrapy>=0.17->scrapyd-client) (1.5.0)\n",
      "Requirement already satisfied: parsel>=1.1 in /Users/davidchiu/.pyenv/versions/3.6.2/lib/python3.6/site-packages (from Scrapy>=0.17->scrapyd-client) (1.5.0)\n",
      "Requirement already satisfied: PyDispatcher>=2.0.5 in /Users/davidchiu/.pyenv/versions/3.6.2/lib/python3.6/site-packages (from Scrapy>=0.17->scrapyd-client) (2.0.5)\n",
      "Requirement already satisfied: service-identity in /Users/davidchiu/.pyenv/versions/3.6.2/lib/python3.6/site-packages (from Scrapy>=0.17->scrapyd-client) (17.0.0)\n",
      "Requirement already satisfied: pyOpenSSL in /Users/davidchiu/.pyenv/versions/3.6.2/lib/python3.6/site-packages (from Scrapy>=0.17->scrapyd-client) (19.0.0)\n",
      "Requirement already satisfied: lxml in /Users/davidchiu/.pyenv/versions/3.6.2/lib/python3.6/site-packages (from Scrapy>=0.17->scrapyd-client) (4.3.4)\n",
      "Requirement already satisfied: incremental>=16.10.1 in /Users/davidchiu/.pyenv/versions/3.6.2/lib/python3.6/site-packages (from Twisted>=13.1.0->Scrapy>=0.17->scrapyd-client) (17.5.0)\n",
      "Requirement already satisfied: zope.interface>=4.4.2 in /Users/davidchiu/.pyenv/versions/3.6.2/lib/python3.6/site-packages (from Twisted>=13.1.0->Scrapy>=0.17->scrapyd-client) (4.6.0)\n",
      "Requirement already satisfied: Automat>=0.3.0 in /Users/davidchiu/.pyenv/versions/3.6.2/lib/python3.6/site-packages (from Twisted>=13.1.0->Scrapy>=0.17->scrapyd-client) (0.7.0)\n",
      "Requirement already satisfied: PyHamcrest>=1.9.0 in /Users/davidchiu/.pyenv/versions/3.6.2/lib/python3.6/site-packages (from Twisted>=13.1.0->Scrapy>=0.17->scrapyd-client) (1.9.0)\n",
      "Requirement already satisfied: hyperlink>=17.1.1 in /Users/davidchiu/.pyenv/versions/3.6.2/lib/python3.6/site-packages (from Twisted>=13.1.0->Scrapy>=0.17->scrapyd-client) (19.0.0)\n",
      "Requirement already satisfied: constantly>=15.1 in /Users/davidchiu/.pyenv/versions/3.6.2/lib/python3.6/site-packages (from Twisted>=13.1.0->Scrapy>=0.17->scrapyd-client) (15.1.0)\n",
      "Requirement already satisfied: attrs>=17.4.0 in /Users/davidchiu/.pyenv/versions/3.6.2/lib/python3.6/site-packages (from Twisted>=13.1.0->Scrapy>=0.17->scrapyd-client) (19.3.0)\n",
      "Requirement already satisfied: pyasn1-modules in /Users/davidchiu/.pyenv/versions/3.6.2/lib/python3.6/site-packages (from service-identity->Scrapy>=0.17->scrapyd-client) (0.2.4)\n",
      "Requirement already satisfied: pyasn1 in /Users/davidchiu/.pyenv/versions/3.6.2/lib/python3.6/site-packages (from service-identity->Scrapy>=0.17->scrapyd-client) (0.4.5)\n",
      "Requirement already satisfied: cryptography>=2.3 in /Users/davidchiu/.pyenv/versions/3.6.2/lib/python3.6/site-packages (from pyOpenSSL->Scrapy>=0.17->scrapyd-client) (2.6.1)\n",
      "Requirement already satisfied: setuptools in /Users/davidchiu/.pyenv/versions/3.6.2/lib/python3.6/site-packages (from zope.interface>=4.4.2->Twisted>=13.1.0->Scrapy>=0.17->scrapyd-client) (41.6.0)\n",
      "Requirement already satisfied: idna>=2.5 in /Users/davidchiu/.pyenv/versions/3.6.2/lib/python3.6/site-packages (from hyperlink>=17.1.1->Twisted>=13.1.0->Scrapy>=0.17->scrapyd-client) (2.8)\n",
      "Requirement already satisfied: asn1crypto>=0.21.0 in /Users/davidchiu/.pyenv/versions/3.6.2/lib/python3.6/site-packages (from cryptography>=2.3->pyOpenSSL->Scrapy>=0.17->scrapyd-client) (0.24.0)\n",
      "Requirement already satisfied: cffi!=1.11.3,>=1.8 in /Users/davidchiu/.pyenv/versions/3.6.2/lib/python3.6/site-packages (from cryptography>=2.3->pyOpenSSL->Scrapy>=0.17->scrapyd-client) (1.12.2)\n",
      "Requirement already satisfied: pycparser in /Users/davidchiu/.pyenv/versions/3.6.2/lib/python3.6/site-packages (from cffi!=1.11.3,>=1.8->cryptography>=2.3->pyOpenSSL->Scrapy>=0.17->scrapyd-client) (2.19)\n",
      "Installing collected packages: scrapyd-client\n",
      "Successfully installed scrapyd-client-1.1.0\n"
     ]
    }
   ],
   "source": [
    "! pip install scrapyd-client"
   ]
  },
  {
   "cell_type": "code",
   "execution_count": 9,
   "metadata": {},
   "outputs": [
    {
     "name": "stdout",
     "output_type": "stream",
     "text": [
      "# Automatically created by: scrapy startproject\r\n",
      "#\r\n",
      "# For more information about the [deploy] section see:\r\n",
      "# https://scrapyd.readthedocs.io/en/latest/deploy.html\r\n",
      "\r\n",
      "[settings]\r\n",
      "default = tutorial.settings\r\n",
      "\r\n",
      "[deploy:demo]\r\n",
      "url = http://localhost:6800/\r\n",
      "project = tutorial\r\n",
      "\r\n"
     ]
    }
   ],
   "source": [
    "! cat tutorial/scrapy.cfg"
   ]
  },
  {
   "cell_type": "markdown",
   "metadata": {},
   "source": [
    "### View Deployment"
   ]
  },
  {
   "cell_type": "code",
   "execution_count": 12,
   "metadata": {},
   "outputs": [
    {
     "name": "stdout",
     "output_type": "stream",
     "text": [
      "demo                 http://localhost:6800/\r\n"
     ]
    }
   ],
   "source": [
    "! cd tutorial; scrapyd-deploy -l"
   ]
  },
  {
   "cell_type": "markdown",
   "metadata": {},
   "source": [
    "## Deploy Project"
   ]
  },
  {
   "cell_type": "code",
   "execution_count": 13,
   "metadata": {},
   "outputs": [
    {
     "name": "stdout",
     "output_type": "stream",
     "text": [
      "Packing version 1585024970\n",
      "Deploying to project \"tutorial\" in http://localhost:6800/addversion.json\n",
      "Server response (200):\n",
      "{\"node_name\": \"DaviddeMacBook-Pro.local\", \"status\": \"ok\", \"project\": \"tutorial\", \"version\": \"1585024970\", \"spiders\": 1}\n",
      "\n"
     ]
    }
   ],
   "source": [
    "! cd tutorial;  scrapyd-deploy demo -p tutorial"
   ]
  },
  {
   "cell_type": "markdown",
   "metadata": {},
   "source": [
    "### Check Service Status"
   ]
  },
  {
   "cell_type": "code",
   "execution_count": 22,
   "metadata": {},
   "outputs": [
    {
     "name": "stdout",
     "output_type": "stream",
     "text": [
      "{\"node_name\": \"DaviddeMacBook-Pro.local\", \"status\": \"ok\", \"pending\": 0, \"running\": 0, \"finished\": 0}\r\n"
     ]
    }
   ],
   "source": [
    "! curl http://localhost:6800/daemonstatus.json"
   ]
  },
  {
   "cell_type": "code",
   "execution_count": 24,
   "metadata": {},
   "outputs": [
    {
     "name": "stdout",
     "output_type": "stream",
     "text": [
      "{\"node_name\": \"DaviddeMacBook-Pro.local\", \"status\": \"ok\", \"jobid\": \"e078527e6d8b11eaa94d6c40088eacee\"}\r\n"
     ]
    }
   ],
   "source": [
    "! curl http://localhost:6800/schedule.json -d project=tutorial -d spider=money"
   ]
  },
  {
   "cell_type": "markdown",
   "metadata": {},
   "source": [
    "### View Job Status\n",
    "- http://127.0.0.1:6800/jobs"
   ]
  }
 ],
 "metadata": {
  "kernelspec": {
   "display_name": "Python 3",
   "language": "python",
   "name": "python3"
  },
  "language_info": {
   "codemirror_mode": {
    "name": "ipython",
    "version": 3
   },
   "file_extension": ".py",
   "mimetype": "text/x-python",
   "name": "python",
   "nbconvert_exporter": "python",
   "pygments_lexer": "ipython3",
   "version": "3.6.2"
  }
 },
 "nbformat": 4,
 "nbformat_minor": 2
}
